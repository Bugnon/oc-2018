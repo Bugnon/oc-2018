{
 "cells": [
  {
   "cell_type": "markdown",
   "metadata": {},
   "source": [
    "# Markdown, Wiki, Jupyter Notebook"
   ]
  },
  {
   "cell_type": "markdown",
   "metadata": {},
   "source": [
    "Auteur: Gaglio Pierre, Gymnase Bugnon site de l'ours, 3MOCINFO\n",
    "\n",
    "Date: Mai 2019"
   ]
  },
  {
   "cell_type": "markdown",
   "metadata": {},
   "source": [
    "## Markdown, qu'est-ce que c'est?"
   ]
  },
  {
   "cell_type": "markdown",
   "metadata": {},
   "source": [
    "Markdown est un un langage dit de **balisage léger** qui a été crée en 2004 par John Gruber et Aaron Swartz. Cela veut dire que c'est **un langage avec une syntaxe simple**, conçu pour être saisi avec un éditeur de texte simple ainsi que **facile à lire sous forme non formatée**. Ce langage a été inspiré par le format **courrier éléctrique** en mode texte. Un document balisé sous Markdown est possiblement convertissable sous format HTML ainsi que PDF ou sous autres formats.\n",
    "\n",
    "Markdown n'a pas subi d'évolutions par ses auteurs depuis sa création et **n'a pas été standardisé de manière claire**. Cependant, ce langage a été développé sous différentes variantes qui sont encore maintenant utilisées tel que *Multimarkdown*, qui rajoute des fonctionnalités tel que les fonctions mathématiques, les tableaux ou encore les attributs d'images, ainsi que *Github Flavored Markdown*, qui est la version utilisée par le site du même nom **Github**."
   ]
  },
  {
   "cell_type": "markdown",
   "metadata": {},
   "source": [
    "## Balises Markdown"
   ]
  },
  {
   "cell_type": "markdown",
   "metadata": {},
   "source": [
    "Maintenant que nous connaissons ce qu'est *Markdown*, nous allons passer aux différentes balises proposées par la version *Github Flavored Markdown*. Ce choix est fait arbitrairement en conséquence à notre travail effectué tout au long de l'année qui s'est déroulé avec **Github**. "
   ]
  },
  {
   "cell_type": "markdown",
   "metadata": {},
   "source": [
    "### Table des matières\n",
    "\n",
    "1. Titres\n",
    "2. Gras, Italique, Barré\n",
    "3. Listes\n",
    "4. Liens, Images\n",
    "5. Code, Syntaxe\n",
    "6. Tableaux\n",
    "7. Citations\n",
    "8. Sauts de Page"
   ]
  },
  {
   "cell_type": "markdown",
   "metadata": {},
   "source": [
    "### 1. Titres\n",
    "\n",
    "Avec *Markdown* vous pouvez simplement créer des titres de manière symple en ajoutant des `#` suivi d'un espace. Le langage vous permet aussi de créer différents niveaux de titre en ajoutant un `#` pour chaque sous-titre. Vous pouvez créer jusqu'à 6 niveaux de titres, voilà donc la correspondance de l'écriture en fonction des titres possibles."
   ]
  },
  {
   "cell_type": "markdown",
   "metadata": {},
   "source": [
    "**EXEMPLE**\n",
    "```\n",
    "# Titre1\n",
    "## Titre2\n",
    "### Titre3\n",
    "#### Titre4\n",
    "##### Titre5\n",
    "###### Titre6\n",
    "```\n",
    "Le *Titre1* et le *Titre2* peuvent aussi être écrits ainsi:\n",
    "```\n",
    "Titre1\n",
    "=====\n",
    "\n",
    "Titre2\n",
    "-----\n",
    "```"
   ]
  },
  {
   "cell_type": "markdown",
   "metadata": {},
   "source": [
    "# Titre1\n",
    "## Titre2\n",
    "### Titre3\n",
    "#### Titre4\n",
    "##### Titre5\n",
    "###### Titre6\n",
    "\n",
    "Voici le résultat pour les secondes possibilités d'écriture du *Titre1* et du *Titre2*:\n",
    "Titre1\n",
    "=====\n",
    "Titre2\n",
    "-----"
   ]
  },
  {
   "cell_type": "markdown",
   "metadata": {},
   "source": [
    "### 2. Gras, Italique, Barré\n",
    "Il est possible d'utiliser 3 accentuations différentes avec *Markdown*: \n",
    "* Pour mettre votre texte en gras, il vous suffira d'ajouter deux `*` au début et à la fin de votre texte..\n",
    "* Pour mettre votre texte en italique, il vous faudra ajouter, cette fois, qu'une seule `*` au début et à la fin de votre texte.\n",
    "* Pour mettre votre texte en barré, il vous suffit suffira simplement de mettre deux `~`au début et à la fin de votre texte.\n",
    "\n",
    "**Pour ces 3 accentuations, vous devrez faire attention à ne pas laisser d'espace entre votre premier mot où vous voulez que l'accentuation se mette et le symbole nécessaire pour faire l'accentuation (voir exemple).**\n",
    "\n",
    "Note: Il est également possible de remplacer les `*`pour le **gras** et l'**italique** par des `_`."
   ]
  },
  {
   "cell_type": "markdown",
   "metadata": {},
   "source": [
    "**EXEMPLE**\n",
    "```\n",
    "**Accentuation en gras** ou __Accentuation en gras__\n",
    "*Accentuation en italique* ou _Accentuation en italique_\n",
    "~~Accentuation en barré~~\n",
    "```"
   ]
  },
  {
   "cell_type": "markdown",
   "metadata": {},
   "source": [
    "**Accentuation en gras** ou __Accentuation en gras__\n",
    "\n",
    "*Accentuation en italique* ou _Accentuation en italique_\n",
    "\n",
    "~~Accentuation en barré~~"
   ]
  },
  {
   "cell_type": "markdown",
   "metadata": {},
   "source": [
    "### 3. Listes"
   ]
  },
  {
   "cell_type": "markdown",
   "metadata": {},
   "source": [
    "Il est possible de créer deux types de listes avec ce langage, les listes à puces indifférenciées et les listes à puces numérotées.\n",
    "\n",
    "* Pour le premier les listes indifférenciées, il vous faudra simplement insérer une `*` avant chaque objet de la liste.\n",
    "* Pour les listes numérotées, il vous faudra insérer, cette fois, le numéro de l'objet de la liste suivi d'un `.`.\n",
    "\n",
    "Il est possible aussi d'imbriquer des listes dans des listes en rajoutant 4 espaces (ou une tabulation) avec votre début de ligne (voir exemple).\n",
    "\n",
    "**Il est important de bien laisser un espace après l'`*` ou le numéro avec son `.` afin que celà crée un liste (voir exemple):**\n",
    "\n",
    "Note: Il est également possible de remplacer les `*`, pour les listes indifférenciées, par des `+`ou des `-`."
   ]
  },
  {
   "cell_type": "markdown",
   "metadata": {},
   "source": [
    "**EXEMPLE**\n",
    "```\n",
    "* Objet1\n",
    "+ Objet2\n",
    "- Objet3\n",
    "    * Objet3.1\n",
    "    + Objet3.2\n",
    "    - Objet3.3\n",
    "\n",
    "1. Objet1\n",
    "2. Objet2\n",
    "3. Objet3\n",
    "    1. Objet3.1\n",
    "    2. Objet3.2\n",
    "    3. Objet3.3\n",
    "```"
   ]
  },
  {
   "cell_type": "markdown",
   "metadata": {},
   "source": [
    "* Objet1\n",
    "+ Objet2\n",
    "- Objet3\n",
    "    * Objet3.1\n",
    "    + Objet3.2\n",
    "    - Objet3.3"
   ]
  },
  {
   "cell_type": "markdown",
   "metadata": {},
   "source": [
    "1. Objet1\n",
    "2. Objet2\n",
    "3. Objet3\n",
    "    1. Objet3.1\n",
    "    2. Objet3.2\n",
    "    3. Objet3.3"
   ]
  },
  {
   "cell_type": "markdown",
   "metadata": {},
   "source": [
    "**Attention**, il n'est pas possible sous *Jupyter Notebook* de faire une liste numérotée et indifférente dans la même cellule. La seconde liste prendre les propriétés de la première."
   ]
  },
  {
   "cell_type": "markdown",
   "metadata": {},
   "source": [
    "### 4. Liens, Images\n",
    "\n",
    "Il existe plusieurs possibilités pour référencer un lien ou une image à travers votre texte en *Markdown*.\n",
    "1. Vous pouvez lier un texte à un lien, ce qui fait que lors d'un *click* sur ce texte lié, vous serez menés au lien. Pour ce faire, vous devez mettre votre texte entre `[]` suivi de votre lien entre `()`.\n",
    "     * Il vous est possible aussi de donner un titre à votre lien ce qui fera que lors du passage de votre souris sur le texte lié, vous verrez apparaître un titre. Pour se faire, il faudra rajouter des `\"\"`dans vos `()` après votre lien. Vous n'aurez plus qu'à y écrire le titre entre les `\"\"`.\n",
    "2. Vous pouvez définir un lien référenciel entre `[]` au début ou à la fin de votre texte et le utiliser pour chaque texte que vous voulez lier à ce lien. Une fois le lien référenciel crée, il vous faudra écrire votre texte entrre `[]`suivi du nom référenciel de votre lien entre `[]`. Il est possible de référencier vos liens avec des numéros.\n",
    "3. Vous pouvez aussi simplement mettre votre texte entre `[]` sans lier de lien et définir que le texte mis entre `[]` amènera à un lien directement. (cela permet de ne pas faire des longueurs de répétitions)\n",
    "4. Finalement, si vous voulez simplement mettre votre lien, vous pouvez le mettre sous forme brute ou encore entre `<>`.\n",
    "\n",
    "Pour ce qui est des images, le principe est le même que pour la manière 1. et 2. porposées pour les liens. La seule différence pour que l'image s'affiche est qu'il faut rajouter un `!` collé devant les `[]` de votre texte lié. \n",
    "\n",
    "**Veuillez prêter attention à ne pas laisser d'espace entre vos `[]` et vos `()`.**\n",
    "\n",
    "Note: Pour créer votre référenciel, mettez le nom de celui-ci entre `[]` suivi de `:`, puis d'un espace et finalement de votre lien."
   ]
  },
  {
   "cell_type": "markdown",
   "metadata": {},
   "source": [
    "**EXEMPLE**\n",
    "```\n",
    "[GitHub](https://github.com/)\n",
    "[Google](https://www.google.com/ \"Page d'acceuil Google\")\n",
    "[YouTube][raccourci]\n",
    "[Google Translate][1]\n",
    "[Gymnase Bugnon Ours]\n",
    "https://www.google.com/\n",
    "<https://www.google.com/>\n",
    "![logo-github.jpg](attachment:logo-github.jpg)\n",
    "![bugnon-ours.png][logo-bugnon-ours]\n",
    "\n",
    "[raccourci]: https://www.youtube.com/\n",
    "[1]: http://translate.google.com/\n",
    "[Gymnase Bugnon Ours]: http://www.gymnasedubugnon.ch/spip/\n",
    "[logo-bugnon-ours]: attachment:bugnon-ours.png\n",
    "```"
   ]
  },
  {
   "attachments": {
    "bugnon-ours.png": {
     "image/png": "[encoded data removed]"
    },
    "logo-github.jpg": {
     "image/jpeg": "[encoded data removed]"
    }
   },
   "cell_type": "markdown",
   "metadata": {},
   "source": [
    "[GitHub](https://github.com/)\n",
    "\n",
    "[Google](https://www.google.com/ \"Page d'acceuil Google\")\n",
    "\n",
    "[YouTube][raccourci]\n",
    "\n",
    "[Google Translate][1]\n",
    "\n",
    "[Gymnase Bugnon Ours]\n",
    "\n",
    "https://www.google.com/\n",
    "\n",
    "<https://www.google.com/>\n",
    "\n",
    "![logo-github.jpg](attachment:logo-github.jpg)\n",
    "\n",
    "![bugnon-ours.png][logo-bugnon-ours]\n",
    "\n",
    "[raccourci]: https://www.youtube.com/\n",
    "[1]: http://translate.google.com/\n",
    "[Gymnase Bugnon Ours]: http://www.gymnasedubugnon.ch/spip/ \n",
    "[logo-bugnon-ours]: attachment:bugnon-ours.png"
   ]
  },
  {
   "cell_type": "markdown",
   "metadata": {},
   "source": [
    "### 5. Code, Syntax\n",
    "Il est possible d'insérer un code de deux manières différentes: Le code imbriqué et le code en bloc.\n",
    "* Pour imbriquer un bout de code, il vous suffit de rajouter un ` au début et à la fin de votre texte-code.\n",
    "* Pour avoir un bloc de code, il vous suffit simplement de rajouter trois fois un ` au début et à la fin de votre bout texte-code."
   ]
  },
  {
   "cell_type": "markdown",
   "metadata": {},
   "source": [
    "**EXEMPLE**\n",
    "\n",
    "```\n",
    "ce `code est imbriqué` dans un texte.\n",
    "\n",
    "```"
   ]
  },
  {
   "cell_type": "markdown",
   "metadata": {},
   "source": [
    "ce `code est imbriqué` dans un texte.\n",
    "\n",
    "Il est compliqué de montrer la structure d'un bloc de code, c'est pourquoi je ne pourrai pas le démontrer.\n",
    "\n",
    "Il est aussi possible de faire afficher, pour certains langages *Markdown*, les codes avec leur syntaxe de langage pour les blocs de code. Pour cela il vous faudra rajouter le type de langage après les trois ` au début."
   ]
  },
  {
   "cell_type": "markdown",
   "metadata": {},
   "source": [
    "**EXEMPLE**\n",
    "\n",
    "Affichage syntaxique du code python\n",
    "```python\n",
    "x = \"Syntaxe de Python\"\n",
    "print x\n",
    "```"
   ]
  },
  {
   "cell_type": "markdown",
   "metadata": {},
   "source": [
    "### 6. Tableaux\n",
    "Certaines versions de *Markdown* comme la version utilisée par **GitHub** permettent de créer des tableaux. Pour ce faire, il vous faudra ajouter à vos débuts et aux intersections de votre tableau des `|` ainsi que des `-` à la ligne en dessous de votre ligne des titres. Il n'est pas nécessaire d'aligner vos colonnes lors de l'écriture de même que les `|` sont optionnels au début et à la fin , cependant cela rend moins facile à lire en *Markdown*.\n",
    "\n",
    "**Veillez à bien laisser au moins un espace entre les `|` et votre texte au début et à la fin.**"
   ]
  },
  {
   "cell_type": "markdown",
   "metadata": {},
   "source": [
    "**EXEMPLE**\n",
    "```\n",
    "| Titres | Colonne1 | Colonne2 |\n",
    "| -------| ---------| ---------|\n",
    "| Ligne1 | a        | 1        |\n",
    "| Ligne2 | b        | 2        |\n",
    "| Ligne3 | c        | 3        |\n",
    "```"
   ]
  },
  {
   "cell_type": "markdown",
   "metadata": {},
   "source": [
    "| Titres | Colonne1 | Colonne2 |\n",
    "| -------| ---------| ---------|\n",
    "| Ligne1 | a        | 1        |\n",
    "| Ligne2 | b        | 2        |\n",
    "| Ligne3 | c        | 3        |"
   ]
  },
  {
   "cell_type": "markdown",
   "metadata": {},
   "source": [
    "### 7. Citations\n",
    "Si vous avez besoin de citer, il existe un moyen de le faire en *Markdown*. Pour ce faire, il vous faudra tout simplement ajouter un symbole `>` devant chacunes de vos lignes de citations.\n",
    "\n",
    "**Il faut faire attention à bien laisser un espace entre les symbole `>` et le début de votre citation.**"
   ]
  },
  {
   "cell_type": "markdown",
   "metadata": {},
   "source": [
    "**EXEMPLE**\n",
    "```\n",
    "> citation1\n",
    "\n",
    "> citation2\n",
    "\n",
    "texte basique\n",
    "\n",
    "> citation3\n",
    "```"
   ]
  },
  {
   "cell_type": "markdown",
   "metadata": {},
   "source": [
    "> citation1\n",
    "\n",
    "> citation2\n",
    "\n",
    "texte basique\n",
    "\n",
    "> citation3"
   ]
  },
  {
   "cell_type": "markdown",
   "metadata": {},
   "source": [
    "### 8. Sauts de Page\n",
    "Finalement, il est possible d'insérer des sauts de pages avec le langage *Markdown*. Pour ce faire, il vous faudra sauter non pas une, mais deux lignes, c'est-à-dire qu'entre chaque ligne de texte, il faudra une ligne blanche."
   ]
  },
  {
   "cell_type": "markdown",
   "metadata": {},
   "source": [
    "**EXEMPLE**\n",
    "```\n",
    "Texte1\n",
    "\n",
    "Texte2\n",
    "```"
   ]
  },
  {
   "cell_type": "markdown",
   "metadata": {},
   "source": [
    "Texte1\n",
    "\n",
    "Texte2"
   ]
  },
  {
   "cell_type": "markdown",
   "metadata": {},
   "source": [
    "## Wiki, qu'est-ce que c'est?"
   ]
  },
  {
   "attachments": {
    "liens-markdown.PNG": {
     "image/png": "[encoded data removed]"
    }
   },
   "cell_type": "markdown",
   "metadata": {},
   "source": [
    "Le **Wiki** est un système qui permet de mettre en collaboration la création ainsi que la modification de pages collective afin de créer un registre. C'est une application qui utilise un **langage de balisage** tel que **Markdown**, qui a été expliqué ci-dessus et qui est modifiables par **un navigateur web**. Cette application grandit au fur et à mesure de l'apport des utilisateurs. Une illustration de la chose la plus connue est le site **[Wikipedia](https://fr.wikipedia.org/ \"Page d'acceuil Wikipedia\")** qui est le plus grand site de recensement d'informations au monde.\n",
    "\n",
    "Afin de rendre la chose plus compréhensible, je vous propose de montrer un cas concret. Pour ce faire, nous allons prendre l'exemple du **[Wiki](https://github.com/Bugnon/oc-2018/wiki \"Page d'acceuil Wiki OC-2018\") mis en place pour le projet Thymio de la classe OCINFO2018**.\n",
    "\n",
    "Lorsque nous arrivons sur la page d'acceuil, nous voyons une quantité de pages. Ces pages constituent le Wiki de l'oc-2018. Allons maintenant sur la page nommée *[2.1 couleurs](https://github.com/Bugnon/oc-2018/wiki/couleurs)*. Nous arrivons donc sur la page où il est expliqué le fonctionnement des couleurs du robot *Thymio*. En haut de la page, nous avons trois proposition de direction sur d'autres pages:\n",
    "\n",
    "![liens-markdown.PNG](attachment:liens-markdown.PNG)\n",
    "\n",
    "Si nous cliquons sur l'un des trois liens, nous sommes dirigés sur une page portant le nom du lien vers lequel nous sommes envoyés. Cependant, si aucun lien portant le nom de la direction existe, nous serons alors dirigés vers une nouvelle page créee portant le nom de la direction.\n",
    "\n",
    "**Exemple**\n",
    "\n",
    "`[précédent](avancer-jusque-au-mur) | [Home](Home) | [suivant](vitesse-max)` voilà ce qui est écrit en *Markdown* pour les choix de direction de la page *[2.1 couleurs](https://github.com/Bugnon/oc-2018/wiki/couleurs)*. Si il n'existait pas de page nommée `avancer-jusque-au-mur`, `Home` ou `vitesse-max`, alors nous serions dirigés vers une page vierge tout nouvellement créee pour cet effet.\n",
    "\n",
    "Si il existe une page qui porte le nom prévu, alors nous serons dirigés sur cette page. Cependant, il se peut que la page change de nom, ce qui rendra le lien caduc. De ce fait, le lien ne vous mènera plus vers la page qui a changé de nom, mais vous dirigera, comme dit précédemment, *vers une page vierge tout nouvellement créee pour cet effet.*"
   ]
  },
  {
   "cell_type": "markdown",
   "metadata": {},
   "source": [
    "## Jupyter Notebook, qu'est-ce que c'est?"
   ]
  },
  {
   "attachments": {
    "barre_tache_JN.PNG": {
     "image/png": "[encoded data removed]"
    }
   },
   "cell_type": "markdown",
   "metadata": {},
   "source": [
    "**Jupyter Notebook** est une application qui permet de partager son code ainsi que de l'exécuter dans une même interface. Il permet de visualiser les résultats d'un code, d'y ajouter des remarques et des explications. Il rassemble plus de 40 langages différents. C'est tout simplement une application de présentation d'un travail. Le logiciel permet de différencier le code du commentaire/explication grâce à des cellules.\n",
    "\n",
    "En effet, il est possible (et recommendé) de composer un document *Jupyter Notebook* grâce à des cellules *\"jouant un rôle différent\"*. Pour ce faire, il est possible de créer des cellules directement grâce à la barre de tâche:\n",
    "\n",
    "![barre_tache_JN.PNG](attachment:barre_tache_JN.PNG)\n",
    "\n",
    "Puis, il est possible de choisir le type de la cellulegrâce au menu dépliant se situant en dessous de l'option *Help*.\n",
    "\n",
    "\n",
    "Il existe naturellement des racourcis afin d'accélérer la rédaction d'un document *Jupyter Notebook* dont en voici certaines:\n",
    "\n",
    "| Touches       | Correspondance de la touche                                                                  |\n",
    "|:------------- |:---------------------------------------------------------------------------------------------|\n",
    "| Enter         | Permet de rentrer dans une cellule si on est dans le mode de visualisation générale/commande |\n",
    "| Esc           | Permet de sortir de la cellule séléctionnée                                                  |\n",
    "| Shift + Enter | Permet d'exécuter l'édition de la cellule séléctionnée                                       |\n",
    "\n",
    "**TOUCHES EN MODE COMMANDE**\n",
    "\n",
    "| Touches | Correspondance de la touche                                      |\n",
    "| :--------| :---------------------------------------------------------------|\n",
    "| M       | Permet de changer la cellule sélectionnée en écriture *Markdown* |\n",
    "| Y       | Permet de changer la cellule sélectionnée en écriture *code*     |\n",
    "| 1       | Met la cellule en titre de niveau 1                              |\n",
    "| 2       | Met la cellule en titre de niveau 2                              |\n",
    "| 3       | Met la cellule en titre de niveau 3                              |\n",
    "| A       | Insère une cellule au dessus                                     |\n",
    "| B       | Insère une cellule en dessous                                    |\n",
    "| X       | Coupe la cellule sélectionnée                                    |\n",
    "| C       | Copie la cellule sélectionnée                                    |\n",
    "| V       | Colle la cellule copiée                                          |"
   ]
  },
  {
   "cell_type": "markdown",
   "metadata": {},
   "source": [
    "### LaTex\n",
    "**Jupyter Notebook** bénéficie du langage *Markdown* ainsi que du langage *LaTeX* afin de laisser l'utilisateur s'exprimer au mieux avec l'accentuation d'informations, la liaison d'un texte à une image ou un lin, l'affichage d'images, de tableaux (grâce à *Markdown*) ou encore d'exposer des formules utilisées dans le code (grâce à *LateX*). Pour ce faire, il vous faudra ajouter un `$` au début et à la fin de votre formule. Si vous voulez centrer votre formule, il vous suffira simplement de mettre deux `$` au début et à la fin de la formule.\n",
    "\n",
    "Voici quelques formules accessibles grâce à *LaTeX*:\n",
    "* Addition: `$$x=1+2$$`\n",
    "\n",
    "$$x=1+2$$\n",
    "\n",
    "* Soustraction: `$$x=1-2$$`\n",
    "\n",
    "$$x=1-2$$\n",
    "\n",
    "* Multiplication: `$$x=1\\times2$$`\n",
    "\n",
    "$$x=1\\times2$$\n",
    "\n",
    "* Fraction/Division: `$$x=\\frac{a}{b}$$`\n",
    "\n",
    "$$x=\\frac{a}{b}$$\n",
    "\n",
    "* Intégraltion: `$$\\displaystyle \\int_{a}^{b} f(x) \\, \\mathrm{d}x$$`\n",
    "\n",
    "$$\\displaystyle \\int_{a}^{b} f(x) \\, \\mathrm{d}x$$\n",
    "\n",
    "* Indices: `$$ X_{indice} $$`\n",
    "\n",
    "$$ X_{indice} $$\n",
    "\n",
    "* exposants: `$$ X^{exposant}$$ ` \n",
    "\n",
    "$$ X^{exposant}$$ \n",
    "\n",
    "* Matrices: `$$ \\begin{pmatrix} a&b \\\\ c&d \\end{pmatrix}$$` \n",
    "\n",
    "$$ \\begin{pmatrix} a&b \\\\ c&d \\end{pmatrix}$$\n",
    "\n",
    "* Sommes: `$$ \\displaystyle { \\sum_{départ}^{arrivée}} somme$$` \n",
    "\n",
    "$$ \\displaystyle { \\sum_{départ}^{arrivée}} somme$$"
   ]
  }
 ],
 "metadata": {
  "kernelspec": {
   "display_name": "Python 2",
   "language": "python",
   "name": "python2"
  },
  "language_info": {
   "codemirror_mode": {
    "name": "ipython",
    "version": 2
   },
   "file_extension": ".py",
   "mimetype": "text/x-python",
   "name": "python",
   "nbconvert_exporter": "python",
   "pygments_lexer": "ipython2",
   "version": "2.7.16"
  }
 },
 "nbformat": 4,
 "nbformat_minor": 2
}
