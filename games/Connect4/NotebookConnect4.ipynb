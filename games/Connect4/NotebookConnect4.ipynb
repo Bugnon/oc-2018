{
 "cells": [
  {
   "cell_type": "markdown",
   "metadata": {},
   "source": [
    "# Connect 4 sur un SenseHat\n",
    "---"
   ]
  },
  {
   "cell_type": "markdown",
   "metadata": {},
   "source": [
    "## Introduction\n",
    "\n",
    "### Règles du Jeu\n",
    "\n",
    "Le Connect 4, Four in a Row, ou Puissance 4 en français est un jeu se déroulant sur une grille de 6 rangées et 7 colonnes. En insérant tour à tour un jeton coloré dans la dernière rangée, qui tombe ensuite dans le plus bas emplacement disponible, les joueurs tentent d'avoir quatre jetons de leur couleur alignés horizontalement, verticalement, ou diagonalement.\n",
    "Si toutes les cases sont remplies sans gagnant, la partie est déclarée nulle. "
   ]
  },
  {
   "cell_type": "markdown",
   "metadata": {},
   "source": [
    "### Mise en place sur SenseHat\n",
    "\n",
    "L'écran du SenseHat étant fait de 8\\*8 pixels, il a été décidé d'utiliser cette surface de la manière suivante :\n",
    "- Une **zone de jeu**, de 6*7 pixels bleus\n",
    "- Un espace de sélection, avec un **curseur** de la couleur du joueur en train de jouer\n",
    "\n",
    "\n",
    "![6\\*7 Playing Field](https://github.com/Bugnon/oc-2018/blob/master/games/Connect4/img/jupyter%201.png?raw=true)"
   ]
  },
  {
   "cell_type": "markdown",
   "metadata": {},
   "source": [
    "## Installation"
   ]
  },
  {
   "cell_type": "markdown",
   "metadata": {},
   "source": [
    "### 1. Importer SenseHat & autres modules\n",
    "\n",
    "La première étape de la programmation de ce jeu est l'importation du module Sense_Hat afin de pouvoir communiquer avec le SenseHat."
   ]
  },
  {
   "cell_type": "code",
   "execution_count": 18,
   "metadata": {},
   "outputs": [],
   "source": [
    "from sense_hat import SenseHat\n",
    "#from sense_emu import SenseHat\n",
    "from time import sleep, time\n",
    "from gamelib import *\n",
    "\n",
    "sense = SenseHat()"
   ]
  },
  {
   "cell_type": "markdown",
   "metadata": {},
   "source": [
    "```from sense_hat import SenseHat``` permet l'intéraction avec le module SenseHat. <br/>\n",
    "```#from sense_emu import SenseHat``` permet d'utiliser l'émulateur SenseHat si la ligne est décommentée <br/>\n",
    "```from time import sleep, time``` permet d'utiliser la fonction sleep(time) afin de pouvoir ralentir le programme <br/>\n",
    "```from gamelib import *``` importe les couleurs de ```gamelib``` <br/>\n",
    "<br/>\n",
    "```sense = SenseHat()``` permet d'appeler les fonctions liées au SenseHat. "
   ]
  },
  {
   "cell_type": "markdown",
   "metadata": {},
   "source": [
    "### 2. Définir et initialiser les variables générales\n",
    "\n",
    "Ces variables seront cruciales au bon fonctionnement du jeu. \n",
    "\n",
    "\n"
   ]
  },
  {
   "cell_type": "code",
   "execution_count": 19,
   "metadata": {},
   "outputs": [],
   "source": [
    "repeat = 1  # Repeats the program if launched as standalone\n",
    "playerScore = [0, 0]  # Score of the players\n",
    "turns = 0  # Amount of turns passed\n",
    "gameOver = 0  # Is the game over?\n",
    "stopGame = 0  # =1 makes main() stop the game\n",
    "\n",
    "# Creates two lists of 4 pixels to make winning streaks detection easier\n",
    "fourYellow = [[248, 252, 0]] * 4\n",
    "fourRed = [[248, 0, 0]] * 4\n",
    "\n",
    "# Puts BLUE, RED and YELLOW from gamelib into a list\n",
    "colors = (BLUE, RED, YELLOW)"
   ]
  },
  {
   "cell_type": "markdown",
   "metadata": {},
   "source": [
    "### 3. Fonction ```main()```\n",
    "\n",
    "La fonction ```main()``` est la fonction principale du jeu, qui le fait démarrer, continuer, où l'arrête."
   ]
  },
  {
   "cell_type": "code",
   "execution_count": 20,
   "metadata": {},
   "outputs": [],
   "source": [
    "def main():\n",
    "    \"\"\"\n",
    "    Main function, initialises the game, starts it, and stops it when needed.\n",
    "    \"\"\"\n",
    "    global gameOver\n",
    "    global playerScore\n",
    "    global stopGame\n",
    "    global turns\n",
    "    turns = 0  # Resets the turns passed\n",
    "    # Stops the game if a player has 2 points or if stop_game() set\n",
    "    # stopGame to 1 and the game is supposed to stop now\n",
    "    if (\n",
    "        repeat == 0 and\n",
    "        (playerScore[0] == 2 or playerScore[1] == 2 or stopGame == 1)\n",
    "    ):\n",
    "        stopGame = 0  # Resets stopGame\n",
    "        gameOver = 0  # Resets gameOver\n",
    "        return\n",
    "    # If the game should continue, resets gameOver and playerScore to 0\n",
    "    else:\n",
    "        gameOver = 0  # Resets gameOver\n",
    "        if playerScore[0] == 2 or playerScore[1] == 2 or stopGame == 1:\n",
    "            stopGame = 0  # Resets stopGame\n",
    "            playerScore = [0, 0]  # Resets the playerScore\n",
    "        show()  # Resets the display for a new game\n",
    "        turn()  # Starts a new turn"
   ]
  },
  {
   "cell_type": "markdown",
   "metadata": {},
   "source": [
    "Le morceau de code <br/>\n",
    "```\n",
    "if (\n",
    "        repeat == 0 and\n",
    "        (playerScore[0] == 2 or playerScore[1] == 2 or stopGame == 1)\n",
    "    ):\n",
    "```\n",
    "est indenté spécialement pour suivre le standard PEP8 tout en ne faisant pas plus de 79 caractères de long."
   ]
  },
  {
   "cell_type": "markdown",
   "metadata": {},
   "source": [
    "La fonction ```main()``` appèle les fonctions ```show()``` et ```turn()```, décrites ci-dessous en sections 4. et 5."
   ]
  },
  {
   "cell_type": "markdown",
   "metadata": {},
   "source": [
    "### 4. Fonction ```show()```\n",
    "La fonction ```show()``` réinitialise l'affichage, puis y créé la zone de jeu en bleu de 6\\*7 pixels."
   ]
  },
  {
   "cell_type": "code",
   "execution_count": 21,
   "metadata": {},
   "outputs": [],
   "source": [
    "def show():\n",
    "    \"\"\"\n",
    "    Sets up the playing field : 6*7 blue pixels\n",
    "    \"\"\"\n",
    "    sense.clear()  # Resets the pixels\n",
    "    # Creates the 6*7 blue playing field\n",
    "    for y in range(6):\n",
    "        for x in range(7):\n",
    "            sense.set_pixel(x, 7-y, colors[0])"
   ]
  },
  {
   "cell_type": "markdown",
   "metadata": {},
   "source": [
    "### 5. Fonction ```turn()```\n",
    "La fonction ```turn()``` gère les tours, appèle la fonction ```select_column(p)``` pour que le joueur `p` sélectionne où placer son jeton, et cause un match nul si toutes les cases sont pleines (42 tours écoulés). "
   ]
  },
  {
   "cell_type": "code",
   "execution_count": 22,
   "metadata": {},
   "outputs": [],
   "source": [
    "def turn():\n",
    "    \"\"\"\n",
    "    Decides whose turn it is, then calls select_column(p) to allow the player p\n",
    "    to make their selection\n",
    "    \"\"\"\n",
    "    global turns\n",
    "    if gameOver == 0:  # Checks that the game isn't over\n",
    "        if turns % 2 == 0 and turns != 42:  # If the turn is even it's p1's\n",
    "            turns += 1  # Increments turns\n",
    "            select_column(1)  # Asks p1 to select a column for their token\n",
    "        elif turns % 2 == 1 and turns != 42:  # If the turn is odd, it's p2's\n",
    "            turns += 1  # Increments turns\n",
    "            select_column(2)  # Asks p2 to select a column for their token\n",
    "        elif turns == 42:  # If 42 turns have passed..\n",
    "            player_scored(0)  # ..then it's a draw"
   ]
  },
  {
   "cell_type": "markdown",
   "metadata": {},
   "source": [
    "### 6. Fonction ```player_score(p)```\n",
    "La fonction ```player_score(p)``` est appelée lorsqu'un joueur ```p``` marque un point, ou lorsqu'il y a match nul (p vaut alors 0). <br/>\n",
    "Lorsqu'un joueur marque son premier point, son score s'affiche dans sa couleur sur l'écran, avant que le jeu ne soit relancé. <br/>\n",
    "Lorsqu'un joueur marque son deuxième point, son score s'affiche dans sa couleur, puis l'écran entier, avant que le jeu et les scores ne soient réinitialisés. Si le jeu est appelé comme module, il renvoie à la sélection de jeu, sinon le jeu recommence."
   ]
  },
  {
   "cell_type": "code",
   "execution_count": 23,
   "metadata": {},
   "outputs": [],
   "source": [
    "def player_scored(p):\n",
    "    \"\"\"\n",
    "    Manages the scoring system.\n",
    "\n",
    "    p in player_scored(p) is the player who just scored.\n",
    "    p == 0 -> draw\n",
    "    p == 1 -> p1 scored\n",
    "    p == 2 -> p2 scored\n",
    "\n",
    "    If one of the players won the round, show their score in their color and\n",
    "    prepare the field for the next round. If one of the players has two points,\n",
    "    they win the game, the screen turns to their color and the game is reset.\n",
    "    If it's a draw, no points are given and the field gets prepared for the\n",
    "    next round.\n",
    "    \"\"\"\n",
    "    global gameOver\n",
    "    gameOver = 1  # The game has ended\n",
    "    global playerScore\n",
    "    if p != 0:  # Checks if it's a draw\n",
    "        playerScore[p - 1] += 1  # Increments the winner's score\n",
    "        sense.show_letter(str(playerScore[p - 1]), colors[p])  # Shows score\n",
    "    # Ends the game if the player already had a point\n",
    "    if playerScore[0] == 2 or playerScore[1] == 2 or stopGame == 1:\n",
    "        sleep(1.5)  # Pauses long enough to see the score\n",
    "        sense.clear(colors[p])  # Turns the screen into the winner's color\n",
    "    sleep(1.5)  # Pauses long enough to see the winner's screen\n",
    "    sense.clear()  # Clears the display\n",
    "    main()  # Calls the main game function"
   ]
  },
  {
   "cell_type": "markdown",
   "metadata": {},
   "source": [
    "### 7. Fonction ```select_column(p)```\n",
    "La fonction ```select_column(p)``` permet au joueur ```p``` de sélectionner dans quelle colonne il veut poser son jeton en déplaçant le joystick à droite ou à gauche. La sélection commence au centre pour l'aspect pratique. <br/>\n",
    "<br/>\n",
    "```x = (x + 1) % 7``` permet de s'assurer que `x` reste dans la zone de jeu faisant 7 pixels.<br/>\n",
    "Lorsque le choix est fait, et que le joueur a appuyé sur le joystick vers le bas, la fonction ```put_down(x, p)``` est appelée, avec ```x``` comme colonne choisie. Cette fonction va vérifier que l'espace est libre, et si ce n'est pas le cas, rappeler ```select_column(p)``` afin que le joueur ne gaspille pas son tour. "
   ]
  },
  {
   "cell_type": "code",
   "execution_count": 24,
   "metadata": {},
   "outputs": [],
   "source": [
    "def select_column(p):\n",
    "    \"\"\"\n",
    "    Asks the player to select a column with the joystick, then calls for the\n",
    "    function to drop the token if it is clear.\n",
    "\n",
    "    p is the player whose turn it is.\n",
    "\n",
    "    If the joystick is moved upwards, the game is ended.\n",
    "\n",
    "    The function calls put_down(x,p) in order to drop the token down.\n",
    "    If it turns out the column is full,\n",
    "    put_down(x,p) will call select_column(p) back.\n",
    "\n",
    "    show_selection(x,p) is used to show the current selection.\n",
    "\n",
    "    Returns the selected column with x.\n",
    "    \"\"\"\n",
    "    x = 3  # Starts the selection in the middle of the playing field\n",
    "    selection = True  # Is the player selecting?\n",
    "    while selection:\n",
    "        for event in sense.stick.get_events():  # Listens for joystick events\n",
    "            if event.action == 'pressed':  # When the joystick is moved..\n",
    "                if event.direction == 'right':  # ..to the right..\n",
    "                    x = (x + 1) % 7  # ..then move the cursor to the right\n",
    "                elif event.direction == 'left':  # ..to the left..\n",
    "                    x = (x - 1) % 7  # ..then move the cursor to the left\n",
    "                elif event.direction == 'down':  # Pressing down confirms\n",
    "                    selection = False  # Ends selection\n",
    "                    put_down(x, p)  # Calls the function that drops the token\n",
    "                elif event.direction == 'up':  # Pressing up..\n",
    "                    global stopGame\n",
    "                    stopGame = 1  # ..will make main() end the game..\n",
    "                    player_scored(0)  # ..and causes a draw\n",
    "        show_selection(x, p)  # Calls the function that shows the selection\n",
    "    return x  # Returns which column was selected"
   ]
  },
  {
   "cell_type": "markdown",
   "metadata": {},
   "source": [
    "Si le joueur appuie vers le haut, `stopGame` devient `True`, ce qui va faire que le jeu s'arrête à la prochaine invocation de `main()`, qui arrive après que `player_scored(0)` soit appelé. <br/>\n",
    "<br/>\n",
    "La fonction renvoie `x`, c'est à dire la coordonée de la colonne choisie, et appèle ```show_selection(x, p)``` afin que le curseur du joueur soit affiché correctement pendant la sélection."
   ]
  },
  {
   "cell_type": "markdown",
   "metadata": {},
   "source": [
    "### 8. Fonction ```show_selection(x, p)```\n",
    "La fonction ```show_selection(x, p)``` affiche l'emplacement du curseur du joueur `p` avec la couleur appropriée, et rend aux pixels leur couleur originelle après le passage du curseur."
   ]
  },
  {
   "cell_type": "code",
   "execution_count": 25,
   "metadata": {},
   "outputs": [],
   "source": [
    "def show_selection(x, p):\n",
    "    \"\"\"\n",
    "    Shows the cursor for the column selection.\n",
    "\n",
    "    x is the currently selected column\n",
    "    p is the player playing\n",
    "\n",
    "    Ensures that the replacement to black stops when the game is over in order\n",
    "    to prevent conflict with the score display.\n",
    "    \"\"\"\n",
    "    for i in range(7):\n",
    "        if i == x and gameOver == 0:  # Checks that i is in the playing field\n",
    "            # Colors the selection with the player p's color\n",
    "            sense.set_pixel(i, 0, colors[p])\n",
    "        elif gameOver == 0:\n",
    "            # Resets the pixels once the cursor has moved\n",
    "            sense.set_pixel(i, 0, (0, 0, 0))"
   ]
  },
  {
   "cell_type": "markdown",
   "metadata": {},
   "source": [
    "Lorsque le jeu n'est pas en cours (```gameOver =! 0```), la fonction ne fait plus rien, afin d'éviter qu'elle n'interfère avec par exemple l'affichage des résultats."
   ]
  },
  {
   "cell_type": "markdown",
   "metadata": {},
   "source": [
    "### 9. Fonction ```put_down(x, p)```\n",
    "La fonction ```put_down(x, p)``` vérifie que la colonne `x` choisie par le joueur est bien libre, puis trouve le plus bas emplacement libre, appèle la fonction ```animate_down(x, y, p)``` afin d'animer la chute puis y affiche le jeton du joueur.<br/>\n",
    "Si la colonne n'est pas libre, ```put_down(x, p)``` rappèle ```select_column(p)``` afin d'éviter que le joueur ne gaspille son tour.<br/>\n",
    "Une fois le jeton placé, la fonction appèle ```check_connectfour(x, y)``` afin de regarder si le jeton posé créé une suite de quatre. S'il n'y a pas de connection, c'est au tour de l'autre joueur avec ```turn()```. "
   ]
  },
  {
   "cell_type": "code",
   "execution_count": 26,
   "metadata": {},
   "outputs": [],
   "source": [
    "def put_down(x, p):\n",
    "    \"\"\"\n",
    "    Puts the token down in the selected column.\n",
    "\n",
    "    x is the selected column\n",
    "    p is the player playing\n",
    "\n",
    "    If the selected column is full, select_column(p) is called back to ensure\n",
    "    the player doesn't waste their turn.\n",
    "\n",
    "    The token is animated down with animate_down(x,y,p) before being set.\n",
    "    If the token is not a winning one, calls for the next turn with turn().\n",
    "    \"\"\"\n",
    "    # Checks that the column is free (BLUE)\n",
    "    if sense.get_pixel(x, 2) == [0, 0, 248]:\n",
    "        for y in range(7):  # Finds the lowest available spot\n",
    "            if sense.get_pixel(x, 7-y) == [0, 0, 248]:  # If it's free then..\n",
    "                animate_down(x, y, p)  # ..calls for the animation down and..\n",
    "                sense.set_pixel(x, 7 - y, colors[p])  # ..puts the token there\n",
    "                # Checks if it's a winning move\n",
    "                if check_connectfour(x, 7 - y) is False:\n",
    "                    turn()  # If not, starts the next turn\n",
    "                    return\n",
    "                return\n",
    "    else:\n",
    "        select_column(p)  # If there is no free spot, restarts selection\n",
    "    return"
   ]
  },
  {
   "cell_type": "markdown",
   "metadata": {},
   "source": [
    "La fonction ```sense.get_pixel(x, y)``` ne renvoie pas la valeur qui a été assignée au pixel directement, mais la fait passer à travers une autre opération, ce qui explique l'utilisation d'une valeur de bleu (```[0,0,248]```) qui n'est pas ```BLUE```. "
   ]
  },
  {
   "cell_type": "markdown",
   "metadata": {},
   "source": [
    "### 10. Fonction ```animate_down(x, y, p)```\n",
    "La fonction ```animate_down(x, y, p)``` fait apparaître puis disparaître un pixel de la couleur du joueur `p` dans chaque case de la colonne `x` jusqu'au point `y`, avant de redonner aux pixels leur couleur d'origine (Noire `[0,0,0]` ou `BLUE`)"
   ]
  },
  {
   "cell_type": "code",
   "execution_count": null,
   "metadata": {},
   "outputs": [],
   "source": [
    "def animate_down(x, y, p):\n",
    "    \"\"\"\n",
    "    Creates an animation that makes a pixel move down the selected column to\n",
    "    the lowest available spot.\n",
    "\n",
    "    x is the selected column\n",
    "    y is the lowest available spot\n",
    "    p is the player playing\n",
    "\n",
    "    Ensures that the first two rows stay black, and that the others turn BLUE\n",
    "    again after the animation.\n",
    "    \"\"\"\n",
    "    # For each available spot from the top of the column\n",
    "    for z in range(7 - y):\n",
    "        sense.set_pixel(x, z, colors[p])  # Set the pixel to the player's color\n",
    "        sleep(0.03)  # Wait long enough for it to be noticeable\n",
    "        if z != 1 and z != 0:  # If it's not the first two rows\n",
    "            sense.set_pixel(x, z, colors[0])  # Set the pixel back to BLUE\n",
    "        else:  # Otherwise\n",
    "            sense.set_pixel(x, 1, [0, 0, 0])  # Set it to black"
   ]
  },
  {
   "cell_type": "markdown",
   "metadata": {},
   "source": [
    "### 11. Fonction ```check_connectfour(x, y)```\n",
    "La fonction ```check_connectfour(x, y)``` va faire une série de tests afin de regarder si le jeton posé à l'emplacement `x, y` cause une suite de 4 pixels horizontalement, verticalement et en diagonale. "
   ]
  },
  {
   "cell_type": "code",
   "execution_count": null,
   "metadata": {},
   "outputs": [],
   "source": [
    "def check_connectfour(x, y):\n",
    "    \"\"\"\n",
    "    Checks if there is four same-colored token next to each other.\n",
    "\n",
    "    x is the last played token's column\n",
    "    y is the last played token's row\n",
    "\n",
    "    Returns False if there is no winning move this turn. Return True and thus\n",
    "    makes the game end if it was a winning move.\n",
    "    \"\"\"\n",
    "    # First asks if there is a win horizontally and vertically\n",
    "    if check_horizontal(x, y) is False and check_vertical(x, y) is False:\n",
    "        # Then diagonally from the bottom left to the upper right\n",
    "        if check_diagonal_downleft_upright(x, y) is False:\n",
    "            # And then diagonally the other way\n",
    "            if check_diagonal_downright_upleft(x, y) is False:\n",
    "                # If not, then continue playing by returning False\n",
    "                return(False)"
   ]
  },
  {
   "cell_type": "markdown",
   "metadata": {},
   "source": [
    "La fonction appèle d'abord 1) ```check_horizontal(x, y)``` et 2) ```check_vertical(x, y)```, puis regarde pour les deux diagonales 3) ```check_diagonal_downleft_upright(x, y)``` et 4) ```check_diagonal_downright_upleft(x, y)```. <br/>\n",
    "<br/>\n",
    "Si le pixel ne fait aucune suite, alors toutes les conditions seront `False`, ce que la fonction retournera, et ce sera le tour de l'autre joueur."
   ]
  },
  {
   "cell_type": "markdown",
   "metadata": {},
   "source": [
    "![Check-Connect](https://github.com/Bugnon/oc-2018/blob/master/games/Connect4/img/jupyter%202.png?raw=true)"
   ]
  },
  {
   "cell_type": "markdown",
   "metadata": {},
   "source": [
    "#### 11.1 ```check_horizontal(x,  y)```\n",
    "La fonction ```check_horizontal(x, y)``` va faire une liste `horizontal` de tous les pixels de la rangée `y` où le jeton a été placé, puis va la comparer à `fourYellow` et `fourRed` par groupe de quatre pixels, quatre fois de suite afin de couvrir l'entièreté de la rangée.<br/>\n",
    "Si l'une des conditions est remplie, le joueur `p` qui a posé le jeton recevra un point à travers la fonction `player_scored(p)`, et la fonction retournera `True`. Sinon, la fonction retournera `False`. "
   ]
  },
  {
   "cell_type": "code",
   "execution_count": null,
   "metadata": {},
   "outputs": [],
   "source": [
    "def check_horizontal(x, y):\n",
    "    \"\"\"\n",
    "    Checks if there is four same-colored tokens in the same row.\n",
    "\n",
    "    x is the last played token's column\n",
    "    y is the last played token's row\n",
    "\n",
    "    Returns False if there isn't four same-colored tokens on the same row.\n",
    "    Returns True if there are, and calls player_scored(p) for the appropriate\n",
    "    player based on color (RED == p1, YELLOW == p2)\n",
    "    \"\"\"\n",
    "    # Makes a list out of the row\n",
    "    horizontal = sense.get_pixels()[8 * y:8 * y + 7]\n",
    "    for z in range(4):  # Checks the row by four groups of four tokens\n",
    "        if horizontal[z:z + 4] == fourYellow:  # Is there four yellow tokens?\n",
    "            player_scored(2)  # If yes, p2 scored\n",
    "            return True  # Returns that there was a winning move\n",
    "        if horizontal[z:z + 4] == fourRed:  # Is there four red tokens?\n",
    "            player_scored(1)  # If yes, p1 scored\n",
    "            return True  # Returns that there was a winning move.\n",
    "    return False  # Returns that there were no winning move."
   ]
  },
  {
   "cell_type": "markdown",
   "metadata": {},
   "source": [
    "#### 11.2 ```check_vertical(x,  y)```\n",
    "La fonction ```check_vertical(x, y)``` va faire une liste `vertical` de tous les pixels de la colonne `x` où le jeton a été placé, puis va la comparer à `fourYellow` et `fourRed` par groupe de quatre pixels, trois fois de suite afin de couvrir l'entièreté de la colonne.<br/>\n",
    "Si l'une des conditions est remplie, le joueur `p` qui a posé le jeton recevra un point à travers la fonction `player_scored(p)`, et la fonction retournera `True`. Sinon, la fonction retournera `False`. "
   ]
  },
  {
   "cell_type": "code",
   "execution_count": null,
   "metadata": {},
   "outputs": [],
   "source": [
    "def check_vertical(x, y):\n",
    "    \"\"\"\n",
    "    Checks if there is four same-colored tokens in the same column.\n",
    "\n",
    "    x is the last played token's column\n",
    "    y is the last played token's row\n",
    "\n",
    "    Returns False if there isn't four same-colored tokens in the column.\n",
    "    Returns True if there are, and calls player_scored(p) for the appropriate\n",
    "    player based on color (RED == p1, YELLOW == p2)\n",
    "    \"\"\"\n",
    "    # Makes a list out of the column\n",
    "    vertical = [sense.get_pixel(x, 2), sense.get_pixel(x, 3),\n",
    "                sense.get_pixel(x, 4), sense.get_pixel(x, 5),\n",
    "                sense.get_pixel(x, 6), sense.get_pixel(x, 7)]\n",
    "    for z in range(3):  # Checks the column by three groups of four tokens\n",
    "        if vertical[z:z + 4] == fourYellow:  # Is there four yellow tokens?\n",
    "            player_scored(2)  # If yes, p2 scored\n",
    "            return True  # Returns that there was a winning move\n",
    "        if vertical[z:z + 4] == fourRed:  # Is there four red tokens?\n",
    "            player_scored(1)  # If yes, p1 scored\n",
    "            return True  # Returns that there was a winning move\n",
    "    return False  # Returns that there were no winning move"
   ]
  },
  {
   "cell_type": "markdown",
   "metadata": {},
   "source": [
    "#### 11.3 ```check_diagonal_downleft_upright(x,  y)```\n",
    "La fonction ```check_diagonal_downleft_upright(x, y)``` va faire une liste `diagonal` de tous les pixels de la diagonale allant d'en bas à gauche à en haut à droite en passant par le point `x, y` où le jeton a été placé grâce à la fonction ```create_diagonal_downleft_upright(diagonal, x, y)```, puis va la comparer à `fourYellow` et `fourRed` par groupe de quatre pixels, quatre fois de suite afin de couvrir l'entièreté de la rangée.<br/>\n",
    "Si l'une des conditions est remplie, le joueur `p` qui a posé le jeton recevra un point à travers la fonction `player_scored(p)`, et la fonction retournera `True`. Sinon, la fonction retournera `False`. "
   ]
  },
  {
   "cell_type": "code",
   "execution_count": null,
   "metadata": {},
   "outputs": [],
   "source": [
    "def check_diagonal_downleft_upright(x, y):\n",
    "    \"\"\"\n",
    "    Checks if there is four same-colored token in the bottom-left to\n",
    "    upper-right diagonal.\n",
    "\n",
    "    x is the last played token's column\n",
    "    y is the last played token's row\n",
    "\n",
    "    Calls create_diagonal_downleft_upright to create a list from the diagonal.\n",
    "\n",
    "    Returns False if there isn't four same-colored tokens in the diagonal.\n",
    "    Returns True if there are, and calls player_scored(p) for the appropriate\n",
    "    player based on color (RED == p1, YELLOW == p2)\n",
    "    \"\"\"\n",
    "    diagonal = []  # Resets the list\n",
    "    # Calls a function to create a list from the pixels in a bottom-left to\n",
    "    # upper-right diagonal\n",
    "    create_diagonal_downleft_upright(diagonal, x, y)\n",
    "    for z in range(4):  # Checks the diagonal by four groups of four tokens\n",
    "        if diagonal[z:z + 4] == fourYellow:  # Is there four yellow tokens?\n",
    "            player_scored(2)  # If yes, p2 scored\n",
    "            return True  # Returns that there was a winning move\n",
    "        if diagonal[z:z + 4] == fourRed:  # Is there four red tokens?\n",
    "            player_scored(1)  # If yes, p1 scored\n",
    "            return True  # Returns that there was a winning move\n",
    "    return False  # Returns that there were no winning move"
   ]
  },
  {
   "cell_type": "markdown",
   "metadata": {},
   "source": [
    "##### 11.3.1 ```create_diagonal_downleft_upright(diagonal, x, y)```\n",
    "En utilisant `try` et `except`, la fonction ```create_diagonal_downleft_upright(diagonal, x, y)``` tente de créer une liste de 7 pixels passant en diagonale du point `x, y` d'en bas à gauche à en haut à droite.<br/>\n",
    "L'utilisation de `try` et `except` permet d'éviter que le programme crashe lorsque la fonction tente d'ajouter un pixel hors limites à la liste. <br/><br/>\n",
    "La fonction retourne la liste `diagonale` aussi grande que ce qu'elle a pu obtenir. "
   ]
  },
  {
   "cell_type": "code",
   "execution_count": null,
   "metadata": {},
   "outputs": [],
   "source": [
    "def create_diagonal_downleft_upright(diagonal, x, y):\n",
    "    \"\"\"\n",
    "    Creates a list of seven pixels in a bottom left to upper right diagonal\n",
    "    centered around the last placed token.\n",
    "\n",
    "    diagonal is the list\n",
    "    x is the last played token's column\n",
    "    y is the last played token's row\n",
    "\n",
    "    As the function might try to take into account pixels that are out of\n",
    "    bounds, there is a try except ValueError in order to prevent out of bounds\n",
    "    errors. The list might be shorter than seven pixels, but the function works\n",
    "    anyway.\n",
    "\n",
    "    Returns the list of diagonal pixels.\n",
    "    \"\"\"\n",
    "    for z in range(7):  # To have a 7 pixel list\n",
    "        # Tries to get values that might be out of bounds, three pixels down\n",
    "        # left and three pixels up right in a diagonal from the token\n",
    "        try:\n",
    "            diagonal.append(sense.get_pixel(x - z + 3, y + z - 3))\n",
    "        except:  # Catches out of bounds errors\n",
    "            ValueError\n",
    "    return(diagonal)  # Returns the list of pixels"
   ]
  },
  {
   "cell_type": "markdown",
   "metadata": {},
   "source": [
    "#### 11.4 ```check_diagonal_downright_upleft(x,  y)```\n",
    "La fonction ```check_diagonal_downright_upleft(x, y)``` va faire une liste `diagonal` de tous les pixels de la diagonale allant d'en bas à droite à en haut à gauche en passant par le point `x, y` où le jeton a été placé grâce à la fonction ```create_diagonal_downright_upleft(diagonal, x, y)```, puis va la comparer à `fourYellow` et `fourRed` par groupe de quatre pixels, quatre fois de suite afin de couvrir l'entièreté de la rangée.<br/>\n",
    "Si l'une des conditions est remplie, le joueur `p` qui a posé le jeton recevra un point à travers la fonction `player_scored(p)`, et la fonction retournera `True`. Sinon, la fonction retournera `False`. "
   ]
  },
  {
   "cell_type": "code",
   "execution_count": null,
   "metadata": {},
   "outputs": [],
   "source": [
    "def check_diagonal_downright_upleft(x, y):\n",
    "    \"\"\"\n",
    "    Checks if there is four same-colored token in the bottom-right to\n",
    "    upper-left diagonal.\n",
    "\n",
    "    x is the last played token's column\n",
    "    y is the last played token's row\n",
    "\n",
    "    Calls create_diagonal_downright_upleft to create a list from the diagonal.\n",
    "\n",
    "    Returns False if there isn't four same-colored tokens in the diagonal.\n",
    "    Returns True if there are, and calls player_scored(p) for the appropriate\n",
    "    player based on color (RED == p1, YELLOW == p2)\n",
    "    \"\"\"\n",
    "    diagonal = []  # Resets the list\n",
    "    # Calls a function to create a list from the pixels in a bottom-right to\n",
    "    # upper-left diagonal\n",
    "    create_diagonal_downright_upleft(diagonal, x, y)\n",
    "    for z in range(4):  # Checks the diagonal by four groups of four tokens\n",
    "        if diagonal[z:z + 4] == fourYellow:  # Is there four yellow tokens?\n",
    "            player_scored(2)  # If yes, p2 scored\n",
    "            return True  # Returns that there was a winning move\n",
    "        if diagonal[z:z + 4] == fourRed:  # Is there four red tokens?\n",
    "            player_scored(1)  # If yes, p1 scored\n",
    "            return True  # Returns that there was a winning move\n",
    "    return False  # Returns that there were no winning move"
   ]
  },
  {
   "cell_type": "markdown",
   "metadata": {},
   "source": [
    "##### 11.4.1 ```create_diagonal_downright_upleft(diagonal, x, y)```\n",
    "En utilisant `try` et `except`, la fonction ```create_diagonal_downright_upleft(diagonal, x, y)``` tente de créer une liste de 7 pixels passant en diagonale du point `x, y` d'en bas à droite à en haut à gauche.<br/>\n",
    "L'utilisation de `try` et `except` permet d'éviter que le programme crashe lorsque la fonction tente d'ajouter un pixel hors limites à la liste.<br/>\n",
    "<br/>\n",
    "La fonction retourne la liste `diagonale` aussi grande que ce qu'elle a pu obtenir. "
   ]
  },
  {
   "cell_type": "code",
   "execution_count": null,
   "metadata": {},
   "outputs": [],
   "source": [
    "def create_diagonal_downright_upleft(diagonal, x, y):\n",
    "    \"\"\"\n",
    "    Creates a list of seven pixels in a bottom right to upper left diagonal\n",
    "    centered around the last placed token.\n",
    "\n",
    "    diagonal is the list\n",
    "    x is the last played token's column\n",
    "    y is the last played token's row\n",
    "\n",
    "    As the function might try to take into account pixels that are out of\n",
    "    bounds, there is a try except ValueError in order to prevent out of bounds\n",
    "    errors. The list might be shorter than seven pixels, but the function works\n",
    "    anyway.\n",
    "\n",
    "    Returns the list of diagonal pixels.\n",
    "    \"\"\"\n",
    "    for z in range(7):  # To have a 7 pixel list\n",
    "        # Tries to get values that might be out of bounds, three pixels down\n",
    "        # right and three pixels up left in a diagonal from the token\n",
    "        try:\n",
    "            diagonal.append(sense.get_pixel(x - z + 3, y - z + 3))\n",
    "        except:  # Catches out of bounds errors\n",
    "            ValueError\n",
    "    return(diagonal)  # Returns the list of pixels"
   ]
  },
  {
   "cell_type": "markdown",
   "metadata": {},
   "source": [
    "### 12. Module ou Standalone?\n",
    "Ce morceau de code fait en sorte que le jeu se répète s'il est standalone `repeat = 1` mais pas s'il est importé comme module `repeat = 0` afin de permettre de retourner à la sélection de jeux."
   ]
  },
  {
   "cell_type": "code",
   "execution_count": null,
   "metadata": {},
   "outputs": [
    {
     "name": "stderr",
     "output_type": "stream",
     "text": [
      "<>:10: SyntaxWarning: name 'repeat' is assigned to before global declaration\n",
      "<>:10: SyntaxWarning: name 'repeat' is assigned to before global declaration\n",
      "<>:10: SyntaxWarning: name 'repeat' is assigned to before global declaration\n",
      "<ipython-input-35-a36b40cab314>:10: SyntaxWarning: name 'repeat' is assigned to before global declaration\n",
      "  global repeat\n"
     ]
    },
    {
     "name": "stdout",
     "output_type": "stream",
     "text": [
      "module name = __main__\n"
     ]
    }
   ],
   "source": [
    "#  Execute the main() function when the file is executed,\n",
    "#  but do not execute when the module is imported as a module.\n",
    "print('module name =', __name__)\n",
    "\n",
    "if __name__ == '__main__':\n",
    "    main()\n",
    "    global repeat\n",
    "    repeat = 1  # If the game is played as standalone, make it repeat\n",
    "else:\n",
    "    global repeat\n",
    "    repeat = 0  # If the game is played as a module, make it quit when over"
   ]
  }
 ],
 "metadata": {
  "kernelspec": {
   "display_name": "Python 3",
   "language": "python",
   "name": "python3"
  },
  "language_info": {
   "codemirror_mode": {
    "name": "ipython",
    "version": 3
   },
   "file_extension": ".py",
   "mimetype": "text/x-python",
   "name": "python",
   "nbconvert_exporter": "python",
   "pygments_lexer": "ipython3",
   "version": "3.5.3"
  }
 },
 "nbformat": 4,
 "nbformat_minor": 2
}
