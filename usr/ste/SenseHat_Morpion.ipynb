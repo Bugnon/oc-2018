{
 "cells": [
  {
   "cell_type": "markdown",
   "metadata": {},
   "source": [
    "# Jeu de Morpion\n",
    "Pour programmer un jeu, nous partons des principes suivants:\n",
    "* des **variables d'état** décrivent la situation du jeu à un instant donné\n",
    "* à chaque tour, les variables d'état changent\n",
    "* les règles de jeu interdisent certains mouvements\n",
    "* à chaque tour on vérifie si les critère pour gagner sont vérifiés\n",
    "* une **matrice** représente le tableau de jeu\n",
    "* des **entiers** (0 = vide, 1, 2, etc.) représentent les pièces\n",
    "\n",
    "Avant de commencer, il faut importer le module `sense_hat` et `time` et eventuellent définir une rotation de l'écran de 180 degrés."
   ]
  },
  {
   "cell_type": "code",
   "execution_count": 1,
   "metadata": {},
   "outputs": [],
   "source": [
    "from sense_hat import SenseHat\n",
    "#from sense_emu import SenseHat\n",
    "from time import sleep, time\n",
    "\n",
    "sense = SenseHat()\n",
    "sense.set_rotation(180)"
   ]
  },
  {
   "cell_type": "markdown",
   "metadata": {},
   "source": [
    "## Définition de l'état\n",
    "\n",
    "Définissons l'état du jeu comme la matrice $3 \\times 3$ avec des entiers ayant la signification:\n",
    "* 0 case vide\n",
    "* 1 case occupé par joueur 1\n",
    "* 2 case occupé par joueur 2\n",
    "\n",
    "Donc voici l'état initial du jeu"
   ]
  },
  {
   "cell_type": "code",
   "execution_count": 2,
   "metadata": {},
   "outputs": [
    {
     "data": {
      "text/plain": [
       "[[0, 0, 0], [0, 0, 0], [0, 0, 0]]"
      ]
     },
     "execution_count": 2,
     "metadata": {},
     "output_type": "execute_result"
    }
   ],
   "source": [
    "state = [[0, 0, 0], [0, 0, 0], [0, 0, 0]]\n",
    "state"
   ]
  },
  {
   "cell_type": "markdown",
   "metadata": {},
   "source": [
    "Supposons maintenant que joueur 1 place une pièce, et joueur 2 place sa pièce."
   ]
  },
  {
   "cell_type": "code",
   "execution_count": 3,
   "metadata": {},
   "outputs": [
    {
     "data": {
      "text/plain": [
       "[[1, 2, 0], [0, 0, 0], [0, 0, 0]]"
      ]
     },
     "execution_count": 3,
     "metadata": {},
     "output_type": "execute_result"
    }
   ],
   "source": [
    "state = [[1, 2, 0], [0, 0, 0], [0, 0, 0]]\n",
    "state"
   ]
  },
  {
   "cell_type": "markdown",
   "metadata": {},
   "source": [
    "Définissons aussi une fonction `init()` pour initialiser l'état du jeu. La variable `state` étant une variable globale elle doit être déclarée avec le mot-clé `global` à l'intérieur d'une fonction."
   ]
  },
  {
   "cell_type": "code",
   "execution_count": 4,
   "metadata": {},
   "outputs": [],
   "source": [
    "def init():\n",
    "    global state\n",
    "    state = [[0, 0, 0], [0, 0, 0], [0, 0, 0]]"
   ]
  },
  {
   "cell_type": "markdown",
   "metadata": {},
   "source": [
    "## Afficher l'état\n",
    "Nous devons maintenant afficher cet état de jeu. Pour cette première version nous utilisons seulement $3 \\times 3$ pixels. L'état du jeu est représenté par les 3 couleurs:\n",
    "* dark green : case vide\n",
    "* red : case occupé par joueur 1\n",
    "* green : case occupé par jouer 2"
   ]
  },
  {
   "cell_type": "code",
   "execution_count": 7,
   "metadata": {},
   "outputs": [],
   "source": [
    "dark_blue = (0, 0, 128)\n",
    "red = (255, 0, 0)\n",
    "green = (0, 255, 0)\n",
    "blue = (0, 0, 255)\n",
    "colors = (dark_blue, red, green)\n",
    "\n",
    "def show(state):\n",
    "    sense.clear()\n",
    "    for y in range(3):\n",
    "        for x in range(3):\n",
    "            s = state[y][x]  # s is 0, 1, or 2\n",
    "            sense.set_pixel(x, y, colors[s])          "
   ]
  },
  {
   "cell_type": "code",
   "execution_count": 6,
   "metadata": {},
   "outputs": [],
   "source": [
    "show(state)"
   ]
  },
  {
   "cell_type": "markdown",
   "metadata": {},
   "source": [
    "Supposons maintenant que joueur 1 place une pièce, et joueur 2 place sa pièce."
   ]
  },
  {
   "cell_type": "code",
   "execution_count": 8,
   "metadata": {},
   "outputs": [
    {
     "data": {
      "text/plain": [
       "[[1, 2, 2], [1, 0, 0], [0, 0, 0]]"
      ]
     },
     "execution_count": 8,
     "metadata": {},
     "output_type": "execute_result"
    }
   ],
   "source": [
    "state = [[1, 2, 2], [1, 0, 0], [0, 0, 0]]\n",
    "show(state)\n",
    "state"
   ]
  },
  {
   "cell_type": "markdown",
   "metadata": {},
   "source": [
    "Pour gagner, un jour doit occuper soit\n",
    "* une des 3 lignes\n",
    "* une des 3 colonnes\n",
    "* une des 2 diagonales\n",
    "Nous devons donc faire 8 comparaisons\n",
    "\n",
    "Par exemple la première ligne (index 0) est"
   ]
  },
  {
   "cell_type": "code",
   "execution_count": 9,
   "metadata": {},
   "outputs": [
    {
     "data": {
      "text/plain": [
       "[1, 2, 2]"
      ]
     },
     "execution_count": 9,
     "metadata": {},
     "output_type": "execute_result"
    }
   ],
   "source": [
    "state[0]"
   ]
  },
  {
   "cell_type": "markdown",
   "metadata": {},
   "source": [
    "De la première ligne (index 0) nous accédons le deuxième élément (index 1)"
   ]
  },
  {
   "cell_type": "code",
   "execution_count": 10,
   "metadata": {},
   "outputs": [
    {
     "data": {
      "text/plain": [
       "2"
      ]
     },
     "execution_count": 10,
     "metadata": {},
     "output_type": "execute_result"
    }
   ],
   "source": [
    "state[0][1]"
   ]
  },
  {
   "cell_type": "markdown",
   "metadata": {},
   "source": [
    "## Critères pour gagner\n",
    "Est-ce que les 3 éléments de la première ligne sont identiques ?"
   ]
  },
  {
   "cell_type": "code",
   "execution_count": 11,
   "metadata": {},
   "outputs": [
    {
     "data": {
      "text/plain": [
       "False"
      ]
     },
     "execution_count": 11,
     "metadata": {},
     "output_type": "execute_result"
    }
   ],
   "source": [
    "state[0][0] == state[0][1] == state[0][2]"
   ]
  },
  {
   "cell_type": "markdown",
   "metadata": {},
   "source": [
    "Est-ce que les 3 éléments de la première ligne sont identiques ?"
   ]
  },
  {
   "cell_type": "code",
   "execution_count": 12,
   "metadata": {},
   "outputs": [
    {
     "data": {
      "text/plain": [
       "False"
      ]
     },
     "execution_count": 12,
     "metadata": {},
     "output_type": "execute_result"
    }
   ],
   "source": [
    "state[0][0] == state[0][1] == state[0][2]"
   ]
  },
  {
   "cell_type": "markdown",
   "metadata": {},
   "source": [
    "Est-ce que les 3 éléments de la troisième ligne (index 2) sont identiques ? Oui, car les 3 cases sont vide (représenté par 0)"
   ]
  },
  {
   "cell_type": "code",
   "execution_count": 13,
   "metadata": {},
   "outputs": [
    {
     "data": {
      "text/plain": [
       "True"
      ]
     },
     "execution_count": 13,
     "metadata": {},
     "output_type": "execute_result"
    }
   ],
   "source": [
    "state[2][0] == state[2][1] == state[2][2]"
   ]
  },
  {
   "cell_type": "markdown",
   "metadata": {},
   "source": [
    "Nous pouvons maintenant définir une fonction qui vérifie si le joueur $p$ (player) est dans une situation gagnante."
   ]
  },
  {
   "cell_type": "code",
   "execution_count": 14,
   "metadata": {},
   "outputs": [],
   "source": [
    "def winning(state, p):\n",
    "    return  state[0][0] == state[0][1] == state[0][2] == p or \\\n",
    "            state[1][0] == state[1][1] == state[1][2] == p or \\\n",
    "            state[2][0] == state[2][1] == state[2][2] == p or \\\n",
    "            state[0][0] == state[1][0] == state[2][0] == p or \\\n",
    "            state[0][1] == state[1][1] == state[2][1] == p or \\\n",
    "            state[0][2] == state[1][2] == state[2][2] == p or \\\n",
    "            state[0][0] == state[1][1] == state[2][2] == p or \\\n",
    "            state[0][2] == state[1][1] == state[2][0] == p"
   ]
  },
  {
   "cell_type": "markdown",
   "metadata": {},
   "source": [
    "Vérifions si joueur 1 ou joueur 2 est dans une situation gagnante."
   ]
  },
  {
   "cell_type": "code",
   "execution_count": 15,
   "metadata": {},
   "outputs": [
    {
     "data": {
      "text/plain": [
       "(False, False)"
      ]
     },
     "execution_count": 15,
     "metadata": {},
     "output_type": "execute_result"
    }
   ],
   "source": [
    "winning(state, 1), winning(state, 2)"
   ]
  },
  {
   "cell_type": "markdown",
   "metadata": {},
   "source": [
    "Si le jouer 1 ajoute encore une pièce, il peut gagner."
   ]
  },
  {
   "cell_type": "code",
   "execution_count": 15,
   "metadata": {},
   "outputs": [
    {
     "data": {
      "text/plain": [
       "[[1, 2, 2], [1, 0, 0], [1, 0, 0]]"
      ]
     },
     "execution_count": 15,
     "metadata": {},
     "output_type": "execute_result"
    }
   ],
   "source": [
    "state = [[1, 2, 2], [1, 0, 0], [1, 0, 0]]\n",
    "show(state)\n",
    "state"
   ]
  },
  {
   "cell_type": "code",
   "execution_count": 17,
   "metadata": {},
   "outputs": [
    {
     "data": {
      "text/plain": [
       "(True, False)"
      ]
     },
     "execution_count": 17,
     "metadata": {},
     "output_type": "execute_result"
    }
   ],
   "source": [
    "winning(state, 1), winning(state, 2)"
   ]
  },
  {
   "cell_type": "markdown",
   "metadata": {},
   "source": [
    "## Mouvement\n",
    "Definissons maintenant la fonction `play(state, p`) qui définit le mouvement pour un joueur $p$. \n",
    "* La position initial du joueur est $(x, y) = (1, 1)$. \n",
    "* Le joueur peut se déplacer en direction $x$ et $y$ modulo 3.\n",
    "* La position du joueur est affiché en bleu\n",
    "* Appuyer sur le bouton central, change l'état et sort de la fonction"
   ]
  },
  {
   "cell_type": "code",
   "execution_count": 16,
   "metadata": {},
   "outputs": [],
   "source": [
    "def play(state, p):\n",
    "    (x, y) = (1, 1)\n",
    "    dirs = {'up':(0, 1), 'down':(0, -1),\n",
    "            'right':(1, 0), 'left':(-1, 0)}\n",
    "    \n",
    "    while True :\n",
    "        for event in sense.stick.get_events():\n",
    "            if event.action == 'pressed':\n",
    "                if event.direction in dirs:\n",
    "                    (dx, dy) = dirs[event.direction]\n",
    "                    \n",
    "                    x = (x + dx) % 3\n",
    "                    y = (y + dy) % 3\n",
    "                    show(state)\n",
    "                    sense.set_pixel(x, y, blue)\n",
    "                else:\n",
    "                    state[y][x] = p\n",
    "                    show(state)\n",
    "                    return          "
   ]
  },
  {
   "cell_type": "markdown",
   "metadata": {},
   "source": [
    "Voici le début d'un jeu avec un tour pour chaque joueur."
   ]
  },
  {
   "cell_type": "code",
   "execution_count": 17,
   "metadata": {},
   "outputs": [],
   "source": [
    "init()\n",
    "show(state)\n",
    "play(state, 1)\n",
    "play(state, 2)"
   ]
  },
  {
   "cell_type": "markdown",
   "metadata": {},
   "source": [
    "Maintenant nous pouvons combiner toutes les fonctions pour jouer un jeu entier:\n",
    "* les joueurs 1 et 2 alternent avec l'expression `3 - player`\n",
    "* quand un joueur gagne, le chiffre 1 ou 2 est affiché pendant 3 secondes\n",
    "* ensuite le jeux est réinitialisé et continue avec le jouer suivant"
   ]
  },
  {
   "cell_type": "code",
   "execution_count": 20,
   "metadata": {},
   "outputs": [
    {
     "ename": "KeyboardInterrupt",
     "evalue": "",
     "output_type": "error",
     "traceback": [
      "\u001b[0;31m---------------------------------------------------------------------------\u001b[0m",
      "\u001b[0;31mKeyboardInterrupt\u001b[0m                         Traceback (most recent call last)",
      "\u001b[0;32m<ipython-input-20-4e21aba3ff6a>\u001b[0m in \u001b[0;36m<module>\u001b[0;34m\u001b[0m\n\u001b[1;32m      5\u001b[0m \u001b[0;34m\u001b[0m\u001b[0m\n\u001b[1;32m      6\u001b[0m \u001b[0;32mwhile\u001b[0m \u001b[0;32mTrue\u001b[0m\u001b[0;34m:\u001b[0m\u001b[0;34m\u001b[0m\u001b[0m\n\u001b[0;32m----> 7\u001b[0;31m     \u001b[0mplay\u001b[0m\u001b[0;34m(\u001b[0m\u001b[0mstate\u001b[0m\u001b[0;34m,\u001b[0m \u001b[0mplayer\u001b[0m\u001b[0;34m)\u001b[0m\u001b[0;34m\u001b[0m\u001b[0m\n\u001b[0m\u001b[1;32m      8\u001b[0m     \u001b[0;32mif\u001b[0m \u001b[0mwinning\u001b[0m\u001b[0;34m(\u001b[0m\u001b[0mstate\u001b[0m\u001b[0;34m,\u001b[0m \u001b[0mplayer\u001b[0m\u001b[0;34m)\u001b[0m\u001b[0;34m:\u001b[0m\u001b[0;34m\u001b[0m\u001b[0m\n\u001b[1;32m      9\u001b[0m         \u001b[0msense\u001b[0m\u001b[0;34m.\u001b[0m\u001b[0mshow_letter\u001b[0m\u001b[0;34m(\u001b[0m\u001b[0mstr\u001b[0m\u001b[0;34m(\u001b[0m\u001b[0mplayer\u001b[0m\u001b[0;34m)\u001b[0m\u001b[0;34m)\u001b[0m\u001b[0;34m\u001b[0m\u001b[0m\n",
      "\u001b[0;32m<ipython-input-18-e05b4c08a503>\u001b[0m in \u001b[0;36mplay\u001b[0;34m(state, p)\u001b[0m\n\u001b[1;32m      5\u001b[0m \u001b[0;34m\u001b[0m\u001b[0m\n\u001b[1;32m      6\u001b[0m     \u001b[0;32mwhile\u001b[0m \u001b[0;32mTrue\u001b[0m \u001b[0;34m:\u001b[0m\u001b[0;34m\u001b[0m\u001b[0m\n\u001b[0;32m----> 7\u001b[0;31m         \u001b[0;32mfor\u001b[0m \u001b[0mevent\u001b[0m \u001b[0;32min\u001b[0m \u001b[0msense\u001b[0m\u001b[0;34m.\u001b[0m\u001b[0mstick\u001b[0m\u001b[0;34m.\u001b[0m\u001b[0mget_events\u001b[0m\u001b[0;34m(\u001b[0m\u001b[0;34m)\u001b[0m\u001b[0;34m:\u001b[0m\u001b[0;34m\u001b[0m\u001b[0m\n\u001b[0m\u001b[1;32m      8\u001b[0m             \u001b[0;32mif\u001b[0m \u001b[0mevent\u001b[0m\u001b[0;34m.\u001b[0m\u001b[0maction\u001b[0m \u001b[0;34m==\u001b[0m \u001b[0;34m'pressed'\u001b[0m\u001b[0;34m:\u001b[0m\u001b[0;34m\u001b[0m\u001b[0m\n\u001b[1;32m      9\u001b[0m                 \u001b[0;32mif\u001b[0m \u001b[0mevent\u001b[0m\u001b[0;34m.\u001b[0m\u001b[0mdirection\u001b[0m \u001b[0;32min\u001b[0m \u001b[0mdirs\u001b[0m\u001b[0;34m:\u001b[0m\u001b[0;34m\u001b[0m\u001b[0m\n",
      "\u001b[0;31mKeyboardInterrupt\u001b[0m: "
     ]
    }
   ],
   "source": [
    "init()\n",
    "show(state)\n",
    "win = False\n",
    "player = 1\n",
    "\n",
    "while True:\n",
    "    play(state, player)\n",
    "    if winning(state, player):\n",
    "        sense.show_letter(str(player))\n",
    "        sleep(3)\n",
    "        init()\n",
    "        show(state)\n",
    "    player = 3 - player"
   ]
  }
 ],
 "metadata": {
  "kernelspec": {
   "display_name": "Python 3",
   "language": "python",
   "name": "python3"
  },
  "language_info": {
   "codemirror_mode": {
    "name": "ipython",
    "version": 3
   },
   "file_extension": ".py",
   "mimetype": "text/x-python",
   "name": "python",
   "nbconvert_exporter": "python",
   "pygments_lexer": "ipython3",
   "version": "3.5.3"
  }
 },
 "nbformat": 4,
 "nbformat_minor": 2
}
