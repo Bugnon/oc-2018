{
 "cells": [
  {
   "cell_type": "markdown",
   "metadata": {},
   "source": [
    "# SenseHat Project: Labyrinth"
   ]
  },
  {
   "cell_type": "markdown",
   "metadata": {},
   "source": [
    "Made by Werro Jeremy and Gaglio Pierre\n"
   ]
  },
  {
   "cell_type": "markdown",
   "metadata": {},
   "source": [
    "## Début du projet"
   ]
  },
  {
   "cell_type": "markdown",
   "metadata": {},
   "source": [
    "Ce projet a pour but de réaliser un jeu basé sur la mémorisation de pattern avec le module SenseHat. Pour se faire, nous avons choisi de créer 9 niveaux différents avec des chemins à difficulté variée. Le but du joueur sera de bien observer le chemin réalisé par la console afin de le reproduire par lui-même."
   ]
  },
  {
   "cell_type": "markdown",
   "metadata": {},
   "source": [
    "Dans un premier temps, nous importons le module sensehat ainsi que le module time afin d'avoir accès aux bibliothèques. En second temps, nous renommons la fonction senseHat. Finalement nous effectuons un clear de la console afin de commencer à programmer sur un espace vide programmer sur un espace vierge."
   ]
  },
  {
   "cell_type": "code",
   "execution_count": null,
   "metadata": {},
   "outputs": [],
   "source": [
    "from sense_hat import SenseHat\n",
    "from time import sleep, time\n",
    "\n",
    "sense = SenseHat()\n",
    "sense.clear()"
   ]
  },
  {
   "cell_type": "markdown",
   "metadata": {},
   "source": [
    "### Création des variables"
   ]
  },
  {
   "cell_type": "markdown",
   "metadata": {},
   "source": [
    "En second temps, nous importons les couleurs dont nous aurons besoin pour notre jeu."
   ]
  },
  {
   "cell_type": "code",
   "execution_count": null,
   "metadata": {},
   "outputs": [],
   "source": [
    "white = (255, 255, 255)\n",
    "lemon = (255, 255, 128)\n",
    "pink = (255, 0, 128)\n",
    "red = (255, 0, 0)\n",
    "mint = (128, 255, 128)\n",
    "blue = (0, 0, 255)"
   ]
  },
  {
   "cell_type": "markdown",
   "metadata": {},
   "source": [
    "Ensuite, nous ajoutons les variables de niveaux avec leurs patterns."
   ]
  },
  {
   "cell_type": "code",
   "execution_count": null,
   "metadata": {},
   "outputs": [],
   "source": [
    "N1 = [[0,0],[0,1],[0,2],[0,3],\n",
    "      [0,4],[0,5],[0,6],[0,7],\n",
    "      [1,7],[2,7],[3,7],[4,7],\n",
    "      [5,7],[6,7],[7,7],\n",
    "      ]\n",
    "N2 = [[0,0],[0,1],[0,2],[0,3],\n",
    "      [0,4],[1,4],[2,4],[3,4],\n",
    "      [4,4],[5,4],[6,4],[7,4],\n",
    "      [7,5],[7,6],[7,7],\n",
    "      ]\n",
    "N3 = [[0,0],[1,0],[1,1],[1,2],\n",
    "      [2,2],[3,2],[3,3],[3,4],\n",
    "      [3,5],[4,5],[5,5],[6,5],\n",
    "      [6,6],[6,7],[7,7],\n",
    "      ]\n",
    "N4 = [[0,0],[1,0],[1,1],[2,1],\n",
    "      [3,1],[3,0],[4,0],[5,0],\n",
    "      [5,1],[5,2],[5,3],[4,3],\n",
    "      [3,3],[2,3],[1,3],[0,3],\n",
    "      [0,4],[0,5],[0,6],[1,6],\n",
    "      [2,6],[3,6],[4,6],[5,6],\n",
    "      [6,6],[7,6],[7,7],\n",
    "      ]\n",
    "N5 = [[0,0]]\n",
    "N6 = [[0,0]]\n",
    "N7 = [[0,0]]\n",
    "N8 = [[0,0]]\n",
    "N9 = [[0,0]]\n",
    "\n",
    "\n",
    "levels = [N1, N2, N3, N4, N5, N6, N7, N8, N9]"
   ]
  },
  {
   "cell_type": "markdown",
   "metadata": {},
   "source": [
    "Nous définissons ensuite les noms des niveaux de la liste \"levels\" en les associant à leur position dans la liste ( N1 correspondra au niveau 1, etc...).\n",
    "Cela permettra donc d'afficher le nom/numéro des niveaux dans le menu de sélection."
   ]
  },
  {
   "cell_type": "code",
   "execution_count": null,
   "metadata": {},
   "outputs": [],
   "source": [
    "lvl_name = []\n",
    "for i in range(len(levels)):\n",
    "    a = str(i+1)\n",
    "    lvl_name.append(a) \n",
    "    \n",
    "print(N1)"
   ]
  },
  {
   "cell_type": "markdown",
   "metadata": {},
   "source": []
  }
 ],
 "metadata": {
  "kernelspec": {
   "display_name": "Python 3",
   "language": "python",
   "name": "python3"
  }
 },
 "nbformat": 4,
 "nbformat_minor": 2
}
