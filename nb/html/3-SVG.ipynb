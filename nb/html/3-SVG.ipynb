{
 "cells": [
  {
   "cell_type": "markdown",
   "metadata": {},
   "source": [
    "# Scalable Vector Graphics (SVG)\n",
    "https://www.w3schools.com/graphics/svg_intro.asp"
   ]
  },
  {
   "cell_type": "code",
   "execution_count": 17,
   "metadata": {},
   "outputs": [
    {
     "ename": "SyntaxError",
     "evalue": "invalid syntax (<ipython-input-17-f79416fbef06>, line 1)",
     "output_type": "error",
     "traceback": [
      "\u001b[0;36m  File \u001b[0;32m\"<ipython-input-17-f79416fbef06>\"\u001b[0;36m, line \u001b[0;32m1\u001b[0m\n\u001b[0;31m    help(%%html)\u001b[0m\n\u001b[0m         ^\u001b[0m\n\u001b[0;31mSyntaxError\u001b[0m\u001b[0;31m:\u001b[0m invalid syntax\n"
     ]
    }
   ],
   "source": [
    "help(%%html)"
   ]
  },
  {
   "cell_type": "markdown",
   "metadata": {},
   "source": [
    "Scalable Vector Graphics (SVG) is an XML-based vector image format. It is an open standard and developped by the W3C."
   ]
  },
  {
   "cell_type": "code",
   "execution_count": 3,
   "metadata": {},
   "outputs": [],
   "source": [
    "cx = 200"
   ]
  },
  {
   "cell_type": "code",
   "execution_count": 1,
   "metadata": {},
   "outputs": [
    {
     "data": {
      "text/html": [
       "<svg width=\"100\" height=\"100\">\n",
       "  <circle cx=\"50\" cy=\"50\" r=\"40\" stroke=\"green\" stroke-width=\"4\" fill=\"yellow\" />\n",
       "</svg>"
      ],
      "text/plain": [
       "<IPython.core.display.HTML object>"
      ]
     },
     "metadata": {},
     "output_type": "display_data"
    }
   ],
   "source": [
    "%%html\n",
    "<svg width=\"100\" height=\"100\">\n",
    "  <circle cx=\"50\" cy=\"50\" r=\"40\" stroke=\"green\" stroke-width=\"4\" fill=\"yellow\" />\n",
    "</svg>"
   ]
  },
  {
   "cell_type": "code",
   "execution_count": 19,
   "metadata": {},
   "outputs": [
    {
     "data": {
      "text/html": [
       "<svg width=\"100\" height=\"100\">\n",
       "  <circle cx=\"50\" cy=\"50\" r=\"40\" stroke=\"red\" stroke-width=\"10\" \n",
       "    fill=\"yellow\" />\n",
       "<circle r=\"60\" stroke=\"blue\" stroke-width=\"4\" \n",
       "    fill=\"cyan\" />\n",
       "</svg>"
      ],
      "text/plain": [
       "<IPython.core.display.HTML object>"
      ]
     },
     "metadata": {},
     "output_type": "display_data"
    }
   ],
   "source": [
    "%%html\n",
    "<svg width=\"100\" height=\"100\">\n",
    "  <circle cx=\"50\" cy=\"50\" r=\"40\" stroke=\"red\" stroke-width=\"10\" \n",
    "    fill=\"yellow\" />\n",
    "<circle r=\"60\" stroke=\"blue\" stroke-width=\"4\" \n",
    "    fill=\"cyan\" />\n",
    "</svg>"
   ]
  },
  {
   "cell_type": "markdown",
   "metadata": {},
   "source": [
    "## Rectangle"
   ]
  },
  {
   "cell_type": "code",
   "execution_count": 20,
   "metadata": {},
   "outputs": [
    {
     "data": {
      "text/html": [
       "<svg width=\"400\" height=\"110\">\n",
       "  <rect width=\"300\" height=\"100\" \n",
       "    style=\"fill:rgb(0,0,255);stroke-width:3;stroke:rgb(0,0,0)\" />\n",
       "  <circle cx='50' cy='40' r='25' fill='yellow' />\n",
       "</svg>"
      ],
      "text/plain": [
       "<IPython.core.display.HTML object>"
      ]
     },
     "metadata": {},
     "output_type": "display_data"
    }
   ],
   "source": [
    "%%html\n",
    "<svg width=\"400\" height=\"110\">\n",
    "  <rect width=\"300\" height=\"100\" \n",
    "    style=\"fill:rgb(0,0,255);stroke-width:3;stroke:rgb(0,0,0)\" />\n",
    "  <circle cx='50' cy='40' r='25' fill='yellow' />\n",
    "</svg>"
   ]
  },
  {
   "cell_type": "code",
   "execution_count": 20,
   "metadata": {},
   "outputs": [
    {
     "data": {
      "image/svg+xml": [
       "<svg height=\"180\" width=\"400\">\n",
       "  <rect height=\"150\" style=\"fill:blue;stroke:pink;stroke-width:5;fill-opacity:0.1;stroke-opacity:0.9\" width=\"150\" x=\"50\" y=\"20\"/>\n",
       "</svg>"
      ],
      "text/plain": [
       "<IPython.core.display.SVG object>"
      ]
     },
     "metadata": {},
     "output_type": "display_data"
    }
   ],
   "source": [
    "%%svg\n",
    "<svg width=\"400\" height=\"180\">\n",
    "  <rect x=\"50\" y=\"20\" width=\"150\" height=\"150\"\n",
    "  style=\"fill:blue;stroke:pink;stroke-width:5;fill-opacity:0.1;stroke-opacity:0.9\" />\n",
    "</svg>"
   ]
  },
  {
   "cell_type": "code",
   "execution_count": 21,
   "metadata": {},
   "outputs": [
    {
     "data": {
      "image/svg+xml": [
       "<svg height=\"180\" width=\"400\">\n",
       "  <rect height=\"150\" style=\"fill:blue;stroke:pink;stroke-width:5;opacity:0.5\" width=\"150\" x=\"50\" y=\"20\"/>\n",
       "</svg>"
      ],
      "text/plain": [
       "<IPython.core.display.SVG object>"
      ]
     },
     "metadata": {},
     "output_type": "display_data"
    }
   ],
   "source": [
    "%%svg\n",
    "<svg width=\"400\" height=\"180\">\n",
    "  <rect x=\"50\" y=\"20\" width=\"150\" height=\"150\"\n",
    "  style=\"fill:blue;stroke:pink;stroke-width:5;opacity:0.5\" />\n",
    "</svg>"
   ]
  },
  {
   "cell_type": "code",
   "execution_count": 24,
   "metadata": {},
   "outputs": [
    {
     "data": {
      "image/svg+xml": [
       "<svg height=\"180\" width=\"400\">\n",
       "  <rect height=\"150\" rx=\"30\" ry=\"30\" style=\"fill:red;stroke:black;stroke-width:5;opacity:0.5\" width=\"150\" x=\"50\" y=\"20\"/>\n",
       "</svg>"
      ],
      "text/plain": [
       "<IPython.core.display.SVG object>"
      ]
     },
     "metadata": {},
     "output_type": "display_data"
    }
   ],
   "source": [
    "%%svg\n",
    "<svg width=\"400\" height=\"180\">\n",
    "  <rect x=\"50\" y=\"20\" rx=\"30\" ry=\"30\" width=\"150\" height=\"150\"\n",
    "  style=\"fill:red;stroke:black;stroke-width:5;opacity:0.5\" />\n",
    "</svg>"
   ]
  },
  {
   "cell_type": "markdown",
   "metadata": {},
   "source": [
    "## Ellipse"
   ]
  },
  {
   "cell_type": "code",
   "execution_count": 25,
   "metadata": {},
   "outputs": [
    {
     "data": {
      "image/svg+xml": [
       "<svg height=\"140\" width=\"500\">\n",
       "  <ellipse cx=\"200\" cy=\"80\" rx=\"100\" ry=\"50\" style=\"fill:yellow;stroke:purple;stroke-width:2\"/>\n",
       "</svg>"
      ],
      "text/plain": [
       "<IPython.core.display.SVG object>"
      ]
     },
     "metadata": {},
     "output_type": "display_data"
    }
   ],
   "source": [
    "%%svg\n",
    "<svg height=\"140\" width=\"500\">\n",
    "  <ellipse cx=\"200\" cy=\"80\" rx=\"100\" ry=\"50\"\n",
    "  style=\"fill:yellow;stroke:purple;stroke-width:2\" />\n",
    "</svg>"
   ]
  },
  {
   "cell_type": "code",
   "execution_count": 27,
   "metadata": {},
   "outputs": [
    {
     "data": {
      "image/svg+xml": [
       "<svg height=\"150\" width=\"500\">\n",
       "  <ellipse cx=\"240\" cy=\"100\" rx=\"220\" ry=\"30\" style=\"fill:purple\"/>\n",
       "  <ellipse cx=\"220\" cy=\"70\" rx=\"190\" ry=\"20\" style=\"fill:lime\"/>\n",
       "  <ellipse cx=\"210\" cy=\"45\" rx=\"170\" ry=\"15\" style=\"fill:yellow\"/>\n",
       "</svg>"
      ],
      "text/plain": [
       "<IPython.core.display.SVG object>"
      ]
     },
     "metadata": {},
     "output_type": "display_data"
    }
   ],
   "source": [
    "%%svg\n",
    "<svg height=\"150\" width=\"500\">\n",
    "  <ellipse cx=\"240\" cy=\"100\" rx=\"220\" ry=\"30\" style=\"fill:purple\" />\n",
    "  <ellipse cx=\"220\" cy=\"70\" rx=\"190\" ry=\"20\" style=\"fill:lime\" />\n",
    "  <ellipse cx=\"210\" cy=\"45\" rx=\"170\" ry=\"15\" style=\"fill:yellow\" />\n",
    "</svg>"
   ]
  },
  {
   "cell_type": "code",
   "execution_count": 29,
   "metadata": {},
   "outputs": [
    {
     "data": {
      "image/svg+xml": [
       "<svg height=\"100\" width=\"500\">\n",
       "  <ellipse cx=\"240\" cy=\"50\" rx=\"220\" ry=\"30\" style=\"fill:red\"/>\n",
       "  <ellipse cx=\"220\" cy=\"50\" rx=\"190\" ry=\"20\" style=\"fill:white\"/>\n",
       "</svg>"
      ],
      "text/plain": [
       "<IPython.core.display.SVG object>"
      ]
     },
     "metadata": {},
     "output_type": "display_data"
    }
   ],
   "source": [
    "%%svg\n",
    "<svg height=\"100\" width=\"500\">\n",
    "  <ellipse cx=\"240\" cy=\"50\" rx=\"220\" ry=\"30\" style=\"fill:red\" />\n",
    "  <ellipse cx=\"220\" cy=\"50\" rx=\"190\" ry=\"20\" style=\"fill:white\" />\n",
    "</svg>"
   ]
  },
  {
   "cell_type": "markdown",
   "metadata": {},
   "source": [
    "## Line"
   ]
  },
  {
   "cell_type": "code",
   "execution_count": 42,
   "metadata": {},
   "outputs": [
    {
     "data": {
      "image/svg+xml": [
       "<svg height=\"210\" width=\"500\">\n",
       "  <rect height=\"200\" style=\"fill:blue;stroke:green;stroke-width:8;opacity:0.3\" width=\"200\"/>\n",
       "  <line style=\"stroke:rgb(255,0,0);stroke-width:2\" x1=\"0\" x2=\"200\" y1=\"0\" y2=\"200\"/>\n",
       "</svg>"
      ],
      "text/plain": [
       "<IPython.core.display.SVG object>"
      ]
     },
     "metadata": {},
     "output_type": "display_data"
    }
   ],
   "source": [
    "%%svg\n",
    "<svg height=\"210\" width=\"500\">\n",
    "  <rect width='200' height='200' \n",
    "    style='fill:blue;stroke:green;stroke-width:8;opacity:0.3' />\n",
    "  <line x1=\"0\" y1=\"0\" x2=\"200\" y2=\"200\" style=\"stroke:rgb(255,0,0);stroke-width:2\" />\n",
    "</svg>"
   ]
  },
  {
   "cell_type": "markdown",
   "metadata": {},
   "source": [
    "## Polygon"
   ]
  },
  {
   "cell_type": "code",
   "execution_count": 45,
   "metadata": {},
   "outputs": [
    {
     "data": {
      "image/svg+xml": [
       "<svg height=\"210\" width=\"500\">\n",
       "  <polygon points=\"200,10 250,190 160,210, 50, 100\" style=\"fill:lime;stroke:purple;stroke-width:4\"/>\n",
       "</svg>"
      ],
      "text/plain": [
       "<IPython.core.display.SVG object>"
      ]
     },
     "metadata": {},
     "output_type": "display_data"
    }
   ],
   "source": [
    "%%svg\n",
    "<svg height=\"210\" width=\"500\">\n",
    "  <polygon points=\"200,10 250,190 160,210, 50, 100\" \n",
    "    style=\"fill:lime;stroke:purple;stroke-width:4\" />\n",
    "</svg>"
   ]
  },
  {
   "cell_type": "code",
   "execution_count": 46,
   "metadata": {},
   "outputs": [
    {
     "data": {
      "image/svg+xml": [
       "<svg height=\"210\" width=\"500\">\n",
       "  <polygon points=\"100,10 40,198 190,78 10,78 160,198\" style=\"fill:lime;stroke:purple;stroke-width:5;fill-rule:nonzero;\"/>\n",
       "</svg>"
      ],
      "text/plain": [
       "<IPython.core.display.SVG object>"
      ]
     },
     "metadata": {},
     "output_type": "display_data"
    }
   ],
   "source": [
    "%%svg\n",
    "<svg height=\"210\" width=\"500\">\n",
    "  <polygon points=\"100,10 40,198 190,78 10,78 160,198\"\n",
    "  style=\"fill:lime;stroke:purple;stroke-width:5;fill-rule:nonzero;\" />\n",
    "</svg>"
   ]
  },
  {
   "cell_type": "code",
   "execution_count": 47,
   "metadata": {},
   "outputs": [
    {
     "data": {
      "image/svg+xml": [
       "<svg height=\"210\" width=\"500\">\n",
       "  <polygon points=\"100,10 40,198 190,78 10,78 160,198\" style=\"fill:lime;stroke:purple;stroke-width:5;fill-rule:evenodd;\"/>\n",
       "</svg>"
      ],
      "text/plain": [
       "<IPython.core.display.SVG object>"
      ]
     },
     "metadata": {},
     "output_type": "display_data"
    }
   ],
   "source": [
    "%%svg\n",
    "<svg height=\"210\" width=\"500\">\n",
    "  <polygon points=\"100,10 40,198 190,78 10,78 160,198\"\n",
    "  style=\"fill:lime;stroke:purple;stroke-width:5;fill-rule:evenodd;\" />\n",
    "</svg>"
   ]
  },
  {
   "cell_type": "markdown",
   "metadata": {},
   "source": [
    "## Polyline"
   ]
  },
  {
   "cell_type": "code",
   "execution_count": 54,
   "metadata": {},
   "outputs": [
    {
     "data": {
      "image/svg+xml": [
       "<svg height=\"200\" width=\"500\">\n",
       "  <polyline points=\"20,100 40,25 60,40 80,120 120,140 200,180\" style=\"fill:none;stroke:black;stroke-width:3\"/>\n",
       "  <polyline points=\"0,40 40,40 40,80 80,80 80,120 120,120 120,160\" style=\"fill:none;stroke:red;stroke-width:4\"/>\n",
       "</svg>"
      ],
      "text/plain": [
       "<IPython.core.display.SVG object>"
      ]
     },
     "metadata": {},
     "output_type": "display_data"
    }
   ],
   "source": [
    "%%svg\n",
    "<svg height=\"200\" width=\"500\">\n",
    "  <polyline points=\"20,100 40,25 60,40 80,120 120,140 200,180\"\n",
    "  style=\"fill:none;stroke:black;stroke-width:3\" />\n",
    "  <polyline points=\"0,40 40,40 40,80 80,80 80,120 120,120 120,160\"\n",
    "  style=\"fill:none;stroke:red;stroke-width:4\" />\n",
    "</svg>"
   ]
  },
  {
   "cell_type": "markdown",
   "metadata": {},
   "source": [
    "## Path"
   ]
  },
  {
   "cell_type": "code",
   "execution_count": 59,
   "metadata": {},
   "outputs": [
    {
     "data": {
      "image/svg+xml": [
       "<svg height=\"210\" width=\"400\">\n",
       "  <path d=\"M150 0 L75 200 L225 200 Z\"/>\n",
       "  <path d=\"M50 100 l100 0 l0 50 z\" fill=\"red\"/>\n",
       "</svg>"
      ],
      "text/plain": [
       "<IPython.core.display.SVG object>"
      ]
     },
     "metadata": {},
     "output_type": "display_data"
    }
   ],
   "source": [
    "%%svg\n",
    "<svg height=\"210\" width=\"400\">\n",
    "  <path d=\"M150 0 L75 200 L225 200 Z\" />\n",
    "  <path d=\"M50 100 l100 0 l0 50 z\" fill='red' />\n",
    "</svg>"
   ]
  },
  {
   "cell_type": "code",
   "execution_count": 78,
   "metadata": {},
   "outputs": [
    {
     "data": {
      "image/svg+xml": [
       "<svg height=\"400\" width=\"450\">\n",
       "  <path d=\"M 100 350 l 150 -300\" fill=\"none\" id=\"lineAB\" stroke=\"red\" stroke-width=\"3\"/>\n",
       "  <path d=\"M 250 50 l 150 300\" fill=\"none\" id=\"lineBC\" stroke=\"red\" stroke-width=\"3\"/>\n",
       "  <path d=\"M 175 200 l 150 0\" fill=\"none\" stroke=\"green\" stroke-width=\"3\"/>\n",
       "  <path d=\"M 100 350 q 150 -300 300 0\" fill=\"none\" stroke=\"blue\" stroke-width=\"5\"/>\n",
       "  <!-- Mark relevant points -->\n",
       "  <g fill=\"black\" stroke=\"black\" stroke-width=\"3\">\n",
       "    <circle cx=\"100\" cy=\"350\" id=\"pointA\" r=\"3\"/>\n",
       "    <circle cx=\"250\" cy=\"50\" id=\"pointB\" r=\"3\"/>\n",
       "    <circle cx=\"400\" cy=\"350\" id=\"pointC\" r=\"3\"/>\n",
       "  </g>\n",
       "  <!-- Label the points -->\n",
       "  <g fill=\"black\" font-family=\"sans-serif\" font-size=\"30\" stroke=\"none\" text-anchor=\"middle\">\n",
       "    <text dx=\"-30\" x=\"100\" y=\"350\">A</text>\n",
       "    <text dy=\"-10\" x=\"250\" y=\"50\">B</text>\n",
       "    <text dx=\"30\" x=\"400\" y=\"350\">C</text>\n",
       "  </g>\n",
       "</svg>"
      ],
      "text/plain": [
       "<IPython.core.display.SVG object>"
      ]
     },
     "metadata": {},
     "output_type": "display_data"
    }
   ],
   "source": [
    "%%svg\n",
    "<svg height=\"400\" width=\"450\">\n",
    "  <path id=\"lineAB\" d=\"M 100 350 l 150 -300\" stroke=\"red\"\n",
    "  stroke-width=\"3\" fill=\"none\" />\n",
    "  <path id=\"lineBC\" d=\"M 250 50 l 150 300\" stroke=\"red\"\n",
    "  stroke-width=\"3\" fill=\"none\" />\n",
    "  <path d=\"M 175 200 l 150 0\" stroke=\"green\" stroke-width=\"3\"\n",
    "  fill=\"none\" />\n",
    "  <path d=\"M 100 350 q 150 -300 300 0\" stroke=\"blue\"\n",
    "  stroke-width=\"5\" fill=\"none\" />\n",
    "  <!-- Mark relevant points -->\n",
    "  <g stroke=\"black\" stroke-width=\"3\" fill=\"black\">\n",
    "    <circle id=\"pointA\" cx=\"100\" cy=\"350\" r=\"3\" />\n",
    "    <circle id=\"pointB\" cx=\"250\" cy=\"50\" r=\"3\" />\n",
    "    <circle id=\"pointC\" cx=\"400\" cy=\"350\" r=\"3\" />\n",
    "  </g>\n",
    "  <!-- Label the points -->\n",
    "  <g font-size=\"30\" font-family=\"sans-serif\" fill=\"black\" stroke=\"none\"\n",
    "  text-anchor=\"middle\">\n",
    "    <text x=\"100\" y=\"350\" dx=\"-30\">A</text>\n",
    "    <text x=\"250\" y=\"50\" dy=\"-10\">B</text>\n",
    "    <text x=\"400\" y=\"350\" dx=\"30\">C</text>\n",
    "  </g>\n",
    "</svg>"
   ]
  },
  {
   "cell_type": "markdown",
   "metadata": {},
   "source": [
    "## Text"
   ]
  },
  {
   "cell_type": "code",
   "execution_count": 64,
   "metadata": {},
   "outputs": [
    {
     "data": {
      "image/svg+xml": [
       "<svg height=\"100\" width=\"200\">\n",
       "  <text fill=\"red\" x=\"0\" y=\"15\">I love SVG!</text>\n",
       "  <text fill=\"blue\" transform=\"rotate(30 20,40)\" x=\"0\" y=\"45\">I love Jupyter</text>\n",
       "</svg>"
      ],
      "text/plain": [
       "<IPython.core.display.SVG object>"
      ]
     },
     "metadata": {},
     "output_type": "display_data"
    }
   ],
   "source": [
    "%%svg\n",
    "<svg height=\"100\" width=\"200\">\n",
    "  <text x=\"0\" y=\"15\" fill=\"red\">I love SVG!</text>\n",
    "  <text x=\"0\" y=\"45\" fill=\"blue\" \n",
    "        transform=\"rotate(30 20,40)\">I love Jupyter</text>\n",
    "</svg>"
   ]
  },
  {
   "cell_type": "code",
   "execution_count": 65,
   "metadata": {},
   "outputs": [
    {
     "data": {
      "image/svg+xml": [
       "<svg height=\"90\" width=\"200\">\n",
       "  <text style=\"fill:red;\" x=\"10\" y=\"20\">Several lines:\n",
       "    <tspan x=\"10\" y=\"45\">First line.</tspan>\n",
       "    <tspan x=\"10\" y=\"70\">Second line.</tspan>\n",
       "  </text>\n",
       "</svg>"
      ],
      "text/plain": [
       "<IPython.core.display.SVG object>"
      ]
     },
     "metadata": {},
     "output_type": "display_data"
    }
   ],
   "source": [
    "%%svg\n",
    "<svg height=\"90\" width=\"200\">\n",
    "  <text x=\"10\" y=\"20\" style=\"fill:red;\">Several lines:\n",
    "    <tspan x=\"10\" y=\"45\">First line.</tspan>\n",
    "    <tspan x=\"10\" y=\"70\">Second line.</tspan>\n",
    "  </text>\n",
    "</svg>"
   ]
  },
  {
   "cell_type": "code",
   "execution_count": 66,
   "metadata": {},
   "outputs": [
    {
     "data": {
      "image/svg+xml": [
       "<svg height=\"30\" width=\"200\" xmlns:xlink=\"http://www.w3.org/1999/xlink\">\n",
       "  <a target=\"_blank\" xlink:href=\"https://www.w3schools.com/graphics/\">\n",
       "    <text fill=\"red\" x=\"0\" y=\"15\">I love SVG!</text>\n",
       "  </a>\n",
       "</svg>"
      ],
      "text/plain": [
       "<IPython.core.display.SVG object>"
      ]
     },
     "metadata": {},
     "output_type": "display_data"
    }
   ],
   "source": [
    "%%svg\n",
    "<svg height=\"30\" width=\"200\" xmlns:xlink=\"http://www.w3.org/1999/xlink\">\n",
    "  <a xlink:href=\"https://www.w3schools.com/graphics/\" target=\"_blank\">\n",
    "    <text x=\"0\" y=\"15\" fill=\"red\">I love SVG!</text>\n",
    "  </a>\n",
    "</svg>"
   ]
  },
  {
   "cell_type": "markdown",
   "metadata": {},
   "source": [
    "## Stroking"
   ]
  },
  {
   "cell_type": "code",
   "execution_count": 67,
   "metadata": {},
   "outputs": [
    {
     "data": {
      "image/svg+xml": [
       "<svg height=\"80\" width=\"300\">\n",
       "  <g fill=\"none\">\n",
       "    <path d=\"M5 20 l215 0\" stroke=\"red\"/>\n",
       "    <path d=\"M5 40 l215 0\" stroke=\"black\"/>\n",
       "    <path d=\"M5 60 l215 0\" stroke=\"blue\"/>\n",
       "  </g>\n",
       "</svg>"
      ],
      "text/plain": [
       "<IPython.core.display.SVG object>"
      ]
     },
     "metadata": {},
     "output_type": "display_data"
    }
   ],
   "source": [
    "%%svg\n",
    "<svg height=\"80\" width=\"300\">\n",
    "  <g fill=\"none\">\n",
    "    <path stroke=\"red\" d=\"M5 20 l215 0\" />\n",
    "    <path stroke=\"black\" d=\"M5 40 l215 0\" />\n",
    "    <path stroke=\"blue\" d=\"M5 60 l215 0\" />\n",
    "  </g>\n",
    "</svg>"
   ]
  },
  {
   "cell_type": "code",
   "execution_count": 68,
   "metadata": {},
   "outputs": [
    {
     "data": {
      "image/svg+xml": [
       "<svg height=\"80\" width=\"300\">\n",
       "  <g fill=\"none\" stroke=\"black\">\n",
       "    <path d=\"M5 20 l215 0\" stroke-width=\"2\"/>\n",
       "    <path d=\"M5 40 l215 0\" stroke-width=\"4\"/>\n",
       "    <path d=\"M5 60 l215 0\" stroke-width=\"6\"/>\n",
       "  </g>\n",
       "</svg>"
      ],
      "text/plain": [
       "<IPython.core.display.SVG object>"
      ]
     },
     "metadata": {},
     "output_type": "display_data"
    }
   ],
   "source": [
    "%%svg\n",
    "<svg height=\"80\" width=\"300\">\n",
    "  <g fill=\"none\" stroke=\"black\">\n",
    "    <path stroke-width=\"2\" d=\"M5 20 l215 0\" />\n",
    "    <path stroke-width=\"4\" d=\"M5 40 l215 0\" />\n",
    "    <path stroke-width=\"6\" d=\"M5 60 l215 0\" />\n",
    "  </g>\n",
    "</svg>"
   ]
  },
  {
   "cell_type": "code",
   "execution_count": 69,
   "metadata": {},
   "outputs": [
    {
     "data": {
      "image/svg+xml": [
       "<svg height=\"80\" width=\"300\">\n",
       "  <g fill=\"none\" stroke=\"black\" stroke-width=\"6\">\n",
       "    <path d=\"M5 20 l215 0\" stroke-linecap=\"butt\"/>\n",
       "    <path d=\"M5 40 l215 0\" stroke-linecap=\"round\"/>\n",
       "    <path d=\"M5 60 l215 0\" stroke-linecap=\"square\"/>\n",
       "  </g>\n",
       "</svg>"
      ],
      "text/plain": [
       "<IPython.core.display.SVG object>"
      ]
     },
     "metadata": {},
     "output_type": "display_data"
    }
   ],
   "source": [
    "%%svg\n",
    "<svg height=\"80\" width=\"300\">\n",
    "  <g fill=\"none\" stroke=\"black\" stroke-width=\"6\">\n",
    "    <path stroke-linecap=\"butt\" d=\"M5 20 l215 0\" />\n",
    "    <path stroke-linecap=\"round\" d=\"M5 40 l215 0\" />\n",
    "    <path stroke-linecap=\"square\" d=\"M5 60 l215 0\" />\n",
    "  </g>\n",
    "</svg>"
   ]
  },
  {
   "cell_type": "code",
   "execution_count": 70,
   "metadata": {},
   "outputs": [
    {
     "data": {
      "image/svg+xml": [
       "<svg height=\"80\" width=\"300\">\n",
       "  <g fill=\"none\" stroke=\"black\" stroke-width=\"4\">\n",
       "    <path d=\"M5 20 l215 0\" stroke-dasharray=\"5,5\"/>\n",
       "    <path d=\"M5 40 l215 0\" stroke-dasharray=\"10,10\"/>\n",
       "    <path d=\"M5 60 l215 0\" stroke-dasharray=\"20,10,5,5,5,10\"/>\n",
       "  </g>\n",
       "</svg>"
      ],
      "text/plain": [
       "<IPython.core.display.SVG object>"
      ]
     },
     "metadata": {},
     "output_type": "display_data"
    }
   ],
   "source": [
    "%%svg\n",
    "<svg height=\"80\" width=\"300\">\n",
    "  <g fill=\"none\" stroke=\"black\" stroke-width=\"4\">\n",
    "    <path stroke-dasharray=\"5,5\" d=\"M5 20 l215 0\" />\n",
    "    <path stroke-dasharray=\"10,10\" d=\"M5 40 l215 0\" />\n",
    "    <path stroke-dasharray=\"20,10,5,5,5,10\" d=\"M5 60 l215 0\" />\n",
    "  </g>\n",
    "</svg>"
   ]
  },
  {
   "cell_type": "markdown",
   "metadata": {},
   "source": [
    "## Linear gradient"
   ]
  },
  {
   "cell_type": "code",
   "execution_count": 7,
   "metadata": {},
   "outputs": [
    {
     "data": {
      "text/html": [
       "<svg height=\"150\" width=\"400\">\n",
       "  <defs>\n",
       "    <linearGradient id=\"grad1\" x1=\"0%\" y1=\"0%\" x2=\"100%\" y2=\"0%\">\n",
       "      <stop offset=\"0%\" style=\"stop-color:rgb(255,255,0);stop-opacity:1\" />\n",
       "      <stop offset=\"100%\" style=\"stop-color:rgb(255,0,255);stop-opacity:1\" />\n",
       "    </linearGradient>\n",
       "  </defs>\n",
       "  <ellipse cx=\"200\" cy=\"70\" rx=\"85\" ry=\"55\" fill=\"url(#grad1)\" />\n",
       "</svg>"
      ],
      "text/plain": [
       "<IPython.core.display.HTML object>"
      ]
     },
     "metadata": {},
     "output_type": "display_data"
    }
   ],
   "source": [
    "%%html\n",
    "<svg height=\"150\" width=\"400\">\n",
    "  <defs>\n",
    "    <linearGradient id=\"grad1\" x1=\"0%\" y1=\"0%\" x2=\"100%\" y2=\"0%\">\n",
    "      <stop offset=\"0%\" style=\"stop-color:rgb(255,255,0);stop-opacity:1\" />\n",
    "      <stop offset=\"100%\" style=\"stop-color:rgb(255,0,255);stop-opacity:1\" />\n",
    "    </linearGradient>\n",
    "  </defs>\n",
    "  <ellipse cx=\"200\" cy=\"70\" rx=\"85\" ry=\"55\" fill=\"url(#grad1)\" />\n",
    "</svg>"
   ]
  },
  {
   "cell_type": "code",
   "execution_count": null,
   "metadata": {},
   "outputs": [],
   "source": []
  }
 ],
 "metadata": {
  "kernelspec": {
   "display_name": "Python 3",
   "language": "python",
   "name": "python3"
  },
  "language_info": {
   "codemirror_mode": {
    "name": "ipython",
    "version": 3
   },
   "file_extension": ".py",
   "mimetype": "text/x-python",
   "name": "python",
   "nbconvert_exporter": "python",
   "pygments_lexer": "ipython3",
   "version": "3.6.4"
  }
 },
 "nbformat": 4,
 "nbformat_minor": 2
}
