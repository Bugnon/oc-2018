{
 "cells": [
  {
   "cell_type": "markdown",
   "metadata": {},
   "source": [
    "# GitHub : Le réseau social des développeurs grâce à Git"
   ]
  },
  {
   "cell_type": "markdown",
   "metadata": {},
   "source": [
    "_Auteur_: Hugo Ducommun\n",
    "\n",
    "_Date_: 30 Mai 2019"
   ]
  },
  {
   "cell_type": "markdown",
   "metadata": {},
   "source": [
    "_GitHub_ est un plateforme de projets de jeunes développeurs motivés qui souhaient publier leur travail de manière libre (OpenSource). _GitHub_ est connu pour être pratique lorsqu'on travaille en équipe. Il permet à chaque collaborateurs de travailler sur un seul et même projet sans influencer l'avancement des autres. Ce site web peut également être utilisé de manière professionnelle grâce à des comptes payants."
   ]
  },
  {
   "cell_type": "markdown",
   "metadata": {},
   "source": [
    "L'avantage de GitHub est qu'il est OpenSource. C'est à dire que même si nous ne sommes pas administrateur d'un projet, on peut tout de même y contribuer. En faisant une **pull request** (nous verrons cela plus tard) à l'administrateur pour qu'il examine notre idée et peut être la mettre en application sur son projet."
   ]
  },
  {
   "cell_type": "markdown",
   "metadata": {},
   "source": [
    "## On parle souvent de `git`, de quoi s'agit-il ?\n",
    "\n",
    "**git** est un logiciel de versioning (gestion de versions) que le site _GitHub_ utilise.\n",
    "\n",
    "Il permet par conséquent de faciliter l'accès à l'historique des anciennes versions d'un projet et de synchroniser facilement les fichiers entre eux grâce à un système de **branches** que je développerai dans le point suivant.\n",
    "\n",
    "En réalité c'est git qui est à la base du site web _GitHub_. Mais _GitHub_ a rajouté une interface graphique à git qui s'utilise principalement dans un terminal, c'est pour cela que _GitHub_ est plus connu que le logiciel de versioning lui-même. Pour cette raison, j'étudirai ici principalement le logiciel git et rajouterai quelques informations supplémentaires sur _GitHub_."
   ]
  },
  {
   "cell_type": "markdown",
   "metadata": {},
   "source": [
    "---"
   ]
  },
  {
   "cell_type": "markdown",
   "metadata": {},
   "source": [
    "# Fonctionnement de `git`"
   ]
  },
  {
   "cell_type": "markdown",
   "metadata": {},
   "source": [
    "### Introduction imagée de la notion de *branch*."
   ]
  },
  {
   "cell_type": "markdown",
   "metadata": {},
   "source": [
    "Git procède en branches. Voici un petit schéma que j'ai trouvé très expressif sur la manière dont ça fonctionne."
   ]
  },
  {
   "cell_type": "markdown",
   "metadata": {},
   "source": [
    "![git_branches](./img/git_branch.png)"
   ]
  },
  {
   "cell_type": "markdown",
   "metadata": {},
   "source": [
    "Nous avons donc deux types de *branches* différentes, oui oui deux et pas trois comme sur le schéma. Il y a la *branch* du milieu appelé **master branch**, c'est là où se situera la version officielle et fonctionnelle de votre projet. Puis un deuxième type appelé **feature branch** qui est caractérisé par les branches nommées sur le schéma, hat et glasses (en réalité ce sont toutes les branches exceptés la master branch).\n",
    "\n",
    "Le fonctionnement est simple, le projet est ici de rajouter un chapeau et des lunettes à l'image du pouple de base. Un collaborateur s'occupera donc du chapeau (C1) et un autre des lunettes (C2). Ils vont procéder de cette manière :\n",
    "\n",
    "1. C1 et C2 vont donc copier le projet actuel (master branch) dans une feature branch personnelle.\n",
    "\n",
    "2. Faire leurs modifications et les rendre fonctionnelles (ajoutez un chapeau ou des lunettes).\n",
    "\n",
    "3. Uploader leurs modifications dans la master branch pour avoir un projet complet."
   ]
  },
  {
   "cell_type": "markdown",
   "metadata": {},
   "source": [
    "---"
   ]
  },
  {
   "cell_type": "markdown",
   "metadata": {},
   "source": [
    "### Termes techniques"
   ]
  },
  {
   "cell_type": "markdown",
   "metadata": {},
   "source": [
    "Bien sûr, ceci est un peu plus compliqué dans un vrai projet, il y a beaucoup plus de choses à faire que rajouter deux accessoires, et nous devons procéder par ligne de commandes. Mais c'est une bonne approche de cette notion.\n",
    "\n",
    "Je vais donc ici détaillé quelques termes qu'utilise git dans son fonctionnement."
   ]
  },
  {
   "cell_type": "markdown",
   "metadata": {},
   "source": [
    "---"
   ]
  },
  {
   "cell_type": "markdown",
   "metadata": {},
   "source": [
    "#### ![icon_repository](./img/icons-repository.png)\n",
    "#### Repository"
   ]
  },
  {
   "cell_type": "markdown",
   "metadata": {},
   "source": [
    "Un repository (en français dépôt) est l'ensemble de votre projet : les documents que vous éditez et dont\n",
    "vous suivez les modifications s'y trouvent.\n",
    "Le repository peut être locale ou se trouver sur votre serveur dédié."
   ]
  },
  {
   "cell_type": "markdown",
   "metadata": {},
   "source": [
    "---"
   ]
  },
  {
   "cell_type": "markdown",
   "metadata": {},
   "source": [
    "#### Branch"
   ]
  },
  {
   "cell_type": "markdown",
   "metadata": {},
   "source": [
    "C'est une des branches copiées de la master branch par défaut. Après avoir créé la branche copiée de master, elle ne sera plus affectée par les changement opérés sur les autres branches du projet.\n",
    "\n",
    "Sur le schéma ci-dessous, 'Copie de A' est une branche de 'Branche A'. D'ailleurs pour avoir copié la branche A, l'utilisateur a dû **merge**."
   ]
  },
  {
   "cell_type": "markdown",
   "metadata": {},
   "source": [
    "La commande pour créer une nouvelle branche est : `git branch nomNouvelleBranche`\n",
    "\n",
    "La commande : `git branch --list` vous permet de voir la liste de toutes les branches du repository actuel."
   ]
  },
  {
   "cell_type": "markdown",
   "metadata": {},
   "source": [
    "![branch](./img/branch.png)"
   ]
  },
  {
   "cell_type": "markdown",
   "metadata": {},
   "source": [
    "---"
   ]
  },
  {
   "cell_type": "markdown",
   "metadata": {},
   "source": [
    "#### ![icon_pull-request](./img/icons-pull-request.png)\n",
    "#### Pull request"
   ]
  },
  {
   "cell_type": "markdown",
   "metadata": {},
   "source": [
    "Ce terme peut être traduit par demande de fusion (**merge**).\n",
    "C'est lorsque le collaborateur veut fusion sa branch avec une autre (généralement la master branch) pour appliquer les changements tels que les corrections de bugs ou ajout de fonctionnalité à la branche cible.\n",
    "Le responsable de la branche ciblée est libres de refuser ou accepter ce **pull request**."
   ]
  },
  {
   "cell_type": "markdown",
   "metadata": {},
   "source": [
    "![pull-request](./img/pull_request.png)"
   ]
  },
  {
   "cell_type": "markdown",
   "metadata": {},
   "source": [
    "---"
   ]
  },
  {
   "cell_type": "markdown",
   "metadata": {},
   "source": [
    "#### ![icon_fork](./img/icons-code-fork.png)\n",
    "#### Fork "
   ]
  },
  {
   "cell_type": "markdown",
   "metadata": {},
   "source": [
    "Fork (littéralement fourchette en français), correspond à copier une branche déjà existante. On fork souvent la master branch au début pour pouvoir se créer notre propre branch et modifier le projet sans impacter sur la master branch."
   ]
  },
  {
   "cell_type": "markdown",
   "metadata": {},
   "source": [
    "---"
   ]
  },
  {
   "cell_type": "markdown",
   "metadata": {},
   "source": [
    "#### ![icon_merge](./img/icons-merge-git.png)\n",
    "#### Merge "
   ]
  },
  {
   "cell_type": "markdown",
   "metadata": {},
   "source": [
    "Merge est un peu le contraire de fork, après avoir modifié tout ce que l'on voulait, on peut fusionner notre branche avec une autre. Cette fonctionnalité est souvent protégée par un pull request sinon tout le monde pourrait modifier n'importe quelle branche.\n",
    "\n",
    "Les modifications de la branche B seront donc appliquées à la branche A si le merge fonctionne."
   ]
  },
  {
   "cell_type": "markdown",
   "metadata": {},
   "source": [
    "La commande pour fusionner la branche B est : `git merge brancheB`\n",
    "\n",
    "Attention il est important d'exécuter cette commande depuis la branche A !"
   ]
  },
  {
   "cell_type": "markdown",
   "metadata": {},
   "source": [
    "![merge](./img/merge.png)"
   ]
  },
  {
   "cell_type": "markdown",
   "metadata": {},
   "source": [
    "---"
   ]
  },
  {
   "cell_type": "markdown",
   "metadata": {},
   "source": [
    "#### ![icon_commit](./img/icons-commit-git.png)\n",
    "#### Commit "
   ]
  },
  {
   "cell_type": "markdown",
   "metadata": {},
   "source": [
    "Commit est l'action la plus courante que vous allez exécuter avec git. Elle correspond, comme l'indique son icône à une modification de la branche en question. Lorsque vous avez localement modifié une branche, vous devez **commit** pour enregister les changements, généralement avec un message d'information pour pouvoir par la suite mieux retrouver des anciennes modifications."
   ]
  },
  {
   "cell_type": "markdown",
   "metadata": {},
   "source": [
    "La commande pour commit en rajoutant un message d'exemple est : `git commit -m 'Add the cow-boy hat'`"
   ]
  },
  {
   "cell_type": "markdown",
   "metadata": {},
   "source": [
    "![commit](./img/commit.png)"
   ]
  },
  {
   "cell_type": "markdown",
   "metadata": {},
   "source": [
    "---"
   ]
  },
  {
   "cell_type": "markdown",
   "metadata": {},
   "source": [
    "#### ![icon_push](./img/icons-arrow-up.png)\n",
    "#### Push"
   ]
  },
  {
   "cell_type": "markdown",
   "metadata": {},
   "source": [
    "Envoye tous vos commits dans le serveur dédié sur lequel est hebergé le repository (dépôt distant). Vous 'envoyez' en quelque sorte vos fichiers à vos collaborateurs."
   ]
  },
  {
   "cell_type": "markdown",
   "metadata": {},
   "source": [
    "La commande pour push est : `git push`"
   ]
  },
  {
   "cell_type": "markdown",
   "metadata": {},
   "source": [
    "---"
   ]
  },
  {
   "cell_type": "markdown",
   "metadata": {},
   "source": [
    "#### ![icon_pull](./img/icons-down-arrow.png)\n",
    "#### Pull "
   ]
  },
  {
   "cell_type": "markdown",
   "metadata": {},
   "source": [
    "Effet contraire de push, vous recevez les fichiers envoyés par vos collègues. Avant chaque grosse séance de travail, assurez vous de pull pour voir l'avancement de votre équipe. Il charge les dossiers et fichiers du repository sur votre machine en local."
   ]
  },
  {
   "cell_type": "markdown",
   "metadata": {},
   "source": [
    "La commande pour pull est : `git pull`"
   ]
  },
  {
   "cell_type": "markdown",
   "metadata": {},
   "source": [
    "---"
   ]
  },
  {
   "cell_type": "markdown",
   "metadata": {},
   "source": [
    "# Autres commandes dans git"
   ]
  },
  {
   "cell_type": "markdown",
   "metadata": {},
   "source": [
    "Nous avons déjà vu quelques commandes dans les termes techniques, voici le reste des commandes basiques :"
   ]
  },
  {
   "cell_type": "markdown",
   "metadata": {},
   "source": [
    "* `git init` : initialise votre dossier en tant qu'un dossier git\n",
    "* `git clone URL` : clone un repository déjà existant dans le dossier depuis lequel vous exécutez la commande\n",
    "* `git status` : affiche le statuts des fichiers de votre repository. Permet de voir où nous en sommes.\n",
    "* `git add nomFichier` : ajouter des fichiers dans l'index (pré-sauvegarde). La commande `git add *` ajoute tous les fichiers modifiés.\n",
    "* `git checkout nomBranche` : s'utilise en tant que switch d'une branche à une autre (utilisation basique)"
   ]
  },
  {
   "cell_type": "markdown",
   "metadata": {},
   "source": [
    "Lors de la première utilisation de git, vous devrez enregistrer votre pseudo et votre email.\n",
    "Après avoir utilisez la commande `git init` qui initialise votre dossier en tant qu'un dossier git, utilisez les deux commandes ci-dessous :\n",
    "* `git config --global user.name 'hugoducom'`\n",
    "* `git config --global user.email 'prenom.nom@bugnon.educanet2.ch'`"
   ]
  },
  {
   "cell_type": "markdown",
   "metadata": {},
   "source": [
    "L'avantage de Git reste que c'est une source particulièrement bien documentée en ligne car ceux qui le maîtrise sont en général assez actif sur les forums. On arrive toujours à trouver de l'aide sur les différentes plateformes. Aussi grâce aux commandes : `git help nomCmd` par exemple `git help checkout`."
   ]
  },
  {
   "cell_type": "markdown",
   "metadata": {},
   "source": [
    "# Schéma récapitulatif de git et ses commandes"
   ]
  },
  {
   "cell_type": "markdown",
   "metadata": {},
   "source": [
    "![git schematic](./img/git_schematic.png)"
   ]
  },
  {
   "cell_type": "markdown",
   "metadata": {},
   "source": [
    "_La commande `git fetch` ne sera pas traitée ici._"
   ]
  },
  {
   "cell_type": "markdown",
   "metadata": {},
   "source": [
    "### Publication d'un fichier"
   ]
  },
  {
   "cell_type": "markdown",
   "metadata": {},
   "source": [
    "En somme lorsqu'on veut publier un fichier, par exemple _index.html_ dans notre repository, il faut taper dans l'ordre :\n",
    "1. `git pull`\n",
    "2. `git add index.html`\n",
    "3. `git commit -m 'Ajoute de mon fichier html'`\n",
    "4. `git push`"
   ]
  },
  {
   "cell_type": "markdown",
   "metadata": {},
   "source": [
    "Le `git pull` du début permet de ne pas avoir de conflit de fichier lorsqu'on push en mettant à jour notre copie de travail versionnée."
   ]
  },
  {
   "cell_type": "markdown",
   "metadata": {},
   "source": [
    "### Cloner un repository déjà existant"
   ]
  },
  {
   "cell_type": "markdown",
   "metadata": {},
   "source": [
    "C'est souvent ce que vous allez faire lors de projet GitHub, le projet sera déjà crée et il vous faudra le cloner dans un dossier. Grâce à la commande `git clone URL` l'URL est l'endroit où est stocké le repository, ça peut par exemple être sur GitHub sous la forme _https://github.com/Bugnon/oc-2018.git_."
   ]
  },
  {
   "cell_type": "markdown",
   "metadata": {},
   "source": [
    "### La commande checkout"
   ]
  },
  {
   "cell_type": "markdown",
   "metadata": {},
   "source": [
    "Elle vous permet comme expliqué plus haut, de switch entre les branches sur lesquelles vous travaillez.\n",
    "\n",
    "Elle est aussi utile sous la forme `git checkout -- .` qui vous permet d'annuler les changements que vous avez fait dans votre fichier localement. Attention, ça ne marchera plus après un commit."
   ]
  },
  {
   "cell_type": "markdown",
   "metadata": {},
   "source": [
    "# Exemple pratique d'une création d'un repository de A à Z"
   ]
  },
  {
   "cell_type": "markdown",
   "metadata": {},
   "source": [
    "Je suis un jeune codeur web qui souhaite partager mes premiers pas sur une plateforme de développement comme GitHub. Je crée donc un dossier sur mon bureau appelé \"web\". C'est ce dossier que je souhaite partager sur GitHub. Je télécharge donc [Git](https://git-scm.com/downloads).\n",
    "\n",
    "Il s'agit d'un petit projet, je travaillerai donc seulement dans la _master branch_ et ne créerai pas d'autre branche."
   ]
  },
  {
   "cell_type": "markdown",
   "metadata": {},
   "source": [
    "Après l'installation, je fais clique-droit sur mon dossier et appuie sur **Git Bash Here**. Une console s'ouvrira et c'est depuis là que vous taperez vos commandes."
   ]
  },
  {
   "cell_type": "markdown",
   "metadata": {},
   "source": [
    "Comme je me suis informé sur ce notebook, je tape d'abord `git init`. Et enregistre mes informations à l'aide de `git config`."
   ]
  },
  {
   "cell_type": "markdown",
   "metadata": {},
   "source": [
    "![init](./img/git-init.PNG)"
   ]
  },
  {
   "cell_type": "markdown",
   "metadata": {},
   "source": [
    "Je commence ensuite à développer tranquillement dans ce dossier. Je crée donc mon fichier _index.html_. Je commence à coder et arrive le moment où je souhaite mettre en ligne ce que j'ai fait. Je fais donc un `git add index.html` ou `git add *` si je veux add tous les fichiers de mon dossier web.\n",
    "\n",
    "Je remarque en utilisant la commande `git status` que mes fichiers sont prêts à être commit au dépôt local.\n",
    "\n",
    "Puis `git commit -m 'Ajout de la première version de mon site'`."
   ]
  },
  {
   "cell_type": "markdown",
   "metadata": {},
   "source": [
    "_Astuce : Si je me suis trompé et que je remarque après le `git add index.html` mais avant le `git commit` et le `git push`, je peux utiliser la commande `git rm --cached index.html` (juste index.html) ou `git rm -r --cached .` (tous les changements) pour retirer les changements de l'index staging (schéma ci-dessus), cette commande est en quelque sorte l'inverse de `git add`._\n",
    "\n",
    "_Attention, le `-r` que j'ai rajouté est une option qui signifie récursivement. C'est-à-dire si j'ai des dossiers avec des fichiers à l'intérieur, les fichiers intérieurs seront également retirés._"
   ]
  },
  {
   "cell_type": "markdown",
   "metadata": {},
   "source": [
    "![git add](./img/git-add.PNG)"
   ]
  },
  {
   "cell_type": "markdown",
   "metadata": {},
   "source": [
    "Rendez-vous maintenant sur [GitHub](https://github.com/new) pour créer notre repository. Je me connecte et remplis les informations nécessaire."
   ]
  },
  {
   "cell_type": "markdown",
   "metadata": {},
   "source": [
    "![github](./img/github.PNG)"
   ]
  },
  {
   "cell_type": "markdown",
   "metadata": {},
   "source": [
    "Par la suite il faut exécuter les deux commandes que GitHub nous demande :\n",
    "* `git remote add origin https://github.com/hugoducom/web.git`\n",
    "* `git push -u origin master`\n",
    "\n",
    "Il se peut que lors de la deuxième commande, on vous demande votre login et votre mot de passe GitHub. Il faut donc avoir un compte GitHub."
   ]
  },
  {
   "cell_type": "markdown",
   "metadata": {},
   "source": [
    "![git remote](./img/git-remote.PNG)"
   ]
  },
  {
   "cell_type": "markdown",
   "metadata": {},
   "source": [
    "Le plus dur est fait ! Votre repository est en ligne sur GitHub, bravo ! En rechargeant la page https://github.com/hugoducom/web vous allez tomber sur votre fichier _index.html_."
   ]
  },
  {
   "cell_type": "markdown",
   "metadata": {},
   "source": [
    "![win](./img/win.PNG)"
   ]
  },
  {
   "cell_type": "markdown",
   "metadata": {},
   "source": [
    "Pour la suite de votre aventure de développement web, il vous faudra simplement suivre le point 'Publication d'un fichier' un peu plus haut de ce dossier."
   ]
  },
  {
   "cell_type": "markdown",
   "metadata": {},
   "source": [
    "Lorsque vous aurez compris le principe de git et serez capable de tout faire en lignes de commande, vous pourrez télécharger des applications qui feront le travail à votre place comme [GitHub Desktop](https://desktop.github.com/), qui facilitera grandement vos partages de fichier dans votre carrière de développement."
   ]
  },
  {
   "cell_type": "markdown",
   "metadata": {},
   "source": [
    "---"
   ]
  },
  {
   "cell_type": "markdown",
   "metadata": {},
   "source": [
    "#### Sources:\n",
    "\n",
    "* https://gerardnico.com/code/version/git/branch\n",
    "* https://fr.wikipedia.org/wiki/GitHub\n",
    "* https://fr.wikipedia.org/wiki/Git\n",
    "* https://www.sebastien-gandossi.fr/blog/difference-entre-git-reset-et-git-rm-cached\n",
    "* https://www.youtube.com/watch?v=4o9qzbssfII\n",
    "* Térence Chevroulet pour les schémas des commandes Git"
   ]
  }
 ],
 "metadata": {
  "kernelspec": {
   "display_name": "Python 3",
   "language": "python",
   "name": "python3"
  },
  "language_info": {
   "codemirror_mode": {
    "name": "ipython",
    "version": 3
   },
   "file_extension": ".py",
   "mimetype": "text/x-python",
   "name": "python",
   "nbconvert_exporter": "python",
   "pygments_lexer": "ipython3",
   "version": "3.7.0"
  },
  "toc": {
   "base_numbering": 1,
   "nav_menu": {},
   "number_sections": true,
   "sideBar": true,
   "skip_h1_title": false,
   "title_cell": "Table of Contents",
   "title_sidebar": "Contents",
   "toc_cell": false,
   "toc_position": {},
   "toc_section_display": true,
   "toc_window_display": true
  }
 },
 "nbformat": 4,
 "nbformat_minor": 2
}
