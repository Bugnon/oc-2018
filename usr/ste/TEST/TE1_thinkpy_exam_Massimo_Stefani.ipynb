{
 "cells": [
  {
   "cell_type": "markdown",
   "metadata": {},
   "source": [
    "# Travail Ecrit - Python\n",
    "* Gymnase du Bugnon, site de l'Ours\n",
    "* OC informatique\n",
    "* Sujet : chapitres 1-10 du livre *Pensez en Python*\n",
    "* Raphael Holzer\n",
    "* Date : jeudi 13 novembre 2018"
   ]
  },
  {
   "cell_type": "markdown",
   "metadata": {},
   "source": [
    "## **Exercice : expression arithmétique**  \n",
    "Initialisez les variables `(a, b, c, x)` avec les valeurs `(2, 3, 4, 5)`.  \n",
    "Calculez l'expression \n",
    "\n",
    "$$y = a x^2 + b x +c$$\n",
    "\n",
    "et imprimez le résultat."
   ]
  },
  {
   "cell_type": "code",
   "execution_count": 8,
   "metadata": {},
   "outputs": [
    {
     "name": "stdout",
     "output_type": "stream",
     "text": [
      "69\n"
     ]
    }
   ],
   "source": [
    "def fonction(a, b, c, x):\n",
    "    print(a*x**2+b*x+c)\n",
    "fonction(2, 3, 4, 5)"
   ]
  },
  {
   "cell_type": "markdown",
   "metadata": {},
   "source": [
    "## **Exercice : fonction surface**  \n",
    "Importez le module `math`,  \n",
    "définissez une fonction `surface(r)` qui calcule $s = \\pi r^2$,  \n",
    "affichez avec un texte descriptif le résultat pour `r=5` "
   ]
  },
  {
   "cell_type": "code",
   "execution_count": 15,
   "metadata": {},
   "outputs": [
    {
     "name": "stdout",
     "output_type": "stream",
     "text": [
      "78.53981633974483\n"
     ]
    }
   ],
   "source": [
    "import math\n",
    "def surface(r):\n",
    "    print(math.pi*r**2)\n",
    "surface(5)"
   ]
  },
  {
   "cell_type": "markdown",
   "metadata": {},
   "source": [
    "## **Exercice : formule quadratique**  \n",
    "La solution d'une formule quadratique de forme\n",
    "\n",
    "$$ a x^2 + b x +c = 0 $$\n",
    "\n",
    "dépend du terme $\\Delta = b^2 - 4 a c$\n",
    "* Si $\\Delta < 0$ il n'y a pas de solution\n",
    "* Si $\\Delta = 0$ il y a une solution : $x = \\frac{-b}{2 a}$\n",
    "* Si $\\Delta > 0$ il y a deux solutions : \n",
    "$x_1 = \\frac{-b +\\sqrt\\Delta}{2 a}$ and $x_2 = \\frac{-b -\\sqrt\\Delta}{2 a}$\n",
    "\n",
    "Définissez une fonction `quadratique(a, b, c)` qui retourne la solution à l'équation quadratique dans les 3 cas: `None`, `x`, `[x1, x2]`\n",
    ".\n",
    "\n",
    "Montrez la solution pour `quadratique(1, 2, 3)`, `quadratique(1, 2, 1)` et `quadratique(1, 2, -1)`"
   ]
  },
  {
   "cell_type": "code",
   "execution_count": 45,
   "metadata": {},
   "outputs": [
    {
     "name": "stdout",
     "output_type": "stream",
     "text": [
      "Pas de solution\n",
      "None\n",
      "Il existe une solution:\n",
      "-1.0\n",
      "IL existe deux solutions:\n",
      "0.41421356237309515\n",
      "-2.414213562373095\n",
      "None\n"
     ]
    }
   ],
   "source": [
    "import math\n",
    "def quadratique(a, b, c):\n",
    "    delta = b**2-4*a*c\n",
    "    if delta < 0 :\n",
    "        print('Pas de solution')\n",
    "        x = None\n",
    "    if delta == 0 :\n",
    "        print('Il existe une solution:')\n",
    "        x = -b/2*a\n",
    "        return x\n",
    "    if delta > 0 :\n",
    "        print('IL existe deux solutions:')\n",
    "        x1=(-b + math.sqrt(delta))/2*a\n",
    "        x2=(-b - math.sqrt(delta))/2*a\n",
    "        print(x1)\n",
    "        print(x2)\n",
    "print(quadratique(1, 2, 3))\n",
    "print(quadratique(1, 2, 1))\n",
    "print(quadratique(1, 2, -1))"
   ]
  },
  {
   "cell_type": "code",
   "execution_count": 46,
   "metadata": {},
   "outputs": [
    {
     "data": {
      "text/plain": [
       "5.0"
      ]
     },
     "execution_count": 46,
     "metadata": {},
     "output_type": "execute_result"
    }
   ],
   "source": [
    "import math\n",
    "math.sqrt(25)"
   ]
  },
  {
   "cell_type": "markdown",
   "metadata": {},
   "source": [
    "## **Exercice : capitalize**  \n",
    "Créez une fonction `capitalize(c)` qui transforme une lettre en majuscule si c'est une minuscule, ou la laisse inchangée autrement."
   ]
  },
  {
   "cell_type": "code",
   "execution_count": 106,
   "metadata": {},
   "outputs": [
    {
     "data": {
      "text/plain": [
       "([], ['B'], [])"
      ]
     },
     "execution_count": 106,
     "metadata": {},
     "output_type": "execute_result"
    }
   ],
   "source": [
    "def capitalize(c):\n",
    "    res = [] \n",
    "    for s in c:\n",
    "        if s.isupper():\n",
    "            res.append(s.capitalize())\n",
    "        return res\n",
    "    else:\n",
    "        return c\n",
    "\n",
    "capitalize('a'), capitalize('B'), capitalize('3')\n"
   ]
  },
  {
   "cell_type": "markdown",
   "metadata": {},
   "source": [
    "## **Exercice : capitalize words**  \n",
    "Créez une fonction `capitalize_words(s)` qui transforme la première lettre de tous les mots en majuscule."
   ]
  },
  {
   "cell_type": "code",
   "execution_count": 61,
   "metadata": {},
   "outputs": [
    {
     "ename": "NameError",
     "evalue": "name 's' is not defined",
     "output_type": "error",
     "traceback": [
      "\u001b[0;31m---------------------------------------------------------------------------\u001b[0m",
      "\u001b[0;31mNameError\u001b[0m                                 Traceback (most recent call last)",
      "\u001b[0;32mcell_name\u001b[0m in \u001b[0;36masync-def-wrapper\u001b[0;34m()\u001b[0m\n",
      "\u001b[0;31mNameError\u001b[0m: name 's' is not defined"
     ]
    }
   ],
   "source": [
    "def capitalize_words(s):\n",
    "       res = [] \n",
    "for c in s:\n",
    "    res.append(c.capitalize_words())\n",
    "    return res\n",
    "\n",
    "capitalize_words('hello world, how are you?')\n"
   ]
  },
  {
   "cell_type": "code",
   "execution_count": 82,
   "metadata": {},
   "outputs": [
    {
     "data": {
      "text/plain": [
       "6"
      ]
     },
     "execution_count": 82,
     "metadata": {},
     "output_type": "execute_result"
    }
   ],
   "source": [
    "mot = 'banane'\n",
    "len(mot)"
   ]
  },
  {
   "cell_type": "markdown",
   "metadata": {},
   "source": [
    "## **Exercice : tranches**  \n",
    "Expliquez ce que font les 6 opérateurs de **tranches** ci-dessous."
   ]
  },
  {
   "cell_type": "code",
   "execution_count": null,
   "metadata": {},
   "outputs": [],
   "source": [
    "# s[2]   -  Ecrit la 3ème lettre\n",
    "# s[:2]  -  Ecrit jusqu'à la 3ème lettre\n",
    "# s[::2] - \n",
    "\n",
    "# s[-1]   - Ecrit la dernière lettre\n",
    "# s[:-1]  -  Ecrit jusqu'à la dernière lettre\n",
    "# s[::-1] - "
   ]
  },
  {
   "cell_type": "markdown",
   "metadata": {},
   "source": [
    "## **Exercice : longueur spécifique**   \n",
    "Le fichier `words.text` contient 58110 mots en anglais.  \n",
    "Affichez les $n=5$ premiers mots qui ont une longueur de $m=10$ et affichez leur nombre total."
   ]
  },
  {
   "cell_type": "code",
   "execution_count": 98,
   "metadata": {},
   "outputs": [
    {
     "ename": "NameError",
     "evalue": "name 'c' is not defined",
     "output_type": "error",
     "traceback": [
      "\u001b[0;31m---------------------------------------------------------------------------\u001b[0m",
      "\u001b[0;31mNameError\u001b[0m                                 Traceback (most recent call last)",
      "\u001b[0;32m<ipython-input-98-e63967c2b7f6>\u001b[0m in \u001b[0;36m<module>\u001b[0;34m\u001b[0m\n\u001b[1;32m      2\u001b[0m \u001b[0mn\u001b[0m \u001b[0;34m=\u001b[0m \u001b[0;36m5\u001b[0m\u001b[0;34m\u001b[0m\u001b[0m\n\u001b[1;32m      3\u001b[0m \u001b[0mm\u001b[0m \u001b[0;34m=\u001b[0m \u001b[0;36m10\u001b[0m\u001b[0;34m\u001b[0m\u001b[0m\n\u001b[0;32m----> 4\u001b[0;31m \u001b[0;32mfor\u001b[0m \u001b[0mi\u001b[0m \u001b[0;32min\u001b[0m \u001b[0mc\u001b[0m \u001b[0;34m:\u001b[0m\u001b[0;34m\u001b[0m\u001b[0m\n\u001b[0m\u001b[1;32m      5\u001b[0m     \u001b[0mfin\u001b[0m\u001b[0;34m.\u001b[0m\u001b[0mreadline\u001b[0m\u001b[0;34m(\u001b[0m\u001b[0;36m200000\u001b[0m\u001b[0;34m)\u001b[0m\u001b[0;34m\u001b[0m\u001b[0m\n",
      "\u001b[0;31mNameError\u001b[0m: name 'c' is not defined"
     ]
    }
   ],
   "source": [
    "fin = open('words.txt')\n",
    "n = 5\n",
    "m = 10\n",
    "for i in c :\n",
    "    fin.readline()"
   ]
  },
  {
   "cell_type": "markdown",
   "metadata": {},
   "source": [
    "## **Exercice : répétition**.  \n",
    "Affchez les $m=5$ premiers mots qui sont composé de deux parties répétées (par exemple **bonbon**)."
   ]
  },
  {
   "cell_type": "code",
   "execution_count": null,
   "metadata": {},
   "outputs": [],
   "source": [
    "fin = open('words.txt')\n",
    "m = 5\n"
   ]
  },
  {
   "cell_type": "markdown",
   "metadata": {},
   "source": [
    "## **Exercice : minimum**  \n",
    "Créez une fonction `min(L)` qui retourne le minimum d'une liste et l'index de sa position sous forme de list `[val, pos]`\n",
    "."
   ]
  },
  {
   "cell_type": "code",
   "execution_count": 107,
   "metadata": {},
   "outputs": [],
   "source": [
    "def min(L):\n",
    "    len(L)\n",
    "                   \n",
    "L = [1, 3, 34, -4, -2, 100]\n",
    "min(L)"
   ]
  },
  {
   "cell_type": "markdown",
   "metadata": {},
   "source": [
    "## **Exercice : moyenne**  \n",
    "Ecrivez une fonction `mean(L)` qui retourne la moyenne d'une liste.\n",
    "."
   ]
  },
  {
   "cell_type": "code",
   "execution_count": null,
   "metadata": {},
   "outputs": [],
   "source": [
    "def mean(L):\n",
    "    pass                 \n",
    "                   \n",
    "L = [1, 3, 34, -4, -2, 100]\n",
    "mean(L)"
   ]
  }
 ],
 "metadata": {
  "kernelspec": {
   "display_name": "Python 3",
   "language": "python",
   "name": "python3"
  },
  "language_info": {
   "codemirror_mode": {
    "name": "ipython",
    "version": 3
   },
   "file_extension": ".py",
   "mimetype": "text/x-python",
   "name": "python",
   "nbconvert_exporter": "python",
   "pygments_lexer": "ipython3",
   "version": "3.5.3"
  },
  "toc-autonumbering": true
 },
 "nbformat": 4,
 "nbformat_minor": 2
}
