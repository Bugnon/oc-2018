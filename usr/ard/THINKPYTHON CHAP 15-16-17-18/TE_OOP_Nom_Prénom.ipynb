{
 "cells": [
  {
   "cell_type": "markdown",
   "metadata": {},
   "source": [
    "# TE Object-Oriented Programming (OOP)"
   ]
  },
  {
   "cell_type": "markdown",
   "metadata": {},
   "source": [
    "Traivail écrit sur Object-Oriented Programming (OOP)\n",
    "* Nom: Ardevol\n",
    "* Prénom: Hélène \n",
    "* Classe: OC informatique\n",
    "* Date: 8 mai 2018"
   ]
  },
  {
   "cell_type": "markdown",
   "metadata": {},
   "source": [
    "# Variables de classe, Variables d'instance"
   ]
  },
  {
   "cell_type": "markdown",
   "metadata": {},
   "source": [
    "Complétez la definition de la classe __Humain__ avec les méthodes:\n",
    "* __init()__\n",
    "* __str()__\n",
    "* __imc()__ (indice de masse corporelle)\n",
    "* __corpulence()__\n",
    "\n",
    "Dans votre calcul vous devez utiliser \n",
    "* les 3 __variables de classe__ (genres, interpretations, limites) #categorie globale(ex:humain)\n",
    "et \n",
    "* les 4 __variables d'instance__ #objet (ex: Hélène)\n",
    "(nom, poids, taille, genre)"
   ]
  },
  {
   "cell_type": "code",
   "execution_count": 60,
   "metadata": {},
   "outputs": [],
   "source": [
    "class Humain():\n",
    "    '''Décrit un humain avec nom, taille, poids, et genre (m/f).'''\n",
    "    \n",
    "    genres = ('homme', 'femme')\n",
    "    interpretations = ('anorexique', 'maigre', 'normal', 'obèse')\n",
    "    limites = [16.5, 18.5, 25, 100] \n",
    "    \n",
    "    def __init__(self, nom, poids, taille, genre):\n",
    "        \"\"\"Definit une instance de la classe Humain.\"\"\"\n",
    "        self.nom = nom\n",
    "        self.poids = poids\n",
    "        self.taille = taille\n",
    "        self.genre = Humain.genres[genre]\n",
    "\n",
    "    def __str__(self):\n",
    "        \"\"\"Retourne une description de l'instance.\"\"\"\n",
    "        return self.nom + ': ' + self.genre + ' de ' + str(self.poids) + ' kg' + \\\n",
    "                ' et de' + str(self.taille) + 'm.'\n",
    "    \n",
    "    def imc(self):\n",
    "        \"\"\"Calcule l'indice de masse corporelle (poids_kg/taille_m**2)\"\"\"\n",
    "        return self.poids / self.taille**2\n",
    "        \n",
    "    def corpulence(self):\n",
    "        \"\"\"Evalue la corpulence: anorexique <16.5, maigre <18.5, normale <25, obèse\"\"\"\n",
    "        imc = self.imc()\n",
    "        for i in range(4):\n",
    "            limit =  Humain.limites[i]\n",
    "            label = Humain.interpretations[i]\n",
    "            if imc<limit:\n",
    "                return label"
   ]
  },
  {
   "cell_type": "code",
   "execution_count": 61,
   "metadata": {},
   "outputs": [
    {
     "data": {
      "text/plain": [
       "__main__.Humain"
      ]
     },
     "execution_count": 61,
     "metadata": {},
     "output_type": "execute_result"
    }
   ],
   "source": [
    "Humain"
   ]
  },
  {
   "cell_type": "code",
   "execution_count": 63,
   "metadata": {},
   "outputs": [
    {
     "name": "stdout",
     "output_type": "stream",
     "text": [
      "{'nom': 'Bill', 'poids': 65, 'taille': 1.8, 'genre': 'femme'}\n",
      "Bill: femme de 65 kg et de1.8m.\n",
      "20.061728395061728\n",
      "normal\n"
     ]
    }
   ],
   "source": [
    "h = Humain('Bill', poids = 65, taille = 1.80, genre = 1)\n",
    "print(vars(h))\n",
    "print(h)\n",
    "print(h.imc())\n",
    "print(h.corpulence())"
   ]
  },
  {
   "cell_type": "markdown",
   "metadata": {},
   "source": [
    "Exemples"
   ]
  },
  {
   "cell_type": "code",
   "execution_count": 22,
   "metadata": {},
   "outputs": [
    {
     "name": "stdout",
     "output_type": "stream",
     "text": [
      "Steve : homme de 150 kg et de taille 1.75 m\n",
      "Cindy : femme de 50 kg et de taille 1.8 m\n",
      "Billy : femme de 75 kg et de taille 1.75 m\n",
      "\n",
      "Steve imc = 48.9 obèse\n",
      "Cindy imc = 15.4 anorexique\n",
      "Billy imc = 24.4 normal\n"
     ]
    }
   ],
   "source": [
    "steve = Humain('Steve', 150, 1.75, 0)\n",
    "cindy = Humain('Cindy', 50, 1.80, 1)\n",
    "billy = Humain('Billy', 75, 1.75, 1)\n",
    "\n",
    "print(steve.nom, \":\", steve)\n",
    "print(cindy.nom, \":\", cindy)\n",
    "print(billy.nom, \":\", billy)\n",
    "print()\n",
    "print(steve.nom, \"imc =\", steve.imc(), steve.corpulence())\n",
    "print(cindy.nom, \"imc =\", cindy.imc(), cindy.corpulence())\n",
    "print(billy.nom, \"imc =\", billy.imc(), billy.corpulence())"
   ]
  },
  {
   "cell_type": "code",
   "execution_count": 52,
   "metadata": {},
   "outputs": [
    {
     "name": "stdout",
     "output_type": "stream",
     "text": [
      "Steve : "
     ]
    },
    {
     "ename": "TypeError",
     "evalue": "can only concatenate str (not \"int\") to str",
     "output_type": "error",
     "traceback": [
      "\u001b[0;31m---------------------------------------------------------------------------\u001b[0m",
      "\u001b[0;31mTypeError\u001b[0m                                 Traceback (most recent call last)",
      "\u001b[0;32m<ipython-input-52-5dc86d986dd7>\u001b[0m in \u001b[0;36m<module>\u001b[0;34m\u001b[0m\n\u001b[1;32m      3\u001b[0m \u001b[0mbilly\u001b[0m \u001b[0;34m=\u001b[0m \u001b[0mHumain\u001b[0m\u001b[0;34m(\u001b[0m\u001b[0;34m'Billy'\u001b[0m\u001b[0;34m,\u001b[0m \u001b[0;36m75\u001b[0m\u001b[0;34m,\u001b[0m \u001b[0;36m1.75\u001b[0m\u001b[0;34m,\u001b[0m \u001b[0;36m1\u001b[0m\u001b[0;34m)\u001b[0m\u001b[0;34m\u001b[0m\u001b[0;34m\u001b[0m\u001b[0m\n\u001b[1;32m      4\u001b[0m \u001b[0;34m\u001b[0m\u001b[0m\n\u001b[0;32m----> 5\u001b[0;31m \u001b[0mprint\u001b[0m\u001b[0;34m(\u001b[0m\u001b[0msteve\u001b[0m\u001b[0;34m.\u001b[0m\u001b[0mnom\u001b[0m\u001b[0;34m,\u001b[0m \u001b[0;34m\":\"\u001b[0m\u001b[0;34m,\u001b[0m \u001b[0msteve\u001b[0m\u001b[0;34m)\u001b[0m\u001b[0;34m\u001b[0m\u001b[0;34m\u001b[0m\u001b[0m\n\u001b[0m\u001b[1;32m      6\u001b[0m \u001b[0mprint\u001b[0m\u001b[0;34m(\u001b[0m\u001b[0mcindy\u001b[0m\u001b[0;34m.\u001b[0m\u001b[0mnom\u001b[0m\u001b[0;34m,\u001b[0m \u001b[0;34m\":\"\u001b[0m\u001b[0;34m,\u001b[0m \u001b[0mcindy\u001b[0m\u001b[0;34m)\u001b[0m\u001b[0;34m\u001b[0m\u001b[0;34m\u001b[0m\u001b[0m\n\u001b[1;32m      7\u001b[0m \u001b[0mprint\u001b[0m\u001b[0;34m(\u001b[0m\u001b[0mbilly\u001b[0m\u001b[0;34m.\u001b[0m\u001b[0mnom\u001b[0m\u001b[0;34m,\u001b[0m \u001b[0;34m\":\"\u001b[0m\u001b[0;34m,\u001b[0m \u001b[0mbilly\u001b[0m\u001b[0;34m)\u001b[0m\u001b[0;34m\u001b[0m\u001b[0;34m\u001b[0m\u001b[0m\n",
      "\u001b[0;32m<ipython-input-31-e2dc7fbd2da7>\u001b[0m in \u001b[0;36m__str__\u001b[0;34m(self)\u001b[0m\n\u001b[1;32m     15\u001b[0m     \u001b[0;32mdef\u001b[0m \u001b[0m__str__\u001b[0m\u001b[0;34m(\u001b[0m\u001b[0mself\u001b[0m\u001b[0;34m)\u001b[0m\u001b[0;34m:\u001b[0m\u001b[0;34m\u001b[0m\u001b[0;34m\u001b[0m\u001b[0m\n\u001b[1;32m     16\u001b[0m         \u001b[0;34m\"\"\"Retourne une description de l'instance.\"\"\"\u001b[0m\u001b[0;34m\u001b[0m\u001b[0;34m\u001b[0m\u001b[0m\n\u001b[0;32m---> 17\u001b[0;31m         \u001b[0;32mreturn\u001b[0m \u001b[0mself\u001b[0m\u001b[0;34m.\u001b[0m\u001b[0mnom\u001b[0m \u001b[0;34m+\u001b[0m \u001b[0;34m': '\u001b[0m \u001b[0;34m+\u001b[0m \u001b[0mself\u001b[0m\u001b[0;34m.\u001b[0m\u001b[0mgenre\u001b[0m \u001b[0;34m+\u001b[0m \u001b[0;34m' de '\u001b[0m \u001b[0;34m+\u001b[0m\u001b[0mstr\u001b[0m\u001b[0;34m(\u001b[0m\u001b[0mself\u001b[0m\u001b[0;34m.\u001b[0m\u001b[0mpoids\u001b[0m\u001b[0;34m)\u001b[0m \u001b[0;34m+\u001b[0m \u001b[0;34m'kg'\u001b[0m\u001b[0;34m\u001b[0m\u001b[0;34m\u001b[0m\u001b[0m\n\u001b[0m\u001b[1;32m     18\u001b[0m \u001b[0;34m\u001b[0m\u001b[0m\n\u001b[1;32m     19\u001b[0m     \u001b[0;32mdef\u001b[0m \u001b[0mimc\u001b[0m\u001b[0;34m(\u001b[0m\u001b[0mself\u001b[0m\u001b[0;34m)\u001b[0m\u001b[0;34m:\u001b[0m\u001b[0;34m\u001b[0m\u001b[0;34m\u001b[0m\u001b[0m\n",
      "\u001b[0;31mTypeError\u001b[0m: can only concatenate str (not \"int\") to str"
     ]
    }
   ],
   "source": [
    "steve = Humain('Steve', 150, 1.75, 0)\n",
    "cindy = Humain('Cindy', 50, 1.80, 1)\n",
    "billy = Humain('Billy', 75, 1.75, 1)\n",
    "\n",
    "print(steve.nom, \":\", steve)\n",
    "print(cindy.nom, \":\", cindy)\n",
    "print(billy.nom, \":\", billy)\n",
    "print()\n",
    "print(steve.nom, \"imc =\", steve.imc(), steve.corpulence())\n",
    "print(cindy.nom, \"imc =\", cindy.imc(), cindy.corpulence())\n",
    "print(billy.nom, \"imc =\", billy.imc(), billy.corpulence())"
   ]
  },
  {
   "cell_type": "markdown",
   "metadata": {},
   "source": [
    "# Méthodes spéciales de comparaison"
   ]
  },
  {
   "cell_type": "markdown",
   "metadata": {},
   "source": [
    "Créez des définitions pour\n",
    "* une classe __Vec3__,\n",
    "* une méthode pour imprimer `__str__(self)`\n",
    "* une méthode __norm()__ pour calculer longeur\n",
    "* six méthodes speciales de comparaison (<, <=,  ==, !=, >=, >)\n",
    "\n",
    "Qui permet d'obtenir les résultats ci-dessous"
   ]
  },
  {
   "cell_type": "code",
   "execution_count": 84,
   "metadata": {},
   "outputs": [],
   "source": [
    "import math\n",
    "\n",
    "class Vec3():\n",
    "    def __init__(self, x=0, y=0, z=0):\n",
    "        \"\"\"Initialise un vecteur avec les 3 composantes (x, y, z).\"\"\"\n",
    "        self.x = x\n",
    "        self.y = y\n",
    "        self.z = z\n",
    "        \n",
    "    def __str__(self):\n",
    "        \"\"\"Retourne une represation sous forme 'Vec3(x, y, z)'\"\"\"\n",
    "        return 'Vec3({}, {}, {})'.format(self.x, self.y, self.z)\n",
    "    \n",
    "    def norm(self):\n",
    "        \"\"\"Calcule la norme (la longueur) du vecteur.\"\"\"\n",
    "        n = self.x**2 + self.y**2 + self.z**2\n",
    "        return math.sqrt(n)\n",
    "        \n",
    "    def __lt__(self, other):\n",
    "        return self.norm() < other.norm()\n",
    "\n",
    "    def __le__(self, other):\n",
    "        return self.norm() <= other.norm()\n",
    "\n",
    "    def __eq__(self, other):\n",
    "        return self.norm() == other.norm()\n",
    "\n",
    "\n",
    "    def __ne__(self, other):\n",
    "        return self.norm() != other.norm()\n",
    "\n",
    "\n",
    "    def __ge__(self, other):\n",
    "        return self.norm() >= other.norm()\n",
    "\n",
    "\n",
    "    def __gt__(self, other):\n",
    "        return self.norm() > other.norm()\n"
   ]
  },
  {
   "cell_type": "code",
   "execution_count": 85,
   "metadata": {},
   "outputs": [
    {
     "name": "stdout",
     "output_type": "stream",
     "text": [
      "{'x': 1, 'y': 2, 'z': 3}\n",
      "False\n",
      "Vec3(1, 2, 3)\n",
      "3.7416573867739413\n"
     ]
    }
   ],
   "source": [
    "v0 = Vec3()\n",
    "v = Vec3(1, 2, 3)\n",
    "print(vars(v))\n",
    "print(v<v0)\n",
    "print(v)\n",
    "print(v.norm())"
   ]
  },
  {
   "cell_type": "markdown",
   "metadata": {},
   "source": [
    "Exemple"
   ]
  },
  {
   "cell_type": "code",
   "execution_count": 24,
   "metadata": {},
   "outputs": [
    {
     "name": "stdout",
     "output_type": "stream",
     "text": [
      "Vec3(1,1,1) Vec3(1,-1,2)\n",
      "1.7320508075688772 2.449489742783178\n",
      "True True False True False False\n"
     ]
    }
   ],
   "source": [
    "a = Vec3(1, 1 ,1)\n",
    "b = Vec3(1, -1, 2)\n",
    "print(a, b)\n",
    "print(a.norm(), b.norm())\n",
    "print(a<b, a<=b, a==b, a!=b, a>=b, a>b)"
   ]
  },
  {
   "cell_type": "markdown",
   "metadata": {},
   "source": [
    "# Héritage"
   ]
  },
  {
   "cell_type": "markdown",
   "metadata": {},
   "source": [
    "Definissez\n",
    "* une class __Polygon__\n",
    "* une variable de classe __names__ avec la valeur ('triangle', 'rectangle', 'pentagon', 'hexagon')\n",
    "* une méthode `__init__(self, n, s)` qui initialise le polygone\n",
    "* une méthode __str()__ qui affiche le mot _triangle, rectangle, pentagon, hexagon_ si n<=6\n",
    "* une méthode __perimeter()__ qui calcule le périmètre (n * s)\n",
    "* une méthode __angle()__ qui calcule l'angle interne (180-360/n)\n",
    "* des sous-classes __Triangle__, __Square__, __Pentagon__, basées sur __Polygon__\n",
    "* qui utilisent la méthode `super().__init__(n, s)` pour accéder a une méthode de la classe parent\n",
    "\n",
    "Qui affiche les valeurs ci-dessous"
   ]
  },
  {
   "cell_type": "code",
   "execution_count": 119,
   "metadata": {},
   "outputs": [],
   "source": [
    "class Polygon():\n",
    "    names = ('triangle', 'rectangle', 'pentagon', 'hexagon')\n",
    "    \n",
    "    def __init__(self, n=3, s=1):\n",
    "        \"\"\"Regular Polygon with n sides of lenght s.\"\"\" \n",
    "        self.n = n\n",
    "        self.s = s\n",
    "\n",
    "    def __str__(self):\n",
    "        if self.n <= 6:\n",
    "            return Polygon.names[self.n - 3]\n",
    "        else:\n",
    "            return 'Polygon with ' +  str(self.n) + ' sides'\n",
    "\n",
    "    def perimeter(self):\n",
    "        \"\"\"Return perimeter.\"\"\"\n",
    "        return self.n * self.s\n",
    "\n",
    "    def angle(self):\n",
    "        \"\"\"Return interior angle\"\"\"\n",
    "        return 180-360/self.n\n",
    "\n",
    "class Triangle(Polygon):\n",
    "    def __init__(self, s=1):\n",
    "        super(Triangle, self).__init__(n=3, s=s)\n",
    "\n",
    "class Square(Polygon):\n",
    "    def __init__(self, s=1):\n",
    "        super(Square, self).__init__(n=4, s=s)\n",
    "\n",
    "class Pentagon(Polygon):\n",
    "    def __init__(self, s=1):\n",
    "        super(Pentagon, self).__init__(n=5, s=s)\n",
    "\n"
   ]
  },
  {
   "cell_type": "code",
   "execution_count": 120,
   "metadata": {},
   "outputs": [
    {
     "name": "stdout",
     "output_type": "stream",
     "text": [
      "triangle 30 60.0\n",
      "pentagon 50 108.0\n"
     ]
    }
   ],
   "source": [
    "p = Polygon(n = 3, s = 10)\n",
    "t = Pentagon(10)\n",
    "print(p, p.perimeter(), p.angle())\n",
    "print(t, t.perimeter(), t.angle())"
   ]
  },
  {
   "cell_type": "markdown",
   "metadata": {},
   "source": [
    "Exemples"
   ]
  },
  {
   "cell_type": "code",
   "execution_count": 121,
   "metadata": {},
   "outputs": [
    {
     "name": "stdout",
     "output_type": "stream",
     "text": [
      "name           side      perimeter      angle\n",
      "triangle       3         9              60.0\n",
      "rectangle      2         8              90.0\n",
      "pentagon       1         5              108.0\n"
     ]
    }
   ],
   "source": [
    "print('{:15}{:10}{:15}{}'.format('name', 'side', 'perimeter', 'angle'))\n",
    "for p in (Triangle(3), Square(2), Pentagon(1)):\n",
    "    print('{:15}{:<10}{:<15}{}'.format(str(p), p.s, p.perimeter(), p.angle()))"
   ]
  },
  {
   "cell_type": "markdown",
   "metadata": {},
   "source": [
    "# Code Morse"
   ]
  },
  {
   "cell_type": "markdown",
   "metadata": {},
   "source": [
    "Définissez les 2 méthodes:\n",
    "* toMorse(self)\n",
    "* fromMorse(self)"
   ]
  },
  {
   "cell_type": "code",
   "execution_count": 167,
   "metadata": {},
   "outputs": [],
   "source": [
    "class Morse(str):\n",
    "    codes = {'a':'.-', 'b':'-...', 'c':'-.-.', 'd':'-..', 'e':'.', 'f':'..-.', 'g':'--.', 'h':'....', \n",
    "         'i':'..', 'j':'.---', 'k':'-.-', 'l':'.-..', 'm':'--', 'n':'-.', 'o':'---', 'p':'.--.', 'q':'--.-', \n",
    "         'r':'.-.', 's':'...', 't':'-', 'u':'..-', 'v':'...-', 'w':'.--', 'x':'-..-', 'y':'-.--', 'z':'--..'}\n",
    "    \n",
    "    # inv_codes = {m: c for c, m in Morse.codes.items()}\n",
    "    \n",
    "    def __init__(self, msg):\n",
    "        self.msg = msg\n",
    "\n",
    "    def toMorse(self):\n",
    "        \"\"\"Transforme une chaine en code Morse\"\"\"\n",
    "        res = ''\n",
    "        for c in self.msg:\n",
    "            c = c.lower()\n",
    "            m = Morse.codes[c]\n",
    "            #print(c, m)\n",
    "            res += m + ' '\n",
    "            #print(c, Morse.codes[c.lower()])\n",
    "        return res\n",
    "    \n",
    "    def fromMorse(self):\n",
    "        \"\"\"Transforme un code Morse en chaine de caractères\"\"\"\n",
    "        L = self.msg.split(' ')\n",
    "        res = ' '\n",
    "        for m in L:\n",
    "            c = Morse.inv_codes[m]\n",
    "            print(m, c)\n",
    "            res += c\n",
    "        return res\n",
    "    #pour mettre de Morse a mots, il faut inverser => 1- 'a':'._' 2- '.-':'a'"
   ]
  },
  {
   "cell_type": "code",
   "execution_count": 168,
   "metadata": {},
   "outputs": [
    {
     "data": {
      "text/plain": [
       "'... --- ... '"
      ]
     },
     "execution_count": 168,
     "metadata": {},
     "output_type": "execute_result"
    }
   ],
   "source": [
    "Morse('SOS').toMorse()"
   ]
  },
  {
   "cell_type": "code",
   "execution_count": 169,
   "metadata": {},
   "outputs": [
    {
     "data": {
      "text/plain": [
       "'.. -. ..-. --- '"
      ]
     },
     "execution_count": 169,
     "metadata": {},
     "output_type": "execute_result"
    }
   ],
   "source": [
    "Morse('info').toMorse()"
   ]
  },
  {
   "cell_type": "markdown",
   "metadata": {},
   "source": [
    "Exemples"
   ]
  },
  {
   "cell_type": "code",
   "execution_count": 170,
   "metadata": {},
   "outputs": [
    {
     "name": "stdout",
     "output_type": "stream",
     "text": [
      "SOS\n",
      "... --- ... \n"
     ]
    }
   ],
   "source": [
    "s = Morse('SOS')\n",
    "print(s)\n",
    "print(s.toMorse())"
   ]
  },
  {
   "cell_type": "code",
   "execution_count": 171,
   "metadata": {},
   "outputs": [
    {
     "name": "stdout",
     "output_type": "stream",
     "text": [
      "hello\n",
      ".... . .-.. .-.. --- \n"
     ]
    }
   ],
   "source": [
    "h = Morse('hello')\n",
    "print(h)\n",
    "print(h.toMorse())"
   ]
  },
  {
   "cell_type": "code",
   "execution_count": 172,
   "metadata": {},
   "outputs": [
    {
     "ename": "AttributeError",
     "evalue": "type object 'Morse' has no attribute 'inv_codes'",
     "output_type": "error",
     "traceback": [
      "\u001b[0;31m---------------------------------------------------------------------------\u001b[0m",
      "\u001b[0;31mAttributeError\u001b[0m                            Traceback (most recent call last)",
      "\u001b[0;32m<ipython-input-172-d9a85e896838>\u001b[0m in \u001b[0;36m<module>\u001b[0;34m\u001b[0m\n\u001b[0;32m----> 1\u001b[0;31m \u001b[0mprint\u001b[0m\u001b[0;34m(\u001b[0m\u001b[0mMorse\u001b[0m\u001b[0;34m(\u001b[0m\u001b[0;34m'.... . .-.. .-.. ---'\u001b[0m\u001b[0;34m)\u001b[0m\u001b[0;34m.\u001b[0m\u001b[0mfromMorse\u001b[0m\u001b[0;34m(\u001b[0m\u001b[0;34m)\u001b[0m\u001b[0;34m)\u001b[0m\u001b[0;34m\u001b[0m\u001b[0;34m\u001b[0m\u001b[0m\n\u001b[0m",
      "\u001b[0;32m<ipython-input-167-d15f2ff9c5d3>\u001b[0m in \u001b[0;36mfromMorse\u001b[0;34m(self)\u001b[0m\n\u001b[1;32m     25\u001b[0m         \u001b[0mres\u001b[0m \u001b[0;34m=\u001b[0m \u001b[0;34m' '\u001b[0m\u001b[0;34m\u001b[0m\u001b[0;34m\u001b[0m\u001b[0m\n\u001b[1;32m     26\u001b[0m         \u001b[0;32mfor\u001b[0m \u001b[0mm\u001b[0m \u001b[0;32min\u001b[0m \u001b[0mL\u001b[0m\u001b[0;34m:\u001b[0m\u001b[0;34m\u001b[0m\u001b[0;34m\u001b[0m\u001b[0m\n\u001b[0;32m---> 27\u001b[0;31m             \u001b[0mc\u001b[0m \u001b[0;34m=\u001b[0m \u001b[0mMorse\u001b[0m\u001b[0;34m.\u001b[0m\u001b[0minv_codes\u001b[0m\u001b[0;34m[\u001b[0m\u001b[0mm\u001b[0m\u001b[0;34m]\u001b[0m\u001b[0;34m\u001b[0m\u001b[0;34m\u001b[0m\u001b[0m\n\u001b[0m\u001b[1;32m     28\u001b[0m             \u001b[0mprint\u001b[0m\u001b[0;34m(\u001b[0m\u001b[0mm\u001b[0m\u001b[0;34m,\u001b[0m \u001b[0mc\u001b[0m\u001b[0;34m)\u001b[0m\u001b[0;34m\u001b[0m\u001b[0;34m\u001b[0m\u001b[0m\n\u001b[1;32m     29\u001b[0m             \u001b[0mres\u001b[0m \u001b[0;34m+=\u001b[0m \u001b[0mc\u001b[0m\u001b[0;34m\u001b[0m\u001b[0;34m\u001b[0m\u001b[0m\n",
      "\u001b[0;31mAttributeError\u001b[0m: type object 'Morse' has no attribute 'inv_codes'"
     ]
    }
   ],
   "source": [
    "print(Morse('.... . .-.. .-.. ---').fromMorse())"
   ]
  },
  {
   "cell_type": "markdown",
   "metadata": {},
   "source": [
    "# Extension d'un module"
   ]
  },
  {
   "cell_type": "markdown",
   "metadata": {},
   "source": [
    "Une classe peut étendre un module existant. \n",
    "\n",
    "Créez une nouvelle classe __FrenchDate__ basé sur _datetime.date_ qui redefinit la fonction `__str__(self)` pour imprimer une date avec le mois écrit en lettres en français."
   ]
  },
  {
   "cell_type": "code",
   "execution_count": 185,
   "metadata": {},
   "outputs": [],
   "source": [
    "import datetime\n",
    "\n",
    "class FrenchDate(datetime.date):\n",
    "    months = ('janvier', 'février', 'mars', 'avril', 'mai', 'juin', \n",
    "              'juillet', 'aout', 'septembre', 'octobre', 'novembre', 'décembre')\n",
    "    \n",
    "    def __str__(self):\n",
    "        return str(self.day) + ' ' + FrenchDate.months(self.month-1) + ' ' +str(self.year)"
   ]
  },
  {
   "cell_type": "code",
   "execution_count": 186,
   "metadata": {},
   "outputs": [
    {
     "name": "stdout",
     "output_type": "stream",
     "text": [
      "2019-05-14\n",
      "0009-10-15\n"
     ]
    }
   ],
   "source": [
    "import datetime\n",
    "\n",
    "d = datetime.date(2019, 5, 14)\n",
    "print(d)\n",
    "now = datetime.date(9, 10, 15)\n",
    "print(now)"
   ]
  },
  {
   "cell_type": "markdown",
   "metadata": {},
   "source": [
    "Exemple"
   ]
  },
  {
   "cell_type": "code",
   "execution_count": 187,
   "metadata": {},
   "outputs": [
    {
     "ename": "TypeError",
     "evalue": "'tuple' object is not callable",
     "output_type": "error",
     "traceback": [
      "\u001b[0;31m---------------------------------------------------------------------------\u001b[0m",
      "\u001b[0;31mTypeError\u001b[0m                                 Traceback (most recent call last)",
      "\u001b[0;32m<ipython-input-187-e05193a9788a>\u001b[0m in \u001b[0;36m<module>\u001b[0;34m\u001b[0m\n\u001b[1;32m      1\u001b[0m \u001b[0mfd\u001b[0m \u001b[0;34m=\u001b[0m \u001b[0mFrenchDate\u001b[0m\u001b[0;34m(\u001b[0m\u001b[0;36m1999\u001b[0m\u001b[0;34m,\u001b[0m \u001b[0;36m5\u001b[0m\u001b[0;34m,\u001b[0m \u001b[0;36m23\u001b[0m\u001b[0;34m)\u001b[0m\u001b[0;34m\u001b[0m\u001b[0;34m\u001b[0m\u001b[0m\n\u001b[0;32m----> 2\u001b[0;31m \u001b[0mprint\u001b[0m\u001b[0;34m(\u001b[0m\u001b[0mfd\u001b[0m\u001b[0;34m)\u001b[0m\u001b[0;34m\u001b[0m\u001b[0;34m\u001b[0m\u001b[0m\n\u001b[0m",
      "\u001b[0;32m<ipython-input-185-0e9fc349eaa8>\u001b[0m in \u001b[0;36m__str__\u001b[0;34m(self)\u001b[0m\n\u001b[1;32m      6\u001b[0m \u001b[0;34m\u001b[0m\u001b[0m\n\u001b[1;32m      7\u001b[0m     \u001b[0;32mdef\u001b[0m \u001b[0m__str__\u001b[0m\u001b[0;34m(\u001b[0m\u001b[0mself\u001b[0m\u001b[0;34m)\u001b[0m\u001b[0;34m:\u001b[0m\u001b[0;34m\u001b[0m\u001b[0;34m\u001b[0m\u001b[0m\n\u001b[0;32m----> 8\u001b[0;31m         \u001b[0;32mreturn\u001b[0m \u001b[0mstr\u001b[0m\u001b[0;34m(\u001b[0m\u001b[0mself\u001b[0m\u001b[0;34m.\u001b[0m\u001b[0mday\u001b[0m\u001b[0;34m)\u001b[0m \u001b[0;34m+\u001b[0m \u001b[0;34m' '\u001b[0m \u001b[0;34m+\u001b[0m \u001b[0mFrenchDate\u001b[0m\u001b[0;34m.\u001b[0m\u001b[0mmonths\u001b[0m\u001b[0;34m(\u001b[0m\u001b[0mself\u001b[0m\u001b[0;34m.\u001b[0m\u001b[0mmonth\u001b[0m\u001b[0;34m-\u001b[0m\u001b[0;36m1\u001b[0m\u001b[0;34m)\u001b[0m \u001b[0;34m+\u001b[0m \u001b[0;34m' '\u001b[0m \u001b[0;34m+\u001b[0m\u001b[0mstr\u001b[0m\u001b[0;34m(\u001b[0m\u001b[0mself\u001b[0m\u001b[0;34m.\u001b[0m\u001b[0myear\u001b[0m\u001b[0;34m)\u001b[0m\u001b[0;34m\u001b[0m\u001b[0;34m\u001b[0m\u001b[0m\n\u001b[0m",
      "\u001b[0;31mTypeError\u001b[0m: 'tuple' object is not callable"
     ]
    }
   ],
   "source": [
    "fd = FrenchDate(1999, 5, 23)\n",
    "print(fd)"
   ]
  },
  {
   "cell_type": "markdown",
   "metadata": {},
   "source": [
    "Créez une nouvelle classe __JapaneseDate__ basé sur _datetime.date_ qui imprime une date sous deux formes:\n",
    "* avec des symboles japonaises : 2000年2月23日 (vous pouvez copier-coller ces caractères)\n",
    "* en phonétique (romaji) : 2000-nen-2-gatsu-23-nichi"
   ]
  },
  {
   "cell_type": "code",
   "execution_count": 188,
   "metadata": {},
   "outputs": [],
   "source": [
    "class JapaneseDate(datetime.date):\n",
    "    def __str__(self):\n",
    "        pass\n",
    "    \n",
    "    def romaji(self):\n",
    "        pass"
   ]
  },
  {
   "cell_type": "markdown",
   "metadata": {},
   "source": [
    "Exemple"
   ]
  },
  {
   "cell_type": "code",
   "execution_count": 159,
   "metadata": {},
   "outputs": [
    {
     "ename": "TypeError",
     "evalue": "__str__ returned non-string (type NoneType)",
     "output_type": "error",
     "traceback": [
      "\u001b[0;31m---------------------------------------------------------------------------\u001b[0m",
      "\u001b[0;31mTypeError\u001b[0m                                 Traceback (most recent call last)",
      "\u001b[0;32m<ipython-input-159-cd742d48a3f7>\u001b[0m in \u001b[0;36m<module>\u001b[0;34m\u001b[0m\n\u001b[1;32m      1\u001b[0m \u001b[0mjd\u001b[0m \u001b[0;34m=\u001b[0m \u001b[0mJapaneseDate\u001b[0m\u001b[0;34m(\u001b[0m\u001b[0;36m2000\u001b[0m\u001b[0;34m,\u001b[0m \u001b[0;36m2\u001b[0m\u001b[0;34m,\u001b[0m \u001b[0;36m23\u001b[0m\u001b[0;34m)\u001b[0m\u001b[0;34m\u001b[0m\u001b[0;34m\u001b[0m\u001b[0m\n\u001b[0;32m----> 2\u001b[0;31m \u001b[0mprint\u001b[0m\u001b[0;34m(\u001b[0m\u001b[0mjd\u001b[0m\u001b[0;34m)\u001b[0m\u001b[0;34m\u001b[0m\u001b[0;34m\u001b[0m\u001b[0m\n\u001b[0m\u001b[1;32m      3\u001b[0m \u001b[0mprint\u001b[0m\u001b[0;34m(\u001b[0m\u001b[0mjd\u001b[0m\u001b[0;34m.\u001b[0m\u001b[0mromaji\u001b[0m\u001b[0;34m(\u001b[0m\u001b[0;34m)\u001b[0m\u001b[0;34m)\u001b[0m\u001b[0;34m\u001b[0m\u001b[0;34m\u001b[0m\u001b[0m\n",
      "\u001b[0;31mTypeError\u001b[0m: __str__ returned non-string (type NoneType)"
     ]
    }
   ],
   "source": [
    "jd = JapaneseDate(2000, 2, 23)\n",
    "print(jd)\n",
    "print(jd.romaji())"
   ]
  }
 ],
 "metadata": {
  "kernelspec": {
   "display_name": "Python 3",
   "language": "python",
   "name": "python3"
  },
  "language_info": {
   "codemirror_mode": {
    "name": "ipython",
    "version": 3
   },
   "file_extension": ".py",
   "mimetype": "text/x-python",
   "name": "python",
   "nbconvert_exporter": "python",
   "pygments_lexer": "ipython3",
   "version": "3.7.1"
  }
 },
 "nbformat": 4,
 "nbformat_minor": 2
}
