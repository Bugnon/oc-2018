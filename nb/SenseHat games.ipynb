{
 "cells": [
  {
   "cell_type": "markdown",
   "metadata": {},
   "source": [
    "# Programmer des jeux avec SenseHat \n",
    "\n",
    "Voici les jeux\n",
    "* jeu de Morpion (Hélènve, Victoria)\n",
    "* jeu de Démineur (Mirko, Fabian)\n",
    "* jeu de mémoire (Pierre, Jérémy)\n",
    "* jeu de Tetris (Valentin, Hugo)\n",
    "* jeu du 2048 (Michael, Massimo)\n",
    "* jeu Puissance 4 (Térence, Niza)"
   ]
  },
  {
   "cell_type": "markdown",
   "metadata": {},
   "source": [
    "## Introduction\n",
    "Tout d'abord il est nécessaire d'importer du module `sense_hat` la classe `SenseHat`. Ceci permet d'instantier un objet `sense` qui va être utilisé pour commuiquer avec la carte. Nous tournons également l'affichage de 180 degrés."
   ]
  },
  {
   "cell_type": "code",
   "execution_count": 120,
   "metadata": {},
   "outputs": [],
   "source": [
    "from sense_hat import SenseHat\n",
    "#from sense_emu import SenseHat\n",
    "from time import sleep, time\n",
    "\n",
    "sense = SenseHat()\n",
    "sense.set_rotation(180)"
   ]
  },
  {
   "cell_type": "markdown",
   "metadata": {},
   "source": [
    "### Afficher un message\n",
    "La fonction `show_message` permet d'afficher un message."
   ]
  },
  {
   "cell_type": "code",
   "execution_count": 99,
   "metadata": {},
   "outputs": [],
   "source": [
    "sense.show_message('hello world')"
   ]
  },
  {
   "cell_type": "markdown",
   "metadata": {},
   "source": [
    "Nous pouvons changer la couleur du texte, et la vitesse du défilement en utilisant des paramẗres optionels."
   ]
  },
  {
   "cell_type": "code",
   "execution_count": 100,
   "metadata": {},
   "outputs": [],
   "source": [
    "blue = (0, 0, 255)\n",
    "sense.show_message('hello world', text_colour=blue, scroll_speed=0.2)"
   ]
  },
  {
   "cell_type": "markdown",
   "metadata": {},
   "source": [
    "### Afficher des lettres\n",
    "La fonction `show_letter` afficher une seule lettre. Voici les lettre de l'alphabet."
   ]
  },
  {
   "cell_type": "code",
   "execution_count": 101,
   "metadata": {},
   "outputs": [],
   "source": [
    "for c in 'ABCDEFGHIJKLMNOPQRSTUVWXYZ':\n",
    "    sense.show_letter(c)\n",
    "    sleep(0.2)"
   ]
  },
  {
   "cell_type": "markdown",
   "metadata": {},
   "source": [
    "Ici on affiche les lettre de 0 à 9."
   ]
  },
  {
   "cell_type": "code",
   "execution_count": 102,
   "metadata": {},
   "outputs": [],
   "source": [
    "for i in range(10):\n",
    "    sense.show_letter(str(i))\n",
    "    sleep(0.2)"
   ]
  },
  {
   "cell_type": "markdown",
   "metadata": {},
   "source": [
    "### Afficher des couleurs\n",
    "Les couleurs sont représenté par les 3 composantes des couleurs primaires rouge, vert et blue (RGB, red-green-blue, en anglais). Chaque composante est exprimé par une entiers entre 0 et 255, 255 étant la luminosité maximum.\n",
    "Nous définissons les couleurs de base comme tuples RGB."
   ]
  },
  {
   "cell_type": "code",
   "execution_count": 40,
   "metadata": {},
   "outputs": [],
   "source": [
    "red = (255, 0, 0)\n",
    "green = (0, 255, 0)\n",
    "blue = (0, 0, 255)\n",
    "magenta = (255, 0, 255)\n",
    "cyan = (0, 255, 255)\n",
    "yellow = (255, 255, 0)\n",
    "orange = (255, 128, 0)\n",
    "white = (255, 255, 255)\n",
    "black = (0, 0, 0)"
   ]
  },
  {
   "cell_type": "markdown",
   "metadata": {},
   "source": [
    "Nous mettons les couleurs dans une liste et nous pouvons parcourir cette liste dans une boucle `for`."
   ]
  },
  {
   "cell_type": "code",
   "execution_count": 103,
   "metadata": {},
   "outputs": [],
   "source": [
    "colors = (red, magenta, blue, cyan, green, yellow, white, orange)\n",
    "for col in colors:\n",
    "    sense.clear(col)\n",
    "    sleep(0.5)"
   ]
  },
  {
   "cell_type": "markdown",
   "metadata": {},
   "source": [
    "## Contrôler des pixels\n",
    "Les pixels sont addressés avec $x\\in [0, ..., 7]$ et $y\\in [0, ..., 7]$. Ceci allumes les 64 un après les autres."
   ]
  },
  {
   "cell_type": "code",
   "execution_count": 104,
   "metadata": {},
   "outputs": [],
   "source": [
    "sense.clear()\n",
    "for x in range(8):\n",
    "    for y in range(8):\n",
    "        sense.set_pixel(x, y, blue)\n",
    "        sleep(0.1)"
   ]
  },
  {
   "cell_type": "markdown",
   "metadata": {},
   "source": [
    "Nous pouvons aussi créer de ligne avec différentes couleurs."
   ]
  },
  {
   "cell_type": "code",
   "execution_count": 121,
   "metadata": {},
   "outputs": [],
   "source": [
    "sense.clear()\n",
    "for x in range(8):\n",
    "    for y in range(8):\n",
    "        sense.set_pixel(x, y, colors[x])\n",
    "        sleep(0.1)"
   ]
  },
  {
   "cell_type": "markdown",
   "metadata": {},
   "source": [
    "Nous pouvons aussi colorier chauqe deuxième rangés."
   ]
  },
  {
   "cell_type": "code",
   "execution_count": 49,
   "metadata": {},
   "outputs": [],
   "source": [
    "sense.clear()\n",
    "for x in range(0, 8, 2):\n",
    "    for y in range(8):\n",
    "        sense.set_pixel(x, y, green)\n",
    "        sleep(0.1)"
   ]
  },
  {
   "cell_type": "markdown",
   "metadata": {},
   "source": [
    "Dans l'exemple suivant nous dessinons un **carrée** en utilisant un vecteur de déplacement $(dx, dy)$ pour calcuer la position $(x, y)$ du pixel."
   ]
  },
  {
   "cell_type": "code",
   "execution_count": 106,
   "metadata": {},
   "outputs": [],
   "source": [
    "sense.clear()\n",
    "(x, y) = (0, 0)\n",
    "dirs = ((1, 0), (0, 1), (-1, 0), (0, -1))\n",
    "for (dx, dy) in dirs:\n",
    "    for i in range(7):\n",
    "        x = x + dx\n",
    "        y = y + dy\n",
    "        sense.set_pixel(x, y, red)\n",
    "        sleep(0.1)"
   ]
  },
  {
   "cell_type": "markdown",
   "metadata": {},
   "source": [
    "### Nombres aléatoires\n",
    "La fonction `randint(a, b)` du module `random` retourne un entier aléatoire dans l'intervalle $[a, b]$."
   ]
  },
  {
   "cell_type": "code",
   "execution_count": 108,
   "metadata": {},
   "outputs": [],
   "source": [
    "from random import randint, choice\n",
    "sense.clear()\n",
    "for i in range(100):\n",
    "    x = randint(0, 7)\n",
    "    y = randint(0, 7)\n",
    "    sense.set_pixel(x, y, green)\n",
    "    sleep(0.1)"
   ]
  },
  {
   "cell_type": "markdown",
   "metadata": {},
   "source": [
    "La fonction `choice(list)` retourne un élément aléatoire de la liste."
   ]
  },
  {
   "cell_type": "code",
   "execution_count": 109,
   "metadata": {},
   "outputs": [],
   "source": [
    "sense.clear()\n",
    "for i in range(100):\n",
    "    x = randint(0, 7)\n",
    "    y = randint(0, 7)\n",
    "    col = choice(colors)\n",
    "    sense.set_pixel(x, y, col)\n",
    "    sleep(0.1)"
   ]
  },
  {
   "cell_type": "markdown",
   "metadata": {},
   "source": [
    "La fonction `choice(dirs)` retourne une direction aléatoire des 4 directions. Ceci est utilser pour créer un parcours aléatoire (**random walk**)."
   ]
  },
  {
   "cell_type": "code",
   "execution_count": 110,
   "metadata": {},
   "outputs": [],
   "source": [
    "sense.clear()\n",
    "(x, y) = (3, 3)\n",
    "for i in range(100):\n",
    "    (dx, dy) = choice(dirs)\n",
    "    x = (x + dx) % 8\n",
    "    y = (y + dy) % 8\n",
    "    sense.set_pixel(x, y, blue)\n",
    "    sleep(0.1)"
   ]
  },
  {
   "cell_type": "markdown",
   "metadata": {},
   "source": [
    "### Bouger un pixel sur l'écran et tracer une ligne\n",
    "Le program suivant décode les 4 directions de `event.directions` avec des `if` et `elif` pour déplacer un pixels rouge sur l'écran. Appuyper sur le bouton central termine le programme.\n",
    "Il faut appuyer sur le bouton central pour terminer. "
   ]
  },
  {
   "cell_type": "code",
   "execution_count": 131,
   "metadata": {},
   "outputs": [],
   "source": [
    "sense.clear()\n",
    "(x, y) = (2, 2)\n",
    "running = True\n",
    "while running:\n",
    "    for event in sense.stick.get_events():\n",
    "        if event.action == 'pressed':\n",
    "            if event.direction == 'up':\n",
    "                y = min(y+1, 7)\n",
    "            elif event.direction == 'down':\n",
    "                y = max(y-1, 0)\n",
    "            if event.direction == 'left':\n",
    "                x = min(x+1, 7)\n",
    "            elif event.direction == 'right':\n",
    "                x = max(x-1, 0)\n",
    "            elif event.direction == 'middle':\n",
    "                running = False\n",
    "    sense.set_pixel(x, y, red)\n",
    "sense.clear(green)"
   ]
  },
  {
   "cell_type": "markdown",
   "metadata": {},
   "source": [
    "### Bouger un seul pixel\n",
    "En utilisant un dictionaire avec les 4 directions $(dx, dy)$ ce programme peut être simplifié. Cette fois nous ne laissons pas de trace. Le utilise $(mod 8)$ pour calculer $(x, y)$ donc quand le curseur sort à gauche, il réapparit à droite, et vice-versa."
   ]
  },
  {
   "cell_type": "code",
   "execution_count": 137,
   "metadata": {},
   "outputs": [],
   "source": [
    "sense.clear()\n",
    "(x, y) = (2, 2)\n",
    "dirs = {'up':(0, 1), 'down':(0,-1), 'right':(1, 0), 'left':(-1, 0)}\n",
    "running = True\n",
    "while running:\n",
    "    for event in sense.stick.get_events():\n",
    "        if event.action == 'pressed':\n",
    "            if event.direction in dirs:\n",
    "                (dx, dy) = dirs[\n",
    "                    event.direction]\n",
    "            else:\n",
    "                running = False\n",
    "            x = (x + dx) % 8\n",
    "            y = (y + dy) % 8\n",
    "            sense.clear()\n",
    "            sense.set_pixel(x, y, green)\n",
    "sense.clear(blue)"
   ]
  },
  {
   "cell_type": "markdown",
   "metadata": {},
   "source": [
    "### Mémoriser des pixels dans une liste\n",
    "Maintenant nous modifions le programme pour laisser des pixels sur l'écran. Ces pixels sont mémorisé dans une liste `pixels`."
   ]
  },
  {
   "cell_type": "code",
   "execution_count": 4,
   "metadata": {},
   "outputs": [
    {
     "ename": "KeyboardInterrupt",
     "evalue": "",
     "output_type": "error",
     "traceback": [
      "\u001b[0;31m---------------------------------------------------------------------------\u001b[0m",
      "\u001b[0;31mKeyboardInterrupt\u001b[0m                         Traceback (most recent call last)",
      "\u001b[0;32m<ipython-input-4-7d06aaaa53d0>\u001b[0m in \u001b[0;36m<module>\u001b[0;34m\u001b[0m\n\u001b[1;32m      7\u001b[0m \u001b[0mrunning\u001b[0m \u001b[0;34m=\u001b[0m \u001b[0;32mTrue\u001b[0m\u001b[0;34m\u001b[0m\u001b[0m\n\u001b[1;32m      8\u001b[0m \u001b[0;32mwhile\u001b[0m \u001b[0mlen\u001b[0m\u001b[0;34m(\u001b[0m\u001b[0mpixels\u001b[0m\u001b[0;34m)\u001b[0m \u001b[0;34m<\u001b[0m \u001b[0;36m10\u001b[0m \u001b[0;34m:\u001b[0m\u001b[0;34m\u001b[0m\u001b[0m\n\u001b[0;32m----> 9\u001b[0;31m     \u001b[0;32mfor\u001b[0m \u001b[0mevent\u001b[0m \u001b[0;32min\u001b[0m \u001b[0msense\u001b[0m\u001b[0;34m.\u001b[0m\u001b[0mstick\u001b[0m\u001b[0;34m.\u001b[0m\u001b[0mget_events\u001b[0m\u001b[0;34m(\u001b[0m\u001b[0;34m)\u001b[0m\u001b[0;34m:\u001b[0m\u001b[0;34m\u001b[0m\u001b[0m\n\u001b[0m\u001b[1;32m     10\u001b[0m         \u001b[0;32mif\u001b[0m \u001b[0mevent\u001b[0m\u001b[0;34m.\u001b[0m\u001b[0maction\u001b[0m \u001b[0;34m==\u001b[0m \u001b[0;34m'pressed'\u001b[0m\u001b[0;34m:\u001b[0m\u001b[0;34m\u001b[0m\u001b[0m\n\u001b[1;32m     11\u001b[0m             \u001b[0;32mif\u001b[0m \u001b[0mevent\u001b[0m\u001b[0;34m.\u001b[0m\u001b[0mdirection\u001b[0m \u001b[0;32min\u001b[0m \u001b[0mdirs\u001b[0m\u001b[0;34m:\u001b[0m\u001b[0;34m\u001b[0m\u001b[0m\n",
      "\u001b[0;32m/usr/lib/python3/dist-packages/sense_hat/sense_hat.py\u001b[0m in \u001b[0;36mstick\u001b[0;34m(self)\u001b[0m\n\u001b[1;32m    190\u001b[0m     \u001b[0;34m@\u001b[0m\u001b[0mproperty\u001b[0m\u001b[0;34m\u001b[0m\u001b[0m\n\u001b[1;32m    191\u001b[0m     \u001b[0;32mdef\u001b[0m \u001b[0mstick\u001b[0m\u001b[0;34m(\u001b[0m\u001b[0mself\u001b[0m\u001b[0;34m)\u001b[0m\u001b[0;34m:\u001b[0m\u001b[0;34m\u001b[0m\u001b[0m\n\u001b[0;32m--> 192\u001b[0;31m         \u001b[0;32mreturn\u001b[0m \u001b[0mself\u001b[0m\u001b[0;34m.\u001b[0m\u001b[0m_stick\u001b[0m\u001b[0;34m\u001b[0m\u001b[0m\n\u001b[0m\u001b[1;32m    193\u001b[0m \u001b[0;34m\u001b[0m\u001b[0m\n\u001b[1;32m    194\u001b[0m     \u001b[0;31m####\u001b[0m\u001b[0;34m\u001b[0m\u001b[0;34m\u001b[0m\u001b[0m\n",
      "\u001b[0;31mKeyboardInterrupt\u001b[0m: "
     ]
    }
   ],
   "source": [
    "from sense_hat import SenseHat\n",
    "sense = SenseHat()\n",
    "sense.clear()\n",
    "(x, y) = (2, 2)\n",
    "dirs = {'up':(0, 1), 'down':(0,-1), 'right':(1, 0), 'left':(-1, 0)}\n",
    "pixels = []\n",
    "running = True\n",
    "while len(pixels) < 10 :\n",
    "    for event in sense.stick.get_events():\n",
    "        if event.action == 'pressed':\n",
    "            if event.direction in dirs:\n",
    "                (dx, dy) = dirs[event.direction]\n",
    "            else:\n",
    "                pixels.append((x, y))\n",
    "            x = (x + dx) % 8\n",
    "            y = (y + dy) % 8\n",
    "            sense.clear()\n",
    "            for (a, b) in pixels:\n",
    "                sense.set_pixel(a, b, red)\n",
    "            sense.set_pixel(x, y, green)\n",
    "sense.clear(blue)"
   ]
  },
  {
   "cell_type": "markdown",
   "metadata": {},
   "source": [
    "## Game of PONG\n",
    "Le jeu de Pong est un des plus anciens jeux"
   ]
  },
  {
   "cell_type": "code",
   "execution_count": 118,
   "metadata": {},
   "outputs": [
    {
     "ename": "SyntaxError",
     "evalue": "invalid syntax (<ipython-input-118-5fcc962d82b3>, line 6)",
     "output_type": "error",
     "traceback": [
      "\u001b[0;36m  File \u001b[0;32m\"<ipython-input-118-5fcc962d82b3>\"\u001b[0;36m, line \u001b[0;32m6\u001b[0m\n\u001b[0;31m    draw_bat():\u001b[0m\n\u001b[0m              ^\u001b[0m\n\u001b[0;31mSyntaxError\u001b[0m\u001b[0;31m:\u001b[0m invalid syntax\n"
     ]
    }
   ],
   "source": [
    "# ball position\n",
    "x, y   = (3, 3)\n",
    "dx, dy = (1, 1)\n",
    "bat_y = 3\n",
    "\n",
    "draw_bat():\n",
    "    pass\n",
    "\n",
    "draw_ball():\n",
    "    sense.draw_pixel(2, 2) \n",
    "    \n",
    "running = True:\n",
    "while running:\n",
    "    sense.clear()\n",
    "    draw_ball()\n",
    "    draw_bat()\n",
    "    sleep(0.2)"
   ]
  },
  {
   "cell_type": "markdown",
   "metadata": {},
   "source": [
    "## Créer un module"
   ]
  },
  {
   "cell_type": "markdown",
   "metadata": {},
   "source": [
    "Changeons le dosser vers le dossiers des jeux."
   ]
  },
  {
   "cell_type": "code",
   "execution_count": 1,
   "metadata": {},
   "outputs": [
    {
     "name": "stdout",
     "output_type": "stream",
     "text": [
      "/home/pi/oc-2018/games/xxx\n"
     ]
    }
   ],
   "source": [
    "%cd ../games/xxx"
   ]
  },
  {
   "cell_type": "markdown",
   "metadata": {},
   "source": [
    "Toutes les 6 modules se trouvent ici."
   ]
  },
  {
   "cell_type": "code",
   "execution_count": 5,
   "metadata": {},
   "outputs": [
    {
     "name": "stdout",
     "output_type": "stream",
     "text": [
      "connect4.py  game2048.py  games.py  mines.py  morpion.py  tetris.py\r\n"
     ]
    }
   ],
   "source": [
    "%ls"
   ]
  },
  {
   "cell_type": "markdown",
   "metadata": {},
   "source": [
    "Importons le module **games**."
   ]
  },
  {
   "cell_type": "code",
   "execution_count": 2,
   "metadata": {},
   "outputs": [
    {
     "name": "stdout",
     "output_type": "stream",
     "text": [
      "module name = morpion\n",
      "module name = game2048\n",
      "module name = mines\n",
      "module name = tetris\n",
      "module name = connect4\n",
      "module name = games\n"
     ]
    }
   ],
   "source": [
    "import games"
   ]
  },
  {
   "cell_type": "markdown",
   "metadata": {},
   "source": [
    "Affichons la documentation de ce module à l'aide de la commande **help**."
   ]
  },
  {
   "cell_type": "code",
   "execution_count": 3,
   "metadata": {},
   "outputs": [
    {
     "name": "stdout",
     "output_type": "stream",
     "text": [
      "Help on module games:\n",
      "\n",
      "NAME\n",
      "    games\n",
      "\n",
      "DESCRIPTION\n",
      "    File: games.py\n",
      "    Author: Raphael Holzer\n",
      "    Date: 27.01.2019\n",
      "    \n",
      "    This module imports 6 SenseHAT game modules :\n",
      "    - morpion\n",
      "    - game2048\n",
      "    - mines\n",
      "    - tetris\n",
      "    - connect4\n",
      "    - labyrinth\n",
      "\n",
      "FUNCTIONS\n",
      "    main()\n",
      "        Present a question mark (?) and allow to choose a game.\n",
      "        The left/right button increments/decrements the index number.\n",
      "        The up button displays the game name.\n",
      "        The middle button starts the selected game.\n",
      "\n",
      "DATA\n",
      "    BLUE = (0, 0, 255)\n",
      "    GREEN = (0, 255, 0)\n",
      "    RED = (255, 0, 0)\n",
      "\n",
      "FILE\n",
      "    /home/pi/oc-2018/games/xxx/games.py\n",
      "\n",
      "\n"
     ]
    }
   ],
   "source": [
    "help(games)"
   ]
  },
  {
   "cell_type": "markdown",
   "metadata": {},
   "source": [
    "Il est possible d'afficher de l'aide pour une fonction spécifique."
   ]
  },
  {
   "cell_type": "code",
   "execution_count": 9,
   "metadata": {},
   "outputs": [
    {
     "name": "stdout",
     "output_type": "stream",
     "text": [
      "Help on function main in module games:\n",
      "\n",
      "main()\n",
      "    Present a question mark (?) and allow to choose a game.\n",
      "    The left/right button increments/decrements the index number.\n",
      "    The up button displays the game name.\n",
      "    The middle button starts the selected game.\n",
      "\n"
     ]
    }
   ],
   "source": [
    "help(games.main)"
   ]
  },
  {
   "cell_type": "code",
   "execution_count": null,
   "metadata": {},
   "outputs": [],
   "source": []
  }
 ],
 "metadata": {
  "kernelspec": {
   "display_name": "Python 3",
   "language": "python",
   "name": "python3"
  },
  "language_info": {
   "codemirror_mode": {
    "name": "ipython",
    "version": 3
   },
   "file_extension": ".py",
   "mimetype": "text/x-python",
   "name": "python",
   "nbconvert_exporter": "python",
   "pygments_lexer": "ipython3",
   "version": "3.5.3"
  }
 },
 "nbformat": 4,
 "nbformat_minor": 2
}
