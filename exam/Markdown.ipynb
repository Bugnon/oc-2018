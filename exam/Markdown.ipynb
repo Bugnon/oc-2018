{
 "cells": [
  {
   "cell_type": "markdown",
   "metadata": {},
   "source": [
    "# Markdown, Wiki, Jupyter notebooks"
   ]
  },
  {
   "cell_type": "markdown",
   "metadata": {},
   "source": [
    "Auteur: Gaglio Pierre, Gymnase Bugnon site de l'ours, 3MOCINFO \n",
    "\n",
    "Date: Mai 2019"
   ]
  },
  {
   "cell_type": "markdown",
   "metadata": {},
   "source": [
    "## Markdown, qu'est-ce que c'est?"
   ]
  },
  {
   "cell_type": "markdown",
   "metadata": {},
   "source": [
    "Markdown est un un langage dit **de balisage léger** qui a été crée en 2004 par John Gruber et Aaron Swartz. Cela veut dire que c'est **un langage avec une syntaxe simple**, conçu pour être saisi avec un éditeur de texte simple ainsi que **facile à lire sous forme non formatée**. Ce langage a été inspiré par le format **courrier éléctrique** en mode texte. Un document balisé sous Markdown est possiblement convertissable sous format HTML ainsi que PDF ou sous autres formats."
   ]
  },
  {
   "cell_type": "markdown",
   "metadata": {},
   "source": [
    "Shift+Enter : execute la cellule\n",
    "\n",
    "## Modes\n",
    "\n",
    "Toggle with escape to go command\n",
    "Toggle with enter to go edit\n",
    "* Green : edit Mode\n",
    "* Blue : command Mode\n",
    "\n",
    "## Shortcuts\n",
    "\n",
    "In command mode\n",
    "* M markdown\n",
    "* Y code\n",
    "* 1 heading lvl 1\n",
    "* 2 heading lvl 2\n",
    "* 3 heading lvl 3\n",
    "* A insert cell above\n",
    "* B insert cell below\n",
    "* X cut cell\n",
    "* C copy cell\n",
    "* V paste cell\n",
    "\n",
    "## LaTex ( mettre une formule dans texte)\n",
    "\n",
    "inclure une expression math dans le texte $x = 1+2$ ou $x=\\frac{1}{1+2}$ dans une phrase\n",
    "\n",
    "## display mode\n",
    "\n",
    "inclur\n",
    "\n",
    "on peut placer une formule centrée\n",
    "\n",
    "`$$x=1+2$$`\n",
    "\n",
    "$$x=1+2$$\n",
    "\n",
    "display mode\n",
    "\n",
    "`$$x=\\frac{1}{1+2}$$`\n",
    "\n",
    "$$x=\\frac{1}{1+2}$$"
   ]
  },
  {
   "cell_type": "markdown",
   "metadata": {},
   "source": [
    "**à faire:**\n",
    "\n",
    "indice et exposants \n",
    "\n",
    "fractions\n",
    "\n",
    "vecteurs\n",
    "\n",
    "matrices\n",
    "\n",
    "somme (sigma)\n",
    "\n",
    "intégrales"
   ]
  },
  {
   "cell_type": "markdown",
   "metadata": {},
   "source": [
    "**langage wiki**, ce que c'est?\n",
    "insertion image\n",
    "wiki c'est dès que nous créons un lien, si cette page n'existe pas, crée une new page wiki. Chaque page a un nom et le wiki crée la page. Wiki est un système de version multiutilisateur pour pouvoir collaborer.\n",
    "\n",
    "Montrer exemple wiki github sur oc-2018. Lien vers page -> crée une page si pas de page existante à ce nom. Si y'a déjà une page à ce nom et que cette page change de nom alors recrée une page avec le nom du link voulu."
   ]
  }
 ],
 "metadata": {
  "kernelspec": {
   "display_name": "Python 3",
   "language": "python",
   "name": "python3"
  },
  "language_info": {
   "codemirror_mode": {
    "name": "ipython",
    "version": 3
   },
   "file_extension": ".py",
   "mimetype": "text/x-python",
   "name": "python",
   "nbconvert_exporter": "python",
   "pygments_lexer": "ipython3",
   "version": "3.7.1"
  }
 },
 "nbformat": 4,
 "nbformat_minor": 2
}
