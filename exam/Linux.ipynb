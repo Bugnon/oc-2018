{
 "cells": [
  {
   "cell_type": "markdown",
   "metadata": {},
   "source": [
    "# Linux, ce eu'il faut savoir pour les examens\n",
    "\n",
    "Les systèmes d'exploitation basés sur Linux ont a peu près tous les mêmes commandes, et la même arborescence de fichier. Les systèmes linux les plus connus sont sans doutes Ubuntu, Android et Debian d'où est repris le système du Raspberry Pi, Raspbian.\n",
    "\n",
    "## Systéme de fichier\n",
    "\n",
    "Le systéme de fichier de Linux à une arborescence qui ne part pas du disque (Windows), mais de la base du système de fichier appelée ```root```. Ensuite, vous avez un certain nombre de dossiers prédéfinis, qui sont les suivants:\n",
    "* bin\n",
    "* boot\n",
    "* etc\n",
    "* usr\n",
    "* var\n",
    "* home\n",
    "* lib\n",
    "* mnt\n",
    "* opt\n",
    "* proc\n",
    "* root\n",
    "\n",
    "#### ```/bin```\n",
    "\n",
    "Le dossier ```/bin``` contient une partie des programmes et applications livrés avec le système. C'est aussi là que se trouvente les défintions de quelques fonction des base de Linux, comme par exemple ```cd```.\n",
    "\n",
    "#### ```/boot```\n",
    "\n",
    "Le dossier ```/boot``` contient tous les fichiers nécessaires au démarrage du système d'exploitation. Il est fortement recommandé de ne pas le toucher du tout.\n",
    "\n",
    "#### ```/etc```\n",
    "\n",
    "Le dossier ```/etc``` est votre centrale de configuration. En effet, c'est là que se trouvent les fichier de confguration de votre systéme et de certaines des applications installées. Vous pouvez auusi trouver dans ce dossier certains de vos mots de passe, ou alors des informations sur votre réseau (imprimantes ou ordinateurs connectés en réeau).\n",
    "\n",
    "#### ```/home```\n",
    "\n",
    "Le dossier ```/home``` contient les différents dossiers des utilisateurs, qui contiennent eux-mêmes vos dossiers d'image, de téléchargements, de documents ou votre bureau. Il est équivalent au dossier ``users`` de Windows.\n",
    "\n",
    "****\n",
    "\n",
    "## Les commandes\n",
    "\n",
    "Avant l'utilisation, des interfaces graphiques (GUI), l'utilisation des commandes étaient obligatoire. De nos jours, l'utilisation de commande peut permettre de naviguer plus vite dans l'arborescence de dossier ou d'effectuer plus rapidement certaines actions. Les commandes étudiées sont les suivantes: \n"
   ]
  },
  {
   "cell_type": "code",
   "execution_count": null,
   "metadata": {},
   "outputs": [],
   "source": []
  }
 ],
 "metadata": {
  "kernelspec": {
   "display_name": "Python 3",
   "language": "python",
   "name": "python3"
  },
  "language_info": {
   "codemirror_mode": {
    "name": "ipython",
    "version": 3
   },
   "file_extension": ".py",
   "mimetype": "text/x-python",
   "name": "python",
   "nbconvert_exporter": "python",
   "pygments_lexer": "ipython3",
   "version": "3.7.1"
  },
  "toc": {
   "base_numbering": 1,
   "nav_menu": {},
   "number_sections": true,
   "sideBar": true,
   "skip_h1_title": false,
   "title_cell": "Table of Contents",
   "title_sidebar": "Contents",
   "toc_cell": false,
   "toc_position": {},
   "toc_section_display": true,
   "toc_window_display": true
  }
 },
 "nbformat": 4,
 "nbformat_minor": 2
}
