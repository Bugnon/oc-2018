{
 "cells": [
  {
   "cell_type": "markdown",
   "metadata": {},
   "source": [
    "# Travail Ecrit - Python\n",
    "* Gymnase du Bugnon, site de l'Ours\n",
    "* OC informatique\n",
    "* Sujet : chapitres 1-10 du livre *Pensez en Python*\n",
    "* Raphael Holzer\n",
    "* Date : jeudi 13 novembre 2018"
   ]
  },
  {
   "cell_type": "markdown",
   "metadata": {},
   "source": [
    "## **Exercice : expression arithmétique**  \n",
    "Initialisez les variables `(a, b, c, x)` avec les valeurs `(2, 3, 4, 5)`.  \n",
    "Calculez l'expression \n",
    "\n",
    "$$y = a x^2 + b x +c$$\n",
    "\n",
    "et imprimez le résultat."
   ]
  },
  {
   "cell_type": "code",
   "execution_count": 1,
   "metadata": {},
   "outputs": [
    {
     "name": "stdout",
     "output_type": "stream",
     "text": [
      "66\n"
     ]
    }
   ],
   "source": [
    "(a, b, c, x) = (2, 3, 4, 5)\n",
    "y = a*x**2+b*c+c\n",
    "print(y)"
   ]
  },
  {
   "cell_type": "markdown",
   "metadata": {},
   "source": [
    "## **Exercice : fonction surface**  \n",
    "Importez le module `math`,  \n",
    "définissez une fonction `surface(r)` qui calcule $s = \\pi r^2$,  \n",
    "affichez avec un texte descriptif le résultat pour `r=5` "
   ]
  },
  {
   "cell_type": "code",
   "execution_count": 4,
   "metadata": {},
   "outputs": [
    {
     "data": {
      "text/plain": [
       "78.53981633974483"
      ]
     },
     "execution_count": 4,
     "metadata": {},
     "output_type": "execute_result"
    }
   ],
   "source": [
    "import math\n",
    "def surface(r):\n",
    "    s = math.pi*r**2\n",
    "    return s\n",
    "\n",
    "surface(5)"
   ]
  },
  {
   "cell_type": "markdown",
   "metadata": {},
   "source": [
    "## **Exercice : formule quadratique**  \n",
    "La solution d'une formule quadratique de forme\n",
    "\n",
    "$$ a x^2 + b x +c = 0 $$\n",
    "\n",
    "dépend du terme $\\Delta = b^2 - 4 a c$\n",
    "* Si $\\Delta < 0$ il n'y a pas de solution\n",
    "* Si $\\Delta = 0$ il y a une solution : $x = \\frac{-b}{2 a}$\n",
    "* Si $\\Delta > 0$ il y a deux solutions : \n",
    "$x_1 = \\frac{-b +\\sqrt\\Delta}{2 a}$ and $x_2 = \\frac{-b -\\sqrt\\Delta}{2 a}$\n",
    "\n",
    "Définissez une fonction `quadratique(a, b, c)` qui retourne la solution à l'équation quadratique dans les 3 cas: `None`, `x`, `[x1, x2]`\n",
    ".\n",
    "\n",
    "Montrez la solution pour `quadratique(1, 2, 3)`, `quadratique(1, 2, 1)` et `quadratique(1, 2, -1)`"
   ]
  },
  {
   "cell_type": "code",
   "execution_count": 10,
   "metadata": {},
   "outputs": [
    {
     "name": "stdout",
     "output_type": "stream",
     "text": [
      "None\n",
      "-1.0\n",
      "[0.41421356237309515, -2.414213562373095]\n"
     ]
    }
   ],
   "source": [
    "import math\n",
    "def quadratique(a, b, c):\n",
    "    discriminant = b**2-4*a*c\n",
    "    if discriminant>0:\n",
    "        x1=(-b+math.sqrt(discriminant))/(2*a)\n",
    "        x2=(-b-math.sqrt(discriminant))/(2*a)\n",
    "        return [x1, x2]\n",
    "    elif discriminant<0:\n",
    "        return None\n",
    "    else:\n",
    "        x=-b/(2*a)\n",
    "        return x\n",
    "    \n",
    "print(quadratique(1, 2, 3))\n",
    "print(quadratique(1, 2, 1))\n",
    "print(quadratique(1, 2, -1))"
   ]
  },
  {
   "cell_type": "markdown",
   "metadata": {},
   "source": [
    "## **Exercice : capitalize**  \n",
    "Créez une fonction `capitalize(c)` qui transforme une lettre en majuscule si c'est une minuscule, ou la laisse inchangée autrement."
   ]
  },
  {
   "cell_type": "code",
   "execution_count": 39,
   "metadata": {},
   "outputs": [
    {
     "data": {
      "text/plain": [
       "('A', 'B', '3')"
      ]
     },
     "execution_count": 39,
     "metadata": {},
     "output_type": "execute_result"
    }
   ],
   "source": [
    "def capitalize(c):\n",
    "    list(c)\n",
    "    if c!=c.upper():\n",
    "        return c.upper()\n",
    "    return c\n",
    "\n",
    "capitalize('a'), capitalize('B'), capitalize('3')"
   ]
  },
  {
   "cell_type": "markdown",
   "metadata": {},
   "source": [
    "## **Exercice : capitalize words**  \n",
    "Créez une fonction `capitalize_words(s)` qui transforme la première lettre de tous les mots en majuscule."
   ]
  },
  {
   "cell_type": "code",
   "execution_count": 84,
   "metadata": {},
   "outputs": [
    {
     "data": {
      "text/plain": [
       "'Hello world, how are you?'"
      ]
     },
     "execution_count": 84,
     "metadata": {},
     "output_type": "execute_result"
    }
   ],
   "source": [
    "def capitalize_words(s):\n",
    "    list(s)\n",
    "    s = s[0].upper() + s[1:]\n",
    "    return s\n",
    "\n",
    "capitalize_words('hello world, how are you?')"
   ]
  },
  {
   "cell_type": "markdown",
   "metadata": {},
   "source": [
    "## **Exercice : tranches**  \n",
    "Expliquez ce que font les 6 opérateurs de **tranches** ci-dessous."
   ]
  },
  {
   "cell_type": "code",
   "execution_count": null,
   "metadata": {},
   "outputs": [],
   "source": [
    "# s[2]   - Séléctionne la 3ème lettre de la liste s\n",
    "# s[:2]  - Séléctione les 3 premières lettres de la liste\n",
    "# s[::2] - Suprimme une lettre sur deux\n",
    "\n",
    "# s[-1]   - Séléctionne la dernière lettre\n",
    "# s[:-1]  - Séléctionne tout sauf la dernière lettre\n",
    "# s[::-1] - Inverse le mot"
   ]
  },
  {
   "cell_type": "markdown",
   "metadata": {},
   "source": [
    "## **Exercice : longueur spécifique**   \n",
    "Le fichier `words.text` contient 58110 mots en anglais.  \n",
    "Affichez les $n=5$ premiers mots qui ont une longueur de $m=10$ et affichez leur nombre total."
   ]
  },
  {
   "cell_type": "code",
   "execution_count": 32,
   "metadata": {},
   "outputs": [
    {
     "name": "stdout",
     "output_type": "stream",
     "text": [
      "abdicating\n",
      "\n",
      "abhorrence\n",
      "\n",
      "ablebodied\n",
      "\n",
      "abolishing\n",
      "\n",
      "abominably\n",
      "\n",
      "3157\n"
     ]
    }
   ],
   "source": [
    "fin = open('words.txt')\n",
    "n = 5\n",
    "m = 10\n",
    "k = 0\n",
    "for i in fin:\n",
    "    line=fin.readline()\n",
    "    if len(line)==m+1:\n",
    "        k += 1\n",
    "        if k<n+1:\n",
    "            print(line)\n",
    "print(k)       "
   ]
  },
  {
   "cell_type": "markdown",
   "metadata": {},
   "source": [
    "## **Exercice : répétition**.  \n",
    "Affchez les $m=5$ premiers mots qui sont composé de deux parties répétées (par exemple **bonbon**)."
   ]
  },
  {
   "cell_type": "code",
   "execution_count": 102,
   "metadata": {},
   "outputs": [],
   "source": [
    "fin=open('words.txt')\n",
    "m=5\n",
    "k=0\n",
    "for i in fin:\n",
    "    line=fin.readline()\n",
    "    L=len(line)\n",
    "    if k<m:\n",
    "        if L%2==0:\n",
    "            list(line)\n",
    "            if line[:(int(L/2))] == line[(int(L/2)):]:\n",
    "                k += 1\n",
    "                print(line)"
   ]
  },
  {
   "cell_type": "markdown",
   "metadata": {},
   "source": [
    "## **Exercice : minimum**  \n",
    "Créez une fonction `min(L)` qui retourne le minimum d'une liste et l'index de sa position sous forme de list `[val, pos]`\n",
    "."
   ]
  },
  {
   "cell_type": "code",
   "execution_count": 45,
   "metadata": {},
   "outputs": [
    {
     "data": {
      "text/plain": [
       "-4"
      ]
     },
     "execution_count": 45,
     "metadata": {},
     "output_type": "execute_result"
    }
   ],
   "source": [
    "def min(L):\n",
    "    m=0\n",
    "    for i in L:\n",
    "        if i==0:\n",
    "            m=i\n",
    "        elif i<m:\n",
    "            m=i\n",
    "    return m\n",
    "                   \n",
    "L = [1, 3, 34, -4, -2, 100]\n",
    "min(L)"
   ]
  },
  {
   "cell_type": "markdown",
   "metadata": {},
   "source": [
    "## **Exercice : moyenne**  \n",
    "Ecrivez une fonction `mean(L)` qui retourne la moyenne d'une liste.\n",
    "."
   ]
  },
  {
   "cell_type": "code",
   "execution_count": 35,
   "metadata": {},
   "outputs": [
    {
     "data": {
      "text/plain": [
       "66.0"
      ]
     },
     "execution_count": 35,
     "metadata": {},
     "output_type": "execute_result"
    }
   ],
   "source": [
    "def mean(L):\n",
    "    m=0\n",
    "    for i in L:\n",
    "          m += i\n",
    "    return m/2\n",
    "                   \n",
    "L = [1, 3, 34, -4, -2, 100]\n",
    "mean(L)"
   ]
  },
  {
   "cell_type": "code",
   "execution_count": 75,
   "metadata": {},
   "outputs": [
    {
     "name": "stdout",
     "output_type": "stream",
     "text": [
      "Help on class list in module builtins:\n",
      "\n",
      "class list(object)\n",
      " |  list() -> new empty list\n",
      " |  list(iterable) -> new list initialized from iterable's items\n",
      " |  \n",
      " |  Methods defined here:\n",
      " |  \n",
      " |  __add__(self, value, /)\n",
      " |      Return self+value.\n",
      " |  \n",
      " |  __contains__(self, key, /)\n",
      " |      Return key in self.\n",
      " |  \n",
      " |  __delitem__(self, key, /)\n",
      " |      Delete self[key].\n",
      " |  \n",
      " |  __eq__(self, value, /)\n",
      " |      Return self==value.\n",
      " |  \n",
      " |  __ge__(self, value, /)\n",
      " |      Return self>=value.\n",
      " |  \n",
      " |  __getattribute__(self, name, /)\n",
      " |      Return getattr(self, name).\n",
      " |  \n",
      " |  __getitem__(...)\n",
      " |      x.__getitem__(y) <==> x[y]\n",
      " |  \n",
      " |  __gt__(self, value, /)\n",
      " |      Return self>value.\n",
      " |  \n",
      " |  __iadd__(self, value, /)\n",
      " |      Implement self+=value.\n",
      " |  \n",
      " |  __imul__(self, value, /)\n",
      " |      Implement self*=value.\n",
      " |  \n",
      " |  __init__(self, /, *args, **kwargs)\n",
      " |      Initialize self.  See help(type(self)) for accurate signature.\n",
      " |  \n",
      " |  __iter__(self, /)\n",
      " |      Implement iter(self).\n",
      " |  \n",
      " |  __le__(self, value, /)\n",
      " |      Return self<=value.\n",
      " |  \n",
      " |  __len__(self, /)\n",
      " |      Return len(self).\n",
      " |  \n",
      " |  __lt__(self, value, /)\n",
      " |      Return self<value.\n",
      " |  \n",
      " |  __mul__(self, value, /)\n",
      " |      Return self*value.n\n",
      " |  \n",
      " |  __ne__(self, value, /)\n",
      " |      Return self!=value.\n",
      " |  \n",
      " |  __new__(*args, **kwargs) from builtins.type\n",
      " |      Create and return a new object.  See help(type) for accurate signature.\n",
      " |  \n",
      " |  __repr__(self, /)\n",
      " |      Return repr(self).\n",
      " |  \n",
      " |  __reversed__(...)\n",
      " |      L.__reversed__() -- return a reverse iterator over the list\n",
      " |  \n",
      " |  __rmul__(self, value, /)\n",
      " |      Return self*value.\n",
      " |  \n",
      " |  __setitem__(self, key, value, /)\n",
      " |      Set self[key] to value.\n",
      " |  \n",
      " |  __sizeof__(...)\n",
      " |      L.__sizeof__() -- size of L in memory, in bytes\n",
      " |  \n",
      " |  append(...)\n",
      " |      L.append(object) -> None -- append object to end\n",
      " |  \n",
      " |  clear(...)\n",
      " |      L.clear() -> None -- remove all items from L\n",
      " |  \n",
      " |  copy(...)\n",
      " |      L.copy() -> list -- a shallow copy of L\n",
      " |  \n",
      " |  count(...)\n",
      " |      L.count(value) -> integer -- return number of occurrences of value\n",
      " |  \n",
      " |  extend(...)\n",
      " |      L.extend(iterable) -> None -- extend list by appending elements from the iterable\n",
      " |  \n",
      " |  index(...)\n",
      " |      L.index(value, [start, [stop]]) -> integer -- return first index of value.\n",
      " |      Raises ValueError if the value is not present.\n",
      " |  \n",
      " |  insert(...)\n",
      " |      L.insert(index, object) -- insert object before index\n",
      " |  \n",
      " |  pop(...)\n",
      " |      L.pop([index]) -> item -- remove and return item at index (default last).\n",
      " |      Raises IndexError if list is empty or index is out of range.\n",
      " |  \n",
      " |  remove(...)\n",
      " |      L.remove(value) -> None -- remove first occurrence of value.\n",
      " |      Raises ValueError if the value is not present.\n",
      " |  \n",
      " |  reverse(...)\n",
      " |      L.reverse() -- reverse *IN PLACE*\n",
      " |  \n",
      " |  sort(...)\n",
      " |      L.sort(key=None, reverse=False) -> None -- stable sort *IN PLACE*\n",
      " |  \n",
      " |  ----------------------------------------------------------------------\n",
      " |  Data and other attributes defined here:\n",
      " |  \n",
      " |  __hash__ = None\n",
      "\n"
     ]
    }
   ],
   "source": [
    "help(list)"
   ]
  },
  {
   "cell_type": "code",
   "execution_count": 99,
   "metadata": {},
   "outputs": [
    {
     "data": {
      "text/plain": [
       "6"
      ]
     },
     "execution_count": 99,
     "metadata": {},
     "output_type": "execute_result"
    }
   ],
   "source": [
    "len('bonbon')"
   ]
  },
  {
   "cell_type": "code",
   "execution_count": null,
   "metadata": {},
   "outputs": [],
   "source": []
  }
 ],
 "metadata": {
  "kernelspec": {
   "display_name": "Python 3",
   "language": "python",
   "name": "python3"
  },
  "language_info": {
   "codemirror_mode": {
    "name": "ipython",
    "version": 3
   },
   "file_extension": ".py",
   "mimetype": "text/x-python",
   "name": "python",
   "nbconvert_exporter": "python",
   "pygments_lexer": "ipython3",
   "version": "3.5.3"
  },
  "toc-autonumbering": true
 },
 "nbformat": 4,
 "nbformat_minor": 2
}
