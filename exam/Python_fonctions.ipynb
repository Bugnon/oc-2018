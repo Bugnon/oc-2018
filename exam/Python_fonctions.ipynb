{
 "cells": [
  {
   "cell_type": "markdown",
   "metadata": {},
   "source": [
    "# Python\n",
    "## Fonctions\n",
    "\n",
    "Une **fonction** est une séquence d'instructions nommée, qui est **définie avant son utilisation**, et qui peut être appelée multiple fois. On injecte des **arguments** dans une fonction et elle peut retourner des valeurs. Les fonctions sont **executées** dans leur **ordre d'apparition dans le code**."
   ]
  },
  {
   "cell_type": "markdown",
   "metadata": {},
   "source": [
    "### Fonctions prédefinies"
   ]
  },
  {
   "cell_type": "markdown",
   "metadata": {},
   "source": [
    "Sur python, il y a des fonctions de base comme la fonction `type` qui retourne le type de ce qu'on lui soumet.\n",
    "Voici certains exemples de ce que la fonction peut retourner:\n",
    "* `int` (nombre entier)\n",
    "* `float` (nombre à virgule)\n",
    "* `str` (chaîne de caractères)"
   ]
  },
  {
   "cell_type": "code",
   "execution_count": 1,
   "metadata": {},
   "outputs": [
    {
     "data": {
      "text/plain": [
       "(int, float, str)"
      ]
     },
     "execution_count": 1,
     "metadata": {},
     "output_type": "execute_result"
    }
   ],
   "source": [
    "type(42), type(42.42), type('quarante-deux')"
   ]
  },
  {
   "cell_type": "markdown",
   "metadata": {},
   "source": [
    "Il est aussi possible de changer le type avec les **fonctions de conversions de type**. Toutefois, cela ne fonctione que si la conversion est possible."
   ]
  },
  {
   "cell_type": "code",
   "execution_count": 2,
   "metadata": {},
   "outputs": [
    {
     "data": {
      "text/plain": [
       "(42, 25)"
      ]
     },
     "execution_count": 2,
     "metadata": {},
     "output_type": "execute_result"
    }
   ],
   "source": [
    "int(42.42), int('25')"
   ]
  },
  {
   "cell_type": "code",
   "execution_count": 3,
   "metadata": {},
   "outputs": [
    {
     "data": {
      "text/plain": [
       "(2.0, 42.0, 25.25)"
      ]
     },
     "execution_count": 3,
     "metadata": {},
     "output_type": "execute_result"
    }
   ],
   "source": [
    "float(2), float('42'), float('25.25')"
   ]
  },
  {
   "cell_type": "code",
   "execution_count": 4,
   "metadata": {},
   "outputs": [
    {
     "data": {
      "text/plain": [
       "('2', '42.25')"
      ]
     },
     "execution_count": 4,
     "metadata": {},
     "output_type": "execute_result"
    }
   ],
   "source": [
    "str(2), str(42.25)"
   ]
  },
  {
   "cell_type": "markdown",
   "metadata": {},
   "source": [
    "Il est impossible par exemple de transformer 'quarante-deux' en 42 avec la fonction `int`."
   ]
  },
  {
   "cell_type": "markdown",
   "metadata": {},
   "source": [
    "### Fonctions mathématiques"
   ]
  },
  {
   "cell_type": "markdown",
   "metadata": {},
   "source": [
    "De base, seul 7 opérations mathématiques sont disponibles.\n",
    "\n",
    "* L'addition (+)\n",
    "* La Soustraction (-)\n",
    "* La multiplication (*)\n",
    "* La puissance (**)\n",
    "* La division (/)\n",
    "* La division entière (/)\n",
    "* Le modulo (%)\n",
    "\n",
    "Il est tout de même possible d'avoir plus d'opérations en important le module __math__ grâce à cet commande:"
   ]
  },
  {
   "cell_type": "code",
   "execution_count": 5,
   "metadata": {},
   "outputs": [],
   "source": [
    "import math"
   ]
  },
  {
   "cell_type": "markdown",
   "metadata": {},
   "source": [
    "Avec ce module, on peut faire des **racines**, des fonctions **trigonométriques** et plus encore. La liste complète des opérations figure [ici](https://docs.python.org/3/library/math.html). Pour l'utiliser, il faut l'importer puis écrire `math.` suivi de l'opération.\n",
    "\n",
    "Voici quelques exemples:"
   ]
  },
  {
   "cell_type": "code",
   "execution_count": 6,
   "metadata": {},
   "outputs": [
    {
     "data": {
      "text/plain": [
       "5.0"
      ]
     },
     "execution_count": 6,
     "metadata": {},
     "output_type": "execute_result"
    }
   ],
   "source": [
    "math.sqrt(25)"
   ]
  },
  {
   "cell_type": "code",
   "execution_count": 7,
   "metadata": {},
   "outputs": [
    {
     "data": {
      "text/plain": [
       "1.3979400086720377"
      ]
     },
     "execution_count": 7,
     "metadata": {},
     "output_type": "execute_result"
    }
   ],
   "source": [
    "math.log10(25)"
   ]
  },
  {
   "cell_type": "code",
   "execution_count": 8,
   "metadata": {},
   "outputs": [
    {
     "data": {
      "text/plain": [
       "0.8414709848078965"
      ]
     },
     "execution_count": 8,
     "metadata": {},
     "output_type": "execute_result"
    }
   ],
   "source": [
    "math.sin(1)"
   ]
  },
  {
   "cell_type": "markdown",
   "metadata": {},
   "source": [
    "Il est biensur possible de combiner des opérations."
   ]
  },
  {
   "cell_type": "code",
   "execution_count": 9,
   "metadata": {},
   "outputs": [
    {
     "data": {
      "text/plain": [
       "0.7050885566325225"
      ]
     },
     "execution_count": 9,
     "metadata": {},
     "output_type": "execute_result"
    }
   ],
   "source": [
    "math.sqrt(math.log10(math.pi))"
   ]
  },
  {
   "cell_type": "markdown",
   "metadata": {},
   "source": [
    "## Créer une fonction"
   ]
  },
  {
   "cell_type": "markdown",
   "metadata": {},
   "source": [
    "Il est aussi possible de **créer** sa propre fonction, ce qui donne une **infinité de possibilitées**. Pour ce faire, il faut commencer par définir sa fonction tel que ci-dessous avec le mot-clé `def`."
   ]
  },
  {
   "cell_type": "code",
   "execution_count": 10,
   "metadata": {},
   "outputs": [],
   "source": [
    "def nom_de_la_fonction(arguments):\n",
    "    pass"
   ]
  },
  {
   "cell_type": "markdown",
   "metadata": {},
   "source": [
    "Ensuite, on peut créer une ou plusieurs instructions qui seront executées lorsque la fonction sera appellée. Il faut tout de même respecter une syntaxe où chaque ligne doit être décalée de 4 espaces par rapport au `def`, puis il faut écrire `return` à la fin, suivi de ce que l'on souhaite que la fonction retourne. Ces fonctions sont appelées **productives** car on obtient un output."
   ]
  },
  {
   "cell_type": "code",
   "execution_count": 11,
   "metadata": {},
   "outputs": [],
   "source": [
    "def aire_carré(x):\n",
    "    ###x is one side of the square###\n",
    "    Aire_c = x**2\n",
    "    return Aire_c\n",
    "\n",
    "def aire_rectangle(x, y):\n",
    "    ###x and y are both sides of the rectangle###\n",
    "    Aire_r = x*y\n",
    "    return Aire_r"
   ]
  },
  {
   "cell_type": "markdown",
   "metadata": {},
   "source": [
    "Pour *appeler la fonction* par la suite, il faut **écrire son nom** suivi des **arguments** dont elle a besoin entre **parenthèse**, séparés par des *virgules* si il y en a *plusieurs*."
   ]
  },
  {
   "cell_type": "code",
   "execution_count": 12,
   "metadata": {},
   "outputs": [
    {
     "data": {
      "text/plain": [
       "(25, 6)"
      ]
     },
     "execution_count": 12,
     "metadata": {},
     "output_type": "execute_result"
    }
   ],
   "source": [
    "aire_carré(5), aire_rectangle(2, 3)"
   ]
  },
  {
   "cell_type": "markdown",
   "metadata": {},
   "source": [
    "Il est aussi possible d'utiliser des **variables** comme arguments."
   ]
  },
  {
   "cell_type": "code",
   "execution_count": 13,
   "metadata": {},
   "outputs": [
    {
     "data": {
      "text/plain": [
       "25"
      ]
     },
     "execution_count": 13,
     "metadata": {},
     "output_type": "execute_result"
    }
   ],
   "source": [
    "côté_carré = 5\n",
    "aire_carré(côté_carré)"
   ]
  },
  {
   "cell_type": "markdown",
   "metadata": {},
   "source": [
    "Pour **sortir** d'une fonction *sans que rien ne se passe*, il faut utiliser le mot-clé `pass`."
   ]
  },
  {
   "cell_type": "code",
   "execution_count": 14,
   "metadata": {},
   "outputs": [
    {
     "data": {
      "text/plain": [
       "1"
      ]
     },
     "execution_count": 14,
     "metadata": {},
     "output_type": "execute_result"
    }
   ],
   "source": [
    "def rien_ne_se_passe_si_plus_grand_que_2(x):\n",
    "    if x > 2:\n",
    "        pass\n",
    "    else:\n",
    "        return x \n",
    "    \n",
    "rien_ne_se_passe_si_plus_grand_que_2(5)\n",
    "rien_ne_se_passe_si_plus_grand_que_2(1)"
   ]
  },
  {
   "cell_type": "markdown",
   "metadata": {},
   "source": [
    "Un autre type de fonction, appellé **fonction vide**, retourne comme valeur **`None`**. Par contre, ces fonctions printent quelque chose dans la **console**. Ces fonctions n'ont pas un `return` mais un `print()` à la fin."
   ]
  },
  {
   "cell_type": "code",
   "execution_count": 15,
   "metadata": {},
   "outputs": [
    {
     "name": "stdout",
     "output_type": "stream",
     "text": [
      "67\n"
     ]
    }
   ],
   "source": [
    "def addition(a, b):\n",
    "    x = a+b\n",
    "    print(x)\n",
    "\n",
    "addition(25, 42)"
   ]
  },
  {
   "cell_type": "code",
   "execution_count": 16,
   "metadata": {},
   "outputs": [
    {
     "name": "stdout",
     "output_type": "stream",
     "text": [
      "67\n",
      "None\n"
     ]
    }
   ],
   "source": [
    "print(addition(25, 42))"
   ]
  },
  {
   "cell_type": "markdown",
   "metadata": {},
   "source": [
    "La fonction `None` appartient à la classe **NoneType**, qu'on n'a pas vu précédement."
   ]
  },
  {
   "cell_type": "code",
   "execution_count": 17,
   "metadata": {},
   "outputs": [
    {
     "data": {
      "text/plain": [
       "NoneType"
      ]
     },
     "execution_count": 17,
     "metadata": {},
     "output_type": "execute_result"
    }
   ],
   "source": [
    "type(None)"
   ]
  },
  {
   "cell_type": "markdown",
   "metadata": {},
   "source": [
    "## Arguments"
   ]
  },
  {
   "cell_type": "markdown",
   "metadata": {},
   "source": [
    "Lorsqu'on appelle une fonction, on doit lui fournir des **arguments**. Ces arguments sont ensuite utilisés comme **paramètres variables** dans la fonction."
   ]
  },
  {
   "cell_type": "code",
   "execution_count": 18,
   "metadata": {},
   "outputs": [
    {
     "data": {
      "text/plain": [
       "3"
      ]
     },
     "execution_count": 18,
     "metadata": {},
     "output_type": "execute_result"
    }
   ],
   "source": [
    "def incrémenter(argument):\n",
    "    argument += 1\n",
    "    return argument\n",
    "\n",
    "x=2\n",
    "incrémenter(x)"
   ]
  },
  {
   "cell_type": "markdown",
   "metadata": {},
   "source": [
    "Dans ce cas, la valeur de x est **changée en paramètre** et donc varie *seulement dans la fonction*, tandis qu'elle *reste la même hors de la fonction*."
   ]
  },
  {
   "cell_type": "code",
   "execution_count": 19,
   "metadata": {},
   "outputs": [
    {
     "name": "stdout",
     "output_type": "stream",
     "text": [
      "2\n"
     ]
    }
   ],
   "source": [
    "print(x)"
   ]
  },
  {
   "cell_type": "markdown",
   "metadata": {},
   "source": [
    "On peut attribuer à une **fonction** des arguments par **défaut** en mettant un `=` suivi de la valeur par défaut après un argument quand on le définit."
   ]
  },
  {
   "cell_type": "code",
   "execution_count": 20,
   "metadata": {},
   "outputs": [
    {
     "data": {
      "text/plain": [
       "(0.4330127018922193, 10.825317547305483)"
      ]
     },
     "execution_count": 20,
     "metadata": {},
     "output_type": "execute_result"
    }
   ],
   "source": [
    "import math\n",
    "def aire_triangle_equilateral(côté = 1):\n",
    "    A = (math.sqrt(3)/4) * côté**2\n",
    "    return A\n",
    "\n",
    "aire_triangle_equilateral(), aire_triangle_equilateral(5)"
   ]
  },
  {
   "cell_type": "markdown",
   "metadata": {},
   "source": [
    "## Return"
   ]
  },
  {
   "cell_type": "markdown",
   "metadata": {},
   "source": [
    "Le mot-clé `return` à déjà été utilisé plus haut. Il se met dans les **fonctions** et permet de **sortir** de la fonction en donnant un **output**."
   ]
  },
  {
   "cell_type": "code",
   "execution_count": 21,
   "metadata": {},
   "outputs": [
    {
     "data": {
      "text/plain": [
       "4"
      ]
     },
     "execution_count": 21,
     "metadata": {},
     "output_type": "execute_result"
    }
   ],
   "source": [
    "def plus_deux(x):\n",
    "    nbr = x+2\n",
    "    return x\n",
    "\n",
    "plus_deux(4)"
   ]
  },
  {
   "cell_type": "markdown",
   "metadata": {},
   "source": [
    "Dès qu'on atteint un `return`, on sort de la fonction. Même si il y avais encore du code à executer."
   ]
  },
  {
   "cell_type": "code",
   "execution_count": 22,
   "metadata": {},
   "outputs": [
    {
     "data": {
      "text/plain": [
       "('plus petit', 'pas plus petit')"
      ]
     },
     "execution_count": 22,
     "metadata": {},
     "output_type": "execute_result"
    }
   ],
   "source": [
    "def plus_petit(x, y):\n",
    "    if x < y:\n",
    "        return ('plus petit')\n",
    "    return ('pas plus petit')\n",
    "    \n",
    "plus_petit(2, 3), plus_petit(3, 2)\n"
   ]
  },
  {
   "cell_type": "markdown",
   "metadata": {},
   "source": [
    "Il est aussi possible de retourner un **tuple**. Pour cela, il faut mettre des *parenthèses* avec les éléments de la liste après le `return`."
   ]
  },
  {
   "cell_type": "code",
   "execution_count": 23,
   "metadata": {},
   "outputs": [
    {
     "data": {
      "text/plain": [
       "(5, 10, 15)"
      ]
     },
     "execution_count": 23,
     "metadata": {},
     "output_type": "execute_result"
    }
   ],
   "source": [
    "def trois_multiples(n):\n",
    "    n1 = n*1\n",
    "    n2 = n*2\n",
    "    n3 = n*3\n",
    "    return(n1, n2, n3)\n",
    "\n",
    "multiples_de_5 = trois_multiples(5)\n",
    "trois_multiples(5)"
   ]
  },
  {
   "cell_type": "markdown",
   "metadata": {},
   "source": [
    "Sachant qu'on a une liste, on peut en extraire un élément."
   ]
  },
  {
   "cell_type": "code",
   "execution_count": 24,
   "metadata": {},
   "outputs": [
    {
     "data": {
      "text/plain": [
       "15"
      ]
     },
     "execution_count": 24,
     "metadata": {},
     "output_type": "execute_result"
    }
   ],
   "source": [
    "multiples_de_5[2]"
   ]
  },
  {
   "cell_type": "markdown",
   "metadata": {},
   "source": [
    "## Docstrings"
   ]
  },
  {
   "cell_type": "markdown",
   "metadata": {},
   "source": [
    "Les docstrings sont les **commentaires** apporté au code afin de mieux le comprendre et le lire. Les docstrings n'ont **aucun impact sur le code**, ils sont comme invisible. Généralement, on écrit les commentaires en **anglais** car c'est la langue de base de l'informatique.\n",
    "\n",
    "Les docstrings sont placés à des endroits précis du code pour expliquer les parties concernées. Souvent, on les mets en **début de fonction** afin d'expliquer ce que cette dernière fait. Ils sont écris entre `\"\"\"`."
   ]
  },
  {
   "cell_type": "code",
   "execution_count": 25,
   "metadata": {},
   "outputs": [],
   "source": [
    "def function():\n",
    "    \"\"\"This fuction does ...\"\"\"\n",
    "    pass"
   ]
  },
  {
   "cell_type": "markdown",
   "metadata": {},
   "source": [
    "Si on veut rédiger un docstring de **plus d'une ligne**, il faut que le `\"\"\"` soit *après la dernière ligne de commentaire*."
   ]
  },
  {
   "cell_type": "code",
   "execution_count": 26,
   "metadata": {},
   "outputs": [],
   "source": [
    "def function():\n",
    "    \"\"\"This function does...\n",
    "    But it also does ...\n",
    "    \"\"\"\n",
    "    pass"
   ]
  },
  {
   "cell_type": "markdown",
   "metadata": {},
   "source": [
    "Ci-dessus, la convention [PEP 257](https://www.python.org/dev/peps/pep-0257/) est appliquée."
   ]
  },
  {
   "cell_type": "markdown",
   "metadata": {},
   "source": [
    "## Variable locale/globale"
   ]
  },
  {
   "cell_type": "markdown",
   "metadata": {},
   "source": [
    "### Variable locale"
   ]
  },
  {
   "cell_type": "markdown",
   "metadata": {},
   "source": [
    "Les variables local sont des variables **appartenant à une fonction**. On ne peut y **accéder** que si on est **dans la fonction**."
   ]
  },
  {
   "cell_type": "code",
   "execution_count": 27,
   "metadata": {},
   "outputs": [
    {
     "data": {
      "text/plain": [
       "120"
      ]
     },
     "execution_count": 27,
     "metadata": {},
     "output_type": "execute_result"
    }
   ],
   "source": [
    "def factoriel(x):\n",
    "    \"\"\"Return the factorial of a number.\"\"\"\n",
    "    y = 1\n",
    "    for i in range(x):\n",
    "        y = y*(i+1)\n",
    "    return y\n",
    "\n",
    "factoriel(5)"
   ]
  },
  {
   "cell_type": "markdown",
   "metadata": {},
   "source": [
    "Dans ce cas là, **`y` est une variables locale** car on ne peut y *accéder que dans la fonction*. Si on mettait un `print(y)` en dehors de la fonction, on aurais un message d'erreur."
   ]
  },
  {
   "cell_type": "markdown",
   "metadata": {},
   "source": [
    "### Variable globale"
   ]
  },
  {
   "cell_type": "markdown",
   "metadata": {},
   "source": [
    "Une **variable globale** est une variable **accessible dans les fonctions, mais aussi en dehors d'elles**."
   ]
  },
  {
   "cell_type": "code",
   "execution_count": 28,
   "metadata": {},
   "outputs": [
    {
     "data": {
      "text/plain": [
       "(31.41592653589793, 3.141592653589793)"
      ]
     },
     "execution_count": 28,
     "metadata": {},
     "output_type": "execute_result"
    }
   ],
   "source": [
    "import math\n",
    "pi = math.pi\n",
    "\n",
    "def périmètre_cercle(rayon):\n",
    "    péri = rayon * 2 * pi\n",
    "    return péri\n",
    "\n",
    "périmètre_cercle(5), pi"
   ]
  },
  {
   "cell_type": "markdown",
   "metadata": {},
   "source": [
    "Dans cet exemple, on a assigné une valeur à `pi` en dehors de la fonction et on l'a appelé dans la fonctions. Si on veut **changer la valeur** d'une variable globale **dans une fonction**, il faut utiliser le mot-clé `global` suivi de la variable dans sa fonction."
   ]
  },
  {
   "cell_type": "code",
   "execution_count": 29,
   "metadata": {},
   "outputs": [
    {
     "name": "stdout",
     "output_type": "stream",
     "text": [
      "3\n"
     ]
    }
   ],
   "source": [
    "x = 2\n",
    "\n",
    "def incrémenter():\n",
    "    global x\n",
    "    x += 1\n",
    "\n",
    "incrémenter()\n",
    "print(x)"
   ]
  },
  {
   "cell_type": "markdown",
   "metadata": {},
   "source": [
    "On voit qu'après avoir appliqué la fonction, la variable `x` ne vaut plus 2 mais 3 en dehors de la fonction."
   ]
  },
  {
   "cell_type": "markdown",
   "metadata": {},
   "source": [
    "Si une variable **locale** a le **même nom** qu'une variable **globale**, elle prend le dessus **dans la fonction**. En dehors de la fonction, la variable globale ne change pas."
   ]
  },
  {
   "cell_type": "code",
   "execution_count": 30,
   "metadata": {},
   "outputs": [
    {
     "data": {
      "text/plain": [
       "(125, 2)"
      ]
     },
     "execution_count": 30,
     "metadata": {},
     "output_type": "execute_result"
    }
   ],
   "source": [
    "x = 2\n",
    "\n",
    "def puissance_3(n):\n",
    "    x = 3\n",
    "    return n**x\n",
    "\n",
    "puissance_3(5), x"
   ]
  }
 ],
 "metadata": {
  "kernelspec": {
   "display_name": "Python 3",
   "language": "python",
   "name": "python3"
  },
  "language_info": {
   "codemirror_mode": {
    "name": "ipython",
    "version": 3
   },
   "file_extension": ".py",
   "mimetype": "text/x-python",
   "name": "python",
   "nbconvert_exporter": "python",
   "pygments_lexer": "ipython3",
   "version": "3.7.0"
  }
 },
 "nbformat": 4,
 "nbformat_minor": 2
}
