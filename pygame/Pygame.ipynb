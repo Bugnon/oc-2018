{
 "cells": [
  {
   "cell_type": "markdown",
   "metadata": {},
   "source": [
    "# Pygame"
   ]
  },
  {
   "cell_type": "markdown",
   "metadata": {},
   "source": [
    "<img src='pygame_tiny.png' style=\"float:right;\">\n",
    "Pygame is a game library for Python. It is built on top of the SDL (*Simple DirectMedia Layer*) library, which is a cross-platform C library for controlling multimedia. It is:\n",
    "* highly portable (Windows, MacOS, Linux)\n",
    "* easy to install\n",
    "* easy to learn\n",
    "\n",
    "It handles events such as:\n",
    "* mouse\n",
    "* keyboard\n",
    "* game controllers\n",
    "\n",
    "It manages multimedia:\n",
    "* graphic primitives\n",
    "* sounds\n",
    "* images\n",
    "\n",
    "Here is further documentation : https://www.pygame.org/docs/"
   ]
  },
  {
   "cell_type": "markdown",
   "metadata": {},
   "source": [
    "## Installation"
   ]
  },
  {
   "cell_type": "markdown",
   "metadata": {},
   "source": [
    "Pygame can be installed from within the Jupyter notebook using a line magic command."
   ]
  },
  {
   "cell_type": "code",
   "execution_count": null,
   "metadata": {},
   "outputs": [],
   "source": [
    "#!pip install pygame"
   ]
  },
  {
   "cell_type": "markdown",
   "metadata": {},
   "source": [
    "Then we need to import pygame, numpy and matplotlib."
   ]
  },
  {
   "cell_type": "code",
   "execution_count": 2,
   "metadata": {},
   "outputs": [
    {
     "name": "stdout",
     "output_type": "stream",
     "text": [
      "pygame 1.9.4\n",
      "Hello from the pygame community. https://www.pygame.org/contribute.html\n"
     ]
    }
   ],
   "source": [
    "import pygame\n",
    "import numpy as np\n",
    "import matplotlib.pyplot as plt"
   ]
  },
  {
   "cell_type": "markdown",
   "metadata": {},
   "source": [
    "Initializeing the pygame module with `pygame.init()` returns the number of modules which have been successfully initilized (numpass, numfail)."
   ]
  },
  {
   "cell_type": "code",
   "execution_count": 3,
   "metadata": {},
   "outputs": [
    {
     "data": {
      "text/plain": [
       "(6, 0)"
      ]
     },
     "execution_count": 3,
     "metadata": {},
     "output_type": "execute_result"
    }
   ],
   "source": [
    "pygame.init()"
   ]
  },
  {
   "cell_type": "markdown",
   "metadata": {},
   "source": [
    "This is the pygame version we are currently using."
   ]
  },
  {
   "cell_type": "code",
   "execution_count": 4,
   "metadata": {},
   "outputs": [
    {
     "data": {
      "text/plain": [
       "'1.9.4'"
      ]
     },
     "execution_count": 4,
     "metadata": {},
     "output_type": "execute_result"
    }
   ],
   "source": [
    "pygame.version.ver"
   ]
  },
  {
   "cell_type": "markdown",
   "metadata": {},
   "source": [
    "The **pygame** module has 341 attributes, 154 of which are keyboard constants."
   ]
  },
  {
   "cell_type": "code",
   "execution_count": 5,
   "metadata": {},
   "outputs": [
    {
     "data": {
      "text/plain": [
       "341"
      ]
     },
     "execution_count": 5,
     "metadata": {},
     "output_type": "execute_result"
    }
   ],
   "source": [
    "att = dir(pygame)\n",
    "len(att)"
   ]
  },
  {
   "cell_type": "code",
   "execution_count": 20,
   "metadata": {},
   "outputs": [
    {
     "name": "stdout",
     "output_type": "stream",
     "text": [
      "154 ['KEYDOWN', 'KEYUP', 'KMOD_ALT', 'KMOD_CAPS', 'KMOD_CTRL', 'KMOD_LALT', 'KMOD_LCTRL', 'KMOD_LMETA', 'KMOD_LSHIFT', 'KMOD_META', 'KMOD_MODE', 'KMOD_NONE', 'KMOD_NUM', 'KMOD_RALT', 'KMOD_RCTRL', 'KMOD_RMETA', 'KMOD_RSHIFT', 'KMOD_SHIFT', 'K_0', 'K_1', 'K_2', 'K_3', 'K_4', 'K_5', 'K_6', 'K_7', 'K_8', 'K_9', 'K_AMPERSAND', 'K_ASTERISK', 'K_AT', 'K_BACKQUOTE', 'K_BACKSLASH', 'K_BACKSPACE', 'K_BREAK', 'K_CAPSLOCK', 'K_CARET', 'K_CLEAR', 'K_COLON', 'K_COMMA', 'K_DELETE', 'K_DOLLAR', 'K_DOWN', 'K_END', 'K_EQUALS', 'K_ESCAPE', 'K_EURO', 'K_EXCLAIM', 'K_F1', 'K_F10', 'K_F11', 'K_F12', 'K_F13', 'K_F14', 'K_F15', 'K_F2', 'K_F3', 'K_F4', 'K_F5', 'K_F6', 'K_F7', 'K_F8', 'K_F9', 'K_FIRST', 'K_GREATER', 'K_HASH', 'K_HELP', 'K_HOME', 'K_INSERT', 'K_KP0', 'K_KP1', 'K_KP2', 'K_KP3', 'K_KP4', 'K_KP5', 'K_KP6', 'K_KP7', 'K_KP8', 'K_KP9', 'K_KP_DIVIDE', 'K_KP_ENTER', 'K_KP_EQUALS', 'K_KP_MINUS', 'K_KP_MULTIPLY', 'K_KP_PERIOD', 'K_KP_PLUS', 'K_LALT', 'K_LAST', 'K_LCTRL', 'K_LEFT', 'K_LEFTBRACKET', 'K_LEFTPAREN', 'K_LESS', 'K_LMETA', 'K_LSHIFT', 'K_LSUPER', 'K_MENU', 'K_MINUS', 'K_MODE', 'K_NUMLOCK', 'K_PAGEDOWN', 'K_PAGEUP', 'K_PAUSE', 'K_PERIOD', 'K_PLUS', 'K_POWER', 'K_PRINT', 'K_QUESTION', 'K_QUOTE', 'K_QUOTEDBL', 'K_RALT', 'K_RCTRL', 'K_RETURN', 'K_RIGHT', 'K_RIGHTBRACKET', 'K_RIGHTPAREN', 'K_RMETA', 'K_RSHIFT', 'K_RSUPER', 'K_SCROLLOCK', 'K_SEMICOLON', 'K_SLASH', 'K_SPACE', 'K_SYSREQ', 'K_TAB', 'K_UNDERSCORE', 'K_UNKNOWN', 'K_UP', 'K_a', 'K_b', 'K_c', 'K_d', 'K_e', 'K_f', 'K_g', 'K_h', 'K_i', 'K_j', 'K_k', 'K_l', 'K_m', 'K_n', 'K_o', 'K_p', 'K_q', 'K_r', 'K_s', 'K_t', 'K_u', 'K_v', 'K_w', 'K_x', 'K_y', 'K_z']\n"
     ]
    }
   ],
   "source": [
    "keys = [a for a in att if a.startswith('K')]\n",
    "print(len(keys), keys)"
   ]
  },
  {
   "cell_type": "markdown",
   "metadata": {},
   "source": [
    "## Displaying a surface inside the notebook"
   ]
  },
  {
   "cell_type": "markdown",
   "metadata": {},
   "source": [
    "The ``show()`` fonction transforms the `pygame.Surface` object into a `np.array` object and displays it."
   ]
  },
  {
   "cell_type": "code",
   "execution_count": 8,
   "metadata": {},
   "outputs": [],
   "source": [
    "def show(surf, **kwargs):\n",
    "    img = pygame.surfarray.pixels3d(surf)\n",
    "    plt.imshow(np.transpose(img, (1, 0, 2)), **kwargs)\n",
    "    plt.tick_params(axis='both', bottom=False, top=True, labelbottom=False, labeltop=True)"
   ]
  },
  {
   "cell_type": "markdown",
   "metadata": {},
   "source": [
    "### Colors"
   ]
  },
  {
   "cell_type": "code",
   "execution_count": 7,
   "metadata": {},
   "outputs": [],
   "source": [
    "BLACK = (0, 0, 0)\n",
    "WHITE = (255, 255, 255)\n",
    "RED = (255, 0, 0)\n",
    "GREEN = (0, 255, 0)\n",
    "BLUE = (0, 0, 255)\n",
    "YELLOW = (255, 255, 0)\n",
    "CYAN = (0, 255, 255)\n",
    "MAGENTA = (255, 0, 255)\n",
    "GRAY = (127, 127, 127)"
   ]
  },
  {
   "cell_type": "markdown",
   "metadata": {},
   "source": [
    "### Loading and displaying images"
   ]
  },
  {
   "cell_type": "markdown",
   "metadata": {},
   "source": [
    "The **pygame.image** module contains functions for loading and saving images. \n",
    "This code loads an image and shows it inline."
   ]
  },
  {
   "cell_type": "code",
   "execution_count": 40,
   "metadata": {},
   "outputs": [],
   "source": [
    "att = dir(pygame.image)"
   ]
  },
  {
   "cell_type": "code",
   "execution_count": 42,
   "metadata": {},
   "outputs": [
    {
     "data": {
      "text/plain": [
       "['frombuffer',\n",
       " 'fromstring',\n",
       " 'get_extended',\n",
       " 'load',\n",
       " 'load_basic',\n",
       " 'load_extended',\n",
       " 'save',\n",
       " 'save_extended',\n",
       " 'tostring']"
      ]
     },
     "execution_count": 42,
     "metadata": {},
     "output_type": "execute_result"
    }
   ],
   "source": [
    "[s for s in att if not s.startswith('_')]"
   ]
  },
  {
   "cell_type": "code",
   "execution_count": 43,
   "metadata": {},
   "outputs": [
    {
     "data": {
      "image/png": "[encoded data removed]",
      "text/plain": [
       "<Figure size 432x288 with 1 Axes>"
      ]
     },
     "metadata": {},
     "output_type": "display_data"
    }
   ],
   "source": [
    "img = pygame.image.load('pygame_tiny.png')\n",
    "show(img)"
   ]
  },
  {
   "cell_type": "code",
   "execution_count": null,
   "metadata": {},
   "outputs": [],
   "source": []
  },
  {
   "cell_type": "markdown",
   "metadata": {},
   "source": [
    "The image surface and an `np.array` are transposed."
   ]
  },
  {
   "cell_type": "code",
   "execution_count": 30,
   "metadata": {},
   "outputs": [
    {
     "data": {
      "image/png": "[encoded data removed]",
      "text/plain": [
       "<Figure size 432x288 with 1 Axes>"
      ]
     },
     "metadata": {},
     "output_type": "display_data"
    }
   ],
   "source": [
    "surf = pygame.image.load('pygame_tiny.png')\n",
    "img = pygame.surfarray.pixels3d(surf)\n",
    "plt.imshow(img)\n",
    "plt.tick_params(axis='both', bottom=False, top=True, labelbottom=False, labeltop=True)"
   ]
  },
  {
   "cell_type": "code",
   "execution_count": 31,
   "metadata": {},
   "outputs": [
    {
     "data": {
      "text/plain": [
       "<matplotlib.image.AxesImage at 0x120792668>"
      ]
     },
     "execution_count": 31,
     "metadata": {},
     "output_type": "execute_result"
    },
    {
     "data": {
      "image/png": "[encoded data removed]",
      "text/plain": [
       "<Figure size 432x288 with 1 Axes>"
      ]
     },
     "metadata": {},
     "output_type": "display_data"
    }
   ],
   "source": [
    "z = np.zeros((100, 500, 3))\n",
    "plt.imshow(z)"
   ]
  },
  {
   "cell_type": "markdown",
   "metadata": {},
   "source": [
    "## Create a surface"
   ]
  },
  {
   "cell_type": "markdown",
   "metadata": {},
   "source": [
    "Create a surface and fill it with yellow."
   ]
  },
  {
   "cell_type": "code",
   "execution_count": 55,
   "metadata": {},
   "outputs": [
    {
     "data": {
      "image/png": "[encoded data removed]",
      "text/plain": [
       "<Figure size 432x288 with 1 Axes>"
      ]
     },
     "metadata": {},
     "output_type": "display_data"
    }
   ],
   "source": [
    "s = pygame.Surface((300, 100))\n",
    "s.fill(YELLOW)\n",
    "show(s)"
   ]
  },
  {
   "cell_type": "markdown",
   "metadata": {},
   "source": [
    "Re-fill it with yellow and add a red rectangle."
   ]
  },
  {
   "cell_type": "code",
   "execution_count": 9,
   "metadata": {},
   "outputs": [
    {
     "data": {
      "image/png": "[encoded data removed]",
      "text/plain": [
       "<matplotlib.figure.Figure at 0x10c124e10>"
      ]
     },
     "metadata": {},
     "output_type": "display_data"
    }
   ],
   "source": [
    "s.fill(YELLOW)\n",
    "r = pygame.Rect(50, 20, 50, 50)\n",
    "pygame.draw.rect(s, RED, r)\n",
    "show(s)"
   ]
  },
  {
   "cell_type": "code",
   "execution_count": 10,
   "metadata": {},
   "outputs": [
    {
     "data": {
      "image/png": "[encoded data removed]",
      "text/plain": [
       "<matplotlib.figure.Figure at 0x10bcdd160>"
      ]
     },
     "metadata": {},
     "output_type": "display_data"
    }
   ],
   "source": [
    "s.fill(YELLOW)\n",
    "r = pygame.Rect(50, 20, 50, 50)\n",
    "pygame.draw.rect(s, RED, r, 2)\n",
    "show(s)"
   ]
  },
  {
   "cell_type": "code",
   "execution_count": 11,
   "metadata": {},
   "outputs": [
    {
     "data": {
      "image/png": "[encoded data removed]",
      "text/plain": [
       "<matplotlib.figure.Figure at 0x10c1ac0b8>"
      ]
     },
     "metadata": {},
     "output_type": "display_data"
    }
   ],
   "source": [
    "s.fill(YELLOW)\n",
    "r = pygame.Rect(50, 20, 100, 50)\n",
    "pygame.draw.ellipse(s, BLUE, r)\n",
    "show(s)"
   ]
  },
  {
   "cell_type": "code",
   "execution_count": 14,
   "metadata": {},
   "outputs": [
    {
     "data": {
      "image/png": "[encoded data removed]",
      "text/plain": [
       "<matplotlib.figure.Figure at 0x10c248470>"
      ]
     },
     "metadata": {},
     "output_type": "display_data"
    }
   ],
   "source": [
    "s.fill(YELLOW)\n",
    "r = pygame.Rect(50, 20, 100, 50)\n",
    "\n",
    "x0, y0 = (100, 50)\n",
    "r = 40\n",
    "n = 6\n",
    "poly = []\n",
    "for i in range(n):\n",
    "    x = x0 + r * np.sin(i*2*np.pi/n)\n",
    "    y = y0 + r * np.cos(i*2*np.pi/n)\n",
    "    poly.append([x, y])\n",
    "    \n",
    "pygame.draw.polygon(s, BLUE, poly)\n",
    "show(s)"
   ]
  },
  {
   "cell_type": "markdown",
   "metadata": {},
   "source": [
    "## Color"
   ]
  },
  {
   "cell_type": "markdown",
   "metadata": {},
   "source": [
    "The __Color__ module contains 657 color definitions"
   ]
  },
  {
   "cell_type": "code",
   "execution_count": 15,
   "metadata": {},
   "outputs": [
    {
     "data": {
      "image/png": "[encoded data removed]",
      "text/plain": [
       "<matplotlib.figure.Figure at 0x10c321ac8>"
      ]
     },
     "metadata": {},
     "output_type": "display_data"
    }
   ],
   "source": [
    "s = pygame.Surface((300, 200))\n",
    "colors = ('red', 'green', 'blue', 'gold', 'pink', 'orange',\n",
    "         'darkgreen', 'navy', 'gray', 'magenta', 'lightblue', 'salmon')\n",
    "font = pygame.font.SysFont(None, 24, True)\n",
    "dx, dy = 100, 50\n",
    "n = 300//dx\n",
    "m = 200//dy\n",
    "for i in range(n):\n",
    "    for j in range(m):\n",
    "        rect = pygame.Rect(i*dx, j*dy, dx, dy)\n",
    "        col_txt = colors[j*n+i]\n",
    "        col = pygame.Color(col_txt)\n",
    "        pygame.draw.rect(s, col, rect, 0)\n",
    "        txt = font.render(col_txt, True, WHITE)\n",
    "        txt_rect = txt.get_rect()\n",
    "        txt_rect.center = rect.center\n",
    "        s.blit(txt, txt_rect)\n",
    "show(s)         "
   ]
  },
  {
   "cell_type": "code",
   "execution_count": 16,
   "metadata": {},
   "outputs": [
    {
     "data": {
      "text/plain": [
       "657"
      ]
     },
     "execution_count": 16,
     "metadata": {},
     "output_type": "execute_result"
    }
   ],
   "source": [
    "len(list(pygame.color.THECOLORS.keys()))"
   ]
  },
  {
   "cell_type": "code",
   "execution_count": 17,
   "metadata": {},
   "outputs": [
    {
     "data": {
      "text/plain": [
       "['gray17', 'gold', 'gray10', 'yellow', 'gray11', 'grey61', 'grey60']"
      ]
     },
     "execution_count": 17,
     "metadata": {},
     "output_type": "execute_result"
    }
   ],
   "source": [
    "list(pygame.color.THECOLORS.keys())[:7]"
   ]
  },
  {
   "cell_type": "markdown",
   "metadata": {},
   "source": [
    "## pygame.draw"
   ]
  },
  {
   "cell_type": "markdown",
   "metadata": {},
   "source": [
    "All drawing functions return a `Rect` object."
   ]
  },
  {
   "cell_type": "code",
   "execution_count": 18,
   "metadata": {},
   "outputs": [
    {
     "name": "stdout",
     "output_type": "stream",
     "text": [
      "<rect(20, 20, 181, 1)>\n",
      "<rect(100, 20, 101, 70)>\n"
     ]
    },
    {
     "data": {
      "image/png": "[encoded data removed]",
      "text/plain": [
       "<matplotlib.figure.Figure at 0x10c2d9898>"
      ]
     },
     "metadata": {},
     "output_type": "display_data"
    }
   ],
   "source": [
    "s = pygame.Surface((300, 100))\n",
    "p0 = (20, 20)\n",
    "p1 = (200, 20)\n",
    "p2 = (100, 80)\n",
    "print(pygame.draw.line(s, BLUE, p0, p1, 1))\n",
    "print(pygame.draw.line(s, RED, p1, p2, 10))\n",
    "pygame.draw.line(s, GREEN, p2, p0, 4)\n",
    "show(s)"
   ]
  },
  {
   "cell_type": "code",
   "execution_count": 19,
   "metadata": {},
   "outputs": [
    {
     "data": {
      "image/png": "[encoded data removed]",
      "text/plain": [
       "<matplotlib.figure.Figure at 0x10c3a0898>"
      ]
     },
     "metadata": {},
     "output_type": "display_data"
    }
   ],
   "source": [
    "s = pygame.Surface((300, 100))\n",
    "r0 = (20, 20, 100, 20)\n",
    "r1 = (20, 50, 100, 40)\n",
    "pygame.draw.rect(s, GREEN, r0)\n",
    "pygame.draw.rect(s, RED, r1, 8)\n",
    "show(s)"
   ]
  },
  {
   "cell_type": "code",
   "execution_count": 20,
   "metadata": {},
   "outputs": [
    {
     "name": "stdout",
     "output_type": "stream",
     "text": [
      "<rect(15, 10, 70, 81)>\n",
      "<rect(114, 9, 73, 82)>\n",
      "<rect(224, 34, 52, 47)>\n"
     ]
    },
    {
     "data": {
      "image/png": "[encoded data removed]",
      "text/plain": [
       "<matplotlib.figure.Figure at 0x10c3aac88>"
      ]
     },
     "metadata": {},
     "output_type": "display_data"
    }
   ],
   "source": [
    "from math import sin, cos, pi\n",
    "s = pygame.Surface((300, 100))\n",
    "\n",
    "def poly(x0, y0, r, n):\n",
    "    return [(x0+r*sin(i/n*2*pi), y0+r*cos(i/n*2*pi)) for i in range(n)]\n",
    "\n",
    "print(pygame.draw.polygon(s, BLUE, poly(50, 50, 40, 6)))\n",
    "print(pygame.draw.polygon(s, RED, poly(150, 50, 40, 6), 4))\n",
    "print(pygame.draw.polygon(s, GREEN, poly(250, 50, 30, 3)))\n",
    "show(s)"
   ]
  },
  {
   "cell_type": "code",
   "execution_count": 21,
   "metadata": {},
   "outputs": [
    {
     "name": "stdout",
     "output_type": "stream",
     "text": [
      "<rect(10, 10, 80, 80)>\n",
      "<rect(120, 20, 60, 60)>\n",
      "<rect(230, 30, 40, 40)>\n"
     ]
    },
    {
     "data": {
      "image/png": "[encoded data removed]",
      "text/plain": [
       "<matplotlib.figure.Figure at 0x10c248ac8>"
      ]
     },
     "metadata": {},
     "output_type": "display_data"
    }
   ],
   "source": [
    "from math import sin, cos, pi\n",
    "s = pygame.Surface((300, 100))\n",
    "\n",
    "def poly(x0, y0, r, n):\n",
    "    return [(x0+r*sin(i/n*2*pi), y0+r*cos(i/n*2*pi)) for i in range(n)]\n",
    "\n",
    "print(pygame.draw.circle(s, BLUE, (50, 50), 40))\n",
    "print(pygame.draw.circle(s, RED, (150, 50), 30, 1))\n",
    "print(pygame.draw.circle(s, GREEN, (250, 50), 20, 6))\n",
    "show(s)"
   ]
  },
  {
   "cell_type": "code",
   "execution_count": 22,
   "metadata": {},
   "outputs": [
    {
     "data": {
      "image/png": "[encoded data removed]",
      "text/plain": [
       "<matplotlib.figure.Figure at 0x10c1ef588>"
      ]
     },
     "metadata": {},
     "output_type": "display_data"
    }
   ],
   "source": [
    "s = pygame.Surface((300, 100))\n",
    "r0 = (20, 20, 100, 60)\n",
    "r1 = (160, 20, 100, 60)\n",
    "pygame.draw.rect(s, RED, r0, 1)\n",
    "pygame.draw.ellipse(s, GREEN, r0, 1)\n",
    "pygame.draw.rect(s, RED, r1)\n",
    "pygame.draw.ellipse(s, GREEN, r1)\n",
    "show(s)"
   ]
  },
  {
   "cell_type": "code",
   "execution_count": 23,
   "metadata": {},
   "outputs": [
    {
     "data": {
      "image/png": "[encoded data removed]",
      "text/plain": [
       "<matplotlib.figure.Figure at 0x10c13e0b8>"
      ]
     },
     "metadata": {},
     "output_type": "display_data"
    }
   ],
   "source": [
    "s = pygame.Surface((300, 100))\n",
    "r0 = (20, 20, 100, 60)\n",
    "r1 = (160, 20, 100, 60)\n",
    "pygame.draw.rect(s, RED, r0, 1)\n",
    "pygame.draw.arc(s, GREEN, r0, 0, 1.5*pi, 1)\n",
    "pygame.draw.rect(s, RED, r1, 1)\n",
    "pygame.draw.arc(s, GREEN, r1, 0.25*pi, 1.75*pi, 4)\n",
    "show(s)"
   ]
  },
  {
   "cell_type": "code",
   "execution_count": 24,
   "metadata": {},
   "outputs": [
    {
     "name": "stdout",
     "output_type": "stream",
     "text": [
      "<rect(15, 10, 70, 81)>\n",
      "<rect(114, 9, 73, 82)>\n",
      "<rect(224, 34, 52, 47)>\n"
     ]
    },
    {
     "data": {
      "image/png": "[encoded data removed]",
      "text/plain": [
       "<matplotlib.figure.Figure at 0x10c53db38>"
      ]
     },
     "metadata": {},
     "output_type": "display_data"
    }
   ],
   "source": [
    "from math import sin, cos, pi\n",
    "s = pygame.Surface((300, 100))\n",
    "\n",
    "def poly(x0, y0, r, n):\n",
    "    return [(x0+r*sin(i/n*2*pi), y0+r*cos(i/n*2*pi)) for i in range(n)]\n",
    "\n",
    "print(pygame.draw.lines(s, BLUE, True, poly(50, 50, 40, 6)))\n",
    "print(pygame.draw.lines(s, RED, False, poly(150, 50, 40, 6), 4))\n",
    "print(pygame.draw.lines(s, GREEN, True, poly(250, 50, 30, 3)))\n",
    "show(s)"
   ]
  },
  {
   "cell_type": "code",
   "execution_count": 25,
   "metadata": {},
   "outputs": [
    {
     "data": {
      "text/plain": [
       "<rect(20, 20, 181, 10)>"
      ]
     },
     "execution_count": 25,
     "metadata": {},
     "output_type": "execute_result"
    }
   ],
   "source": [
    "pygame.draw.line(s, RED, p0, p1, 10)\n",
    "\n"
   ]
  },
  {
   "cell_type": "code",
   "execution_count": 26,
   "metadata": {},
   "outputs": [
    {
     "name": "stdout",
     "output_type": "stream",
     "text": [
      "<rect(20, 20, 182, 2)>\n",
      "<rect(20, 20, 182, 62)>\n"
     ]
    },
    {
     "data": {
      "image/png": "[encoded data removed]",
      "text/plain": [
       "<matplotlib.figure.Figure at 0x10c2ca0f0>"
      ]
     },
     "metadata": {},
     "output_type": "display_data"
    }
   ],
   "source": [
    "s = pygame.Surface((300, 100))\n",
    "s.fill(WHITE)\n",
    "p0 = (20, 20)\n",
    "p1 = (200, 20)\n",
    "p2 = (20, 80)\n",
    "print(pygame.draw.aaline(s, BLUE, p0, p1, 1))\n",
    "print(pygame.draw.aaline(s, RED, p1, p2, 0))\n",
    "pygame.draw.aaline(s, GREEN, p2, p0)\n",
    "show(s)"
   ]
  },
  {
   "cell_type": "markdown",
   "metadata": {},
   "source": [
    "## pygame.font"
   ]
  },
  {
   "cell_type": "code",
   "execution_count": 27,
   "metadata": {},
   "outputs": [
    {
     "name": "stdout",
     "output_type": "stream",
     "text": [
      "freesansbold.ttf\n"
     ]
    }
   ],
   "source": [
    "print(pygame.font.get_default_font())"
   ]
  },
  {
   "cell_type": "code",
   "execution_count": 28,
   "metadata": {},
   "outputs": [
    {
     "data": {
      "image/png": "[encoded data removed]",
      "text/plain": [
       "<matplotlib.figure.Figure at 0x10c237908>"
      ]
     },
     "metadata": {},
     "output_type": "display_data"
    }
   ],
   "source": [
    "pygame.font.init()\n",
    "bg = pygame.Surface((300, 100))\n",
    "font = pygame.font.SysFont('Helvetica', 36)\n",
    "s = font.render('this is text', True, RED)\n",
    "bg.blit(s, (20, 20))\n",
    "show(bg)"
   ]
  },
  {
   "cell_type": "code",
   "execution_count": 29,
   "metadata": {},
   "outputs": [
    {
     "data": {
      "image/png": "[encoded data removed]",
      "text/plain": [
       "<matplotlib.figure.Figure at 0x10c337908>"
      ]
     },
     "metadata": {},
     "output_type": "display_data"
    }
   ],
   "source": [
    "bg.fill(YELLOW)\n",
    "font = pygame.font.SysFont('Courier', 36, True)\n",
    "font2 = pygame.font.SysFont('Times', 36, False, True)\n",
    "s = font.render('this is text', True, RED)\n",
    "s2 = font2.render('this is text', True, BLUE)\n",
    "bg.blit(s, (20, 00))\n",
    "bg.blit(s2, (20, 50))\n",
    "show(bg)"
   ]
  },
  {
   "cell_type": "code",
   "execution_count": 30,
   "metadata": {},
   "outputs": [
    {
     "name": "stdout",
     "output_type": "stream",
     "text": [
      "freesansbold.ttf\n"
     ]
    },
    {
     "data": {
      "image/png": "[encoded data removed]",
      "text/plain": [
       "<matplotlib.figure.Figure at 0x10c1ab7b8>"
      ]
     },
     "metadata": {},
     "output_type": "display_data"
    }
   ],
   "source": [
    "bg.fill(YELLOW)\n",
    "default = pygame.font.get_default_font()\n",
    "print(default)\n",
    "font0 = pygame.font.SysFont(None, 48)\n",
    "s0 = font0.render(default, True, RED)\n",
    "bg.blit(s0, (20, 20))\n",
    "show(bg)"
   ]
  },
  {
   "cell_type": "code",
   "execution_count": 31,
   "metadata": {},
   "outputs": [
    {
     "data": {
      "text/plain": [
       "['cochin',\n",
       " 'franklingothicmedium',\n",
       " 'iowanoldstyle',\n",
       " 'corbel',\n",
       " 'avenir',\n",
       " 'nanumgothic',\n",
       " 'bitstreamverasansmono']"
      ]
     },
     "execution_count": 31,
     "metadata": {},
     "output_type": "execute_result"
    }
   ],
   "source": [
    "pygame.font.get_fonts()[:7]"
   ]
  },
  {
   "cell_type": "code",
   "execution_count": 32,
   "metadata": {},
   "outputs": [
    {
     "data": {
      "image/png": "[encoded data removed]",
      "text/plain": [
       "<matplotlib.figure.Figure at 0x10c4a7748>"
      ]
     },
     "metadata": {},
     "output_type": "display_data"
    }
   ],
   "source": [
    "fonts = pygame.font.get_fonts()[:5]\n",
    "bg.fill(WHITE)\n",
    "for (i, font) in enumerate(fonts):\n",
    "    f = pygame.font.SysFont(font, 16)\n",
    "    s = f.render(font, True, BLACK)\n",
    "    bg.blit(s, [10, i*20])\n",
    "show(bg)"
   ]
  },
  {
   "cell_type": "code",
   "execution_count": 33,
   "metadata": {},
   "outputs": [
    {
     "data": {
      "image/png": "[encoded data removed]",
      "text/plain": [
       "<matplotlib.figure.Figure at 0x10c490e80>"
      ]
     },
     "metadata": {},
     "output_type": "display_data"
    }
   ],
   "source": [
    "bg.fill(YELLOW)\n",
    "font0 = pygame.font.SysFont(None, 48)\n",
    "font0.set_underline(True)\n",
    "font0.set_italic(True)\n",
    "s0 = font0.render(default, True, RED)\n",
    "bg.blit(s0, (20, 20))\n",
    "show(bg)"
   ]
  },
  {
   "cell_type": "code",
   "execution_count": 34,
   "metadata": {},
   "outputs": [
    {
     "data": {
      "text/plain": [
       "[(2, 15, 0, 24, 9), (1, 36, 0, 19, 29)]"
      ]
     },
     "execution_count": 34,
     "metadata": {},
     "output_type": "execute_result"
    }
   ],
   "source": [
    "font0.metrics('im')"
   ]
  },
  {
   "cell_type": "code",
   "execution_count": 35,
   "metadata": {},
   "outputs": [
    {
     "data": {
      "text/plain": [
       "[36, 34, 27, -6]"
      ]
     },
     "execution_count": 35,
     "metadata": {},
     "output_type": "execute_result"
    }
   ],
   "source": [
    "[font0.get_linesize(), font0.get_height(), font0.get_ascent(), font0.get_descent()]"
   ]
  },
  {
   "cell_type": "code",
   "execution_count": 53,
   "metadata": {},
   "outputs": [
    {
     "data": {
      "image/png": "[encoded data removed]",
      "text/plain": [
       "<matplotlib.figure.Figure at 0x109dee668>"
      ]
     },
     "metadata": {},
     "output_type": "display_data"
    }
   ],
   "source": [
    "bg.fill(YELLOW)\n",
    "s0 = font0.render('this is text', True, RED, WHITE)\n",
    "bg.blit(s0, (20, 20))\n",
    "show(bg)"
   ]
  },
  {
   "cell_type": "markdown",
   "metadata": {},
   "source": [
    "## Center text in a rectangle"
   ]
  },
  {
   "cell_type": "code",
   "execution_count": 54,
   "metadata": {},
   "outputs": [
    {
     "name": "stdout",
     "output_type": "stream",
     "text": [
      "<rect(20, 20, 100, 60)>\n"
     ]
    },
    {
     "data": {
      "image/png": "[encoded data removed]",
      "text/plain": [
       "<matplotlib.figure.Figure at 0x10c343fd0>"
      ]
     },
     "metadata": {},
     "output_type": "display_data"
    }
   ],
   "source": [
    "s = pygame.Surface((300, 100))\n",
    "s.fill(WHITE)\n",
    "r = pygame.Rect(20, 20, 100, 60)\n",
    "print(pygame.draw.rect(s, BLUE, r, 1))\n",
    "txt = font0.render('abc', True, RED)\n",
    "rect = txt.get_rect()\n",
    "rect.center = r.center\n",
    "s.blit(txt, rect)\n",
    "show(s)"
   ]
  },
  {
   "cell_type": "markdown",
   "metadata": {},
   "source": [
    "## pygame.Rect"
   ]
  },
  {
   "cell_type": "markdown",
   "metadata": {},
   "source": [
    "Pygame uses Rect objects to store and manipulate rectangular areas. A Rect can be created from `pygame.Rect(left, top, width, height)`"
   ]
  },
  {
   "cell_type": "code",
   "execution_count": 55,
   "metadata": {},
   "outputs": [
    {
     "data": {
      "text/plain": [
       "<rect(100, 200, 300, 50)>"
      ]
     },
     "execution_count": 55,
     "metadata": {},
     "output_type": "execute_result"
    }
   ],
   "source": [
    "r = pygame.Rect(100, 200, 300, 50)\n",
    "r"
   ]
  },
  {
   "cell_type": "markdown",
   "metadata": {},
   "source": [
    "The Rect object has several virtual attributes, which can be assigned to."
   ]
  },
  {
   "cell_type": "code",
   "execution_count": 56,
   "metadata": {},
   "outputs": [
    {
     "data": {
      "text/plain": [
       "[100, 200, 300, 50]"
      ]
     },
     "execution_count": 56,
     "metadata": {},
     "output_type": "execute_result"
    }
   ],
   "source": [
    "[r.x, r.y, r.w, r.h]"
   ]
  },
  {
   "cell_type": "code",
   "execution_count": 57,
   "metadata": {},
   "outputs": [
    {
     "data": {
      "text/plain": [
       "[100, 200, 400, 250]"
      ]
     },
     "execution_count": 57,
     "metadata": {},
     "output_type": "execute_result"
    }
   ],
   "source": [
    "[r.left, r.top, r.right, r.bottom]"
   ]
  },
  {
   "cell_type": "code",
   "execution_count": 58,
   "metadata": {},
   "outputs": [
    {
     "data": {
      "text/plain": [
       "[(100, 250), (250, 250), (400, 250)]"
      ]
     },
     "execution_count": 58,
     "metadata": {},
     "output_type": "execute_result"
    }
   ],
   "source": [
    "[r.bottomleft, r.midbottom, r.bottomright]"
   ]
  },
  {
   "cell_type": "code",
   "execution_count": 59,
   "metadata": {},
   "outputs": [
    {
     "data": {
      "text/plain": [
       "[(250, 225), 250, 225]"
      ]
     },
     "execution_count": 59,
     "metadata": {},
     "output_type": "execute_result"
    }
   ],
   "source": [
    "[r.center, r.centerx, r.centery]"
   ]
  },
  {
   "cell_type": "code",
   "execution_count": 60,
   "metadata": {},
   "outputs": [
    {
     "data": {
      "image/png": "[encoded data removed]",
      "text/plain": [
       "<matplotlib.figure.Figure at 0x10c47ef98>"
      ]
     },
     "metadata": {},
     "output_type": "display_data"
    }
   ],
   "source": [
    "positions = ['topleft', 'bottomleft', 'topright', 'bottomright', \n",
    "            'midtop', 'midleft', 'midbottom', 'midright', 'center']\n",
    "\n",
    "s = pygame.Surface((300, 200))\n",
    "s.fill(WHITE)\n",
    "rect = pygame.Rect(25, 25, 200, 150)\n",
    "pygame.draw.rect(s, RED, rect, 1)\n",
    "\n",
    "font = pygame.font.SysFont('Calibri', 14, True)\n",
    "for pos in positions:\n",
    "    txt = font.render(pos, True, BLACK)\n",
    "    pygame.draw.circle(s, RED, eval('rect.'+pos), 3)\n",
    "    s.blit(txt, eval('rect.'+pos))\n",
    "show(s)"
   ]
  },
  {
   "cell_type": "code",
   "execution_count": 61,
   "metadata": {},
   "outputs": [
    {
     "data": {
      "text/plain": [
       "(25, 25)"
      ]
     },
     "execution_count": 61,
     "metadata": {},
     "output_type": "execute_result"
    }
   ],
   "source": [
    "pos='topleft'\n",
    "eval('rect.'+pos)"
   ]
  },
  {
   "cell_type": "markdown",
   "metadata": {},
   "source": [
    "This resets the center of the rect and adjusts the (x, y) coordinates but keeps the (w, h)."
   ]
  },
  {
   "cell_type": "code",
   "execution_count": 62,
   "metadata": {},
   "outputs": [
    {
     "data": {
      "text/plain": [
       "<rect(50, 175, 300, 50)>"
      ]
     },
     "execution_count": 62,
     "metadata": {},
     "output_type": "execute_result"
    }
   ],
   "source": [
    "r.center = (200, 200)\n",
    "r"
   ]
  },
  {
   "cell_type": "code",
   "execution_count": 63,
   "metadata": {},
   "outputs": [
    {
     "data": {
      "text/plain": [
       "<rect(50, 175, 300, 50)>"
      ]
     },
     "execution_count": 63,
     "metadata": {},
     "output_type": "execute_result"
    }
   ],
   "source": [
    "r"
   ]
  },
  {
   "cell_type": "markdown",
   "metadata": {},
   "source": [
    "Let's look at some of the Rect methods"
   ]
  },
  {
   "cell_type": "code",
   "execution_count": 64,
   "metadata": {},
   "outputs": [
    {
     "data": {
      "image/png": "[encoded data removed]",
      "text/plain": [
       "<matplotlib.figure.Figure at 0x10c42aba8>"
      ]
     },
     "metadata": {},
     "output_type": "display_data"
    }
   ],
   "source": [
    "s = pygame.Surface((300, 100))\n",
    "s.fill(WHITE)\n",
    "r0 = pygame.Rect(20, 20, 60, 60)\n",
    "r1 = pygame.Rect(120, 10, 100, 80)\n",
    "r2 = pygame.Rect(160, 20, 100, 60)\n",
    "pygame.draw.rect(s, RED, r0, 1)\n",
    "pygame.draw.rect(s, GREEN, r1, 1)\n",
    "pygame.draw.rect(s, BLUE, r2, 1)\n",
    "show(s)"
   ]
  },
  {
   "cell_type": "markdown",
   "metadata": {},
   "source": [
    "### inflate(x, y)"
   ]
  },
  {
   "cell_type": "code",
   "execution_count": 65,
   "metadata": {},
   "outputs": [
    {
     "data": {
      "image/png": "[encoded data removed]",
      "text/plain": [
       "<matplotlib.figure.Figure at 0x10c2fea58>"
      ]
     },
     "metadata": {},
     "output_type": "display_data"
    }
   ],
   "source": [
    "s = pygame.Surface((300, 100))\n",
    "s.fill(WHITE)\n",
    "pygame.draw.rect(s, RED, r0, 2)\n",
    "pygame.draw.rect(s, GREEN, r0.inflate(30, 10), 1)\n",
    "pygame.draw.rect(s, BLUE, r0.inflate(-20, -20), 1)\n",
    "show(s)"
   ]
  },
  {
   "cell_type": "markdown",
   "metadata": {},
   "source": [
    "### move(x, y)"
   ]
  },
  {
   "cell_type": "code",
   "execution_count": 66,
   "metadata": {},
   "outputs": [
    {
     "data": {
      "image/png": "[encoded data removed]",
      "text/plain": [
       "<matplotlib.figure.Figure at 0x10c320eb8>"
      ]
     },
     "metadata": {},
     "output_type": "display_data"
    }
   ],
   "source": [
    "s = pygame.Surface((300, 100))\n",
    "s.fill(WHITE)\n",
    "pygame.draw.rect(s, RED, r0, 1)\n",
    "pygame.draw.rect(s, GREEN, r0.move(100, 0), 1)\n",
    "show(s)"
   ]
  },
  {
   "cell_type": "markdown",
   "metadata": {},
   "source": [
    "### clamp(Rect)"
   ]
  },
  {
   "cell_type": "code",
   "execution_count": 67,
   "metadata": {},
   "outputs": [
    {
     "data": {
      "image/png": "[encoded data removed]",
      "text/plain": [
       "<matplotlib.figure.Figure at 0x109a5d710>"
      ]
     },
     "metadata": {},
     "output_type": "display_data"
    }
   ],
   "source": [
    "s = pygame.Surface((300, 100))\n",
    "s.fill(WHITE)\n",
    "pygame.draw.rect(s, RED, r0, 1)\n",
    "pygame.draw.rect(s, RED, r1, 1)\n",
    "pygame.draw.rect(s, GREEN, r0.clamp(r1), 1)\n",
    "show(s)"
   ]
  },
  {
   "cell_type": "markdown",
   "metadata": {},
   "source": [
    "### clip(Rect)"
   ]
  },
  {
   "cell_type": "code",
   "execution_count": 68,
   "metadata": {},
   "outputs": [
    {
     "data": {
      "image/png": "[encoded data removed]",
      "text/plain": [
       "<matplotlib.figure.Figure at 0x106eddc18>"
      ]
     },
     "metadata": {},
     "output_type": "display_data"
    }
   ],
   "source": [
    "s = pygame.Surface((300, 100))\n",
    "s.fill(WHITE)\n",
    "pygame.draw.rect(s, RED, r1, 1)\n",
    "pygame.draw.rect(s, RED, r2, 1)\n",
    "pygame.draw.rect(s, GREEN, r1.clip(r2).inflate(-2, -2))\n",
    "show(s)"
   ]
  },
  {
   "cell_type": "markdown",
   "metadata": {},
   "source": [
    "### union(Rect)"
   ]
  },
  {
   "cell_type": "code",
   "execution_count": 69,
   "metadata": {},
   "outputs": [
    {
     "data": {
      "image/png": "[encoded data removed]",
      "text/plain": [
       "<matplotlib.figure.Figure at 0x109aad550>"
      ]
     },
     "metadata": {},
     "output_type": "display_data"
    }
   ],
   "source": [
    "s = pygame.Surface((300, 100))\n",
    "s.fill(WHITE)\n",
    "pygame.draw.rect(s, RED, r1, 1)\n",
    "pygame.draw.rect(s, RED, r2, 1)\n",
    "pygame.draw.rect(s, GREEN, r1.union(r2).inflate(4, 4), 1)\n",
    "show(s)"
   ]
  },
  {
   "cell_type": "code",
   "execution_count": 70,
   "metadata": {},
   "outputs": [
    {
     "data": {
      "image/png": "[encoded data removed]",
      "text/plain": [
       "<matplotlib.figure.Figure at 0x10c4a70b8>"
      ]
     },
     "metadata": {},
     "output_type": "display_data"
    }
   ],
   "source": [
    "s = pygame.Surface((300, 100))\n",
    "s.fill(WHITE)\n",
    "pygame.draw.rect(s, RED, r0, 1)\n",
    "pygame.draw.rect(s, RED, r2, 1)\n",
    "pygame.draw.rect(s, GREEN, r0.union(r2).inflate(4, 4), 1)\n",
    "show(s)"
   ]
  },
  {
   "cell_type": "code",
   "execution_count": 71,
   "metadata": {},
   "outputs": [
    {
     "data": {
      "text/plain": [
       "0"
      ]
     },
     "execution_count": 71,
     "metadata": {},
     "output_type": "execute_result"
    }
   ],
   "source": [
    "r0.colliderect(r1)"
   ]
  },
  {
   "cell_type": "code",
   "execution_count": 72,
   "metadata": {},
   "outputs": [
    {
     "data": {
      "text/plain": [
       "1"
      ]
     },
     "execution_count": 72,
     "metadata": {},
     "output_type": "execute_result"
    }
   ],
   "source": [
    "r1.colliderect(r2)"
   ]
  },
  {
   "cell_type": "markdown",
   "metadata": {},
   "source": [
    "## Functions"
   ]
  },
  {
   "cell_type": "code",
   "execution_count": 73,
   "metadata": {},
   "outputs": [
    {
     "data": {
      "image/png": "[encoded data removed]",
      "text/plain": [
       "<matplotlib.figure.Figure at 0x10c13a710>"
      ]
     },
     "metadata": {},
     "output_type": "display_data"
    }
   ],
   "source": [
    "def tree(s, rect):\n",
    "    y1 = rect.top + 0.8*rect.h\n",
    "    y2 = rect.bottom\n",
    "    x2 = rect.left+0.4*rect.w\n",
    "    \n",
    "    pygame.draw.polygon(s, GREEN, (rect.midtop, (rect.left, y1), (rect.right, y1)))\n",
    "    pygame.draw.rect(s, (127, 0, 0), (x2, y1, rect.w*0.2, rect.h*0.2))\n",
    "    \n",
    "s = pygame.Surface((300, 200))\n",
    "s.fill(WHITE)\n",
    "rect = pygame.Rect(50, 50, 30, 50)\n",
    "pygame.draw.rect(s, RED, rect, 1)\n",
    "tree(s, rect)\n",
    "\n",
    "rect.move_ip(80, 50)\n",
    "rect.inflate_ip(40, 40)\n",
    "pygame.draw.rect(s, RED, rect, 1)\n",
    "tree(s, rect)\n",
    "\n",
    "show(s)"
   ]
  },
  {
   "cell_type": "code",
   "execution_count": 74,
   "metadata": {},
   "outputs": [
    {
     "data": {
      "image/png": "[encoded data removed]",
      "text/plain": [
       "<matplotlib.figure.Figure at 0x10bc72748>"
      ]
     },
     "metadata": {},
     "output_type": "display_data"
    }
   ],
   "source": [
    "s = pygame.Surface((300, 200))\n",
    "s.fill(WHITE)\n",
    "for i in range(20):\n",
    "    x = np.random.randint(250)\n",
    "    y = np.random.randint(150)\n",
    "    rect = pygame.Rect(x, y, 30, 50)\n",
    "    tree(s, rect)\n",
    "show(s)"
   ]
  },
  {
   "cell_type": "code",
   "execution_count": 75,
   "metadata": {},
   "outputs": [
    {
     "data": {
      "image/png": "[encoded data removed]",
      "text/plain": [
       "<matplotlib.figure.Figure at 0x10c401630>"
      ]
     },
     "metadata": {},
     "output_type": "display_data"
    }
   ],
   "source": [
    "s = pygame.Surface((300, 200))\n",
    "s.fill(WHITE)\n",
    "n = 20\n",
    "y = [np.random.randint(150) for i in range(n)]\n",
    "y.sort()\n",
    "x = [np.random.randint(270) for i in range(n)]\n",
    "\n",
    "for i in range(20):\n",
    "    rect = pygame.Rect(x[i], y[i], 30, 50)\n",
    "    tree(s, rect)\n",
    "show(s)"
   ]
  },
  {
   "cell_type": "markdown",
   "metadata": {},
   "source": [
    "## pygame.transforms"
   ]
  },
  {
   "cell_type": "code",
   "execution_count": 76,
   "metadata": {},
   "outputs": [
    {
     "name": "stdout",
     "output_type": "stream",
     "text": [
      "<rect(50, 50, 201, 51)>\n",
      "<rect(50, 125, 100, 50)>\n"
     ]
    },
    {
     "data": {
      "image/png": "[encoded data removed]",
      "text/plain": [
       "<matplotlib.figure.Figure at 0x10c50c940>"
      ]
     },
     "metadata": {},
     "output_type": "display_data"
    }
   ],
   "source": [
    "s.fill(WHITE)\n",
    "def arrow(s, rect, col):\n",
    "    if rect.w>rect.h:\n",
    "        x1 = rect.right-rect.h//2\n",
    "        y1 = rect.top+0.25*rect.h\n",
    "        r0 = pygame.draw.rect(s, col, (rect.left, y1, x1-rect.left, 0.5*rect.h))\n",
    "        r1 = pygame.draw.polygon(s, col, (rect.midright, (x1, rect.top), (x1, rect.bottom)))\n",
    "    return r0.union(r1)\n",
    "\n",
    "r = pygame.Rect(50, 50, 200, 50)\n",
    "print(arrow(s, r, RED))\n",
    "pygame.draw.rect(s, GREEN, r, 1)\n",
    "\n",
    "r = pygame.Rect(50, 125, 100, 50)\n",
    "arrow(s, r, BLUE)\n",
    "print(pygame.draw.rect(s, GREEN, r, 1))\n",
    "\n",
    "show(s)"
   ]
  },
  {
   "cell_type": "markdown",
   "metadata": {},
   "source": [
    "### flip()"
   ]
  },
  {
   "cell_type": "code",
   "execution_count": 77,
   "metadata": {},
   "outputs": [
    {
     "data": {
      "image/png": "[encoded data removed]",
      "text/plain": [
       "<matplotlib.figure.Figure at 0x109a8c7f0>"
      ]
     },
     "metadata": {},
     "output_type": "display_data"
    }
   ],
   "source": [
    "s = pygame.Surface((400, 100))\n",
    "s.fill(WHITE)\n",
    "\n",
    "font = pygame.font.SysFont('Calibri', 72, True)\n",
    "txt = font.render(\"F\", True, BLACK)\n",
    "rect = txt.get_rect()\n",
    "s.blit(txt, rect)\n",
    "s.blit(pygame.transform.flip(txt, True, False),(100, 0))\n",
    "s.blit(pygame.transform.flip(txt, False, True),(200, 0))\n",
    "s.blit(pygame.transform.flip(txt, True, True),(300, 0))\n",
    "show(s)"
   ]
  },
  {
   "cell_type": "markdown",
   "metadata": {},
   "source": [
    "### resize()"
   ]
  },
  {
   "cell_type": "code",
   "execution_count": 78,
   "metadata": {},
   "outputs": [
    {
     "name": "stdout",
     "output_type": "stream",
     "text": [
      "<rect(0, 0, 33, 89)>\n"
     ]
    },
    {
     "data": {
      "image/png": "[encoded data removed]",
      "text/plain": [
       "<matplotlib.figure.Figure at 0x10b9717f0>"
      ]
     },
     "metadata": {},
     "output_type": "display_data"
    }
   ],
   "source": [
    "s = pygame.Surface((400, 200))\n",
    "s.fill(WHITE)\n",
    "\n",
    "font = pygame.font.SysFont('Calibri', 72, True)\n",
    "txt = font.render(\"F\", True, BLACK)\n",
    "rect = txt.get_rect()\n",
    "print(rect)\n",
    "s.blit(txt, rect)\n",
    "s.blit(pygame.transform.scale(txt, (200, 200)), (100, 0))\n",
    "s.blit(pygame.transform.scale(txt, (30, 200)), (300, 0))\n",
    "show(s)"
   ]
  },
  {
   "cell_type": "markdown",
   "metadata": {},
   "source": [
    "### rotate()"
   ]
  },
  {
   "cell_type": "code",
   "execution_count": 79,
   "metadata": {},
   "outputs": [
    {
     "data": {
      "image/png": "[encoded data removed]",
      "text/plain": [
       "<matplotlib.figure.Figure at 0x10c140c50>"
      ]
     },
     "metadata": {},
     "output_type": "display_data"
    }
   ],
   "source": [
    "s = pygame.Surface((400, 100))\n",
    "s.fill(WHITE)\n",
    "s.blit(txt, (0, 0))\n",
    "for i in range(1, 6):\n",
    "    txt1 = pygame.transform.rotate(txt, i/5*90)\n",
    "    rect = txt1.get_rect()\n",
    "    rect.center = (i*70, 50)\n",
    "    s.blit(txt1, rect)\n",
    "    pygame.draw.rect(s, RED, rect, 2)\n",
    "show(s)"
   ]
  },
  {
   "cell_type": "markdown",
   "metadata": {},
   "source": [
    "### rotozoom()"
   ]
  },
  {
   "cell_type": "code",
   "execution_count": 80,
   "metadata": {},
   "outputs": [
    {
     "data": {
      "image/png": "[encoded data removed]",
      "text/plain": [
       "<matplotlib.figure.Figure at 0x10c1707b8>"
      ]
     },
     "metadata": {},
     "output_type": "display_data"
    }
   ],
   "source": [
    "s = pygame.Surface((400, 100))\n",
    "s.fill(WHITE)\n",
    "s.blit(txt, (0, 0))\n",
    "for i in range(1, 4):\n",
    "    txt1 = pygame.transform.rotozoom(txt, i/3*90, 0.5*i)\n",
    "    rect = txt1.get_rect()\n",
    "    rect.center = (i*100, 50)\n",
    "    s.blit(txt1, rect)\n",
    "    pygame.draw.rect(s, RED, rect, 2)\n",
    "show(s)"
   ]
  },
  {
   "cell_type": "markdown",
   "metadata": {},
   "source": [
    "### chop()"
   ]
  },
  {
   "cell_type": "code",
   "execution_count": 81,
   "metadata": {},
   "outputs": [
    {
     "data": {
      "image/png": "[encoded data removed]",
      "text/plain": [
       "<matplotlib.figure.Figure at 0x109dcc6d8>"
      ]
     },
     "metadata": {},
     "output_type": "display_data"
    }
   ],
   "source": [
    "s = pygame.Surface((200, 100))\n",
    "s.fill(WHITE)\n",
    "s.blit(txt, (0, 0))\n",
    "rect = txt.get_rect()\n",
    "pygame.draw.rect(s, RED, rect, 1)\n",
    "\n",
    "r = pygame.Rect(10, 25, 10, 10)\n",
    "pygame.draw.rect(s, GREEN, r, 1)\n",
    "chop = pygame.transform.chop(txt, r)\n",
    "s.blit(chop, (100,0))\n",
    "show(s)"
   ]
  },
  {
   "cell_type": "markdown",
   "metadata": {},
   "source": [
    "### laplacian()"
   ]
  },
  {
   "cell_type": "code",
   "execution_count": 82,
   "metadata": {},
   "outputs": [
    {
     "name": "stdout",
     "output_type": "stream",
     "text": [
      "<rect(50, 25, 201, 51)>\n"
     ]
    },
    {
     "data": {
      "image/png": "[encoded data removed]",
      "text/plain": [
       "<matplotlib.figure.Figure at 0x10c1b5710>"
      ]
     },
     "metadata": {},
     "output_type": "display_data"
    }
   ],
   "source": [
    "s = pygame.Surface((300, 100))\n",
    "s.fill(WHITE)\n",
    "r = pygame.Rect(50, 25, 200, 50)\n",
    "print(arrow(s, r, RED))\n",
    "pygame.draw.rect(s, GREEN, r, 1)\n",
    "show(s)"
   ]
  },
  {
   "cell_type": "code",
   "execution_count": 83,
   "metadata": {},
   "outputs": [
    {
     "data": {
      "image/png": "[encoded data removed]",
      "text/plain": [
       "<matplotlib.figure.Figure at 0x10c2f2a20>"
      ]
     },
     "metadata": {},
     "output_type": "display_data"
    }
   ],
   "source": [
    "show(pygame.transform.laplacian(s))"
   ]
  },
  {
   "cell_type": "markdown",
   "metadata": {},
   "source": [
    "## Animation"
   ]
  },
  {
   "cell_type": "markdown",
   "metadata": {},
   "source": [
    "### Moving ball"
   ]
  },
  {
   "cell_type": "markdown",
   "metadata": {},
   "source": [
    "A moving ball is reflected from all walls of the main screen."
   ]
  },
  {
   "cell_type": "code",
   "execution_count": 84,
   "metadata": {},
   "outputs": [
    {
     "data": {
      "image/png": "[encoded data removed]",
      "text/plain": [
       "<matplotlib.figure.Figure at 0x10c1b3e80>"
      ]
     },
     "metadata": {},
     "output_type": "display_data"
    }
   ],
   "source": [
    "SCREEN = pygame.Rect(0, 0, 300, 200)\n",
    "class Ball():\n",
    "    def __init__(self, rect, col, dx, dy, g=0):\n",
    "        self.rect = pygame.Rect(rect)\n",
    "        self.col = col\n",
    "        self.dx = dx\n",
    "        self.dy = dy\n",
    "        self.g = g\n",
    "        \n",
    "    def move(self):\n",
    "        self.dy += self.g\n",
    "        self.rect.move_ip(self.dx, self.dy)\n",
    "        if self.rect.left < SCREEN.left : self.dx = np.abs(self.dx)\n",
    "        if self.rect.right > SCREEN.right : self.dx = -1*np.abs(self.dx)\n",
    "        if self.rect.top < SCREEN.top : self.dy = np.abs(self.dy)\n",
    "        if self.rect.bottom > SCREEN.bottom : self.dy = -1*np.abs(self.dy)\n",
    "            \n",
    "    def draw(self, screen):\n",
    "        pygame.draw.ellipse(screen, self.col, self.rect, 1)\n",
    "        \n",
    "s = pygame.Surface(SCREEN.size)\n",
    "s.fill(WHITE)\n",
    "\n",
    "ball = Ball((10, 10, 6, 6), RED, 10, 12)\n",
    "\n",
    "ball.draw(s)\n",
    "for i in range(50):\n",
    "    ball.draw(s)\n",
    "    ball.move()\n",
    "\n",
    "show(s)"
   ]
  },
  {
   "cell_type": "markdown",
   "metadata": {},
   "source": [
    "### Moving ball with gravity"
   ]
  },
  {
   "cell_type": "code",
   "execution_count": 85,
   "metadata": {},
   "outputs": [
    {
     "data": {
      "image/png": "[encoded data removed]",
      "text/plain": [
       "<matplotlib.figure.Figure at 0x106eb8710>"
      ]
     },
     "metadata": {},
     "output_type": "display_data"
    }
   ],
   "source": [
    "s.fill(WHITE)\n",
    "ball = Ball((10, 50, 6, 6), RED, 10, 0, g=1)\n",
    "\n",
    "ball.draw(s)\n",
    "for i in range(50):\n",
    "    ball.draw(s)\n",
    "    ball.move()\n",
    "\n",
    "show(s)"
   ]
  },
  {
   "cell_type": "markdown",
   "metadata": {},
   "source": [
    "### Moving ball in rectangle"
   ]
  },
  {
   "cell_type": "markdown",
   "metadata": {},
   "source": [
    "Here the ball has a limiting box, where it can move inside."
   ]
  },
  {
   "cell_type": "code",
   "execution_count": 86,
   "metadata": {},
   "outputs": [
    {
     "data": {
      "image/png": "[encoded data removed]",
      "text/plain": [
       "<matplotlib.figure.Figure at 0x10c53f5c0>"
      ]
     },
     "metadata": {},
     "output_type": "display_data"
    }
   ],
   "source": [
    "SCREEN = pygame.Rect(0, 0, 300, 200)\n",
    "class Ball():\n",
    "    def __init__(self, rect, color, speed, box, g=0):\n",
    "        self.rect = pygame.Rect(rect)\n",
    "        self.color = color\n",
    "        self.dx = speed[0]\n",
    "        self.dy = speed[1]\n",
    "        self.box = pygame.Rect(box)\n",
    "        self.g = g\n",
    "        \n",
    "    def move(self):\n",
    "        self.dy += self.g\n",
    "        self.rect.move_ip(self.dx, self.dy)\n",
    "        if self.rect.left < self.box.left : self.dx = np.abs(self.dx)\n",
    "        if self.rect.right > self.box.right : self.dx = -1*np.abs(self.dx)\n",
    "        if self.rect.top < self.box.top : self.dy = np.abs(self.dy)\n",
    "        if self.rect.bottom > self.box.bottom : self.dy = -1*np.abs(self.dy)\n",
    "            \n",
    "    def draw(self, screen):\n",
    "        pygame.draw.ellipse(screen, self.color, self.rect, 1)\n",
    "        \n",
    "s = pygame.Surface(SCREEN.size)\n",
    "s.fill(WHITE)\n",
    "\n",
    "r0 = (25, 25, 125, 150)\n",
    "r1 = (175, 25, 100, 150)\n",
    "\n",
    "b0 = Ball((50, 50, 6, 6), RED, (10, 4), r0)\n",
    "b1 = Ball((200, 100, 6, 6), BLUE, (-6, 8), r1)\n",
    "\n",
    "pygame.draw.rect(s, GREEN, r0, 1)\n",
    "pygame.draw.rect(s, GREEN, r1, 1)\n",
    "\n",
    "for i in range(50):\n",
    "    b0.draw(s)\n",
    "    b0.move()\n",
    "    b1.draw(s)\n",
    "    b1.move()\n",
    "show(s)"
   ]
  },
  {
   "cell_type": "code",
   "execution_count": 87,
   "metadata": {},
   "outputs": [
    {
     "data": {
      "image/png": "[encoded data removed]",
      "text/plain": [
       "<matplotlib.figure.Figure at 0x10c478438>"
      ]
     },
     "metadata": {},
     "output_type": "display_data"
    }
   ],
   "source": [
    "s.fill(WHITE)\n",
    "\n",
    "b0 = Ball((50, 50, 4, 4), RED, (10, 4), r0, 1)\n",
    "b1 = Ball((200, 100, 4, 4), BLUE, (-6, 8), r1, 1)\n",
    "\n",
    "pygame.draw.rect(s, GREEN, r0, 1)\n",
    "pygame.draw.rect(s, GREEN, r1, 1)\n",
    "\n",
    "for i in range(50):\n",
    "    b0.draw(s)\n",
    "    b0.move()\n",
    "    b1.draw(s)\n",
    "    b1.move()\n",
    "show(s)"
   ]
  },
  {
   "cell_type": "markdown",
   "metadata": {},
   "source": [
    "# Pygame examples"
   ]
  },
  {
   "cell_type": "markdown",
   "metadata": {},
   "source": [
    "Raphaels-MacBook-Air:3.6 raphael$ which python3\n",
    "/Library/Frameworks/Python.framework/Versions/3.6/bin/python3"
   ]
  },
  {
   "cell_type": "code",
   "execution_count": 9,
   "metadata": {},
   "outputs": [],
   "source": [
    "# pygame.examples.aliens.__name__"
   ]
  },
  {
   "cell_type": "markdown",
   "metadata": {},
   "source": [
    "## Tetronimos"
   ]
  },
  {
   "cell_type": "code",
   "execution_count": 108,
   "metadata": {},
   "outputs": [],
   "source": [
    "L = np.array([[0, 0, 1], [1, 1, 1]])\n",
    "J = np.array([[1, 0, 0], [1, 1, 1]])\n",
    "I = np.array([[1, 1, 1, 1]])\n",
    "S = np.array([[1, 1, 0], [0, 1, 1]])\n",
    "Z = np.array([[0, 1, 1], [1, 1, 0]])\n",
    "T = np.array([[1, 1, 1], [0, 1, 0]])\n",
    "O = np.array([[1, 1], [1, 1]])\n",
    "shapes = [L, J, I, S, Z, T, O]\n",
    "colors = [RED, GREEN, BLUE, YELLOW, CYAN, MAGENTA, WHITE]"
   ]
  },
  {
   "cell_type": "code",
   "execution_count": 109,
   "metadata": {},
   "outputs": [
    {
     "name": "stdout",
     "output_type": "stream",
     "text": [
      "[[1 1 1 1]]\n",
      "[[1]\n",
      " [1]\n",
      " [1]\n",
      " [1]]\n",
      "[[1 1 1 1]]\n",
      "[[1]\n",
      " [1]\n",
      " [1]\n",
      " [1]]\n"
     ]
    }
   ],
   "source": [
    "for i in range(4):\n",
    "    print(np.rot90(I, i))"
   ]
  },
  {
   "cell_type": "code",
   "execution_count": 110,
   "metadata": {},
   "outputs": [
    {
     "data": {
      "text/plain": [
       "array([[0, 0, 1],\n",
       "       [1, 1, 1]])"
      ]
     },
     "execution_count": 110,
     "metadata": {},
     "output_type": "execute_result"
    }
   ],
   "source": [
    "np.random.choice(shapes)"
   ]
  },
  {
   "cell_type": "code",
   "execution_count": 111,
   "metadata": {},
   "outputs": [
    {
     "name": "stdout",
     "output_type": "stream",
     "text": [
      "(255, 0, 0)\n",
      "(0, 255, 0)\n",
      "(0, 0, 255)\n",
      "(255, 255, 0)\n",
      "(0, 255, 255)\n",
      "(255, 0, 255)\n",
      "(255, 255, 255)\n"
     ]
    },
    {
     "data": {
      "image/png": "[encoded data removed]",
      "text/plain": [
       "<matplotlib.figure.Figure at 0x109df8c18>"
      ]
     },
     "metadata": {},
     "output_type": "display_data"
    }
   ],
   "source": [
    "SCREEN = pygame.Rect(0, 0, 300, 200)\n",
    "s = pygame.Surface(SCREEN.size)\n",
    "\n",
    "rows = 20\n",
    "cols = 10\n",
    "dx = 10\n",
    "d = 9\n",
    "\n",
    "def draw_shape(x, y, item, color):\n",
    "    n, m = item.shape\n",
    "    for i in range(n):\n",
    "        for j in range(m):\n",
    "            if item[i, j]:\n",
    "                rect = pygame.Rect((x+j)*dx, (y+i)*dx, d, d)\n",
    "                pygame.draw.rect(s, color, rect)                \n",
    "    \n",
    "\n",
    "for i in range(rows):\n",
    "    for j in range(cols):\n",
    "        rect = pygame.Rect(j*dx, i*dx, d, d)\n",
    "        pygame.draw.rect(s, GRAY, rect)\n",
    "\n",
    "for i in range(7):\n",
    "    shape = shapes[i]\n",
    "    color = colors[i]\n",
    "    print(color)\n",
    "    for dir in range(4):\n",
    "        draw_shape(i*4, dir*5, np.rot90(shape, dir), color)\n",
    "show(s)"
   ]
  },
  {
   "cell_type": "code",
   "execution_count": 112,
   "metadata": {},
   "outputs": [
    {
     "data": {
      "text/plain": [
       "(1, 4)"
      ]
     },
     "execution_count": 112,
     "metadata": {},
     "output_type": "execute_result"
    }
   ],
   "source": [
    "I.shape"
   ]
  },
  {
   "cell_type": "code",
   "execution_count": 113,
   "metadata": {},
   "outputs": [
    {
     "name": "stdout",
     "output_type": "stream",
     "text": [
      "6\n",
      "6\n"
     ]
    }
   ],
   "source": [
    "for line in L:\n",
    "    print(i)"
   ]
  }
 ],
 "metadata": {
  "kernelspec": {
   "display_name": "Python 3",
   "language": "python",
   "name": "python3"
  },
  "language_info": {
   "codemirror_mode": {
    "name": "ipython",
    "version": 3
   },
   "file_extension": ".py",
   "mimetype": "text/x-python",
   "name": "python",
   "nbconvert_exporter": "python",
   "pygments_lexer": "ipython3",
   "version": "3.6.5"
  },
  "toc": {
   "base_numbering": 1,
   "nav_menu": {},
   "number_sections": true,
   "sideBar": true,
   "skip_h1_title": true,
   "title_cell": "Table of Contents",
   "title_sidebar": "Contents",
   "toc_cell": false,
   "toc_position": {},
   "toc_section_display": true,
   "toc_window_display": true
  }
 },
 "nbformat": 4,
 "nbformat_minor": 2
}
