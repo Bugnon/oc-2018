{
 "cells": [
  {
   "cell_type": "markdown",
   "metadata": {},
   "source": [
    "# Pensez en Python\n",
    "Par Allen B. Downey"
   ]
  },
  {
   "cell_type": "markdown",
   "metadata": {},
   "source": [
    "# 1 - Le chemin du programme"
   ]
  },
  {
   "cell_type": "markdown",
   "metadata": {},
   "source": [
    "**Exercice : expression arithmétique**  \n",
    "Initialisez les variables `(a, b, c, x)` avec les valeurs `(2, 3, 4, 5)`.  \n",
    "Calculez l'expression \n",
    "\n",
    "$$y = a x^2 + b x +c$$\n",
    "\n",
    "et imprimez le résultat."
   ]
  },
  {
   "cell_type": "code",
   "execution_count": 3,
   "metadata": {},
   "outputs": [
    {
     "name": "stdout",
     "output_type": "stream",
     "text": [
      "69\n"
     ]
    }
   ],
   "source": [
    "(a, b, c, x)=(2, 3, 4, 5)\n",
    "y=a*x**2+b*x+c\n",
    "print(y)"
   ]
  },
  {
   "cell_type": "markdown",
   "metadata": {},
   "source": [
    "**Exercice : fonction**  \n",
    "Définissez une fonction `f(x)` selon la formule\n",
    "\n",
    "$$ f(x) = a x^2 + b x +c $$\n",
    "\n",
    "avec les variables locales `(a, b, c) = (3, 3, 3)`. Calculez et affichez `f(5)`."
   ]
  },
  {
   "cell_type": "code",
   "execution_count": 4,
   "metadata": {},
   "outputs": [],
   "source": [
    "def f(x):\n",
    "    (a, b, c) = (3, 3, 3)\n",
    "    result=a*x**2+b*x+c\n",
    "    return result"
   ]
  },
  {
   "cell_type": "code",
   "execution_count": 5,
   "metadata": {},
   "outputs": [
    {
     "data": {
      "text/plain": [
       "93"
      ]
     },
     "execution_count": 5,
     "metadata": {},
     "output_type": "execute_result"
    }
   ],
   "source": [
    "f(5)"
   ]
  },
  {
   "cell_type": "markdown",
   "metadata": {},
   "source": [
    "**Exercice : types**  \n",
    "Utilisez une boucle `for` pour afficher pour chaque élément de la liste `(1, 1.2, '12', True)` sur une ligne\n",
    "* l'élément\n",
    "* la chaine `' is '`\n",
    "* son type"
   ]
  },
  {
   "cell_type": "code",
   "execution_count": 11,
   "metadata": {},
   "outputs": [
    {
     "name": "stdout",
     "output_type": "stream",
     "text": [
      "1 is <class 'int'>\n",
      "1.2 is <class 'float'>\n",
      "12 is <class 'str'>\n",
      "True is <class 'bool'>\n"
     ]
    }
   ],
   "source": [
    "items = (1, 1.2, '12', True)\n",
    "for i in items:\n",
    "        print(i, end=' ')\n",
    "        print('is', end=' ')\n",
    "        print(type(i))        "
   ]
  },
  {
   "cell_type": "markdown",
   "metadata": {},
   "source": [
    "**Exercice : fonction `print`**  \n",
    "Que fait la fonction `print` ?"
   ]
  },
  {
   "cell_type": "code",
   "execution_count": null,
   "metadata": {},
   "outputs": [],
   "source": [
    "# La fonction print est une instruction d'impression qui renvoie une valeur ou un texte sur l'écran"
   ]
  },
  {
   "cell_type": "markdown",
   "metadata": {},
   "source": [
    "Comment trouver de l'aide ?"
   ]
  },
  {
   "cell_type": "code",
   "execution_count": 12,
   "metadata": {},
   "outputs": [
    {
     "name": "stdout",
     "output_type": "stream",
     "text": [
      "Help on built-in function print in module builtins:\n",
      "\n",
      "print(...)\n",
      "    print(value, ..., sep=' ', end='\\n', file=sys.stdout, flush=False)\n",
      "    \n",
      "    Prints the values to a stream, or to sys.stdout by default.\n",
      "    Optional keyword arguments:\n",
      "    file:  a file-like object (stream); defaults to the current sys.stdout.\n",
      "    sep:   string inserted between values, default a space.\n",
      "    end:   string appended after the last value, default a newline.\n",
      "    flush: whether to forcibly flush the stream.\n",
      "\n"
     ]
    }
   ],
   "source": [
    "help(print)"
   ]
  },
  {
   "cell_type": "markdown",
   "metadata": {},
   "source": [
    "Que signifient les arguments optionnels `sep` et `end` et quelles sont leurs valeurs par défaut ?"
   ]
  },
  {
   "cell_type": "code",
   "execution_count": null,
   "metadata": {},
   "outputs": [],
   "source": [
    "# sep est un argument que l'on peut donner pour définir les séparations entre chaque élément que nous imprimons.\n",
    "# end est ce que quoi doit fait l'instruction après avoir écrit l'élément. Par exemple retour à la ligne ou un point."
   ]
  },
  {
   "cell_type": "markdown",
   "metadata": {},
   "source": [
    "Donnez un example utilisant les deux arguments optionnel"
   ]
  },
  {
   "cell_type": "code",
   "execution_count": 18,
   "metadata": {},
   "outputs": [
    {
     "name": "stdout",
     "output_type": "stream",
     "text": [
      "1, 2, 3\n",
      "1 2 3\n",
      "Cette instruction est sous la précédente\n"
     ]
    }
   ],
   "source": [
    "print(1, 2, 3, sep=', ')\n",
    "print(1, 2, 3, end='\\n')\n",
    "print('Cette instruction est sous la précédente')"
   ]
  },
  {
   "cell_type": "markdown",
   "metadata": {},
   "source": [
    "# 2 - Variables, expressions et instructions"
   ]
  },
  {
   "cell_type": "markdown",
   "metadata": {},
   "source": [
    "**Exercice : expression/instruction**  \n",
    "Définissez *instruction* et donnez un exemple."
   ]
  },
  {
   "cell_type": "code",
   "execution_count": null,
   "metadata": {},
   "outputs": [],
   "source": [
    "# une instruction est un programme qui renvoie une valeur ou un texte à la console\n",
    "# Ex : instruction d'affectation ou d'impression"
   ]
  },
  {
   "cell_type": "markdown",
   "metadata": {},
   "source": [
    "Définissez *expression* et donnez un exemple."
   ]
  },
  {
   "cell_type": "code",
   "execution_count": null,
   "metadata": {},
   "outputs": [],
   "source": [
    "# Une expression est une suite d'opérations qui ne renvoie rien à la console\n",
    "# Ex : a + b"
   ]
  },
  {
   "cell_type": "markdown",
   "metadata": {},
   "source": [
    "# 3 - Fonctions"
   ]
  },
  {
   "cell_type": "markdown",
   "metadata": {},
   "source": [
    "**Exercice : fonction circonference**  \n",
    "Importez le module `math`,  \n",
    "définissez une fonction `circumference(r)` qui calcule $c = 2 \\pi r$,  \n",
    "affichez avec une légende le résultat pour `r=3` "
   ]
  },
  {
   "cell_type": "code",
   "execution_count": 19,
   "metadata": {},
   "outputs": [
    {
     "data": {
      "text/plain": [
       "18.84955592153876"
      ]
     },
     "execution_count": 19,
     "metadata": {},
     "output_type": "execute_result"
    }
   ],
   "source": [
    "import math\n",
    "def circumference(r):\n",
    "    c=2*math.pi*r\n",
    "    return c\n",
    "circumference(3)"
   ]
  },
  {
   "cell_type": "markdown",
   "metadata": {},
   "source": [
    "**Exercice : fonction surface**  \n",
    "Importez le module `math`,  \n",
    "définissez une fonction `surface(r)` qui calcule $s = \\pi r^2$,  \n",
    "affichez avec une légende le résultat pour `r=5` "
   ]
  },
  {
   "cell_type": "code",
   "execution_count": 23,
   "metadata": {},
   "outputs": [
    {
     "data": {
      "text/plain": [
       "78.53981633974483"
      ]
     },
     "execution_count": 23,
     "metadata": {},
     "output_type": "execute_result"
    }
   ],
   "source": [
    "import math\n",
    "def surface(r):\n",
    "    s=math.pi*r**2\n",
    "    return s\n",
    "surface(5)"
   ]
  },
  {
   "cell_type": "markdown",
   "metadata": {},
   "source": [
    "# 4 - module Turtle"
   ]
  },
  {
   "cell_type": "code",
   "execution_count": null,
   "metadata": {},
   "outputs": [],
   "source": [
    "import turtle\n",
    "turtle.fd(100)"
   ]
  },
  {
   "cell_type": "markdown",
   "metadata": {},
   "source": [
    "**Exercice : rectangle**  \n",
    "Importez le module `turtle`.  \n",
    "Définissez une fonction `rect(a, b)` qui dessine un rectangle de longeur `a` et de hauteur `b`.  \n",
    "La fonction pose le style avant le dessin et le relève après.  \n",
    "Faites une démonstration pour `rect(50, 100)`"
   ]
  },
  {
   "cell_type": "code",
   "execution_count": 26,
   "metadata": {},
   "outputs": [],
   "source": [
    "import turtle\n",
    "\n",
    "turtle.reset()\n",
    "\n",
    "def rect(a, b):\n",
    "        turtle.pd()\n",
    "        turtle.fd(a)\n",
    "        turtle.lt(90)\n",
    "        turtle.fd(b)\n",
    "        turtle.lt(90)\n",
    "        turtle.fd(a)\n",
    "        turtle.lt(90)\n",
    "        turtle.fd(b)\n",
    "        turtle.pu()\n",
    "rect(50, 100)"
   ]
  },
  {
   "cell_type": "markdown",
   "metadata": {},
   "source": [
    "**Exercice : triangle**  \n",
    "Importez le module `math` et `turtle`.  \n",
    "Dessinez un triangle rectangulaire de longeur `a` et `b`.  \n",
    "Utilisez une fonction trigonométrique `atan` pour calculer l'angle $\\alpha = \\arctan\\frac{b}{a}$,   \n",
    "et la fonction `sqrt` pour calculer l'hypthénuse $c = \\sqrt{a^2 + b^c}$  \n",
    "Dessinez un exemple pour `a = 200` et `b = 100`  \n",
    "![triangle](img/triangle.png)"
   ]
  },
  {
   "cell_type": "code",
   "execution_count": 63,
   "metadata": {},
   "outputs": [
    {
     "name": "stdout",
     "output_type": "stream",
     "text": [
      "26.56505117707799 0.4636476090008061\n"
     ]
    }
   ],
   "source": [
    "import turtle\n",
    "import math\n",
    "turtle.reset()\n",
    "a = 200\n",
    "b = 100\n",
    "turtle.fd(a)\n",
    "\n",
    "angle_rad=math.atan(b/a)\n",
    "angle_deg=(angle_rad*360)/(2*math.pi)\n",
    "\n",
    "turtle.lt(180-angle_deg)\n",
    "c=math.sqrt(a**2+b**2)\n",
    "turtle.fd(c)\n",
    "turtle.lt(angle_deg+90)\n",
    "turtle.fd(b)"
   ]
  },
  {
   "cell_type": "markdown",
   "metadata": {},
   "source": [
    "**Exercice : sail**  \n",
    "Définissez une fonction `sail(n, d)` qui relie `n` points sur l'axe x avec `n` points sur l'axe y avec des lignes. Les points ont une distance de `d`. \n",
    "\n",
    "![img](img/sail.png)"
   ]
  },
  {
   "cell_type": "code",
   "execution_count": 126,
   "metadata": {},
   "outputs": [],
   "source": [
    "import math\n",
    "turtle.reset()\n",
    "def sail(n, d):\n",
    "    turtle.fd(300)\n",
    "    turtle.bk(300)\n",
    "    turtle.lt(90)\n",
    "    turtle.fd(300)\n",
    "    turtle.bk(300)\n",
    "    turtle.rt(90)\n",
    "    \n",
    "    for i in range(n):\n",
    "        x1=random.randint(1, d)\n",
    "        y2=math.sqrt(d**2-x1**2)\n",
    "        turtle.fd(x1)\n",
    "\n",
    "        angle_rad=math.atan(y2/x1)\n",
    "        angle_deg=(angle_rad*360)/(2*math.pi)\n",
    "\n",
    "        turtle.lt(180-angle_deg)\n",
    "        turtle.fd(d)\n",
    "        turtle.lt(angle_deg+90)\n",
    "        turtle.fd(y2)\n",
    "        turtle.lt(90)\n",
    "sail(20, 300)"
   ]
  },
  {
   "cell_type": "markdown",
   "metadata": {},
   "source": [
    "**Exercice : star**  \n",
    "Définissez une fonction `star(n, m, a)` qui dessine une étoile à `n` points, et une longuer de segment `a`. Le paramètre `m` est le nombre de points *sautés*.\n",
    "L'angle de rotation de la tortue est $\\alpha = \\frac{360 m} {n}$  \n",
    "Déssinezc `star(5, 2, 100)` et `star(7, 3, 100)`\n",
    "\n",
    "![img](img/stars.png)"
   ]
  },
  {
   "cell_type": "code",
   "execution_count": 67,
   "metadata": {},
   "outputs": [],
   "source": [
    "import turtle\n",
    "turtle.reset()\n",
    "def star(n, m, a):\n",
    "    for i in range(n):\n",
    "        turtle.fd(a)\n",
    "        turtle.bk(a)\n",
    "        turtle.lt((360*m)/n)\n",
    "star(5, 2, 100)\n",
    "star(7, 3, 100)"
   ]
  },
  {
   "cell_type": "markdown",
   "metadata": {},
   "source": [
    "# 5 - Structure conditionnelles"
   ]
  },
  {
   "cell_type": "markdown",
   "metadata": {},
   "source": [
    "**Exercice : nombre pairs**  \n",
    "Imprimez les nombres 0 à 29 sur une ligne en continue, avec une espace comme séparation. Si c'est un nombre paire, imprimez un astérisque. Exemple:  \n",
    "`* 1 * 3 * 5 * 7 * 9 * 11 * 13 * 15 * 17 * 19`"
   ]
  },
  {
   "cell_type": "code",
   "execution_count": 72,
   "metadata": {},
   "outputs": [
    {
     "name": "stdout",
     "output_type": "stream",
     "text": [
      "* 1 * 3 * 5 * 7 * 9 * 11 * 13 * 15 * 17 * 19 * 21 * 23 * 25 * 27 * 29 "
     ]
    }
   ],
   "source": [
    "for i in range(30):\n",
    "    if i%2==0:\n",
    "        print('*', end=' ')\n",
    "    else:\n",
    "        print(i, end=' ')"
   ]
  },
  {
   "cell_type": "markdown",
   "metadata": {},
   "source": [
    "**Exercice : nombre carrés**  \n",
    "Imprimez les nombres 0 à 29 sur une ligne en continue, avec une espace comme séparation. Si c'est un nombre carré, imprimez un astérisque."
   ]
  },
  {
   "cell_type": "code",
   "execution_count": 80,
   "metadata": {},
   "outputs": [
    {
     "name": "stdout",
     "output_type": "stream",
     "text": [
      "0 * 2 3 * 5 6 7 8 * 10 11 12 13 14 15 * 17 18 19 20 21 22 23 24 * 26 27 28 29 "
     ]
    }
   ],
   "source": [
    "import math\n",
    "for i in range(30):\n",
    "    if i>0 and math.sqrt(i)%1==0:\n",
    "        print('*', end=' ')\n",
    "    else:\n",
    "        print(i, end=' ')"
   ]
  },
  {
   "cell_type": "markdown",
   "metadata": {},
   "source": [
    "**Exercice : formule quadratique**  \n",
    "La solution d'une formule quadratique de forme\n",
    "\n",
    "$$ a x^2 + b x +c = 0 $$\n",
    "\n",
    "dépend du terme $\\Delta = b^2 - 4 a c$\n",
    "* Si $\\Delta < 0$ il n'y a pas de solution\n",
    "* Si $\\Delta = 0$ il y a une solution : $x = \\frac{-b}{2 a}$\n",
    "* Si $\\Delta > 0$ il y a deux solutions : \n",
    "$x_1 = \\frac{-b +\\sqrt\\Delta}{2 a}$ and $x_2 = \\frac{-b -\\sqrt\\Delta}{2 a}$\n",
    "\n",
    "Définissez une fonction `quadratique(a, b, c)` qui retourne la solution à l'équation quadratique dans les 3 cas: `None`, `x`, `[x1, x2]`\n",
    ".\n",
    "\n",
    "Montrez la solution pour `quadratique(1, 2, 3)`, `quadratique(1, 2, 1)` et `quadratique(1, 2, -1)`"
   ]
  },
  {
   "cell_type": "code",
   "execution_count": 82,
   "metadata": {},
   "outputs": [
    {
     "name": "stdout",
     "output_type": "stream",
     "text": [
      "None\n",
      "-1.0\n",
      "[0.41421356237309515, -2.414213562373095]\n"
     ]
    }
   ],
   "source": [
    "import math\n",
    "def quadratique(a, b, c):\n",
    "    discriminant=b**2-4*a*c\n",
    "    if discriminant==0:\n",
    "        x=-b/(2*a)\n",
    "        return x\n",
    "    elif discriminant<0:\n",
    "        return None\n",
    "    else:\n",
    "        x1=(-b+math.sqrt(discriminant))/(2*a)\n",
    "        x2=(-b-math.sqrt(discriminant))/(2*a)\n",
    "        return [x1, x2]\n",
    "    \n",
    "print(quadratique(1, 2, 3))\n",
    "print(quadratique(1, 2, 1))\n",
    "print(quadratique(1, 2, -1))"
   ]
  },
  {
   "cell_type": "code",
   "execution_count": null,
   "metadata": {},
   "outputs": [],
   "source": [
    "(a, b, c) = (1, 5, 3)\n"
   ]
  },
  {
   "cell_type": "markdown",
   "metadata": {},
   "source": [
    "**Exercice : Fibonacci**  \n",
    "La suite de Fibonacci est defini comme \n",
    "$$ F_0 = 0 $$\n",
    "$$F_1 = 1 $$ \n",
    "$$ F_{n} = F_{n-1} + F_{n-2} $$\n",
    "\n",
    "Définissez une fonction récursive `Fib(n)` et affichez les 10 premiers valeurs dans une boucle."
   ]
  },
  {
   "cell_type": "code",
   "execution_count": 88,
   "metadata": {},
   "outputs": [
    {
     "name": "stdout",
     "output_type": "stream",
     "text": [
      "1 = 1\n",
      "2 = 1\n",
      "3 = 2\n",
      "4 = 3\n",
      "5 = 5\n",
      "6 = 8\n",
      "7 = 13\n",
      "8 = 21\n",
      "9 = 34\n",
      "10 = 55\n"
     ]
    }
   ],
   "source": [
    "def Fib(n):\n",
    "        if n==0:\n",
    "            return 0\n",
    "        elif n==1:\n",
    "            return 1\n",
    "        else:\n",
    "            return Fib(n-1)+Fib(n-2)\n",
    "for i in range(10):\n",
    "    print(i+1, Fib(i+1), sep=' = ')"
   ]
  },
  {
   "cell_type": "code",
   "execution_count": 89,
   "metadata": {},
   "outputs": [
    {
     "data": {
      "text/plain": [
       "55"
      ]
     },
     "execution_count": 89,
     "metadata": {},
     "output_type": "execute_result"
    }
   ],
   "source": [
    "Fib(10)"
   ]
  },
  {
   "cell_type": "markdown",
   "metadata": {},
   "source": [
    "# 7 - Itération"
   ]
  },
  {
   "cell_type": "markdown",
   "metadata": {},
   "source": [
    "**Exercice : table de multiplication**  \n",
    "Imprimé une table de multiplication avec deux boucles `for` imbriqués. "
   ]
  },
  {
   "cell_type": "code",
   "execution_count": 103,
   "metadata": {},
   "outputs": [
    {
     "name": "stdout",
     "output_type": "stream",
     "text": [
      "10 * 1  =  10\n",
      "10 * 2  =  20\n",
      "10 * 3  =  30\n",
      "10 * 4  =  40\n",
      "10 * 5  =  50\n",
      "10 * 6  =  60\n",
      "10 * 7  =  70\n",
      "10 * 8  =  80\n",
      "10 * 9  =  90\n",
      "10 * 10  =  100\n",
      "10 * 11  =  110\n",
      "10 * 12  =  120\n"
     ]
    }
   ],
   "source": [
    "n = 10\n",
    "for i in range(1, 13):\n",
    "        print(n, '*', i, ' = ', n*i)"
   ]
  },
  {
   "cell_type": "markdown",
   "metadata": {},
   "source": [
    "**Exercice : boucle for/while**  \n",
    "Transformez la boucle `for` en boucle `while`. "
   ]
  },
  {
   "cell_type": "code",
   "execution_count": 93,
   "metadata": {},
   "outputs": [
    {
     "name": "stdout",
     "output_type": "stream",
     "text": [
      "0 0\n",
      "1 1\n",
      "2 4\n",
      "3 9\n",
      "4 16\n",
      "5 25\n"
     ]
    }
   ],
   "source": [
    "n = 6\n",
    "for i in range(n):\n",
    "    print(i, i**2)"
   ]
  },
  {
   "cell_type": "code",
   "execution_count": 96,
   "metadata": {},
   "outputs": [
    {
     "name": "stdout",
     "output_type": "stream",
     "text": [
      "0 0\n",
      "1 1\n",
      "2 4\n",
      "3 9\n",
      "4 16\n",
      "5 25\n"
     ]
    }
   ],
   "source": [
    "n = 6\n",
    "i = 0\n",
    "while i<n:\n",
    "    print(i, i**2)\n",
    "    i += 1"
   ]
  },
  {
   "cell_type": "markdown",
   "metadata": {},
   "source": [
    "**Exercice : Deviner un nombre**  \n",
    "Python choisit un nombre aléatoire `n` entre 1 et 99. L'utilisateur doit le deviner. Dans une boucle `while True` donnez l'indice si le nombre est trop grand ou trop petit. Si l'utilisateur trouve le nombre, sortez de la boucle infine avec la commande `break`."
   ]
  },
  {
   "cell_type": "code",
   "execution_count": 99,
   "metadata": {},
   "outputs": [
    {
     "name": "stdout",
     "output_type": "stream",
     "text": [
      "guess a number from 1 to 99 : \n",
      "\n",
      "Your number : 50\n",
      "The number is smaller\n",
      "Your number : 20\n",
      "The number is smaller\n",
      "Your number : 10\n",
      "The number is greater\n",
      "Your number : 15\n",
      "The number is greater\n",
      "Your number : 17\n",
      "Good job, you found the number !\n"
     ]
    }
   ],
   "source": [
    "import random\n",
    "n = random.randint(1, 99)\n",
    "print('guess a number from 1 to 99 : \\n')\n",
    "\n",
    "while True:\n",
    "   x = input('Your number : ')\n",
    "   if int(x)<n:\n",
    "    print('The number is greater')\n",
    "   elif int(x)>n:\n",
    "    print('The number is smaller')\n",
    "   else :\n",
    "    print('Good job, you found the number !')\n",
    "    break\n"
   ]
  },
  {
   "cell_type": "code",
   "execution_count": null,
   "metadata": {},
   "outputs": [],
   "source": []
  }
 ],
 "metadata": {
  "kernelspec": {
   "display_name": "Python 3",
   "language": "python",
   "name": "python3"
  },
  "language_info": {
   "codemirror_mode": {
    "name": "ipython",
    "version": 3
   },
   "file_extension": ".py",
   "mimetype": "text/x-python",
   "name": "python",
   "nbconvert_exporter": "python",
   "pygments_lexer": "ipython3",
   "version": "3.5.3"
  }
 },
 "nbformat": 4,
 "nbformat_minor": 2
}
