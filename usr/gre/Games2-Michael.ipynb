{
 "cells": [
  {
   "cell_type": "markdown",
   "metadata": {},
   "source": [
    "# Phase 2 - Créer des jeux"
   ]
  },
  {
   "cell_type": "markdown",
   "metadata": {},
   "source": [
    "Pour vérifier si votre code Python adhère aux recomendations PEP8 allez sur ce site: http://pep8online.com/"
   ]
  },
  {
   "cell_type": "markdown",
   "metadata": {},
   "source": [
    "## Utiliser le notebook Jupyter\n",
    "Les cellules code dans un notebook Jupyter doivent être executable. Si vous voulez simplement montrer un bout de code pour en parler sans l'executer, placez-le entre triple-backquotes.\n",
    "\n",
    "bout de code \n",
    "(exemple)\n",
    "```\n",
    "\n",
    "Toutes les cellules code doivent être executable et produire un résultat :\n",
    "* Pour executer une cellule appuyez sur `SHIFT-Return`\n",
    "* Avant de créer un PDF, recalculez toutes les cellules code\n",
    "* Choisissez le menu `Kernel > Restart & Run all`\n",
    "* Ceci renumérote automatiquement toutes les cellules à partir de 1\n",
    "* Si une variables ou fonctions ne sont pas définis, vous en êtes avertit\n",
    "* Selon la langue du système (Raspberry Pi settings), l'étiquette `In` ou `Entrée` est affichée"
   ]
  },
  {
   "cell_type": "code",
   "execution_count": 4,
   "metadata": {},
   "outputs": [
    {
     "name": "stdout",
     "output_type": "stream",
     "text": [
      "module name = gamelib\n"
     ]
    }
   ],
   "source": [
    "from sense_hat import SenseHat\n",
    "from gamelib import *\n",
    "from random import randint, choice\n",
    "from time import time, sleep\n",
    "import numpy as np\n",
    "\n",
    "sense = SenseHat()\n",
    "sense.clear()"
   ]
  },
  {
   "cell_type": "markdown",
   "metadata": {},
   "source": [
    "Le module `gamelib` contient les couleurs."
   ]
  },
  {
   "cell_type": "code",
   "execution_count": 93,
   "metadata": {},
   "outputs": [
    {
     "name": "stdout",
     "output_type": "stream",
     "text": [
      "[(0, 0, 0), (255, 0, 0), (0, 255, 0), (255, 255, 0), (0, 0, 255), (0, 255, 255), (255, 0, 255)]\n"
     ]
    }
   ],
   "source": [
    "colors = [BLACK, RED, GREEN, YELLOW, BLUE, CYAN, MAGENTA]\n",
    "colors2 = (BLACK, RED, GREEN, YELLOW, BLUE, CYAN, MAGENTA)\n",
    "\n",
    "print(colors)"
   ]
  },
  {
   "cell_type": "markdown",
   "metadata": {},
   "source": [
    "## Variables gobales\n",
    "\n",
    "Nous déclarons quelques variables commes globales. Ces variables seront accessible depuis partout dans Python."
   ]
  },
  {
   "cell_type": "code",
   "execution_count": 8,
   "metadata": {},
   "outputs": [],
   "source": [
    "import numpy as np\n",
    "x, y = 0, 0    # cursor position\n",
    "n = 8          # board size (n x n)\n",
    "T = np.zeros((n, n), int)    # Matrix of the board (table)\n",
    "colors = (BLACK, RED, GREEN, BLUE)  # color list\n",
    "p = 1          # current player\n",
    "score = [0, 0] # current score"
   ]
  },
  {
   "cell_type": "markdown",
   "metadata": {},
   "source": [
    "## Le module NumPy\n",
    "Pour cette deuxième phase, nous allons remplacer les matrices (listes 2D Python) par des matrices 2D NumPy. Voici les avantages:\n",
    "* les calculs sont beaucoup plus rapide\n",
    "* la matrice 2D peut être affiché avec `print` \n",
    "* il existent beaucoup de fonctions\n",
    "* \n",
    "Utiliser le module NumPy pour le calcul matriciel."
   ]
  },
  {
   "cell_type": "markdown",
   "metadata": {},
   "source": [
    "C'est standard d'importer le module **NumPy** avec le raccourci `np`."
   ]
  },
  {
   "cell_type": "code",
   "execution_count": 13,
   "metadata": {},
   "outputs": [],
   "source": [
    "import numpy as np\n"
   ]
  },
  {
   "cell_type": "markdown",
   "metadata": {},
   "source": [
    "La fonction `np.array()` transforme une liste Python en matrice NumPy."
   ]
  },
  {
   "cell_type": "code",
   "execution_count": 35,
   "metadata": {},
   "outputs": [],
   "source": [
    "L = [[0, 1], [1, 1]]\n",
    "L = np.array(L)"
   ]
  },
  {
   "cell_type": "markdown",
   "metadata": {},
   "source": [
    "Regardons le type de cet objet. C'est un `numpy.ndarray` (numerical data array)."
   ]
  },
  {
   "cell_type": "code",
   "execution_count": 36,
   "metadata": {},
   "outputs": [
    {
     "data": {
      "text/plain": [
       "numpy.ndarray"
      ]
     },
     "execution_count": 36,
     "metadata": {},
     "output_type": "execute_result"
    }
   ],
   "source": [
    "type(L)"
   ]
  },
  {
   "cell_type": "markdown",
   "metadata": {},
   "source": [
    "Une matrice 2D peut être affiché avec `print`."
   ]
  },
  {
   "cell_type": "code",
   "execution_count": 37,
   "metadata": {},
   "outputs": [
    {
     "name": "stdout",
     "output_type": "stream",
     "text": [
      "[[0 1]\n",
      " [1 1]]\n"
     ]
    }
   ],
   "source": [
    "print(L)"
   ]
  },
  {
   "cell_type": "markdown",
   "metadata": {},
   "source": [
    "## Créer des matrices\n",
    "Il existent des fonctions pour créer des matrices "
   ]
  },
  {
   "cell_type": "code",
   "execution_count": 34,
   "metadata": {},
   "outputs": [
    {
     "data": {
      "text/plain": [
       "array([[0, 0, 0, 0, 0, 0, 0, 0, 0, 0, 0, 0, 0, 0, 0, 0, 0, 0],\n",
       "       [0, 0, 0, 0, 0, 0, 0, 0, 0, 0, 0, 0, 0, 0, 0, 0, 0, 0],\n",
       "       [0, 0, 0, 0, 0, 0, 0, 0, 0, 0, 0, 0, 0, 0, 0, 0, 0, 0]])"
      ]
     },
     "execution_count": 34,
     "metadata": {},
     "output_type": "execute_result"
    }
   ],
   "source": [
    "A = np.zeros((3, 18), int)\n",
    "A"
   ]
  },
  {
   "cell_type": "code",
   "execution_count": 19,
   "metadata": {},
   "outputs": [
    {
     "data": {
      "text/plain": [
       "array([[1]])"
      ]
     },
     "execution_count": 19,
     "metadata": {},
     "output_type": "execute_result"
    }
   ],
   "source": [
    "B = np.ones((1, 1), int)\n",
    "B"
   ]
  },
  {
   "cell_type": "markdown",
   "metadata": {},
   "source": [
    "On peut faire des opérations arithmétiques avec les matrices Numpy"
   ]
  },
  {
   "cell_type": "code",
   "execution_count": 38,
   "metadata": {},
   "outputs": [
    {
     "name": "stdout",
     "output_type": "stream",
     "text": [
      "[[0 2]\n",
      " [2 2]]\n"
     ]
    }
   ],
   "source": [
    "print(L*2)"
   ]
  },
  {
   "cell_type": "code",
   "execution_count": 40,
   "metadata": {},
   "outputs": [
    {
     "name": "stdout",
     "output_type": "stream",
     "text": [
      "[[1 2]\n",
      " [2 2]]\n"
     ]
    }
   ],
   "source": [
    "print(L+1)"
   ]
  },
  {
   "cell_type": "code",
   "execution_count": 44,
   "metadata": {},
   "outputs": [
    {
     "name": "stdout",
     "output_type": "stream",
     "text": [
      "[[0 1]\n",
      " [1 1]]\n",
      "[[1 2]\n",
      " [3 4]]\n",
      "[[1 3]\n",
      " [4 5]]\n"
     ]
    }
   ],
   "source": [
    "A = np.array([[1, 2], [3, 4]])\n",
    "print(L)\n",
    "print(A)\n",
    "print(L+A)"
   ]
  },
  {
   "cell_type": "markdown",
   "metadata": {},
   "source": [
    "Afficher une matrice sur senshat\n",
    "https://docs.scipy.org/doc/numpy/reference/generated/numpy.random.randint.html"
   ]
  },
  {
   "cell_type": "code",
   "execution_count": 64,
   "metadata": {},
   "outputs": [
    {
     "name": "stdout",
     "output_type": "stream",
     "text": [
      "[[2 0 1 0 0 0 2 0]\n",
      " [2 2 2 0 0 2 2 1]\n",
      " [2 0 2 2 2 2 1 1]\n",
      " [2 1 0 2 0 2 0 1]\n",
      " [2 1 2 2 1 2 2 0]\n",
      " [1 2 0 2 2 2 2 1]\n",
      " [1 1 0 0 0 2 0 1]\n",
      " [1 2 1 1 1 2 0 2]]\n"
     ]
    }
   ],
   "source": [
    "m = len(colors)\n",
    "R = np.random.randint(0, 3, (8, 8))\n",
    "print(R)\n",
    "sense.clear()"
   ]
  },
  {
   "cell_type": "markdown",
   "metadata": {},
   "source": [
    "## Afficher sur le SenseHAT\n",
    "Pour afficher sur les LEDs du SenseHAT nous utilisons une matrice avec des entiers. Cest entiers sont également l'indice pour la liste `colors`"
   ]
  },
  {
   "cell_type": "code",
   "execution_count": 62,
   "metadata": {},
   "outputs": [],
   "source": [
    "def show_matrix(M):\n",
    "    global colors\n",
    "    n, m = M.shape\n",
    "    for x in range(n):\n",
    "        for y in range(m):\n",
    "            col = colors[M[y, x]] # lines & columns are inversed\n",
    "            sense.set_pixel(x, y, col)"
   ]
  },
  {
   "cell_type": "code",
   "execution_count": 63,
   "metadata": {},
   "outputs": [],
   "source": [
    "show_matrix(R)"
   ]
  },
  {
   "cell_type": "markdown",
   "metadata": {},
   "source": [
    "Définition d'un curseur avec 2 joueurs"
   ]
  },
  {
   "cell_type": "code",
   "execution_count": null,
   "metadata": {},
   "outputs": [],
   "source": [
    "p = 1"
   ]
  },
  {
   "cell_type": "markdown",
   "metadata": {},
   "source": [
    "Définition d'une fonction permettant de placer les curseurs"
   ]
  },
  {
   "cell_type": "code",
   "execution_count": 56,
   "metadata": {},
   "outputs": [],
   "source": [
    "def show_cursor(x, y, p):\n",
    "    \"\"\"Show cursor for player p (1, 2).\"\"\"\n",
    "    sense.set_pixel(x, y, colors[p])"
   ]
  },
  {
   "cell_type": "code",
   "execution_count": 58,
   "metadata": {},
   "outputs": [],
   "source": [
    "show_cursor(x, y, p)"
   ]
  },
  {
   "cell_type": "markdown",
   "metadata": {},
   "source": [
    "## Indices \n",
    "Dans une matrice 2D nous utilisons les indices i, j. D'habitude on utilise i pour les lignes et j pour les colonnes. Donc les indices sont invertit:\n",
    "* i correspond à l'axe y\n",
    "* j correspond à l'axe x"
   ]
  },
  {
   "cell_type": "code",
   "execution_count": 69,
   "metadata": {},
   "outputs": [],
   "source": [
    "T = np.zeros((8, 8), int)"
   ]
  },
  {
   "cell_type": "code",
   "execution_count": 70,
   "metadata": {},
   "outputs": [
    {
     "data": {
      "text/plain": [
       "array([[0, 0, 1, 0, 0, 1, 0, 0],\n",
       "       [0, 0, 1, 0, 0, 1, 0, 0],\n",
       "       [1, 1, 1, 1, 1, 1, 1, 1],\n",
       "       [0, 0, 1, 0, 0, 1, 0, 0],\n",
       "       [0, 0, 1, 0, 0, 1, 0, 0],\n",
       "       [1, 1, 1, 1, 1, 1, 1, 1],\n",
       "       [0, 0, 1, 0, 0, 1, 0, 0],\n",
       "       [0, 0, 1, 0, 0, 1, 0, 0]])"
      ]
     },
     "execution_count": 70,
     "metadata": {},
     "output_type": "execute_result"
    }
   ],
   "source": [
    "T[2, : ] = 1\n",
    "T[5, : ] = 1\n",
    "T[ : , 2] = 1\n",
    "T[ : , 5] = 1\n",
    "\n",
    "T"
   ]
  },
  {
   "cell_type": "markdown",
   "metadata": {},
   "source": [
    "## Fonctions callback\n",
    "Des fonctions peuvent être associé aux 5 directions du joystick. Les fonctions prennent comme argument l'événement `event`.\n",
    "* direction_left\n",
    "* direction_right\n",
    "* direction_up\n",
    "* direction_down\n",
    "* direction_middle\n",
    "* direction_any\n",
    "\n",
    "Si vous êtes intéressés dans les détails, ces fonctions utilisent un mécanismes qu'on appelle des **threads**. Vous pouvez aller regarder le code source de l'API sur GitHub:\n",
    "\n",
    "https://github.com/RPi-Distro/python-sense-hat/blob/master/sense_hat/stick.py"
   ]
  },
  {
   "cell_type": "code",
   "execution_count": 72,
   "metadata": {},
   "outputs": [],
   "source": [
    "#dir(sense.stick)"
   ]
  },
  {
   "cell_type": "code",
   "execution_count": 74,
   "metadata": {},
   "outputs": [],
   "source": [
    "def right(event):\n",
    "    sense.clear(RED)\n",
    "\n",
    "\n",
    "def left(event):\n",
    "    sense.clear(BLUE)\n",
    "    \n",
    "    \n",
    "def up(event):\n",
    "    sense.clear(GREEN)\n",
    "\n",
    "def down(event):\n",
    "    sense.clear(YELLOW)\n",
    "    \n",
    "    \n",
    "def middle(event):\n",
    "    sense.clear()\n",
    "    \n",
    "    \n",
    "sense.stick.direction_left = left\n",
    "sense.stick.direction_right = right\n",
    "sense.stick.direction_up = up\n",
    "sense.stick.direction_down = down\n",
    "sense.stick.direction_middle = middle"
   ]
  },
  {
   "cell_type": "markdown",
   "metadata": {},
   "source": [
    "### Exercice\n",
    "Redéfinir les fonctions `up` et `down` pour incrementer ou décrémenter un nombre qui change de couleur selon l'index dans `colors`."
   ]
  },
  {
   "cell_type": "code",
   "execution_count": null,
   "metadata": {},
   "outputs": [],
   "source": [
    "i = 0\n",
    "\n",
    "def up(event):\n",
    "    global i, n\n",
    "    pass\n",
    "\n",
    "def middle(event):\n",
    "    pass\n",
    "\n",
    "def down(event):\n",
    "    global i, n\n",
    "    pass"
   ]
  },
  {
   "cell_type": "markdown",
   "metadata": {},
   "source": [
    "## Trouver des info sur une fonction callback\n",
    "Verifier si une fonction callback et définie."
   ]
  },
  {
   "cell_type": "code",
   "execution_count": 75,
   "metadata": {},
   "outputs": [
    {
     "name": "stdout",
     "output_type": "stream",
     "text": [
      "<function left at 0x6fc6b4f8>\n"
     ]
    }
   ],
   "source": [
    "print(sense.stick.direction_left)"
   ]
  },
  {
   "cell_type": "markdown",
   "metadata": {},
   "source": [
    "Afficher le docstring de cette fonction."
   ]
  },
  {
   "cell_type": "code",
   "execution_count": 76,
   "metadata": {},
   "outputs": [
    {
     "name": "stdout",
     "output_type": "stream",
     "text": [
      "None\n"
     ]
    }
   ],
   "source": [
    "print(sense.stick.direction_left.__doc__)"
   ]
  },
  {
   "cell_type": "markdown",
   "metadata": {},
   "source": [
    "Afficher le nom de cette fonction."
   ]
  },
  {
   "cell_type": "code",
   "execution_count": 77,
   "metadata": {},
   "outputs": [
    {
     "name": "stdout",
     "output_type": "stream",
     "text": [
      "left\n"
     ]
    }
   ],
   "source": [
    "print(sense.stick.direction_left.__name__)"
   ]
  },
  {
   "cell_type": "code",
   "execution_count": 78,
   "metadata": {},
   "outputs": [
    {
     "name": "stdout",
     "output_type": "stream",
     "text": [
      "up\tNone\n",
      "down\tNone\n",
      "left\tNone\n",
      "right\tNone\n",
      "middle\tNone\n"
     ]
    }
   ],
   "source": [
    "callbacks = (sense.stick.direction_up, sense.stick.direction_down, \n",
    "             sense.stick.direction_left, sense.stick.direction_right,\n",
    "             sense.stick.direction_middle, sense.stick.direction_any)\n",
    "\n",
    "for cb in callbacks:\n",
    "    if cb != None:\n",
    "        print(cb.__name__, cb.__doc__, sep='\\t')"
   ]
  },
  {
   "cell_type": "markdown",
   "metadata": {},
   "source": [
    "## Déplacer un curseur\n",
    "Beaucoup de jeux necessitent le déplacement d'un curseur. Nous utilisons les 4 directions pour déplacer le curseur, et le boutons central pour faire la sélection."
   ]
  },
  {
   "cell_type": "code",
   "execution_count": 85,
   "metadata": {},
   "outputs": [],
   "source": [
    "def move_cursor(event):\n",
    "    \"\"\"Deplace le curseur (x, y) sur un board (n x n).\"\"\"\n",
    "    global x, y, n\n",
    "    if event.direction == 'left':\n",
    "        x = max(x-1, 0)\n",
    "    elif event.direction == 'up':\n",
    "        y = max(y-1, 0)\n",
    "    elif event.direction == 'right':\n",
    "        x = min(x+1, n-1)\n",
    "    elif event.direction == 'down':\n",
    "        y = min(y+1, n-1)\n",
    "        \n",
    "def play(event):\n",
    "    if event.action == 'pressed':\n",
    "        move_cursor(event)\n",
    "        sense.clear()\n",
    "        show_cursor(x, y, 1)\n",
    "\n",
    "sense.stick.__init__()\n",
    "sense.stick.direction_any = play\n"
   ]
  },
  {
   "cell_type": "markdown",
   "metadata": {},
   "source": [
    "\n",
    "En posant $n=3$ nous pouvons restreindre le mouvement du curseur à une région 3x3."
   ]
  },
  {
   "cell_type": "code",
   "execution_count": 83,
   "metadata": {},
   "outputs": [],
   "source": [
    "n=3\n"
   ]
  },
  {
   "cell_type": "markdown",
   "metadata": {},
   "source": [
    "## Afficher le gagnant\n",
    "Après chaque match nous affichons le gagnant (1 ou 2) dans sa couleur. Si c'est match nul nous affichons 0 en blanc.\n",
    "\n",
    "Pour donner d'importance, nous flashons 3 fois."
   ]
  },
  {
   "cell_type": "code",
   "execution_count": 86,
   "metadata": {},
   "outputs": [],
   "source": [
    "def show_winner(p, n=3):\n",
    "    \"\"\"Show the winner (1, 2) in the player's color.\"\"\"\n",
    "    col = WHITE if p==0 else colors[p]\n",
    "    for i in range(3):\n",
    "        sense.show_letter(str(p), text_colour=col)\n",
    "        sleep(0.2)\n",
    "        sense.clear()\n",
    "        sleep(0.2)\n",
    "    \n",
    "for i in range(3):\n",
    "    show_winner(i)"
   ]
  },
  {
   "cell_type": "markdown",
   "metadata": {},
   "source": [
    "## Afficher le score\n",
    "Après chaque match nous affichons le score des deux jouer, ou le score simple."
   ]
  },
  {
   "cell_type": "code",
   "execution_count": 88,
   "metadata": {},
   "outputs": [],
   "source": [
    "def show_score():\n",
    "    \"\"\"Display the score as scrolling text.\"\"\"\n",
    "    text = str(score[0]) + ':' + str(score[1])\n",
    "    sense.show_message(text)\n",
    "\n",
    "score = [2, 3]\n",
    "show_score()"
   ]
  },
  {
   "cell_type": "markdown",
   "metadata": {},
   "source": [
    "Si le score est entre 0 et 9 on peut l'afficher comme lettre, un après l'autre, dans la couleur respective du joueur."
   ]
  },
  {
   "cell_type": "code",
   "execution_count": 217,
   "metadata": {},
   "outputs": [],
   "source": [
    "def show_score2():\n",
    "    for i in range(2):\n",
    "        sense.show_letter(str(score[i]), text_colour = colors[i+1])\n",
    "        sleep(1)\n",
    "    sense.clear()   \n",
    "\n",
    "show_score2()"
   ]
  },
  {
   "cell_type": "markdown",
   "metadata": {},
   "source": [
    "Si le score est entre 0 et 8 on peut aussi l'afficher de façon graphique avec une barre."
   ]
  },
  {
   "cell_type": "code",
   "execution_count": 123,
   "metadata": {},
   "outputs": [],
   "source": [
    "def show_score3():\n",
    "    \"\"\"Display score as two colored bars.\"\"\"\n",
    "    pass\n",
    "    \n",
    "show_score3()  "
   ]
  },
  {
   "cell_type": "markdown",
   "metadata": {},
   "source": [
    "## Cellules conséqutifs identiques\n",
    "Dans Morpion et Puissance 4 nous devons tester si une séquence de 3 ou 4 cellules sont identiques. Nous définissons une fonctions qui compare 3 ou 4 cellules à partir d'une position initiale et une direction."
   ]
  },
  {
   "cell_type": "code",
   "execution_count": 218,
   "metadata": {},
   "outputs": [],
   "source": [
    "\n",
    "def is_equal(T, x, y, dx, dy, p, n):\n",
    "    \"\"\"Check if n cells starting at (x, y), \n",
    "    in direction (dx, dy) are all equal to p\"\"\"\n",
    "    for i in range(n):\n",
    "        if T[y, x] != p:\n",
    "            return False\n",
    "        x += dx\n",
    "        y += dy\n",
    "        \n",
    "    return True\n"
   ]
  },
  {
   "cell_type": "markdown",
   "metadata": {},
   "source": [
    "Testons notre function dans les 4 directions."
   ]
  },
  {
   "cell_type": "code",
   "execution_count": 223,
   "metadata": {},
   "outputs": [
    {
     "data": {
      "text/plain": [
       "array([[0, 0, 0, 0, 0, 0, 0, 0],\n",
       "       [0, 0, 0, 1, 0, 0, 0, 0],\n",
       "       [3, 0, 0, 1, 0, 0, 0, 0],\n",
       "       [0, 3, 0, 1, 0, 0, 0, 0],\n",
       "       [0, 0, 3, 1, 0, 0, 0, 0],\n",
       "       [0, 0, 0, 3, 0, 0, 0, 0],\n",
       "       [0, 0, 0, 0, 0, 0, 0, 0],\n",
       "       [0, 0, 0, 0, 2, 2, 2, 2]])"
      ]
     },
     "execution_count": 223,
     "metadata": {},
     "output_type": "execute_result"
    }
   ],
   "source": [
    "T = np.zeros((8, 8), int)\n",
    "T[1:5, 3] = 1\n",
    "T[7, 4:8] = 2\n",
    "T[2, 0] = T[3, 1] = T[4, 2] = T[5, 3] = 3\n",
    "T"
   ]
  },
  {
   "cell_type": "code",
   "execution_count": 220,
   "metadata": {},
   "outputs": [
    {
     "name": "stdout",
     "output_type": "stream",
     "text": [
      "True\n",
      "True\n",
      "True\n"
     ]
    }
   ],
   "source": [
    "print(is_equal(T, 3, 1, 0, 1, 1, 4))\n",
    "print(is_equal(T, 4, 7, 1, 0, 2, 4))\n",
    "print(is_equal(T, 0, 2, 1, 1, 3, 4))"
   ]
  },
  {
   "cell_type": "code",
   "execution_count": 221,
   "metadata": {},
   "outputs": [],
   "source": [
    "def in_a_row(T, p, k):\n",
    "    \"\"\"Check if player p has k stones in a row.\"\"\"\n",
    "    n, m = T.shape\n",
    "    # columns\n",
    "    for x in range(m):\n",
    "        for y in range(n-k+1):\n",
    "            if is_equal(T, x, y, 0, 1, p, k):\n",
    "                return True\n",
    "    # lines\n",
    "    for y in range(n):\n",
    "        for x in range(m-k+1):\n",
    "            if is_equal(T, x, y, 1, 0, p, k):\n",
    "                return True\n",
    "    # diagonals\n",
    "    for y in range(n-k+1):\n",
    "        for x in range(m-k+1):\n",
    "            if  is_equal(T, x, y, 1, 1, p, k):\n",
    "                return True\n",
    "            if  is_equal(T, x+k-1, y, -1, 1, p, k):\n",
    "                return True\n",
    "    return False"
   ]
  },
  {
   "cell_type": "code",
   "execution_count": 222,
   "metadata": {},
   "outputs": [
    {
     "name": "stdout",
     "output_type": "stream",
     "text": [
      "[[1 2 2]\n",
      " [2 2 1]\n",
      " [1 2 1]]\n",
      "True\n"
     ]
    }
   ],
   "source": [
    "T = np.array([[1, 2, 2], [2, 2, 1], [1, 2, 1]])\n",
    "print(T)\n",
    "print(in_a_row(T, 2, 3))"
   ]
  },
  {
   "cell_type": "markdown",
   "metadata": {},
   "source": [
    "## Fin du jeu\n",
    "Le jeu est terminé quand toutes les places sont occupées. La méthode `all()` est vrai si toutes les éléments sont différent de 0."
   ]
  },
  {
   "cell_type": "code",
   "execution_count": 224,
   "metadata": {},
   "outputs": [],
   "source": [
    "def is_finished(T):\n",
    "    \"\"\"Returns True if all cells are occupied.\"\"\"\n",
    "    return T.all()"
   ]
  },
  {
   "cell_type": "markdown",
   "metadata": {},
   "source": [
    "On va tester la fonction avec deux cas."
   ]
  },
  {
   "cell_type": "code",
   "execution_count": 225,
   "metadata": {},
   "outputs": [
    {
     "data": {
      "text/plain": [
       "True"
      ]
     },
     "execution_count": 225,
     "metadata": {},
     "output_type": "execute_result"
    }
   ],
   "source": [
    "T = np.ones((3, 3), int)\n",
    "is_finished(T)"
   ]
  },
  {
   "cell_type": "code",
   "execution_count": 226,
   "metadata": {},
   "outputs": [
    {
     "data": {
      "text/plain": [
       "False"
      ]
     },
     "execution_count": 226,
     "metadata": {},
     "output_type": "execute_result"
    }
   ],
   "source": [
    "T[0, 0] = 0\n",
    "is_finished(T)"
   ]
  },
  {
   "cell_type": "markdown",
   "metadata": {},
   "source": [
    "# Morpion\n",
    "Dans le jeu morpion les joueurs dovent placer en alternance une pièce sur un plateau de 3x3 cellules. Celui qui a placé en premier 3 pièces sur une ligne, colonne ou diagonale gagne."
   ]
  },
  {
   "cell_type": "code",
   "execution_count": 227,
   "metadata": {},
   "outputs": [
    {
     "name": "stdout",
     "output_type": "stream",
     "text": [
      "[[0 0 0]\n",
      " [0 0 0]\n",
      " [0 0 0]]\n"
     ]
    }
   ],
   "source": [
    "n = 3\n",
    "T = np.zeros((n, n), int)\n",
    "print(T)"
   ]
  },
  {
   "cell_type": "markdown",
   "metadata": {},
   "source": [
    "La fonction `init` prépare le jeu."
   ]
  },
  {
   "cell_type": "code",
   "execution_count": 228,
   "metadata": {},
   "outputs": [],
   "source": [
    "def init(reset=False):\n",
    "    global x, y, p, n, score, colors, T\n",
    "    x, y = 1, 1\n",
    "    n = 3\n",
    "    T = np.zeros((n, n), int)\n",
    "    colors = [BLACK, BLUE, YELLOW]\n",
    "    if reset:\n",
    "        score = [0, 0]\n",
    "        p = 1\n",
    "    show_board()\n",
    "    show_cursor3()"
   ]
  },
  {
   "cell_type": "markdown",
   "metadata": {},
   "source": [
    "La fonction `show_board` affiche le tableau."
   ]
  },
  {
   "cell_type": "code",
   "execution_count": null,
   "metadata": {},
   "outputs": [],
   "source": [
    "def show_board():\n",
    "    \"\"\"Show a 3x3 matrix on the 8x8 board.\"\"\"\n",
    "    for x in range(8):\n",
    "        for y in range(8):\n",
    "            if x % 3 == 2 or y % 3 == 2:\n",
    "                sense.set_pixel(x, y, GRAY)\n",
    "            else:\n",
    "                val = T[y//3, x//3]\n",
    "                sense.set_pixel(x, y, colors[val])"
   ]
  },
  {
   "cell_type": "code",
   "execution_count": null,
   "metadata": {},
   "outputs": [],
   "source": [
    "def show_cursor3():\n",
    "    \"\"\"Scale the cursor from 3x3 matrix to 8x8 board.\"\"\"\n",
    "    global x, y, p\n",
    "    col = colors[p] if T[y, x] != p else BLACK\n",
    "    sense.set_pixel(3*x, 3*y, col)"
   ]
  },
  {
   "cell_type": "markdown",
   "metadata": {},
   "source": [
    "The following implements the `play` function."
   ]
  },
  {
   "cell_type": "code",
   "execution_count": null,
   "metadata": {},
   "outputs": [],
   "source": [
    "def play(event):\n",
    "    \"\"\"Place a stone on the board if the position is empty.\"\"\"\n",
    "    global x, y, p\n",
    "    if event.action == 'pressed':\n",
    "        move_cursor(event)\n",
    "        if event.direction == 'middle':\n",
    "            if T[y, x] == 0:\n",
    "                T[y, x] = p\n",
    "                if in_a_row(T, p, 3):\n",
    "                    show_winner(p)\n",
    "                    score[p-1] += 1\n",
    "                    show_score3()\n",
    "                    init()\n",
    "                elif is_finished(T):\n",
    "                    show_winner(0)\n",
    "                    show_score3()\n",
    "                    init()\n",
    "                p = 3 - p\n",
    "        show_board()\n",
    "        show_cursor3()\n",
    "\n",
    "sense.stick.__init__()\n",
    "sense.stick.direction_any = play\n",
    "init(True)"
   ]
  },
  {
   "cell_type": "markdown",
   "metadata": {},
   "source": [
    "## m, n, k game\n",
    "Le m, n, k game est joué sur un tableau m x n, par deux joueurs qui placent une pièce en alternance. Le but est de placer k pièces en ligne, colonne ou en diagonale.\n",
    "\n",
    "https://en.wikipedia.org/wiki/M,n,k-game"
   ]
  },
  {
   "cell_type": "code",
   "execution_count": null,
   "metadata": {},
   "outputs": [],
   "source": [
    "def init(reset=False, size=8):\n",
    "    global x, y, p, n, score, T\n",
    "    n = size\n",
    "    T = np.zeros((n, n), int)\n",
    "    x, y = 0, 0\n",
    "    if reset:\n",
    "        score = [0, 0]\n",
    "        p = 1\n",
    "    show_matrix(T)\n",
    "    show_cursor(x, y, p)"
   ]
  },
  {
   "cell_type": "code",
   "execution_count": null,
   "metadata": {},
   "outputs": [],
   "source": [
    "def play(event):\n",
    "    \"\"\"Use 4 directions keys to move cursor, middle to play.\"\"\"\n",
    "    global x, y, p\n",
    "    if event.action == 'pressed':\n",
    "        move_cursor(event)\n",
    "        if event.direction == 'middle':\n",
    "            if T[y, x] == 0:\n",
    "               pass\n",
    "                \n",
    "        show_matrix(T)\n",
    "        show_cursor(x, y, p)\n",
    "\n",
    "sense.stick.__init__()\n",
    "sense.stick.direction_any = play\n",
    "init(True)"
   ]
  },
  {
   "cell_type": "markdown",
   "metadata": {},
   "source": [
    "## Puissance 4\n",
    "Le but du jeu est d'aligner une suite de 4 pions de même couleur sur u\n",
    "ne \n",
    "grille comptant 7 rangées et 8 colonnes.\n",
    "\n",
    "Tour à tour les deux joueurs placent un pion dans la colonne de leur choix, le pion coulisse alors jusqu'à la position la plus basse possible dans la dite colonne à la suite de quoi c'est à l'adversaire de jouer. \n",
    "\n",
    "Le vainqueur est le joueur qui réalise le premier un alignement (horizontal, vertical ou diagonal) consécutif d'au moins quatre pions de sa couleur. Si, alors que toutes les cases de la grille de jeu sont remplies, aucun des deux joueurs n'a réalisé un tel alignement, la partie est déclarée nulle."
   ]
  },
  {
   "cell_type": "code",
   "execution_count": null,
   "metadata": {},
   "outputs": [],
   "source": [
    "def init(reset=False):\n",
    "    \"\"\"Initialize global parameters for Connect4.\"\"\"\n",
    "    global x, y, p, dt, colors, T\n",
    "    x, y = 3, 0\n",
    "    if reset:\n",
    "        score = [0, 0]\n",
    "        p = 1\n",
    "    dt = 0.2\n",
    "    colors = [BLUE, RED, YELLOW, BLACK]\n",
    "    T = np.zeros((8, 8), int)\n",
    "    T[0] = 3\n",
    "\n",
    "    show_matrix(T)\n",
    "    show_cursor(x, y, p)"
   ]
  },
  {
   "cell_type": "code",
   "execution_count": null,
   "metadata": {},
   "outputs": [],
   "source": [
    "init()\n",
    "T"
   ]
  },
  {
   "cell_type": "markdown",
   "metadata": {},
   "source": [
    "Ceci sont les fonctions pour le jeu Puissance 4."
   ]
  },
  {
   "cell_type": "code",
   "execution_count": 230,
   "metadata": {},
   "outputs": [
    {
     "ename": "NameError",
     "evalue": "name 'show_board' is not defined",
     "output_type": "error",
     "traceback": [
      "\u001b[0;31m---------------------------------------------------------------------------\u001b[0m",
      "\u001b[0;31mNameError\u001b[0m                                 Traceback (most recent call last)",
      "\u001b[0;32m<ipython-input-230-c984d52145b1>\u001b[0m in \u001b[0;36m<module>\u001b[0;34m\u001b[0m\n\u001b[1;32m     45\u001b[0m \u001b[0msense\u001b[0m\u001b[0;34m.\u001b[0m\u001b[0mstick\u001b[0m\u001b[0;34m.\u001b[0m\u001b[0mdirection_middle\u001b[0m \u001b[0;34m=\u001b[0m \u001b[0mshow_score\u001b[0m\u001b[0;34m(\u001b[0m\u001b[0;34m)\u001b[0m\u001b[0;34m\u001b[0m\u001b[0m\n\u001b[1;32m     46\u001b[0m \u001b[0msense\u001b[0m\u001b[0;34m.\u001b[0m\u001b[0mstick\u001b[0m\u001b[0;34m.\u001b[0m\u001b[0mdirection_any\u001b[0m \u001b[0;34m=\u001b[0m \u001b[0mshow\u001b[0m\u001b[0;34m\u001b[0m\u001b[0m\n\u001b[0;32m---> 47\u001b[0;31m \u001b[0minit\u001b[0m\u001b[0;34m(\u001b[0m\u001b[0;34m)\u001b[0m\u001b[0;34m\u001b[0m\u001b[0m\n\u001b[0m",
      "\u001b[0;32m<ipython-input-228-8e2a3d1d3d1c>\u001b[0m in \u001b[0;36minit\u001b[0;34m(reset)\u001b[0m\n\u001b[1;32m      8\u001b[0m         \u001b[0mscore\u001b[0m \u001b[0;34m=\u001b[0m \u001b[0;34m[\u001b[0m\u001b[0;36m0\u001b[0m\u001b[0;34m,\u001b[0m \u001b[0;36m0\u001b[0m\u001b[0;34m]\u001b[0m\u001b[0;34m\u001b[0m\u001b[0m\n\u001b[1;32m      9\u001b[0m         \u001b[0mp\u001b[0m \u001b[0;34m=\u001b[0m \u001b[0;36m1\u001b[0m\u001b[0;34m\u001b[0m\u001b[0m\n\u001b[0;32m---> 10\u001b[0;31m     \u001b[0mshow_board\u001b[0m\u001b[0;34m(\u001b[0m\u001b[0;34m)\u001b[0m\u001b[0;34m\u001b[0m\u001b[0m\n\u001b[0m\u001b[1;32m     11\u001b[0m     \u001b[0mshow_cursor3\u001b[0m\u001b[0;34m(\u001b[0m\u001b[0;34m)\u001b[0m\u001b[0;34m\u001b[0m\u001b[0m\n",
      "\u001b[0;31mNameError\u001b[0m: name 'show_board' is not defined"
     ]
    }
   ],
   "source": [
    "def show(event):\n",
    "    if event.action == 'pressed':\n",
    "        show_matrix(T)\n",
    "        show_cursor(x, y, p)\n",
    "\n",
    "def left(event):\n",
    "    \"\"\"Move cursor to the left.\"\"\"\n",
    "    global x\n",
    "    if event.action == 'pressed':\n",
    "        x = max(x-1, 0)\n",
    "    \n",
    "def right(event):\n",
    "    \"\"\"Move cursor to the right.\"\"\"\n",
    "    global x\n",
    "    if event.action == 'pressed':\n",
    "        x = min(x+1, 7)\n",
    "    \n",
    "def down(event):\n",
    "    \"\"\"Move disc downwards.\"\"\"\n",
    "    global x, y, p\n",
    "    if event.action == 'pressed':\n",
    "        while (y < 7 and T[y+1, x] == 0):\n",
    "            y += 1\n",
    "            show_matrix(T)\n",
    "            show_cursor(x, y, p)\n",
    "            sleep(.1)\n",
    "        T[y, x] = p\n",
    "        if in_a_row(T[1:], p, 4):\n",
    "            show_winner(p)\n",
    "            show_score3()\n",
    "            init()\n",
    "        elif is_finished(T):\n",
    "            show_winner(0)\n",
    "            show_scores3()\n",
    "            init()\n",
    "            \n",
    "        y = 0\n",
    "        p = 3 - p\n",
    "    \n",
    "sense.stick.__init__()\n",
    "sense.stick.direction_left = left\n",
    "sense.stick.direction_right = right\n",
    "sense.stick.direction_down = down\n",
    "sense.stick.direction_up = init\n",
    "sense.stick.direction_middle = show_score()\n",
    "sense.stick.direction_any = show\n",
    "init()"
   ]
  },
  {
   "cell_type": "markdown",
   "metadata": {},
   "source": [
    "# Tetris\n",
    "Définissons les formes des base: L, O, I."
   ]
  },
  {
   "cell_type": "code",
   "execution_count": null,
   "metadata": {},
   "outputs": [],
   "source": [
    "L = np.array([[1, 0], [1, 1]], int)\n",
    "print(L)"
   ]
  },
  {
   "cell_type": "code",
   "execution_count": null,
   "metadata": {},
   "outputs": [],
   "source": [
    "O = np.ones((2, 2), int)\n",
    "print(O)"
   ]
  },
  {
   "cell_type": "code",
   "execution_count": null,
   "metadata": {},
   "outputs": [],
   "source": [
    "I = np.ones((3, 1), int)\n",
    "print(I)"
   ]
  },
  {
   "cell_type": "markdown",
   "metadata": {},
   "source": [
    "## Rotation des matrices"
   ]
  },
  {
   "cell_type": "code",
   "execution_count": 231,
   "metadata": {},
   "outputs": [
    {
     "data": {
      "text/plain": [
       "array([[1, 1],\n",
       "       [0, 1]])"
      ]
     },
     "execution_count": 231,
     "metadata": {},
     "output_type": "execute_result"
    }
   ],
   "source": [
    "np.rot90(L)"
   ]
  },
  {
   "cell_type": "code",
   "execution_count": 232,
   "metadata": {},
   "outputs": [
    {
     "data": {
      "text/plain": [
       "array([[1, 1],\n",
       "       [1, 0]])"
      ]
     },
     "execution_count": 232,
     "metadata": {},
     "output_type": "execute_result"
    }
   ],
   "source": [
    "np.rot90(L, 2)"
   ]
  },
  {
   "cell_type": "code",
   "execution_count": 233,
   "metadata": {},
   "outputs": [
    {
     "data": {
      "text/plain": [
       "array([[1, 0],\n",
       "       [1, 1]])"
      ]
     },
     "execution_count": 233,
     "metadata": {},
     "output_type": "execute_result"
    }
   ],
   "source": [
    "np.rot90(L, 3)"
   ]
  },
  {
   "cell_type": "code",
   "execution_count": 234,
   "metadata": {},
   "outputs": [
    {
     "ename": "NameError",
     "evalue": "name 'I' is not defined",
     "output_type": "error",
     "traceback": [
      "\u001b[0;31m---------------------------------------------------------------------------\u001b[0m",
      "\u001b[0;31mNameError\u001b[0m                                 Traceback (most recent call last)",
      "\u001b[0;32m<ipython-input-234-d0b59297462b>\u001b[0m in \u001b[0;36m<module>\u001b[0;34m\u001b[0m\n\u001b[0;32m----> 1\u001b[0;31m \u001b[0mnp\u001b[0m\u001b[0;34m.\u001b[0m\u001b[0mrot90\u001b[0m\u001b[0;34m(\u001b[0m\u001b[0mI\u001b[0m\u001b[0;34m)\u001b[0m\u001b[0;34m\u001b[0m\u001b[0m\n\u001b[0m",
      "\u001b[0;31mNameError\u001b[0m: name 'I' is not defined"
     ]
    }
   ],
   "source": [
    "np.rot90(I)"
   ]
  },
  {
   "cell_type": "markdown",
   "metadata": {},
   "source": [
    "Check if space is empty"
   ]
  },
  {
   "cell_type": "code",
   "execution_count": 235,
   "metadata": {},
   "outputs": [],
   "source": [
    "def overlap(T, S, x, y):\n",
    "    pass"
   ]
  },
  {
   "cell_type": "markdown",
   "metadata": {},
   "source": [
    "Add a shape "
   ]
  },
  {
   "cell_type": "code",
   "execution_count": 236,
   "metadata": {},
   "outputs": [],
   "source": [
    "def add(T, S, x, y):\n",
    "    \"\"\"Add shape S to T at (x, y).\"\"\"\n",
    "    n, m = S.shape\n",
    "    T[y:y+n, x:x+m] = S"
   ]
  },
  {
   "cell_type": "code",
   "execution_count": 459,
   "metadata": {},
   "outputs": [
    {
     "ename": "NameError",
     "evalue": "name 'O' is not defined",
     "output_type": "error",
     "traceback": [
      "\u001b[0;31m---------------------------------------------------------------------------\u001b[0m",
      "\u001b[0;31mNameError\u001b[0m                                 Traceback (most recent call last)",
      "\u001b[0;32m<ipython-input-459-eb78a8966d24>\u001b[0m in \u001b[0;36m<module>\u001b[0;34m\u001b[0m\n\u001b[1;32m      1\u001b[0m \u001b[0madd\u001b[0m\u001b[0;34m(\u001b[0m\u001b[0mT\u001b[0m\u001b[0;34m,\u001b[0m \u001b[0mL\u001b[0m\u001b[0;34m,\u001b[0m \u001b[0;36m0\u001b[0m\u001b[0;34m,\u001b[0m \u001b[0;36m0\u001b[0m\u001b[0;34m)\u001b[0m\u001b[0;34m\u001b[0m\u001b[0m\n\u001b[0;32m----> 2\u001b[0;31m \u001b[0madd\u001b[0m\u001b[0;34m(\u001b[0m\u001b[0mT\u001b[0m\u001b[0;34m,\u001b[0m \u001b[0mO\u001b[0m\u001b[0;34m*\u001b[0m\u001b[0;36m2\u001b[0m\u001b[0;34m,\u001b[0m \u001b[0;36m5\u001b[0m\u001b[0;34m,\u001b[0m \u001b[0;36m0\u001b[0m\u001b[0;34m)\u001b[0m\u001b[0;34m\u001b[0m\u001b[0m\n\u001b[0m\u001b[1;32m      3\u001b[0m \u001b[0madd\u001b[0m\u001b[0;34m(\u001b[0m\u001b[0mT\u001b[0m\u001b[0;34m,\u001b[0m \u001b[0mL\u001b[0m\u001b[0;34m*\u001b[0m\u001b[0;36m3\u001b[0m\u001b[0;34m,\u001b[0m \u001b[0;36m6\u001b[0m\u001b[0;34m,\u001b[0m \u001b[0;36m0\u001b[0m\u001b[0;34m)\u001b[0m\u001b[0;34m\u001b[0m\u001b[0m\n\u001b[1;32m      4\u001b[0m \u001b[0mprint\u001b[0m\u001b[0;34m(\u001b[0m\u001b[0mT\u001b[0m\u001b[0;34m)\u001b[0m\u001b[0;34m\u001b[0m\u001b[0m\n\u001b[1;32m      5\u001b[0m \u001b[0mshow_matrix\u001b[0m\u001b[0;34m(\u001b[0m\u001b[0mT\u001b[0m\u001b[0;34m)\u001b[0m\u001b[0;34m\u001b[0m\u001b[0m\n",
      "\u001b[0;31mNameError\u001b[0m: name 'O' is not defined"
     ]
    }
   ],
   "source": [
    "add(T, L, 0, 0)\n",
    "add(T, O*2, 5, 0)\n",
    "add(T, L*3, 6, 0)\n",
    "print(T)\n",
    "show_matrix(T)"
   ]
  },
  {
   "cell_type": "code",
   "execution_count": null,
   "metadata": {},
   "outputs": [],
   "source": [
    "show_matrix(T)"
   ]
  },
  {
   "cell_type": "code",
   "execution_count": null,
   "metadata": {},
   "outputs": [],
   "source": [
    "def rem(T, S, x, y):\n",
    "    \"\"\"Remove shape S at (x, y).\"\"\"\n",
    "    n, m = S.shape\n",
    "    for i in range(n):\n",
    "        for j in range(m):\n",
    "            T[y+i, x+j] = 0"
   ]
  },
  {
   "cell_type": "code",
   "execution_count": null,
   "metadata": {},
   "outputs": [],
   "source": [
    "rem(T, O, 0, 0)\n",
    "add(T, O, 1, 0)\n",
    "show_matrix(T)"
   ]
  }
 ],
 "metadata": {
  "kernelspec": {
   "display_name": "Python 3",
   "language": "python",
   "name": "python3"
  },
  "language_info": {
   "codemirror_mode": {
    "name": "ipython",
    "version": 3
   },
   "file_extension": ".py",
   "mimetype": "text/x-python",
   "name": "python",
   "nbconvert_exporter": "python",
   "pygments_lexer": "ipython3",
   "version": "3.5.3"
  }
 },
 "nbformat": 4,
 "nbformat_minor": 2
}
