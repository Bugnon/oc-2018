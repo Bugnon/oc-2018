{
 "cells": [
  {
   "cell_type": "markdown",
   "metadata": {},
   "source": [
    "# Git versioning system"
   ]
  },
  {
   "cell_type": "markdown",
   "metadata": {},
   "source": [
    "**git** is a version control system (VCS) which keeps track of different version of a project and allows people to collaborate. It is most widely used for code development or website development.\n",
    "\n",
    "Git was created by Linus Thorvalds in 2005 for the development of the Linux kernel. It's current maintainer is Junio Hamano, a Google employee.\n",
    "The advantages of git are:\n",
    "* you can come back to a previous version\n",
    "* you have a backup of the current and all previous checkpoints\n",
    "* you can collaborate with others to work on large software projects"
   ]
  },
  {
   "cell_type": "markdown",
   "metadata": {},
   "source": [
    "Sources : https://en.wikipedia.org/wiki/Git\n",
    "Main web site: https://git-scm.com"
   ]
  },
  {
   "cell_type": "markdown",
   "metadata": {},
   "source": [
    "### About running git examples within a Jupyter notebook"
   ]
  },
  {
   "cell_type": "markdown",
   "metadata": {},
   "source": [
    "* the command **git** must be preceded by `!` to run it in the Linux command shell\n",
    "* Use `alt+enter` to run a code cell and create a new one"
   ]
  },
  {
   "cell_type": "markdown",
   "metadata": {},
   "source": [
    "## Getting help on git"
   ]
  },
  {
   "cell_type": "markdown",
   "metadata": {},
   "source": [
    "Just running `git` without any arguments at the command line gives a short summary of all it's command."
   ]
  },
  {
   "cell_type": "code",
   "execution_count": 44,
   "metadata": {},
   "outputs": [
    {
     "name": "stdout",
     "output_type": "stream",
     "text": [
      "usage: git [--version] [--help] [-C <path>] [-c name=value]\r\n",
      "           [--exec-path[=<path>]] [--html-path] [--man-path] [--info-path]\r\n",
      "           [-p | --paginate | --no-pager] [--no-replace-objects] [--bare]\r\n",
      "           [--git-dir=<path>] [--work-tree=<path>] [--namespace=<name>]\r\n",
      "           <command> [<args>]\r\n",
      "\r\n",
      "These are common Git commands used in various situations:\r\n",
      "\r\n",
      "start a working area (see also: git help tutorial)\r\n",
      "   clone      Clone a repository into a new directory\r\n",
      "   init       Create an empty Git repository or reinitialize an existing one\r\n",
      "\r\n",
      "work on the current change (see also: git help everyday)\r\n",
      "   add        Add file contents to the index\r\n",
      "   mv         Move or rename a file, a directory, or a symlink\r\n",
      "   reset      Reset current HEAD to the specified state\r\n",
      "   rm         Remove files from the working tree and from the index\r\n",
      "\r\n",
      "examine the history and state (see also: git help revisions)\r\n",
      "   bisect     Use binary search to find the commit that introduced a bug\r\n",
      "   grep       Print lines matching a pattern\r\n",
      "   log        Show commit logs\r\n",
      "   show       Show various types of objects\r\n",
      "   status     Show the working tree status\r\n",
      "\r\n",
      "grow, mark and tweak your common history\r\n",
      "   branch     List, create, or delete branches\r\n",
      "   checkout   Switch branches or restore working tree files\r\n",
      "   commit     Record changes to the repository\r\n",
      "   diff       Show changes between commits, commit and working tree, etc\r\n",
      "   merge      Join two or more development histories together\r\n",
      "   rebase     Reapply commits on top of another base tip\r\n",
      "   tag        Create, list, delete or verify a tag object signed with GPG\r\n",
      "\r\n",
      "collaborate (see also: git help workflows)\r\n",
      "   fetch      Download objects and refs from another repository\r\n",
      "   pull       Fetch from and integrate with another repository or a local branch\r\n",
      "   push       Update remote refs along with associated objects\r\n",
      "\r\n",
      "'git help -a' and 'git help -g' list available subcommands and some\r\n",
      "concept guides. See 'git help <command>' or 'git help <concept>'\r\n",
      "to read about a specific subcommand or concept.\r\n"
     ]
    }
   ],
   "source": [
    "!git"
   ]
  },
  {
   "cell_type": "markdown",
   "metadata": {},
   "source": [
    "For example the first command mentioned allows to find out what version is running"
   ]
  },
  {
   "cell_type": "code",
   "execution_count": 46,
   "metadata": {},
   "outputs": [
    {
     "name": "stdout",
     "output_type": "stream",
     "text": [
      "git version 2.10.1 (Apple Git-78)\r\n"
     ]
    }
   ],
   "source": [
    "!git --version"
   ]
  },
  {
   "cell_type": "markdown",
   "metadata": {},
   "source": [
    "This is an old version, so let's update git to the latest one."
   ]
  },
  {
   "cell_type": "code",
   "execution_count": 51,
   "metadata": {},
   "outputs": [
    {
     "name": "stdout",
     "output_type": "stream",
     "text": [
      "Updating Homebrew...\n",
      "\u001b[34m==>\u001b[0m \u001b[1mAuto-updated Homebrew!\u001b[0m\n",
      "Updated 1 tap (homebrew/core).\n",
      "\u001b[34m==>\u001b[0m \u001b[1mNew Formulae\u001b[0m\n",
      "gptfdisk                   gradio                     pijul\n",
      "\u001b[34m==>\u001b[0m \u001b[1mUpdated Formulae\u001b[0m\n",
      "\u001b[1mgdbm \u001b[32m✔\u001b[0m\u001b[0m                                   minimal-racket\n",
      "\u001b[1mnode \u001b[32m✔\u001b[0m\u001b[0m                                   mitmproxy\n",
      "\u001b[1mpandoc \u001b[32m✔\u001b[0m\u001b[0m                                 mkdocs\n",
      "abcde                                    mongodb\n",
      "abcm2ps                                  msitools\n",
      "angle-grinder                            nativefier\n",
      "angular-cli                              node-build\n",
      "annie                                    ocrmypdf\n",
      "awscli                                   openimageio\n",
      "azure-cli                                openshift-cli\n",
      "bear                                     paket\n",
      "buildifier                               pango\n",
      "cargo-completion                         passenger\n",
      "cassandra                                pazpar2\n",
      "chronograf                               pegtl\n",
      "ckan                                     percona-server-mongodb\n",
      "composer                                 pgpool-ii\n",
      "confluent-oss                            phpunit\n",
      "cryptol                                  pilosa\n",
      "csvprintf                                pkcs11-helper\n",
      "cython                                   presto\n",
      "dartsim                                  proselint\n",
      "dbus                                     puzzles\n",
      "dcos-cli                                 pyinvoke\n",
      "django-completion                        quicktype\n",
      "dxpy                                     rabbitmq\n",
      "elixir                                   re2\n",
      "emscripten                               reattach-to-user-namespace\n",
      "erlang@20                                redis\n",
      "ethereum                                 ripgrep\n",
      "faas-cli                                 root\n",
      "fabric                                   ruby-install\n",
      "firebase-cli                             rust\n",
      "flow                                     sceptre\n",
      "fluent-bit                               shellharden\n",
      "freeimage                                shfmt\n",
      "gammaray                                 shibboleth-sp\n",
      "gdb                                      skaffold\n",
      "geos                                     snakemake\n",
      "git-lfs                                  sqlmap\n",
      "gnome-latex                              stanford-ner\n",
      "go-bindata                               stanford-parser\n",
      "go-jira                                  sundials\n",
      "go-statik                                swiftformat\n",
      "goenv                                    swiftlint\n",
      "grpc                                     sysdig\n",
      "gst-editing-services                     taskell\n",
      "gtk-vnc                                  tbox\n",
      "gutenberg                                teleport\n",
      "harfbuzz                                 terragrunt\n",
      "hashcat                                  thors-serializer\n",
      "hugo                                     tmux-xpanes\n",
      "jenkins                                  todolist\n",
      "kerl                                     tox\n",
      "knot-resolver                            trafficserver\n",
      "kotlin                                   uhd\n",
      "libpst                                   vcftools\n",
      "libxkbcommon                             webpack\n",
      "liquigraph                               wireguard-tools\n",
      "logtalk                                  wxmac\n",
      "lsof                                     xml-security-c\n",
      "macvim                                   xtensor\n",
      "mafft                                    yarn\n",
      "mariadb@10.0                             youtube-dl\n",
      "mercurial                                zabbix\n",
      "mill                                     zebra\n",
      "\u001b[34m==>\u001b[0m \u001b[1mDeleted Formulae\u001b[0m\n",
      "boot2docker                              boot2docker-completion\n",
      "\n",
      "\u001b[31mError:\u001b[0m Could not link:\n",
      "/usr/local/share/man/man1/brew.1\n",
      "\n",
      "Please delete these paths and run `brew update`.\n",
      "\u001b[31mError:\u001b[0m Could not link:\n",
      "/usr/local/share/doc/homebrew\n",
      "\n",
      "Please delete these paths and run `brew update`.\n",
      "\u001b[31mError:\u001b[0m git not installed\n"
     ]
    }
   ],
   "source": [
    "!brew upgrade git"
   ]
  },
  {
   "cell_type": "markdown",
   "metadata": {},
   "source": [
    "## Create a local repository"
   ]
  },
  {
   "cell_type": "markdown",
   "metadata": {},
   "source": [
    "For this exercice we create a local git repository in a temporary directory of the user's home directory."
   ]
  },
  {
   "cell_type": "code",
   "execution_count": 8,
   "metadata": {},
   "outputs": [],
   "source": [
    "mkdir ~/tmp/git-demo\n",
    "cd ~/tmp/git-demo"
   ]
  },
  {
   "cell_type": "markdown",
   "metadata": {},
   "source": [
    "In order to test git, we must make sure that we are not already in a git-versioned sub-directory. For example the directory in which this Jupyter notebook resides is under git version control. However the newly create directory is not. And it is also completely empty."
   ]
  },
  {
   "cell_type": "code",
   "execution_count": 11,
   "metadata": {},
   "outputs": [
    {
     "name": "stdout",
     "output_type": "stream",
     "text": [
      "fatal: Not a git repository (or any of the parent directories): .git\r\n"
     ]
    }
   ],
   "source": [
    "!git status"
   ]
  },
  {
   "cell_type": "code",
   "execution_count": 15,
   "metadata": {},
   "outputs": [],
   "source": [
    "ls -lA"
   ]
  },
  {
   "cell_type": "markdown",
   "metadata": {},
   "source": [
    "So let's create a new repository here."
   ]
  },
  {
   "cell_type": "code",
   "execution_count": 16,
   "metadata": {},
   "outputs": [
    {
     "name": "stdout",
     "output_type": "stream",
     "text": [
      "Initialized empty Git repository in /Users/raphael/tmp/git-demo/.git/\r\n"
     ]
    }
   ],
   "source": [
    "!git init"
   ]
  },
  {
   "cell_type": "markdown",
   "metadata": {},
   "source": [
    "Now the base directory contains a hidden `.git` directory which is the git repository which contains all the versioning information. The information is in the subfolders."
   ]
  },
  {
   "cell_type": "code",
   "execution_count": 19,
   "metadata": {},
   "outputs": [
    {
     "name": "stdout",
     "output_type": "stream",
     "text": [
      "\u001b[34m.git\u001b[m\u001b[m/\r\n"
     ]
    }
   ],
   "source": [
    "ls -A"
   ]
  },
  {
   "cell_type": "code",
   "execution_count": 24,
   "metadata": {},
   "outputs": [
    {
     "name": "stdout",
     "output_type": "stream",
     "text": [
      "HEAD         description  \u001b[34minfo\u001b[m\u001b[m/        \u001b[34mrefs\u001b[m\u001b[m/\r\n",
      "config       \u001b[34mhooks\u001b[m\u001b[m/       \u001b[34mobjects\u001b[m\u001b[m/\r\n"
     ]
    }
   ],
   "source": [
    "ls -A .git/"
   ]
  },
  {
   "cell_type": "code",
   "execution_count": 27,
   "metadata": {},
   "outputs": [
    {
     "name": "stdout",
     "output_type": "stream",
     "text": [
      "[core]\r\n",
      "\trepositoryformatversion = 0\r\n",
      "\tfilemode = true\r\n",
      "\tbare = false\r\n",
      "\tlogallrefupdates = true\r\n",
      "\tignorecase = true\r\n",
      "\tprecomposeunicode = true\r\n"
     ]
    }
   ],
   "source": [
    "cat .git/config"
   ]
  },
  {
   "cell_type": "markdown",
   "metadata": {},
   "source": [
    "## Configure git"
   ]
  },
  {
   "cell_type": "markdown",
   "metadata": {},
   "source": [
    "The minimum configuration for git is the user name and his email."
   ]
  },
  {
   "cell_type": "code",
   "execution_count": 30,
   "metadata": {},
   "outputs": [
    {
     "ename": "SyntaxError",
     "evalue": "invalid syntax (<ipython-input-30-686d6dbedb79>, line 1)",
     "output_type": "error",
     "traceback": [
      "\u001b[0;36m  File \u001b[0;32m\"<ipython-input-30-686d6dbedb79>\"\u001b[0;36m, line \u001b[0;32m1\u001b[0m\n\u001b[0;31m    git config --system\u001b[0m\n\u001b[0m             ^\u001b[0m\n\u001b[0;31mSyntaxError\u001b[0m\u001b[0;31m:\u001b[0m invalid syntax\n"
     ]
    }
   ],
   "source": [
    "git config --system"
   ]
  },
  {
   "cell_type": "markdown",
   "metadata": {},
   "source": [
    "Let's add a new file to the newly created repository."
   ]
  },
  {
   "cell_type": "code",
   "execution_count": 31,
   "metadata": {},
   "outputs": [
    {
     "name": "stdout",
     "output_type": "stream",
     "text": [
      "Writing README.md\n"
     ]
    }
   ],
   "source": [
    "%%writefile README.md\n",
    "# git demo-project\n",
    "This is the first line"
   ]
  },
  {
   "cell_type": "markdown",
   "metadata": {},
   "source": [
    "It is there."
   ]
  },
  {
   "cell_type": "code",
   "execution_count": 32,
   "metadata": {},
   "outputs": [
    {
     "name": "stdout",
     "output_type": "stream",
     "text": [
      "README.md\r\n"
     ]
    }
   ],
   "source": [
    "ls"
   ]
  },
  {
   "cell_type": "markdown",
   "metadata": {},
   "source": [
    "Check the git status. The newly created file is not yet under version control and will show up in red."
   ]
  },
  {
   "cell_type": "code",
   "execution_count": 33,
   "metadata": {},
   "outputs": [
    {
     "name": "stdout",
     "output_type": "stream",
     "text": [
      "On branch master\r\n",
      "\r\n",
      "Initial commit\r\n",
      "\r\n",
      "Untracked files:\r\n",
      "  (use \"git add <file>...\" to include in what will be committed)\r\n",
      "\r\n",
      "\t\u001b[31mREADME.md\u001b[m\r\n",
      "\r\n",
      "nothing added to commit but untracked files present (use \"git add\" to track)\r\n"
     ]
    }
   ],
   "source": [
    "!git status"
   ]
  },
  {
   "cell_type": "markdown",
   "metadata": {},
   "source": [
    "We have to add it to the index using "
   ]
  },
  {
   "cell_type": "code",
   "execution_count": 34,
   "metadata": {},
   "outputs": [],
   "source": [
    "!git add README.md"
   ]
  },
  {
   "cell_type": "code",
   "execution_count": 35,
   "metadata": {},
   "outputs": [
    {
     "name": "stdout",
     "output_type": "stream",
     "text": [
      "[master (root-commit) d2fdf00] initial commit\r\n",
      " 1 file changed, 2 insertions(+)\r\n",
      " create mode 100644 README.md\r\n"
     ]
    }
   ],
   "source": [
    "!git commit README.md -m 'initial commit'"
   ]
  },
  {
   "cell_type": "code",
   "execution_count": 36,
   "metadata": {},
   "outputs": [
    {
     "name": "stdout",
     "output_type": "stream",
     "text": [
      "\u001b[33mcommit d2fdf005c715c028e2a9ea16e4da18e8291408c8\u001b[m\r\n",
      "Author: Raphael Holzer <raphael.holzer@citycable.ch>\r\n",
      "Date:   Sun Aug 5 22:34:17 2018 +0200\r\n",
      "\r\n",
      "    initial commit\r\n"
     ]
    }
   ],
   "source": [
    "!git log"
   ]
  },
  {
   "cell_type": "markdown",
   "metadata": {},
   "source": [
    "Let's modify the README.md file"
   ]
  },
  {
   "cell_type": "code",
   "execution_count": 37,
   "metadata": {},
   "outputs": [],
   "source": [
    "!echo 'add another line' >> README.md"
   ]
  },
  {
   "cell_type": "code",
   "execution_count": 38,
   "metadata": {},
   "outputs": [
    {
     "name": "stdout",
     "output_type": "stream",
     "text": [
      "On branch master\r\n",
      "Changes not staged for commit:\r\n",
      "  (use \"git add <file>...\" to update what will be committed)\r\n",
      "  (use \"git checkout -- <file>...\" to discard changes in working directory)\r\n",
      "\r\n",
      "\t\u001b[31mmodified:   README.md\u001b[m\r\n",
      "\r\n",
      "no changes added to commit (use \"git add\" and/or \"git commit -a\")\r\n"
     ]
    }
   ],
   "source": [
    "!git status"
   ]
  },
  {
   "cell_type": "code",
   "execution_count": 39,
   "metadata": {},
   "outputs": [
    {
     "name": "stdout",
     "output_type": "stream",
     "text": [
      "\u001b[1mdiff --git a/README.md b/README.md\u001b[m\r\n",
      "\u001b[1mindex a7edf6c..2a859c7 100644\u001b[m\r\n",
      "\u001b[1m--- a/README.md\u001b[m\r\n",
      "\u001b[1m+++ b/README.md\u001b[m\r\n",
      "\u001b[36m@@ -1,2 +1,2 @@\u001b[m\r\n",
      " # git demo-project\u001b[m\r\n",
      "\u001b[31m-This is the first line\u001b[m\r\n",
      "\\ No newline at end of file\u001b[m\r\n",
      "\u001b[32m+\u001b[m\u001b[32mThis is the first lineadd another line\u001b[m\r\n"
     ]
    }
   ],
   "source": [
    "!git diff"
   ]
  },
  {
   "cell_type": "code",
   "execution_count": 43,
   "metadata": {},
   "outputs": [
    {
     "name": "stdout",
     "output_type": "stream",
     "text": [
      "[master f656941] modified README file\r\n",
      " 1 file changed, 1 insertion(+), 1 deletion(-)\r\n"
     ]
    }
   ],
   "source": [
    "!git commit -a -m 'modified README file'"
   ]
  },
  {
   "cell_type": "code",
   "execution_count": null,
   "metadata": {},
   "outputs": [],
   "source": [
    "!git "
   ]
  }
 ],
 "metadata": {
  "kernelspec": {
   "display_name": "Python 3",
   "language": "python",
   "name": "python3"
  },
  "language_info": {
   "codemirror_mode": {
    "name": "ipython",
    "version": 3
   },
   "file_extension": ".py",
   "mimetype": "text/x-python",
   "name": "python",
   "nbconvert_exporter": "python",
   "pygments_lexer": "ipython3",
   "version": "3.6.5"
  },
  "toc": {
   "base_numbering": 1,
   "nav_menu": {},
   "number_sections": true,
   "sideBar": true,
   "skip_h1_title": false,
   "title_cell": "Table of Contents",
   "title_sidebar": "Contents",
   "toc_cell": false,
   "toc_position": {},
   "toc_section_display": true,
   "toc_window_display": true
  }
 },
 "nbformat": 4,
 "nbformat_minor": 2
}
