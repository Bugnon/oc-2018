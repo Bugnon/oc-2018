{
 "cells": [
  {
   "cell_type": "markdown",
   "metadata": {},
   "source": [
    "# Jouer avec les mots"
   ]
  },
  {
   "cell_type": "markdown",
   "metadata": {},
   "source": [
    "Les mots utilisés dans ce chapitre sont des mots français pour le Scrabble de Jean-Philippe Durand, disponible sous http://jph.durand.free.fr/scrabble.txt\n",
    "\n",
    "Le document est sauvegardé localement sous le nom `mots.txt`."
   ]
  },
  {
   "cell_type": "markdown",
   "metadata": {},
   "source": [
    "## Lire des listes de mots"
   ]
  },
  {
   "cell_type": "markdown",
   "metadata": {},
   "source": [
    "La première action est de créer une objet `fichier` (fin = file input) avec la fonction `open`. "
   ]
  },
  {
   "cell_type": "code",
   "execution_count": 9,
   "metadata": {},
   "outputs": [
    {
     "data": {
      "text/plain": [
       "<_io.TextIOWrapper name='../../../thinkpython/mots.txt' mode='r' encoding='UTF-8'>"
      ]
     },
     "execution_count": 9,
     "metadata": {},
     "output_type": "execute_result"
    }
   ],
   "source": [
    "fin = open('../../../thinkpython/mots.txt')\n",
    "fin"
   ]
  },
  {
   "cell_type": "markdown",
   "metadata": {},
   "source": [
    "**Exercice : aide pour open**  \n",
    "Trouve de l'aide pour `open` et `readline`"
   ]
  },
  {
   "cell_type": "code",
   "execution_count": null,
   "metadata": {},
   "outputs": [],
   "source": [
    "#help"
   ]
  },
  {
   "cell_type": "markdown",
   "metadata": {},
   "source": [
    "La méthode `readline` retourne la ligne suivante, jusqu'à EOF (End Of File).  \n",
    "Le premier mot est *AA* qui est une sorte de lave. Les mots se terminent par le caractère de saut de ligne `\\n` (newline)."
   ]
  },
  {
   "cell_type": "code",
   "execution_count": null,
   "metadata": {},
   "outputs": [],
   "source": [
    "fin.readline()"
   ]
  },
  {
   "cell_type": "markdown",
   "metadata": {},
   "source": [
    "**Exercice : lire 10 lignes**  \n",
    "Dans une boucle, lisez et affichez les 10 prochaines lignes de `mot.txt`. Afficher les lignes sans interlignes."
   ]
  },
  {
   "cell_type": "code",
   "execution_count": null,
   "metadata": {},
   "outputs": [],
   "source": [
    "for i in range(10):\n",
    "   pass"
   ]
  },
  {
   "cell_type": "markdown",
   "metadata": {},
   "source": [
    "L'objet `fin` garde en mémoire la ligne actuelle, et continue avec la prochaine ligne."
   ]
  },
  {
   "cell_type": "code",
   "execution_count": 7,
   "metadata": {},
   "outputs": [
    {
     "data": {
      "text/plain": [
       "'CI\\n'"
      ]
     },
     "execution_count": 7,
     "metadata": {},
     "output_type": "execute_result"
    }
   ],
   "source": [
    "fin.readline()"
   ]
  },
  {
   "cell_type": "markdown",
   "metadata": {},
   "source": [
    "Nous pouvons nous débarasser du newline avec la fonction `strip`"
   ]
  },
  {
   "cell_type": "code",
   "execution_count": 6,
   "metadata": {},
   "outputs": [
    {
     "data": {
      "text/plain": [
       "'CE'"
      ]
     },
     "execution_count": 6,
     "metadata": {},
     "output_type": "execute_result"
    }
   ],
   "source": [
    "fin.readline().strip()"
   ]
  },
  {
   "cell_type": "code",
   "execution_count": 4,
   "metadata": {},
   "outputs": [
    {
     "name": "stdout",
     "output_type": "stream",
     "text": [
      "AA\n",
      "AH\n",
      "AI\n",
      "AN\n",
      "AS\n",
      "AU\n",
      "AY\n",
      "BI\n",
      "BU\n",
      "CA\n"
     ]
    }
   ],
   "source": [
    "for i in range(10):\n",
    "    print(fin.readline().strip())"
   ]
  },
  {
   "cell_type": "markdown",
   "metadata": {},
   "source": [
    "## ex 1 - Mots avec 14 caractères"
   ]
  },
  {
   "cell_type": "markdown",
   "metadata": {},
   "source": [
    "Ecrivez un programme qui lit `mots.txt`et affiche uniquement les mots de plus de 14 caractères (sans compter le `\\n`). N'afficher que les premiers 20 mots."
   ]
  },
  {
   "cell_type": "code",
   "execution_count": 18,
   "metadata": {},
   "outputs": [
    {
     "name": "stdout",
     "output_type": "stream",
     "text": [
      "ABANDONNERIONS\n",
      "ABASOURDISSAIT\n",
      "ABASOURDISSANT\n",
      "ABASOURDISSENT\n",
      "ABOLITIONNISME\n",
      "ABOLITIONNISTE\n",
      "ABOMINABLEMENT\n",
      "ABOUTISSEMENTS\n",
      "ABRACADABRANTE\n",
      "ABRACADABRANTS\n"
     ]
    }
   ],
   "source": [
    "fin = open('../../../thinkpython/mots.txt')\n",
    "i = 0\n",
    "for line in fin:\n",
    "    line = line.strip()\n",
    "    if len(line) == 14: \n",
    "        print(line)\n",
    "        i = i+1\n",
    "    if i == 10:\n",
    "        break"
   ]
  },
  {
   "cell_type": "markdown",
   "metadata": {},
   "source": [
    "## ex 2 - mots sans E"
   ]
  },
  {
   "cell_type": "markdown",
   "metadata": {},
   "source": [
    "Ecrivez une fonction `sans_e` et testez-la avec deux mots."
   ]
  },
  {
   "cell_type": "code",
   "execution_count": 35,
   "metadata": {},
   "outputs": [
    {
     "data": {
      "text/plain": [
       "(True, False)"
      ]
     },
     "execution_count": 35,
     "metadata": {},
     "output_type": "execute_result"
    }
   ],
   "source": [
    "def sans_e(mot):\n",
    "    return ('E' not in mot)\n",
    "\n",
    "sans_a('HELLO'), sans_a('CIAO')"
   ]
  },
  {
   "cell_type": "markdown",
   "metadata": {},
   "source": [
    "Modifiez le programme précédent pour afficher seulement les mots de plus de 14 lettres qui ne contiennent aucun 'e'."
   ]
  },
  {
   "cell_type": "code",
   "execution_count": 36,
   "metadata": {},
   "outputs": [
    {
     "name": "stdout",
     "output_type": "stream",
     "text": [
      "ABASOURDISSAIT\n",
      "ABASOURDISSANT\n",
      "ABRACADABRANTS\n",
      "ACCOMPLISSIONS\n",
      "ACTUALISATIONS\n",
      "ADMINISTRATIFS\n",
      "ADMINISTRATION\n",
      "AFFAIBLISSIONS\n",
      "AFFRANCHIRIONS\n",
      "AFFRANCHISSAIS\n"
     ]
    }
   ],
   "source": [
    "fin = open('../../../thinkpython/mots.txt')\n",
    "i = 0\n",
    "for line in fin:\n",
    "    line = line.strip()\n",
    "    if len(line) == 14 and sans_e(line): \n",
    "        print(line)\n",
    "        i = i+1\n",
    "    if i == 10:\n",
    "        break"
   ]
  },
  {
   "cell_type": "markdown",
   "metadata": {},
   "source": [
    "Calculez le nombre et le pourcentage des mots qui ne contiennent aucun 'e'."
   ]
  },
  {
   "cell_type": "code",
   "execution_count": 48,
   "metadata": {},
   "outputs": [
    {
     "name": "stdout",
     "output_type": "stream",
     "text": [
      "13.80240048407975\n"
     ]
    }
   ],
   "source": [
    "fin = open('../../../thinkpython/mots.txt')\n",
    "n = 0\n",
    "i = 0\n",
    "for line in fin:\n",
    "    line = line.strip()\n",
    "    n = n + 1\n",
    "    if sans_e(line): \n",
    "        i = i+1\n",
    "print(i/n*100)\n"
   ]
  },
  {
   "cell_type": "markdown",
   "metadata": {},
   "source": [
    "## ex 3 - eviter"
   ]
  },
  {
   "cell_type": "markdown",
   "metadata": {},
   "source": [
    "Ecrivez une fonction nommée 'evite' qui prend un mot et une liste de lettres interdites, et qui renvoie `True`si le mot ne contient aucune des lettres interdites."
   ]
  },
  {
   "cell_type": "code",
   "execution_count": null,
   "metadata": {},
   "outputs": [],
   "source": [
    "def evite(mot, interdit):\n",
    "    if \n",
    "\n",
    "evite('hello', 'epfl'), evite('ciao', 'epfl')"
   ]
  },
  {
   "cell_type": "markdown",
   "metadata": {},
   "source": [
    "Modifier le programme pour inviter l'utilisateur à saisir une chaine de lettres interdites et ensuite affiche le nombre de mots de la liste en entrée qui ne contiennent aucunee de celles-ci."
   ]
  },
  {
   "cell_type": "code",
   "execution_count": null,
   "metadata": {},
   "outputs": [],
   "source": [
    "interdit = input('forbidden letters = ')\n",
    "fin = open('mots.txt')\n",
    "interdit = interdit.upper()\n",
    "pass"
   ]
  },
  {
   "cell_type": "markdown",
   "metadata": {},
   "source": [
    "## ex 4 - utiliser seulement"
   ]
  },
  {
   "cell_type": "markdown",
   "metadata": {},
   "source": [
    "Ecrivez une fonction `utilise` qui prend un mots et une chaine de lettres, et qui renvoie `True` si le mot ne contient que de lettres de la liste."
   ]
  },
  {
   "cell_type": "code",
   "execution_count": null,
   "metadata": {},
   "outputs": [],
   "source": [
    "def utilise(mot, permis):\n",
    "   pass\n",
    "\n",
    "utilise('hello', 'helpo'), utilise('hello', 'hefko'), "
   ]
  },
  {
   "cell_type": "code",
   "execution_count": null,
   "metadata": {},
   "outputs": [],
   "source": [
    "permis = input('allowed letters = ')\n",
    "fin = open('mots.txt')\n",
    "permis = permis.upper()\n",
    "pass"
   ]
  },
  {
   "cell_type": "markdown",
   "metadata": {},
   "source": [
    "## ex 5 - utiliser tous"
   ]
  },
  {
   "cell_type": "markdown",
   "metadata": {},
   "source": [
    "Ecrivez une fonction `utilise_tout` qui prend un mot et une chaine de lettres requise et renvoie `True`si le mot utilise toutes les lettres requises au moin une fois."
   ]
  },
  {
   "cell_type": "code",
   "execution_count": null,
   "metadata": {},
   "outputs": [],
   "source": [
    "def utilise_tout(mot, lettres):\n",
    "    pass\n",
    "\n",
    "utilise_tout('hello', 'hel'), utilise_tout('hello', 'helk')"
   ]
  },
  {
   "cell_type": "markdown",
   "metadata": {},
   "source": [
    "Commbien y a-t-il de mots qui utilisent toutes les voyelles `aeiou` ? Et `aeiouy` ?"
   ]
  },
  {
   "cell_type": "code",
   "execution_count": null,
   "metadata": {},
   "outputs": [],
   "source": [
    "lettres = 'aeiou'.upper()\n",
    "fin = open('mots.txt')\n",
    "pass"
   ]
  },
  {
   "cell_type": "markdown",
   "metadata": {},
   "source": [
    "## ex 6 - ordre alphabétique"
   ]
  },
  {
   "cell_type": "markdown",
   "metadata": {},
   "source": [
    "Ecrivez une fonction `est_en_ordre_alphabétique` qui renvoie `True`si les lettres d'un mot apparaissent dans l'ordre alphabétique (les lettres doubles sont autorisées). Combient y a-t-il de mots de ce genre?"
   ]
  },
  {
   "cell_type": "code",
   "execution_count": null,
   "metadata": {},
   "outputs": [],
   "source": [
    "def est_en_ordre_alphabetique(mot):\n",
    "   pass\n",
    "\n",
    "est_en_ordre_alphabetique('hello'), est_en_ordre_alphabetique('bello'),"
   ]
  },
  {
   "cell_type": "code",
   "execution_count": null,
   "metadata": {
    "scrolled": false
   },
   "outputs": [],
   "source": [
    "fin = open('mots.txt')\n",
    "n = 0\n",
    "k = 0\n",
    "for line in fin:\n",
    "    pass"
   ]
  },
  {
   "cell_type": "markdown",
   "metadata": {},
   "source": [
    "## Exercices"
   ]
  },
  {
   "cell_type": "markdown",
   "metadata": {},
   "source": [
    "### ex - 3 fois une lettre double"
   ]
  },
  {
   "cell_type": "markdown",
   "metadata": {},
   "source": [
    "Trouver un mot avec 3 fois une lettre double, conséqutifs."
   ]
  },
  {
   "cell_type": "code",
   "execution_count": null,
   "metadata": {},
   "outputs": [],
   "source": [
    "def double_letters(s):\n",
    "    pass\n",
    "\n",
    "double_letters('hello'), double_letters('helloo'), double_letters('heelloo'), "
   ]
  },
  {
   "cell_type": "code",
   "execution_count": null,
   "metadata": {},
   "outputs": [],
   "source": [
    "fin = open('mots.txt')\n",
    "for line in fin:\n",
    "    word = line.strip()\n",
    "    if double_letters(word):\n",
    "        print(word)"
   ]
  },
  {
   "cell_type": "markdown",
   "metadata": {},
   "source": [
    "### ex - palindromes"
   ]
  },
  {
   "cell_type": "code",
   "execution_count": null,
   "metadata": {
    "collapsed": true
   },
   "outputs": [],
   "source": [
    "for i in range(1000, 9999):\n",
    "    s = str(i)\n",
    "    if (s[0]==s[3] and s[1]==s[2]):\n",
    "        print(i)"
   ]
  },
  {
   "cell_type": "code",
   "execution_count": null,
   "metadata": {},
   "outputs": [],
   "source": [
    "for i in range(100000, 999999):\n",
    "    s = str(i)\n",
    "    if (s[2]==s[5] and s[3]==s[4]):\n",
    "        i += 1\n",
    "        s = str(i)\n",
    "        if (s[1]==s[5] and s[2]==s[4]):\n",
    "            i += 1\n",
    "            s = str(i)\n",
    "            if (s[1]==s[4] and s[2]==s[3]):\n",
    "                i += 1\n",
    "                s = str(i)\n",
    "                if (s[0]==s[5] and s[1]==s[4]) and s[2]==s[3]:\n",
    "                    print(i-3)"
   ]
  },
  {
   "cell_type": "markdown",
   "metadata": {},
   "source": [
    "### ex age"
   ]
  },
  {
   "cell_type": "code",
   "execution_count": null,
   "metadata": {},
   "outputs": [],
   "source": [
    "for dif in range(15, 100):\n",
    "    n = 0\n",
    "    for mom in range(dif, 100):\n",
    "        s = str(mom-dif).zfill(2)\n",
    "        m = str(mom)\n",
    "        if s[0]==m[1] and s[1]==m[0]:\n",
    "            n += 1\n",
    "    if n == 8:\n",
    "        print(dif)"
   ]
  },
  {
   "cell_type": "code",
   "execution_count": null,
   "metadata": {},
   "outputs": [],
   "source": [
    "dif = 18\n",
    "for mom in range(dif, 100):\n",
    "    s = str(mom-dif).zfill(2)\n",
    "    m = str(mom)\n",
    "    if s[0]==m[1] and s[1]==m[0]:\n",
    "        print(s, m)"
   ]
  },
  {
   "cell_type": "markdown",
   "metadata": {},
   "source": [
    "La différence d'age est 18, et l'age actuel est 57."
   ]
  },
  {
   "cell_type": "code",
   "execution_count": null,
   "metadata": {},
   "outputs": [],
   "source": []
  }
 ],
 "metadata": {
  "kernelspec": {
   "display_name": "Python 3",
   "language": "python",
   "name": "python3"
  },
  "language_info": {
   "codemirror_mode": {
    "name": "ipython",
    "version": 3
   },
   "file_extension": ".py",
   "mimetype": "text/x-python",
   "name": "python",
   "nbconvert_exporter": "python",
   "pygments_lexer": "ipython3",
   "version": "3.5.3"
  },
  "toc": {
   "base_numbering": "9",
   "nav_menu": {},
   "number_sections": true,
   "sideBar": true,
   "skip_h1_title": false,
   "title_cell": "Table of Contents",
   "title_sidebar": "Contents",
   "toc_cell": false,
   "toc_position": {},
   "toc_section_display": true,
   "toc_window_display": true
  }
 },
 "nbformat": 4,
 "nbformat_minor": 2
}
