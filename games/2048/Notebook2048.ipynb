{
 "cells": [
  {
   "cell_type": "markdown",
   "metadata": {},
   "source": [
    "## Introduction\n",
    "Tout d'abord il est nécessaire d'importer du module `sense_hat` la classe `SenseHat`. Ceci permet d'instantier un objet `sense` qui va être utilisé pour commuiquer avec la carte. Egalement, nous allons nettoyer le senshat afin d'éviter des problèmes."
   ]
  },
  {
   "cell_type": "code",
   "execution_count": 15,
   "metadata": {},
   "outputs": [],
   "source": [
    "# Importation des modules requis\n",
    "from sense_hat import SenseHat\n",
    "from random import randint\n",
    "from time import sleep\n",
    "from time import time\n",
    "\n",
    "sense = SenseHat()\n",
    "sense.clear(0, 0, 0)\n",
    "size = 8 # Taille par defaut"
   ]
  },
  {
   "cell_type": "markdown",
   "metadata": {},
   "source": [
    "## Couleurs\n",
    "On définit les couleurs et nous créons une liste `colors` dans laquelle nous allons mettre tous les couleurs possible de notre jeu. Chaque couleur donne une valeur différent à chaque pixel."
   ]
  },
  {
   "cell_type": "code",
   "execution_count": 16,
   "metadata": {},
   "outputs": [],
   "source": [
    "#-----Définition des couleurs-----\n",
    "\n",
    "MESSAGE = (128, 124, 128)\n",
    "BLACK_0 = (0, 0, 0)\n",
    "BLUE_1 = (0, 255, 255)\n",
    "GREEN_2 = (0, 255, 127)\n",
    "GREEN_3 = (0, 255, 0)\n",
    "GREEN_4 = (127, 255, 0)\n",
    "YELLOW_5 = (255, 255, 0)\n",
    "ORANGE_6 = (255, 127, 0)\n",
    "RED_7 = (255, 0, 0)\n",
    "PINK_8 = (255, 0, 127)\n",
    "PINK_9 = (255, 0, 255)\n",
    "PINK_10 = (127, 0, 255)\n",
    "BLUE_11 = (0, 0, 255)\n",
    "BLUE_12 = (0, 127, 255)\n",
    "WHITE_13 = (255, 255, 255)\n",
    "r = RED_7\n",
    "o = BLACK_0\n",
    "y = YELLOW_5\n",
    "end = True # On définit une variable \"end\" comme True\n",
    "\n",
    "colors = [BLACK_0, BLUE_1, GREEN_2, GREEN_3, GREEN_4, YELLOW_5, ORANGE_6, RED_7,\\\n",
    "          PINK_8, PINK_9, PINK_10, BLUE_11, BLUE_12, WHITE_13,]"
   ]
  },
  {
   "cell_type": "code",
   "execution_count": null,
   "metadata": {},
   "outputs": [],
   "source": [
    "print(colors)"
   ]
  },
  {
   "cell_type": "markdown",
   "metadata": {},
   "source": [
    "![Titre](https://raw.githubusercontent.com/Bugnon/oc-2018/master/games/2048/RGB%E8%89%B2%E7%9B%B8%E7%92%B0.png)"
   ]
  },
  {
   "cell_type": "markdown",
   "metadata": {},
   "source": [
    "## Matrices\n",
    "Nous allons définir 3 matrices: 2 qui permettrons que notre jeu s'affiche en 4x4 et l'autre pour le mode 8x8. La matrice `L_cross` s'affiche seulement lorsque le jeu est fini et que le joueur a perdu. et `L_WIN` lorsqu'elle aura gagné."
   ]
  },
  {
   "cell_type": "code",
   "execution_count": 17,
   "metadata": {},
   "outputs": [],
   "source": [
    "L4 = [[0, 0, 0, 0],\n",
    "      [0, 0, 0, 0],\n",
    "      [0, 0, 0, 0],\n",
    "      [0, 0, 0, 0], \n",
    "     ]\n",
    "L8 = [[0, 0, 0, 0, 0, 0, 0, 0],\n",
    "      [0, 0, 0, 0, 0, 0, 0, 0],\n",
    "      [0, 0, 0, 0, 0, 0, 0, 0],\n",
    "      [0, 0, 0, 0, 0, 0, 0, 0],\n",
    "      [0, 0, 0, 0, 0, 0, 0, 0],\n",
    "      [0, 0, 0, 0, 0, 0, 0, 0],\n",
    "      [0, 0, 0, 0, 0, 0, 0, 0],\n",
    "      [0, 0, 0, 0, 0, 0, 0, 0]\n",
    "     ]\n",
    "\n",
    "L_cross = [r, o, o, o, o, o, o, r,\n",
    "           o, r, o, o, o, o, r, o,\n",
    "           o, o, r, o, o, r, o, o,\n",
    "           o, o, o, r, r, o, o, o,\n",
    "           o, o, o, r, r, o, o, o,\n",
    "           o, o, r, o, o, r, o, o,\n",
    "           o, r, o, o, o, o, r, o,\n",
    "           r, o, o, o, o, o, o, r\n",
    "          ]\n",
    "L_WIN = [ o, o, o, o, o, o, o, o,\n",
    "          o, y, y, y, y, y, y, o,\n",
    "          o, y, y, y, y, y, y, o,\n",
    "          o, y, y, y, y, y, y, o,\n",
    "          o, o, y, y, y, y, o, o,\n",
    "          o, o, o, y, y, o, o, o,\n",
    "          o, o, o, y, y, o, o, o,\n",
    "          o, y, y, y, y, y, y, o,\n",
    "        ]"
   ]
  },
  {
   "cell_type": "code",
   "execution_count": null,
   "metadata": {},
   "outputs": [],
   "source": [
    "print(L4)\n",
    "print(L8)\n",
    "print(L_cross)\n",
    "print(L_WIN)"
   ]
  },
  {
   "cell_type": "markdown",
   "metadata": {},
   "source": [
    "### Startup\n",
    "Fonction qui nous permettra lancer le jeu. Elle définit également les messages affichés dans `selection_startup`"
   ]
  },
  {
   "cell_type": "code",
   "execution_count": 18,
   "metadata": {},
   "outputs": [],
   "source": [
    "def startup():\n",
    "    \"\"\"Start the game\"\"\"\n",
    "    global size #globalise la vairable size\n",
    "    set_matrices_0()\n",
    "    sense.clear()\n",
    "    sense.show_message('Choose your mode:',0.1, MESSAGE)\n",
    "    modes = ['4X4', '8X8'] #Modes (messages) affichés\n",
    "    mode = [4, 8] #Les modes dans une liste\n",
    "    sleep(0.2)\n",
    "    selecting = True\n",
    "    i = 0\n",
    "    selection_startup(selecting, modes, mode, i)               \n",
    "    new_block(size)"
   ]
  },
  {
   "cell_type": "code",
   "execution_count": 46,
   "metadata": {},
   "outputs": [
    {
     "name": "stdout",
     "output_type": "stream",
     "text": [
      "<bound method SenseHat.show_message of <sense_hat.sense_hat.SenseHat object at 0x72031bb0>>\n"
     ]
    }
   ],
   "source": [
    "print(sense.show_message)"
   ]
  },
  {
   "cell_type": "markdown",
   "metadata": {},
   "source": [
    "### Matrice\n",
    "Elle definit la taille de notre jeu."
   ]
  },
  {
   "cell_type": "code",
   "execution_count": 19,
   "metadata": {},
   "outputs": [],
   "source": [
    "def set_matrices_0():\n",
    "    \"\"\"Setting matrixes\"\"\"\n",
    "    for x in range(4):\n",
    "        for y in range(4):\n",
    "            L4[x][y] = 0\n",
    "    for x in range(8):\n",
    "        for y in range(8):\n",
    "            L8[x][y] = 0"
   ]
  },
  {
   "cell_type": "markdown",
   "metadata": {},
   "source": [
    "### Sélection du mode\n",
    "Cette fonction permet la navigation dans les différents modes disponibles du jeu (4x4 ou 8x8)."
   ]
  },
  {
   "cell_type": "code",
   "execution_count": 20,
   "metadata": {},
   "outputs": [],
   "source": [
    "def selection_startup(selecting, modes, mode, i):\n",
    "    \"\"\"Navigation to select the mode\"\"\"\n",
    "    global size\n",
    "    while selecting:\n",
    "        sense.show_message(modes[i], 0.1, MESSAGE)\n",
    "        for event in sense.stick.get_events():\n",
    "            if event.action == 'pressed':\n",
    "                if event.direction == 'right' or event.direction == 'left': #Gauche et droite permettent de naviguer\n",
    "                    i = (i + 1) % 2\n",
    "                    sense.show_message(modes[i], 0.1, MESSAGE)\n",
    "                elif event.direction == 'middle': #Avec le milieu nous pouvons donc choisir le mode souhaité\n",
    "                    selecting = False\n",
    "                    size = mode[i]"
   ]
  },
  {
   "cell_type": "markdown",
   "metadata": {},
   "source": [
    "### Pixels\n",
    "On définit la partie visuelle de notre jeu."
   ]
  },
  {
   "cell_type": "code",
   "execution_count": 21,
   "metadata": {},
   "outputs": [],
   "source": [
    "def set_pixels(n):\n",
    "    if n == 4: #Si n = 4, alors le jeu est affiché en 4x4 sinon en 8x8\n",
    "        set_pixels_4()\n",
    "    else:\n",
    "        for x in range(8):\n",
    "            for y in range(8):\n",
    "                sense.set_pixel(x, y, colors[L8[x][y]])\n",
    "    \n",
    "def set_pixels_4():\n",
    "        L8_affichage = [\n",
    "                       [L4[0][0], L4[0][0], L4[0][1], L4[0][1], L4[0][2], L4[0][2], L4[0][3], L4[0][3]],\n",
    "                       [L4[0][0], L4[0][0], L4[0][1], L4[0][1], L4[0][2], L4[0][2], L4[0][3], L4[0][3]],\n",
    "                       [L4[1][0], L4[1][0], L4[1][1], L4[1][1], L4[1][2], L4[1][2], L4[1][3], L4[1][3]],\n",
    "                       [L4[1][0], L4[1][0], L4[1][1], L4[1][1], L4[1][2], L4[1][2], L4[1][3], L4[1][3]],\n",
    "                       [L4[2][0], L4[2][0], L4[2][1], L4[2][1], L4[2][2], L4[2][2], L4[2][3], L4[2][3]],\n",
    "                       [L4[2][0], L4[2][0], L4[2][1], L4[2][1], L4[2][2], L4[2][2], L4[2][3], L4[2][3]],\n",
    "                       [L4[3][0], L4[3][0], L4[3][1], L4[3][1], L4[3][2], L4[3][2], L4[3][3], L4[3][3]],\n",
    "                       [L4[3][0], L4[3][0], L4[3][1], L4[3][1], L4[3][2], L4[3][2], L4[3][3], L4[3][3]]\n",
    "                       ]\n",
    "        #En 4x4 le jeu est affiché de manière dans laquelle un pixel est représenté par 4 pixels.\n",
    "        for x in range(8):\n",
    "            for y in range(8):\n",
    "                sense.set_pixel(x,y, colors[L8_affichage[x][y]])"
   ]
  },
  {
   "cell_type": "markdown",
   "metadata": {},
   "source": [
    "### Blocks\n",
    "On regarde si on peut ajouter un ou deux blocks et s'il est possible de le faire. Car il peut exister aucune place disponible donc on appelle `control_end`"
   ]
  },
  {
   "cell_type": "code",
   "execution_count": 22,
   "metadata": {},
   "outputs": [],
   "source": [
    "def new_block(n):\n",
    "    \"\"\"Create a new block\"\"\"\n",
    "    sleep(0.25)\n",
    "    i = number_empty_block(n)\n",
    "    print (i)\n",
    "    if i > 1:\n",
    "        two_new_blocks(n)\n",
    "    elif i == 1:\n",
    "        one_new_block(n)\n",
    "    control_end(n)\n",
    "    set_pixels(n)\n",
    "    \n",
    "def number_empty_block(n):\n",
    "    \"\"\"Number of empty block\"\"\"\n",
    "    L = L4 if n == 4 else L8\n",
    "    i = 0\n",
    "    for x in range(n):\n",
    "        for y in range(n):\n",
    "            if L[x][y] == 0:\n",
    "                i = i + 1\n",
    "    return i\n",
    "\n",
    "def two_new_blocks(n):\n",
    "    \"\"\"Add two new blocks\"\"\"\n",
    "    r = randint(0,1)\n",
    "    L = L4 if n == 4 else L8\n",
    "    while r < 2: #tant qu'on en a pas créé 2\n",
    "        x = randint(0, (n - 1))# \n",
    "        y = randint(0, (n - 1))\n",
    "        # On choisis aléatoirement une ligne et une colonne\n",
    "        if L[x][y] == 0:# On controle si ce pixel est vide\n",
    "           L[x][y] = 1 # On défini un bloc de couleur correspondant au chiffre 2\n",
    "           r = r + 1# Si le bloc est créé on indente pour créé exactement 2 nouveaux pixels\n",
    "           \n",
    "def one_new_block(n):\n",
    "    \"\"\"Add only one block\"\"\"\n",
    "    r = randint(0, 1)\n",
    "    L = L4 if n == 4 else L8\n",
    "    while r < 1: #tant qu'on en a pas créé 2\n",
    "        x = randint(0, (n - 1))# \n",
    "        y = randint(0, (n - 1))# On choisis aléatoirement une ligne et une colonne\n",
    "        if L[x][y] == 0:# On controle si ce pixel est vide\n",
    "            L[x][y] = 1 # On défini un bloc de couleur correspondant au chiffre 2\n",
    "            r = r + 1"
   ]
  },
  {
   "cell_type": "markdown",
   "metadata": {},
   "source": [
    "## Joystick\n",
    "Il faut finalement définir les réactions de notre joystick afin de pouvoir intéreagir avec le jeu."
   ]
  },
  {
   "cell_type": "code",
   "execution_count": 23,
   "metadata": {},
   "outputs": [],
   "source": [
    "def moved_up(n):\n",
    "    \"\"\"Reacts to the joystick pushed up.\"\"\"\n",
    "    print(L4)\n",
    "    L = L4 if n == 4 else L8 \n",
    "    for x in range(n): \n",
    "        for y in range(n):# Sur chaque pixel en prenantles pixels en ligne puis en colonne\n",
    "            if L[x][y] > 0 and y >= 1:# On controle que le pixel ne soit pas une case vide\n",
    "                move_pixel_up(x, y, n)\n",
    "    set_pixels(n)\n",
    "    print(L4)\n",
    "    new_block(n)\n",
    "    \n",
    "def move_pixel_up(x, y, n):\n",
    "    \"\"\"Move up the pixel in the matrix\"\"\"\n",
    "    L = L4 if n == 4 else L8\n",
    "    while L[x][y - 1] == 0 and y >= 1:# Si la case est vide \n",
    "        L[x][y - 1] = L[x][y]\n",
    "        L[x][y] = 0\n",
    "        y = y - 1\n",
    "    if L[x][y - 1] == L[x][y]:\n",
    "        L[x][y - 1] = L[x][y - 1] + 1\n",
    "        L[x][y] = 0\n",
    "        \n",
    "def moved_down(n):\n",
    "    \"\"\"Reacts to the joystick pushed down.\"\"\"\n",
    "    L = L4 if n == 4 else L8\n",
    "    for x in range(n):\n",
    "        for z in range(n - 1):\n",
    "            y = n - 2 - z\n",
    "            if L[x][y] > 0 and y <= (n - 2):# On controle que le pixel ne soit pas une case vide\n",
    "                move_pixel_down(x, y, n)\n",
    "    set_pixels(n)\n",
    "    new_block(n)\n",
    "\n",
    "def move_pixel_down(x, y, n):\n",
    "    \"\"\"Move down the pixel in the matrix\"\"\"\n",
    "    L = L4 if n == 4 else L8\n",
    "    while y <= (n - 2) and L[x][y + 1] == 0:# Si la case est vide\n",
    "        L[x][y + 1] = L[x][y]\n",
    "        L[x][y] = 0\n",
    "        y = y + 1\n",
    "    if y < (n - 1) and L[x][y + 1] == L[x][y]:\n",
    "        L[x][y + 1] = L[x][y + 1] + 1\n",
    "        L[x][y] = 0\n",
    "                    \n",
    "def moved_left(n):\n",
    "    \"\"\"Reacts to the joystick pushed left.\"\"\"\n",
    "    L = L4 if n == 4 else L8\n",
    "    for y in range(n):\n",
    "        for x in range(n):\n",
    "            if L[x][y] > 0:# On controle que le pixel ne soit pas une case vide\n",
    "                move_pixel_left(x, y, n)\n",
    "    set_pixels(n)\n",
    "    new_block(n)\n",
    "\n",
    "def move_pixel_left(x, y, n):\n",
    "    \"\"\"Move left the pixel in the matrix\"\"\"\n",
    "    L = L4 if n == 4 else L8\n",
    "    while x > 0 and L[x - 1][y] == 0:# Si la case est vide \n",
    "        L[x - 1][y] = L[x][y]\n",
    "        L[x][y] = 0\n",
    "        x = x - 1\n",
    "    if L[x - 1][y] == L[x][y]:\n",
    "        L[x - 1][y] = L[x - 1][y] + 1\n",
    "        L[x][y] = 0 \n",
    "\n",
    "def moved_right(n):\n",
    "    \"\"\"Reacts to the joystick pushed right.\"\"\"\n",
    "    L = L4 if n == 4 else L8\n",
    "    for y in range(n):\n",
    "        for z in range(n - 1):\n",
    "            x = n - 2 - z\n",
    "            if L[x][y] > 0 and x < (n - 1):\n",
    "                move_pixel_right(x, y, n)\n",
    "    set_pixels(n)\n",
    "    new_block(n)\n",
    "\n",
    "def move_pixel_right(x, y, n):\n",
    "    \"\"\"Move right the pixel in the matrix\"\"\"\n",
    "    L = L4 if n == 4 else L8\n",
    "    while x < (n - 1) and L[x + 1][y] == 0:\n",
    "        L[x + 1][y] = L[x][y]\n",
    "        L[x][y] = 0\n",
    "        x = x + 1\n",
    "    if x < (n - 1) and L[x + 1][y] == L[x][y]:\n",
    "        L[x + 1][y] = L[x + 1][y] + 1\n",
    "        L[x][y] = 0"
   ]
  },
  {
   "cell_type": "markdown",
   "metadata": {},
   "source": [
    "### Contrôle\n",
    "On doit également ajouter des fonctions permettant de définir l'état du jeu. `control_end` nous dira s'il est encore possible d'ajouter des nouveaux blocks. `check_empty_cells` regardera si une cellule est libre ou non. Finalement, `check_neigbors` va définir l'état des cellules au centre et au bord du SenseHat"
   ]
  },
  {
   "cell_type": "code",
   "execution_count": 24,
   "metadata": {},
   "outputs": [],
   "source": [
    "def control_end(n):\n",
    "    \"\"\"Returns True when the game is finished.\"\"\"\n",
    "    global end\n",
    "    end = True\n",
    "    L = L4 if n == 4 else L8\n",
    "    check_empty_cells(n)\n",
    "    check_neigbors_cells_for_center(n)\n",
    "    check_neigbors_cells_for_border(n)\n",
    "    if end == True:\n",
    "        end_animation(n)\n",
    "    else:\n",
    "        control_victory(n)\n",
    "                    \n",
    "def check_empty_cells(n):\n",
    "    global end\n",
    "    \"\"\"Check if a cell is empty or not\"\"\"\n",
    "    L = L4 if n == 4 else L8\n",
    "    for x in range(n):\n",
    "        for y in range(n):\n",
    "            if L[x][y] == 0:\n",
    "                end = False\n",
    "\n",
    "def check_neigbors_cells_for_center(n):\n",
    "    global end\n",
    "    \"\"\"Check the state of neighbours cells (only cells in the center)\"\"\"\n",
    "    L = L4 if n == 4 else L8\n",
    "    if end == True:\n",
    "        for x in range(1, n - 1):\n",
    "            for y in range(1, n - 1):\n",
    "                if L[x][y] == L[x][y + 1] or L[x][y] == L[x + 1][y] \\\n",
    "                    or L[x][y] == L[x - 1][y] or L[x][y] == L[x][y - 1]:\n",
    "                    end = False\n",
    "            \n",
    "def check_neigbors_cells_for_border(n):\n",
    "    global end\n",
    "    \"\"\"Check the state of neighbours cells (only cells in the border)\"\"\"\n",
    "    L = L4 if n == 4 else L8\n",
    "    if end == True:\n",
    "        for y in range(n - 1):\n",
    "            for x in range(n - 1):\n",
    "                if L[0][x] == L[0][x + 1] or L[x][0] == L[x + 1][0] \\\n",
    "                    or L[n - 1][x] == L[n - 1][x + 1] or L[x][n - 1] == L[x + 1][n - 1]:\n",
    "                    end = False"
   ]
  },
  {
   "cell_type": "markdown",
   "metadata": {},
   "source": [
    "### Fin du jeu\n",
    "Pour conclure, on doit définir les différentes fins possibles de notre jeu.`end_nimation` s'affichera lorsque le joueur aura perdu (et le score avec). `losser_animation_part(1 ou 2)`. `score_calculator` calcule le score à montrer grâce à `show_score`. `control_victory` nous aide à voir si le 14ème bloc a été atteint. Si c'est le cas `victory` fait son apparition en montrant un message de félicitation. Et `exit` nous permet de sortir du jeu lorsqu'on le souhaite en appuyant deux fois sur le joystick direction `middle`."
   ]
  },
  {
   "cell_type": "code",
   "execution_count": 25,
   "metadata": {},
   "outputs": [],
   "source": [
    "def end_animation(n):\n",
    "    \"\"\"Show a message when the player loses the game and show the score\"\"\"\n",
    "    loser_animation_part_1(n)\n",
    "    score_calculator(n)\n",
    "    sense.show_message('You lose... Your score is:', 0.075, MESSAGE)\n",
    "    show = True\n",
    "    show_score()\n",
    "    main()\n",
    "    \n",
    "def loser_animation_part_1(n):\n",
    "    \"\"\"First animation of a game lost\"\"\"\n",
    "    set_pixels(n)\n",
    "    sleep(3)\n",
    "    r = RED_7\n",
    "    o = BLACK_0\n",
    "    sense.clear()\n",
    "    loser_animation_part_2(n)\n",
    "    \n",
    "def loser_animation_part_2(n):\n",
    "    \"\"\"Animation of a red cross when the game is over\"\"\"\n",
    "    for i in range(5):\n",
    "        sense.set_pixels(L_CROSS)\n",
    "        sleep(0.1)\n",
    "        sense.clear()\n",
    "        sleep(0.1)\n",
    "    sense.set_pixels(L_CROSS)\n",
    "    sleep(1)\n",
    "    set_pixels(n)\n",
    "    sleep(2)\n",
    "    \n",
    "def score_calculator(n):\n",
    "    \"\"\"Calculate the score shown\"\"\"\n",
    "    L = L4 if n == 4 else L8\n",
    "    score = 0\n",
    "    for x in range(n):\n",
    "        for y in range(n):\n",
    "            if L[x][y] != 0:\n",
    "                score = score + 2 ** L[x][y]\n",
    "                \n",
    "def show_score():\n",
    "    \"\"\"Show the score\"\"\"\n",
    "    while show:\n",
    "        score = str(score)\n",
    "        string = score + 'pts'\n",
    "        sense.show_message(string, 0.1, MESSAGE)\n",
    "        sense.show_message('Press to end', 0.075, MESSAGE)\n",
    "        for event in sense.stick.get_events():\n",
    "            if event.action == 'pressed':\n",
    "                show = False\n",
    "                \n",
    "def exit():\n",
    "    \"\"\"Use to exit the game\"\"\"\n",
    "    t0 = time()\n",
    "    while time() < t0 + 1:\n",
    "        for event in sense.stick.get_events():\n",
    "            if event.action == 'pressed' and event.direction == 'middle':\n",
    "                show_message = True\n",
    "                while show_message:\n",
    "                    sense.show_message('Press to return to the menu', 0.075, MESSAGE)\n",
    "                    for event in sense.stick.get_events():\n",
    "                        if event.action ==  'pressed':\n",
    "                            show_message = False\n",
    "                            main()\n",
    "                            \n",
    "def control_victory(n):\n",
    "    \"\"\"Control if the maximum is reached (14th block)\"\"\"\n",
    "    L = L4 if n == 4 else L8\n",
    "    for x in range(n):\n",
    "        for y in range(n):\n",
    "            if L[x][y] == 14:\n",
    "                sense.set_pixels(L_WIN)\n",
    "                victory(n)\n",
    "    set_pixels(n)\n",
    "    \n",
    "        \n",
    "def victory(n):\n",
    "    \"\"\"Show the message when the player wins\"\"\"\n",
    "    sleep(9)\n",
    "    score_calculator(n)\n",
    "    sense.show_message('Congratulations, you just reached the highest block. Your score is :', 0.075, MESSAGE)\n",
    "    show_score\n",
    "    main()"
   ]
  },
  {
   "cell_type": "code",
   "execution_count": null,
   "metadata": {},
   "outputs": [],
   "source": [
    "victory()"
   ]
  },
  {
   "cell_type": "markdown",
   "metadata": {},
   "source": [
    "### Assignation des commandes\n",
    "Pour finir, nous devons assigner à chaque mouvement de joystick, sa fonction correspondante."
   ]
  },
  {
   "cell_type": "code",
   "execution_count": 26,
   "metadata": {},
   "outputs": [],
   "source": [
    "def joystick_direction():\n",
    "    \"\"\"Definition of direction\"\"\"\n",
    "    if event.direction == 'up':\n",
    "        moved_up(size)\n",
    "    elif event.direction == 'down':\n",
    "        moved_down(size)\n",
    "    elif event.direction == 'right':\n",
    "        moved_right(size)\n",
    "    elif event.direction == 'left':\n",
    "        moved_left(size)\n",
    "    elif event.direction == 'middle':\n",
    "        exit()"
   ]
  },
  {
   "cell_type": "code",
   "execution_count": 1,
   "metadata": {},
   "outputs": [
    {
     "name": "stdout",
     "output_type": "stream",
     "text": [
      "/bin/sh: 1: Syntax error: \"(\" unexpected\r\n"
     ]
    }
   ],
   "source": [
    "![Screenshot du jeu](https://raw.githubusercontent.com/Bugnon/oc-2018/master/games/2048/screen.png)"
   ]
  },
  {
   "cell_type": "markdown",
   "metadata": {},
   "source": [
    "### Main menu\n",
    "Il faut finalement ajouter une dernière fonction permettant l'utilisation du jeu 2048 dans un module qui rassemble tous les jeux de la classe."
   ]
  },
  {
   "cell_type": "code",
   "execution_count": 29,
   "metadata": {},
   "outputs": [
    {
     "ename": "KeyboardInterrupt",
     "evalue": "",
     "output_type": "error",
     "traceback": [
      "\u001b[0;31m---------------------------------------------------------------------------\u001b[0m",
      "\u001b[0;31mKeyboardInterrupt\u001b[0m                         Traceback (most recent call last)",
      "\u001b[0;32m<ipython-input-29-6267819ef807>\u001b[0m in \u001b[0;36m<module>\u001b[0;34m\u001b[0m\n\u001b[1;32m     19\u001b[0m \u001b[0;34m\u001b[0m\u001b[0m\n\u001b[1;32m     20\u001b[0m \u001b[0;32mif\u001b[0m \u001b[0m__name__\u001b[0m \u001b[0;34m==\u001b[0m \u001b[0;34m'__main__'\u001b[0m\u001b[0;34m:\u001b[0m\u001b[0;34m\u001b[0m\u001b[0m\n\u001b[0;32m---> 21\u001b[0;31m     \u001b[0mmain\u001b[0m\u001b[0;34m(\u001b[0m\u001b[0;34m)\u001b[0m\u001b[0;34m\u001b[0m\u001b[0m\n\u001b[0m",
      "\u001b[0;32m<ipython-input-29-6267819ef807>\u001b[0m in \u001b[0;36mmain\u001b[0;34m()\u001b[0m\n\u001b[1;32m      1\u001b[0m \u001b[0;32mdef\u001b[0m \u001b[0mmain\u001b[0m\u001b[0;34m(\u001b[0m\u001b[0;34m)\u001b[0m\u001b[0;34m:\u001b[0m\u001b[0;34m\u001b[0m\u001b[0m\n\u001b[1;32m      2\u001b[0m     \u001b[0;34m\"\"\"Main menu\"\"\"\u001b[0m\u001b[0;34m\u001b[0m\u001b[0m\n\u001b[0;32m----> 3\u001b[0;31m     \u001b[0mstartup\u001b[0m\u001b[0;34m(\u001b[0m\u001b[0;34m)\u001b[0m\u001b[0;34m\u001b[0m\u001b[0m\n\u001b[0m\u001b[1;32m      4\u001b[0m     \u001b[0mrunning\u001b[0m \u001b[0;34m=\u001b[0m \u001b[0;32mTrue\u001b[0m\u001b[0;34m\u001b[0m\u001b[0m\n\u001b[1;32m      5\u001b[0m     \u001b[0;32mwhile\u001b[0m \u001b[0mrunning\u001b[0m\u001b[0;34m:\u001b[0m\u001b[0;34m\u001b[0m\u001b[0m\n",
      "\u001b[0;32m<ipython-input-18-f7cfc34ad717>\u001b[0m in \u001b[0;36mstartup\u001b[0;34m()\u001b[0m\n\u001b[1;32m     10\u001b[0m     \u001b[0mselecting\u001b[0m \u001b[0;34m=\u001b[0m \u001b[0;32mTrue\u001b[0m\u001b[0;34m\u001b[0m\u001b[0m\n\u001b[1;32m     11\u001b[0m     \u001b[0mi\u001b[0m \u001b[0;34m=\u001b[0m \u001b[0;36m0\u001b[0m\u001b[0;34m\u001b[0m\u001b[0m\n\u001b[0;32m---> 12\u001b[0;31m     \u001b[0mselection_startup\u001b[0m\u001b[0;34m(\u001b[0m\u001b[0mselecting\u001b[0m\u001b[0;34m,\u001b[0m \u001b[0mmodes\u001b[0m\u001b[0;34m,\u001b[0m \u001b[0mmode\u001b[0m\u001b[0;34m,\u001b[0m \u001b[0mi\u001b[0m\u001b[0;34m)\u001b[0m\u001b[0;34m\u001b[0m\u001b[0m\n\u001b[0m\u001b[1;32m     13\u001b[0m     \u001b[0mnew_block\u001b[0m\u001b[0;34m(\u001b[0m\u001b[0msize\u001b[0m\u001b[0;34m)\u001b[0m\u001b[0;34m\u001b[0m\u001b[0m\n",
      "\u001b[0;32m<ipython-input-20-591ae463c5f4>\u001b[0m in \u001b[0;36mselection_startup\u001b[0;34m(selecting, modes, mode, i)\u001b[0m\n\u001b[1;32m      3\u001b[0m     \u001b[0;32mglobal\u001b[0m \u001b[0msize\u001b[0m\u001b[0;34m\u001b[0m\u001b[0m\n\u001b[1;32m      4\u001b[0m     \u001b[0;32mwhile\u001b[0m \u001b[0mselecting\u001b[0m\u001b[0;34m:\u001b[0m\u001b[0;34m\u001b[0m\u001b[0m\n\u001b[0;32m----> 5\u001b[0;31m         \u001b[0msense\u001b[0m\u001b[0;34m.\u001b[0m\u001b[0mshow_message\u001b[0m\u001b[0;34m(\u001b[0m\u001b[0mmodes\u001b[0m\u001b[0;34m[\u001b[0m\u001b[0mi\u001b[0m\u001b[0;34m]\u001b[0m\u001b[0;34m,\u001b[0m \u001b[0;36m0.1\u001b[0m\u001b[0;34m,\u001b[0m \u001b[0mMESSAGE\u001b[0m\u001b[0;34m)\u001b[0m\u001b[0;34m\u001b[0m\u001b[0m\n\u001b[0m\u001b[1;32m      6\u001b[0m         \u001b[0;32mfor\u001b[0m \u001b[0mevent\u001b[0m \u001b[0;32min\u001b[0m \u001b[0msense\u001b[0m\u001b[0;34m.\u001b[0m\u001b[0mstick\u001b[0m\u001b[0;34m.\u001b[0m\u001b[0mget_events\u001b[0m\u001b[0;34m(\u001b[0m\u001b[0;34m)\u001b[0m\u001b[0;34m:\u001b[0m\u001b[0;34m\u001b[0m\u001b[0m\n\u001b[1;32m      7\u001b[0m             \u001b[0;32mif\u001b[0m \u001b[0mevent\u001b[0m\u001b[0;34m.\u001b[0m\u001b[0maction\u001b[0m \u001b[0;34m==\u001b[0m \u001b[0;34m'pressed'\u001b[0m\u001b[0;34m:\u001b[0m\u001b[0;34m\u001b[0m\u001b[0m\n",
      "\u001b[0;32m/usr/lib/python3/dist-packages/sense_hat/sense_hat.py\u001b[0m in \u001b[0;36mshow_message\u001b[0;34m(self, text_string, scroll_speed, text_colour, back_colour)\u001b[0m\n\u001b[1;32m    463\u001b[0m             \u001b[0mend\u001b[0m \u001b[0;34m=\u001b[0m \u001b[0mstart\u001b[0m \u001b[0;34m+\u001b[0m \u001b[0;36m64\u001b[0m\u001b[0;34m\u001b[0m\u001b[0m\n\u001b[1;32m    464\u001b[0m             \u001b[0mself\u001b[0m\u001b[0;34m.\u001b[0m\u001b[0mset_pixels\u001b[0m\u001b[0;34m(\u001b[0m\u001b[0mcoloured_pixels\u001b[0m\u001b[0;34m[\u001b[0m\u001b[0mstart\u001b[0m\u001b[0;34m:\u001b[0m\u001b[0mend\u001b[0m\u001b[0;34m]\u001b[0m\u001b[0;34m)\u001b[0m\u001b[0;34m\u001b[0m\u001b[0m\n\u001b[0;32m--> 465\u001b[0;31m             \u001b[0mtime\u001b[0m\u001b[0;34m.\u001b[0m\u001b[0msleep\u001b[0m\u001b[0;34m(\u001b[0m\u001b[0mscroll_speed\u001b[0m\u001b[0;34m)\u001b[0m\u001b[0;34m\u001b[0m\u001b[0m\n\u001b[0m\u001b[1;32m    466\u001b[0m         \u001b[0mself\u001b[0m\u001b[0;34m.\u001b[0m\u001b[0m_rotation\u001b[0m \u001b[0;34m=\u001b[0m \u001b[0mprevious_rotation\u001b[0m\u001b[0;34m\u001b[0m\u001b[0m\n\u001b[1;32m    467\u001b[0m \u001b[0;34m\u001b[0m\u001b[0m\n",
      "\u001b[0;31mKeyboardInterrupt\u001b[0m: "
     ]
    }
   ],
   "source": [
    "def main():\n",
    "    \"\"\"Main menu\"\"\"\n",
    "    startup()\n",
    "    running = True\n",
    "    while running:\n",
    "        for event in sense.stick.get_events():\n",
    "            if event.action == 'pressed':\n",
    "                if event.direction == 'up':\n",
    "                    moved_up(size)\n",
    "                elif event.direction == 'down':\n",
    "                    moved_down(size)\n",
    "                elif event.direction == 'right':\n",
    "                    moved_right(size)\n",
    "                elif event.direction == 'left':\n",
    "                    moved_left(size)\n",
    "                elif event.direction == 'middle':\n",
    "                    exit()\n",
    "\n",
    "\n",
    "if __name__ == '__main__':\n",
    "    main()"
   ]
  },
  {
   "cell_type": "code",
   "execution_count": null,
   "metadata": {},
   "outputs": [],
   "source": []
  }
 ],
 "metadata": {
  "kernelspec": {
   "display_name": "Python 3",
   "language": "python",
   "name": "python3"
  },
  "language_info": {
   "codemirror_mode": {
    "name": "ipython",
    "version": 3
   },
   "file_extension": ".py",
   "mimetype": "text/x-python",
   "name": "python",
   "nbconvert_exporter": "python",
   "pygments_lexer": "ipython3",
   "version": "3.5.3"
  }
 },
 "nbformat": 4,
 "nbformat_minor": 2
}
