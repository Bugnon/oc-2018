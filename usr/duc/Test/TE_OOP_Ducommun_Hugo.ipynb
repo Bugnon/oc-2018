{
 "cells": [
  {
   "cell_type": "markdown",
   "metadata": {},
   "source": [
    "# TE Object-Oriented Programming (OOP)"
   ]
  },
  {
   "cell_type": "markdown",
   "metadata": {},
   "source": [
    "Traivail écrit sur Object-Oriented Programming (OOP)\n",
    "* Nom: Ducommun\n",
    "* Prénom: Hugo\n",
    "* Classe: OC informatique\n",
    "* Date: 14 mai 2019"
   ]
  },
  {
   "cell_type": "markdown",
   "metadata": {},
   "source": [
    "# Variables de classe, Variables d'instance"
   ]
  },
  {
   "cell_type": "markdown",
   "metadata": {},
   "source": [
    "Complétez la definition de la classe __Humain__ avec les méthodes:\n",
    "* __init()__\n",
    "* __str()__\n",
    "* __imc()__ (indice de masse corporelle)\n",
    "* __corpulence()__\n",
    "\n",
    "Dans votre calcul vous devez utiliser \n",
    "* les 3 __variables de classe__ (genres, interpretations, limites)  et \n",
    "* les 4 __variables d'instance__ (nom, poids, taille, genre)"
   ]
  },
  {
   "cell_type": "code",
   "execution_count": 47,
   "metadata": {},
   "outputs": [],
   "source": [
    "class Humain():\n",
    "    '''Décrit un humain avec nom, taille, poids, et genre (m/f).'''\n",
    "    \n",
    "    genres = ('homme', 'femme')\n",
    "    interpretations = ('anorexique', 'maigre', 'normal', 'obèse')\n",
    "    limites = [16.5, 18.5, 25, 100]\n",
    "    \n",
    "    def __init__(self, nom, poids, taille, genre):\n",
    "        \"\"\"Definit une instance de la classe Humain.\"\"\"\n",
    "        self.nom = nom\n",
    "        self.poids = poids\n",
    "        self.taille = taille\n",
    "        self.genre = Humain.genres[genre]\n",
    "        \n",
    "    def __str__(self):\n",
    "        \"\"\"Retourne une description de l'instance.\"\"\"\n",
    "        return self.nom + ' : ' + self.genre + ' de ' + str(self.poids) + ' kg et de taille ' + \\\n",
    "                str(self.taille) + ' m'\n",
    "    \n",
    "    def imc(self):\n",
    "        \"\"\"Calcule l'indice de masse corporelle (poids_kg/taille_m**2)\"\"\"\n",
    "        self.imc = self.poids / self.taille**2\n",
    "        return self.imc\n",
    "        \n",
    "    def corpulence(self):\n",
    "        \"\"\"Evalue la corpulence: anorexique <16.5, maigre <18.5, normale <25, obèse\"\"\"\n",
    "        for i in range(4):\n",
    "            limit = Humain.limites[i]\n",
    "            label = Humain.interpretations[i]\n",
    "            if self.imc < limit:\n",
    "                return label"
   ]
  },
  {
   "cell_type": "code",
   "execution_count": 59,
   "metadata": {},
   "outputs": [
    {
     "name": "stdout",
     "output_type": "stream",
     "text": [
      "{'nom': 'Massimo', 'poids': 86, 'taille': 1.87, 'genre': 'homme'}\n",
      "Massimo : homme de 86 kg et de taille 1.87 m\n",
      "24.59321112985787\n",
      "normal\n"
     ]
    }
   ],
   "source": [
    "h = Humain('Massimo', poids=86, taille=1.87, genre=0)\n",
    "print(vars(h))\n",
    "print(h)\n",
    "print(h.imc())\n",
    "print(h.corpulence())"
   ]
  },
  {
   "cell_type": "markdown",
   "metadata": {},
   "source": [
    "Exemples"
   ]
  },
  {
   "cell_type": "code",
   "execution_count": 49,
   "metadata": {},
   "outputs": [
    {
     "name": "stdout",
     "output_type": "stream",
     "text": [
      "Steve : Steve : homme de 150 kg et de taille 1.75 m\n",
      "Cindy : Cindy : femme de 50 kg et de taille 1.8 m\n",
      "Billy : Billy : femme de 75 kg et de taille 1.75 m\n",
      "\n",
      "Steve imc = 48.97959183673469 obèse\n",
      "Cindy imc = 15.432098765432098 anorexique\n",
      "Billy imc = 24.489795918367346 normal\n"
     ]
    }
   ],
   "source": [
    "steve = Humain('Steve', 150, 1.75, 0)\n",
    "cindy = Humain('Cindy', 50, 1.80, 1)\n",
    "billy = Humain('Billy', 75, 1.75, 1)\n",
    "\n",
    "print(steve.nom, \":\", steve)\n",
    "print(cindy.nom, \":\", cindy)\n",
    "print(billy.nom, \":\", billy)\n",
    "print()\n",
    "print(steve.nom, \"imc =\", steve.imc(), steve.corpulence())\n",
    "print(cindy.nom, \"imc =\", cindy.imc(), cindy.corpulence())\n",
    "print(billy.nom, \"imc =\", billy.imc(), billy.corpulence())"
   ]
  },
  {
   "cell_type": "markdown",
   "metadata": {},
   "source": [
    "# Méthodes spéciales de comparaison"
   ]
  },
  {
   "cell_type": "markdown",
   "metadata": {},
   "source": [
    "Créez des définitions pour\n",
    "* une classe __Vec3__,\n",
    "* une méthode pour imprimer `__str__(self)`\n",
    "* une méthode __norm()__ pour calculer longeur\n",
    "* six méthodes speciales de comparaison (<, <=,  ==, !=, >=, >)\n",
    "\n",
    "Qui permet d'obtenir les résultats ci-dessous"
   ]
  },
  {
   "cell_type": "code",
   "execution_count": 1,
   "metadata": {},
   "outputs": [],
   "source": [
    "import math\n",
    "\n",
    "class Vec3():\n",
    "    def __init__(self, x=0, y=0, z=0):\n",
    "        \"\"\"Initialise un vecteur avec les 3 composantes (x, y, z).\"\"\"\n",
    "        self.x = x\n",
    "        self.y = y\n",
    "        self.z = z\n",
    "        \n",
    "    def __str__(self):\n",
    "        \"\"\"Retourne une represation sous forme 'Vec3(x, y, z)'\"\"\"\n",
    "        return 'Vec3({}, {}, {})'.format(self.x, self.y, self.z)\n",
    "    \n",
    "    def norm(self):\n",
    "        \"\"\"Calcule la norme (la longueur) du vecteur.\"\"\"\n",
    "        return math.sqrt(self.x**2 + self.y **2 + self.z**2)\n",
    "        \n",
    "    def __lt__(self, other):\n",
    "        return self.norm() < other.norm()\n",
    "\n",
    "    def __le__(self, other):\n",
    "        return self.norm() <= other.norm()\n",
    "\n",
    "    def __eq__(self, other):\n",
    "        return self.norm() == other.norm()\n",
    "\n",
    "    def __ne__(self, other):\n",
    "        return self.norm() != other.norm()\n",
    "\n",
    "    def __ge__(self, other):\n",
    "        return self.norm() >= other.norm()\n",
    "\n",
    "    def __gt__(self, other):\n",
    "        return self.norm() > other.norm()"
   ]
  },
  {
   "cell_type": "code",
   "execution_count": 2,
   "metadata": {},
   "outputs": [
    {
     "name": "stdout",
     "output_type": "stream",
     "text": [
      "Vec3(0, 0, 0)\n",
      "{'y': 2, 'x': 1, 'z': 3}\n",
      "Vec3(1, 2, 3)\n",
      "3.74165738677\n"
     ]
    }
   ],
   "source": [
    "v0 = Vec3()\n",
    "print(v0)\n",
    "v1 = Vec3(1, 2, 3)\n",
    "print(vars(v1))\n",
    "print(v1)\n",
    "print(v1.norm())"
   ]
  },
  {
   "cell_type": "markdown",
   "metadata": {},
   "source": [
    "Exemple"
   ]
  },
  {
   "cell_type": "code",
   "execution_count": 3,
   "metadata": {},
   "outputs": [
    {
     "name": "stdout",
     "output_type": "stream",
     "text": [
      "(<__main__.Vec3 instance at 0x0000000004AD2508>, <__main__.Vec3 instance at 0x0000000004AD2088>)\n",
      "(1.7320508075688772, 2.449489742783178)\n",
      "(True, True, False, True, False, False)\n"
     ]
    }
   ],
   "source": [
    "a = Vec3(1, 1 ,1)\n",
    "b = Vec3(1, -1, 2)\n",
    "print(a, b)\n",
    "print(a.norm(), b.norm())\n",
    "print(a<b, a<=b, a==b, a!=b, a>=b, a>b)"
   ]
  },
  {
   "cell_type": "code",
   "execution_count": 4,
   "metadata": {},
   "outputs": [
    {
     "name": "stdout",
     "output_type": "stream",
     "text": [
      "(<__main__.Vec3 instance at 0x0000000004AD2808>, <__main__.Vec3 instance at 0x0000000004AD2E88>)\n",
      "(1.7320508075688772, 2.449489742783178)\n",
      "(True, True, False, True, False, False)\n"
     ]
    }
   ],
   "source": [
    "a = Vec3(1, 1 ,1)\n",
    "b = Vec3(1, -1, 2)\n",
    "print(a, b)\n",
    "print(a.norm(), b.norm())\n",
    "print(a<b, a<=b, a==b, a!=b, a>=b, a>b)"
   ]
  },
  {
   "cell_type": "markdown",
   "metadata": {},
   "source": [
    "# Héritage"
   ]
  },
  {
   "cell_type": "markdown",
   "metadata": {},
   "source": [
    "Definissez\n",
    "* une class __Polygon__\n",
    "* une variable de classe __names__ avec la valeur ('triangle', 'rectangle', 'pentagon', 'hexagon')\n",
    "* une méthode `__init__(self, n, s)` qui initialise le polygone\n",
    "* une méthode __str()__ qui affiche le mot _triangle, rectangle, pentagon, hexagon_ si n<=6\n",
    "* une méthode __perimeter()__ qui calcule le périmètre (n * s)\n",
    "* une méthode __angle()__ qui calcule l'angle interne (180-360/n)\n",
    "* des sous-classes __Triangle__, __Square__, __Pentagon__, basées sur __Polygon__\n",
    "* qui utilisent la méthode `super().__init__(n, s)` pour accéder a une méthode de la classe parent\n",
    "\n",
    "Qui affiche les valeurs ci-dessous"
   ]
  },
  {
   "cell_type": "code",
   "execution_count": 123,
   "metadata": {},
   "outputs": [],
   "source": [
    "class Polygon():\n",
    "    names = ('triangle', 'rectangle', 'pentagon', 'hexagon')\n",
    "    \n",
    "    def __init__(self, n=3, s=1):\n",
    "        '''Regular polygon with n sides of length s.'''\n",
    "        self.n = n\n",
    "        self.s = s\n",
    "\n",
    "    def __str__(self):\n",
    "        if self.n <= 6:\n",
    "            return Polygon.names[self.n - 3]\n",
    "        else:\n",
    "            return 'polygon with ' + str(self.n) + 'sides'\n",
    "\n",
    "    def perimeter(self):\n",
    "        '''Return perimeter.'''\n",
    "        return self.n * self.s\n",
    "\n",
    "    def angle(self):\n",
    "        '''Return interior angle.'''\n",
    "        return 180-360/self.n\n",
    "\n",
    "class Triangle(Polygon):\n",
    "    def __init__(self, s=1):\n",
    "        super(Triangle, self).__init__(3, s)\n",
    "\n",
    "class Square(Polygon):\n",
    "    def __init__(self, s=1):\n",
    "        super(Square, self).__init__(4, s)\n",
    "\n",
    "class Pentagon(Polygon):\n",
    "    def __init__(self, s=1):\n",
    "        super(Pentagon, self).__init__(5, s)"
   ]
  },
  {
   "cell_type": "code",
   "execution_count": 124,
   "metadata": {},
   "outputs": [
    {
     "name": "stdout",
     "output_type": "stream",
     "text": [
      "{'n': 3, 's': 10}\n",
      "triangle - 30 - 60.0\n",
      "triangle triangle rectangle pentagon\n"
     ]
    }
   ],
   "source": [
    "p = Polygon(n=3, s=10)\n",
    "print(vars(p))\n",
    "print(p, p.perimeter(), p.angle(), sep=' - ')\n",
    "\n",
    "t = Triangle(10)\n",
    "s = Square(10)\n",
    "pent = Pentagon(10)\n",
    "print(p, t, s, pent)"
   ]
  },
  {
   "cell_type": "markdown",
   "metadata": {},
   "source": [
    "Exemples"
   ]
  },
  {
   "cell_type": "code",
   "execution_count": 13,
   "metadata": {},
   "outputs": [
    {
     "name": "stdout",
     "output_type": "stream",
     "text": [
      "name           side      perimeter      angle\n",
      "triangle       3         9              60.0\n",
      "rectangle      2         8              90.0\n",
      "pentagon       1         5              108.0\n"
     ]
    }
   ],
   "source": [
    "print('{:15}{:10}{:15}{}'.format('name', 'side', 'perimeter', 'angle'))\n",
    "for p in (Triangle(3), Square(2), Pentagon(1)):\n",
    "    print('{:15}{:<10}{:<15}{}'.format(str(p), p.s, p.perimeter(), p.angle()))"
   ]
  },
  {
   "cell_type": "code",
   "execution_count": 125,
   "metadata": {},
   "outputs": [
    {
     "name": "stdout",
     "output_type": "stream",
     "text": [
      "name           side      perimeter      angle\n",
      "triangle       3         9              60.0\n",
      "rectangle      2         8              90.0\n",
      "pentagon       1         5              108.0\n"
     ]
    }
   ],
   "source": [
    "print('{:15}{:10}{:15}{}'.format('name', 'side', 'perimeter', 'angle'))\n",
    "for p in (Triangle(3), Square(2), Pentagon(1)):\n",
    "    print('{:15}{:<10}{:<15}{}'.format(str(p), p.s, p.perimeter(), p.angle()))"
   ]
  },
  {
   "cell_type": "markdown",
   "metadata": {},
   "source": [
    "# Code Morse"
   ]
  },
  {
   "cell_type": "markdown",
   "metadata": {},
   "source": [
    "Définissez les 2 méthodes:\n",
    "* toMorse(self)\n",
    "* fromMorse(self)"
   ]
  },
  {
   "cell_type": "code",
   "execution_count": 6,
   "metadata": {},
   "outputs": [],
   "source": [
    "class Morse(str):\n",
    "    codes = {' ':'.......', 'a':'.-', 'b':'-...', 'c':'-.-.', 'd':'-..', 'e':'.', 'f':'..-.', 'g':'--.', 'h':'....', \n",
    "         'i':'..', 'j':'.---', 'k':'-.-', 'l':'.-..', 'm':'--', 'n':'-.', 'o':'---', 'p':'.--.', 'q':'--.-', \n",
    "         'r':'.-.', 's':'...', 't':'-', 'u':'..-', 'v':'...-', 'w':'.--', 'x':'-..-', 'y':'-.--', 'z':'--..'}\n",
    "    \n",
    "    inv_codes = {'....':'h', '.':'e', '.-..':'l', '---':'o'}\n",
    "    #inv_codes = {m: c for c, m in Morse.codes.items()}\n",
    "    \n",
    "    def __init__(self, msg):\n",
    "        self.msg = msg\n",
    "\n",
    "    def toMorse(self):\n",
    "        \"\"\"Transforme une chaine de caractères en code Morse\"\"\"\n",
    "        res = ''\n",
    "        for c in self.msg:\n",
    "            c = c.lower()\n",
    "            m = Morse.codes[c]\n",
    "            #print(c, m)\n",
    "            res += m + ' '\n",
    "        return res\n",
    "    \n",
    "    def fromMorse(self):\n",
    "        \"\"\"Transforme un code Morse en chaine de caractères\"\"\"\n",
    "        res = ''\n",
    "        mes = self.msg.split(' ')\n",
    "        for c in mes:\n",
    "            m = Morse.inv_codes[c]\n",
    "            table = '{:8} {}'.format(c, m)\n",
    "            print(table)\n",
    "            res += m\n",
    "        return res"
   ]
  },
  {
   "cell_type": "code",
   "execution_count": 7,
   "metadata": {},
   "outputs": [
    {
     "data": {
      "text/plain": [
       "'--- -.-. ....... .. -. ..-. --- '"
      ]
     },
     "execution_count": 7,
     "metadata": {},
     "output_type": "execute_result"
    }
   ],
   "source": [
    "Morse('OC info').toMorse()"
   ]
  },
  {
   "cell_type": "markdown",
   "metadata": {},
   "source": [
    "Exemples"
   ]
  },
  {
   "cell_type": "code",
   "execution_count": 8,
   "metadata": {},
   "outputs": [
    {
     "name": "stdout",
     "output_type": "stream",
     "text": [
      "SOS\n",
      "... --- ... \n"
     ]
    }
   ],
   "source": [
    "s = Morse('SOS')\n",
    "print(s)\n",
    "print(s.toMorse())"
   ]
  },
  {
   "cell_type": "code",
   "execution_count": 9,
   "metadata": {},
   "outputs": [
    {
     "name": "stdout",
     "output_type": "stream",
     "text": [
      "SOS\n",
      "... --- ... \n"
     ]
    }
   ],
   "source": [
    "s = Morse('SOS')\n",
    "print(s)\n",
    "print(s.toMorse())"
   ]
  },
  {
   "cell_type": "code",
   "execution_count": 10,
   "metadata": {},
   "outputs": [
    {
     "name": "stdout",
     "output_type": "stream",
     "text": [
      "hello\n",
      ".... . .-.. .-.. --- \n"
     ]
    }
   ],
   "source": [
    "h = Morse('hello')\n",
    "print(h)\n",
    "print(h.toMorse())"
   ]
  },
  {
   "cell_type": "code",
   "execution_count": 11,
   "metadata": {},
   "outputs": [
    {
     "name": "stdout",
     "output_type": "stream",
     "text": [
      "hello\n",
      ".... . .-.. .-.. --- \n",
      "....     h\n",
      ".        e\n",
      ".-..     l\n",
      ".-..     l\n",
      "---      o\n",
      "hello\n"
     ]
    }
   ],
   "source": [
    "h = Morse('hello')\n",
    "h2 = Morse('.... . .-.. .-.. ---')\n",
    "print(h)\n",
    "print(h.toMorse())\n",
    "print(h2.fromMorse())"
   ]
  },
  {
   "cell_type": "code",
   "execution_count": 111,
   "metadata": {},
   "outputs": [
    {
     "name": "stdout",
     "output_type": "stream",
     "text": [
      "hello\n"
     ]
    }
   ],
   "source": [
    "print(Morse('.... . .-.. .-.. ---').fromMorse())"
   ]
  },
  {
   "cell_type": "code",
   "execution_count": 177,
   "metadata": {},
   "outputs": [
    {
     "name": "stdout",
     "output_type": "stream",
     "text": [
      "....     h\n",
      ".        e\n",
      ".-..     l\n",
      ".-..     l\n",
      "---      o\n",
      "hello\n"
     ]
    }
   ],
   "source": [
    "print(Morse('.... . .-.. .-.. ---').fromMorse())"
   ]
  },
  {
   "cell_type": "markdown",
   "metadata": {},
   "source": [
    "# Extension d'un module"
   ]
  },
  {
   "cell_type": "markdown",
   "metadata": {},
   "source": [
    "Une classe peut étendre un module existant. \n",
    "\n",
    "Créez une nouvelle classe __FrenchDate__ basé sur _datetime.date_ qui redefinit la fonction `__str__(self)` pour imprimer une date avec le mois écrit en lettres en français."
   ]
  },
  {
   "cell_type": "code",
   "execution_count": 208,
   "metadata": {},
   "outputs": [],
   "source": [
    "import datetime\n",
    "\n",
    "class FrenchDate(datetime.date):\n",
    "    months = ('janvier', 'février', 'mars', 'avril', 'mai', 'juin', \n",
    "              'juillet', 'aout', 'septembre', 'octobre', 'novembre', 'décembre')\n",
    "    \n",
    "    def __str__(self):\n",
    "        return str(self.day) + ' ' + FrenchDate.months[self.month-1] + ' ' + str(self.year)"
   ]
  },
  {
   "cell_type": "code",
   "execution_count": 209,
   "metadata": {},
   "outputs": [
    {
     "name": "stdout",
     "output_type": "stream",
     "text": [
      "2019-05-14\n",
      "14 mai 2019\n"
     ]
    }
   ],
   "source": [
    "import datetime\n",
    "\n",
    "d = datetime.date(2019, 5, 14)\n",
    "fd = FrenchDate(2019, 5, 14)\n",
    "print(d)\n",
    "print(fd)"
   ]
  },
  {
   "cell_type": "markdown",
   "metadata": {},
   "source": [
    "Exemple"
   ]
  },
  {
   "cell_type": "code",
   "execution_count": 121,
   "metadata": {},
   "outputs": [
    {
     "name": "stdout",
     "output_type": "stream",
     "text": [
      "23 mai 1999\n"
     ]
    }
   ],
   "source": [
    "fd = FrenchDate(1999, 5, 23)\n",
    "print(fd)"
   ]
  },
  {
   "cell_type": "markdown",
   "metadata": {},
   "source": [
    "Créez une nouvelle classe __JapaneseDate__ basé sur _datetime.date_ qui imprime une date sous deux formes:\n",
    "* avec des symboles japonaises : 2000年2月23日 (vous pouvez copier-coller ces caractères)\n",
    "* en phonétique (romaji) : 2000-nen-2-gatsu-23-nichi"
   ]
  },
  {
   "cell_type": "code",
   "execution_count": 210,
   "metadata": {},
   "outputs": [],
   "source": [
    "class JapaneseDate(datetime.date):\n",
    "    def __str__(self):\n",
    "        return '{}年{}月{}日'.format(self.year, self.month, self.day)\n",
    "    \n",
    "    def romaji(self):\n",
    "        return '{}-nen-{}-gatsu-{}-nichi'.format(self.year, self.month, self.day)"
   ]
  },
  {
   "cell_type": "markdown",
   "metadata": {},
   "source": [
    "Exemple"
   ]
  },
  {
   "cell_type": "code",
   "execution_count": 123,
   "metadata": {},
   "outputs": [
    {
     "name": "stdout",
     "output_type": "stream",
     "text": [
      "2000年2月23日\n",
      "2000-nen-2-gatsu-23-nichi\n"
     ]
    }
   ],
   "source": [
    "jd = JapaneseDate(2000, 2, 23)\n",
    "print(jd)\n",
    "print(jd.romaji())"
   ]
  },
  {
   "cell_type": "code",
   "execution_count": 212,
   "metadata": {},
   "outputs": [
    {
     "name": "stdout",
     "output_type": "stream",
     "text": [
      "2000年2月23日\n",
      "2000-nen-2-gatsu-23-nichi\n"
     ]
    }
   ],
   "source": [
    "jd = JapaneseDate(2000, 2, 23)\n",
    "print(jd)\n",
    "print(jd.romaji())"
   ]
  }
 ],
 "metadata": {
  "kernelspec": {
   "display_name": "Python 2",
   "language": "python",
   "name": "python2"
  },
  "language_info": {
   "codemirror_mode": {
    "name": "ipython",
    "version": 2
   },
   "file_extension": ".py",
   "mimetype": "text/x-python",
   "name": "python",
   "nbconvert_exporter": "python",
   "pygments_lexer": "ipython2",
   "version": "2.7.16"
  }
 },
 "nbformat": 4,
 "nbformat_minor": 2
}
