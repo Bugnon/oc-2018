{
 "cells": [
  {
   "cell_type": "markdown",
   "metadata": {},
   "source": [
    "# Pyglet"
   ]
  },
  {
   "cell_type": "markdown",
   "metadata": {},
   "source": [
    "Pyglet est une bibliothèque Python pour créer des applications multimédia comme des jeux.\n",
    "\n",
    "Tout d'abord il faut installer le module pyglet, en utilisant le pip (géstionnaire de packets). Si l'installation est nécessaire, enlevez le commentaire et executez la commande suivante."
   ]
  },
  {
   "cell_type": "code",
   "execution_count": 3,
   "metadata": {},
   "outputs": [],
   "source": [
    "# !pip install pyglet"
   ]
  },
  {
   "cell_type": "markdown",
   "metadata": {},
   "source": [
    "Maintenant c'est possible d'importer pyglet."
   ]
  },
  {
   "cell_type": "code",
   "execution_count": 2,
   "metadata": {},
   "outputs": [],
   "source": [
    "import pyglet"
   ]
  },
  {
   "cell_type": "code",
   "execution_count": 14,
   "metadata": {},
   "outputs": [],
   "source": [
    "# help(pyglet)"
   ]
  },
  {
   "cell_type": "markdown",
   "metadata": {},
   "source": [
    "## Create a window\n",
    "Suivez le tutorial ici:\n",
    "https://pyglet.readthedocs.io/en/pyglet-1.3-maintenance/programming_guide/quickstart.html"
   ]
  },
  {
   "cell_type": "code",
   "execution_count": 19,
   "metadata": {},
   "outputs": [],
   "source": [
    "win = pyglet.window.Window(width=400, height=300)\n",
    "\n",
    "@win.event\n",
    "def on_draw():\n",
    "    win.clear()\n",
    "    \n",
    "pyglet.app.run()"
   ]
  },
  {
   "cell_type": "markdown",
   "metadata": {},
   "source": [
    "## Display text"
   ]
  },
  {
   "cell_type": "code",
   "execution_count": 7,
   "metadata": {},
   "outputs": [],
   "source": [
    "window = pyglet.window.Window()\n",
    "label = pyglet.text.Label('Hello world', font_size=48, x=20, y=20)\n",
    "\n",
    "@window.event\n",
    "def on_draw():\n",
    "    window.clear()\n",
    "    label.draw()\n",
    "    \n",
    "pyglet.app.run()"
   ]
  },
  {
   "cell_type": "markdown",
   "metadata": {},
   "source": [
    "## Display an image"
   ]
  },
  {
   "cell_type": "code",
   "execution_count": 8,
   "metadata": {},
   "outputs": [],
   "source": [
    "window = pyglet.window.Window()\n",
    "image = pyglet.resource.image('kitten.png')\n",
    "\n",
    "@window.event\n",
    "def on_draw():\n",
    "    window.clear()\n",
    "    image.blit(0, 0)\n",
    "\n",
    "pyglet.app.run()"
   ]
  },
  {
   "cell_type": "markdown",
   "metadata": {},
   "source": [
    "## Handling a keyboard event"
   ]
  },
  {
   "cell_type": "code",
   "execution_count": 9,
   "metadata": {},
   "outputs": [
    {
     "name": "stdout",
     "output_type": "stream",
     "text": [
      "A key was pressed\n",
      "A key was pressed\n",
      "A key was pressed\n",
      "A key was pressed\n",
      "A key was pressed\n"
     ]
    }
   ],
   "source": [
    "window = pyglet.window.Window()\n",
    "\n",
    "@window.event\n",
    "def on_key_press(symbol, modifiers):\n",
    "    print('A key was pressed')\n",
    "\n",
    "@window.event\n",
    "def on_draw():\n",
    "    window.clear()\n",
    "\n",
    "pyglet.app.run()"
   ]
  },
  {
   "cell_type": "code",
   "execution_count": 9,
   "metadata": {},
   "outputs": [
    {
     "name": "stdout",
     "output_type": "stream",
     "text": [
      "The enter key was pressed.\n",
      "The left arrow key was pressed.\n",
      "The left arrow key was pressed.\n",
      "The left arrow key was pressed.\n",
      "The left arrow key was pressed.\n",
      "The enter key was pressed.\n",
      "The enter key was pressed.\n",
      "The enter key was pressed.\n",
      "The enter key was pressed.\n"
     ]
    }
   ],
   "source": [
    "window = pyglet.window.Window()\n",
    "from pyglet.window import key\n",
    "\n",
    "@window.event\n",
    "def on_key_press(symbol, modifiers):\n",
    "    if symbol == key.A:\n",
    "        print('The \"A\" key was pressed.')\n",
    "    elif symbol == key.LEFT:\n",
    "        print('The left arrow key was pressed.')\n",
    "    elif symbol == key.ENTER:\n",
    "        print('The enter key was pressed.')\n",
    "        \n",
    "@window.event\n",
    "def on_draw():\n",
    "    window.clear()\n",
    "\n",
    "pyglet.app.run()"
   ]
  },
  {
   "cell_type": "code",
   "execution_count": 2,
   "metadata": {},
   "outputs": [
    {
     "name": "stdout",
     "output_type": "stream",
     "text": [
      "The left mouse button was pressed.\n",
      "The left mouse button was pressed.\n",
      "The left mouse button was pressed.\n",
      "The left mouse button was pressed.\n",
      "The left mouse button was pressed.\n"
     ]
    }
   ],
   "source": [
    "import pyglet\n",
    "window = pyglet.window.Window()\n",
    "from pyglet.window import mouse\n",
    "\n",
    "@window.event\n",
    "def on_mouse_press(x, y, button, modifiers):\n",
    "    if button == mouse.LEFT:\n",
    "        print('The left mouse button was pressed.')\n",
    "        \n",
    "@window.event\n",
    "def on_draw():\n",
    "    window.clear()\n",
    "\n",
    "pyglet.app.run()"
   ]
  },
  {
   "cell_type": "markdown",
   "metadata": {},
   "source": [
    "## Play music\n",
    "\n",
    "Pour jouer de l'audio, il faut installer AVbin  \n",
    "https://avbin.github.io/AVbin/Download.html"
   ]
  },
  {
   "cell_type": "code",
   "execution_count": null,
   "metadata": {},
   "outputs": [],
   "source": [
    "import pyglet\n",
    "\n",
    "music = pyglet.resource.media('SuperMario.mp3')\n",
    "music.play()\n",
    "\n",
    "pyglet.app.run()"
   ]
  },
  {
   "cell_type": "markdown",
   "metadata": {},
   "source": [
    "Utiliser la commande 0, 0 pour interrompre le kernel"
   ]
  },
  {
   "cell_type": "markdown",
   "metadata": {},
   "source": [
    "## Creating an OpenGL context"
   ]
  },
  {
   "cell_type": "code",
   "execution_count": 6,
   "metadata": {},
   "outputs": [],
   "source": [
    "import pyglet\n",
    "window = pyglet.window.Window()"
   ]
  },
  {
   "cell_type": "code",
   "execution_count": 7,
   "metadata": {},
   "outputs": [
    {
     "data": {
      "text/plain": [
       "1"
      ]
     },
     "execution_count": 7,
     "metadata": {},
     "output_type": "execute_result"
    }
   ],
   "source": [
    "context = window.context\n",
    "config = context.config\n",
    "config.double_buffer"
   ]
  },
  {
   "cell_type": "markdown",
   "metadata": {},
   "source": [
    "Voici les méthodes et variables de l'objet window."
   ]
  },
  {
   "cell_type": "code",
   "execution_count": 1,
   "metadata": {},
   "outputs": [],
   "source": [
    "# dir(window)"
   ]
  },
  {
   "cell_type": "code",
   "execution_count": 5,
   "metadata": {},
   "outputs": [],
   "source": [
    "window.close()"
   ]
  },
  {
   "cell_type": "code",
   "execution_count": 12,
   "metadata": {},
   "outputs": [
    {
     "name": "stdout",
     "output_type": "stream",
     "text": [
      "<pyglet.canvas.cocoa.CocoaDisplay object at 0x110aea9e8>\n"
     ]
    }
   ],
   "source": [
    "display = pyglet.window.get_platform().get_default_display()\n",
    "print(display)"
   ]
  },
  {
   "cell_type": "code",
   "execution_count": 13,
   "metadata": {},
   "outputs": [
    {
     "data": {
      "text/plain": [
       "[CocoaScreen(x=0, y=0, width=1366, height=768),\n",
       " CocoaScreen(x=-1920, y=-312, width=1920, height=1080)]"
      ]
     },
     "execution_count": 13,
     "metadata": {},
     "output_type": "execute_result"
    }
   ],
   "source": [
    "display.get_screens()"
   ]
  },
  {
   "cell_type": "code",
   "execution_count": 14,
   "metadata": {},
   "outputs": [
    {
     "data": {
      "text/plain": [
       "CocoaCanvasConfig([('double_buffer', 1),\n",
       " ('stereo', 0),\n",
       " ('buffer_size', 32),\n",
       " ('aux_buffers', 0),\n",
       " ('sample_buffers', 0),\n",
       " ('samples', 0),\n",
       " ('red_size', 0),\n",
       " ('green_size', 0),\n",
       " ('blue_size', 0),\n",
       " ('alpha_size', 8),\n",
       " ('depth_size', 24),\n",
       " ('stencil_size', 0),\n",
       " ('accum_red_size', 0),\n",
       " ('accum_green_size', 0),\n",
       " ('accum_blue_size', 0),\n",
       " ('accum_alpha_size', 0),\n",
       " ('major_version', 2),\n",
       " ('minor_version', 1),\n",
       " ('forward_compatible', None),\n",
       " ('debug', None)])"
      ]
     },
     "execution_count": 14,
     "metadata": {},
     "output_type": "execute_result"
    }
   ],
   "source": [
    "config"
   ]
  },
  {
   "cell_type": "code",
   "execution_count": 18,
   "metadata": {},
   "outputs": [
    {
     "name": "stdout",
     "output_type": "stream",
     "text": [
      "Function decorator for an event handler.  \n",
      "        \n",
      "        Usage::\n",
      "\n",
      "            win = window.Window()\n",
      "\n",
      "            @win.event\n",
      "            def on_resize(self, width, height):\n",
      "                # ...\n",
      "\n",
      "        or::\n",
      "\n",
      "            @win.event('on_resize')\n",
      "            def foo(self, width, height):\n",
      "                # ...\n",
      "\n",
      "        \n"
     ]
    }
   ],
   "source": [
    "print(window.event.__doc__)"
   ]
  },
  {
   "cell_type": "markdown",
   "metadata": {},
   "source": [
    "## Windowing\n",
    "\n",
    "https://pyglet.readthedocs.io/en/pyglet-1.3-maintenance/programming_guide/windowing.html\n",
    "\n",
    "Si le constructeur Window() est appelé sans paramètres, les valeurs par défaut sont utilisées."
   ]
  },
  {
   "cell_type": "code",
   "execution_count": 25,
   "metadata": {},
   "outputs": [],
   "source": [
    "win = pyglet.window.Window()"
   ]
  },
  {
   "cell_type": "code",
   "execution_count": 28,
   "metadata": {},
   "outputs": [
    {
     "data": {
      "text/plain": [
       "CocoaWindow(width=640, height=480)"
      ]
     },
     "execution_count": 28,
     "metadata": {},
     "output_type": "execute_result"
    }
   ],
   "source": [
    "win"
   ]
  },
  {
   "cell_type": "code",
   "execution_count": 9,
   "metadata": {},
   "outputs": [],
   "source": [
    "import pyglet\n",
    "window = pyglet.window.Window(600, 200)"
   ]
  },
  {
   "cell_type": "code",
   "execution_count": 12,
   "metadata": {},
   "outputs": [],
   "source": [
    "window = pyglet.window.Window(800, 100, resizable=True)\n",
    "\n",
    "@window.event\n",
    "def on_resize(width, height):\n",
    "    print('The window has resized to {} x {}'.format(width, height))"
   ]
  },
  {
   "cell_type": "code",
   "execution_count": 3,
   "metadata": {},
   "outputs": [],
   "source": [
    "window.set_size(600, 400)"
   ]
  },
  {
   "cell_type": "code",
   "execution_count": 4,
   "metadata": {},
   "outputs": [
    {
     "data": {
      "text/plain": [
       "(404, 307)"
      ]
     },
     "execution_count": 4,
     "metadata": {},
     "output_type": "execute_result"
    }
   ],
   "source": [
    "window.get_location()"
   ]
  },
  {
   "cell_type": "code",
   "execution_count": 5,
   "metadata": {},
   "outputs": [],
   "source": [
    "window.set_location(100, 100)"
   ]
  },
  {
   "cell_type": "code",
   "execution_count": 4,
   "metadata": {},
   "outputs": [],
   "source": [
    "# dir(window)"
   ]
  },
  {
   "cell_type": "code",
   "execution_count": 9,
   "metadata": {},
   "outputs": [],
   "source": [
    "window.minimize()"
   ]
  },
  {
   "cell_type": "code",
   "execution_count": 7,
   "metadata": {},
   "outputs": [],
   "source": [
    "window.activate()"
   ]
  },
  {
   "cell_type": "code",
   "execution_count": 8,
   "metadata": {},
   "outputs": [],
   "source": [
    "window.maximize()"
   ]
  },
  {
   "cell_type": "code",
   "execution_count": 10,
   "metadata": {},
   "outputs": [],
   "source": [
    "window.set_size(600, 400)"
   ]
  },
  {
   "cell_type": "code",
   "execution_count": 11,
   "metadata": {},
   "outputs": [],
   "source": [
    "window.set_fullscreen(True)"
   ]
  },
  {
   "cell_type": "code",
   "execution_count": 6,
   "metadata": {},
   "outputs": [],
   "source": [
    "window.set_fullscreen(False)"
   ]
  },
  {
   "cell_type": "code",
   "execution_count": 11,
   "metadata": {},
   "outputs": [],
   "source": [
    "window.set_caption('My caption')"
   ]
  },
  {
   "cell_type": "code",
   "execution_count": 8,
   "metadata": {},
   "outputs": [],
   "source": [
    "icon = pyglet.image.load('fire.png')\n",
    "window.set_icon(icon)"
   ]
  },
  {
   "cell_type": "markdown",
   "metadata": {},
   "source": [
    "## Subclassing Window"
   ]
  },
  {
   "cell_type": "code",
   "execution_count": null,
   "metadata": {},
   "outputs": [],
   "source": [
    "import pyglet\n",
    "class HelloWorldWindow(pyglet.window.Window):\n",
    "    def __init__(self):\n",
    "        super(HelloWorldWindow, self).__init__(resizable=True, caption='Hello')\n",
    "        icon = pyglet.image.load('fire.png')\n",
    "        self.set_icon(icon)\n",
    "\n",
    "        self.label = pyglet.text.Label('Hello, world!', font_size=48, x=20, y=20)\n",
    "\n",
    "    def on_draw(self):\n",
    "        self.clear()\n",
    "        self.label.draw()\n",
    "\n",
    "window = HelloWorldWindow()\n",
    "pyglet.app.run()"
   ]
  },
  {
   "cell_type": "markdown",
   "metadata": {},
   "source": [
    "# Tutoriel\n",
    "Voici quelques exemples progressives"
   ]
  },
  {
   "cell_type": "markdown",
   "metadata": {},
   "source": [
    "## Créer une fenêtre\n",
    "Exercice:\n",
    "* modifier la taille de la fenêtre"
   ]
  },
  {
   "cell_type": "code",
   "execution_count": 14,
   "metadata": {},
   "outputs": [],
   "source": [
    "# %load tutorial_01.py\n",
    "# 01 : create a window\n",
    "import pyglet\n",
    "\n",
    "window = pyglet.window.Window(800, 400)\n",
    "pyglet.app.run()"
   ]
  },
  {
   "cell_type": "markdown",
   "metadata": {},
   "source": [
    "## Afficher un text\n",
    "Exercice:\n",
    "* changer le text, la taille, la position (x, y)\n",
    "* ajouter un deuxième texte à une position différentes\n",
    "(chercher dans API pyglet.text.Label"
   ]
  },
  {
   "cell_type": "code",
   "execution_count": 4,
   "metadata": {},
   "outputs": [],
   "source": [
    "# %load tutorial_02.py\n",
    "# 02 : create a window and place a label\n",
    "import pyglet\n",
    "\n",
    "window = pyglet.window.Window(800, 200)\n",
    "label = pyglet.text.Label('Hello world', font_size=64)\n",
    "\n",
    "@window.event\n",
    "def on_draw():\n",
    "    window.clear()\n",
    "    label.draw()\n",
    "\n",
    "pyglet.app.run()"
   ]
  },
  {
   "cell_type": "markdown",
   "metadata": {},
   "source": [
    "## Afficher une image\n",
    "Exercice:\n",
    "* téléchargez une deuxième image plus petite\n",
    "* affchichez-la devant la première image\n",
    "* ajoutez un texte"
   ]
  },
  {
   "cell_type": "code",
   "execution_count": 15,
   "metadata": {},
   "outputs": [
    {
     "name": "stdout",
     "output_type": "stream",
     "text": [
      "<TextureRegion 500x433>\n"
     ]
    }
   ],
   "source": [
    "# %load tutorial_03.py\n",
    "# 02 : create a window and show an image\n",
    "import pyglet\n",
    "\n",
    "window = pyglet.window.Window(500, 433)\n",
    "image = pyglet.resource.image('kitten.png')\n",
    "print(image)\n",
    "\n",
    "@window.event\n",
    "def on_draw():\n",
    "    window.clear()\n",
    "    image.blit(0, 0)\n",
    "\n",
    "pyglet.app.run()"
   ]
  },
  {
   "cell_type": "markdown",
   "metadata": {},
   "source": [
    "## Utiliser le clavier\n",
    "Exercice\n",
    "* utilisez la touche LEFT pour décrémenter une variable\n",
    "* utilisez la touche RIGHT pour incrémenter une variable\n",
    "* affichez cette variable"
   ]
  },
  {
   "cell_type": "code",
   "execution_count": 8,
   "metadata": {},
   "outputs": [],
   "source": [
    "# %load tutorial_04.py\n",
    "# 04 : create a window and display the key pressed\n",
    "import pyglet\n",
    "\n",
    "window = pyglet.window.Window(800, 200)\n",
    "msg = 'Keyboard input'\n",
    "label = pyglet.text.Label(msg, font_size=36, x=20, y=20)\n",
    "\n",
    "@window.event\n",
    "def on_key_press(symbol, modifiers):\n",
    "    msg = 'Symbol={}, mod={}'.format(symbol, modifiers) \n",
    "    label.text = msg\n",
    "    print(msg)\n",
    "\n",
    "@window.event\n",
    "def on_draw():\n",
    "    window.clear()\n",
    "    label.draw()\n",
    "\n",
    "pyglet.app.run()"
   ]
  },
  {
   "cell_type": "markdown",
   "metadata": {},
   "source": [
    "## Utiliser la souris\n",
    "Exercice\n",
    "* placez une petite image à l'endroit du clic de la souris"
   ]
  },
  {
   "cell_type": "code",
   "execution_count": 9,
   "metadata": {},
   "outputs": [],
   "source": [
    "# %load tutorial_05.py\n",
    "# 05 : create a window and display the mouse actions\n",
    "import pyglet\n",
    "\n",
    "window = pyglet.window.Window(800, 200)\n",
    "msg = 'Mouse input'\n",
    "label = pyglet.text.Label(msg, font_size=36, x=20, y=20)\n",
    "\n",
    "@window.event\n",
    "def on_mouse_press(x, y, button, modifiers):\n",
    "    msg = 'x={}, y={}, button={}, mod={}'.format(x, y, button, modifiers) \n",
    "    label.text = msg\n",
    "    print(msg)\n",
    "\n",
    "@window.event\n",
    "def on_draw():\n",
    "    window.clear()\n",
    "    label.draw()\n",
    "\n",
    "pyglet.app.run()"
   ]
  },
  {
   "cell_type": "markdown",
   "metadata": {},
   "source": [
    "## Jouer un son\n",
    "Exercice\n",
    "* téléchargez un deuxième son mp3\n",
    "* programmez les touches pour pouvoir basculer entre deux morceaux de musique"
   ]
  },
  {
   "cell_type": "code",
   "execution_count": 10,
   "metadata": {},
   "outputs": [],
   "source": [
    "# %load tutorial_06.py\n",
    "# 06 : create a window and play music\n",
    "import pyglet\n",
    "\n",
    "window = pyglet.window.Window(800, 200)\n",
    "msg = 'Play music'\n",
    "label = pyglet.text.Label(msg, font_size=36, x=20, y=20)\n",
    "music = pyglet.resource.media('SuperMario.mp3')\n",
    "player = music.play()\n",
    "\n",
    "@window.event\n",
    "def on_key_press(symbol, modifiers):\n",
    "    label.text = 'Stop music'\n",
    "    player.pause()\n",
    "\n",
    "@window.event\n",
    "def on_draw():\n",
    "    window.clear()\n",
    "    label.draw()\n",
    "\n",
    "pyglet.app.run()"
   ]
  },
  {
   "cell_type": "markdown",
   "metadata": {},
   "source": [
    "## Exemple jeu d'astéroides"
   ]
  },
  {
   "cell_type": "markdown",
   "metadata": {},
   "source": [
    "## Afficher des graphiques statiques\n",
    "La version 1 du jeu afficher:\n",
    "* le vaisseau du joueur\n",
    "* 2 textes (score + titre)\n",
    "* 3 astéroides"
   ]
  }
 ],
 "metadata": {
  "kernelspec": {
   "display_name": "Python 3",
   "language": "python",
   "name": "python3"
  },
  "language_info": {
   "codemirror_mode": {
    "name": "ipython",
    "version": 3
   },
   "file_extension": ".py",
   "mimetype": "text/x-python",
   "name": "python",
   "nbconvert_exporter": "python",
   "pygments_lexer": "ipython3",
   "version": "3.7.1"
  }
 },
 "nbformat": 4,
 "nbformat_minor": 2
}
