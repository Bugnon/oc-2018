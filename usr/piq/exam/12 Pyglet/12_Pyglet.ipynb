{
 "cells": [
  {
   "cell_type": "markdown",
   "metadata": {},
   "source": [
    "# Sujet 12 : Pyglet: display, sprites, events et event loop\n",
    "\n",
    " \n",
    "Auteur : Térence Chevroulet  \n",
    "Date : 2019/05/31\n",
    "\n",
    "## Sommaire\n",
    "\n",
    "1. [Introduction](#Introduction)\n",
    "1. [Display](#Display)\n",
    "    1. [Window](#Window)\n",
    "1. [Draw](#Draw)\n",
    "    1. [Objects primitifs OpenGL](#Objects-primitifs-OpenGL)\n",
    "    1. [Batch](#Batch)\n",
    "    1. [Sprites](#Sprites)\n",
    "1. [Events](#Events)\n",
    "1. [Event Loop](#Event-Loop)\n",
    "1. [Multimédia](#Multimédia)\n",
    "    1. [Son](#Son) \n",
    "        1.[Son Bref](#Son-Bref)\n",
    "        1.[Son Long](#Son-Long)\n",
    "    1. [Vidéo](#Vidéo)"
   ]
  },
  {
   "cell_type": "markdown",
   "metadata": {},
   "source": [
    "## Introduction\n",
    "\n",
    "En raison de limitations de *Jupyter Notebook*, il n'est malheureusement pas possible de faire entièrement fonctionner tous les exemples de *pyglet*. C'est pourquoi certaines fonctions ne sont pas exécutables, mais se retrouvent en format de code *Python* tout de même.\n",
    "\n",
    "De plus, une dépendance est nécessaire afin de jouer des vidéos, ou de jouer des sons qui ne seraient pas supportés par *OpenAL*. "
   ]
  },
  {
   "cell_type": "markdown",
   "metadata": {},
   "source": [
    "## Display\n",
    "\n",
    "![Schéma de la construction de screen à window, avec contexte](https://pyglet.readthedocs.io/en/pyglet-1.3-maintenance/_images/context_flow.png)\n",
    "\n",
    "Un *display* est, pour Pyglet, l'ensemble d'*écrans*, *screens* en anglais, d'un système sur lesquels il serait possible d'afficher des éléments. Un *écran* peut être local, où connecté à distance par réseau. \n",
    "\n",
    "Il est possible d'obtenir le *display* utilisé avec `get_display()` :"
   ]
  },
  {
   "cell_type": "code",
   "execution_count": 1,
   "metadata": {},
   "outputs": [],
   "source": [
    "import pyglet"
   ]
  },
  {
   "cell_type": "code",
   "execution_count": 2,
   "metadata": {},
   "outputs": [
    {
     "name": "stdout",
     "output_type": "stream",
     "text": [
      "<pyglet.canvas.cocoa.CocoaDisplay object at 0x1104958d0>\n"
     ]
    }
   ],
   "source": [
    "display = pyglet.canvas.get_display()\n",
    "\n",
    "print(display)"
   ]
  },
  {
   "cell_type": "markdown",
   "metadata": {},
   "source": [
    "La liste des *écrans* disponibles s'obtient avec `get_screens()`, et l'*écran* utilisé par défaut avec `get_default_screen()`. Une liste de *fenêtres*, *window* en anglais, attachées à un *display* spécifique s'obtient avec `get_windows()`:"
   ]
  },
  {
   "cell_type": "code",
   "execution_count": 3,
   "metadata": {},
   "outputs": [
    {
     "name": "stdout",
     "output_type": "stream",
     "text": [
      "[CocoaScreen(x=0, y=0, width=1680, height=1050)]\n",
      "CocoaScreen(x=0, y=0, width=1680, height=1050)\n",
      "[]\n"
     ]
    }
   ],
   "source": [
    "screens = display.get_screens()\n",
    "default_screen = display.get_default_screen()\n",
    "windows = display.get_windows()\n",
    "\n",
    "print(screens)\n",
    "print(default_screen)\n",
    "print(windows)\n",
    "\n",
    "pyglet.app.exit()"
   ]
  },
  {
   "cell_type": "markdown",
   "metadata": {},
   "source": [
    "### Window\n",
    "\n",
    "Pyglet utilise des *fenêtres*, afin d'afficher du contenu à l'écran. Le contenu d'une fenêtre étant dessiné avec *OpenGL*, un *contexte OpenGL* doit exister, ce qui implique une *configuration* dudit *contexte*.\n",
    "\n",
    "Heureusement, toute nouvelle *fenêtre* vient avec une configuration par défaut qui convient parfaitement à la plupart des usages. Ainsi, il n'y a pas besoin de modifier les paramètres du *contexte*. Ainsi, pour initialiser une *fenêtre*, il suffit de faire `window = pyglet.window.Window()`"
   ]
  },
  {
   "cell_type": "markdown",
   "metadata": {},
   "source": [
    "La classe `Window` a une multitude de paramètres, dont les plus importants sont :\n",
    "* `width = int` : sa largeur\n",
    "* `height = int` : sa taille\n",
    "* `resizable = bool` : si l'utilisateur peut en changer la taille\n",
    "* `fullscreen = bool` : si elle est en plein écran\n",
    "* `visible = bool` : si elle est visible  \n",
    "\n",
    "Certains de ces paramètres peuvent être changés après initialisation : \n",
    "* `set_fullscreen(bool)`\n",
    "* `set_size(width, height)`\n",
    "* `set_visible(int)`\n",
    "\n",
    "Il est possible d'obtenir la taille d'une fenêtre avec `window.get_size()`, ou de changer la taille de la fenêtre avec `window.set_size(x, y)`. "
   ]
  },
  {
   "cell_type": "markdown",
   "metadata": {},
   "source": [
    "Utiliser `window.clear()` permet d'effacer le contenu d'une fenêtre, et donc de s'assurer par exemple que tous les objets ont bien été effacés de l'affichage."
   ]
  },
  {
   "cell_type": "markdown",
   "metadata": {},
   "source": [
    "## Draw\n",
    "\n",
    "Afin d'afficher des éléments graphiques *OpenGL*, il suffit d'appeler la fonction `draw()` avec un élément, qui sera alors dessiné dans la *fenêtre*.\n",
    "\n",
    "### Objects primitifs OpenGL\n",
    "\n",
    "Il est possible d'afficher directement des objets simples avec la fonction `pyglet.graphics.draw()` :\n",
    "```python \n",
    "pyglet.graphics.draw(2, pyglet.gl.GL_POINTS,\n",
    "    ('v2i', (10, 15, 30, 35))\n",
    "                    )```"
   ]
  },
  {
   "cell_type": "markdown",
   "metadata": {},
   "source": [
    "Cependant, cette fonction est très peu efficace lorsqu'il s'agit d'avoir du contenu rafraichi en haute fréquence. Il est alors mieux de conserver la référence sous forme de *vertex_list*, c'est à dire une liste de *vertices*, grosso modo des coordonnées, avec par exemple un élément entre les points (0;10) et (10;10) :"
   ]
  },
  {
   "cell_type": "code",
   "execution_count": 4,
   "metadata": {},
   "outputs": [
    {
     "name": "stdout",
     "output_type": "stream",
     "text": [
      "<pyglet.graphics.vertexdomain.VertexList object at 0x1134e5588>\n",
      "[0.0, 10.0, 10.0, 10.0]\n"
     ]
    }
   ],
   "source": [
    "vertex_list = pyglet.graphics.vertex_list(\n",
    "    2,\n",
    "    ('v2f', (0, 10, 10, 10)), \n",
    "    )\n",
    "\n",
    "print(vertex_list)\n",
    "print(vertex_list.vertices[:])"
   ]
  },
  {
   "cell_type": "markdown",
   "metadata": {},
   "source": [
    "Il est ensuite possible de mettre la *vertex_list* à jour, plutôt que l'effacer et la redessiner systématiquement. Celle-ci peut être dessinée en la déplaçant vers un *batch* qui contiendra d'autres éléments à afficher avec la fonction `pyglet.graphics.Batch.migrate(list, mode, group, batch)`. \n",
    "Le `mode` fait référence à la fonction *OpenGL* utilisée pour dessiner le lien entre les deux *vertices*. Par exemple, `GL_LINES` dessinera une ligne. "
   ]
  },
  {
   "cell_type": "code",
   "execution_count": 5,
   "metadata": {},
   "outputs": [],
   "source": [
    "batch = pyglet.graphics.Batch()\n",
    "\n",
    "pyglet.graphics.Batch.migrate(vertex_list, vertex_list, pyglet.gl.GL_LINES, None, batch)"
   ]
  },
  {
   "cell_type": "markdown",
   "metadata": {},
   "source": [
    "Pour mettre à jour la liste, rien de plus simple : "
   ]
  },
  {
   "cell_type": "code",
   "execution_count": 6,
   "metadata": {},
   "outputs": [
    {
     "name": "stdout",
     "output_type": "stream",
     "text": [
      "[0.0, 0.0, 20.0, 20.0]\n"
     ]
    }
   ],
   "source": [
    "vertex_list.vertices[:] = [0.0, 0.0, 20.0, 20.0] # Nouvelles valeurs pour les vertices\n",
    "\n",
    "print(vertex_list.vertices[:])"
   ]
  },
  {
   "cell_type": "markdown",
   "metadata": {},
   "source": [
    "Pour l'effacer :"
   ]
  },
  {
   "cell_type": "code",
   "execution_count": 7,
   "metadata": {},
   "outputs": [],
   "source": [
    "try:\n",
    "    vertex_list.delete()\n",
    "except:\n",
    "    pass"
   ]
  },
  {
   "cell_type": "markdown",
   "metadata": {},
   "source": [
    "Attention, si `vertex_list` n'existe plus, il y aura une erreur!"
   ]
  },
  {
   "cell_type": "markdown",
   "metadata": {},
   "source": [
    "### Batch\n",
    "\n",
    "Nous venons de mettre un élément *OpenGL* à dessiner dans un *batch*. Mais qu'est-ce qu'un *batch* ? Un batch est une collection d'éléments destinés à être affichés. Regrouper les éléments dans un seul *batch* permet de tous les dessiner d'un coups pour de bien meilleures performances, mais aussi d'aisément échanger entre différents *batchs* à dessiner si besoin est.  \n",
    "Comme vu plus haut, un *batch* est initialisé avec `batch = pyglet.graphics.Batch()`. Ainsi, un *batch* sera dessiné de la manière suivante : `batch.draw()`."
   ]
  },
  {
   "cell_type": "markdown",
   "metadata": {},
   "source": [
    "### Sprites\n",
    "\n",
    "Cependant, un *batch* peut contenir plus que juste de simples formes géométriques : il peut contenir des *sprites*. Un *sprite* est une image *instancée*, qui peut avoir différentes valeurs de transparence, rotation, position, échelle, etc.  \n",
    "\n",
    "Afin d'initialiser un *sprite*, il faut premièrement importer une image dans pyglet, de préférence de format .png afin d'avoir de la transparence."
   ]
  },
  {
   "cell_type": "code",
   "execution_count": 8,
   "metadata": {},
   "outputs": [
    {
     "name": "stdout",
     "output_type": "stream",
     "text": [
      "<ImageData 210x210>\n"
     ]
    }
   ],
   "source": [
    "image = pyglet.image.load('logo.png')\n",
    "\n",
    "print(image)"
   ]
  },
  {
   "cell_type": "markdown",
   "metadata": {},
   "source": [
    "Puis, il faut instancer le *sprite* en transmettant l'image à utiliser. Il est possible de directement assigner un emplacement x, y et un *batch*."
   ]
  },
  {
   "cell_type": "code",
   "execution_count": 9,
   "metadata": {},
   "outputs": [
    {
     "name": "stdout",
     "output_type": "stream",
     "text": [
      "<pyglet.sprite.Sprite object at 0x11047bda0>\n",
      "Position : 5 5\n",
      "Échelle : 1.0\n",
      "<pyglet.graphics.Batch object at 0x114b2edd8> <pyglet.graphics.Batch object at 0x114b2edd8>\n",
      "<TextureRegion 210x210>\n"
     ]
    }
   ],
   "source": [
    "x, y = 5, 5\n",
    "sprite = pyglet.sprite.Sprite(image, x, y, batch = batch)\n",
    "\n",
    "print(sprite)\n",
    "print('Position :', sprite.x, sprite.y)\n",
    "print('Échelle :', sprite.scale)\n",
    "print(batch, sprite.batch)\n",
    "print(sprite.image)"
   ]
  },
  {
   "cell_type": "markdown",
   "metadata": {},
   "source": [
    "Un sprite a de nombreuses propriétés, qui sont modifiables avec `sprite.<propriété> = <valeur>`.  \n",
    "Les plus pratiques sont :\n",
    "* `color = (r, g, b)` : couleur du sprite\n",
    "* `opacity = 0-255` : opacité - 100% opaque à 255\n",
    "* `position = (x, y)` : emplacement du sprite\n",
    "* `rotation = 0-359` : rotation en degrés dans la direction des aiguilles d'une montre\n",
    "* `scale = int` : échelle du sprite\n",
    "* `visible = bool` : détermine si le sprite est dessiné\n",
    "* `subpixel = bool` : si le sprite peut ne pas être aligné avec les pixels de l'écran, ce qui risque de le rendre moins net"
   ]
  },
  {
   "cell_type": "code",
   "execution_count": 10,
   "metadata": {},
   "outputs": [
    {
     "name": "stdout",
     "output_type": "stream",
     "text": [
      "Échelle : 0.5\n"
     ]
    }
   ],
   "source": [
    "sprite.scale = 0.5\n",
    "\n",
    "print('Échelle :', sprite.scale)"
   ]
  },
  {
   "cell_type": "markdown",
   "metadata": {},
   "source": [
    "Un *sprite* peut être supprimé avec la fonction `delete()` :"
   ]
  },
  {
   "cell_type": "markdown",
   "metadata": {},
   "source": [
    "## Events"
   ]
  },
  {
   "cell_type": "markdown",
   "metadata": {},
   "source": [
    "Lorsqu'un programme *pyglet* tourne, il est possible de lui faire appeler des *fonctions* grâce à des *events*. Un *event* est un évènement, comme par exemple le déplacement du curseur. \n",
    "Les *events* sont liés à certains *modules* de *pyglet*, dont les plus importants sont : \n",
    "\n",
    "* `pyglet.window`\n",
    "* `pyglet.app`\n",
    "* `pyglet.input`\n",
    "\n",
    "*Pyglet* appelle parfois des *fonctions* par défaut lors de certains *events*. Par conséquent, plutôt que de les remplacer, il est conseillé de simplement ajouter sa *fonction* à celles qui seraient appellées lorsque l'*event* arrive en utilisant un *décorateur* au dessus de sa fonction de la manière suivante : `@<module>.event\n",
    "\n",
    "Par exemple, cette fonction afficherait les clics de souris dans la console : \n",
    "\n",
    "```python\n",
    "@window.event\n",
    "def on_mouse_press(x, y, button, modifiers):\n",
    "    print((x, y), button, modifiers)\n",
    "```\n",
    "\n",
    "L'un des *events* les plus importants est le `on_draw()`, qui est appelé à chaque fois que la *fenêtre* doit être rafraichie. Il permet de dessiner le nouveau contenu avec `<contenu>.draw()`, en général `batch.draw()`. "
   ]
  },
  {
   "cell_type": "markdown",
   "metadata": {},
   "source": [
    "## Event Loop\n",
    "\n",
    "Ce qui appelle les *events* et maintient le programme *pyglet* actif est un *event loop*, c'est à dire que le programme s'appelle lui-même et à chaque fois appelle les sous-*events* appropriés. \n",
    "\n",
    "L'*event loop* débute lorsqu'il est appelé avec `pyglet.app.run()` et se termine avec `pyglet.app.exit()`.\n",
    "\n",
    "Par défaut, l'*event loop* appelle de lui-même `pyglet.app.exit()` lorsque toutes les fenêtres ont été fermées, mais il est possible d'appeler soi-même la *fonction* plus tôt pour, par exemple, quitter un jeu lorsqu'une touche spécifique est appuyée. "
   ]
  },
  {
   "cell_type": "markdown",
   "metadata": {},
   "source": [
    "## Multimédia\n",
    "\n",
    "*Pyglet* permet, en plus des images, d'émettre du son et d'afficher des vidéos. "
   ]
  },
  {
   "cell_type": "markdown",
   "metadata": {},
   "source": [
    "### Son\n",
    "\n",
    "*Pyglet* utilise *OpenAL* pour jouer des sons. À moins d'installer des dépendances supplémentaires, uniquement les fichiers *WAV* sont supportés. Ces fichiers doivent être non-compressés et encodés avec un PCM linéaire. Il est possible d'en faire à partir de fichiers MP3 grâce à VLC. \n",
    "\n",
    "Il existe un problème sous *Linux* avec *OpenAL* qui empêche l'utilisation de la stéréo et joue par conséquent les sons en mono."
   ]
  },
  {
   "cell_type": "markdown",
   "metadata": {},
   "source": [
    "#### Son Bref\n",
    "\n",
    "Selon le type de programme, il est parfois nécessaire de jouer un son lorsqu'un évènement se produit, sans pour autant avoir à gérer une queue. Ainsi, *pyglet* donne accès à une fonction `play()`, qui est accessible depuis n'importe quelle *source* audio chargée précédemment. Charger une source audio se fait tout simplement avec `pyglet.media.load('<source>')` : "
   ]
  },
  {
   "cell_type": "code",
   "execution_count": 11,
   "metadata": {},
   "outputs": [
    {
     "data": {
      "text/plain": [
       "<pyglet.media.player.Player at 0x1159907f0>"
      ]
     },
     "execution_count": 11,
     "metadata": {},
     "output_type": "execute_result"
    }
   ],
   "source": [
    "sound = pyglet.media.load('Sound.wav', streaming = False)\n",
    "sound.play()"
   ]
  },
  {
   "cell_type": "markdown",
   "metadata": {},
   "source": [
    "Il est recommandé d'utiliser `streaming = False` pour les fichiers lus fréquemment, car ceci permet de les garder en mémoire plutôt que de les décoder à chaque écoute, ce qui améliore nettement la performance."
   ]
  },
  {
   "cell_type": "markdown",
   "metadata": {},
   "source": [
    "#### Son Long\n",
    "\n",
    "Vous avez peut-être remarqué que la *fonction* précédente nous renvoie une *instance* de `Player`. Il se trouve que *pyglet* utilise des *instances* de la *classe* `Player` pour gérer tout ce qui est sonore. Un `Player` permet d'avoir une liste de sons à jouer, de régler son volume, et nombre d'autres options. \n",
    "\n",
    "\n",
    "Afin d'ajouter un son au `Player`, il faut d'abord le charger, puis instancer le `Player`, et enfin y ajouter le son chargé."
   ]
  },
  {
   "cell_type": "code",
   "execution_count": 12,
   "metadata": {},
   "outputs": [],
   "source": [
    "player = pyglet.media.Player()\n",
    "sound2 = pyglet.media.load('Sound.wav')\n",
    "\n",
    "player.queue(sound2)"
   ]
  },
  {
   "cell_type": "markdown",
   "metadata": {},
   "source": [
    "Il est ensuite possible de jouer ce son avec `player.play()`, ou alors de modifier certaines variables du `Player` : \n",
    "\n",
    "* `volume = int` : détermine le volume auquel les sons sont joués\n",
    "* `pitch = int` : permet de changer la hauteur du son.\n",
    "\n",
    "Lorsqu'un son est assez long pour que cela soit utile, il est possible de le mettre en pause avec `player.pause()`."
   ]
  },
  {
   "cell_type": "code",
   "execution_count": 13,
   "metadata": {},
   "outputs": [],
   "source": [
    "player.pitch = 0.2\n",
    "player.play()"
   ]
  },
  {
   "cell_type": "markdown",
   "metadata": {},
   "source": [
    "L'utilisation d'un `Player` permet également, par exemple, de sauter le son en train d'être ouer pour passer à la source suivante avec `player.next_source()`."
   ]
  },
  {
   "cell_type": "markdown",
   "metadata": {},
   "source": [
    "### Vidéo\n",
    "\n",
    "Les vidéos fonctionnent tout comme les sons, c'est à dire avec le `Player` elles aussi. Cependant, celles-ci pouvant être volumineuses, il faut être particulièrement attitif aux questions d'optimisation et de performance!\n",
    "\n",
    "Toutefois, la présence d'une dépendance supplémentaire est nécessaire pour pouvoir décoder les vidéos : *AVbin*."
   ]
  }
 ],
 "metadata": {
  "kernelspec": {
   "display_name": "Python 3",
   "language": "python",
   "name": "python3"
  },
  "language_info": {
   "codemirror_mode": {
    "name": "ipython",
    "version": 3
   },
   "file_extension": ".py",
   "mimetype": "text/x-python",
   "name": "python",
   "nbconvert_exporter": "python",
   "pygments_lexer": "ipython3",
   "version": "3.7.1"
  }
 },
 "nbformat": 4,
 "nbformat_minor": 2
}
