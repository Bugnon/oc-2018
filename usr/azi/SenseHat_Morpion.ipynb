{
 "cells": [
  {
   "cell_type": "markdown",
   "metadata": {},
   "source": [
    "# Jeu de Morpion\n",
    "Pour programmer un jeu, nous partons des principes suivants:\n",
    "* des **variables d'état** décrivent la situation du jeu à un instant donné\n",
    "* à chaque tour, les variables d'état changent\n",
    "* les règles de jeu interdisent certains mouvements\n",
    "* à chaque tour on vérifie si les critère pour gagner sont vérifiés\n",
    "* une **matrice** représente le tableau de jeu\n",
    "* des **entiers** (0 = vide, 1, 2, etc.) représentent les pièces\n",
    "\n",
    "Avant de commencer, il faut importer le module `sense_hat` et `time` et eventuellent définir une rotation de l'écran de 180 degrés."
   ]
  },
  {
   "cell_type": "code",
   "execution_count": 1,
   "metadata": {},
   "outputs": [],
   "source": [
    "from sense_hat import SenseHat\n",
    "#from sense_emu import SenseHat\n",
    "from time import sleep, time\n",
    "\n",
    "sense = SenseHat()\n",
    "sense.set_rotation(180)"
   ]
  },
  {
   "cell_type": "markdown",
   "metadata": {},
   "source": [
    "## Définition de l'état\n",
    "\n",
    "Définissons l'état du jeu comme la matrice $3 \\times 3$ avec des entiers ayant la signification:\n",
    "* 0 case vide\n",
    "* 1 case occupé par joueur 1\n",
    "* 2 case occupé par joueur 2\n",
    "\n",
    "Donc voici l'état initial du jeu"
   ]
  },
  {
   "cell_type": "code",
   "execution_count": 2,
   "metadata": {},
   "outputs": [
    {
     "data": {
      "text/plain": [
       "[[0, 0, 0], [0, 0, 0], [0, 0, 0]]"
      ]
     },
     "execution_count": 2,
     "metadata": {},
     "output_type": "execute_result"
    }
   ],
   "source": [
    "state = [[0, 0, 0], [0, 0, 0], [0, 0, 0]]\n",
    "state"
   ]
  },
  {
   "cell_type": "code",
   "execution_count": 86,
   "metadata": {},
   "outputs": [
    {
     "data": {
      "text/plain": [
       "[[0, 0, 0, 0, 0, 0, 0, 0],\n",
       " [0, 0, 0, 0, 0, 0, 0, 0],\n",
       " [0, 0, 0, 0, 0, 0, 0, 0],\n",
       " [0, 0, 0, 0, 0, 0, 0, 0],\n",
       " [0, 0, 0, 0, 0, 0, 0, 0],\n",
       " [0, 0, 0, 0, 0, 0, 0, 0],\n",
       " [0, 0, 0, 0, 0, 0, 0, 0]]"
      ]
     },
     "execution_count": 86,
     "metadata": {},
     "output_type": "execute_result"
    }
   ],
   "source": [
    "state =[[0] * 8] * 7\n",
    "state"
   ]
  },
  {
   "cell_type": "markdown",
   "metadata": {},
   "source": [
    "Supposons maintenant que joueur 1 place une pièce, et joueur 2 place sa pièce."
   ]
  },
  {
   "cell_type": "code",
   "execution_count": 3,
   "metadata": {},
   "outputs": [
    {
     "data": {
      "text/plain": [
       "[[1, 2, 0], [0, 0, 0], [0, 0, 0]]"
      ]
     },
     "execution_count": 3,
     "metadata": {},
     "output_type": "execute_result"
    }
   ],
   "source": [
    "state = [[1, 2, 0], [0, 0, 0], [0, 0, 0]]\n",
    "state"
   ]
  },
  {
   "cell_type": "markdown",
   "metadata": {},
   "source": [
    "Définissons aussi une fonction `init()` pour initialiser l'état du jeu. La variable `state` étant une variable globale elle doit être déclarée avec le mot-clé `global` à l'intérieur d'une fonction."
   ]
  },
  {
   "cell_type": "code",
   "execution_count": 68,
   "metadata": {},
   "outputs": [],
   "source": [
    "def init():\n",
    "    global state\n",
    "    state = [[0, 0, 0], [0, 0, 0], [0, 0, 0]]"
   ]
  },
  {
   "cell_type": "markdown",
   "metadata": {},
   "source": [
    "## Afficher l'état\n",
    "Nous devons maintenant afficher cet état de jeu. Pour cette première version nous utilisons seulement $3 \\times 3$ pixels. L'état du jeu est représenté par les 3 couleurs:\n",
    "* dark green : case vide\n",
    "* red : case occupé par joueur 1\n",
    "* green : case occupé par jouer 2"
   ]
  },
  {
   "cell_type": "code",
   "execution_count": 5,
   "metadata": {},
   "outputs": [],
   "source": [
    "dark_blue = (0, 0, 128)\n",
    "red = (255, 0, 0)\n",
    "green = (0, 255, 0)\n",
    "blue = (0, 0, 255)\n",
    "colors = (dark_blue, red, green)\n",
    "\n",
    "def show(state):\n",
    "    sense.clear()\n",
    "    for y in range(3):\n",
    "        for x in range(3):\n",
    "            s = state[y][x]  # s is 0, 1, or 2\n",
    "            sense.set_pixel(x, y, colors[s])          "
   ]
  },
  {
   "cell_type": "code",
   "execution_count": 35,
   "metadata": {},
   "outputs": [
    {
     "name": "stdout",
     "output_type": "stream",
     "text": [
      "0 0 state[x][x] = 1 color = (255, 0, 0)\n",
      "1 0 state[x][x] = 2 color = (0, 255, 0)\n",
      "2 0 state[x][x] = 0 color = (0, 0, 128)\n",
      "0 1 state[x][x] = 0 color = (0, 0, 128)\n",
      "1 1 state[x][x] = 0 color = (0, 0, 128)\n",
      "2 1 state[x][x] = 0 color = (0, 0, 128)\n",
      "0 2 state[x][x] = 2 color = (0, 255, 0)\n",
      "1 2 state[x][x] = 2 color = (0, 255, 0)\n",
      "2 2 state[x][x] = 2 color = (0, 255, 0)\n"
     ]
    }
   ],
   "source": [
    "#for y in range(3):\n",
    "#    print(y)\n",
    "    \n",
    "for y in range(3):\n",
    "    for x in range(3):\n",
    "        s = state[y][x]  # s is 0, 1, or 2\n",
    "        print(x, y, 'state[x][x] =', s, 'color =', colors[s]) "
   ]
  },
  {
   "cell_type": "code",
   "execution_count": 69,
   "metadata": {},
   "outputs": [],
   "source": [
    "def show2(state):\n",
    "    sense.clear()\n",
    "    for y in range(3):\n",
    "        for x in range(3):\n",
    "            s = state[y][x]  # s is 0, 1, or 2\n",
    "            sense.set_pixel(3*x, 3*y, colors[s])\n",
    "            sense.set_pixel(3*x+1, 3*y, colors[s])\n",
    "            sense.set_pixel(3*x, 3*y+1, colors[s])\n",
    "            sense.set_pixel(3*x+1, 3*y+1, colors[s])\n",
    "show2(state)"
   ]
  },
  {
   "cell_type": "code",
   "execution_count": 58,
   "metadata": {},
   "outputs": [
    {
     "name": "stdout",
     "output_type": "stream",
     "text": [
      "state = [[1, 2, 2], [1, 0, 0], [1, 0, 0]]\n",
      "colors = ((0, 0, 128), (255, 0, 0), (0, 255, 0))\n"
     ]
    }
   ],
   "source": [
    "print('state =', state)\n",
    "print('colors =', colors)"
   ]
  },
  {
   "cell_type": "code",
   "execution_count": 59,
   "metadata": {},
   "outputs": [],
   "source": [
    "show2(state)"
   ]
  },
  {
   "cell_type": "markdown",
   "metadata": {},
   "source": [
    "Supposons maintenant que joueur 1 place une pièce, et joueur 2 place sa pièce."
   ]
  },
  {
   "cell_type": "code",
   "execution_count": 72,
   "metadata": {},
   "outputs": [
    {
     "name": "stdout",
     "output_type": "stream",
     "text": [
      "[[0, 0, 0], [0, 0, 0], [0, 0, 0]]\n"
     ]
    }
   ],
   "source": [
    "init()\n",
    "print(state)\n",
    "show2(state)"
   ]
  },
  {
   "cell_type": "code",
   "execution_count": null,
   "metadata": {},
   "outputs": [],
   "source": []
  },
  {
   "cell_type": "code",
   "execution_count": 60,
   "metadata": {},
   "outputs": [
    {
     "data": {
      "text/plain": [
       "[[1, 2, 2], [1, 0, 0], [0, 0, 0]]"
      ]
     },
     "execution_count": 60,
     "metadata": {},
     "output_type": "execute_result"
    }
   ],
   "source": [
    "state = [[1, 2, 2], [1, 0, 0], [0, 0, 0]]\n",
    "show2(state)\n",
    "state"
   ]
  },
  {
   "cell_type": "markdown",
   "metadata": {},
   "source": [
    "Pour gagner, un jour doit occuper soit\n",
    "* une des 3 lignes\n",
    "* une des 3 colonnes\n",
    "* une des 2 diagonales\n",
    "Nous devons donc faire 8 comparaisons\n",
    "\n",
    "Par exemple la première ligne (index 0) est"
   ]
  },
  {
   "cell_type": "code",
   "execution_count": 48,
   "metadata": {},
   "outputs": [
    {
     "data": {
      "text/plain": [
       "[1, 2, 0]"
      ]
     },
     "execution_count": 48,
     "metadata": {},
     "output_type": "execute_result"
    }
   ],
   "source": [
    "state[0]"
   ]
  },
  {
   "cell_type": "markdown",
   "metadata": {},
   "source": [
    "De la première ligne (index 0) nous accédons le deuxième élément (index 1)"
   ]
  },
  {
   "cell_type": "code",
   "execution_count": 49,
   "metadata": {},
   "outputs": [
    {
     "data": {
      "text/plain": [
       "2"
      ]
     },
     "execution_count": 49,
     "metadata": {},
     "output_type": "execute_result"
    }
   ],
   "source": [
    "state[0][1]"
   ]
  },
  {
   "cell_type": "markdown",
   "metadata": {},
   "source": [
    "## Critères pour gagner\n",
    "Est-ce que les 3 éléments de la première ligne sont identiques ?"
   ]
  },
  {
   "cell_type": "code",
   "execution_count": 50,
   "metadata": {},
   "outputs": [
    {
     "data": {
      "text/plain": [
       "False"
      ]
     },
     "execution_count": 50,
     "metadata": {},
     "output_type": "execute_result"
    }
   ],
   "source": [
    "state[0][0] == state[0][1] == state[0][2]"
   ]
  },
  {
   "cell_type": "markdown",
   "metadata": {},
   "source": [
    "Est-ce que les 3 éléments de la première ligne sont identiques ?"
   ]
  },
  {
   "cell_type": "code",
   "execution_count": 51,
   "metadata": {},
   "outputs": [
    {
     "data": {
      "text/plain": [
       "False"
      ]
     },
     "execution_count": 51,
     "metadata": {},
     "output_type": "execute_result"
    }
   ],
   "source": [
    "state[0][0] == state[0][1] == state[0][2]"
   ]
  },
  {
   "cell_type": "markdown",
   "metadata": {},
   "source": [
    "Est-ce que les 3 éléments de la troisième ligne (index 2) sont identiques ? Oui, car les 3 cases sont vide (représenté par 0)"
   ]
  },
  {
   "cell_type": "code",
   "execution_count": 52,
   "metadata": {},
   "outputs": [
    {
     "data": {
      "text/plain": [
       "True"
      ]
     },
     "execution_count": 52,
     "metadata": {},
     "output_type": "execute_result"
    }
   ],
   "source": [
    "state[2][0] == state[2][1] == state[2][2]"
   ]
  },
  {
   "cell_type": "markdown",
   "metadata": {},
   "source": [
    "Nous pouvons maintenant définir une fonction qui vérifie si le joueur $p$ (player) est dans une situation gagnante."
   ]
  },
  {
   "cell_type": "code",
   "execution_count": 55,
   "metadata": {},
   "outputs": [],
   "source": [
    "def winning(state, p):\n",
    "    return  state[0][0] == state[0][1] == state[0][2] == p or \\\n",
    "            state[1][0] == state[1][1] == state[1][2] == p or \\\n",
    "            state[2][0] == state[2][1] == state[2][2] == p or \\\n",
    "            state[0][0] == state[1][0] == state[2][0] == p or \\\n",
    "            state[0][1] == state[1][1] == state[2][1] == p or \\\n",
    "            state[0][2] == state[1][2] == state[2][2] == p or \\\n",
    "            state[0][0] == state[1][1] == state[2][2] == p or \\\n",
    "            state[0][2] == state[1][1] == state[2][0] == p"
   ]
  },
  {
   "cell_type": "markdown",
   "metadata": {},
   "source": [
    "Vérifions si joueur 1 ou joueur 2 est dans une situation gagnante."
   ]
  },
  {
   "cell_type": "code",
   "execution_count": 54,
   "metadata": {},
   "outputs": [
    {
     "data": {
      "text/plain": [
       "(False, True)"
      ]
     },
     "execution_count": 54,
     "metadata": {},
     "output_type": "execute_result"
    }
   ],
   "source": [
    "winning(state, 1), winning(state, 2)"
   ]
  },
  {
   "cell_type": "markdown",
   "metadata": {},
   "source": [
    "Si le jouer 1 ajoute encore une pièce, il peut gagner."
   ]
  },
  {
   "cell_type": "code",
   "execution_count": 61,
   "metadata": {},
   "outputs": [
    {
     "data": {
      "text/plain": [
       "[[1, 2, 2], [1, 0, 0], [1, 0, 0]]"
      ]
     },
     "execution_count": 61,
     "metadata": {},
     "output_type": "execute_result"
    }
   ],
   "source": [
    "state = [[1, 2, 2], [1, 0, 0], [1, 0, 0]]\n",
    "show2(state)\n",
    "state"
   ]
  },
  {
   "cell_type": "code",
   "execution_count": 62,
   "metadata": {},
   "outputs": [
    {
     "data": {
      "text/plain": [
       "(True, False)"
      ]
     },
     "execution_count": 62,
     "metadata": {},
     "output_type": "execute_result"
    }
   ],
   "source": [
    "winning(state, 1), winning(state, 2)"
   ]
  },
  {
   "cell_type": "markdown",
   "metadata": {},
   "source": [
    "## Mouvement\n",
    "Definissons maintenant la fonction `play(state, p`) qui définit le mouvement pour un joueur $p$. \n",
    "* La position initial du joueur est $(x, y) = (1, 1)$. \n",
    "* Le joueur peut se déplacer en direction $x$ et $y$ modulo 3.\n",
    "\n",
    "* La position du joueur est affiché en bleu\n",
    "* Appuyer sur le bouton central, change l'état et sort de la fonction"
   ]
  },
  {
   "cell_type": "code",
   "execution_count": 77,
   "metadata": {},
   "outputs": [],
   "source": [
    "def play(state, p):\n",
    "    (x, y) = (1, 1)\n",
    "    dirs = {'up':(0, 1), 'down':(0, -1),\n",
    "            'right':(1, 0), 'left':(-1, 0)}\n",
    "    \n",
    "    while True :\n",
    "        for event in sense.stick.get_events():\n",
    "            if event.action == 'pressed':\n",
    "                if event.direction in dirs:\n",
    "                    (dx, dy) = dirs[event.direction]\n",
    "                    \n",
    "                    x = (x + dx) % 3\n",
    "                    y = (y + dy) % 3\n",
    "                    show2(state)\n",
    "                    sense.set_pixel(3*x, 3*y, blue)\n",
    "                    sense.set_pixel(3*x+1, 3*y, blue)\n",
    "                    sense.set_pixel(3*x, 3*y+1, blue)\n",
    "                    sense.set_pixel(3*x+1, 3*y+1, blue)\n",
    "                else:\n",
    "                    state[y][x] = p\n",
    "                    show2(state)\n",
    "                    return          "
   ]
  },
  {
   "cell_type": "markdown",
   "metadata": {},
   "source": [
    "V\n",
    "oici le début d'un jeu avec un tour pour chaque joueur."
   ]
  },
  {
   "cell_type": "code",
   "execution_count": null,
   "metadata": {},
   "outputs": [],
   "source": [
    "init()\n",
    "show2(state)\n",
    "play(state, 1)\n",
    "play(state, 2)"
   ]
  },
  {
   "cell_type": "markdown",
   "metadata": {},
   "source": [
    "Maintenant nous pouvons combiner toutes les fonctions pour jouer un jeu entier:\n",
    "* les joueurs 1 et 2 alternent avec l'expression `3 - player`\n",
    "* quand un joueur gagne, le chiffre 1 ou 2 est affiché pendant 3 secondes\n",
    "* ensuite le jeux est réinitialisé et continue avec le jouer suivant"
   ]
  },
  {
   "cell_type": "code",
   "execution_count": null,
   "metadata": {},
   "outputs": [],
   "source": [
    "init()\n",
    "show2(state)\n",
    "win = False\n",
    "player = 1\n",
    "\n",
    "while True:\n",
    "    play(state, player)\n",
    "    if winning(state, player):\n",
    "        sense.show_letter(str(player))\n",
    "        sleep(3)\n",
    "        init()\n",
    "        show2(state)\n",
    "    player = 3 - player"
   ]
  },
  {
   "cell_type": "code",
   "execution_count": null,
   "metadata": {},
   "outputs": [],
   "source": []
  }
 ],
 "metadata": {
  "kernelspec": {
   "display_name": "Python 3",
   "language": "python",
   "name": "python3"
  },
  "language_info": {
   "codemirror_mode": {
    "name": "ipython",
    "version": 3
   },
   "file_extension": ".py",
   "mimetype": "text/x-python",
   "name": "python",
   "nbconvert_exporter": "python",
   "pygments_lexer": "ipython3",
   "version": "3.5.3"
  }
 },
 "nbformat": 4,
 "nbformat_minor": 2
}
