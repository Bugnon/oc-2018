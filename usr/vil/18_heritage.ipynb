{
 "cells": [
  {
   "cell_type": "markdown",
   "metadata": {},
   "source": [
    "# 18 Héritage\n",
    "\n",
    "L'héritage est la possibilité de définir une nouvelle classe, qui est une version modifié d'une classe existante. Dans cette section nous allons utiliser le jeu de poker, en utilisant des classes qui représentent des cartes à jouer.\n",
    "\n",
    "Référence: https://fr.wikipedia.org/wiki/Poker"
   ]
  },
  {
   "cell_type": "markdown",
   "metadata": {},
   "source": [
    "## Objet carte de jeu"
   ]
  },
  {
   "cell_type": "markdown",
   "metadata": {},
   "source": [
    "Dansu un paquet de cartes il y 52 cartes, dont chacune appartient à une des 4 **couleurs**:\n",
    "* Pique (3)\n",
    "* Coeur (2)\n",
    "* Carreau (1)\n",
    "* Trèfle (0)\n",
    "\n",
    "Les **valeurs** sont:\n",
    "* as (1)\n",
    "* 2, 3, .. 10\n",
    "* valet (11)\n",
    "* dame (12)\n",
    "* roi (13)\n",
    "\n",
    "Nous allons utiliser les nombre en parenthèses pour encoder la **couleur** et la **valeur** d'une carte."
   ]
  },
  {
   "cell_type": "code",
   "execution_count": 1,
   "metadata": {},
   "outputs": [],
   "source": [
    "class Carte:\n",
    "    \"\"\"Représente une carte à jouer standard.\"\"\"\n",
    "    \n",
    "    def __init__(self, couleur=0, valeur=2):\n",
    "        self.couleur = couleur\n",
    "        self.valeur = valeur"
   ]
  },
  {
   "cell_type": "markdown",
   "metadata": {},
   "source": [
    "Pour créer une carte nous appelons ``Carte`` avec la couleur et la valeur."
   ]
  },
  {
   "cell_type": "code",
   "execution_count": 2,
   "metadata": {},
   "outputs": [],
   "source": [
    "dame_de_carreau = Carte(1, 12)"
   ]
  },
  {
   "cell_type": "code",
   "execution_count": 3,
   "metadata": {},
   "outputs": [
    {
     "data": {
      "text/plain": [
       "<__main__.Carte at 0x10762bb70>"
      ]
     },
     "execution_count": 3,
     "metadata": {},
     "output_type": "execute_result"
    }
   ],
   "source": [
    "dame_de_carreau"
   ]
  },
  {
   "cell_type": "markdown",
   "metadata": {},
   "source": [
    "## Attributs de classe\n",
    "Pour afficher les cartes d'une manière facilement lisible pour les humains, nous avons besoin d'une correspondance entre les codes et les couleurs. Nous utilisons des listes, et nous en créons un **attribut de classe**.\n",
    "\n",
    "Ces attributs de classe sont précédé du nom de la classe ``Carte``, ce qui les distingue des **attributs d'instance** tel que `self.couleur`` ou ``self.valeur``."
   ]
  },
  {
   "cell_type": "code",
   "execution_count": 4,
   "metadata": {},
   "outputs": [],
   "source": [
    "class Carte:\n",
    "    \"\"\"Représente une carte à jouer standard.\"\"\"\n",
    "    \n",
    "    couleurs = ['trèfle', 'carreau', 'coeur', 'pique']\n",
    "    valeurs = [None, 'as', '2', '3', '4', '5', '6', '7', \n",
    "               '8', '9', '10', 'valet', 'dame', 'roi']\n",
    "    \n",
    "    def __init__(self, couleur=0, valeur=2):\n",
    "        self.couleur = couleur\n",
    "        self.valeur = valeur\n",
    "        \n",
    "    def __str__(self):\n",
    "        return '{} de {}'.format(Carte.valeurs[self.valeur], \n",
    "                                 Carte.couleurs[self.couleur])"
   ]
  },
  {
   "cell_type": "code",
   "execution_count": 5,
   "metadata": {},
   "outputs": [
    {
     "name": "stdout",
     "output_type": "stream",
     "text": [
      "dame de carreau\n"
     ]
    }
   ],
   "source": [
    "print(Carte(1, 12))"
   ]
  },
  {
   "cell_type": "markdown",
   "metadata": {},
   "source": [
    "Le premier élément de la liste ``Carte.valeurs`` est ``None`` car il n'y a pas de carte avec le code 0."
   ]
  },
  {
   "cell_type": "code",
   "execution_count": 6,
   "metadata": {},
   "outputs": [
    {
     "name": "stdout",
     "output_type": "stream",
     "text": [
      "as de carreau\n",
      "2 de carreau\n",
      "3 de carreau\n",
      "4 de carreau\n",
      "5 de carreau\n",
      "6 de carreau\n",
      "7 de carreau\n",
      "8 de carreau\n",
      "9 de carreau\n",
      "10 de carreau\n",
      "valet de carreau\n",
      "dame de carreau\n",
      "roi de carreau\n"
     ]
    }
   ],
   "source": [
    "for i in range(1, 14):\n",
    "    print(Carte(1, i))"
   ]
  },
  {
   "cell_type": "markdown",
   "metadata": {},
   "source": [
    "## Comparer des cartes\n",
    "Pour la comparaison des types internes (int, float) nous disposons des 6 comparateurs standard (``==``, ``!=``, ``<``, ``<=``, ``>=``, ``>``).  Pour les classes définis par l'utilisateur, nous avons les méthodes spéciales ``__lt__`` (less than). "
   ]
  },
  {
   "cell_type": "code",
   "execution_count": 7,
   "metadata": {},
   "outputs": [],
   "source": [
    "class Carte:\n",
    "    \"\"\"Représente une carte à jouer standard.\"\"\"\n",
    "    \n",
    "    couleurs = ['trèfle', 'carreau', 'coeur', 'pique']\n",
    "    valeurs = [None, 'as', '2', '3', '4', '5', '6', '7', \n",
    "               '8', '9', '10', 'valet', 'dame', 'roi']\n",
    "    \n",
    "    def __init__(self, couleur=0, valeur=2):\n",
    "        self.couleur = couleur\n",
    "        self.valeur = valeur\n",
    "        \n",
    "    def __str__(self):\n",
    "        return '{} de {}'.format(Carte.valeurs[self.valeur], \n",
    "                                 Carte.couleurs[self.couleur])\n",
    "    \n",
    "    def __lt__(self, other):\n",
    "        if self.couleur < other.couleur:\n",
    "            return True\n",
    "        elif self.couleur > other.couleur:\n",
    "            return False\n",
    "        return self.valeur < other.valeur"
   ]
  },
  {
   "cell_type": "markdown",
   "metadata": {},
   "source": [
    "Testons avec deux cartes."
   ]
  },
  {
   "cell_type": "code",
   "execution_count": 8,
   "metadata": {},
   "outputs": [
    {
     "name": "stdout",
     "output_type": "stream",
     "text": [
      "dame de coeur\n",
      "roi de pique\n"
     ]
    },
    {
     "data": {
      "text/plain": [
       "True"
      ]
     },
     "execution_count": 8,
     "metadata": {},
     "output_type": "execute_result"
    }
   ],
   "source": [
    "c1 = Carte(2, 12)\n",
    "c2 = Carte(3, 13)\n",
    "print(c1)\n",
    "print(c2)\n",
    "c1 < c2"
   ]
  },
  {
   "cell_type": "markdown",
   "metadata": {},
   "source": [
    "## Paquet de cartes\n",
    "La prochaine étape es de définir les paquets de cartes."
   ]
  },
  {
   "cell_type": "code",
   "execution_count": 13,
   "metadata": {},
   "outputs": [],
   "source": [
    "class Paquet:\n",
    "    \n",
    "    def __init__(self):\n",
    "        self.cartes = []\n",
    "        for couleur in range(4):\n",
    "            for valeur in range(1, 14):\n",
    "                carte = Carte(couleur, valeur)\n",
    "                self.cartes.append(carte)"
   ]
  },
  {
   "cell_type": "markdown",
   "metadata": {},
   "source": [
    "Créons maintenant un paquet et vérifions la présenece des 52 cartes."
   ]
  },
  {
   "cell_type": "code",
   "execution_count": 14,
   "metadata": {},
   "outputs": [
    {
     "data": {
      "text/plain": [
       "[<__main__.Carte at 0x107660470>,\n",
       " <__main__.Carte at 0x107660978>,\n",
       " <__main__.Carte at 0x107660908>,\n",
       " <__main__.Carte at 0x107660fd0>,\n",
       " <__main__.Carte at 0x107660940>,\n",
       " <__main__.Carte at 0x107660ac8>,\n",
       " <__main__.Carte at 0x1076605c0>,\n",
       " <__main__.Carte at 0x10762ba20>,\n",
       " <__main__.Carte at 0x10762bda0>,\n",
       " <__main__.Carte at 0x1076da048>,\n",
       " <__main__.Carte at 0x1076da0b8>,\n",
       " <__main__.Carte at 0x1076da0f0>,\n",
       " <__main__.Carte at 0x1076da080>,\n",
       " <__main__.Carte at 0x1076da128>,\n",
       " <__main__.Carte at 0x1076da160>,\n",
       " <__main__.Carte at 0x1076da240>,\n",
       " <__main__.Carte at 0x1076da198>,\n",
       " <__main__.Carte at 0x1076da1d0>,\n",
       " <__main__.Carte at 0x1076da208>,\n",
       " <__main__.Carte at 0x1076da358>,\n",
       " <__main__.Carte at 0x1076da320>,\n",
       " <__main__.Carte at 0x1076da278>,\n",
       " <__main__.Carte at 0x1076da2e8>,\n",
       " <__main__.Carte at 0x1076da390>,\n",
       " <__main__.Carte at 0x1076da3c8>,\n",
       " <__main__.Carte at 0x1076da400>,\n",
       " <__main__.Carte at 0x1076da438>,\n",
       " <__main__.Carte at 0x1076da470>,\n",
       " <__main__.Carte at 0x1076da4a8>,\n",
       " <__main__.Carte at 0x1076da4e0>,\n",
       " <__main__.Carte at 0x1076da518>,\n",
       " <__main__.Carte at 0x1076da550>,\n",
       " <__main__.Carte at 0x1076da588>,\n",
       " <__main__.Carte at 0x1076da5c0>,\n",
       " <__main__.Carte at 0x1076da5f8>,\n",
       " <__main__.Carte at 0x1076da630>,\n",
       " <__main__.Carte at 0x1076da668>,\n",
       " <__main__.Carte at 0x1076da6a0>,\n",
       " <__main__.Carte at 0x1076da6d8>,\n",
       " <__main__.Carte at 0x1076da710>,\n",
       " <__main__.Carte at 0x1076da748>,\n",
       " <__main__.Carte at 0x1076da780>,\n",
       " <__main__.Carte at 0x1076da7b8>,\n",
       " <__main__.Carte at 0x1076da7f0>,\n",
       " <__main__.Carte at 0x1076da828>,\n",
       " <__main__.Carte at 0x1076da860>,\n",
       " <__main__.Carte at 0x1076da898>,\n",
       " <__main__.Carte at 0x1076da8d0>,\n",
       " <__main__.Carte at 0x1076da908>,\n",
       " <__main__.Carte at 0x1076da940>,\n",
       " <__main__.Carte at 0x1076da978>,\n",
       " <__main__.Carte at 0x1076da9b0>]"
      ]
     },
     "execution_count": 14,
     "metadata": {},
     "output_type": "execute_result"
    }
   ],
   "source": [
    "p = Paquet()\n",
    "p.cartes"
   ]
  },
  {
   "cell_type": "code",
   "execution_count": 15,
   "metadata": {},
   "outputs": [
    {
     "data": {
      "text/plain": [
       "52"
      ]
     },
     "execution_count": 15,
     "metadata": {},
     "output_type": "execute_result"
    }
   ],
   "source": [
    "len(p.cartes)"
   ]
  },
  {
   "cell_type": "markdown",
   "metadata": {},
   "source": [
    "## Afficher le paquet"
   ]
  },
  {
   "cell_type": "code",
   "execution_count": 17,
   "metadata": {},
   "outputs": [],
   "source": [
    "class Paquet:\n",
    "    \n",
    "    def __init__(self):\n",
    "        self.cartes = []\n",
    "        for couleur in range(4):\n",
    "            for valeur in range(1, 14):\n",
    "                carte = Carte(couleur, valeur)\n",
    "                self.cartes.append(carte)\n",
    "                \n",
    "    def __str__(self):\n",
    "        res = []\n",
    "        for carte in self.cartes:\n",
    "            res.append(str(carte))     \n",
    "        return '\\n'.join(res)            "
   ]
  },
  {
   "cell_type": "code",
   "execution_count": 18,
   "metadata": {},
   "outputs": [
    {
     "name": "stdout",
     "output_type": "stream",
     "text": [
      "as de trèfle\n",
      "2 de trèfle\n",
      "3 de trèfle\n",
      "4 de trèfle\n",
      "5 de trèfle\n",
      "6 de trèfle\n",
      "7 de trèfle\n",
      "8 de trèfle\n",
      "9 de trèfle\n",
      "10 de trèfle\n",
      "valet de trèfle\n",
      "dame de trèfle\n",
      "roi de trèfle\n",
      "as de carreau\n",
      "2 de carreau\n",
      "3 de carreau\n",
      "4 de carreau\n",
      "5 de carreau\n",
      "6 de carreau\n",
      "7 de carreau\n",
      "8 de carreau\n",
      "9 de carreau\n",
      "10 de carreau\n",
      "valet de carreau\n",
      "dame de carreau\n",
      "roi de carreau\n",
      "as de coeur\n",
      "2 de coeur\n",
      "3 de coeur\n",
      "4 de coeur\n",
      "5 de coeur\n",
      "6 de coeur\n",
      "7 de coeur\n",
      "8 de coeur\n",
      "9 de coeur\n",
      "10 de coeur\n",
      "valet de coeur\n",
      "dame de coeur\n",
      "roi de coeur\n",
      "as de pique\n",
      "2 de pique\n",
      "3 de pique\n",
      "4 de pique\n",
      "5 de pique\n",
      "6 de pique\n",
      "7 de pique\n",
      "8 de pique\n",
      "9 de pique\n",
      "10 de pique\n",
      "valet de pique\n",
      "dame de pique\n",
      "roi de pique\n"
     ]
    }
   ],
   "source": [
    "p = Paquet()\n",
    "print(p)"
   ]
  },
  {
   "cell_type": "markdown",
   "metadata": {},
   "source": [
    "## Ajouter, enlever, mélanger et trier\n",
    "Pour distribuer des cartes, nous voudrions une méthode qui enlève une carte du paquet et la renvoie. La méthode de liste ``pop`` offre un moyen pratique pour le faire."
   ]
  },
  {
   "cell_type": "code",
   "execution_count": 19,
   "metadata": {},
   "outputs": [],
   "source": [
    "import random\n",
    "\n",
    "class Paquet:\n",
    "    import random\n",
    "    \n",
    "    def __init__(self):\n",
    "        self.cartes = []\n",
    "        for couleur in range(4):\n",
    "            for valeur in range(1, 14):\n",
    "                carte = Carte(couleur, valeur)\n",
    "                self.cartes.append(carte)\n",
    "                \n",
    "    def __str__(self):\n",
    "        res = []\n",
    "        for carte in self.cartes:\n",
    "            res.append(str(carte))     \n",
    "        return '\\n'.join(res)\n",
    "    \n",
    "    def pop(self):\n",
    "        return self.cartes.pop()\n",
    "    \n",
    "    def add(self, carte):\n",
    "        self.cartes.append(carte)\n",
    "        \n",
    "    def battre(self):\n",
    "        random.shuffle(self.cartes)"
   ]
  },
  {
   "cell_type": "markdown",
   "metadata": {},
   "source": [
    "Créons un nouveau paquet, mélangeons les cartes et tirons-en une."
   ]
  },
  {
   "cell_type": "code",
   "execution_count": 20,
   "metadata": {},
   "outputs": [
    {
     "name": "stdout",
     "output_type": "stream",
     "text": [
      "5 de trèfle\n"
     ]
    }
   ],
   "source": [
    "p = Paquet()\n",
    "p.battre()\n",
    "print(p.pop())"
   ]
  },
  {
   "cell_type": "code",
   "execution_count": null,
   "metadata": {},
   "outputs": [],
   "source": []
  }
 ],
 "metadata": {
  "kernelspec": {
   "display_name": "Python 3",
   "language": "python",
   "name": "python3"
  },
  "language_info": {
   "codemirror_mode": {
    "name": "ipython",
    "version": 3
   },
   "file_extension": ".py",
   "mimetype": "text/x-python",
   "name": "python",
   "nbconvert_exporter": "python",
   "pygments_lexer": "ipython3",
   "version": "3.7.1"
  }
 },
 "nbformat": 4,
 "nbformat_minor": 2
}
