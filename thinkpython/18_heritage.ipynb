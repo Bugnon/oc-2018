{
 "cells": [
  {
   "cell_type": "markdown",
   "metadata": {},
   "source": [
    "# 18 Héritage\n",
    "\n",
    "L'héritage est la possibilité de définir une nouvelle classe, qui est une version modifié d'une classe existante. Dans cette section nous allons utiliser le jeu de poker, en utilisant des classes qui représentent des cartes à jouer.\n",
    "\n",
    "Référence: https://fr.wikipedia.org/wiki/Poker"
   ]
  },
  {
   "cell_type": "markdown",
   "metadata": {},
   "source": [
    "## Objet carte de jeu"
   ]
  },
  {
   "cell_type": "markdown",
   "metadata": {},
   "source": [
    "Dans un paquet de cartes il y 52 cartes, dont chacune appartient à une des 4 **couleurs**:\n",
    "* Pique (3)\n",
    "* Coeur (2)\n",
    "* Carreau (1)\n",
    "* Trèfle (0)\n",
    "\n",
    "Les **valeurs** sont:\n",
    "* as (1)\n",
    "* 2, 3, .. 10\n",
    "* valet (11)\n",
    "* dame (12)\n",
    "* roi (13)\n",
    "\n",
    "Nous allons utiliser les nombre en parenthèses pour encoder la **couleur** et la **valeur** d'une carte."
   ]
  },
  {
   "cell_type": "code",
   "execution_count": 1,
   "metadata": {},
   "outputs": [],
   "source": [
    "class Carte:\n",
    "    \"\"\"Représente une carte à jouer standard.\"\"\"\n",
    "    \n",
    "    def __init__(self, couleur=0, valeur=2):\n",
    "        self.couleur = couleur\n",
    "        self.valeur = valeur"
   ]
  },
  {
   "cell_type": "markdown",
   "metadata": {},
   "source": [
    "Pour créer une carte nous appelons ``Carte`` avec la couleur et la valeur."
   ]
  },
  {
   "cell_type": "code",
   "execution_count": 2,
   "metadata": {},
   "outputs": [],
   "source": [
    "dame_de_carreau = Carte(1, 12)"
   ]
  },
  {
   "cell_type": "code",
   "execution_count": 3,
   "metadata": {},
   "outputs": [
    {
     "data": {
      "text/plain": [
       "<__main__.Carte at 0x1088705f8>"
      ]
     },
     "execution_count": 3,
     "metadata": {},
     "output_type": "execute_result"
    }
   ],
   "source": [
    "dame_de_carreau"
   ]
  },
  {
   "cell_type": "markdown",
   "metadata": {},
   "source": [
    "## Attributs de classe\n",
    "Pour afficher les cartes d'une manière facilement lisible pour les humains, nous avons besoin d'une correspondance entre les codes et les couleurs. Nous utilisons des listes, et nous en créons un **attribut de classe**.\n",
    "\n",
    "Ces attributs de classe sont précédé du nom de la classe ``Carte``, ce qui les distingue des **attributs d'instance** tel que ``self.couleur`` ou ``self.valeur``."
   ]
  },
  {
   "cell_type": "code",
   "execution_count": 5,
   "metadata": {},
   "outputs": [],
   "source": [
    "class Carte:\n",
    "    \"\"\"Représente une carte à jouer standard.\"\"\"\n",
    "    \n",
    "    couleurs = ['trèfle', 'carreau', 'coeur', 'pique']\n",
    "    valeurs = [None, 'as', '2', '3', '4', '5', '6', '7', \n",
    "               '8', '9', '10', 'valet', 'dame', 'roi']\n",
    "    \n",
    "    def __init__(self, couleur=0, valeur=2):\n",
    "        self.couleur = couleur\n",
    "        self.valeur = valeur\n",
    "        \n",
    "    def __str__(self):\n",
    "        return '{} de {}'.format(Carte.valeurs[self.valeur], \n",
    "                                 Carte.couleurs[self.couleur])"
   ]
  },
  {
   "cell_type": "code",
   "execution_count": 5,
   "metadata": {},
   "outputs": [
    {
     "name": "stdout",
     "output_type": "stream",
     "text": [
      "dame de carreau\n"
     ]
    }
   ],
   "source": [
    "print(Carte(1, 12))"
   ]
  },
  {
   "cell_type": "markdown",
   "metadata": {},
   "source": [
    "Le premier élément de la liste ``Carte.valeurs`` est ``None`` car il n'y a pas de carte avec le code 0."
   ]
  },
  {
   "cell_type": "code",
   "execution_count": 6,
   "metadata": {},
   "outputs": [
    {
     "name": "stdout",
     "output_type": "stream",
     "text": [
      "as de carreau\n",
      "2 de carreau\n",
      "3 de carreau\n",
      "4 de carreau\n",
      "5 de carreau\n",
      "6 de carreau\n",
      "7 de carreau\n",
      "8 de carreau\n",
      "9 de carreau\n",
      "10 de carreau\n",
      "valet de carreau\n",
      "dame de carreau\n",
      "roi de carreau\n"
     ]
    }
   ],
   "source": [
    "for i in range(1, 14):\n",
    "    print(Carte(1, i))"
   ]
  },
  {
   "cell_type": "markdown",
   "metadata": {},
   "source": [
    "## Comparer des cartes\n",
    "Pour la comparaison des types internes (int, float) nous disposons des 6 comparateurs standard (``==``, ``!=``, ``<``, ``<=``, ``>=``, ``>``).  Pour les classes définis par l'utilisateur, nous avons les méthodes spéciales ``__lt__`` (less than). "
   ]
  },
  {
   "cell_type": "code",
   "execution_count": 7,
   "metadata": {},
   "outputs": [],
   "source": [
    "class Carte:\n",
    "    \"\"\"Représente une carte à jouer standard.\"\"\"\n",
    "    \n",
    "    couleurs = ['trèfle', 'carreau', 'coeur', 'pique']\n",
    "    valeurs = [None, 'as', '2', '3', '4', '5', '6', '7', \n",
    "               '8', '9', '10', 'valet', 'dame', 'roi']\n",
    "    \n",
    "    def __init__(self, couleur=0, valeur=2):\n",
    "        self.couleur = couleur\n",
    "        self.valeur = valeur\n",
    "        \n",
    "    def __str__(self):\n",
    "        return '{} de {}'.format(Carte.valeurs[self.valeur], \n",
    "                                 Carte.couleurs[self.couleur])\n",
    "    \n",
    "    def __lt__(self, other):\n",
    "        if self.couleur < other.couleur:\n",
    "            return True\n",
    "        elif self.couleur > other.couleur:\n",
    "            return False\n",
    "        return self.valeur < other.valeur"
   ]
  },
  {
   "cell_type": "markdown",
   "metadata": {},
   "source": [
    "Testons avec deux cartes."
   ]
  },
  {
   "cell_type": "code",
   "execution_count": 10,
   "metadata": {},
   "outputs": [
    {
     "name": "stdout",
     "output_type": "stream",
     "text": [
      "dame de pique\n",
      "roi de coeur\n"
     ]
    },
    {
     "data": {
      "text/plain": [
       "False"
      ]
     },
     "execution_count": 10,
     "metadata": {},
     "output_type": "execute_result"
    }
   ],
   "source": [
    "c1 = Carte(3, 12)\n",
    "c2 = Carte(2, 13)\n",
    "print(c1)\n",
    "print(c2)\n",
    "c1 < c2"
   ]
  },
  {
   "cell_type": "markdown",
   "metadata": {},
   "source": [
    "## Paquet de cartes\n",
    "La prochaine étape es de définir les paquets de cartes."
   ]
  },
  {
   "cell_type": "code",
   "execution_count": 11,
   "metadata": {},
   "outputs": [],
   "source": [
    "class Paquet:\n",
    "    \n",
    "    def __init__(self):\n",
    "        self.cartes = []\n",
    "        for couleur in range(4):\n",
    "            for valeur in range(1, 14):\n",
    "                carte = Carte(couleur, valeur)\n",
    "                self.cartes.append(carte)"
   ]
  },
  {
   "cell_type": "markdown",
   "metadata": {},
   "source": [
    "Créons maintenant un paquet et vérifions la présenece des 52 cartes."
   ]
  },
  {
   "cell_type": "code",
   "execution_count": 12,
   "metadata": {},
   "outputs": [
    {
     "data": {
      "text/plain": [
       "[<__main__.Carte at 0x1088a5a90>,\n",
       " <__main__.Carte at 0x1088a5048>,\n",
       " <__main__.Carte at 0x1088a52e8>,\n",
       " <__main__.Carte at 0x1088a5be0>,\n",
       " <__main__.Carte at 0x1088a5d30>,\n",
       " <__main__.Carte at 0x1088a5a20>,\n",
       " <__main__.Carte at 0x1088a5b70>,\n",
       " <__main__.Carte at 0x1088a5ba8>,\n",
       " <__main__.Carte at 0x1088a5240>,\n",
       " <__main__.Carte at 0x1088a56a0>,\n",
       " <__main__.Carte at 0x1088a5860>,\n",
       " <__main__.Carte at 0x1088a5080>,\n",
       " <__main__.Carte at 0x1088a59e8>,\n",
       " <__main__.Carte at 0x1088a57f0>,\n",
       " <__main__.Carte at 0x1088a5940>,\n",
       " <__main__.Carte at 0x1088a59b0>,\n",
       " <__main__.Carte at 0x1088a58d0>,\n",
       " <__main__.Carte at 0x1088a5208>,\n",
       " <__main__.Carte at 0x1088a5358>,\n",
       " <__main__.Carte at 0x1088a5550>,\n",
       " <__main__.Carte at 0x1088a5eb8>,\n",
       " <__main__.Carte at 0x1088a5e80>,\n",
       " <__main__.Carte at 0x1088a5b00>,\n",
       " <__main__.Carte at 0x1088a5cc0>,\n",
       " <__main__.Carte at 0x1088a5da0>,\n",
       " <__main__.Carte at 0x1088a5f98>,\n",
       " <__main__.Carte at 0x1088a5fd0>,\n",
       " <__main__.Carte at 0x1088a5ef0>,\n",
       " <__main__.Carte at 0x1088a5f28>,\n",
       " <__main__.Carte at 0x1088a5dd8>,\n",
       " <__main__.Carte at 0x1088a5e10>,\n",
       " <__main__.Carte at 0x1088a5e48>,\n",
       " <__main__.Carte at 0x108870710>,\n",
       " <__main__.Carte at 0x108870f28>,\n",
       " <__main__.Carte at 0x108870470>,\n",
       " <__main__.Carte at 0x108870be0>,\n",
       " <__main__.Carte at 0x1088706a0>,\n",
       " <__main__.Carte at 0x108870668>,\n",
       " <__main__.Carte at 0x108870588>,\n",
       " <__main__.Carte at 0x108870f60>,\n",
       " <__main__.Carte at 0x108870320>,\n",
       " <__main__.Carte at 0x1088703c8>,\n",
       " <__main__.Carte at 0x108870ac8>,\n",
       " <__main__.Carte at 0x108870f98>,\n",
       " <__main__.Carte at 0x108870748>,\n",
       " <__main__.Carte at 0x108870e48>,\n",
       " <__main__.Carte at 0x108870cf8>,\n",
       " <__main__.Carte at 0x108870c88>,\n",
       " <__main__.Carte at 0x1088708d0>,\n",
       " <__main__.Carte at 0x108870b38>,\n",
       " <__main__.Carte at 0x107cbe5f8>,\n",
       " <__main__.Carte at 0x1088ae0b8>]"
      ]
     },
     "execution_count": 12,
     "metadata": {},
     "output_type": "execute_result"
    }
   ],
   "source": [
    "p = Paquet()\n",
    "p.cartes"
   ]
  },
  {
   "cell_type": "code",
   "execution_count": 13,
   "metadata": {},
   "outputs": [
    {
     "data": {
      "text/plain": [
       "52"
      ]
     },
     "execution_count": 13,
     "metadata": {},
     "output_type": "execute_result"
    }
   ],
   "source": [
    "len(p.cartes)"
   ]
  },
  {
   "cell_type": "markdown",
   "metadata": {},
   "source": [
    "## Afficher le paquet"
   ]
  },
  {
   "cell_type": "code",
   "execution_count": 17,
   "metadata": {},
   "outputs": [],
   "source": [
    "class Paquet:\n",
    "    \n",
    "    def __init__(self):\n",
    "        self.cartes = []\n",
    "        for couleur in range(4):\n",
    "            for valeur in range(1, 14):\n",
    "                carte = Carte(couleur, valeur)\n",
    "                self.cartes.append(carte)\n",
    "                \n",
    "    def __str__(self):\n",
    "        res = []\n",
    "        for carte in self.cartes:\n",
    "            res.append(str(carte))     \n",
    "        return '\\n'.join(res)\n",
    "    \n",
    "    def affiche(self):\n",
    "        for carte in self.cartes:\n",
    "            print(carte)"
   ]
  },
  {
   "cell_type": "code",
   "execution_count": 18,
   "metadata": {},
   "outputs": [
    {
     "name": "stdout",
     "output_type": "stream",
     "text": [
      "as de trèfle\n",
      "2 de trèfle\n",
      "3 de trèfle\n",
      "4 de trèfle\n",
      "5 de trèfle\n",
      "6 de trèfle\n",
      "7 de trèfle\n",
      "8 de trèfle\n",
      "9 de trèfle\n",
      "10 de trèfle\n",
      "valet de trèfle\n",
      "dame de trèfle\n",
      "roi de trèfle\n",
      "as de carreau\n",
      "2 de carreau\n",
      "3 de carreau\n",
      "4 de carreau\n",
      "5 de carreau\n",
      "6 de carreau\n",
      "7 de carreau\n",
      "8 de carreau\n",
      "9 de carreau\n",
      "10 de carreau\n",
      "valet de carreau\n",
      "dame de carreau\n",
      "roi de carreau\n",
      "as de coeur\n",
      "2 de coeur\n",
      "3 de coeur\n",
      "4 de coeur\n",
      "5 de coeur\n",
      "6 de coeur\n",
      "7 de coeur\n",
      "8 de coeur\n",
      "9 de coeur\n",
      "10 de coeur\n",
      "valet de coeur\n",
      "dame de coeur\n",
      "roi de coeur\n",
      "as de pique\n",
      "2 de pique\n",
      "3 de pique\n",
      "4 de pique\n",
      "5 de pique\n",
      "6 de pique\n",
      "7 de pique\n",
      "8 de pique\n",
      "9 de pique\n",
      "10 de pique\n",
      "valet de pique\n",
      "dame de pique\n",
      "roi de pique\n"
     ]
    }
   ],
   "source": [
    "p = Paquet()\n",
    "p.affiche()"
   ]
  },
  {
   "cell_type": "markdown",
   "metadata": {},
   "source": [
    "## Ajouter, enlever, mélanger et trier\n",
    "Pour distribuer des cartes, nous voudrions une méthode qui enlève une carte du paquet et la renvoie. La méthode de liste ``pop`` offre un moyen pratique pour le faire."
   ]
  },
  {
   "cell_type": "code",
   "execution_count": 26,
   "metadata": {},
   "outputs": [
    {
     "data": {
      "text/plain": [
       "[0, 1, 2, 3, 4, 5, 6, 7, 8, 9]"
      ]
     },
     "execution_count": 26,
     "metadata": {},
     "output_type": "execute_result"
    }
   ],
   "source": [
    "L = list(range(10))\n",
    "L"
   ]
  },
  {
   "cell_type": "code",
   "execution_count": 27,
   "metadata": {},
   "outputs": [],
   "source": [
    "import random"
   ]
  },
  {
   "cell_type": "code",
   "execution_count": 33,
   "metadata": {},
   "outputs": [
    {
     "data": {
      "text/plain": [
       "[2, 0, 5, 8, 99, 9, 7, 6, 4, 3, 1]"
      ]
     },
     "execution_count": 33,
     "metadata": {},
     "output_type": "execute_result"
    }
   ],
   "source": [
    "random.shuffle(L)\n",
    "L"
   ]
  },
  {
   "cell_type": "code",
   "execution_count": 30,
   "metadata": {},
   "outputs": [],
   "source": [
    "L.append(99)"
   ]
  },
  {
   "cell_type": "code",
   "execution_count": 23,
   "metadata": {},
   "outputs": [
    {
     "data": {
      "text/plain": [
       "[1, 2, 99]"
      ]
     },
     "execution_count": 23,
     "metadata": {},
     "output_type": "execute_result"
    }
   ],
   "source": [
    "L"
   ]
  },
  {
   "cell_type": "code",
   "execution_count": 2,
   "metadata": {},
   "outputs": [],
   "source": [
    "import random\n",
    "\n",
    "class Paquet:\n",
    "    import random\n",
    "    \n",
    "    def __init__(self):\n",
    "        self.cartes = []\n",
    "        for couleur in range(4):\n",
    "            for valeur in range(1, 14):\n",
    "                carte = Carte(couleur, valeur)\n",
    "                self.cartes.append(carte)\n",
    "                \n",
    "    def __str__(self):\n",
    "        res = []\n",
    "        for carte in self.cartes:\n",
    "            res.append(str(carte))     \n",
    "        return '\\n'.join(res)\n",
    "    \n",
    "    def pop(self):\n",
    "        return self.cartes.pop()\n",
    "    \n",
    "    def add(self, carte):\n",
    "        self.cartes.append(carte)\n",
    "        \n",
    "    def battre(self):\n",
    "        \"\"\"mélanger les cartes.\"\"\"\n",
    "        random.shuffle(self.cartes)\n",
    "    \n",
    "    def deplacer(self, main, nombre):\n",
    "        \"\"\"distribure n cartes à une main.\"\"\"\n",
    "        for i in range(nombre):\n",
    "            main.add(self.pop())"
   ]
  },
  {
   "cell_type": "markdown",
   "metadata": {},
   "source": [
    "Créons un nouveau paquet, mélangeons les cartes et tirons-en une."
   ]
  },
  {
   "cell_type": "code",
   "execution_count": 80,
   "metadata": {},
   "outputs": [
    {
     "name": "stdout",
     "output_type": "stream",
     "text": [
      "9 de trèfle\n",
      "2 de carreau\n",
      "6 de carreau\n"
     ]
    }
   ],
   "source": [
    "p = Paquet()\n",
    "p.battre()\n",
    "p.deplacer(m, 3)\n",
    "print(m)"
   ]
  },
  {
   "cell_type": "code",
   "execution_count": 81,
   "metadata": {},
   "outputs": [
    {
     "name": "stdout",
     "output_type": "stream",
     "text": [
      "9 de trèfle\n",
      "2 de carreau\n",
      "6 de carreau\n",
      "7 de carreau\n",
      "valet de trèfle\n",
      "roi de trèfle\n",
      "valet de coeur\n",
      "10 de pique\n",
      "roi de coeur\n"
     ]
    }
   ],
   "source": [
    "p.deplacer(m, 6)\n",
    "print(m)"
   ]
  },
  {
   "cell_type": "code",
   "execution_count": 38,
   "metadata": {},
   "outputs": [
    {
     "name": "stdout",
     "output_type": "stream",
     "text": [
      "roi de pique\n",
      "5 de trèfle\n",
      "9 de trèfle\n",
      "8 de pique\n",
      "10 de carreau\n",
      "dame de carreau\n",
      "roi de trèfle\n",
      "7 de trèfle\n",
      "8 de carreau\n",
      "7 de carreau\n"
     ]
    }
   ],
   "source": [
    "for i in range(10):\n",
    "    print(p.pop())"
   ]
  },
  {
   "cell_type": "markdown",
   "metadata": {},
   "source": [
    "## Héritage"
   ]
  },
  {
   "cell_type": "code",
   "execution_count": 7,
   "metadata": {},
   "outputs": [],
   "source": [
    "class Main(Paquet):\n",
    "    \"\"\"main au jeu de carte.\"\"\"\n",
    "    \n",
    "    def __init__(self, etiquette = ''):\n",
    "        self.cartes = []\n",
    "        self.etiquette = etiquette"
   ]
  },
  {
   "cell_type": "code",
   "execution_count": 76,
   "metadata": {},
   "outputs": [],
   "source": [
    "p = Paquet()\n",
    "m = Main('Bob')\n",
    "m2 = Main('Alice')"
   ]
  },
  {
   "cell_type": "code",
   "execution_count": 72,
   "metadata": {},
   "outputs": [
    {
     "name": "stdout",
     "output_type": "stream",
     "text": [
      "\n"
     ]
    }
   ],
   "source": [
    "print(m)"
   ]
  },
  {
   "cell_type": "code",
   "execution_count": 73,
   "metadata": {},
   "outputs": [
    {
     "name": "stdout",
     "output_type": "stream",
     "text": [
      "roi de pique\n"
     ]
    }
   ],
   "source": [
    "carte = p.pop()\n",
    "print(carte)"
   ]
  },
  {
   "cell_type": "code",
   "execution_count": 74,
   "metadata": {},
   "outputs": [],
   "source": [
    "m.add(carte)"
   ]
  },
  {
   "cell_type": "code",
   "execution_count": 75,
   "metadata": {},
   "outputs": [
    {
     "name": "stdout",
     "output_type": "stream",
     "text": [
      "roi de pique\n"
     ]
    }
   ],
   "source": [
    "print(m)"
   ]
  },
  {
   "cell_type": "code",
   "execution_count": 78,
   "metadata": {},
   "outputs": [
    {
     "data": {
      "text/plain": [
       "'Alice'"
      ]
     },
     "execution_count": 78,
     "metadata": {},
     "output_type": "execute_result"
    }
   ],
   "source": [
    "m2.etiquette"
   ]
  },
  {
   "cell_type": "markdown",
   "metadata": {},
   "source": [
    "## Exercice 2\n",
    "Écrivez une méthode de Paquet appelée distribue_mains qui prend deux paramètres, le nombre de mains à distribuer et le nombre de cartes par main. Elle doit créer le nombre voulu d'objets Main, distribuer le nombre approprié de cartes par main et renvoyer une liste de Mains."
   ]
  },
  {
   "cell_type": "code",
   "execution_count": 3,
   "metadata": {},
   "outputs": [],
   "source": [
    "class Paquet2(Paquet):\n",
    "    \"\"\"hérite toutes les méthodes de Paquet.\"\"\"\n",
    "    \n",
    "    def distribue_mains(self, nbr_mains, nbr_cartes):\n",
    "        \"\"\"distribue des cartes du paquets vers les mains.\"\"\"\n",
    "        mains = []\n",
    "        for i in range(nbr_mains):\n",
    "            main = Main()\n",
    "            mains.append(main)\n",
    "            for j in range(nbr_cartes):\n",
    "                carte = self.pop()\n",
    "                main.add(carte)\n",
    "        return mains"
   ]
  },
  {
   "cell_type": "code",
   "execution_count": 8,
   "metadata": {},
   "outputs": [],
   "source": [
    "p = Paquet2()\n",
    "p.battre()\n",
    "mains = p.distribue_mains(3, 12)"
   ]
  },
  {
   "cell_type": "code",
   "execution_count": 11,
   "metadata": {},
   "outputs": [
    {
     "name": "stdout",
     "output_type": "stream",
     "text": [
      "dame de trèfle\n",
      "3 de trèfle\n",
      "6 de carreau\n",
      "2 de trèfle\n",
      "10 de coeur\n",
      "2 de carreau\n",
      "9 de coeur\n",
      "roi de carreau\n",
      "3 de pique\n",
      "4 de carreau\n",
      "4 de pique\n",
      "8 de coeur\n",
      "\n",
      "6 de pique\n",
      "8 de carreau\n",
      "7 de carreau\n",
      "as de pique\n",
      "9 de pique\n",
      "dame de pique\n",
      "as de coeur\n",
      "5 de pique\n",
      "7 de pique\n",
      "9 de carreau\n",
      "8 de pique\n",
      "6 de trèfle\n",
      "\n",
      "4 de trèfle\n",
      "roi de coeur\n",
      "3 de coeur\n",
      "7 de trèfle\n",
      "as de trèfle\n",
      "9 de trèfle\n",
      "dame de carreau\n",
      "roi de trèfle\n",
      "10 de pique\n",
      "5 de trèfle\n",
      "8 de trèfle\n",
      "as de carreau\n",
      "\n"
     ]
    }
   ],
   "source": [
    "for main in mains:\n",
    "    print(main)\n",
    "    print()"
   ]
  },
  {
   "cell_type": "code",
   "execution_count": 17,
   "metadata": {},
   "outputs": [
    {
     "name": "stdout",
     "output_type": "stream",
     "text": [
      "as de trèfle\n",
      "2 de trèfle\n",
      "3 de trèfle\n",
      "4 de trèfle\n"
     ]
    }
   ],
   "source": [
    "m = Main()\n",
    "m.add(Carte(0, 1))\n",
    "m.add(Carte(0, 2))\n",
    "m.add(Carte(0, 3))\n",
    "m.add(Carte(0, 4))\n",
    "print(m)"
   ]
  },
  {
   "cell_type": "markdown",
   "metadata": {},
   "source": [
    "## Calculer un histogramme\n",
    "Pour calculer un histogramme nous utilisons un dictionnaires qui associe à chaque élément une frequence. ``\n",
    "element:fréquence``. Dans l'exemple ci-dessous nous calculons un histogramme pour une liste. Si l'élément n'est pas encore dans le histogramme, sa fréquence est 1. Si l'élément existe déjà, nous incrémentons sa fréquence."
   ]
  },
  {
   "cell_type": "code",
   "execution_count": 31,
   "metadata": {},
   "outputs": [
    {
     "name": "stdout",
     "output_type": "stream",
     "text": [
      "{1: 3, 2: 2, 3: 2, 6: 1, 7: 1}\n"
     ]
    }
   ],
   "source": [
    "L = [1, 2, 3, 3, 6, 7, 2, 1, 1]\n",
    "hist = {}\n",
    "for x in L:\n",
    "    if x not in hist:\n",
    "        hist[x] = 1\n",
    "    else:\n",
    "        hist[x] += 1\n",
    "print(hist)"
   ]
  },
  {
   "cell_type": "markdown",
   "metadata": {},
   "source": [
    "En utilisant la methode ``dict.get(val, default)`` nous pouvons raccourcir encore le calcul."
   ]
  },
  {
   "cell_type": "code",
   "execution_count": 40,
   "metadata": {},
   "outputs": [
    {
     "name": "stdout",
     "output_type": "stream",
     "text": [
      "{1: 3, 2: 2, 3: 2, 6: 1, 7: 1}\n"
     ]
    }
   ],
   "source": [
    "hist = {}\n",
    "for x in L:\n",
    "    hist[x] = hist.get(x, 0) + 1\n",
    "print(hist)"
   ]
  },
  {
   "cell_type": "code",
   "execution_count": 54,
   "metadata": {},
   "outputs": [],
   "source": [
    "def histogram(L):\n",
    "    \"\"\"Calculate a frequency histogram for the elements of L.\"\"\"\n",
    "    d = {}\n",
    "    for x in L:\n",
    "        d[x] = d.get(x, 0) + 1\n",
    "    return d"
   ]
  },
  {
   "cell_type": "code",
   "execution_count": 55,
   "metadata": {},
   "outputs": [
    {
     "name": "stdout",
     "output_type": "stream",
     "text": [
      "{'h': 1, 'e': 1, 'l': 3, 'o': 2, ' ': 1, 'w': 1, 'r': 1, 'd': 1}\n"
     ]
    }
   ],
   "source": [
    "h1 = histogram('hello world')\n",
    "print(h1)"
   ]
  },
  {
   "cell_type": "markdown",
   "metadata": {},
   "source": [
    "Trouver un les pairs et les triples devient maintenant très simple."
   ]
  },
  {
   "cell_type": "code",
   "execution_count": 74,
   "metadata": {},
   "outputs": [
    {
     "name": "stdout",
     "output_type": "stream",
     "text": [
      "Double letters: o\n"
     ]
    }
   ],
   "source": [
    "print('Double letters:', end=' ')\n",
    "for x in h1:\n",
    "    if h1[x] == 2:\n",
    "        print(x)"
   ]
  },
  {
   "cell_type": "code",
   "execution_count": 73,
   "metadata": {},
   "outputs": [
    {
     "name": "stdout",
     "output_type": "stream",
     "text": [
      "Triple letters: l\n"
     ]
    }
   ],
   "source": [
    "print('Triple letters:', end=' ')\n",
    "for x in h1:\n",
    "    if h1[x] == 3:\n",
    "        print(x)"
   ]
  },
  {
   "cell_type": "code",
   "execution_count": 72,
   "metadata": {},
   "outputs": [
    {
     "name": "stdout",
     "output_type": "stream",
     "text": [
      "Simple letters: h, e,  , w, r, d, "
     ]
    }
   ],
   "source": [
    "print('Simple letters:', end=' ')\n",
    "for x in h1:\n",
    "    if h1[x] == 1:\n",
    "        print(x, end=', ')"
   ]
  },
  {
   "cell_type": "markdown",
   "metadata": {},
   "source": [
    "## Poker\n",
    "Copions le fichier **Cards.py** dans le dossier ou se trouve ce notebook  \n",
    "https://allen-downey.developpez.com/livres/python/pensez-python/fichiers/Card.py "
   ]
  },
  {
   "cell_type": "markdown",
   "metadata": {},
   "source": [
    "from Card import Hand, Deck"
   ]
  },
  {
   "cell_type": "code",
   "execution_count": 95,
   "metadata": {},
   "outputs": [],
   "source": [
    "class PokerHand(Hand):\n",
    "    \"\"\"Reprensents a poker hand of 5 cards.\"\"\"\n",
    "    def __init__(self):\n",
    "        Hand.__init__(self)\n",
    "        self.make_histogram()\n",
    "        \n",
    "    def make_histogram(self):\n",
    "        self.ranks = {}\n",
    "        self.suits = {}\n",
    "        for c in self.cards:\n",
    "            self.ranks[c.rank] = self.ranks.get(c.rank, 0) + 1\n",
    "            self.suits[c.suit] = self.suits.get(c.suit, 0) + 1"
   ]
  },
  {
   "cell_type": "code",
   "execution_count": 97,
   "metadata": {},
   "outputs": [
    {
     "name": "stdout",
     "output_type": "stream",
     "text": [
      "8 of Hearts\n",
      "2 of Spades\n",
      "Ace of Diamonds\n",
      "3 of Spades\n",
      "King of Clubs\n",
      "8 of Diamonds\n",
      "3 of Diamonds\n",
      "{8: 2, 2: 1, 1: 1, 3: 2, 13: 1}\n",
      "{2: 1, 3: 2, 1: 3, 0: 1}\n"
     ]
    }
   ],
   "source": [
    "deck = Deck()\n",
    "hand = Hand()\n",
    "poker = PokerHand()\n",
    "deck.shuffle()\n",
    "deck.move_cards(hand, 7)\n",
    "deck.move_cards(poker, 7)\n",
    "poker.make_histogram()\n",
    "print(poker)\n",
    "print(poker.ranks)\n",
    "print(poker.suits)"
   ]
  },
  {
   "cell_type": "code",
   "execution_count": 81,
   "metadata": {},
   "outputs": [
    {
     "name": "stdout",
     "output_type": "stream",
     "text": [
      "Ace of Clubs\n",
      "2 of Clubs\n",
      "3 of Clubs\n",
      "4 of Clubs\n",
      "5 of Clubs\n",
      "6 of Clubs\n",
      "7 of Clubs\n",
      "8 of Clubs\n",
      "9 of Clubs\n",
      "10 of Clubs\n",
      "Jack of Clubs\n",
      "Queen of Clubs\n",
      "King of Clubs\n",
      "Ace of Diamonds\n",
      "2 of Diamonds\n",
      "3 of Diamonds\n",
      "4 of Diamonds\n",
      "5 of Diamonds\n",
      "6 of Diamonds\n",
      "7 of Diamonds\n",
      "8 of Diamonds\n",
      "9 of Diamonds\n",
      "10 of Diamonds\n",
      "Jack of Diamonds\n",
      "Queen of Diamonds\n",
      "King of Diamonds\n",
      "Ace of Hearts\n",
      "2 of Hearts\n",
      "3 of Hearts\n",
      "4 of Hearts\n",
      "5 of Hearts\n",
      "6 of Hearts\n",
      "7 of Hearts\n",
      "8 of Hearts\n",
      "9 of Hearts\n",
      "10 of Hearts\n",
      "Jack of Hearts\n",
      "Queen of Hearts\n",
      "King of Hearts\n",
      "Ace of Spades\n",
      "2 of Spades\n",
      "3 of Spades\n",
      "4 of Spades\n",
      "5 of Spades\n",
      "6 of Spades\n",
      "7 of Spades\n",
      "8 of Spades\n",
      "9 of Spades\n",
      "10 of Spades\n",
      "Jack of Spades\n",
      "Queen of Spades\n",
      "King of Spades\n"
     ]
    }
   ],
   "source": [
    "print(d)"
   ]
  },
  {
   "cell_type": "code",
   "execution_count": 98,
   "metadata": {},
   "outputs": [],
   "source": [
    "ranks = {1:1, 2:2, 3:1, 4:2, 11:1}"
   ]
  },
  {
   "cell_type": "code",
   "execution_count": 107,
   "metadata": {},
   "outputs": [
    {
     "data": {
      "text/plain": [
       "[2, 2, 1, 1, 1]"
      ]
     },
     "execution_count": 107,
     "metadata": {},
     "output_type": "execute_result"
    }
   ],
   "source": [
    "L = list(ranks.values())\n",
    "L.sort(reverse=True)\n",
    "L"
   ]
  },
  {
   "cell_type": "code",
   "execution_count": 117,
   "metadata": {},
   "outputs": [
    {
     "data": {
      "text/plain": [
       "[('a', '0'), ('b', '1')]"
      ]
     },
     "execution_count": 117,
     "metadata": {},
     "output_type": "execute_result"
    }
   ],
   "source": [
    "list(zip('ab', '01234'))"
   ]
  },
  {
   "cell_type": "code",
   "execution_count": 118,
   "metadata": {},
   "outputs": [
    {
     "name": "stdout",
     "output_type": "stream",
     "text": [
      "Help on class zip in module builtins:\n",
      "\n",
      "class zip(object)\n",
      " |  zip(iter1 [,iter2 [...]]) --> zip object\n",
      " |  \n",
      " |  Return a zip object whose .__next__() method returns a tuple where\n",
      " |  the i-th element comes from the i-th iterable argument.  The .__next__()\n",
      " |  method continues until the shortest iterable in the argument sequence\n",
      " |  is exhausted and then it raises StopIteration.\n",
      " |  \n",
      " |  Methods defined here:\n",
      " |  \n",
      " |  __getattribute__(self, name, /)\n",
      " |      Return getattr(self, name).\n",
      " |  \n",
      " |  __iter__(self, /)\n",
      " |      Implement iter(self).\n",
      " |  \n",
      " |  __next__(self, /)\n",
      " |      Implement next(self).\n",
      " |  \n",
      " |  __reduce__(...)\n",
      " |      Return state information for pickling.\n",
      " |  \n",
      " |  ----------------------------------------------------------------------\n",
      " |  Static methods defined here:\n",
      " |  \n",
      " |  __new__(*args, **kwargs) from builtins.type\n",
      " |      Create and return a new object.  See help(type) for accurate signature.\n",
      "\n"
     ]
    }
   ],
   "source": []
  },
  {
   "cell_type": "markdown",
   "metadata": {},
   "source": [
    "## Fréquences avec 5 cartes\n",
    "Avec un paquet de 52 cartes, il y $52$ possibilités pour une tirer une carte, et $52 \\times 51$ \n",
    "pour tirer deux deux cartes. Pour tirer 5 cartes le nombre de possibilités est:"
   ]
  },
  {
   "cell_type": "code",
   "execution_count": 122,
   "metadata": {},
   "outputs": [
    {
     "data": {
      "text/plain": [
       "311875200"
      ]
     },
     "execution_count": 122,
     "metadata": {},
     "output_type": "execute_result"
    }
   ],
   "source": [
    "52 * 51 * 50 * 49 * 48"
   ]
  },
  {
   "cell_type": "markdown",
   "metadata": {},
   "source": [
    "Par contre il a plusieurs façons de tirer les mêmes 5 cartes."
   ]
  },
  {
   "cell_type": "code",
   "execution_count": 121,
   "metadata": {},
   "outputs": [
    {
     "data": {
      "text/plain": [
       "120"
      ]
     },
     "execution_count": 121,
     "metadata": {},
     "output_type": "execute_result"
    }
   ],
   "source": [
    "1 * 2 * 3 * 4 * 5"
   ]
  },
  {
   "cell_type": "markdown",
   "metadata": {},
   "source": [
    "Finalement, le nombre de combinaisons différents, en écartant l'ordre de tirage est:"
   ]
  },
  {
   "cell_type": "code",
   "execution_count": 124,
   "metadata": {},
   "outputs": [
    {
     "data": {
      "text/plain": [
       "2598960"
      ]
     },
     "execution_count": 124,
     "metadata": {},
     "output_type": "execute_result"
    }
   ],
   "source": [
    "(52 * 51 * 50 * 49 * 48) // (1 * 2 * 3 * 4 * 5)"
   ]
  },
  {
   "cell_type": "code",
   "execution_count": 131,
   "metadata": {},
   "outputs": [],
   "source": [
    "import math\n",
    "\n",
    "def nCr(n,r):\n",
    "    f = math.factorial\n",
    "    return f(n) // f(r) // f(n-r)"
   ]
  },
  {
   "cell_type": "code",
   "execution_count": 132,
   "metadata": {},
   "outputs": [
    {
     "data": {
      "text/plain": [
       "2598960"
      ]
     },
     "execution_count": 132,
     "metadata": {},
     "output_type": "execute_result"
    }
   ],
   "source": [
    "nCr(52, 5)"
   ]
  },
  {
   "cell_type": "code",
   "execution_count": null,
   "metadata": {},
   "outputs": [],
   "source": []
  }
 ],
 "metadata": {
  "kernelspec": {
   "display_name": "Python 3",
   "language": "python",
   "name": "python3"
  },
  "language_info": {
   "codemirror_mode": {
    "name": "ipython",
    "version": 3
   },
   "file_extension": ".py",
   "mimetype": "text/x-python",
   "name": "python",
   "nbconvert_exporter": "python",
   "pygments_lexer": "ipython3",
   "version": "3.7.1"
  }
 },
 "nbformat": 4,
 "nbformat_minor": 2
}
