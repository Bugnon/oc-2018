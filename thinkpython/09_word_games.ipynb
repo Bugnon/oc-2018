{
 "cells": [
  {
   "cell_type": "markdown",
   "metadata": {},
   "source": [
    "# Jouer avec les mots"
   ]
  },
  {
   "cell_type": "markdown",
   "metadata": {},
   "source": [
    "Les mots utilisés dans ce chapitre sont des mots français pour le Scrabble de Jean-Philippe Durand, disponible sous http://jph.durand.free.fr/scrabble.txt"
   ]
  },
  {
   "cell_type": "markdown",
   "metadata": {},
   "source": [
    "## Lire des listes de mots"
   ]
  },
  {
   "cell_type": "code",
   "execution_count": 1,
   "metadata": {},
   "outputs": [],
   "source": [
    "fin = open('mots.txt')"
   ]
  },
  {
   "cell_type": "markdown",
   "metadata": {},
   "source": [
    "Le premier mot est *AA* qui est une sorte de lave. Les mots se terminent par le caractère de saut de ligne `\\n` (newline)."
   ]
  },
  {
   "cell_type": "code",
   "execution_count": 2,
   "metadata": {},
   "outputs": [
    {
     "data": {
      "text/plain": [
       "'AA\\n'"
      ]
     },
     "execution_count": 2,
     "metadata": {},
     "output_type": "execute_result"
    }
   ],
   "source": [
    "fin.readline()"
   ]
  },
  {
   "cell_type": "markdown",
   "metadata": {},
   "source": [
    "L'objet `fin` garde en mémoire la ligne lu, et continue avec la prochaine ligne."
   ]
  },
  {
   "cell_type": "code",
   "execution_count": 3,
   "metadata": {},
   "outputs": [
    {
     "data": {
      "text/plain": [
       "'AH\\n'"
      ]
     },
     "execution_count": 3,
     "metadata": {},
     "output_type": "execute_result"
    }
   ],
   "source": [
    "fin.readline()"
   ]
  },
  {
   "cell_type": "markdown",
   "metadata": {},
   "source": [
    "Nous pouvons nous débarasser du newline avec la fonction `strip`"
   ]
  },
  {
   "cell_type": "code",
   "execution_count": 4,
   "metadata": {},
   "outputs": [
    {
     "data": {
      "text/plain": [
       "'AI'"
      ]
     },
     "execution_count": 4,
     "metadata": {},
     "output_type": "execute_result"
    }
   ],
   "source": [
    "fin.readline().strip()"
   ]
  },
  {
   "cell_type": "code",
   "execution_count": 9,
   "metadata": {},
   "outputs": [
    {
     "name": "stdout",
     "output_type": "stream",
     "text": [
      "KA\n",
      "LA\n",
      "LE\n",
      "LI\n",
      "LU\n",
      "MA\n",
      "ME\n",
      "MI\n",
      "MU\n",
      "NA\n"
     ]
    }
   ],
   "source": [
    "for i in range(10):\n",
    "    print(fin.readline().strip())"
   ]
  },
  {
   "cell_type": "markdown",
   "metadata": {},
   "source": [
    "## Exercice"
   ]
  },
  {
   "cell_type": "markdown",
   "metadata": {},
   "source": [
    "### ex 1 - Mots avec 14 caractères"
   ]
  },
  {
   "cell_type": "code",
   "execution_count": 10,
   "metadata": {},
   "outputs": [
    {
     "name": "stdout",
     "output_type": "stream",
     "text": [
      "ABANDONNERAIENT\n",
      "ABASOURDIRAIENT\n",
      "ABASOURDISSANTE\n",
      "ABASOURDISSANTS\n",
      "ABOLITIONNISTES\n",
      "ABRACADABRANTES\n",
      "ABSTENTIONNISME\n",
      "ABSTENTIONNISTE\n",
      "ACCLIMATERAIENT\n",
      "ACCOMMODERAIENT\n",
      "ACCOMPAGNATEURS\n",
      "ACCOMPAGNATRICE\n",
      "ACCOMPAGNEMENTS\n",
      "ACCOMPAGNERIONS\n",
      "ACCOMPLISSAIENT\n",
      "ACCOMPLISSEMENT\n",
      "ACCOUTUMERAIENT\n",
      "ACCREDITERAIENT\n",
      "ACCUEILLERAIENT\n",
      "ACQUIESCERAIENT\n",
      "ACTUALISERAIENT\n"
     ]
    }
   ],
   "source": [
    "fin = open('mots.txt')\n",
    "n = 0\n",
    "for line in fin:\n",
    "    line = line.strip()\n",
    "    if len(line)>14:\n",
    "        print(line)\n",
    "        n += 1\n",
    "    if n>20:\n",
    "        break"
   ]
  },
  {
   "cell_type": "markdown",
   "metadata": {},
   "source": [
    "### ex 2 - mots sans E"
   ]
  },
  {
   "cell_type": "code",
   "execution_count": 11,
   "metadata": {},
   "outputs": [
    {
     "data": {
      "text/plain": [
       "(False, True)"
      ]
     },
     "execution_count": 11,
     "metadata": {},
     "output_type": "execute_result"
    }
   ],
   "source": [
    "def sans_e(mot):\n",
    "    return not 'E' in mot\n",
    "\n",
    "sans_e('HELLO'), sans_e('CIAO')"
   ]
  },
  {
   "cell_type": "code",
   "execution_count": 13,
   "metadata": {},
   "outputs": [
    {
     "name": "stdout",
     "output_type": "stream",
     "text": [
      "ABASOURDISSANTS\n",
      "ADMINISTRATIONS\n",
      "AFFRANCHISSIONS\n",
      "APPROFONDIRIONS\n",
      "APPROFONDISSAIS\n",
      "APPROFONDISSAIT\n",
      "APPROFONDISSANT\n",
      "APPROFONDISSONS\n",
      "APPROVISIONNAIS\n",
      "APPROVISIONNAIT\n",
      "APPROVISIONNANT\n"
     ]
    }
   ],
   "source": [
    "fin = open('mots.txt')\n",
    "n = 0\n",
    "for line in fin:\n",
    "    line = line.strip()\n",
    "    if len(line)>14 and sans_e(line):\n",
    "        print(line)\n",
    "        n += 1\n",
    "    if n>10:\n",
    "        break"
   ]
  },
  {
   "cell_type": "code",
   "execution_count": 14,
   "metadata": {},
   "outputs": [
    {
     "name": "stdout",
     "output_type": "stream",
     "text": [
      "18020 0.1380240048407975\n"
     ]
    }
   ],
   "source": [
    "fin = open('mots.txt')\n",
    "n = 0\n",
    "i = 0\n",
    "for line in fin:\n",
    "    line = line.strip()\n",
    "    n += 1\n",
    "    if sans_e(line):\n",
    "        i += 1\n",
    "print(i, i/n)"
   ]
  },
  {
   "cell_type": "markdown",
   "metadata": {},
   "source": [
    "### ex 3 - eviter"
   ]
  },
  {
   "cell_type": "code",
   "execution_count": 17,
   "metadata": {},
   "outputs": [
    {
     "data": {
      "text/plain": [
       "(False, True)"
      ]
     },
     "execution_count": 17,
     "metadata": {},
     "output_type": "execute_result"
    }
   ],
   "source": [
    "def evite(mot, interdit):\n",
    "    for c in mot:\n",
    "        if c in interdit: \n",
    "            return False\n",
    "    return True\n",
    "\n",
    "evite('hello', 'epfl'), evite('ciao', 'epfl')"
   ]
  },
  {
   "cell_type": "code",
   "execution_count": 22,
   "metadata": {},
   "outputs": [
    {
     "name": "stdout",
     "output_type": "stream",
     "text": [
      "forbidden letters = AIUEO\n",
      "VS\n",
      "CPT\n",
      "DRY\n",
      "GYM\n",
      "LYS\n",
      "PFF\n",
      "PST\n",
      "PSY\n",
      "GYMS\n",
      "LYNX\n",
      "13\n"
     ]
    }
   ],
   "source": [
    "interdit = input('forbidden letters = ')\n",
    "fin = open('mots.txt')\n",
    "interdit = interdit.upper()\n",
    "n = 0\n",
    "k = 0\n",
    "for line in fin:\n",
    "    line = line.strip()\n",
    "    if evite(line, interdit):\n",
    "        n += 1\n",
    "        if k < 10:\n",
    "            print(line)\n",
    "            k += 1\n",
    "print(n)"
   ]
  },
  {
   "cell_type": "markdown",
   "metadata": {},
   "source": [
    "### ex 4 - utiliser seulement"
   ]
  },
  {
   "cell_type": "code",
   "execution_count": 24,
   "metadata": {},
   "outputs": [
    {
     "data": {
      "text/plain": [
       "(True, False)"
      ]
     },
     "execution_count": 24,
     "metadata": {},
     "output_type": "execute_result"
    }
   ],
   "source": [
    "def utilise(mot, permis):\n",
    "    for c in mot:\n",
    "        if c not in permis:\n",
    "            return False\n",
    "    return True\n",
    "\n",
    "utilise('hello', 'helpo'), utilise('hello', 'hefko'), "
   ]
  },
  {
   "cell_type": "code",
   "execution_count": 28,
   "metadata": {},
   "outputs": [
    {
     "name": "stdout",
     "output_type": "stream",
     "text": [
      "allowed letters = acefhlo\n",
      "AA\n",
      "AH\n",
      "CA\n",
      "CE\n",
      "EH\n",
      "FA\n",
      "HA\n",
      "HE\n",
      "HO\n",
      "LA\n",
      "122\n"
     ]
    }
   ],
   "source": [
    "permis = input('allowed letters = ')\n",
    "fin = open('mots.txt')\n",
    "permis = permis.upper()\n",
    "n = 0\n",
    "k = 0\n",
    "for line in fin:\n",
    "    line = line.strip()\n",
    "    if utilise(line, permis):\n",
    "        n += 1\n",
    "        if k < 10:\n",
    "            print(line)\n",
    "            k += 1\n",
    "print(n)"
   ]
  },
  {
   "cell_type": "markdown",
   "metadata": {},
   "source": [
    "### ex 5 - utiliser tous"
   ]
  },
  {
   "cell_type": "code",
   "execution_count": 30,
   "metadata": {},
   "outputs": [
    {
     "data": {
      "text/plain": [
       "(True, False)"
      ]
     },
     "execution_count": 30,
     "metadata": {},
     "output_type": "execute_result"
    }
   ],
   "source": [
    "def utilise_tout(mot, lettres):\n",
    "    for c in lettres:\n",
    "        if c not in mot:\n",
    "            return False\n",
    "    return True\n",
    "\n",
    "utilise_tout('hello', 'hel'), utilise_tout('hello', 'helk')"
   ]
  },
  {
   "cell_type": "code",
   "execution_count": 32,
   "metadata": {},
   "outputs": [
    {
     "name": "stdout",
     "output_type": "stream",
     "text": [
      "NOYAUTIEZ\n",
      "NOYAUTERAI\n",
      "ROUGEOYAIT\n",
      "RUDOYAIENT\n",
      "TUTOYAIENT\n",
      "YAOURTIERE\n",
      "COUDOYAIENT\n",
      "LOUVOYAIENT\n",
      "NOYAUTAIENT\n",
      "NOYAUTERAIS\n",
      "60\n"
     ]
    }
   ],
   "source": [
    "lettres = 'aeiouy'.upper()\n",
    "fin = open('mots.txt')\n",
    "n = 0\n",
    "k = 0\n",
    "for line in fin:\n",
    "    line = line.strip()\n",
    "    if utilise_tout(line, lettres):\n",
    "        n += 1\n",
    "        if k < 10:\n",
    "            print(line)\n",
    "            k += 1\n",
    "print(n)"
   ]
  },
  {
   "cell_type": "markdown",
   "metadata": {},
   "source": [
    "### ex 6 - ordre alphabétique"
   ]
  },
  {
   "cell_type": "code",
   "execution_count": 34,
   "metadata": {},
   "outputs": [
    {
     "data": {
      "text/plain": [
       "(False, True)"
      ]
     },
     "execution_count": 34,
     "metadata": {},
     "output_type": "execute_result"
    }
   ],
   "source": [
    "def est_en_ordre_alphabetique(mot):\n",
    "    n = len(mot)\n",
    "    for i in range(n-1):\n",
    "        if mot[i]>mot[i+1]:\n",
    "            return False\n",
    "    return True\n",
    "\n",
    "est_en_ordre_alphabetique('hello'), est_en_ordre_alphabetique('bello'),"
   ]
  },
  {
   "cell_type": "code",
   "execution_count": 41,
   "metadata": {
    "scrolled": false
   },
   "outputs": [
    {
     "name": "stdout",
     "output_type": "stream",
     "text": [
      "ABBES\n",
      "ABCES\n",
      "ACCES\n",
      "ACCRU\n",
      "AGIOS\n",
      "ALORS\n",
      "BIJOU\n",
      "BOSSU\n",
      "CEINT\n",
      "CHIOT\n",
      "205\n"
     ]
    }
   ],
   "source": [
    "fin = open('mots.txt')\n",
    "n = 0\n",
    "k = 0\n",
    "for line in fin:\n",
    "    line = line.strip()\n",
    "    if est_en_ordre_alphabetique(line):\n",
    "        n += 1\n",
    "        if 180 < n and k<10:\n",
    "            print(line)\n",
    "            k += 1\n",
    "print(n)"
   ]
  },
  {
   "cell_type": "code",
   "execution_count": null,
   "metadata": {},
   "outputs": [],
   "source": []
  }
 ],
 "metadata": {
  "kernelspec": {
   "display_name": "Python 3",
   "language": "python",
   "name": "python3"
  },
  "language_info": {
   "codemirror_mode": {
    "name": "ipython",
    "version": 3
   },
   "file_extension": ".py",
   "mimetype": "text/x-python",
   "name": "python",
   "nbconvert_exporter": "python",
   "pygments_lexer": "ipython3",
   "version": "3.7.0"
  }
 },
 "nbformat": 4,
 "nbformat_minor": 2
}
