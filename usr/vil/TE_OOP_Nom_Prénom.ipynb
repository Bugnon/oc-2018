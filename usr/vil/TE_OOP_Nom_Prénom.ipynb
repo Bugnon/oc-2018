{
 "cells": [
  {
   "cell_type": "markdown",
   "metadata": {},
   "source": [
    "# TE Object-Oriented Programming (OOP)"
   ]
  },
  {
   "cell_type": "markdown",
   "metadata": {},
   "source": [
    "Traivail écrit sur Object-Oriented Programming (OOP)\n",
    "* Nom: \n",
    "* Prénom:\n",
    "* Classe: OC informatique\n",
    "* Date: 8 mai 2018"
   ]
  },
  {
   "cell_type": "markdown",
   "metadata": {},
   "source": [
    "# Variables de classe, Variables d'instance"
   ]
  },
  {
   "cell_type": "markdown",
   "metadata": {},
   "source": [
    "Complétez la definition de la classe __Humain__ avec les méthodes:\n",
    "* __init()__\n",
    "* __str()__\n",
    "* __imc()__ (indice de masse corporelle)\n",
    "* __corpulence()__\n",
    "\n",
    "Dans votre calcul vous devez utiliser \n",
    "* les 3 __variables de classe__ (genres, interpretations, limites)  et \n",
    "* les 4 __variables d'instance__ (nom, poids, taille, genre)"
   ]
  },
  {
   "cell_type": "code",
   "execution_count": 3,
   "metadata": {},
   "outputs": [],
   "source": [
    "class Humain():\n",
    "    '''Décrit un humain avec nom, taille, poids, et genre (m/f).'''\n",
    "    \n",
    "    genres = ('homme', 'femme')\n",
    "    interpretations = ('anorexique', 'maigre', 'normal', 'obèse')\n",
    "    limites = [16.5, 18.5, 25, 100]\n",
    "    \n",
    "    def __init__(self, nom, poids, taille, genre):\n",
    "        \"\"\"Definit une instance de la classe Humain.\"\"\"\n",
    "        self.nom = nom \n",
    "        self.poids = poids\n",
    "        self.taille = taille\n",
    "        self.genre = genre\n",
    "       \n",
    "\n",
    "    def __str__(self):\n",
    "        \"\"\"Retourne une description de l'instance.\"\"\"\n",
    "        return self.nom +':'+ self.genr + ':' + 'de' + ':' + str(self.poids) +'Kg'+\\'et de ' + str(self.taille) +'m'\n",
    "        \n",
    "    \n",
    "    def imc(self):\n",
    "        \"\"\"Calcule l'indice de masse corporelle (poids_kg/taille_m**2)\"\"\"\n",
    "        return self.poids / seld.taille**2\n",
    "        \n",
    "    def corpulence(self):\n",
    "        \"\"\"Evalue la corpulence: anorexique <16.5, maigre <18.5, normale <25, obèse\"\"\"\n",
    "        imc = self.imc()\n",
    "        for i in range(4):\n",
    "            init = Humain.limites[i]\n",
    "            label = Humain.intepretation[i]\n",
    "            if imc<limit:\n",
    "                return label\n",
    "            "
   ]
  },
  {
   "cell_type": "code",
   "execution_count": null,
   "metadata": {},
   "outputs": [],
   "source": [
    "Humain"
   ]
  },
  {
   "cell_type": "code",
   "execution_count": null,
   "metadata": {},
   "outputs": [],
   "source": [
    "__main__.Humain"
   ]
  },
  {
   "cell_type": "code",
   "execution_count": null,
   "metadata": {},
   "outputs": [],
   "source": []
  },
  {
   "cell_type": "markdown",
   "metadata": {},
   "source": [
    "Exemples"
   ]
  },
  {
   "cell_type": "code",
   "execution_count": 22,
   "metadata": {},
   "outputs": [
    {
     "name": "stdout",
     "output_type": "stream",
     "text": [
      "Steve : homme de 150 kg et de taille 1.75 m\n",
      "Cindy : femme de 50 kg et de taille 1.8 m\n",
      "Billy : femme de 75 kg et de taille 1.75 m\n",
      "\n",
      "Steve imc = 48.9 obèse\n",
      "Cindy imc = 15.4 anorexique\n",
      "Billy imc = 24.4 normal\n"
     ]
    }
   ],
   "source": [
    "steve = Humain('Steve', 150, 1.75, 0)\n",
    "cindy = Humain('Cindy', 50, 1.80, 1)\n",
    "billy = Humain('Billy', 75, 1.75, 1)\n",
    "\n",
    "print(steve.nom, \":\", steve)\n",
    "print(cindy.nom, \":\", cindy)\n",
    "print(billy.nom, \":\", billy)\n",
    "print()\n",
    "print(steve.nom, \"imc =\", steve.imc(), steve.corpulence())\n",
    "print(cindy.nom, \"imc =\", cindy.imc(), cindy.corpulence())\n",
    "print(billy.nom, \"imc =\", billy.imc(), billy.corpulence())"
   ]
  },
  {
   "cell_type": "markdown",
   "metadata": {},
   "source": [
    "# Méthodes spéciales de comparaison"
   ]
  },
  {
   "cell_type": "markdown",
   "metadata": {},
   "source": [
    "Créez des définitions pour\n",
    "* une classe __Vec3__,\n",
    "* une méthode pour imprimer `__str__(self)`\n",
    "* une méthode __norm()__ pour calculer longeur\n",
    "* six méthodes speciales de comparaison (<, <=,  ==, !=, >=, >)\n",
    "\n",
    "Qui permet d'obtenir les résultats ci-dessous"
   ]
  },
  {
   "cell_type": "code",
   "execution_count": 1,
   "metadata": {},
   "outputs": [
    {
     "ename": "IndentationError",
     "evalue": "unexpected indent (<ipython-input-1-776eb9c86a77>, line 13)",
     "output_type": "error",
     "traceback": [
      "\u001b[0;36m  File \u001b[0;32m\"<ipython-input-1-776eb9c86a77>\"\u001b[0;36m, line \u001b[0;32m13\u001b[0m\n\u001b[0;31m    return 'vec3({},{},{})'.format(self.x, self.y, self.z)\u001b[0m\n\u001b[0m    ^\u001b[0m\n\u001b[0;31mIndentationError\u001b[0m\u001b[0;31m:\u001b[0m unexpected indent\n"
     ]
    }
   ],
   "source": [
    "import math\n",
    "\n",
    "class Vec3():\n",
    "    def __init__(self, x=0, y=0, z=0):\n",
    "        \"\"\"Initialise un vecteur avec les 3 composantes (x, y, z).\"\"\"\n",
    "        self.x = x\n",
    "        self.y = y\n",
    "        self.z = z\n",
    "        \n",
    "        \n",
    "    def __str__(self):\n",
    "        \"\"\"Retourne une represation sous forme 'Vec3(x, y, z)'\"\"\"\n",
    "           return 'vec3({},{},{})'.format(self.x, self.y, self.z)\n",
    "    \n",
    "    def norm(self):\n",
    "        \"\"\"Calcule la norme (la longueur) du vecteur.\"\"\"\n",
    "            n = self.x**2 + self.y**2 + self.z**2\n",
    "            return maths.sqrt(n)\n",
    "        \n",
    "    def __lt__(self, other):\n",
    "        return self.norm() < other.norm\n",
    "\n",
    "    def __le__(self, other):\n",
    "        return self.norm() <= other.norm\n",
    "\n",
    "    def __eq__(self, other):\n",
    "        return self.norm() == other.norm\n",
    "\n",
    "    def __ne__(self, other):\n",
    "        return self.norm() != other.norm\n",
    "\n",
    "    def __ge__(self, other):\n",
    "        return self.norm() => other.norm\n",
    "\n",
    "    def __gt__(self, other):\n",
    "        return self.norm() > other.norm"
   ]
  },
  {
   "cell_type": "code",
   "execution_count": 3,
   "metadata": {},
   "outputs": [
    {
     "ename": "NameError",
     "evalue": "name 'Vec3' is not defined",
     "output_type": "error",
     "traceback": [
      "\u001b[0;31m---------------------------------------------------------------------------\u001b[0m",
      "\u001b[0;31mNameError\u001b[0m                                 Traceback (most recent call last)",
      "\u001b[0;32m<ipython-input-3-104d57df030f>\u001b[0m in \u001b[0;36m<module>\u001b[0;34m\u001b[0m\n\u001b[1;32m      1\u001b[0m \u001b[0;34m\u001b[0m\u001b[0m\n\u001b[0;32m----> 2\u001b[0;31m \u001b[0ma\u001b[0m \u001b[0;34m=\u001b[0m \u001b[0mVec3\u001b[0m\u001b[0;34m(\u001b[0m\u001b[0;36m1\u001b[0m\u001b[0;34m,\u001b[0m\u001b[0;36m1\u001b[0m\u001b[0;34m,\u001b[0m\u001b[0;36m1\u001b[0m\u001b[0;34m)\u001b[0m\u001b[0;34m\u001b[0m\u001b[0;34m\u001b[0m\u001b[0m\n\u001b[0m\u001b[1;32m      3\u001b[0m \u001b[0mb\u001b[0m \u001b[0;34m=\u001b[0m \u001b[0mVec3\u001b[0m\u001b[0;34m(\u001b[0m\u001b[0;36m1\u001b[0m\u001b[0;34m,\u001b[0m\u001b[0;34m-\u001b[0m\u001b[0;36m1\u001b[0m\u001b[0;34m,\u001b[0m\u001b[0;36m2\u001b[0m\u001b[0;34m)\u001b[0m\u001b[0;34m\u001b[0m\u001b[0;34m\u001b[0m\u001b[0m\n\u001b[1;32m      4\u001b[0m \u001b[0mv\u001b[0m \u001b[0;34m=\u001b[0m \u001b[0mvec3\u001b[0m\u001b[0;34m(\u001b[0m\u001b[0;36m1\u001b[0m\u001b[0;34m,\u001b[0m\u001b[0;36m2\u001b[0m\u001b[0;34m,\u001b[0m\u001b[0;36m3\u001b[0m\u001b[0;34m)\u001b[0m\u001b[0;34m\u001b[0m\u001b[0;34m\u001b[0m\u001b[0m\n\u001b[1;32m      5\u001b[0m \u001b[0mprint\u001b[0m\u001b[0;34m(\u001b[0m\u001b[0mvars\u001b[0m\u001b[0;34m(\u001b[0m\u001b[0mv\u001b[0m\u001b[0;34m)\u001b[0m\u001b[0;34m)\u001b[0m\u001b[0;34m\u001b[0m\u001b[0;34m\u001b[0m\u001b[0m\n",
      "\u001b[0;31mNameError\u001b[0m: name 'Vec3' is not defined"
     ]
    }
   ],
   "source": [
    "\n",
    "a = Vec3(1,1,1)\n",
    "b = Vec3(1,-1,2)\n",
    "v = vec3(1,2,3)\n",
    "print(vars(v))\n",
    "print(v)\n",
    "print(v.norm())"
   ]
  },
  {
   "cell_type": "markdown",
   "metadata": {},
   "source": [
    "Exemple"
   ]
  },
  {
   "cell_type": "code",
   "execution_count": 24,
   "metadata": {},
   "outputs": [
    {
     "name": "stdout",
     "output_type": "stream",
     "text": [
      "Vec3(1,1,1) Vec3(1,-1,2)\n",
      "1.7320508075688772 2.449489742783178\n",
      "True True False True False False\n"
     ]
    }
   ],
   "source": [
    "a = Vec3(1, 1 ,1)\n",
    "b = Vec3(1, -1, 2)\n",
    "print(a, b)\n",
    "print(a.norm(), b.norm())\n",
    "print(a<b, a<=b, a==b, a!=b, a>=b, a>b)"
   ]
  },
  {
   "cell_type": "markdown",
   "metadata": {},
   "source": [
    "# Héritage"
   ]
  },
  {
   "cell_type": "markdown",
   "metadata": {},
   "source": [
    "Definissez\n",
    "* une class __Polygon__\n",
    "* une variable de classe __names__ avec la valeur ('triangle', 'rectangle', 'pentagon', 'hexagon')\n",
    "* une méthode `__init__(self, n, s)` qui initialise le polygone\n",
    "* une méthode __str()__ qui affiche le mot _triangle, rectangle, pentagon, hexagon_ si n<=6\n",
    "* une méthode __perimeter()__ qui calcule le périmètre (n * s)\n",
    "* une méthode __angle()__ qui calcule l'angle interne (180-360/n)\n",
    "* des sous-classes __Triangle__, __Square__, __Pentagon__, basées sur __Polygon__\n",
    "* qui utilisent la méthode `super().__init__(n, s)` pour accéder a une méthode de la classe parent\n",
    "\n",
    "Qui affiche les valeurs ci-dessous"
   ]
  },
  {
   "cell_type": "code",
   "execution_count": 15,
   "metadata": {},
   "outputs": [],
   "source": [
    "class Polygon():\n",
    "    names = ('triangle', 'rectangle', 'pentagon', 'hexagon')\n",
    "    \n",
    "    def __init__(self, n=3, s=1):\n",
    "        \"\"\"regular polygon witn n sides of lenght s.\"\"\"\n",
    "        self.n = n\n",
    "        self.s = s\n",
    "       \n",
    "\n",
    "    def __str__(self):\n",
    "        if self.n <= 6 :\n",
    "            return polygon.names[self.n - 3]\n",
    "        else :\n",
    "            return 'polygon with' + str(self.n) + 'sides'\n",
    "\n",
    "    def perimeter(self):\n",
    "        \"\"\"return perimeter\"\"\"\n",
    "        return self.n + self.s\n",
    "        \n",
    "    def angle(self):\n",
    "        \"\"\"return interior angle\"\"\"\n",
    "        return 180-360/self.n\n",
    "\n",
    "class Triangle(Polygon):\n",
    "    def __init(self, n=1):\n",
    "         super(Triangle, self).__init__(n=3, s=s)\n",
    "\n",
    "class Square(Polygon): \n",
    "    def __init(self, n=1):\n",
    "         super(Square, self).__init__(n=3, s=s)\n",
    "            \n",
    "class Pentagon(Polygon):\n",
    "     def __init(self, n=1):\n",
    "             super(Pentagon, self).__init__(n=3, s=s)\n",
    "\n",
    "\n",
    "                "
   ]
  },
  {
   "cell_type": "code",
   "execution_count": 13,
   "metadata": {},
   "outputs": [
    {
     "name": "stdout",
     "output_type": "stream",
     "text": [
      " 11 144.0\n"
     ]
    }
   ],
   "source": [
    "p = Polygon(n=3, s=10) \n",
    "t = Triangle(10)\n",
    "    \n",
    "print(t, t.perimeter(), t.angle())"
   ]
  },
  {
   "cell_type": "markdown",
   "metadata": {},
   "source": [
    "Exemples"
   ]
  },
  {
   "cell_type": "code",
   "execution_count": 13,
   "metadata": {},
   "outputs": [
    {
     "name": "stdout",
     "output_type": "stream",
     "text": [
      "name           side      perimeter      angle\n",
      "triangle       3         9              60.0\n",
      "rectangle      2         8              90.0\n",
      "pentagon       1         5              108.0\n"
     ]
    }
   ],
   "source": [
    "print('{:15}{:10}{:15}{}'.format('name', 'side', 'perimeter', 'angle'))\n",
    "for p in (Triangle(3), Square(2), Pentagon(1)):\n",
    "    print('{:15}{:<10}{:<15}{}'.format(str(p), p.s, p.perimeter(), p.angle()))"
   ]
  },
  {
   "cell_type": "markdown",
   "metadata": {},
   "source": [
    "# Code Morse"
   ]
  },
  {
   "cell_type": "markdown",
   "metadata": {},
   "source": [
    "Définissez les 2 méthodes:\n",
    "* toMorse(self)\n",
    "* fromMorse(self)"
   ]
  },
  {
   "cell_type": "code",
   "execution_count": 29,
   "metadata": {},
   "outputs": [],
   "source": [
    "class Morse(str):\n",
    "    codes = {'a':'.-', 'b':'-...', 'c':'-.-.', 'd':'-..', 'e':'.', 'f':'..-.', 'g':'--.', 'h':'....', \n",
    "         'i':'..', 'j':'.---', 'k':'-.-', 'l':'.-..', 'm':'--', 'n':'-.', 'o':'---', 'p':'.--.', 'q':'--.-', \n",
    "         'r':'.-.', 's':'...', 't':'-', 'u':'..-', 'v':'...-', 'w':'.--', 'x':'-..-', 'y':'-.--', 'z':'--..'}\n",
    "    \n",
    "    #inv_codes = {m: c for c, m in Morse.codes.items()}\n",
    "    inv_codes = {'-...':'b','.':'e'}\n",
    "    \n",
    "    def __init__(self, msg):\n",
    "        self.msg = msg\n",
    "\n",
    "    def toMorse(self):\n",
    "        \"\"\"Transforme une chaine en code Morse\"\"\"\n",
    "        res = ''\n",
    "        for c in self.msg:\n",
    "            c = c.lower()\n",
    "            m = Morse.codes[c]\n",
    "            #print(c, m)\n",
    "            res += m +''\n",
    "        return res\n",
    "    \n",
    "    def fromMorse(self):\n",
    "        \"\"\"Transforme un code Morse en chaine de caractères\"\"\"\n",
    "        L = self.msg.split('')\n",
    "        res = ''\n",
    "        for m in L:\n",
    "            c = morse.inv_codes[m]\n",
    "            print(m, c)\n",
    "            res += c\n",
    "        return res"
   ]
  },
  {
   "cell_type": "code",
   "execution_count": 31,
   "metadata": {},
   "outputs": [
    {
     "ename": "ValueError",
     "evalue": "empty separator",
     "output_type": "error",
     "traceback": [
      "\u001b[0;31m---------------------------------------------------------------------------\u001b[0m",
      "\u001b[0;31mValueError\u001b[0m                                Traceback (most recent call last)",
      "\u001b[0;32m<ipython-input-31-ed2a2fb9e193>\u001b[0m in \u001b[0;36m<module>\u001b[0;34m\u001b[0m\n\u001b[0;32m----> 1\u001b[0;31m \u001b[0mMorse\u001b[0m\u001b[0;34m(\u001b[0m\u001b[0;34m'-...'\u001b[0m\u001b[0;34m)\u001b[0m\u001b[0;34m.\u001b[0m\u001b[0mfromMorse\u001b[0m\u001b[0;34m(\u001b[0m\u001b[0;34m)\u001b[0m\u001b[0;34m\u001b[0m\u001b[0;34m\u001b[0m\u001b[0m\n\u001b[0m",
      "\u001b[0;32m<ipython-input-29-483acddab960>\u001b[0m in \u001b[0;36mfromMorse\u001b[0;34m(self)\u001b[0m\n\u001b[1;32m     22\u001b[0m     \u001b[0;32mdef\u001b[0m \u001b[0mfromMorse\u001b[0m\u001b[0;34m(\u001b[0m\u001b[0mself\u001b[0m\u001b[0;34m)\u001b[0m\u001b[0;34m:\u001b[0m\u001b[0;34m\u001b[0m\u001b[0;34m\u001b[0m\u001b[0m\n\u001b[1;32m     23\u001b[0m         \u001b[0;34m\"\"\"Transforme un code Morse en chaine de caractères\"\"\"\u001b[0m\u001b[0;34m\u001b[0m\u001b[0;34m\u001b[0m\u001b[0m\n\u001b[0;32m---> 24\u001b[0;31m         \u001b[0mL\u001b[0m \u001b[0;34m=\u001b[0m \u001b[0mself\u001b[0m\u001b[0;34m.\u001b[0m\u001b[0mmsg\u001b[0m\u001b[0;34m.\u001b[0m\u001b[0msplit\u001b[0m\u001b[0;34m(\u001b[0m\u001b[0;34m''\u001b[0m\u001b[0;34m)\u001b[0m\u001b[0;34m\u001b[0m\u001b[0;34m\u001b[0m\u001b[0m\n\u001b[0m\u001b[1;32m     25\u001b[0m         \u001b[0mres\u001b[0m \u001b[0;34m=\u001b[0m \u001b[0;34m''\u001b[0m\u001b[0;34m\u001b[0m\u001b[0;34m\u001b[0m\u001b[0m\n\u001b[1;32m     26\u001b[0m         \u001b[0;32mfor\u001b[0m \u001b[0mm\u001b[0m \u001b[0;32min\u001b[0m \u001b[0mL\u001b[0m\u001b[0;34m:\u001b[0m\u001b[0;34m\u001b[0m\u001b[0;34m\u001b[0m\u001b[0m\n",
      "\u001b[0;31mValueError\u001b[0m: empty separator"
     ]
    }
   ],
   "source": [
    "Morse('-...').fromMorse()"
   ]
  },
  {
   "cell_type": "code",
   "execution_count": 24,
   "metadata": {},
   "outputs": [
    {
     "data": {
      "text/plain": [
       "'..-...-.---'"
      ]
     },
     "execution_count": 24,
     "metadata": {},
     "output_type": "execute_result"
    }
   ],
   "source": [
    "Morse('info').toMorse()"
   ]
  },
  {
   "cell_type": "code",
   "execution_count": 25,
   "metadata": {},
   "outputs": [
    {
     "data": {
      "text/plain": [
       "'...---...'"
      ]
     },
     "execution_count": 25,
     "metadata": {},
     "output_type": "execute_result"
    }
   ],
   "source": [
    "\n",
    "\n",
    "\n",
    "\n",
    "Morse('SOS').toMorse()"
   ]
  },
  {
   "cell_type": "code",
   "execution_count": null,
   "metadata": {},
   "outputs": [],
   "source": []
  },
  {
   "cell_type": "raw",
   "metadata": {},
   "source": [
    "\n",
    "\n",
    "\n",
    "\n",
    "Exemples"
   ]
  },
  {
   "cell_type": "code",
   "execution_count": 108,
   "metadata": {},
   "outputs": [
    {
     "name": "stdout",
     "output_type": "stream",
     "text": [
      "SOS\n",
      "... --- ... \n"
     ]
    }
   ],
   "source": [
    "s = Morse('SOS')\n",
    "print(s)\n",
    "print(s.toMorse())"
   ]
  },
  {
   "cell_type": "code",
   "execution_count": 112,
   "metadata": {},
   "outputs": [
    {
     "name": "stdout",
     "output_type": "stream",
     "text": [
      "hello\n",
      ".... . .-.. .-.. --- \n"
     ]
    }
   ],
   "source": [
    "h = Morse('hello')\n",
    "print(h)\n",
    "print(h.toMorse())"
   ]
  },
  {
   "cell_type": "code",
   "execution_count": 111,
   "metadata": {},
   "outputs": [
    {
     "name": "stdout",
     "output_type": "stream",
     "text": [
      "hello\n"
     ]
    }
   ],
   "source": [
    "print(Morse('.... . .-.. .-.. ---').fromMorse())"
   ]
  },
  {
   "cell_type": "markdown",
   "metadata": {},
   "source": [
    "# Extension d'un module"
   ]
  },
  {
   "cell_type": "markdown",
   "metadata": {},
   "source": [
    "Une classe peut étendre un module existant. \n",
    "\n",
    "Créez une nouvelle classe __FrenchDate__ basé sur _datetime.date_ qui redefinit la fonction `__str__(self)` pour imprimer une date avec le mois écrit en lettres en français."
   ]
  },
  {
   "cell_type": "code",
   "execution_count": 37,
   "metadata": {},
   "outputs": [],
   "source": [
    "import datetime\n",
    "\n",
    "class FrenchDate(datetime.date):\n",
    "    months = ('janvier', 'février', 'mars', 'avril', 'mai', 'juin', \n",
    "              'juillet', 'aout', 'septembre', 'octobre', 'novembre', 'décembre')\n",
    "    \n",
    "    def __str__(self):\n",
    "        return str(self.day) +'' + FrenchDate.month(self.month) + str(self.year)"
   ]
  },
  {
   "cell_type": "code",
   "execution_count": 38,
   "metadata": {},
   "outputs": [
    {
     "name": "stdout",
     "output_type": "stream",
     "text": [
      "2019-05-14\n"
     ]
    },
    {
     "ename": "NameError",
     "evalue": "name 'date' is not defined",
     "output_type": "error",
     "traceback": [
      "\u001b[0;31m---------------------------------------------------------------------------\u001b[0m",
      "\u001b[0;31mNameError\u001b[0m                                 Traceback (most recent call last)",
      "\u001b[0;32m<ipython-input-38-66d746f183f5>\u001b[0m in \u001b[0;36m<module>\u001b[0;34m\u001b[0m\n\u001b[1;32m      3\u001b[0m \u001b[0md\u001b[0m \u001b[0;34m=\u001b[0m \u001b[0mdatetime\u001b[0m\u001b[0;34m.\u001b[0m\u001b[0mdate\u001b[0m\u001b[0;34m(\u001b[0m\u001b[0;36m2019\u001b[0m\u001b[0;34m,\u001b[0m \u001b[0;36m5\u001b[0m\u001b[0;34m,\u001b[0m \u001b[0;36m14\u001b[0m\u001b[0;34m)\u001b[0m\u001b[0;34m\u001b[0m\u001b[0;34m\u001b[0m\u001b[0m\n\u001b[1;32m      4\u001b[0m \u001b[0mprint\u001b[0m\u001b[0;34m(\u001b[0m\u001b[0md\u001b[0m\u001b[0;34m)\u001b[0m\u001b[0;34m\u001b[0m\u001b[0;34m\u001b[0m\u001b[0m\n\u001b[0;32m----> 5\u001b[0;31m \u001b[0mnow\u001b[0m \u001b[0;34m=\u001b[0m \u001b[0mdate\u001b[0m\u001b[0;34m.\u001b[0m\u001b[0mtime\u001b[0m\u001b[0;34m(\u001b[0m\u001b[0;36m9\u001b[0m\u001b[0;34m,\u001b[0m \u001b[0;36m10\u001b[0m\u001b[0;34m,\u001b[0m \u001b[0;36m15\u001b[0m\u001b[0;34m)\u001b[0m\u001b[0;34m\u001b[0m\u001b[0;34m\u001b[0m\u001b[0m\n\u001b[0m\u001b[1;32m      6\u001b[0m \u001b[0mprint\u001b[0m\u001b[0;34m(\u001b[0m\u001b[0mnow\u001b[0m\u001b[0;34m)\u001b[0m\u001b[0;34m\u001b[0m\u001b[0;34m\u001b[0m\u001b[0m\n",
      "\u001b[0;31mNameError\u001b[0m: name 'date' is not defined"
     ]
    }
   ],
   "source": [
    "import datetime \n",
    "\n",
    "d = datetime.date(2019, 5, 14)\n",
    "print(d)\n",
    "now = date.time(9, 10, 15)\n",
    "print(now)"
   ]
  },
  {
   "cell_type": "markdown",
   "metadata": {},
   "source": [
    "Exemple"
   ]
  },
  {
   "cell_type": "code",
   "execution_count": 121,
   "metadata": {},
   "outputs": [
    {
     "name": "stdout",
     "output_type": "stream",
     "text": [
      "23 mai 1999\n"
     ]
    }
   ],
   "source": [
    "fd = FrenchDate(1999, 5, 23)\n",
    "print(fd)"
   ]
  },
  {
   "cell_type": "markdown",
   "metadata": {},
   "source": [
    "Créez une nouvelle classe __JapaneseDate__ basé sur _datetime.date_ qui imprime une date sous deux formes:\n",
    "* avec des symboles japonaises : 2000年2月23日 (vous pouvez copier-coller ces caractères)\n",
    "* en phonétique (romaji) : 2000-nen-2-gatsu-23-nichi"
   ]
  },
  {
   "cell_type": "code",
   "execution_count": 126,
   "metadata": {},
   "outputs": [],
   "source": [
    "class JapaneseDate(datetime.date):\n",
    "    def __str__(self):\n",
    "        pass\n",
    "    \n",
    "    def romaji(self):\n",
    "        pass"
   ]
  },
  {
   "cell_type": "markdown",
   "metadata": {},
   "source": [
    "Exemple"
   ]
  },
  {
   "cell_type": "code",
   "execution_count": 123,
   "metadata": {},
   "outputs": [
    {
     "name": "stdout",
     "output_type": "stream",
     "text": [
      "2000年2月23日\n",
      "2000-nen-2-gatsu-23-nichi\n"
     ]
    }
   ],
   "source": [
    "jd = JapaneseDate(2000, 2, 23)\n",
    "print(jd)\n",
    "print(jd.romaji())"
   ]
  }
 ],
 "metadata": {
  "kernelspec": {
   "display_name": "Python 3",
   "language": "python",
   "name": "python3"
  },
  "language_info": {
   "codemirror_mode": {
    "name": "ipython",
    "version": 3
   },
   "file_extension": ".py",
   "mimetype": "text/x-python",
   "name": "python",
   "nbconvert_exporter": "python",
   "pygments_lexer": "ipython3",
   "version": "3.7.1"
  }
 },
 "nbformat": 4,
 "nbformat_minor": 2
}
