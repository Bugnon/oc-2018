{
 "cells": [
  {
   "cell_type": "markdown",
   "metadata": {},
   "source": [
    "# __Les Données sur Python__\n",
    "\n",
    "Auteur: Mirko Pirona, Gymnase du Bugnon, 3MOCINFO\n",
    "\n",
    "Date: Mai 2019\n",
    "\n",
    "![Python Logo](../img/Python_logo.png)\n",
    "\n"
   ]
  },
  {
   "cell_type": "markdown",
   "metadata": {},
   "source": [
    "## Liste \n",
    "\n",
    "Une liste en python est une séquence de valeurs. Les valeurs dans la liste sont appelé **éléments**. Les valeurs dans une liste peuvent être de n'importe quel type (chaîne de caractère, flottant, entier et même une autre liste). Il existe plusieurs façon de créer une nouvelle liste dont la plus commune qui consiste à entourer les éléments par des crochets ([ et ]):"
   ]
  },
  {
   "cell_type": "code",
   "execution_count": null,
   "metadata": {},
   "outputs": [],
   "source": [
    "[5, 10, 15, 20, 25]\n",
    "\n",
    "['Macdonald', 'Burger King', 'Holly Cow']\n",
    "\n",
    "[10, 'Gymnase du Bugnon', [10, 20, 30]]"
   ]
  },
  {
   "cell_type": "markdown",
   "metadata": {},
   "source": [
    "Comme on peut le constater dans la dernière ligne de l'exemple au-dessus une liste dans une liste est dite **imbriquée**. Il est possible de de créer une liste qui ne contient aucun éléement cette liste est dite vide. Il est également possible d'affecter des valeurs aux variables de la liste:"
   ]
  },
  {
   "cell_type": "code",
   "execution_count": null,
   "metadata": {},
   "outputs": [],
   "source": [
    "Devises = ['Dollar', 'Euro', 'Franc']\n",
    "\n",
    "Nombres = [5, 10, 15]\n",
    "\n",
    "Liste_Vide = []\n",
    "\n",
    "print(Devises, Nombres, Liste_Vide)"
   ]
  },
  {
   "cell_type": "markdown",
   "metadata": {},
   "source": [
    "Les listes sont modifiables mais avant de pouvoir les modifier il faut accéder aux éléments de la liste. Pour ce faire il suffit d'utiliser l'opérateur [] d'indexation. Il ne faut pas oublier que l'expression placée entre crochets spécifie l'indice (le premier indice est 0 et non pas 1). Lorsque l'opérateur d'indexation apparaît du côté gauche de l'affectation, il identifie l'élément de la liste auquel la valeur sera effectée."
   ]
  },
  {
   "cell_type": "code",
   "execution_count": null,
   "metadata": {},
   "outputs": [],
   "source": [
    "Devises = ['Dollar', 'Euro', 'Franc']\n",
    "\n",
    "Devises[1]"
   ]
  },
  {
   "cell_type": "code",
   "execution_count": null,
   "metadata": {},
   "outputs": [],
   "source": [
    "Nombres = [5, 10, 15]\n",
    "\n",
    "Nombres[1] = 100\n",
    "\n",
    "Nombres"
   ]
  },
  {
   "cell_type": "markdown",
   "metadata": {},
   "source": [
    "Le **deuxième élément** de ***Nombres***, qui avait la valeur 10, a maintenant la valeur 100."
   ]
  },
  {
   "cell_type": "markdown",
   "metadata": {},
   "source": [
    "Il est possible de parcourir une liste en utilisant une boucle for. Mais si nous souhaitons écrire ou mettre à jour une liste il faut utiliser des indices. Une façon répendue d'effectuer cela est de combiner les fonctions internes ***len*** et ***range***"
   ]
  },
  {
   "cell_type": "code",
   "execution_count": null,
   "metadata": {},
   "outputs": [],
   "source": [
    "Fruits = ['pommes', 'poire', 'banane', 'pêche', 'cerise']\n",
    "Chiffres = [1, 5, 10, 100, 1000]\n",
    "\n",
    "for Fruit in Fruits:\n",
    "    print(Fruit)\n",
    "    \n",
    "for i in range (len(Chiffres)):\n",
    "    Chiffres[i] = Chiffres[i] * 2\n",
    "    print(Chiffres)\n",
    "    \n"
   ]
  },
  {
   "cell_type": "markdown",
   "metadata": {},
   "source": [
    "La deuxième boucle de l'exemple au-dessus parcourt la liste et met à jour chaque élément. ***Len*** renvoie le nombre d'éléments dans la liste. ***range*** renvoie une liste d'indices allant de 0 à n-1, où n est la longueur de la liste. A chaque passage dans la boucle, i prend la valeur de l'indice de l'élément suivant. L'instruction d'affectation dans le corps utilise i pour lire l'ancienne valeur de l'élément et pour lui attribuer la nouvelle valeur. "
   ]
  },
  {
   "cell_type": "markdown",
   "metadata": {},
   "source": [
    "Il est possible d'effectuer des opérations sur les listes:\n",
    "1. L'opérateur + concatène des listes\n",
    "2. L'opérateur * répète une liste un nombre donné de fois"
   ]
  },
  {
   "cell_type": "code",
   "execution_count": null,
   "metadata": {},
   "outputs": [],
   "source": [
    "a = ['pomme', 'poire', 'cerise']\n",
    "b = ['gateau', 'cake']\n",
    "c = a + b\n",
    "\n",
    "print(c)\n",
    "\n",
    "d = ['Ha!']\n",
    "e = d * 5\n",
    "\n",
    "print(e)"
   ]
  },
  {
   "cell_type": "markdown",
   "metadata": {},
   "source": [
    "L'opérateur de tranche [M:N] peut être utilisé sur les listes. Si on ommets le premier indice en utilisant l'opérateur alors la liste débutera avec le premier élément de la liste. La même chose à lieu si on ommets de deuxième indice seulement cette fois la liste se terminera avec le dernier élément de la liste: "
   ]
  },
  {
   "cell_type": "code",
   "execution_count": null,
   "metadata": {},
   "outputs": [],
   "source": [
    "t = ['I', 'II', 'III', 'IV', 'V', 'VI']\n",
    "s = [1, 2, 3, 4, 5, 6, 7, 8]\n",
    "x = ['a', 'b', 'c', 'd', 'e', 'f']\n",
    "\n",
    "\n",
    "print(t[1:3])\n",
    "\n",
    "\n",
    "print(s[:4])\n",
    "\n",
    "\n",
    "print(x[5:])"
   ]
  },
  {
   "cell_type": "markdown",
   "metadata": {},
   "source": [
    "Il existe des méthodes qui agissent sur les listes:\n",
    "1. ***append*** qui ajoute un nouvel élément à la fin d'une liste\n",
    "2. ***extend*** qui prend comme argument une liste et ajoute tous les élément de celle-ci\n",
    "3. ***sort*** qui arrange les élément d'une liste en ordre croissant"
   ]
  },
  {
   "cell_type": "code",
   "execution_count": null,
   "metadata": {},
   "outputs": [],
   "source": [
    "w = ['a', 'b', 'c', 'd']\n",
    "w.append('e')\n",
    "print(w)\n",
    "\n",
    "w1 = [1, 2, 3, 4]\n",
    "w2 = [5, 6, 7]\n",
    "w1.extend(w2)\n",
    "print(w1)\n",
    "\n",
    "w3 = [4, 7, 1, 2, 9, 19]\n",
    "w3.sort()\n",
    "print(w3)"
   ]
  },
  {
   "cell_type": "markdown",
   "metadata": {},
   "source": [
    "Dans Pyhon il est possible de créer des fonction qui:\n",
    "1. mappe une liste (applique une fonction sur chacun des éléments d'une séquence)\n",
    "2. filtre une liste (selectione certains des éléments et filtre les autres)\n",
    "3. réduit une list (combine une séquence d'éléments en une seule valeur)\n"
   ]
  },
  {
   "cell_type": "code",
   "execution_count": null,
   "metadata": {},
   "outputs": [],
   "source": [
    "Q = [1, 2, 3, 4, 5]\n",
    "test = sum(Q)\n",
    "print(test)\n",
    "\n",
    "\n",
    "Q1 = ['a', 'b', 'c', 'd', 'e']\n",
    "def mettre_tout_en_majuscule(t):\n",
    "    res = []\n",
    "    for s in t:\n",
    "        res.append(s.capitalize ())\n",
    "    return res\n",
    "test1 = mettre_tout_en_majuscule(Q1)\n",
    "print(test1)\n",
    "\n",
    "Q2 = ['a', 'B', 'd', 'E', 'F']\n",
    "def seulement_majuscules(v):\n",
    "    vor = []\n",
    "    for s in v:\n",
    "        if s.isupper():\n",
    "            print('true')\n",
    "        else:\n",
    "            print ('false')\n",
    "test2 = seulement_majuscules(Q2)"
   ]
  },
  {
   "cell_type": "markdown",
   "metadata": {},
   "source": [
    "Le premier exemple au-dessus montre une fonction qui additionne tous les éléments d'une liste. Le deuxième exemple montre une fonction qui transforme toutes les lettres minuscules d'une liste en majuscules. Le troisième exemple montre une fonction qui renvoie **true** quand l'élément de la liste est en majuscule et **false** sinon.  "
   ]
  },
  {
   "cell_type": "markdown",
   "metadata": {},
   "source": []
  },
  {
   "cell_type": "code",
   "execution_count": null,
   "metadata": {},
   "outputs": [],
   "source": []
  }
 ],
 "metadata": {
  "kernelspec": {
   "display_name": "Python 3",
   "language": "python",
   "name": "python3"
  },
  "language_info": {
   "codemirror_mode": {
    "name": "ipython",
    "version": 3
   },
   "file_extension": ".py",
   "mimetype": "text/x-python",
   "name": "python",
   "nbconvert_exporter": "python",
   "pygments_lexer": "ipython3",
   "version": "3.7.3"
  }
 },
 "nbformat": 4,
 "nbformat_minor": 2
}
