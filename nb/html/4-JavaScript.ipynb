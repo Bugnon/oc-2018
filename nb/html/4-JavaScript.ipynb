{
 "cells": [
  {
   "cell_type": "markdown",
   "metadata": {},
   "source": [
    "# JavaScript"
   ]
  },
  {
   "cell_type": "code",
   "execution_count": 2,
   "metadata": {},
   "outputs": [
    {
     "data": {
      "text/html": [
       "<button type=\"button\"\n",
       "onclick=\"document.getElementById('demo').innerHTML = Date()\">\n",
       "Click me to display Date and Time.</button>\n",
       "<p id=\"demo\"></p>"
      ],
      "text/plain": [
       "<IPython.core.display.HTML object>"
      ]
     },
     "metadata": {},
     "output_type": "display_data"
    }
   ],
   "source": [
    "%%html\n",
    "<button type=\"button\"\n",
    "onclick=\"document.getElementById('demo').innerHTML = Date()\">\n",
    "Click me to display Date and Time.</button>\n",
    "<p id=\"demo\"></p>"
   ]
  },
  {
   "cell_type": "markdown",
   "metadata": {},
   "source": [
    "## What can JavaScript do?\n",
    "JavaScript can change HTML attribute values.\n",
    "In this case JavaScript changes the value of the **src** (source) \n",
    "attribute of an image."
   ]
  },
  {
   "cell_type": "code",
   "execution_count": 6,
   "metadata": {},
   "outputs": [
    {
     "data": {
      "text/html": [
       "<button onclick=\"document.getElementById('myImage').src='pic_bulbon.gif'\">Turn on the light</button>\n",
       "<img id=\"myImage\" src=\"pic_bulboff.gif\" style=\"width:100px\">\n",
       "<button onclick=\"document.getElementById('myImage').src='pic_bulboff.gif'\">Turn off the light</button>"
      ],
      "text/plain": [
       "<IPython.core.display.HTML object>"
      ]
     },
     "metadata": {},
     "output_type": "display_data"
    }
   ],
   "source": [
    "%%html\n",
    "<button onclick=\"document.getElementById('myImage').src='pic_bulbon.gif'\">Turn on the light</button>\n",
    "<img id=\"myImage\" src=\"pic_bulboff.gif\" style=\"width:100px\">\n",
    "<button onclick=\"document.getElementById('myImage').src='pic_bulboff.gif'\">Turn off the light</button>"
   ]
  },
  {
   "cell_type": "code",
   "execution_count": 10,
   "metadata": {},
   "outputs": [
    {
     "data": {
      "text/html": [
       "<p id=\"demo2\" style=\"display:none\">Hello JavaScript!</p>\n",
       "<button type=\"button\" onclick=\"document.getElementById('demo2').style.display='block'\">\n",
       "Display</button>\n",
       "<button type=\"button\" onclick=\"document.getElementById('demo2').style.display='none'\">\n",
       "Hide</button>"
      ],
      "text/plain": [
       "<IPython.core.display.HTML object>"
      ]
     },
     "metadata": {},
     "output_type": "display_data"
    }
   ],
   "source": [
    "%%html\n",
    "<p id=\"demo2\" style=\"display:none\">Hello JavaScript!</p>\n",
    "<button type=\"button\" onclick=\"document.getElementById('demo2').style.display='block'\">\n",
    "Display</button>\n",
    "<button type=\"button\" onclick=\"document.getElementById('demo2').style.display='none'\">\n",
    "Hide</button>"
   ]
  },
  {
   "cell_type": "markdown",
   "metadata": {},
   "source": [
    "## Output"
   ]
  },
  {
   "cell_type": "code",
   "execution_count": 6,
   "metadata": {},
   "outputs": [
    {
     "data": {
      "application/javascript": [
       "document.getElementById(\"demo3\").innerHTML = 5+6;"
      ],
      "text/plain": [
       "<IPython.core.display.Javascript object>"
      ]
     },
     "metadata": {},
     "output_type": "display_data"
    }
   ],
   "source": [
    "%%js\n",
    "document.getElementById(\"demo3\").innerHTML = 5+6;"
   ]
  },
  {
   "cell_type": "code",
   "execution_count": 5,
   "metadata": {},
   "outputs": [
    {
     "data": {
      "text/html": [
       "<p id=\"demo3\"></p>"
      ],
      "text/plain": [
       "<IPython.core.display.HTML object>"
      ]
     },
     "metadata": {},
     "output_type": "display_data"
    }
   ],
   "source": [
    "%%html\n",
    "<p id=\"demo3\"></p>"
   ]
  },
  {
   "cell_type": "markdown",
   "metadata": {},
   "source": [
    "This will delete all existing HTML and replace the page with the result."
   ]
  },
  {
   "cell_type": "code",
   "execution_count": null,
   "metadata": {},
   "outputs": [],
   "source": [
    "%%js\n",
    "document.write(5 + 6);"
   ]
  },
  {
   "cell_type": "markdown",
   "metadata": {},
   "source": [
    "This will open a dialog window and display the result."
   ]
  },
  {
   "cell_type": "code",
   "execution_count": 7,
   "metadata": {},
   "outputs": [
    {
     "data": {
      "application/javascript": [
       "window.alert(5 + 6);"
      ],
      "text/plain": [
       "<IPython.core.display.Javascript object>"
      ]
     },
     "metadata": {},
     "output_type": "display_data"
    }
   ],
   "source": [
    "%%js\n",
    "window.alert(5 + 6);"
   ]
  },
  {
   "cell_type": "code",
   "execution_count": 28,
   "metadata": {},
   "outputs": [
    {
     "data": {
      "application/javascript": [
       "console.log(5 + 6);"
      ],
      "text/plain": [
       "<IPython.core.display.Javascript object>"
      ]
     },
     "metadata": {},
     "output_type": "display_data"
    }
   ],
   "source": [
    "%%js\n",
    "console.log(5 + 6);"
   ]
  },
  {
   "cell_type": "markdown",
   "metadata": {},
   "source": [
    "## JavaScript statements"
   ]
  },
  {
   "cell_type": "code",
   "execution_count": 35,
   "metadata": {},
   "outputs": [
    {
     "data": {
      "application/javascript": [
       "var x, y, z;\n",
       "x = 4;\n",
       "y = 5;\n",
       "z = x + y;\n",
       "alert(z);"
      ],
      "text/plain": [
       "<IPython.core.display.Javascript object>"
      ]
     },
     "metadata": {},
     "output_type": "display_data"
    }
   ],
   "source": [
    "%%js\n",
    "var x, y, z;\n",
    "x = 4;\n",
    "y = 5;\n",
    "z = x + y;\n",
    "alert(z);"
   ]
  },
  {
   "cell_type": "markdown",
   "metadata": {},
   "source": [
    "## Strings"
   ]
  },
  {
   "cell_type": "code",
   "execution_count": 3,
   "metadata": {},
   "outputs": [
    {
     "data": {
      "application/javascript": [
       "var txt = \"ABCDEFGHIJKLMNOPQRSTUVWXYZ\";\n",
       "var sln = txt.length;\n",
       "alert(sln+\" \"+txt)\n",
       "alert(\"toLowerCase(): \" + txt.toLowerCase())"
      ],
      "text/plain": [
       "<IPython.core.display.Javascript object>"
      ]
     },
     "metadata": {},
     "output_type": "display_data"
    }
   ],
   "source": [
    "%%js\n",
    "var txt = \"ABCDEFGHIJKLMNOPQRSTUVWXYZ\";\n",
    "var sln = txt.length;\n",
    "alert(sln+\" \"+txt)\n",
    "alert(\"toLowerCase(): \" + txt.toLowerCase())"
   ]
  },
  {
   "cell_type": "code",
   "execution_count": null,
   "metadata": {},
   "outputs": [],
   "source": []
  }
 ],
 "metadata": {
  "kernelspec": {
   "display_name": "Python 3",
   "language": "python",
   "name": "python3"
  },
  "language_info": {
   "codemirror_mode": {
    "name": "ipython",
    "version": 3
   },
   "file_extension": ".py",
   "mimetype": "text/x-python",
   "name": "python",
   "nbconvert_exporter": "python",
   "pygments_lexer": "ipython3",
   "version": "3.6.4"
  }
 },
 "nbformat": 4,
 "nbformat_minor": 2
}
