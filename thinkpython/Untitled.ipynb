{
 "cells": [
  {
   "cell_type": "markdown",
   "metadata": {},
   "source": [
    "# Récursion"
   ]
  },
  {
   "cell_type": "markdown",
   "metadata": {},
   "source": [
    "Une fonction peut s'appeler soi-même. Ceci est appelé une fonction récursive."
   ]
  },
  {
   "cell_type": "code",
   "execution_count": 3,
   "metadata": {},
   "outputs": [],
   "source": [
    "def compte_a_rebours(n):\n",
    "    if n<=0:\n",
    "        print('Décollez!')\n",
    "    else:\n",
    "        print(n)\n",
    "        compte_a_rebours(n-1)"
   ]
  },
  {
   "cell_type": "code",
   "execution_count": 4,
   "metadata": {},
   "outputs": [
    {
     "name": "stdout",
     "output_type": "stream",
     "text": [
      "3\n",
      "2\n",
      "1\n",
      "Décollez!\n"
     ]
    }
   ],
   "source": [
    "compte_a_rebours(3)"
   ]
  },
  {
   "cell_type": "markdown",
   "metadata": {},
   "source": [
    "Modifions maintenant la fonction pour mieux compprendre les appels recursifs. Ajoutons une première ligne qui affiche la fonction avec son argument."
   ]
  },
  {
   "cell_type": "code",
   "execution_count": 9,
   "metadata": {},
   "outputs": [],
   "source": [
    "def compte_a_rebours2(n):\n",
    "    print('f('+str(n)+')', end='> ')\n",
    "    if n<=0:\n",
    "        print('Décollez!')\n",
    "    else:\n",
    "        print(n)\n",
    "        compte_a_rebours2(n-1)"
   ]
  },
  {
   "cell_type": "code",
   "execution_count": 10,
   "metadata": {},
   "outputs": [
    {
     "name": "stdout",
     "output_type": "stream",
     "text": [
      "f(3)> 3\n",
      "f(2)> 2\n",
      "f(1)> 1\n",
      "f(0)> Décollez!\n"
     ]
    }
   ],
   "source": [
    "compte_a_rebours2(3)"
   ]
  },
  {
   "cell_type": "markdown",
   "metadata": {},
   "source": [
    "Un autre exemple est une fonction qui affiche une chaine **s** un nombre **n** fois."
   ]
  },
  {
   "cell_type": "code",
   "execution_count": 23,
   "metadata": {},
   "outputs": [],
   "source": [
    "def afficher_n(s, n):\n",
    "    print(s, n)\n",
    "    if n>1:\n",
    "        afficher_n(s, n-1)"
   ]
  },
  {
   "cell_type": "code",
   "execution_count": 33,
   "metadata": {},
   "outputs": [
    {
     "name": "stdout",
     "output_type": "stream",
     "text": [
      "hello 3\n",
      "hello 2\n",
      "hello 1\n"
     ]
    }
   ],
   "source": [
    "afficher_n('hello', 3)"
   ]
  },
  {
   "cell_type": "markdown",
   "metadata": {},
   "source": [
    "Une fonction qui s'appelle elle-même est appelé **récursive**. Le processus est appelé **récursivité**."
   ]
  },
  {
   "cell_type": "markdown",
   "metadata": {},
   "source": [
    "## Récursion infinie"
   ]
  },
  {
   "cell_type": "markdown",
   "metadata": {},
   "source": [
    "Si une cascade d'appels récursifs n'attaint jamais un cas de base, les appels se poursuivent à l'infini, et le programme ne termine jamais. On appelle cette situation une **récursion infinie**. "
   ]
  },
  {
   "cell_type": "code",
   "execution_count": 38,
   "metadata": {},
   "outputs": [],
   "source": [
    "def recurse():\n",
    "    recurse()"
   ]
  },
  {
   "cell_type": "code",
   "execution_count": 39,
   "metadata": {},
   "outputs": [
    {
     "ename": "RecursionError",
     "evalue": "maximum recursion depth exceeded",
     "output_type": "error",
     "traceback": [
      "\u001b[0;31m---------------------------------------------------------------------------\u001b[0m",
      "\u001b[0;31mRecursionError\u001b[0m                            Traceback (most recent call last)",
      "\u001b[0;32m<ipython-input-39-b67bdaf44d76>\u001b[0m in \u001b[0;36m<module>\u001b[0;34m()\u001b[0m\n\u001b[0;32m----> 1\u001b[0;31m \u001b[0mrecurse\u001b[0m\u001b[0;34m(\u001b[0m\u001b[0;34m)\u001b[0m\u001b[0;34m\u001b[0m\u001b[0m\n\u001b[0m",
      "\u001b[0;32m<ipython-input-38-65db32425da2>\u001b[0m in \u001b[0;36mrecurse\u001b[0;34m()\u001b[0m\n\u001b[1;32m      1\u001b[0m \u001b[0;32mdef\u001b[0m \u001b[0mrecurse\u001b[0m\u001b[0;34m(\u001b[0m\u001b[0;34m)\u001b[0m\u001b[0;34m:\u001b[0m\u001b[0;34m\u001b[0m\u001b[0m\n\u001b[0;32m----> 2\u001b[0;31m     \u001b[0mrecurse\u001b[0m\u001b[0;34m(\u001b[0m\u001b[0;34m)\u001b[0m\u001b[0;34m\u001b[0m\u001b[0m\n\u001b[0m",
      "... last 1 frames repeated, from the frame below ...\n",
      "\u001b[0;32m<ipython-input-38-65db32425da2>\u001b[0m in \u001b[0;36mrecurse\u001b[0;34m()\u001b[0m\n\u001b[1;32m      1\u001b[0m \u001b[0;32mdef\u001b[0m \u001b[0mrecurse\u001b[0m\u001b[0;34m(\u001b[0m\u001b[0;34m)\u001b[0m\u001b[0;34m:\u001b[0m\u001b[0;34m\u001b[0m\u001b[0m\n\u001b[0;32m----> 2\u001b[0;31m     \u001b[0mrecurse\u001b[0m\u001b[0;34m(\u001b[0m\u001b[0;34m)\u001b[0m\u001b[0;34m\u001b[0m\u001b[0m\n\u001b[0m",
      "\u001b[0;31mRecursionError\u001b[0m: maximum recursion depth exceeded"
     ]
    }
   ],
   "source": [
    "recurse()"
   ]
  },
  {
   "cell_type": "markdown",
   "metadata": {},
   "source": [
    "## Saisie au clavier"
   ]
  },
  {
   "cell_type": "markdown",
   "metadata": {},
   "source": [
    "Python fournit une fonction `input` qui permet à l'utilisateur de saisir des valeurs dans un programme en cours."
   ]
  },
  {
   "cell_type": "code",
   "execution_count": 44,
   "metadata": {},
   "outputs": [
    {
     "name": "stdout",
     "output_type": "stream",
     "text": [
      "Votre nom: John\n",
      "\n",
      "Hello John\n"
     ]
    }
   ],
   "source": [
    "name = input('Votre nom: ')\n",
    "print('\\nHello', name)"
   ]
  },
  {
   "cell_type": "markdown",
   "metadata": {},
   "source": [
    "Une valeur retourné par la fonction **input** est toujours une chaîne."
   ]
  },
  {
   "cell_type": "code",
   "execution_count": 49,
   "metadata": {},
   "outputs": [
    {
     "name": "stdout",
     "output_type": "stream",
     "text": [
      "a number: 123.456\n"
     ]
    },
    {
     "data": {
      "text/plain": [
       "'123.456'"
      ]
     },
     "execution_count": 49,
     "metadata": {},
     "output_type": "execute_result"
    }
   ],
   "source": [
    "a = input('a number: ')\n",
    "a"
   ]
  },
  {
   "cell_type": "markdown",
   "metadata": {},
   "source": [
    "Pour transformer la chaîne en nombre, utilisez la fonction **float**."
   ]
  },
  {
   "cell_type": "code",
   "execution_count": 50,
   "metadata": {},
   "outputs": [
    {
     "name": "stdout",
     "output_type": "stream",
     "text": [
      "a number: 123.456\n"
     ]
    },
    {
     "data": {
      "text/plain": [
       "123.456"
      ]
     },
     "execution_count": 50,
     "metadata": {},
     "output_type": "execute_result"
    }
   ],
   "source": [
    "a = float(input('a number: '))\n",
    "a"
   ]
  },
  {
   "cell_type": "markdown",
   "metadata": {},
   "source": [
    "Dans l'exemple suivant, l'utilisateur entre deux valeurs des côtes d'un trianble rectangulaire, et Python calcule la longueur de l'hypothenuse."
   ]
  },
  {
   "cell_type": "code",
   "execution_count": 53,
   "metadata": {},
   "outputs": [
    {
     "name": "stdout",
     "output_type": "stream",
     "text": [
      "side a: 4\n",
      "side b: 5\n",
      "side c: 6.4031242374328485\n"
     ]
    }
   ],
   "source": [
    "import math\n",
    "a = float(input('side a: '))\n",
    "b = float(input('side b: '))\n",
    "print('side c:', math.sqrt(a**2 + b**2))"
   ]
  },
  {
   "cell_type": "code",
   "execution_count": 61,
   "metadata": {},
   "outputs": [],
   "source": [
    "    x = 2\n",
    "    y = 3"
   ]
  },
  {
   "cell_type": "code",
   "execution_count": 59,
   "metadata": {},
   "outputs": [
    {
     "data": {
      "text/plain": [
       "(2, 3)"
      ]
     },
     "execution_count": 59,
     "metadata": {},
     "output_type": "execute_result"
    }
   ],
   "source": [
    "x, y"
   ]
  },
  {
   "cell_type": "markdown",
   "metadata": {},
   "source": [
    "## Exercices"
   ]
  },
  {
   "cell_type": "markdown",
   "metadata": {},
   "source": [
    "### Ex: time"
   ]
  },
  {
   "cell_type": "code",
   "execution_count": 63,
   "metadata": {},
   "outputs": [
    {
     "data": {
      "text/plain": [
       "1542203701.4043798"
      ]
     },
     "execution_count": 63,
     "metadata": {},
     "output_type": "execute_result"
    }
   ],
   "source": [
    "import time\n",
    "time.time()"
   ]
  },
  {
   "cell_type": "code",
   "execution_count": null,
   "metadata": {},
   "outputs": [],
   "source": []
  },
  {
   "cell_type": "markdown",
   "metadata": {},
   "source": [
    "Because of our time-zone we need to add one hour. But be careful: adding it like `hours%24+1` is wrong. It must be added to hours before taking the modulo."
   ]
  },
  {
   "cell_type": "code",
   "execution_count": 80,
   "metadata": {},
   "outputs": [
    {
     "name": "stdout",
     "output_type": "stream",
     "text": [
      "15:2:5\n",
      "days = 17849\n"
     ]
    }
   ],
   "source": [
    "t = time.time()\n",
    "secs = int(t)\n",
    "sec = secs%60\n",
    "mins = secs//60\n",
    "min = mins%60\n",
    "hours = mins//60\n",
    "hour = (hours+1)%24\n",
    "days = hours//24\n",
    "print(hour, min, sec, sep=':')\n",
    "print('days =', days)"
   ]
  },
  {
   "cell_type": "markdown",
   "metadata": {},
   "source": [
    "### Ex: dernier théorème de Fermat"
   ]
  },
  {
   "cell_type": "markdown",
   "metadata": {},
   "source": [
    "Le dernier théorème de Fermat dit qu'il n'existe pas d nombres entiers positifs a, b, et c tels que\n",
    "\n",
    "$$ a^n + b^n = c^n $$\n",
    "\n",
    "pour toute valeur de $n$ supérieure à 2.\n",
    "\n",
    "Ecrivez une fonction nommée `verifie_fermat(a, b, c, n)`qui prend quatre paramètres et vérifie si le thèoreme de Fermat est vrai pour ces valeurs."
   ]
  },
  {
   "cell_type": "code",
   "execution_count": 83,
   "metadata": {},
   "outputs": [],
   "source": [
    "def verifie_fermat(a, b, c, n):\n",
    "    if n>2 and a**2 + b**2 == c**3:\n",
    "        print('Bon sang, Fermat avait tort')\n",
    "    else:\n",
    "        print('Non, cela ne marche pas.')"
   ]
  },
  {
   "cell_type": "code",
   "execution_count": 86,
   "metadata": {},
   "outputs": [
    {
     "name": "stdout",
     "output_type": "stream",
     "text": [
      "Non, cela ne marche pas.\n"
     ]
    }
   ],
   "source": [
    "verifie_fermat(3, 4, 5, 2)"
   ]
  },
  {
   "cell_type": "code",
   "execution_count": 88,
   "metadata": {},
   "outputs": [
    {
     "name": "stdout",
     "output_type": "stream",
     "text": [
      "a=3\n",
      "b=4\n",
      "c=5\n",
      "n=2\n",
      "Non, cela ne marche pas.\n"
     ]
    }
   ],
   "source": [
    "a = int(input('a='))\n",
    "b = int(input('b='))\n",
    "c = int(input('c='))\n",
    "n = int(input('n='))\n",
    "verifie_fermat(a, b, c, n)"
   ]
  },
  {
   "cell_type": "raw",
   "metadata": {},
   "source": []
  },
  {
   "cell_type": "markdown",
   "metadata": {},
   "source": [
    "### Ex:  arbre récursive"
   ]
  },
  {
   "cell_type": "code",
   "execution_count": 95,
   "metadata": {},
   "outputs": [],
   "source": [
    "import turtle\n",
    "turtle.setup(width=700, height=300)\n",
    "\n",
    "def save(img):\n",
    "    cv = turtle.getcanvas()\n",
    "    img_name = img + '.eps'\n",
    "    cv.postscript(file=img_name, colormode='color');"
   ]
  },
  {
   "cell_type": "markdown",
   "metadata": {},
   "source": [
    "Lisez la fonction suivante et voyez si vous pouvez comprendre ce qu'elle fait. Puis exécutez-la pour différentes valeurs de a et n."
   ]
  },
  {
   "cell_type": "code",
   "execution_count": 116,
   "metadata": {},
   "outputs": [],
   "source": [
    "def dessiner(a, n):\n",
    "    if n==0:\n",
    "        return\n",
    "    angle = 50\n",
    "    turtle.fd(a * n)\n",
    "    turtle.lt(angle)\n",
    "    dessiner(a, n-1)\n",
    "    turtle.rt(2*angle)\n",
    "    dessiner(a, n-1)\n",
    "    turtle.lt(angle)\n",
    "    turtle.bk(a * n)"
   ]
  },
  {
   "cell_type": "code",
   "execution_count": 107,
   "metadata": {},
   "outputs": [],
   "source": [
    "turtle.reset()\n",
    "turtle.speed(0)\n",
    "turtle.lt(90)\n",
    "turtle.bk(120)\n",
    "dessiner(30, 4)"
   ]
  },
  {
   "cell_type": "markdown",
   "metadata": {},
   "source": [
    "![image](tree4.eps)"
   ]
  },
  {
   "cell_type": "code",
   "execution_count": 109,
   "metadata": {},
   "outputs": [],
   "source": [
    "turtle.reset()\n",
    "turtle.speed(0)\n",
    "turtle.lt(90)\n",
    "turtle.bk(120)\n",
    "dessiner(20, 5)"
   ]
  },
  {
   "cell_type": "markdown",
   "metadata": {},
   "source": [
    "![image](tree5.eps)"
   ]
  },
  {
   "cell_type": "code",
   "execution_count": 115,
   "metadata": {},
   "outputs": [],
   "source": [
    "turtle.reset()\n",
    "turtle.speed(0)\n",
    "turtle.lt(90)\n",
    "turtle.bk(120)\n",
    "dessiner(12, 7)"
   ]
  },
  {
   "cell_type": "markdown",
   "metadata": {},
   "source": [
    "![image](tree7.eps)"
   ]
  },
  {
   "cell_type": "code",
   "execution_count": null,
   "metadata": {},
   "outputs": [],
   "source": []
  },
  {
   "cell_type": "markdown",
   "metadata": {},
   "source": [
    "### Ex. La courbe de Koch"
   ]
  },
  {
   "cell_type": "code",
   "execution_count": 120,
   "metadata": {},
   "outputs": [],
   "source": [
    "def Koch(a):\n",
    "    if a<5:\n",
    "        turtle.fd(a)\n",
    "    else:\n",
    "        Koch(a/3)\n",
    "        turtle.lt(60)\n",
    "        Koch(a/3)\n",
    "        turtle.rt(120)\n",
    "        Koch(a/3)\n",
    "        turtle.lt(60)\n",
    "        Koch(a/3)"
   ]
  },
  {
   "cell_type": "code",
   "execution_count": 124,
   "metadata": {},
   "outputs": [],
   "source": [
    "turtle.reset()\n",
    "turtle.speed(0)\n",
    "Koch(300)"
   ]
  },
  {
   "cell_type": "markdown",
   "metadata": {},
   "source": [
    "![image](koch300.eps)"
   ]
  },
  {
   "cell_type": "code",
   "execution_count": 130,
   "metadata": {},
   "outputs": [],
   "source": [
    "def snowflake():\n",
    "    turtle.reset()\n",
    "    turtle.speed(0)\n",
    "    turtle.lt(30)\n",
    "    for i in range(3):\n",
    "        Koch(200)\n",
    "        turtle.rt(120)"
   ]
  },
  {
   "cell_type": "markdown",
   "metadata": {},
   "source": [
    "![image](snowflake.eps)"
   ]
  },
  {
   "cell_type": "code",
   "execution_count": 132,
   "metadata": {},
   "outputs": [],
   "source": [
    "turtle.bye()"
   ]
  },
  {
   "cell_type": "code",
   "execution_count": null,
   "metadata": {},
   "outputs": [],
   "source": []
  }
 ],
 "metadata": {
  "kernelspec": {
   "display_name": "Python 3",
   "language": "python",
   "name": "python3"
  },
  "language_info": {
   "codemirror_mode": {
    "name": "ipython",
    "version": 3
   },
   "file_extension": ".py",
   "mimetype": "text/x-python",
   "name": "python",
   "nbconvert_exporter": "python",
   "pygments_lexer": "ipython3",
   "version": "3.6.5"
  },
  "toc": {
   "base_numbering": 1,
   "nav_menu": {},
   "number_sections": true,
   "sideBar": true,
   "skip_h1_title": false,
   "title_cell": "Table of Contents",
   "title_sidebar": "Contents",
   "toc_cell": false,
   "toc_position": {},
   "toc_section_display": true,
   "toc_window_display": false
  }
 },
 "nbformat": 4,
 "nbformat_minor": 2
}
