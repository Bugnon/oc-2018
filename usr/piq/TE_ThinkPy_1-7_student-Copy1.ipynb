{
 "cells": [
  {
   "cell_type": "markdown",
   "metadata": {},
   "source": [
    "# Pensez en Python\n",
    "Par Allen B. Downey"
   ]
  },
  {
   "cell_type": "markdown",
   "metadata": {},
   "source": [
    "# 1 - Le chemin du programme"
   ]
  },
  {
   "cell_type": "markdown",
   "metadata": {},
   "source": [
    "**Exercice : expression arithmétique**  \n",
    "Initialisez les variables `(a, b, c, x)` avec les valeurs `(2, 3, 4, 5)`.  \n",
    "Calculez l'expression \n",
    "\n",
    "$$y = a x^2 + b x +c$$\n",
    "\n",
    "et imprimez le résultat."
   ]
  },
  {
   "cell_type": "code",
   "execution_count": 4,
   "metadata": {},
   "outputs": [
    {
     "name": "stdout",
     "output_type": "stream",
     "text": [
      "69\n"
     ]
    }
   ],
   "source": [
    "(a, b, c, x)=(2, 3, 4, 5)\n",
    "y=a*x**2+b*x+c\n",
    "print(y)"
   ]
  },
  {
   "cell_type": "markdown",
   "metadata": {},
   "source": [
    "**Exercice : fonction**  \n",
    "Définissez une fonction `f(x)` selon la formule\n",
    "\n",
    "$$ f(x) = a x^2 + b x +c $$\n",
    "\n",
    "avec les variables locales `(a, b, c) = (3, 3, 3)`. Calculez et affichez `f(5)`."
   ]
  },
  {
   "cell_type": "code",
   "execution_count": 7,
   "metadata": {},
   "outputs": [],
   "source": [
    "def f(x):\n",
    "    (a, b, c)=(3, 3, 3)\n",
    "    y=a*x**2+b*x+c\n",
    "    print(y)"
   ]
  },
  {
   "cell_type": "code",
   "execution_count": 8,
   "metadata": {},
   "outputs": [
    {
     "name": "stdout",
     "output_type": "stream",
     "text": [
      "93\n"
     ]
    }
   ],
   "source": [
    "f(5)"
   ]
  },
  {
   "cell_type": "markdown",
   "metadata": {},
   "source": [
    "**Exercice : types**  \n",
    "Utilisez une boucle `for` pour afficher pour chaque élément de la liste `(1, 1.2, '12', True)` sur une ligne\n",
    "* l'élément\n",
    "* la chaine `' is '`\n",
    "* son type"
   ]
  },
  {
   "cell_type": "code",
   "execution_count": 2,
   "metadata": {},
   "outputs": [
    {
     "name": "stdout",
     "output_type": "stream",
     "text": [
      "1  is  <class 'int'>\n",
      "1.2  is  <class 'float'>\n",
      "12  is  <class 'str'>\n",
      "True  is  <class 'bool'>\n"
     ]
    }
   ],
   "source": [
    "items = (1, 1.2, '12', True)\n",
    "i=0\n",
    "for a in items:\n",
    "    print(a, ' is ', type(a))\n",
    "    i+=1\n"
   ]
  },
  {
   "cell_type": "markdown",
   "metadata": {},
   "source": [
    "**Exercice : fonction `print`**  \n",
    "Que fait la fonction `print` ?"
   ]
  },
  {
   "cell_type": "code",
   "execution_count": null,
   "metadata": {},
   "outputs": [],
   "source": [
    "# La fonction print affiche ce qu'on lui demande"
   ]
  },
  {
   "cell_type": "markdown",
   "metadata": {},
   "source": [
    "Comment trouver de l'aide ?"
   ]
  },
  {
   "cell_type": "code",
   "execution_count": 8,
   "metadata": {},
   "outputs": [
    {
     "name": "stdout",
     "output_type": "stream",
     "text": [
      "Pour plus d’informations sur une commande spécifique, entrez HELP\n",
      "suivi de la commande.\n",
      "ASSOC          Affiche ou modifie les applications associées aux extensions de\n",
      "               fichiers.\n",
      "ATTRIB         Affiche ou modifie les attributs d’un fichier.\n",
      "BREAK          Active ou désactive le contrôle étendu de CTRL+C.\n",
      "BCDEDIT        Définit les propriétés dans la base de données de démarrage pour\n",
      "               le contrôle du chargement d’amorçage.\n",
      "CACLS          Affiche ou modifie les listes de contrôles d’accès aux fichiers.\n",
      "CALL           Appelle un fichier de commandes à partir d’un autre fichier de\n",
      "               commandes.\n",
      "CD             Modifie le répertoire ou affiche le répertoire actif.\n",
      "CHCP           Modifie ou affiche le numéro de la page de code active.\n",
      "CHDIR          Modifie le répertoire ou affiche le nom du répertoire actif.\n",
      "CHKDSK         Vérifie un disque et affiche un rapport d’état.\n",
      "CHKNTFS        Affiche ou modifie la vérification du disque au démarrage.\n",
      "CLS            Efface l’écran.\n",
      "CMD            Exécute une nouvelle instance de l’interpréteur de commandes de\n",
      "               Windows.\n",
      "COLOR          Modifie les couleurs du premier plan et de l’arrière-plan de la\n",
      "               console.\n",
      "COMP           Compare les contenus de deux fichiers ou groupes de fichiers.\n",
      "COMPACT        Modifie ou affiche la compression des fichiers sur une\n",
      "               partition NTFS.\n",
      "CONVERT        Convertit des volumes FAT en volumes NTFS. Vous ne pouvez pas\n",
      "               convertir le lecteur en cours d’utilisation.\n",
      "COPY           Copie un ou plusieurs fichiers.\n",
      "DATE           Affiche ou définit la date.\n",
      "DEL            Supprime un ou plusieurs fichiers.\n",
      "DIR            Affiche la liste des fichiers et des sous-répertoires d’un\n",
      "               répertoire.\n",
      "DISKCOMP       Compare les contenus de deux disquettes.\n",
      "DISKCOPY       Copie le contenu d’une disquette sur une autre.\n",
      "DISKPART       Affiche ou configure les propriétés d’une partition de disque.\n",
      "DOSKEY         Modifie les lignes de commande, rappelle des commandes Windows,\n",
      "               et crée des macros.\n",
      "DRIVERQUERY    Affiche l’état et les propriétés du pilote de périphérique en\n",
      "               cours d’utilisation.\n",
      "ECHO           Affiche des messages ou active/désactive l’affichage des\n",
      "               commandes.\n",
      "ENDLOCAL       Stoppe la localisation des modifications d’environnement dans\n",
      "               un fichier de commandes.\n",
      "ERASE          Supprime un ou plusieurs fichiers.\n",
      "EXIT           Quitte l’interpréteur de commandes (CMD.EXE).\n",
      "FC             Compare deux fichiers ou groupes de fichiers et affiche \n",
      "               les différences.\n",
      "FIND           Recherche une chaîne de caractères dans un ou plusieurs\n",
      "               fichiers.\n",
      "FINDSTR        Cherche des chaînes dans les fichiers.\n",
      "FOR            Exécute une commande sur chaque fichier d’un ensemble de\n",
      "               fichiers.\n",
      "FORMAT         Formate un disque devant être utilisé avec Windows.\n",
      "FSUTIL         Affiche ou configure les propriétés du système de fichiers.\n",
      "FTYPE          Affiche ou modifie les types de fichiers utilisés dans les\n",
      "               associations d’extensions.\n",
      "GOTO           Indique l’exécution d’un fichier de commandes pour une ligne\n",
      "               identifiée par une étiquette.\n",
      "GPRESULT       Affiche les informations de stratégie de groupe pour un\n",
      "               ordinateur ou un utilisateur.\n",
      "GRAFTABL       Permet à Windows d’afficher un jeu de caractères en \n",
      "               mode graphique.\n",
      "HELP           Affiche des informations sur les commandes de Windows.\n",
      "ICACLS         Afficher, modifier, sauvegarder ou restaurer les listes de\n",
      "               contrôle d’accès pour les fichiers et les répertoires.\n",
      "IF             Effectue un traitement conditionnel dans un fichier de\n",
      "               commandes.\n",
      "LABEL          Crée, modifie ou supprime le nom de volume d’un disque.\n",
      "MD             Crée un répertoire.\n",
      "MKDIR          Crée un répertoire.\n",
      "MKLINK         Créer des liens symboliques et des liens réels\n",
      "MODE           Configure un périphérique du système.\n",
      "MORE           Affiche la sortie écran par écran.\n",
      "MOVE           Déplace un ou plusieurs fichiers d’un répertoire \n",
      "               à un autre.\n",
      "OPENFILES      Affiche les fichiers partagés ouverts à distance par les\n",
      "               utilisateurs.\n",
      "PATH           Affiche ou définit le chemin de recherche des fichiers\n",
      "               exécutables.\n",
      "PAUSE          Interrompt l’exécution d’un fichier de commandes et affiche un\n",
      "               message.\n",
      "POPD           Restaure la valeur précédente du répertoire actif enregistrée\n",
      "               par PUSHD.\n",
      "PRINT          Imprime un fichier texte.\n",
      "PROMPT         Modifie l’invite de commande de Windows.\n",
      "PUSHD          Enregistre le répertoire actif puis le modifie.\n",
      "RD             Supprime un répertoire.\n",
      "RECOVER        Récupère l’information lisible d’un disque défectueux.\n",
      "REM            Insère un commentaire dans un fichier de commandes ou\n",
      "               CONFIG.SYS.\n",
      "REN            Renomme un ou plusieurs fichiers.\n",
      "RENAME         Renomme un ou plusieurs fichiers.\n",
      "REPLACE        Remplace des fichiers.\n",
      "RMDIR          Supprime un répertoire.\n",
      "ROBOCOPY       Utilitaire avancé pour copier les fichiers et les\n",
      "               arborescences de répertoires\n",
      "SET            Affiche, définit ou supprime des variables d’environnement\n",
      "               Windows.\n",
      "SETLOCAL       Commence la localisation des modifications d’environnement dans\n",
      "               un fichier de commandes.\n",
      "SC             Affiche ou configure les services (processus en arrière-plan).\n",
      "SCHTASKS       Planifie les commandes et les programmes à exécuter sur\n",
      "               l’ordinateur.\n",
      "SHIFT          Modifie la position des paramètres remplaçables dans un fichier\n",
      "               de commandes.\n",
      "SHUTDOWN       Permet un arrêt local ou distant correct de l’ordinateur.\n",
      "SORT           Trie les entrées.\n",
      "START          Ouvre une fenêtre séparée pour l’exécution d’un programme ou\n",
      "               d’une commande spécifique.\n",
      "SUBST          Associe un chemin d’accès à une lettre de lecteur.\n",
      "SYSTEMINFO     Affiche les propriétés et la configuration spécifiques de\n",
      "               l’ordinateur.\n",
      "TASKLIST       Affiche toutes les tâches en cours d’exécution, y compris les\n",
      "               services.\n",
      "TASKKILL       Termine ou interrompt un processus ou une application en cours\n",
      "               d’exécution.\n",
      "TIME           Affiche ou définit l’heure du système.\n",
      "TITLE          Définit le titre de la fenêtre pour une session CMD.EXE.\n",
      "TREE           Affiche le graphisme de la structure de répertoire d’un lecteur\n",
      "               ou d’un chemin d’accès.\n",
      "TYPE           Affiche le contenu d’un fichier texte.\n",
      "VER            Affiche la version de Windows.\n",
      "VERIFY         Demande à Windows de vérifier si vos fichiers sont\n",
      "               correctement écrits sur le disque.\n",
      "VOL            Affiche le nom et le numéro de série d’un volume de disque.\n",
      "XCOPY          Copie les fichiers et les arborescences de répertoires.\n",
      "WMIC           Affiche les informations WMI dans l’interface de commande\n",
      "               interactive.\n",
      "\n",
      "Pour obtenir plus d’informations sur les outils, consultez la référence de\n",
      "commande en ligne dans l’aide en ligne.\n"
     ]
    }
   ],
   "source": [
    "!help"
   ]
  },
  {
   "cell_type": "markdown",
   "metadata": {},
   "source": [
    "Que signifient les arguments optionnels `sep` et `end` et quelles sont leurs valeurs par défaut ?"
   ]
  },
  {
   "cell_type": "code",
   "execution_count": 9,
   "metadata": {},
   "outputs": [
    {
     "ename": "NameError",
     "evalue": "name 'sep' is not defined",
     "output_type": "error",
     "traceback": [
      "\u001b[1;31m---------------------------------------------------------------------------\u001b[0m",
      "\u001b[1;31mNameError\u001b[0m                                 Traceback (most recent call last)",
      "\u001b[1;32m<ipython-input-9-4ed71bc164f0>\u001b[0m in \u001b[0;36m<module>\u001b[1;34m()\u001b[0m\n\u001b[0;32m      1\u001b[0m \u001b[1;31m# sep est\u001b[0m\u001b[1;33m\u001b[0m\u001b[1;33m\u001b[0m\u001b[0m\n\u001b[0;32m      2\u001b[0m \u001b[1;31m# end est\u001b[0m\u001b[1;33m\u001b[0m\u001b[1;33m\u001b[0m\u001b[0m\n\u001b[1;32m----> 3\u001b[1;33m \u001b[0msep\u001b[0m\u001b[1;33m\u001b[0m\u001b[0m\n\u001b[0m",
      "\u001b[1;31mNameError\u001b[0m: name 'sep' is not defined"
     ]
    }
   ],
   "source": [
    "# sep est \n",
    "# end est"
   ]
  },
  {
   "cell_type": "markdown",
   "metadata": {},
   "source": [
    "Donnez un example utilisant les deux arguments optionnel"
   ]
  },
  {
   "cell_type": "code",
   "execution_count": null,
   "metadata": {},
   "outputs": [],
   "source": [
    "print(1, 2, 3)\n",
    "print(1, 2, 3)"
   ]
  },
  {
   "cell_type": "markdown",
   "metadata": {},
   "source": [
    "# 2 - Variables, expressions et instructions"
   ]
  },
  {
   "cell_type": "markdown",
   "metadata": {},
   "source": [
    "**Exercice : expression/instruction**  \n",
    "Définissez *instruction* et donnez un exemple."
   ]
  },
  {
   "cell_type": "code",
   "execution_count": null,
   "metadata": {},
   "outputs": [],
   "source": [
    "# une instruction est une unité de code qui  un effet"
   ]
  },
  {
   "cell_type": "markdown",
   "metadata": {},
   "source": [
    "Définissez *expression* et donnez un exemple."
   ]
  },
  {
   "cell_type": "code",
   "execution_count": null,
   "metadata": {},
   "outputs": [],
   "source": [
    "# Une expression est une combinaison de valeurs, variables et opérateurs"
   ]
  },
  {
   "cell_type": "markdown",
   "metadata": {},
   "source": [
    "# 3 - Fonctions"
   ]
  },
  {
   "cell_type": "markdown",
   "metadata": {},
   "source": [
    "**Exercice : fonction circonference**  \n",
    "Importez le module `math`,  \n",
    "définissez une fonction `circumference(r)` qui calcule $c = 2 \\pi r$,  \n",
    "affichez avec une légende le résultat pour `r=3` "
   ]
  },
  {
   "cell_type": "code",
   "execution_count": 12,
   "metadata": {},
   "outputs": [
    {
     "name": "stdout",
     "output_type": "stream",
     "text": [
      "18.84955592153876\n"
     ]
    }
   ],
   "source": [
    "import math\n",
    "\n",
    "def circumference(r):\n",
    "    c=2*math.pi*r\n",
    "    print(c)\n",
    "\n",
    "circumference(3)\n"
   ]
  },
  {
   "cell_type": "markdown",
   "metadata": {},
   "source": [
    "**Exercice : fonction surface**  \n",
    "Importez le module `math`,  \n",
    "définissez une fonction `surface(r)` qui calcule $s = \\pi r^2$,  \n",
    "affichez avec une légende le résultat pour `r=5` "
   ]
  },
  {
   "cell_type": "code",
   "execution_count": null,
   "metadata": {},
   "outputs": [],
   "source": []
  },
  {
   "cell_type": "markdown",
   "metadata": {},
   "source": [
    "# 4 - module Turtle"
   ]
  },
  {
   "cell_type": "code",
   "execution_count": 10,
   "metadata": {},
   "outputs": [],
   "source": [
    "import turtle\n",
    "turtle.fd(100)"
   ]
  },
  {
   "cell_type": "markdown",
   "metadata": {},
   "source": [
    "**Exercice : rectangle**  \n",
    "Importez le module `turtle`.  \n",
    "Définissez une fonction `rect(a, b)` qui dessine un rectangle de longeur `a` et de hauteur `b`.  \n",
    "La fonction pose le style avant le dessin et le relève après.  \n",
    "Faites une démonstration pour `rect(50, 100)`"
   ]
  },
  {
   "cell_type": "code",
   "execution_count": 2,
   "metadata": {},
   "outputs": [],
   "source": [
    "import turtle\n",
    "turtle.reset()\n",
    "\n",
    "def rect(a, b):\n",
    "    for i in range(2):\n",
    "        turtle.fd(a)\n",
    "        turtle.lt(90)\n",
    "        turtle.fd(b)\n",
    "        turtle.lt(90)\n",
    "        \n",
    "rect(100, 200)"
   ]
  },
  {
   "cell_type": "markdown",
   "metadata": {},
   "source": [
    "**Exercice : triangle**  \n",
    "Importez le module `math` et `turtle`.  \n",
    "Dessinez un triangle rectangulaire de longeur `a` et `b`.  \n",
    "Utilisez une fonction trigonométrique `atan` pour calculer l'angle $\\alpha = \\arctan\\frac{b}{a}$,   \n",
    "et la fonction `sqrt` pour calculer l'hypthénuse $c = \\sqrt{a^2 + b^c}$  \n",
    "Dessinez un exemple pour `a = 200` et `b = 100`  \n",
    "![triangle](img/triangle.png)"
   ]
  },
  {
   "cell_type": "code",
   "execution_count": 9,
   "metadata": {},
   "outputs": [],
   "source": [
    "import turtle\n",
    "import math\n",
    "turtle.reset()\n",
    "\n",
    "a = 200\n",
    "b = 100\n",
    "alpha=math.atan(b/a)\n",
    "c=math.sqrt(a**2+b**2)\n",
    "\n",
    "turtle.fd(a)\n",
    "turtle.lt(alpha)\n",
    "turtle.fd(c)\n",
    "turtle.lt(90-alpha)\n",
    "turtle.fd(b)"
   ]
  },
  {
   "cell_type": "markdown",
   "metadata": {},
   "source": [
    "**Exercice : sail**  \n",
    "Définissez une fonction `sail(n, d)` qui relie `n` points sur l'axe x avec `n` points sur l'axe y avec des lignes. Les points ont une distance de `d`. \n",
    "\n",
    "![img](img/sail.png)"
   ]
  },
  {
   "cell_type": "code",
   "execution_count": null,
   "metadata": {},
   "outputs": [],
   "source": [
    "turtle.reset()\n",
    "def sail(n, d):\n",
    "    pass"
   ]
  },
  {
   "cell_type": "markdown",
   "metadata": {},
   "source": [
    "**Exercice : star**  \n",
    "Définissez une fonction `star(n, m, a)` qui dessine une étoile à `n` points, et une longuer de segment `a`. Le paramètre `m` est le nombre de points *sautés*.\n",
    "L'angle de rotation de la tortue est $\\alpha = \\frac{360 m} {n}$  \n",
    "Déssinezc `star(5, 2, 100)` et `star(7, 3, 100)`\n",
    "\n",
    "![img](img/stars.png)"
   ]
  },
  {
   "cell_type": "code",
   "execution_count": 12,
   "metadata": {},
   "outputs": [],
   "source": [
    "import turtle\n",
    "turtle.reset()\n",
    "\n",
    "def star(n, m, a):\n",
    "    for i in range(n):\n",
    "        turtle.fd(a)\n",
    "        turtle.lt(360*m/n)\n",
    "        \n",
    "star(7, 3, 100)"
   ]
  },
  {
   "cell_type": "markdown",
   "metadata": {},
   "source": [
    "# 5 - Structure conditionnelles"
   ]
  },
  {
   "cell_type": "markdown",
   "metadata": {},
   "source": [
    "**Exercice : nombre pairs**  \n",
    "Imprimez les nombres 0 à 29 sur une ligne en continue, avec une espace comme séparation. Si c'est un nombre paire, imprimez un astérisque. Exemple:  \n",
    "`* 1 * 3 * 5 * 7 * 9 * 11 * 13 * 15 * 17 * 19`"
   ]
  },
  {
   "cell_type": "code",
   "execution_count": 25,
   "metadata": {},
   "outputs": [
    {
     "name": "stdout",
     "output_type": "stream",
     "text": [
      "0  * 1 2  * 3 4  * 5 6  * 7 8  * 9 10  * 11 12  * 13 14  * 15 16  * 17 18  * 19 20  * 21 22  * 23 24  * 25 26  * 27 28  * 29 "
     ]
    }
   ],
   "source": [
    "for i in range(30):\n",
    "    if i%2==0:\n",
    "        print(i, ' * ', end='')\n",
    "    elif i%2==1:\n",
    "        print(i, '', end='')"
   ]
  },
  {
   "cell_type": "markdown",
   "metadata": {},
   "source": [
    "**Exercice : nombre carrés**  \n",
    "Imprimez les nombres 0 à 29 sur une ligne en continue, avec une espace comme séparation. Si c'est un nombre carré, imprimez un astérisque."
   ]
  },
  {
   "cell_type": "code",
   "execution_count": 39,
   "metadata": {},
   "outputs": [
    {
     "name": "stdout",
     "output_type": "stream",
     "text": [
      "0  * 1  * 2  3  4  * 5  6  7  8  9  * 10  11  12  13  14  15  16  * 17  18  19  20  21  22  23  24  25  * 26  27  28  29  "
     ]
    }
   ],
   "source": [
    "import math\n",
    "for i in range(30):\n",
    "    print(i, ' ', end='')\n",
    "    if math.sqrt(i)%1==0:\n",
    "        print('* ', end='')"
   ]
  },
  {
   "cell_type": "markdown",
   "metadata": {},
   "source": [
    "**Exercice : formule quadratique**  \n",
    "La solution d'une formule quadratique de forme\n",
    "\n",
    "$$ a x^2 + b x +c = 0 $$\n",
    "\n",
    "dépend du terme $\\Delta = b^2 - 4 a c$\n",
    "* Si $\\Delta < 0$ il n'y a pas de solution\n",
    "* Si $\\Delta = 0$ il y a une solution : $x = \\frac{-b}{2 a}$\n",
    "* Si $\\Delta > 0$ il y a deux solutions : \n",
    "$x_1 = \\frac{-b +\\sqrt\\Delta}{2 a}$ and $x_2 = \\frac{-b -\\sqrt\\Delta}{2 a}$\n",
    "\n",
    "Définissez une fonction `quadratique(a, b, c)` qui retourne la solution à l'équation quadratique dans les 3 cas: `None`, `x`, `[x1, x2]`\n",
    ".\n",
    "\n",
    "Montrez la solution pour `quadratique(1, 2, 3)`, `quadratique(1, 2, 1)` et `quadratique(1, 2, -1)`"
   ]
  },
  {
   "cell_type": "code",
   "execution_count": 43,
   "metadata": {},
   "outputs": [
    {
     "name": "stdout",
     "output_type": "stream",
     "text": [
      "None\n",
      "-1.0\n",
      "[0.41421356237309515, -2.414213562373095]\n"
     ]
    }
   ],
   "source": [
    "import math\n",
    "def quadratique(a, b, c):\n",
    "    delta=b**2-4*a*c\n",
    "    if delta>0:\n",
    "        print([(-b+math.sqrt(delta))/2*a,(-b-math.sqrt(delta))/2*a])\n",
    "    elif delta==0:\n",
    "        print(-b/2*a)\n",
    "    elif delta<0:\n",
    "        print(None)\n",
    "    \n",
    "    \n",
    "quadratique(1, 2, 3)\n",
    "quadratique(1, 2, 1)\n",
    "quadratique(1, 2, -1)"
   ]
  },
  {
   "cell_type": "code",
   "execution_count": null,
   "metadata": {},
   "outputs": [],
   "source": [
    "(a, b, c) = (1, 5, 3)\n"
   ]
  },
  {
   "cell_type": "markdown",
   "metadata": {},
   "source": [
    "**Exercice : Fibonacci**  \n",
    "La suite de Fibonacci est defini comme \n",
    "$$ F_0 = 0 $$\n",
    "$$F_1 = 1 $$ \n",
    "$$ F_{n} = F_{n-1} + F_{n-2} $$\n",
    "\n",
    "Définissez une fonction récursive `Fib(n)` et affichez les 10 premiers valeurs dans une boucle."
   ]
  },
  {
   "cell_type": "code",
   "execution_count": null,
   "metadata": {},
   "outputs": [],
   "source": [
    "a=1\n",
    "b=1\n",
    "def Fib(n):\n",
    "    for i in range 5:"
   ]
  },
  {
   "cell_type": "code",
   "execution_count": null,
   "metadata": {},
   "outputs": [],
   "source": []
  },
  {
   "cell_type": "markdown",
   "metadata": {},
   "source": [
    "# 7 - Itération"
   ]
  },
  {
   "cell_type": "markdown",
   "metadata": {},
   "source": [
    "**Exercice : table de multiplication**  \n",
    "Imprimé une table de multiplication avec deux boucles `for` imbriqués. "
   ]
  },
  {
   "cell_type": "code",
   "execution_count": 45,
   "metadata": {},
   "outputs": [
    {
     "name": "stdout",
     "output_type": "stream",
     "text": [
      "10\n",
      "10\n",
      "10\n",
      "10\n",
      "10\n",
      "10\n",
      "10\n",
      "10\n",
      "10\n"
     ]
    }
   ],
   "source": [
    "n = 10\n",
    "for i in range(1, n):\n",
    "    print(n)"
   ]
  },
  {
   "cell_type": "markdown",
   "metadata": {},
   "source": [
    "**Exercice : boucle for/while**  \n",
    "Transformez la boucle `for` en boucle `while`. "
   ]
  },
  {
   "cell_type": "code",
   "execution_count": 48,
   "metadata": {},
   "outputs": [
    {
     "name": "stdout",
     "output_type": "stream",
     "text": [
      "0 0\n",
      "1 1\n",
      "2 4\n",
      "3 9\n",
      "4 16\n",
      "5 25\n"
     ]
    }
   ],
   "source": [
    "n = 6\n",
    "for i in range(n):\n",
    "    print(i, i**2)"
   ]
  },
  {
   "cell_type": "code",
   "execution_count": 51,
   "metadata": {},
   "outputs": [
    {
     "name": "stdout",
     "output_type": "stream",
     "text": [
      "0 0\n",
      "1 1\n",
      "2 4\n",
      "3 9\n",
      "4 16\n",
      "5 25\n"
     ]
    }
   ],
   "source": [
    "n = 0\n",
    "while n < 6:\n",
    "    print(n, n**2)\n",
    "    n+=1"
   ]
  },
  {
   "cell_type": "markdown",
   "metadata": {},
   "source": [
    "**Exercice : Deviner un nombre**  \n",
    "Python choisit un nombre aléatoire `n` entre 1 et 99. L'utilisateur doit le deviner. Dans une boucle `while True` donnez l'indice si le nombre est trop grand ou trop petit. Si l'utilisateur trouve le nombre, sortez de la boucle infine avec la commande `break`."
   ]
  },
  {
   "cell_type": "code",
   "execution_count": 52,
   "metadata": {},
   "outputs": [
    {
     "name": "stdout",
     "output_type": "stream",
     "text": [
      "guess a number from 1 to 99\n"
     ]
    }
   ],
   "source": [
    "import random\n",
    "n = random.randint(1, 99)\n",
    "print('guess a number from 1 to 99')\n",
    "\n",
    "while True:\n",
    "    break"
   ]
  },
  {
   "cell_type": "code",
   "execution_count": null,
   "metadata": {},
   "outputs": [],
   "source": [
    "\n"
   ]
  }
 ],
 "metadata": {
  "kernelspec": {
   "display_name": "Python 3",
   "language": "python",
   "name": "python3"
  },
  "language_info": {
   "codemirror_mode": {
    "name": "ipython",
    "version": 3
   },
   "file_extension": ".py",
   "mimetype": "text/x-python",
   "name": "python",
   "nbconvert_exporter": "python",
   "pygments_lexer": "ipython3",
   "version": "3.7.0"
  }
 },
 "nbformat": 4,
 "nbformat_minor": 2
}
