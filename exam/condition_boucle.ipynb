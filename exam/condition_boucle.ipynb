{
 "cells": [
  {
   "cell_type": "markdown",
   "metadata": {},
   "source": [
    "# **Les structures dans Python :**\n",
    "\n",
    "Il existe principalement deux types de structures dans Python, elles sont quasi indispensable pour écrire un code complxe. Il y a les conditions, qui permettent d'effectuer certaines actions seulement dans certains cas, et les boucle qui vous permettent de répéter une certaine opération autant de fois que nécessaire."
   ]
  },
  {
   "cell_type": "markdown",
   "metadata": {},
   "source": [
    "## Les structures conditionnelles :  \n",
    "Sans les structures conditionnelles les programmes seraient bien pauvre. On remarque que très vite on a besoin d’effectuer une action dans un certain cas, et une autre dans un autre cas. Les structures conditionnelles sont présentes dans la quasi totalité des programmes.\n",
    "La structure conditionnelle la plus simple se compose uniquement du mot clé ``` if ``` suivi d’une condition contenant un opérateur de comparaison et finalement d'un ``` : ```. Il en existe plusieurs qui ont tous une utilité différente. Ils signifient respectivement :\n",
    "\n",
    "* == est égal\n",
    "* =! est différent\n",
    "* < est plus petit que\n",
    "* \\> est plus grand que\n",
    "* <= est plus petit ou égal\n",
    "* \\>= est plus grand ou égal\n",
    "\n",
    "Une sructure conditionnelle basic s'écrit de la mainère suivante :"
   ]
  },
  {
   "cell_type": "code",
   "execution_count": null,
   "metadata": {},
   "outputs": [],
   "source": [
    "x = 4\n",  
    "if (x < 7):\n",
    "    print(\"x est plus petit que 7.\")"
   ]
  },
  {
   "cell_type": "markdown",
   "metadata": {},
   "source": [
    "Ceci est une structure conditionnelle de base, elle vérifie que la valeur de ```x``` soit inférieure à 7 et écrit une pharse dans ce cas. On peut y ajouter une seconde parite à la fin de la structure en ajoutant le mot clé ``` else ``` aussi suivit d'un ``` : ``` mais sans condition. Ce mot clé peut se traduire en français par sinon. Cela veut dire cette partie sera exécutée que si et seulement si la ou les conditions au-dessus ne sont pas vérifiées.\n",
    "Exemple de condition plus complexe :"
   ]
  },
  {
   "cell_type": "code",
   "execution_count": null,
   "metadata": {},
   "outputs": [],
   "source": [
    "y = 6\n",
    "if (y == 5):\n",
    "    print(\"x est égal à 5.\")\n",
    "else:\n",
    "    print(\"x est différent de 5.\")"
   ]
  },
  {
   "cell_type": "markdown",
   "metadata": {},
   "source": [
    "Dans l'exemple ci-dessus, la condition vérifie que ```x``` soit égal à 5 et écrit la pharse \"x est égal à 5\", mais si ce n'est pas la cas, comme dans notre exemple, il écrit \"x est différent de 5\".\n",
    "\n",
    "De plus on peut faire une série de condition sans utiliser plusieurs fois le mot clé ```if```. Il faut commencer la première condition en utilisant le ```if``` mais pour les condition suivante, on peut utilisé un autre mot clé, ```elif```, qui signifie \"sinon si\". Ce mot clé doit également être suivi d'une condition. Exemple de condition complexe :"
   ]
  },
  {
   "cell_type": "code",
   "execution_count": null,
   "metadata": {},
   "outputs": [],
   "source": [
    "z = 9\n",
    "if z < 9:\n",
    "    print(\"z est plus petit que 9.\")\n",
    "elif z > 9:\n",
    "    print(\"z est plus grand que 9.\")\n",
    "else:\n",
    "    print(\"z est égal à 9.\")"
   ]
  },
  {
   "cell_type": "markdown",
   "metadata": {},
   "source": [
    "Dans ce dernier exemple, on vérifie d'abord si z est plus petit que 9, si ce n'est pas le cas, on vérifie que 9 est plus grand que 9, et si ce n'est toujours pas le cas, on est sûr que z vaut 9. On peut ajouter autant de ```elif```que l'on veut.\n",
    "\n",
    "On peut aussi utiliser les structures conditionnelles avec d'autre type de condition. Par exemple, on peut vérifier qu'un élément donné soit dans une liste. Cela se fait à l'aide du mot clé ```in```. Il est aussi possible vérifier l'inverse, à svoir qu'un élément ne soit pas dans une liste. Dans ce cas il faut utiliser ```not in```. Exemples :"
   ]
  },
  {
   "cell_type": "code",
   "execution_count": null,
   "metadata": {},
   "outputs": [],
   "source": [
    "L = [\"a\", \"b\", \"c\"]\n",
    "\n",
    "if \"a\" in L:\n",
    "    print(\"L'élément a appartient à la liste L.\")\n",
    "else:\n",
    "    print(\"L'élement a n'appartient pas à la liste L.\")"
   ]
  },
  {
   "cell_type": "markdown",
   "metadata": {},
   "source": [
    "Cette méthode peut aussi s'utiliser avec des dictionnaires ```{}``` ou des tuples ```()```."
   ]
  },
  {
   "cell_type": "code",
   "execution_count": null,
   "metadata": {},
   "outputs": [],
   "source": [
    "T = (1, 2, 3)\n",
    "if 3 not in T:\n",
    "    print(\"L'élément 3 n'appartient pas à T.\")\n",
    "else:\n",
    "    print(\"L'élement 3 appartient à T.\")"
   ]
  },
  {
   "cell_type": "markdown",
   "metadata": {},
   "source": [
    "Ici se termine la partie consacrée aux conditions, nous allons maintenant passer aux boucles."
   ]
  },
  {
   "cell_type": "markdown",
   "metadata": {},
   "source": [
    "## Les boucles :"
   ]
  },
  {
   "cell_type": "markdown",
   "metadata": {},
   "source": [
    "Rappelons nous que les boucles permettent de répéter une certaine opération autant de fois que nécessaire. Il en existe deux types reliées à deux mots clés spécifiques, ```while``` et ```for```.\n",
    "\n",
    "### Les boucles while :\n",
    "\n",
    "Commençons par les boucles while. Ces boucle se forme avec le mot clé while suivit d’une condition et d’un ``` : ```. Tant que la condition donnera le résultat True, la boucle recommencera les instructions présentes à l’intérieure. Il faut impérativement que la boucle ait un fin, c’est à dire que la condition donne False a un moment donné. Sinon le script python restera bloqué à cette étape et renverra une erreur. Un moyen de s'en assuré est de mettre une variable dans la condition, et de l'incrémenter (```+=```) à chaque tour de boucle. Il ne faut pas oublié d'initialiser la-dite variable avant la boucle. Voici un exemple de boucle while simple :"
   ]
  },
  {
   "cell_type": "code",
   "execution_count": null,
   "metadata": {},
   "outputs": [],
   "source": [
    "i = 0\n",
    "while i < 9:\n",
    "    print(i)\n",
    "    i += 1"
   ]
  },
  {
   "cell_type": "markdown",
   "metadata": {},
   "source": [
    "Dans cet exemple, tant que la variable ```i``` est strictement plus petite que 9, on va d'abord l'afficher, puis l'incrémenter de 1.\n"
   ]
  },
  {
   "cell_type": "markdown",
   "metadata": {},
   "source": [
    "### Les boucles for :\n",
    "\n",
    "L’autre type de boucle, les boucles for sont un peu plus complexe mais elles ont un plus grand domaine d'application. Elles s’utilise avec le mot clé ```for``` et le mot clé ```in```. L'instruction ```for``` s'utilise sur des séquences. Elle est en fait spécialisée dans le parcours d'une séquence de plusieurs données. Par exemple sur des chaines de caractère, sur des listes, des tuples, ... Elle se construit de la manière suivante :"
   ]
  },
    {
   "cell_type": "code",
   "execution_count": null,
   "metadata": {},
   "outputs": [],
   "source": [
    "chaine = \"Bonjour\"\n",
    "for lettre in chaine:\n",
    "    print(lettre)"
   ]
  },
  {
   "cell_type": "markdown",
   "metadata": {},
   "source": [
    "Ce code ci-dessus va faire un nombre de tour de boucle en fonction du nombre de caractères contenus dans la ```chaine```. On a accès à la lettre à laquelle le tour de boucle correspond en utilisant la même variable. Un autre exemple avec une liste où on fait la somme de tous les éléments :"
   ]
  },
  {
   "cell_type": "code",
   "execution_count": null,
   "metadata": {},
   "outputs": [],
   "source": [
    "L = [1, 2, 5, 8, 13, 18]\n",
    "somme = 0\n",
    "\n",
    "for element in L:\n",
    "    somme += element\n",
    "    \n",
    "print(somme)"
   ]
  },
  {
   "cell_type": "markdown",
   "metadata": {},
   "source": [
      "Une autre strucutre de boucle est faisable à l´aide de la fonction ```range()``` qui prend un ou deux paramètres sous forme de nombres. Si deux nombre sont donné, la variable associée prendra successivement les valeurs entières de l'interval des deux nombres ne comprenant pas le paramètre le plus grand. Si au contraire, un seul paramètre est donné, la variable prendra les valeurs entières comprises entre 0 et l'entier précédant ce nombre. Cette fonction permet tout comme les boucles while de faire un certain nombre de tour de boucle. Elle s'utilise de la manière suivante :"
   ]
  },
   {
   "cell_type": "code",
   "execution_count": null,
   "metadata": {},
   "outputs": [],
   "source": [
    "\n",
    "for i in range(5):\n",
    "    print(i)\n"
   ]
  },
  {
   "cell_type": "markdown",
   "metadata": {},
   "source": [
    "L'exemple ci-dessus, va simplement afficher les nombres de 0 à 4. La variable i va simplement prendre successivement les entiers 0, 1, 2, 3 et 4, et la boucle s'arrêtera après.\n",
    "\n"
   ]
  },
  {
   "cell_type": "markdown",
   "metadata": {},
   "source": [
    "Nous arrivons à la fin de la parie consacrée aux boucles. J'ajouterais simplement que les deux types de structures, les conditions et les boucles, peuvent tout à fait être combinée ensemble. Il y a aussi deux autres mots clés qui peuvent se rendre très utiles. Il s'agit de ```break``` et ```continue```. ```Break``` permet d'interrompre complètement une boucle à un moment donné, ce qui suit ce sera pas exectué. Le mot-clé ```continue```, quant à lui permet de revenir directement à la première ligne de la boucle pour le prichain tour sans terminer les instructions. Exemple :"
   ]
  },
  {
   "cell_type": "code",
   "execution_count": null,
   "metadata": {},
   "outputs": [],
   "source": [
    "\n",
    "k = 1\n",
    "\n",
    "while k < 15:\n",
    "    if k % 5 == 0:\n",
    "        k += 2\n",
    "        print(\"On incrémente k de 2. k est maintenant égale à \", k)\n",
    "        continue # On retourne au while sans exécuter lignes suivantes\n",
    "    print(\"La variable i =\", i)\n",
    "    i += 1\n"
   ]
  }
 ],
 "metadata": {
  "kernelspec": {
   "display_name": "Python 3",
   "language": "python",
   "name": "python3"
  },
  "language_info": {
   "codemirror_mode": {
    "name": "ipython",
    "version": 3
   },
   "file_extension": ".py",
   "mimetype": "text/x-python",
   "name": "python",
   "nbconvert_exporter": "python",
   "pygments_lexer": "ipython3",
   "version": "3.7.1"
  },
  "toc-autonumbering": true
 },
 "nbformat": 4,
 "nbformat_minor": 2
}
