{
 "cells": [
  {
   "cell_type": "markdown",
   "metadata": {},
   "source": [
    "# 18 Héritage\n",
    "\n",
    "L'héritage est la possibilité de définir une nouvelle classe, qui est une version modifié d'une classe existante. Dans cette section nous allons utiliser le jeu de poker, en utilisant des classes qui représentent des cartes à jouer.\n",
    "\n",
    "Référence: https://fr.wikipedia.org/wiki/Poker"
   ]
  },
  {
   "cell_type": "markdown",
   "metadata": {},
   "source": [
    "## Objet carte de jeu"
   ]
  },
  {
   "cell_type": "markdown",
   "metadata": {},
   "source": [
    "Dans un paquet de cartes il y 52 cartes, dont chacune appartient à une des 4 **couleurs**:\n",
    "* Pique (3)\n",
    "* Coeur (2)\n",
    "* Carreau (1)\n",
    "* Trèfle (0)\n",
    "\n",
    "Les **valeurs** sont:\n",
    "* as (1)\n",
    "* 2, 3, .. 10\n",
    "* valet (11)\n",
    "* dame (12)\n",
    "* roi (13)\n",
    "\n",
    "Nous allons utiliser les nombre en parenthèses pour encoder la **couleur** et la **valeur** d'une carte."
   ]
  },
  {
   "cell_type": "code",
   "execution_count": 1,
   "metadata": {},
   "outputs": [],
   "source": [
    "class Carte:\n",
    "    \"\"\"Représente une carte à jouer standard.\"\"\"\n",
    "    \n",
    "    def __init__(self, couleur=0, valeur=2):\n",
    "        self.couleur = couleur\n",
    "        self.valeur = valeur"
   ]
  },
  {
   "cell_type": "markdown",
   "metadata": {},
   "source": [
    "Pour créer une carte nous appelons ``Carte`` avec la couleur et la valeur."
   ]
  },
  {
   "cell_type": "code",
   "execution_count": 2,
   "metadata": {},
   "outputs": [],
   "source": [
    "dame_de_carreau = Carte(1, 12)"
   ]
  },
  {
   "cell_type": "code",
   "execution_count": 3,
   "metadata": {},
   "outputs": [
    {
     "data": {
      "text/plain": [
       "<__main__.Carte at 0x1063c1e10>"
      ]
     },
     "execution_count": 3,
     "metadata": {},
     "output_type": "execute_result"
    }
   ],
   "source": [
    "dame_de_carreau"
   ]
  },
  {
   "cell_type": "markdown",
   "metadata": {},
   "source": [
    "## Attributs de classe\n",
    "Pour afficher les cartes d'une manière facilement lisible pour les humains, nous avons besoin d'une correspondance entre les codes et les couleurs. Nous utilisons des listes, et nous en créons un **attribut de classe**.\n",
    "\n",
    "Ces attributs de classe sont précédé du nom de la classe ``Carte``, ce qui les distingue des **attributs d'instance** tel que `self.couleur`` ou ``self.valeur``."
   ]
  },
  {
   "cell_type": "code",
   "execution_count": 4,
   "metadata": {},
   "outputs": [],
   "source": [
    "class Carte:\n",
    "    \"\"\"Représente une carte à jouer standard.\"\"\"\n",
    "    \n",
    "    couleurs = ['trèfle', 'carreau', 'coeur', 'pique']\n",
    "    valeurs = [None, 'as', '2', '3', '4', '5', '6', '7', \n",
    "               '8', '9', '10', 'valet', 'dame', 'roi']\n",
    "    \n",
    "    def __init__(self, couleur=0, valeur=2):\n",
    "        self.couleur = couleur\n",
    "        self.valeur = valeur\n",
    "        \n",
    "    def __str__(self):\n",
    "        return '{} de {}'.format(Carte.valeurs[self.valeur], \n",
    "                                 Carte.couleurs[self.couleur])"
   ]
  },
  {
   "cell_type": "code",
   "execution_count": 5,
   "metadata": {},
   "outputs": [
    {
     "name": "stdout",
     "output_type": "stream",
     "text": [
      "dame de carreau\n"
     ]
    }
   ],
   "source": [
    "print(Carte(1, 12))"
   ]
  },
  {
   "cell_type": "markdown",
   "metadata": {},
   "source": [
    "Le premier élément de la liste ``Carte.valeurs`` est ``None`` car il n'y a pas de carte avec le code 0."
   ]
  },
  {
   "cell_type": "code",
   "execution_count": 6,
   "metadata": {},
   "outputs": [
    {
     "name": "stdout",
     "output_type": "stream",
     "text": [
      "as de carreau\n",
      "2 de carreau\n",
      "3 de carreau\n",
      "4 de carreau\n",
      "5 de carreau\n",
      "6 de carreau\n",
      "7 de carreau\n",
      "8 de carreau\n",
      "9 de carreau\n",
      "10 de carreau\n",
      "valet de carreau\n",
      "dame de carreau\n",
      "roi de carreau\n"
     ]
    }
   ],
   "source": [
    "for i in range(1, 14):\n",
    "    print(Carte(1, i))"
   ]
  },
  {
   "cell_type": "markdown",
   "metadata": {},
   "source": [
    "## Comparer des cartes\n",
    "Pour la comparaison des types internes (int, float) nous disposons des 6 comparateurs standard (``==``, ``!=``, ``<``, ``<=``, ``>=``, ``>``).  Pour les classes définis par l'utilisateur, nous avons les méthodes spéciales ``__lt__`` (less than). "
   ]
  },
  {
   "cell_type": "code",
   "execution_count": 12,
   "metadata": {},
   "outputs": [],
   "source": [
    "class Carte:\n",
    "    \"\"\"Représente une carte à jouer standard.\"\"\"\n",
    "    \n",
    "    couleurs = ['trèfle', 'carreau', 'coeur', 'pique']\n",
    "    valeurs = [None, 'as', '2', '3', '4', '5', '6', '7', \n",
    "               '8', '9', '10', 'valet', 'dame', 'roi']\n",
    "    \n",
    "    def __init__(self, couleur=0, valeur=2):\n",
    "        self.couleur = couleur\n",
    "        self.valeur = valeur\n",
    "        \n",
    "    def __str__(self):\n",
    "        return '{} de {}'.format(Carte.valeurs[self.valeur], \n",
    "                                 Carte.couleurs[self.couleur])\n",
    "    \n",
    "    def __lt__(self, other):\n",
    "        if self.couleur < other.couleur:\n",
    "            return True\n",
    "        elif self.couleur > other.couleur:\n",
    "            return False\n",
    "        return self.valeur < other.valeur"
   ]
  },
  {
   "cell_type": "markdown",
   "metadata": {},
   "source": [
    "Testons avec deux cartes."
   ]
  },
  {
   "cell_type": "code",
   "execution_count": 13,
   "metadata": {},
   "outputs": [
    {
     "name": "stdout",
     "output_type": "stream",
     "text": [
      "dame de coeur\n",
      "valet de coeur\n"
     ]
    },
    {
     "data": {
      "text/plain": [
       "False"
      ]
     },
     "execution_count": 13,
     "metadata": {},
     "output_type": "execute_result"
    }
   ],
   "source": [
    "c1 = Carte(2, 12)\n",
    "c2 = Carte(2, 11)\n",
    "print(c1)\n",
    "print(c2)\n",
    "c1 < c2"
   ]
  },
  {
   "cell_type": "markdown",
   "metadata": {},
   "source": [
    "## Paquet de cartes\n",
    "La prochaine étape es de définir les paquets de cartes."
   ]
  },
  {
   "cell_type": "code",
   "execution_count": 17,
   "metadata": {},
   "outputs": [],
   "source": [
    "class Paquet:\n",
    "    \n",
    "    def __init__(self):\n",
    "        self.cartes = []\n",
    "        for couleur in range(4):\n",
    "            for valeur in range(1, 14):\n",
    "                carte = Carte(couleur, valeur)\n",
    "                self.cartes.append(carte)\n",
    "    def __str__(self):\n",
    "        res = []\n",
    "        for carte in self.cartes:\n",
    "            res.append(str(carte))\n",
    "        return '\\n'.join(res)\n",
    "    def affiche(self):\n",
    "        for carte in self.cartes:\n",
    "            print(carte)"
   ]
  },
  {
   "cell_type": "markdown",
   "metadata": {},
   "source": [
    "Créons maintenant un paquet et vérifions la présenece des 52 cartes."
   ]
  },
  {
   "cell_type": "code",
   "execution_count": 23,
   "metadata": {},
   "outputs": [
    {
     "data": {
      "text/plain": [
       "[<__main__.Carte at 0x10640c240>,\n",
       " <__main__.Carte at 0x10640cd68>,\n",
       " <__main__.Carte at 0x10640cda0>,\n",
       " <__main__.Carte at 0x10640cdd8>,\n",
       " <__main__.Carte at 0x10640ce10>,\n",
       " <__main__.Carte at 0x10640ce48>,\n",
       " <__main__.Carte at 0x10640ce80>,\n",
       " <__main__.Carte at 0x10640ceb8>,\n",
       " <__main__.Carte at 0x10640cef0>,\n",
       " <__main__.Carte at 0x10640cf28>,\n",
       " <__main__.Carte at 0x10640cf60>,\n",
       " <__main__.Carte at 0x10640cf98>,\n",
       " <__main__.Carte at 0x10640cfd0>,\n",
       " <__main__.Carte at 0x106412048>,\n",
       " <__main__.Carte at 0x106412080>,\n",
       " <__main__.Carte at 0x1064120b8>,\n",
       " <__main__.Carte at 0x1064120f0>,\n",
       " <__main__.Carte at 0x106412128>,\n",
       " <__main__.Carte at 0x106412160>,\n",
       " <__main__.Carte at 0x106412198>,\n",
       " <__main__.Carte at 0x1064121d0>,\n",
       " <__main__.Carte at 0x106412208>,\n",
       " <__main__.Carte at 0x106412240>,\n",
       " <__main__.Carte at 0x106412278>,\n",
       " <__main__.Carte at 0x1064122b0>,\n",
       " <__main__.Carte at 0x1064122e8>,\n",
       " <__main__.Carte at 0x106412320>,\n",
       " <__main__.Carte at 0x106412358>,\n",
       " <__main__.Carte at 0x106412390>,\n",
       " <__main__.Carte at 0x1064123c8>,\n",
       " <__main__.Carte at 0x106412400>,\n",
       " <__main__.Carte at 0x106412438>,\n",
       " <__main__.Carte at 0x106412470>,\n",
       " <__main__.Carte at 0x1064124a8>,\n",
       " <__main__.Carte at 0x1064124e0>,\n",
       " <__main__.Carte at 0x106412518>,\n",
       " <__main__.Carte at 0x106412550>,\n",
       " <__main__.Carte at 0x106412588>,\n",
       " <__main__.Carte at 0x1064125c0>,\n",
       " <__main__.Carte at 0x1064125f8>,\n",
       " <__main__.Carte at 0x106412630>,\n",
       " <__main__.Carte at 0x106412668>,\n",
       " <__main__.Carte at 0x1064126a0>,\n",
       " <__main__.Carte at 0x1064126d8>,\n",
       " <__main__.Carte at 0x106412710>,\n",
       " <__main__.Carte at 0x106412748>,\n",
       " <__main__.Carte at 0x106412780>,\n",
       " <__main__.Carte at 0x1064127b8>,\n",
       " <__main__.Carte at 0x1064127f0>,\n",
       " <__main__.Carte at 0x106412828>,\n",
       " <__main__.Carte at 0x106412860>,\n",
       " <__main__.Carte at 0x106412898>]"
      ]
     },
     "execution_count": 23,
     "metadata": {},
     "output_type": "execute_result"
    }
   ],
   "source": [
    "p = Paquet()\n",
    "p.cartes"
   ]
  },
  {
   "cell_type": "code",
   "execution_count": 24,
   "metadata": {},
   "outputs": [
    {
     "data": {
      "text/plain": [
       "52"
      ]
     },
     "execution_count": 24,
     "metadata": {},
     "output_type": "execute_result"
    }
   ],
   "source": [
    "len(p.cartes)"
   ]
  },
  {
   "cell_type": "markdown",
   "metadata": {},
   "source": [
    "## Afficher le paquet"
   ]
  },
  {
   "cell_type": "code",
   "execution_count": 25,
   "metadata": {},
   "outputs": [],
   "source": [
    "class Paquet:\n",
    "    \n",
    "    def __init__(self):\n",
    "        self.cartes = []\n",
    "        for couleur in range(4):\n",
    "            for valeur in range(1, 14):\n",
    "                carte = Carte(couleur, valeur)\n",
    "                self.cartes.append(carte)\n",
    "                \n",
    "    def __str__(self):\n",
    "        res = []\n",
    "        for carte in self.cartes:\n",
    "            res.append(str(carte))     \n",
    "        return '\\n'.join(res)            "
   ]
  },
  {
   "cell_type": "code",
   "execution_count": 26,
   "metadata": {},
   "outputs": [
    {
     "name": "stdout",
     "output_type": "stream",
     "text": [
      "as de trèfle\n",
      "2 de trèfle\n",
      "3 de trèfle\n",
      "4 de trèfle\n",
      "5 de trèfle\n",
      "6 de trèfle\n",
      "7 de trèfle\n",
      "8 de trèfle\n",
      "9 de trèfle\n",
      "10 de trèfle\n",
      "valet de trèfle\n",
      "dame de trèfle\n",
      "roi de trèfle\n",
      "as de carreau\n",
      "2 de carreau\n",
      "3 de carreau\n",
      "4 de carreau\n",
      "5 de carreau\n",
      "6 de carreau\n",
      "7 de carreau\n",
      "8 de carreau\n",
      "9 de carreau\n",
      "10 de carreau\n",
      "valet de carreau\n",
      "dame de carreau\n",
      "roi de carreau\n",
      "as de coeur\n",
      "2 de coeur\n",
      "3 de coeur\n",
      "4 de coeur\n",
      "5 de coeur\n",
      "6 de coeur\n",
      "7 de coeur\n",
      "8 de coeur\n",
      "9 de coeur\n",
      "10 de coeur\n",
      "valet de coeur\n",
      "dame de coeur\n",
      "roi de coeur\n",
      "as de pique\n",
      "2 de pique\n",
      "3 de pique\n",
      "4 de pique\n",
      "5 de pique\n",
      "6 de pique\n",
      "7 de pique\n",
      "8 de pique\n",
      "9 de pique\n",
      "10 de pique\n",
      "valet de pique\n",
      "dame de pique\n",
      "roi de pique\n"
     ]
    }
   ],
   "source": [
    "p = Paquet()\n",
    "print(p)"
   ]
  },
  {
   "cell_type": "markdown",
   "metadata": {},
   "source": [
    "## Ajouter, enlever, mélanger et trier\n",
    "Pour distribuer des cartes, nous voudrions une méthode qui enlève une carte du paquet et la renvoie. La méthode de liste ``pop`` offre un moyen pratique pour le faire."
   ]
  },
  {
   "cell_type": "code",
   "execution_count": 33,
   "metadata": {},
   "outputs": [
    {
     "data": {
      "text/plain": [
       "[0, 1, 2, 3, 4, 5, 6, 7, 8, 9]"
      ]
     },
     "execution_count": 33,
     "metadata": {},
     "output_type": "execute_result"
    }
   ],
   "source": [
    "L = list(range(10))\n",
    "L"
   ]
  },
  {
   "cell_type": "code",
   "execution_count": 41,
   "metadata": {},
   "outputs": [
    {
     "data": {
      "text/plain": [
       "[7, 2, 4, 0, 6, 8, 3, 5, 1]"
      ]
     },
     "execution_count": 41,
     "metadata": {},
     "output_type": "execute_result"
    }
   ],
   "source": [
    "import random\n",
    "random.shuffle(L)\n",
    "L"
   ]
  },
  {
   "cell_type": "code",
   "execution_count": 39,
   "metadata": {},
   "outputs": [
    {
     "data": {
      "text/plain": [
       "9"
      ]
     },
     "execution_count": 39,
     "metadata": {},
     "output_type": "execute_result"
    }
   ],
   "source": [
    "L.pop()"
   ]
  },
  {
   "cell_type": "code",
   "execution_count": 42,
   "metadata": {},
   "outputs": [
    {
     "data": {
      "text/plain": [
       "[7, 2, 4, 0, 6, 8, 3, 5, 1]"
      ]
     },
     "execution_count": 42,
     "metadata": {},
     "output_type": "execute_result"
    }
   ],
   "source": [
    "L"
   ]
  },
  {
   "cell_type": "code",
   "execution_count": 44,
   "metadata": {},
   "outputs": [],
   "source": [
    "L.append(99)"
   ]
  },
  {
   "cell_type": "code",
   "execution_count": 45,
   "metadata": {},
   "outputs": [
    {
     "data": {
      "text/plain": [
       "[7, 2, 4, 0, 6, 8, 3, 5, 1, 99]"
      ]
     },
     "execution_count": 45,
     "metadata": {},
     "output_type": "execute_result"
    }
   ],
   "source": [
    "L"
   ]
  },
  {
   "cell_type": "code",
   "execution_count": 160,
   "metadata": {},
   "outputs": [],
   "source": [
    "import random\n",
    "\n",
    "class Paquet:\n",
    "    import random\n",
    "    \n",
    "    def __init__(self):\n",
    "        self.cartes = []\n",
    "        for couleur in range(4):\n",
    "            for valeur in range(1, 14):\n",
    "                carte = Carte(couleur, valeur)\n",
    "                self.cartes.append(carte)\n",
    "                \n",
    "    def __str__(self):\n",
    "        res = []\n",
    "        for carte in self.cartes:\n",
    "            res.append(str(carte))     \n",
    "        return '\\n'.join(res)\n",
    "    \n",
    "    def pop(self):\n",
    "        return self.cartes.pop()\n",
    "    \n",
    "    def add(self, carte):\n",
    "        self.cartes.append(carte)\n",
    "        \n",
    "    def battre(self):\n",
    "        random.shuffle(self.cartes)\n",
    "    \n",
    "    def deplacer(self, main, nombre):\n",
    "        for i in range(nombre):\n",
    "            main.add(self.pop())"
   ]
  },
  {
   "cell_type": "code",
   "execution_count": null,
   "metadata": {},
   "outputs": [],
   "source": []
  },
  {
   "cell_type": "markdown",
   "metadata": {},
   "source": [
    "Créons un nouveau paquet, mélangeons les cartes et tirons-en une."
   ]
  },
  {
   "cell_type": "code",
   "execution_count": 161,
   "metadata": {},
   "outputs": [
    {
     "name": "stdout",
     "output_type": "stream",
     "text": [
      "roi de pique\n",
      "roi de pique\n",
      "dame de pique\n",
      "as de pique\n",
      "9 de coeur\n",
      "5 de carreau\n",
      "3 de trèfle\n",
      "10 de carreau\n",
      "5 de pique\n",
      "2 de pique\n",
      "3 de trèfle\n",
      "5 de carreau\n",
      "6 de trèfle\n",
      "9 de trèfle\n",
      "10 de coeur\n",
      "2 de trèfle\n",
      "7 de trèfle\n",
      "4 de coeur\n",
      "7 de trèfle\n",
      "8 de carreau\n",
      "as de carreau\n",
      "8 de pique\n",
      "roi de trèfle\n",
      "2 de carreau\n",
      "7 de pique\n",
      "8 de coeur\n",
      "valet de carreau\n",
      "roi de trèfle\n",
      "5 de coeur\n",
      "7 de trèfle\n",
      "7 de pique\n",
      "3 de carreau\n",
      "6 de trèfle\n",
      "dame de carreau\n",
      "8 de coeur\n",
      "roi de coeur\n",
      "3 de trèfle\n",
      "5 de pique\n",
      "9 de carreau\n"
     ]
    }
   ],
   "source": [
    "p = Paquet()\n",
    "p.battre()\n",
    "p.deplacer(m, 3)\n",
    "print(m)"
   ]
  },
  {
   "cell_type": "code",
   "execution_count": 107,
   "metadata": {},
   "outputs": [
    {
     "name": "stdout",
     "output_type": "stream",
     "text": [
      "3 de pique\n"
     ]
    }
   ],
   "source": [
    "print(p.pop())"
   ]
  },
  {
   "cell_type": "code",
   "execution_count": 150,
   "metadata": {},
   "outputs": [
    {
     "name": "stdout",
     "output_type": "stream",
     "text": [
      "as de pique\n",
      "6 de pique\n",
      "dame de pique\n",
      "4 de trèfle\n",
      "dame de coeur\n",
      "9 de pique\n",
      "valet de pique\n",
      "roi de trèfle\n",
      "8 de pique\n",
      "5 de coeur\n"
     ]
    }
   ],
   "source": [
    "for i in range(10):\n",
    "    print(p.pop())"
   ]
  },
  {
   "cell_type": "code",
   "execution_count": 151,
   "metadata": {},
   "outputs": [
    {
     "data": {
      "text/plain": [
       "39"
      ]
     },
     "execution_count": 151,
     "metadata": {},
     "output_type": "execute_result"
    }
   ],
   "source": [
    "len(p.cartes)"
   ]
  },
  {
   "cell_type": "markdown",
   "metadata": {},
   "source": [
    "## Héritage"
   ]
  },
  {
   "cell_type": "code",
   "execution_count": 116,
   "metadata": {},
   "outputs": [],
   "source": [
    "class Main(Paquet):\n",
    "    \"\"\"Main au jeu de carte\"\"\"\n",
    "    \n",
    "    def __init__(self, etiquette = ''):\n",
    "        self.cartes = []\n",
    "        self.etiquette = etiquette"
   ]
  },
  {
   "cell_type": "code",
   "execution_count": 133,
   "metadata": {},
   "outputs": [],
   "source": [
    "p = Paquet()\n",
    "m = Main('Bob')\n",
    "m2 = Main('Alice')"
   ]
  },
  {
   "cell_type": "code",
   "execution_count": 134,
   "metadata": {},
   "outputs": [
    {
     "name": "stdout",
     "output_type": "stream",
     "text": [
      "\n"
     ]
    }
   ],
   "source": [
    "print(m)"
   ]
  },
  {
   "cell_type": "code",
   "execution_count": 140,
   "metadata": {},
   "outputs": [
    {
     "name": "stdout",
     "output_type": "stream",
     "text": [
      "dame de pique\n"
     ]
    }
   ],
   "source": [
    "carte = p.pop()\n",
    "print(carte)"
   ]
  },
  {
   "cell_type": "code",
   "execution_count": 141,
   "metadata": {},
   "outputs": [
    {
     "name": "stdout",
     "output_type": "stream",
     "text": [
      "roi de pique\n",
      "roi de pique\n",
      "dame de pique\n"
     ]
    }
   ],
   "source": [
    "m.add(carte)\n",
    "print(m)"
   ]
  },
  {
   "cell_type": "code",
   "execution_count": 142,
   "metadata": {},
   "outputs": [
    {
     "name": "stdout",
     "output_type": "stream",
     "text": [
      "dame de pique\n"
     ]
    }
   ],
   "source": [
    "print(carte)"
   ]
  },
  {
   "cell_type": "code",
   "execution_count": 143,
   "metadata": {},
   "outputs": [
    {
     "data": {
      "text/plain": [
       "'Alice'"
      ]
     },
     "execution_count": 143,
     "metadata": {},
     "output_type": "execute_result"
    }
   ],
   "source": [
    "m2.etiquette"
   ]
  },
  {
   "cell_type": "markdown",
   "metadata": {},
   "source": [
    "## Ex 2"
   ]
  },
  {
   "cell_type": "code",
   "execution_count": 162,
   "metadata": {},
   "outputs": [],
   "source": [
    "class Paquet2(Paquet):\n",
    "    \"\"\"Hérite toutes les méthodes de Paquet\"\"\"\n",
    "    \n",
    "    def distribue_mains(self, nbr_mains, nbr_cartes):\n",
    "        mains = []\n",
    "        \n",
    "        return mains"
   ]
  },
  {
   "cell_type": "code",
   "execution_count": null,
   "metadata": {},
   "outputs": [],
   "source": []
  }
 ],
 "metadata": {
  "kernelspec": {
   "display_name": "Python 3",
   "language": "python",
   "name": "python3"
  },
  "language_info": {
   "codemirror_mode": {
    "name": "ipython",
    "version": 3
   },
   "file_extension": ".py",
   "mimetype": "text/x-python",
   "name": "python",
   "nbconvert_exporter": "python",
   "pygments_lexer": "ipython3",
   "version": "3.7.1"
  }
 },
 "nbformat": 4,
 "nbformat_minor": 2
}
