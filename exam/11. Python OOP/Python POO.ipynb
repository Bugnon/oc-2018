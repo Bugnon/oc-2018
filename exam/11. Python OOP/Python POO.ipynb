{
 "cells": [
  {
   "cell_type": "markdown",
   "metadata": {},
   "source": [
    "### Préparation d'un sujet d'examen\n",
    "# 11. Python OOP : classes, instances, attributs, méthodes, héritage\n",
    "\n",
    "Auteur : Jérémy Werro, Gymnase du Bugnon, classe 3MOCINFO\n",
    "\n",
    "Date de Rendu : Vendredi 31 Mai 2019\n",
    "\n",
    "Dernière modification : 31.05.2019 à \n",
    "\n",
    "Les diagrammes sont issus de pensez-python"
   ]
  },
  {
   "cell_type": "markdown",
   "metadata": {},
   "source": [
    "# La POO (Programmation Orientée Objet)\n",
    "## Introduction\n",
    "\n",
    "Dans le langage python, il existe un type pour chaque valeur (ou objet) assignée à une variable. Il y a par exemple le type ```int``` qui représente toute les valeurs de nombre entier, le type ```float``` qui représente les valeurs de nombre à virgule flottante, ou encore le type ```str``` qui représente les chaînes de caractère comme du texte. Ces types de valeur sont vérifiables dans l’interpréteur."
   ]
  },
  {
   "cell_type": "code",
   "execution_count": null,
   "metadata": {},
   "outputs": [],
   "source": [
    "a = 1\n",
    "b = 1.5\n",
    "c = 'Hello'"
   ]
  },
  {
   "cell_type": "code",
   "execution_count": null,
   "metadata": {},
   "outputs": [],
   "source": [
    "type(a)"
   ]
  },
  {
   "cell_type": "code",
   "execution_count": null,
   "metadata": {},
   "outputs": [],
   "source": [
    "type(b)"
   ]
  },
  {
   "cell_type": "code",
   "execution_count": null,
   "metadata": {},
   "outputs": [],
   "source": [
    "type(c)"
   ]
  },
  {
   "cell_type": "markdown",
   "metadata": {},
   "source": [
    "* La programmation orientée objet utilise des objets dont le type est créé par le programmeur. Cela va permettre de créer des valeurs, ou objet, avec des caractéristiques et des utilisations plus complexe que de simple nombre ou chaîne. La POO permet une gestion des données plus efficace et propre.\n",
    "\n",
    "\n",
    "* Pour créer un type nous avons besoin de plusieurs éléments.  Comme pour faire des biscuits, il nous faut un moule, que l’on va appeler une classe, et de la matière, de la pâte qui va caractériser chaque objet et qu’on appelle des attributs.\n",
    "\n",
    "\n",
    "* Avec un moule, on peut créer plusieurs biscuits de même forme mais avec un goût différent. Avec une classe, c’est la même chose, on va pouvoir créer plusieurs objets de même type mais avec des attributs différents qui rendent chaque objet unique. Un objet créé grâce à une classe s’appelle une instance.\n",
    "\n",
    "\n",
    "* L’avantage des instances de classe est qu’elles peuvent elles-mêmes devenir des attributs pour la création d’un autre type d’instance. Cela permet de créer des objets très complexes.\n",
    "\n",
    "\n",
    "* Ces objets complexes, lorsqu’ils sont utilisés dans des fonctions, peuvent provoquer des  lignes de code très chargée. Cela nous oblige à appliquer un développement par conception afin de rendre notre programme plus claire et plus léger.\n",
    "\n",
    "\n",
    "* Dans la définition des classes nous pouvons ajouter aussi des fonctions, appelées méthode, liées à la classe. Celles-ci utilisent directement l’instance et peuvent être appelées de manière plus intuitive.\n",
    "\n",
    "\n",
    "* Enfin, il est aussi possible de créer des classes qui héritent des caractéristiques d’autre classe. Cet héritage permet d’avoir des classes semblables mais qui ont des rôles différents.\n"
   ]
  },
  {
   "cell_type": "markdown",
   "metadata": {},
   "source": [
    "# Les classes\n",
    "\n",
    "Une classe est un moule qui permet de créer des objets d'un type particulier. Ces objets sont semblables mais les valeurs qui les composent sont différentes.\n",
    "\n",
    "Voici comment créer une classe :"
   ]
  },
  {
   "cell_type": "code",
   "execution_count": null,
   "metadata": {},
   "outputs": [],
   "source": [
    "class Point():\n",
    "    \"\"\"Représente un point dans l'espace 2D.\"\"\""
   ]
  },
  {
   "cell_type": "markdown",
   "metadata": {},
   "source": [
    "* `class` nous premet de créer un type qu'on défini.\n",
    "\n",
    "\n",
    "* `Point` est le nom de la classe, et par conséquent le nom de type des objet créés.\n",
    "\n",
    "\n",
    "* les parentèses `()` sont remplies par d'éventuels arguments. (mais ceux-ci sont entré dans la méthode `__init__`, par convention. voir méthode `__init__`)\n",
    "\n",
    "\n",
    "* Le docstring décris la représentation réelle des objets créés. Il décrit également ce que représent les attributs."
   ]
  },
  {
   "cell_type": "markdown",
   "metadata": {},
   "source": [
    "## Les instances\n",
    "\n",
    "Pour créer un objet de classe il faut l'instancier, autrement dit créer une instance. Comme ceci :"
   ]
  },
  {
   "cell_type": "code",
   "execution_count": null,
   "metadata": {},
   "outputs": [],
   "source": [
    "point = Point()"
   ]
  },
  {
   "cell_type": "markdown",
   "metadata": {},
   "source": [
    "Comme pour une affectation, on crée une variable `point` à laquelle on affecte la classe, ce qui crée une instance nommée `point` de type `Point` :"
   ]
  },
  {
   "cell_type": "code",
   "execution_count": null,
   "metadata": {},
   "outputs": [],
   "source": [
    "type(point)"
   ]
  },
  {
   "cell_type": "markdown",
   "metadata": {},
   "source": [
    "La valeur attribuée à la variable `point` est une référence à un objet de type `Point`. Pour le vérifier, il suffit d'entrer la variable. Cela vous donne sa référence et sa place de stockage en valeur hexadécimale :"
   ]
  },
  {
   "cell_type": "code",
   "execution_count": null,
   "metadata": {},
   "outputs": [],
   "source": [
    "point"
   ]
  },
  {
   "cell_type": "markdown",
   "metadata": {},
   "source": [
    "## Les attributs\n",
    "\n",
    "Les attributs sont les différente caractéristique d'une instance.\n",
    "\n",
    "Par exemple, dans le cas d'un point dans l'espace 2-D, il faut indiquer ses coordonées sur l'axe x et y. L'objet `point` de type `Point` doit donc posséder un attribut x et un attribut y, appelé respectivement `point.x` et `point.y` auxquels ont affecte les valeurs souhaitées :"
   ]
  },
  {
   "cell_type": "code",
   "execution_count": null,
   "metadata": {},
   "outputs": [],
   "source": [
    "point.x = 3.0\n",
    "point.y = 4.0"
   ]
  },
  {
   "cell_type": "markdown",
   "metadata": {},
   "source": [
    "Voici à quoi ressemble le diagramme de cet objet :"
   ]
  },
  {
   "attachments": {},
   "cell_type": "markdown",
   "metadata": {},
   "source": [
    "![point.bmp](./image/point.bmp)"
   ]
  },
  {
   "cell_type": "markdown",
   "metadata": {},
   "source": [
    "Il est important de définir ces arguments dans le docstring de la classe :"
   ]
  },
  {
   "cell_type": "code",
   "execution_count": null,
   "metadata": {},
   "outputs": [],
   "source": [
    "class Point():\n",
    "    \"\"\"Représente un point dans l'espace 2D.\n",
    "    \n",
    "    attributs : x et y (int).\n",
    "    \"\"\""
   ]
  },
  {
   "cell_type": "markdown",
   "metadata": {},
   "source": [
    "En entrant l'attribut vous pouvez vérifier sa valeur :"
   ]
  },
  {
   "cell_type": "code",
   "execution_count": null,
   "metadata": {},
   "outputs": [],
   "source": [
    "point.x"
   ]
  },
  {
   "cell_type": "markdown",
   "metadata": {},
   "source": [
    "Ces attributs sont utilisable comme des variables normales. Mais vous pouvez aussi les utiliser dans une fonction en indiquant comme argument de fonction l'objet dont ils sont issus :"
   ]
  },
  {
   "cell_type": "code",
   "execution_count": null,
   "metadata": {},
   "outputs": [],
   "source": [
    "def afficher_point(p):\n",
    "    print('({} ; {})'.format(p.x, p.y))"
   ]
  },
  {
   "cell_type": "markdown",
   "metadata": {},
   "source": [
    "La fonction `afficher_point()` prend un objet `p` en argument et en affiche les attributs x et y."
   ]
  },
  {
   "cell_type": "code",
   "execution_count": null,
   "metadata": {},
   "outputs": [],
   "source": [
    "afficher_point(point)"
   ]
  },
  {
   "cell_type": "markdown",
   "metadata": {},
   "source": [
    "### Objet comme attribut\n",
    "\n",
    "Un attribut peut également être une instance. Pour créer un objet rectangle il nous faut ses dimension, longueur et largeur, et sa position, donnée par un point."
   ]
  },
  {
   "cell_type": "code",
   "execution_count": null,
   "metadata": {},
   "outputs": [],
   "source": [
    "class Rectangle():\n",
    "    \"\"\"Représente un Rectangle.\n",
    "    \n",
    "    attributs: largeur (int), longueur (int), coin (Point).\n",
    "    \"\"\""
   ]
  },
  {
   "cell_type": "markdown",
   "metadata": {},
   "source": [
    "Les dimensions du rectangle sont des `int`, mais le coin de référence est un objet de type `Point`. Pour instancier un rectangle, il faut rentrer les valeurs de chaque attribut. Pour le cas du coin, il faut instancier l'attribut `coin` à la classe `Point` et ensuite affecter ses coordonées aux valeurs souhaitées:"
   ]
  },
  {
   "cell_type": "code",
   "execution_count": null,
   "metadata": {},
   "outputs": [],
   "source": [
    "rect = Rectangle()\n",
    "rect.largeur = 50\n",
    "rect.hauteur = 20\n",
    "rect.coin = Point()\n",
    "rect.coin.x = 0.0\n",
    "rect.coin.y = 0.0"
   ]
  },
  {
   "cell_type": "markdown",
   "metadata": {},
   "source": [
    "Voici à quoi ressemble le diagramme de cet objet :"
   ]
  },
  {
   "attachments": {},
   "cell_type": "markdown",
   "metadata": {},
   "source": [
    "![rectangle.bmp](./image/rectangle.bmp)"
   ]
  },
  {
   "cell_type": "markdown",
   "metadata": {},
   "source": [
    "Une instance est utilisable comme n'importe quelle valeur, en plus de posséder des valeurs internes que sont ses attributs. Ses attributs sont également modifiables, et ce, sans modifier le reste de l'objet :"
   ]
  },
  {
   "cell_type": "code",
   "execution_count": null,
   "metadata": {},
   "outputs": [],
   "source": [
    "rect.hauteur = 100\n",
    "rect.largeur"
   ]
  },
  {
   "cell_type": "markdown",
   "metadata": {},
   "source": [
    "La largeur du rectangle ne change pas."
   ]
  },
  {
   "cell_type": "markdown",
   "metadata": {},
   "source": [
    "### Copier\n",
    "\n",
    "Avec la fonction `copy()`, importée du module `copy`, il est possible de créer une copie d'instance :"
   ]
  },
  {
   "cell_type": "code",
   "execution_count": null,
   "metadata": {},
   "outputs": [],
   "source": [
    "import copy\n",
    "\n",
    "point = Point()\n",
    "point.x = 6.0\n",
    "point.y = 8.0\n",
    "\n",
    "coin = copy.copy(point)\n",
    "\n",
    "afficher_point(point)\n",
    "afficher_point(coin)"
   ]
  },
  {
   "cell_type": "markdown",
   "metadata": {},
   "source": [
    "Les deux points possède les mêmes valeurs d'attributs, mais ce sont bel et bien 2 points distincts :"
   ]
  },
  {
   "cell_type": "code",
   "execution_count": null,
   "metadata": {},
   "outputs": [],
   "source": [
    "point == coin"
   ]
  },
  {
   "cell_type": "markdown",
   "metadata": {},
   "source": [
    "C'est un détail important qui pose problème lorsqu'une instance possède comme attribut une autre instance, comme le rectangle par exemple. La fonction `copy()` ne copie que l'instance et ses références, par conséquent les objet attributs ne sont pas copiés et deviennent attribut de la nouvelle copie :"
   ]
  },
  {
   "cell_type": "code",
   "execution_count": null,
   "metadata": {},
   "outputs": [],
   "source": [
    "rect2 = copy.copy(rect)\n",
    "rect == rect2"
   ]
  },
  {
   "cell_type": "code",
   "execution_count": null,
   "metadata": {},
   "outputs": [],
   "source": [
    "rect.coin == rect2.coin"
   ]
  },
  {
   "cell_type": "markdown",
   "metadata": {},
   "source": [
    "Voici à quoi ressemble le diagramme de ces objets :"
   ]
  },
  {
   "attachments": {},
   "cell_type": "markdown",
   "metadata": {},
   "source": [
    "![copy.bmp](./image/copy.bmp)"
   ]
  },
  {
   "cell_type": "markdown",
   "metadata": {},
   "source": [
    "Si vous souhaitez faire une copie complète, le module `copy` vous propose la fonction `deepcopy()` qui effectue une copie ''profonde'' de l'instance :"
   ]
  },
  {
   "cell_type": "code",
   "execution_count": null,
   "metadata": {},
   "outputs": [],
   "source": [
    "rect3 = copy.deepcopy(rect)\n",
    "rect == rect3"
   ]
  },
  {
   "cell_type": "code",
   "execution_count": null,
   "metadata": {},
   "outputs": [],
   "source": [
    "rect.coin == rect3.coin"
   ]
  },
  {
   "cell_type": "markdown",
   "metadata": {},
   "source": [
    "## Modificateur\n",
    "\n",
    "Lorsqu'on a des instances, on peut utiliser leur attributs dans des fonction qui se servent des valeurs pour, par exemple recréer une nouvelle instance. Avec une classe `Temps` qui créer des instances temporelles avec comme attributs `heure`, `minutes`, `seconde` :"
   ]
  },
  {
   "cell_type": "code",
   "execution_count": null,
   "metadata": {},
   "outputs": [],
   "source": [
    "class Temps():\n",
    "    \"\"\"Représente le moment de la journée.\n",
    "    \n",
    "    attributs : heure, minute, seconde\n",
    "    \"\"\"\n",
    "\n",
    "instant = Temps()\n",
    "instant.heure = 11\n",
    "instant.minute = 59\n",
    "instant.seconde = 30"
   ]
  },
  {
   "cell_type": "markdown",
   "metadata": {},
   "source": [
    "Voici à quoi ressemble le diagramme de cet objet :"
   ]
  },
  {
   "attachments": {},
   "cell_type": "markdown",
   "metadata": {},
   "source": [
    "![temps.bmp](./image/temps.bmp)"
   ]
  },
  {
   "cell_type": "markdown",
   "metadata": {},
   "source": [
    "Et voici une fonction qui ajoute du temps avec comme argument deux instances temps :"
   ]
  },
  {
   "cell_type": "code",
   "execution_count": null,
   "metadata": {},
   "outputs": [],
   "source": [
    "def ajouter_temps(t1, t2):\n",
    "    total = Temps()\n",
    "    total.heure = t1.heure + t2.heure\n",
    "    total.minute = t1.minute + t2.minute\n",
    "    total.seconde = t1.seconde + t2.seconde\n",
    "    return total"
   ]
  },
  {
   "cell_type": "markdown",
   "metadata": {},
   "source": [
    "Les instances utilisée par la fonction ne sont pas modifiées. Ces fonctions sont appelées fonction pure."
   ]
  },
  {
   "cell_type": "code",
   "execution_count": null,
   "metadata": {},
   "outputs": [],
   "source": [
    "chrono = Temps()\n",
    "chrono.heure = 9\n",
    "chrono.minute = 12\n",
    "chrono.seconde = 10\n",
    "\n",
    "temps = ajouter_temps(instant, chrono)\n",
    "print(temps.heure, temps.minute, temps.seconde)"
   ]
  },
  {
   "cell_type": "markdown",
   "metadata": {},
   "source": [
    "Le problème de cet fonction est qu'elle crée une troisième instance. C'est pour ça qu'il est parfois préférable d'utiliser des fonctions qui modifient des instances et qu'on appelle modificateurs."
   ]
  },
  {
   "cell_type": "code",
   "execution_count": null,
   "metadata": {},
   "outputs": [],
   "source": [
    "def temps_vers_int(temps):\n",
    "    minutes = temps.heure * 60 + temps.minute\n",
    "    secondes = minutes * 60 + temps.seconde\n",
    "    return secondes"
   ]
  },
  {
   "cell_type": "markdown",
   "metadata": {},
   "source": [
    "La fonction `temps_vers_int()` permet de transformer une instance `Temps` en valeur `int` et ainsi l'utiliser plus facilement, dans une addition par exemple. Voici la fonction inverse :"
   ]
  },
  {
   "cell_type": "code",
   "execution_count": null,
   "metadata": {},
   "outputs": [],
   "source": [
    "def int_vers_temps(secondes):\n",
    "        temps = Temps()\n",
    "        minutes, temps.seconde = divmod(secondes, 60)\n",
    "        temps.heure, temps.minute = divmod(minutes, 60)\n",
    "        return temps"
   ]
  },
  {
   "cell_type": "markdown",
   "metadata": {},
   "source": [
    "Avec ces deux modificateurs, la fonction `ajouter_temps()` devient bien plus facile et précise :"
   ]
  },
  {
   "cell_type": "code",
   "execution_count": null,
   "metadata": {},
   "outputs": [],
   "source": [
    "def ajouter_temps(t1, t2):\n",
    "    secondes = temps_vers_int(t1) + temps_vers_int(t2)\n",
    "    return int_vers_temps(secondes)"
   ]
  },
  {
   "cell_type": "code",
   "execution_count": null,
   "metadata": {},
   "outputs": [],
   "source": [
    "temps = ajouter_temps(instant, chrono)\n",
    "print(temps.heure, temps.minute, temps.seconde)"
   ]
  },
  {
   "cell_type": "markdown",
   "metadata": {},
   "source": [
    "Il est parfois judicieux de bien comprendre les opérations qu'on souhaite effectuer et le concept général de nos fonctions. En appliquant un développement par conception, on peut concevoir un code plus efficace, facile à debogué et/ou à modifier."
   ]
  },
  {
   "cell_type": "markdown",
   "metadata": {},
   "source": [
    "# Méthodes\n",
    "\n",
    "Dans la définition d'une classe, il est possible d'y intégrer des fonctions propres à la classe. Ces fonctions, appelées méthodes, vont traiter les relations et interactions entre les différentes instances. Une méthode, à la différence d'une simple fonction, est définie dans la définition de sa classe et son invocation est plus intuitive."
   ]
  },
  {
   "cell_type": "code",
   "execution_count": null,
   "metadata": {},
   "outputs": [],
   "source": [
    "class Temps():\n",
    "    \"\"\"Représente le moment de la journée.\n",
    "    \n",
    "    attributs : heure, minute, seconde\n",
    "    \"\"\"\n",
    "    \n",
    "    def afficher_temps(self):\n",
    "        print('%.2d:%.2d:%.2d' % (self.heure, self.minute, self.seconde))"
   ]
  },
  {
   "cell_type": "markdown",
   "metadata": {},
   "source": [
    "Voilà comment intégrer la fonction `afficher_temps()` dans la classe `Temps` et en faire ainsi une méthode. Le premier argument d'une méthode est appelé par convention `self`. Il s'agit de l'instance elle-même.    \n",
    "\n",
    "Pour appeler la méthode, la syntaxe la plus courante est la suivante :"
   ]
  },
  {
   "cell_type": "code",
   "execution_count": null,
   "metadata": {},
   "outputs": [],
   "source": [
    "timer = Temps()\n",
    "timer.heure = 3\n",
    "timer.minute = 56\n",
    "timer.seconde = 22\n",
    "\n",
    "timer.afficher_temps()"
   ]
  },
  {
   "cell_type": "markdown",
   "metadata": {},
   "source": [
    "Dans cet appelle de méthode, la fonction `afficher_temps()` est un argument de l'instance `timer`. On demande à l'instance `timer` de faire la méthode `afficher_temps()` de lui-même (`self`). C'est pour ça que les parenthèses n'ont pas besoin de l'argument `self`. Il est déjà indiqué par l'instance.\n",
    "\n",
    "Cependant, il arrive que des méthodes demande d'autre arguments. Ceux-ci doivent alors être inscrits dans les parenthèses. Si un second argument est une autre instance `Temps`, il faut l'appelé par convention `other`.\n",
    "Voici la méthode `est_apres()` qui vérifie si le premier argument `Temps` est plus grand que le second argument `Temps` (il faut avant cela ajouter la méthode `temps_vers_int()`) :"
   ]
  },
  {
   "cell_type": "code",
   "execution_count": null,
   "metadata": {},
   "outputs": [],
   "source": [
    "class Temps():\n",
    "    \"\"\"Représente le moment de la journée.\n",
    "    \n",
    "    attributs : heure, minute, seconde\n",
    "    \"\"\"\n",
    "    \n",
    "    def afficher_temps(self):\n",
    "        print('%.2d:%.2d:%.2d' % (self.heure, self.minute, self.seconde))\n",
    "    \n",
    "    def temps_vers_int(self):\n",
    "        minutes = self.heure * 60 + self.minute\n",
    "        secondes = minutes * 60 + self.seconde\n",
    "        return secondes\n",
    "    \n",
    "    def est_apres(self, other):\n",
    "        return self.temps_vers_int() > other.temps_vers_int()"
   ]
  },
  {
   "cell_type": "code",
   "execution_count": null,
   "metadata": {},
   "outputs": [],
   "source": [
    "chrono = Temps()\n",
    "chrono.heure = 9\n",
    "chrono.minute = 12\n",
    "chrono.seconde = 10\n",
    "\n",
    "timer = Temps()\n",
    "timer.heure = 3\n",
    "timer.minute = 56\n",
    "timer.seconde = 22\n",
    "\n",
    "chrono.est_apres(timer)"
   ]
  },
  {
   "cell_type": "markdown",
   "metadata": {},
   "source": [
    "L'argument `other` (`timer` dans l'exemple) est le deuxième de la fonction et doit être indiqué dans les parenthèses. L'avantage de cette méthode est sa ressemblence avec le français."
   ]
  },
  {
   "cell_type": "markdown",
   "metadata": {},
   "source": [
    "## La méthode `__init__()`.\n",
    "\n",
    "La méthode `__init__()` est l'une des méthodes spéciales les plus importante. Elle permet d'initialiser chaque instance qu'on crée, fixant ainsi une valeur de base souhaitée pour chacun des attributs et en fonction des arguments donnés dans l'instanciation."
   ]
  },
  {
   "cell_type": "code",
   "execution_count": null,
   "metadata": {},
   "outputs": [],
   "source": [
    "class Temps():\n",
    "    \"\"\"Représente le moment de la journée.\n",
    "    \n",
    "    attributs : heure, minute, seconde\n",
    "    \"\"\"\n",
    "    \n",
    "    def __init__(self, heure = 0, minute = 0, seconde = 0):\n",
    "        self.heure = heure\n",
    "        self.minute = minute\n",
    "        self.seconde = seconde\n",
    "        \n",
    "    def afficher_temps(self):\n",
    "        print('%.2d:%.2d:%.2d' % (self.heure, self.minute, self.seconde))"
   ]
  },
  {
   "cell_type": "markdown",
   "metadata": {},
   "source": [
    "Les arguments sont affectés aux attributs correspondants. Cela facilite grandement l'instanciation, car les attributs peuvent tous être inscrits dans l'ordre entre les parenthèses en tant qu'arguments de l'instanciation :"
   ]
  },
  {
   "cell_type": "code",
   "execution_count": null,
   "metadata": {
    "scrolled": true
   },
   "outputs": [],
   "source": [
    "rdv = Temps(15, 30, 0)\n",
    "rdv.afficher_temps()"
   ]
  },
  {
   "cell_type": "markdown",
   "metadata": {},
   "source": [
    "## La méthode `__str__()`.\n",
    "\n",
    "La méthode `__str__()` permet de représenter une instance sous la forme d'un `str` lorsqu'elle est appelée par la fonction `print()`."
   ]
  },
  {
   "cell_type": "code",
   "execution_count": null,
   "metadata": {},
   "outputs": [],
   "source": [
    "class Temps():\n",
    "    \"\"\"Représente le moment de la journée.\n",
    "    \n",
    "    attributs : heure, minute, seconde\n",
    "    \"\"\"\n",
    "    \n",
    "    def __init__(self, heure = 0, minute = 0, seconde = 0):\n",
    "        self.heure = heure\n",
    "        self.minute = minute\n",
    "        self.seconde = seconde\n",
    "        \n",
    "    def __str__(self):\n",
    "        return '%.2d:%.2d:%.2d' % (self.heure, self.minute, self.seconde)"
   ]
  },
  {
   "cell_type": "markdown",
   "metadata": {},
   "source": [
    "La méthode `__str__()` renvoie toutes les informations souhaitée de l'instance sous forme de string. Lorsque la fonction print reçoit comme argument une instance, elle affichera automatiquement ce que renvoie la méthode `__str__()` :"
   ]
  },
  {
   "cell_type": "code",
   "execution_count": null,
   "metadata": {},
   "outputs": [],
   "source": [
    "moment = Temps(12, 45, 2)\n",
    "print(moment)"
   ]
  },
  {
   "cell_type": "markdown",
   "metadata": {},
   "source": [
    "Cette méthode est très utile pour vérifier les donnée d'une instance et permet un débogage plus facile."
   ]
  },
  {
   "cell_type": "markdown",
   "metadata": {},
   "source": [
    "## Les méthodes d'opérateurs\n",
    "\n",
    "Lorsqu'on utilise des opérateurs sur des instances de classe, généralement ceux-ci ne supportent pas les opérandes sous forme d'instance. Il existe des méthodes qui spécifie l'opération à faire pour chaque opérateur avec chaque type de classe :"
   ]
  },
  {
   "cell_type": "code",
   "execution_count": null,
   "metadata": {},
   "outputs": [],
   "source": [
    "class Temps():\n",
    "    \"\"\"Représente le moment de la journée.\n",
    "    \n",
    "    attributs : heure, minute, seconde\n",
    "    \"\"\"\n",
    "    \n",
    "    def __init__(self, heure = 0, minute = 0, seconde = 0):\n",
    "        self.heure = heure\n",
    "        self.minute = minute\n",
    "        self.seconde = seconde\n",
    "    \n",
    "    def __str__(self):\n",
    "        return '%.2d:%.2d:%.2d' % (self.heure, self.minute, self.seconde)\n",
    "    \n",
    "    def temps_vers_int(self):\n",
    "        minutes = self.heure * 60 + self.minute\n",
    "        secondes = minutes * 60 + self.seconde\n",
    "        return secondes\n",
    "\n",
    "    def int_vers_temps(secondes):\n",
    "        temps = Temps()\n",
    "        minutes, temps.seconde = divmod(secondes, 60)\n",
    "        temps.heure, temps.minute = divmod(minutes, 60)\n",
    "        return temps\n",
    "    \n",
    "    def __add__(self, other):\n",
    "        secondes = self.temps_vers_int() + other.temps_vers_int()\n",
    "        return int_vers_temps(secondes)"
   ]
  },
  {
   "cell_type": "markdown",
   "metadata": {},
   "source": [
    "La méthode `__add__()` permet ainsi d'additionner deux instances de type Temps en utilisant l'opérateur `+` entre les deux opérandes et d'afficher le résultat avec `print()` :"
   ]
  },
  {
   "cell_type": "code",
   "execution_count": null,
   "metadata": {},
   "outputs": [],
   "source": [
    "chrono = Temps(10, 11, 34)\n",
    "time = Temps(2, 23, 12)\n",
    "print(chrono + time)"
   ]
  },
  {
   "cell_type": "markdown",
   "metadata": {},
   "source": [
    "La fonction print prend automatiquement le retour de la méthode `__str__()` pour afficher le total."
   ]
  },
  {
   "cell_type": "markdown",
   "metadata": {},
   "source": [
    "# Héritage"
   ]
  },
  {
   "cell_type": "code",
   "execution_count": null,
   "metadata": {},
   "outputs": [],
   "source": []
  }
 ],
 "metadata": {
  "kernelspec": {
   "display_name": "Python 3",
   "language": "python",
   "name": "python3"
  },
  "language_info": {
   "codemirror_mode": {
    "name": "ipython",
    "version": 3
   },
   "file_extension": ".py",
   "mimetype": "text/x-python",
   "name": "python",
   "nbconvert_exporter": "python",
   "pygments_lexer": "ipython3",
   "version": "3.7.3"
  }
 },
 "nbformat": 4,
 "nbformat_minor": 2
}
