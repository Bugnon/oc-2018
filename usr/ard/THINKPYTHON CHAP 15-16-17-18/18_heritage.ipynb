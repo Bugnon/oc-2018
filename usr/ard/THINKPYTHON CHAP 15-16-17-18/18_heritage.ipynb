{
 "cells": [
  {
   "cell_type": "markdown",
   "metadata": {},
   "source": [
    "# 18 Héritage\n",
    "\n",
    "L'héritage est la possibilité de définir une nouvelle classe, qui est une version modifié d'une classe existante. Dans cette section nous allons utiliser le jeu de poker, en utilisant des classes qui représentent des cartes à jouer.\n",
    "\n",
    "Référence: https://fr.wikipedia.org/wiki/Poker"
   ]
  },
  {
   "cell_type": "markdown",
   "metadata": {},
   "source": [
    "## Objet carte de jeu"
   ]
  },
  {
   "cell_type": "markdown",
   "metadata": {},
   "source": [
    "Dansu un paquet de cartes il y 52 cartes, dont chacune appartient à une des 4 **couleurs**:\n",
    "* Pique (3)\n",
    "* Coeur (2)\n",
    "* Carreau (1)\n",
    "* Trèfle (0)\n",
    "\n",
    "Les **valeurs** sont:\n",
    "* as (1)\n",
    "* 2, 3, .. 10\n",
    "* valet (11)\n",
    "* dame (12)\n",
    "* roi (13)\n",
    "\n",
    "Nous allons utiliser les nombre en parenthèses pour encoder la **couleur** et la **valeur** d'une carte."
   ]
  },
  {
   "cell_type": "code",
   "execution_count": null,
   "metadata": {},
   "outputs": [],
   "source": [
    "class Carte:\n",
    "    \"\"\"Représente une carte à jouer standard.\"\"\"\n",
    "    \n",
    "    def __init__(self, couleur=0, valeur=2):\n",
    "        self.couleur = couleur\n",
    "        self.valeur = valeur"
   ]
  },
  {
   "cell_type": "markdown",
   "metadata": {},
   "source": [
    "Pour créer une carte nous appelons ``Carte`` avec la couleur et la valeur."
   ]
  },
  {
   "cell_type": "code",
   "execution_count": null,
   "metadata": {},
   "outputs": [],
   "source": [
    "dame_de_carreau = Carte(1, 12)"
   ]
  },
  {
   "cell_type": "code",
   "execution_count": null,
   "metadata": {},
   "outputs": [],
   "source": [
    "dame_de_carreau"
   ]
  },
  {
   "cell_type": "markdown",
   "metadata": {},
   "source": [
    "## Attributs de classe\n",
    "Pour afficher les cartes d'une manière facilement lisible pour les humains, nous avons besoin d'une correspondance entre les codes et les couleurs. Nous utilisons des listes, et nous en créons un **attribut de classe**.\n",
    "\n",
    "Ces attributs de classe sont précédé du nom de la classe ``Carte``, ce qui les distingue des **attributs d'instance** tel que `self.couleur`` ou ``self.valeur``."
   ]
  },
  {
   "cell_type": "code",
   "execution_count": null,
   "metadata": {},
   "outputs": [],
   "source": [
    "class Carte:\n",
    "    \"\"\"Représente une carte à jouer standard.\"\"\"\n",
    "    \n",
    "    couleurs = ['trèfle', 'carreau', 'coeur', 'pique']\n",
    "    valeurs = [None, 'as', '2', '3', '4', '5', '6', '7', \n",
    "               '8', '9', '10', 'valet', 'dame', 'roi']\n",
    "    \n",
    "    def __init__(self, couleur=0, valeur=2):\n",
    "        self.couleur = couleur\n",
    "        self.valeur = valeur\n",
    "        \n",
    "    def __str__(self):\n",
    "        return '{} de {}'.format(Carte.valeurs[self.valeur], \n",
    "                                 Carte.couleurs[self.couleur])"
   ]
  },
  {
   "cell_type": "code",
   "execution_count": null,
   "metadata": {},
   "outputs": [],
   "source": [
    "print(Carte(1, 12))"
   ]
  },
  {
   "cell_type": "markdown",
   "metadata": {},
   "source": [
    "Le premier élément de la liste ``Carte.valeurs`` est ``None`` car il n'y a pas de carte avec le code 0."
   ]
  },
  {
   "cell_type": "code",
   "execution_count": null,
   "metadata": {},
   "outputs": [],
   "source": [
    "for i in range(1, 14):\n",
    "    print(Carte(1, i))"
   ]
  },
  {
   "cell_type": "markdown",
   "metadata": {},
   "source": [
    "## Comparer des cartes\n",
    "Pour la comparaison des types internes (int, float) nous disposons des 6 comparateurs standard (``==``, ``!=``, ``<``, ``<=``, ``>=``, ``>``).  Pour les classes définis par l'utilisateur, nous avons les méthodes spéciales ``__lt__`` (less than). "
   ]
  },
  {
   "cell_type": "code",
   "execution_count": null,
   "metadata": {},
   "outputs": [],
   "source": [
    "class Carte:\n",
    "    \"\"\"Représente une carte à jouer standard.\"\"\"\n",
    "    \n",
    "    couleurs = ['trèfle', 'carreau', 'coeur', 'pique']\n",
    "    valeurs = [None, 'as', '2', '3', '4', '5', '6', '7', \n",
    "               '8', '9', '10', 'valet', 'dame', 'roi']\n",
    "    \n",
    "    def __init__(self, couleur=0, valeur=2):\n",
    "        self.couleur = couleur\n",
    "        self.valeur = valeur\n",
    "        \n",
    "    def __str__(self):\n",
    "        return '{} de {}'.format(Carte.valeurs[self.valeur], \n",
    "                                 Carte.couleurs[self.couleur])\n",
    "    \n",
    "    def __lt__(self, other):\n",
    "        if self.couleur < other.couleur:\n",
    "            return True\n",
    "        elif self.couleur > other.couleur:\n",
    "            return False\n",
    "        return self.valeur < other.valeur"
   ]
  },
  {
   "cell_type": "markdown",
   "metadata": {},
   "source": [
    "Testons avec deux cartes."
   ]
  },
  {
   "cell_type": "code",
   "execution_count": null,
   "metadata": {},
   "outputs": [],
   "source": [
    "c1 = Carte(2, 12)\n",
    "c2 = Carte(3, 13)\n",
    "print(c1)\n",
    "print(c2)\n",
    "c1 < c2"
   ]
  },
  {
   "cell_type": "markdown",
   "metadata": {},
   "source": [
    "## Paquet de cartes\n",
    "La prochaine étape es de définir les paquets de cartes."
   ]
  },
  {
   "cell_type": "code",
   "execution_count": null,
   "metadata": {},
   "outputs": [],
   "source": [
    "class Paquet:\n",
    "    \n",
    "    def __init__(self):\n",
    "        self.cartes = []\n",
    "        for couleur in range(4):\n",
    "            for valeur in range(1, 14):\n",
    "                carte = Carte(couleur, valeur)\n",
    "                self.cartes.append(carte)"
   ]
  },
  {
   "cell_type": "markdown",
   "metadata": {},
   "source": [
    "Créons maintenant un paquet et vérifions la présenece des 52 cartes."
   ]
  },
  {
   "cell_type": "code",
   "execution_count": null,
   "metadata": {},
   "outputs": [],
   "source": [
    "p = Paquet()\n",
    "p.cartes"
   ]
  },
  {
   "cell_type": "code",
   "execution_count": null,
   "metadata": {},
   "outputs": [],
   "source": [
    "len(p.cartes)"
   ]
  },
  {
   "cell_type": "markdown",
   "metadata": {},
   "source": [
    "## Afficher le paquet"
   ]
  },
  {
   "cell_type": "code",
   "execution_count": null,
   "metadata": {},
   "outputs": [],
   "source": [
    "class Paquet:\n",
    "    \n",
    "    def __init__(self):\n",
    "        self.cartes = []\n",
    "        for couleur in range(4):\n",
    "            for valeur in range(1, 14):\n",
    "                carte = Carte(couleur, valeur)\n",
    "                self.cartes.append(carte)\n",
    "                \n",
    "    def __str__(self):\n",
    "        res = []\n",
    "        for carte in self.cartes:\n",
    "            res.append(str(carte))     \n",
    "        return '\\n'.join(res)            "
   ]
  },
  {
   "cell_type": "code",
   "execution_count": null,
   "metadata": {},
   "outputs": [],
   "source": [
    "p = Paquet()\n",
    "print(p)"
   ]
  },
  {
   "cell_type": "markdown",
   "metadata": {},
   "source": [
    "## Ajouter, enlever, mélanger et trier\n",
    "Pour distribuer des cartes, nous voudrions une méthode qui enlève une carte du paquet et la renvoie. La méthode de liste ``pop`` offre un moyen pratique pour le faire."
   ]
  },
  {
   "cell_type": "code",
   "execution_count": null,
   "metadata": {},
   "outputs": [],
   "source": [
    "import random\n",
    "\n",
    "class Paquet:\n",
    "    import random\n",
    "    \n",
    "    def __init__(self):\n",
    "        self.cartes = []\n",
    "        for couleur in range(4):\n",
    "            for valeur in range(1, 14):\n",
    "                carte = Carte(couleur, valeur)\n",
    "                self.cartes.append(carte)\n",
    "                \n",
    "    def __str__(self):\n",
    "        res = []\n",
    "        for carte in self.cartes:\n",
    "            res.append(str(carte))     \n",
    "        return '\\n'.join(res)\n",
    "    \n",
    "    def pop(self):\n",
    "        return self.cartes.pop()\n",
    "    \n",
    "    def add(self, carte):\n",
    "        self.cartes.append(carte)\n",
    "        \n",
    "    def battre(self):\n",
    "        random.shuffle(self.cartes)"
   ]
  },
  {
   "cell_type": "markdown",
   "metadata": {},
   "source": [
    "Créons un nouveau paquet, mélangeons les cartes et tirons-en une."
   ]
  },
  {
   "cell_type": "code",
   "execution_count": null,
   "metadata": {},
   "outputs": [],
   "source": [
    "p = Paquet()\n",
    "p.battre()\n",
    "print(p.pop())"
   ]
  },
  {
   "cell_type": "code",
   "execution_count": null,
   "metadata": {},
   "outputs": [],
   "source": []
  }
 ],
 "metadata": {
  "kernelspec": {
   "display_name": "Python 3",
   "language": "python",
   "name": "python3"
  },
  "language_info": {
   "codemirror_mode": {
    "name": "ipython",
    "version": 3
   },
   "file_extension": ".py",
   "mimetype": "text/x-python",
   "name": "python",
   "nbconvert_exporter": "python",
   "pygments_lexer": "ipython3",
   "version": "3.7.1"
  }
 },
 "nbformat": 4,
 "nbformat_minor": 2
}
