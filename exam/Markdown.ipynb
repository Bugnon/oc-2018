{
 "cells": [
  {
   "cell_type": "markdown",
   "metadata": {},
   "source": [
    "# Markdown, Wiki, Jupyter Notebook"
   ]
  },
  {
   "cell_type": "markdown",
   "metadata": {},
   "source": [
    "Auteur: Gaglio Pierre, Gymnase Bugnon site de l'ours, 3MOCINFO\n",
    "\n",
    "Date: Mai 2019"
   ]
  },
  {
   "cell_type": "markdown",
   "metadata": {},
   "source": [
    "## Markdown, qu'est-ce que c'est?"
   ]
  },
  {
   "cell_type": "markdown",
   "metadata": {},
   "source": [
    "Markdown est un un langage dit de **balisage léger** qui a été crée en 2004 par John Gruber et Aaron Swartz. Cela veut dire que c'est **un langage avec une syntaxe simple**, conçu pour être saisi avec un éditeur de texte simple ainsi que **facile à lire sous forme non formatée**. Ce langage a été inspiré par le format **courrier éléctrique** en mode texte. Un document balisé sous Markdown est possiblement convertissable sous format HTML ainsi que PDF ou sous autres formats.\n",
    "\n",
    "Markdown n'a pas subi d'évolutions par ses auteurs depuis sa création et **n'a pas été standardisé de manière claire**. Cependant, ce langage a été développé sous différentes variantes qui sont encore maintenant utilisées tel que *Multimarkdown*, qui rajoute des fonctionnalités tel que les fonctions mathématiques, les tableaux ou encore les attributs d'images, ainsi que *Github Flavored Markdown*, qui est la version utilisée par le site du même nom **Github**."
   ]
  },
  {
   "cell_type": "markdown",
   "metadata": {},
   "source": [
    "## Balises Markdown"
   ]
  },
  {
   "cell_type": "markdown",
   "metadata": {},
   "source": [
    "Maintenant que nous connaissons ce qu'est *Markdown*, nous allons passer aux différentes balises proposées par la version *Github Flavored Markdown*. Ce choix est fait arbitrairement en conséquence à notre travail effectué tout au long de l'année qui s'est déroulé avec **Github**. "
   ]
  },
  {
   "cell_type": "markdown",
   "metadata": {},
   "source": [
    "### Table des matières\n",
    "\n",
    "1. Titres\n",
    "2. Gras, Italique, Barré\n",
    "3. Listes\n",
    "4. Liens\n",
    "5. Images\n",
    "6. Code, Syntaxe\n",
    "7. Tableaux\n",
    "8. Citations\n",
    "9. Saut de Page\n",
    "10. Vidéos YouTube"
   ]
  },
  {
   "cell_type": "markdown",
   "metadata": {},
   "source": [
    "### 1. Titres\n",
    "\n",
    "Avec *Markdown* vous pouvez simplement créer des titres de manière symple en ajoutant des `#` suivi d'un espace. Le langage vous permet aussi de créer différents niveaux de titre en ajoutant un `#` pour chaque sous-titre. Vous pouvez créer jusqu'à 6 niveaux de titres, voilà donc la correspondance de l'écriture en fonction des titres possibles."
   ]
  },
  {
   "cell_type": "markdown",
   "metadata": {},
   "source": [
    "**EXEMPLE**\n",
    "```\n",
    "# Titre1\n",
    "## Titre2\n",
    "### Titre3\n",
    "#### Titre4\n",
    "##### Titre5\n",
    "###### Titre6\n",
    "```\n",
    "Le *Titre1* et le *Titre2* peuvent aussi être écrits ainsi:\n",
    "```\n",
    "Titre1\n",
    "=====\n",
    "\n",
    "Titre2\n",
    "-----\n",
    "```"
   ]
  },
  {
   "cell_type": "markdown",
   "metadata": {},
   "source": [
    "# Titre1\n",
    "## Titre2\n",
    "### Titre3\n",
    "#### Titre4\n",
    "##### Titre5\n",
    "###### Titre6\n",
    "\n",
    "Voici le résultat pour les secondes possibilités d'écriture du *Titre1* et du *Titre2*:\n",
    "Titre1\n",
    "=====\n",
    "Titre2\n",
    "-----"
   ]
  },
  {
   "cell_type": "markdown",
   "metadata": {},
   "source": [
    "### 2. Gras, Italique, Barré\n",
    "Il est possible d'utiliser 3 accentuations différentes avec *Markdown*: \n",
    "* Pour mettre votre texte en gras, il vous suffira d'ajouter deux `*` au début et à la fin de votre texte..\n",
    "* Pour mettre votre texte en italique, il vous faudra ajouter, cette fois, qu'une seule `*` au début et à la fin de votre texte.\n",
    "* Pour mettre votre texte en barré, il vous suffit suffira simplement de mettre deux `~`au début et à la fin de votre texte.\n",
    "\n",
    "**Pour ces 3 accentuations, vous devrez faire attention à ne pas laisser d'espace entre votre premier mot où vous voulez que l'accentuation se mette et le symbole nécessaire pour faire l'accentuation (voir exemple).**\n",
    "\n",
    "Note: Il est également possible de remplacer les `*`pour le **gras** et l'**italique** par des `_`."
   ]
  },
  {
   "cell_type": "markdown",
   "metadata": {},
   "source": [
    "**EXEMPLE**\n",
    "```\n",
    "**Accentuation en gras** ou __Accentuation en gras__\n",
    "*Accentuation en italique* ou _Accentuation en italique_\n",
    "~~Accentuation en barré~~\n",
    "```"
   ]
  },
  {
   "cell_type": "markdown",
   "metadata": {},
   "source": [
    "**Accentuation en gras** ou __Accentuation en gras__\n",
    "\n",
    "*Accentuation en italique* ou _Accentuation en italique_\n",
    "\n",
    "~~Accentuation en barré~~"
   ]
  },
  {
   "cell_type": "markdown",
   "metadata": {},
   "source": [
    "### 3. Listes"
   ]
  },
  {
   "cell_type": "markdown",
   "metadata": {},
   "source": [
    "Il est possible de créer deux types de listes avec ce langage, les listes à puces indifférenciées et les listes à puces numérotées.\n",
    "\n",
    "* Pour le premier les listes indifférenciées, il vous faudra simplement insérer une `*` avant chaque objet de la liste.\n",
    "* Pour les listes numérotées, il vous faudra insérer, cette fois, le numéro de l'objet de la liste suivi d'un `.`.\n",
    "\n",
    "Il est possible aussi d'imbriquer des listes dans des listes en rajoutant 4 espaces (ou une tabulation) avec votre début de ligne (voir exemple).\n",
    "\n",
    "**Il est important de bien laisser un espace après l'`*` ou le numéro avec son `.` afin que celà crée un liste (voir exemple):**\n",
    "\n",
    "Note: Il est également possible de remplacer les `*`, pour les listes indifférenciées, par des `+`ou des `-`."
   ]
  },
  {
   "cell_type": "markdown",
   "metadata": {},
   "source": [
    "**EXEMPLE**\n",
    "```\n",
    "* Objet1\n",
    "+ Objet2\n",
    "- Objet3\n",
    "    * Objet3.1\n",
    "    + Objet3.2\n",
    "    - Objet3.3\n",
    "\n",
    "1. Objet1\n",
    "2. Objet2\n",
    "3. Objet3\n",
    "    1. Objet3.1\n",
    "    2. Objet3.2\n",
    "    3. Objet3.3\n",
    "```"
   ]
  },
  {
   "cell_type": "markdown",
   "metadata": {},
   "source": [
    "* Objet1\n",
    "+ Objet2\n",
    "- Objet3\n",
    "    * Objet3.1\n",
    "    + Objet3.2\n",
    "    - Objet3.3"
   ]
  },
  {
   "cell_type": "markdown",
   "metadata": {},
   "source": [
    "1. Objet1\n",
    "2. Objet2\n",
    "3. Objet3\n",
    "    1. Objet3.1\n",
    "    2. Objet3.2\n",
    "    3. Objet3.3"
   ]
  },
  {
   "cell_type": "markdown",
   "metadata": {},
   "source": [
    "**Attention**, il n'est pas possible sous *Jupyter Notebook* de faire une liste numérotée et indifférente dans la même cellule. La seconde liste prendre les propriétés de la première."
   ]
  },
  {
   "cell_type": "markdown",
   "metadata": {},
   "source": [
    "### 4. Liens, Images\n",
    "\n",
    "Il existe plusieurs possibilités pour référencer un lien ou une image à travers votre texte en *Markdown*.\n",
    "1. Vous pouvez lier un texte à un lien, ce qui fait que lors d'un *click* sur ce texte lié, vous serez menés au lien. Pour ce faire, vous devez mettre votre texte entre `[]` suivi de votre lien entre `()`.\n",
    "     * Il vous est possible aussi de donner un titre à votre lien ce qui fera que lors du passage de votre souris sur le texte lié, vous verrez apparaître un titre. Pour se faire, il faudra rajouter des `\"\"`dans vos `()` après votre lien. Vous n'aurez plus qu'à y écrire le titre entre les `\"\"`.\n",
    "2. Vous pouvez définir un lien référenciel entre `[]` au début ou à la fin de votre texte et le utiliser pour chaque texte que vous voulez lier à ce lien. Une fois le lien référenciel crée, il vous faudra écrire votre texte entrre `[]`suivi du nom référenciel de votre lien entre `[]`. Il est possible de référencier vos liens avec des numéros.\n",
    "3. Vous pouvez aussi simplement mettre votre texte entre `[]` sans lier de lien et définir que le texte mis entre `[]` amènera à un lien directement. (cela permet de ne pas faire des longueurs de répétitions)\n",
    "4. Finalement, si vous voulez simplement mettre votre lien, vous pouvez le mettre sous forme brute ou encore entre `<>`.\n",
    "\n",
    "Pour ce qui est des images, le principe est le même que pour la manière 1. et 2. porposées pour les liens. La seule différence pour que l'image s'affiche est qu'il faut rajouter un `!` collé devant les `[]` de votre texte lié. \n",
    "\n",
    "**Veuillez prêter attention à ne pas laisser d'espace entre vos `[]` et vos `()`.**\n",
    "\n",
    "Note: Pour créer votre référenciel, mettez le nom de celui-ci entre `[]` suivi de `:`, puis d'un espace et finalement de votre lien."
   ]
  },
  {
   "cell_type": "markdown",
   "metadata": {},
   "source": [
    "**EXEMPLE**\n",
    "```\n",
    "[GitHub](https://github.com/)\n",
    "[Google](https://www.google.com/ \"Page d'acceuil Google\")\n",
    "[YouTube][raccourci]\n",
    "[Google Translate][1]\n",
    "[Gymnase Bugnon Ours]\n",
    "https://www.google.com/\n",
    "<https://www.google.com/>\n",
    "![Image1](https://github.com/Bugnon/oc-2018/blob/master/exam/img/logo-github.jpg \"Logo GitHub\")\n",
    "![Image2][logo-bugnon-ours]\n",
    "\n",
    "[raccourci]: https://www.youtube.com/\n",
    "[1]: http://translate.google.com/\n",
    "[Gymnase Bugnon Ours]: http://www.gymnasedubugnon.ch/spip/\n",
    "[logo-bugnon-ours]: https://github.com/Bugnon/oc-2018/blob/master/exam/img/bugnon-ours.png \"Logo Gymnase Bugnon Ours\"\n",
    "```"
   ]
  },
  {
   "cell_type": "markdown",
   "metadata": {},
   "source": [
    "[GitHub](https://github.com/)\n",
    "\n",
    "[Google](https://www.google.com/ \"Page d'acceuil Google\")\n",
    "\n",
    "[YouTube][raccourci]\n",
    "\n",
    "[Google Translate][1]\n",
    "\n",
    "[Gymnase Bugnon Ours]\n",
    "\n",
    "https://www.google.com/\n",
    "\n",
    "<https://www.google.com/>\n",
    "\n",
    "![image1]((../img/vpl.png))\n",
    "\n",
    "![image2][logo-bugnon-ours]\n",
    "\n",
    "[raccourci]: https://www.youtube.com/\n",
    "[1]: http://translate.google.com/\n",
    "[Gymnase Bugnon Ours]: http://www.gymnasedubugnon.ch/spip/ \n",
    "[logo-bugnon-ours]: https://github.com/Bugnon/oc-2018/blob/master/exam/img/bugnon-ours.png"
   ]
  },
  {
   "cell_type": "markdown",
   "metadata": {},
   "source": [
    "\n"
   ]
  }
 ],
 "metadata": {
  "kernelspec": {
   "display_name": "Python 2",
   "language": "python",
   "name": "python2"
  },
  "language_info": {
   "codemirror_mode": {
    "name": "ipython",
    "version": 2
   },
   "file_extension": ".py",
   "mimetype": "text/x-python",
   "name": "python",
   "nbconvert_exporter": "python",
   "pygments_lexer": "ipython2",
   "version": "2.7.16"
  }
 },
 "nbformat": 4,
 "nbformat_minor": 2
}
