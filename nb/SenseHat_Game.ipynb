{
 "cells": [
  {
   "cell_type": "markdown",
   "metadata": {},
   "source": [
    "# Projet SenseHAT Game\n",
    "Pour utiliser SenseHAT, il faut importer le module nécessaire et créer une instance avec `SenseHat()`"
   ]
  },
  {
   "cell_type": "code",
   "execution_count": 1,
   "metadata": {},
   "outputs": [],
   "source": [
    "from sense_hat import SenseHat\n",
    "#from sense_emu import SenseHat\n",
    "from time import sleep, time\n",
    "\n",
    "sense = SenseHat()\n",
    "sense.set_rotation(180)"
   ]
  },
  {
   "cell_type": "markdown",
   "metadata": {},
   "source": [
    "Pour utiliser l'émulateur SenseHAT il faut importer le module `sense_emu` à la place de `sense_hat`."
   ]
  },
  {
   "cell_type": "code",
   "execution_count": 10,
   "metadata": {},
   "outputs": [],
   "source": [
    "#from sense_hat import SenseHat\n",
    "from sense_emu import SenseHat\n",
    "from time import sleep, time\n",
    "\n",
    "sense = SenseHat()\n",
    "sense.show_letter('?')"
   ]
  },
  {
   "cell_type": "markdown",
   "metadata": {},
   "source": [
    "## Capture d'écran\n",
    "Pour faire des capteurs d'écran, installez le program `scrot` dans un terminal avec\n",
    "```\n",
    "sudo apt-get install scrot\n",
    "```\n",
    "Changer le dosser vers le dossieur de votre projct\n",
    "```\n",
    "cd myproject\n",
    "```\n",
    "Créer un sous-dossier pour les images\n",
    "```\n",
    "mkdir img\n",
    "```\n",
    "Changer dans ce dossier\n",
    "```\n",
    "cd img\n",
    "```\n",
    "Lancer le programme `scrot -s` avec l'option de faire une sélécton de souris. Vous trouvez le fichier de la capture d'écran dans le dossier courrant, nommé avec un time-stamp.\n",
    "```\n",
    ">ls\n",
    "2019-01-17-091958_704x363_scrot.png\n",
    "```"
   ]
  },
  {
   "cell_type": "markdown",
   "metadata": {},
   "source": [
    "## Executer des commandes Linux dans Jupyter\n",
    "En précédant une commande Linux avec `!` ou avec `%` vous pouvez l'exécuter directement dans Jupyter."
   ]
  },
  {
   "cell_type": "code",
   "execution_count": 4,
   "metadata": {},
   "outputs": [
    {
     "name": "stdout",
     "output_type": "stream",
     "text": [
      "/home/pi/oc-2018/nb\r\n"
     ]
    }
   ],
   "source": [
    "!pwd"
   ]
  },
  {
   "cell_type": "code",
   "execution_count": 8,
   "metadata": {},
   "outputs": [
    {
     "name": "stdout",
     "output_type": "stream",
     "text": [
      "/home/pi/oc-2018/nb/img\n"
     ]
    }
   ],
   "source": [
    "%cd img"
   ]
  },
  {
   "cell_type": "code",
   "execution_count": 9,
   "metadata": {},
   "outputs": [
    {
     "name": "stdout",
     "output_type": "stream",
     "text": [
      "2019-01-17-091958_704x363_scrot.png\r\n"
     ]
    }
   ],
   "source": [
    "!ls"
   ]
  },
  {
   "cell_type": "markdown",
   "metadata": {},
   "source": [
    "## Afficher une image dans Jupyter\n",
    "Avec la commande `![description](img/filename.png)` vous pouvez insérer une image dans une cellule Markdown de Jupyter.\n",
    "```\n",
    "![description](img/sense_hat_emu.png)\n",
    "```\n",
    "\n",
    "![description](img/sense_hat_emu.png)\n"
   ]
  },
  {
   "cell_type": "code",
<<<<<<< HEAD
=======
   "execution_count": 1,
   "metadata": {},
   "outputs": [
    {
     "name": "stdout",
     "output_type": "stream",
     "text": [
      "/home/pi/oc-2018/nb\r\n"
     ]
    }
   ],
   "source": [
    "!pwd"
   ]
  },
  {
   "cell_type": "code",
>>>>>>> d7109e730d9f15aa4366100c361c0832936ee66f
   "execution_count": null,
   "metadata": {},
   "outputs": [],
   "source": []
  }
 ],
 "metadata": {
  "kernelspec": {
   "display_name": "Python 3",
   "language": "python",
   "name": "python3"
  },
  "language_info": {
   "codemirror_mode": {
    "name": "ipython",
    "version": 3
   },
   "file_extension": ".py",
   "mimetype": "text/x-python",
   "name": "python",
   "nbconvert_exporter": "python",
   "pygments_lexer": "ipython3",
   "version": "3.5.3"
  }
 },
 "nbformat": 4,
 "nbformat_minor": 2
}
