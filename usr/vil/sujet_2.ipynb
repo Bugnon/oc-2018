{
 "cells": [
  {
   "cell_type": "markdown",
   "metadata": {},
   "source": [
    " # Sujet 2"
   ]
  },
  {
   "cell_type": "markdown",
   "metadata": {},
   "source": [
    "Victoria Vila "
   ]
  },
  {
   "cell_type": "markdown",
   "metadata": {},
   "source": [
    "## Système binaire (hex), opérations logiques (and, or, xor, not), nég, inc, déc, mod"
   ]
  },
  {
   "cell_type": "markdown",
   "metadata": {},
   "source": [
    "### 1.Système binaire (hex)"
   ]
  },
  {
   "cell_type": "markdown",
   "metadata": {},
   "source": [
    "Le système binaire est le système de numération utilisant la base 2, que l'on nomme bit. Chaque symbole peut avoir une valeure de 0 ou 1 (soit 2^n combinaisons) . Le système binaire est utile pour représenter le fonctionnement de l'électronique numérique utilisée dans les ordinateurs. Il est utilisé pour les langages de programmations.[wikipédia](https://fr.wikipedia.org/wiki/Syst%C3%A8me_binaire)"
   ]
  },
  {
   "cell_type": "markdown",
   "metadata": {},
   "source": [
    "#### 1.1 Calcul binaire sur 8 bits (octets)"
   ]
  },
  {
   "cell_type": "markdown",
   "metadata": {},
   "source": [
    "Pour représenter 94 par exemple. Il faut tout d'abord posé la valeure 1 le plus proche de 94 mais inférieur (ici 64). Ensuite on additionne avec les chiffres inférieurs pour arriver à 94 (ici on pose la valeure 1 sous le bits correspondant à 16, 8, 4, et 2. On pose la valeure 0 dans les autres bits."
   ]
  },
  {
   "cell_type": "markdown",
   "metadata": {},
   "source": [
    "![img](https://github.com/Bugnon/oc-2018/blob/master/usr/vil/Photosujet2/IMG_3868.jpg?raw=true)"
   ]
  },
  {
   "cell_type": "markdown",
   "metadata": {},
   "source": [
    "Pour représenter les résultat d'une division en système binaire, seulement la partie entière est décrite.\n",
    "Le modulo (%) représente le reste de la divions en système binaire. "
   ]
  },
  {
   "cell_type": "markdown",
   "metadata": {},
   "source": [
    "##### 1.1.2 opérateur logique en binaire à 4 bits"
   ]
  },
  {
   "cell_type": "markdown",
   "metadata": {},
   "source": [
    "* AND : Le réslutat est toujour 0 sauf lorsque dans les deux bits la valeure est 1.Exemple : 1101 & 0110 = 0100\n",
    " \n",
    "* Or : Dès qu'il y a la valeure 1, le résultat est 1. Exemple : 1110 OR 0011 = 1111\n",
    "\n",
    "* Xor : Dès qu'il y a une valeure double à la suite, le résultat est 0. Exemple : 1110 XOR 0011 = 1101\n",
    "                                                                  "
   ]
  },
  {
   "cell_type": "markdown",
   "metadata": {},
   "source": [
    "#### 1.2 Hexadécimal"
   ]
  },
  {
   "cell_type": "markdown",
   "metadata": {},
   "source": [
    "C'est un convertisseure binaire."
   ]
  },
  {
   "cell_type": "markdown",
   "metadata": {},
   "source": [
    "![img](https://github.com/Bugnon/oc-2018/blob/master/usr/vil/Photosujet2/Capture%20d'%C3%A9cran%202019-05-27%2021.34.53.png?raw=true)"
   ]
  },
  {
   "cell_type": "markdown",
   "metadata": {},
   "source": [
    " * Exemple pour déccrire le chiffre 94 en hex : 0101 1110.\n",
    " \n",
    " \n",
    " Sur les 4 premiers bit on peut lire la valeure 5 donc en hex 5. Sur les 4 dernieres bits on lit la valeure 14 donc E  en hex. 94 = 5E"
   ]
  },
  {
   "cell_type": "markdown",
   "metadata": {},
   "source": [
    "### 2. Opérations logiques "
   ]
  },
  {
   "cell_type": "markdown",
   "metadata": {},
   "source": [
    "Il existent quatres opérateurs logiques: `and`, `or`,`xor`  et `not`."
   ]
  },
  {
   "cell_type": "markdown",
   "metadata": {},
   "source": [
    "#### 2.1 AND"
   ]
  },
  {
   "cell_type": "markdown",
   "metadata": {},
   "source": [
    "il est utile pour vérifier si deux propositions sont justes l'opérateur `and` est utilisé. Il renvoie True lorsque c'est le cas."
   ]
  },
  {
   "cell_type": "markdown",
   "metadata": {},
   "source": [
    "En logique : La **conjonction** $P \\wedge Q$ de deux propositions $P$ et $Q$ est la proposition qui est vraie uniqement quand les deux propositions $P$ ou $Q$ sont vraies simultanément. On dit que c'est la proposition $P$ **et** $Q$.  "
   ]
  },
  {
   "cell_type": "code",
   "execution_count": 89,
   "metadata": {},
   "outputs": [],
   "source": [
    "(a, b) = (4, 9)"
   ]
  },
  {
   "cell_type": "code",
   "execution_count": 90,
   "metadata": {},
   "outputs": [
    {
     "data": {
      "text/plain": [
       "True"
      ]
     },
     "execution_count": 90,
     "metadata": {},
     "output_type": "execute_result"
    }
   ],
   "source": [
    "y = 6\n",
    "(a<=y) and (y<=b)"
   ]
  },
  {
   "cell_type": "markdown",
   "metadata": {},
   "source": [
    "#### 2.2 OR"
   ]
  },
  {
   "cell_type": "markdown",
   "metadata": {},
   "source": [
    "Il est utile pour vérifier si au moin une des deux propostions est justes. Il renvoie True si c'est le cas."
   ]
  },
  {
   "cell_type": "markdown",
   "metadata": {},
   "source": [
    "En logique : La **disjonction** $P \\lor Q$ de deux propositions $P$ et $Q$ est la proposition qui est vraie dès qu'au moins une des deux propositions $P$ ou $Q$ est vraie. On dit que c'est la proposition $P$ **ou** $Q$."
   ]
  },
  {
   "cell_type": "code",
   "execution_count": 91,
   "metadata": {},
   "outputs": [
    {
     "data": {
      "text/plain": [
       "True"
      ]
     },
     "execution_count": 91,
     "metadata": {},
     "output_type": "execute_result"
    }
   ],
   "source": [
    "y = 6\n",
    "(a>=y) or (y<=b)"
   ]
  },
  {
   "cell_type": "markdown",
   "metadata": {},
   "source": [
    "#### 2.3  XOR"
   ]
  },
  {
   "cell_type": "markdown",
   "metadata": {},
   "source": [
    "C'est un OR exclusif, il doit y avoir seulement une proposition juste. Il renvoie True si c'est le cas."
   ]
  },
  {
   "cell_type": "code",
   "execution_count": 92,
   "metadata": {},
   "outputs": [
    {
     "data": {
      "text/plain": [
       "False"
      ]
     },
     "execution_count": 92,
     "metadata": {},
     "output_type": "execute_result"
    }
   ],
   "source": [
    "y = 6\n",
    "(a<=y) ^ (y<=b)"
   ]
  },
  {
   "cell_type": "code",
   "execution_count": 93,
   "metadata": {},
   "outputs": [
    {
     "data": {
      "text/plain": [
       "True"
      ]
     },
     "execution_count": 93,
     "metadata": {},
     "output_type": "execute_result"
    }
   ],
   "source": [
    "y = 6\n",
    "(a>=y) ^ (y<=b)"
   ]
  },
  {
   "cell_type": "markdown",
   "metadata": {},
   "source": [
    "#### 2.4 NOT"
   ]
  },
  {
   "cell_type": "markdown",
   "metadata": {},
   "source": [
    "La propostion `not` change la valeure de vérité de la propostion."
   ]
  },
  {
   "cell_type": "code",
   "execution_count": 94,
   "metadata": {},
   "outputs": [
    {
     "name": "stdout",
     "output_type": "stream",
     "text": [
      "False True\n",
      "True False\n"
     ]
    }
   ],
   "source": [
    "P = True\n",
    "for P in (False, True):\n",
    "    print(P, not P)"
   ]
  },
  {
   "cell_type": "code",
   "execution_count": 95,
   "metadata": {},
   "outputs": [
    {
     "name": "stdout",
     "output_type": "stream",
     "text": [
      "La valeure d'origine:\n",
      "True\n",
      "La valeure inversée:\n",
      "False\n"
     ]
    }
   ],
   "source": [
    "inverseParNot = True\n",
    "print(\"La valeure d'origine:\")\n",
    "print(inverseParNot)\n",
    "print(\"La valeure inversée:\")\n",
    "print(not inverseParNot)"
   ]
  },
  {
   "cell_type": "markdown",
   "metadata": {},
   "source": [
    "### 3. Modulo, incrémenter décrémenter"
   ]
  },
  {
   "cell_type": "markdown",
   "metadata": {},
   "source": [
    "#### 3.1 Modulo"
   ]
  },
  {
   "cell_type": "markdown",
   "metadata": {},
   "source": [
    "Le modulo (%) représente le reste de la divions. Il est souvent utile pour des cycles par exemples ou pour définir si un nombre est paire ou pas, ou encore il peut aider à créer pleins d'autres astuces."
   ]
  },
  {
   "cell_type": "code",
   "execution_count": 96,
   "metadata": {},
   "outputs": [
    {
     "name": "stdout",
     "output_type": "stream",
     "text": [
      "x est impaire\n"
     ]
    }
   ],
   "source": [
    "x = 45 \n",
    "if x%2 == 0:\n",
    "    print('x est paire')\n",
    "else:\n",
    "    print('x est impaire')"
   ]
  },
  {
   "cell_type": "markdown",
   "metadata": {},
   "source": [
    "Tester si un nombre est divisible par 5"
   ]
  },
  {
   "cell_type": "code",
   "execution_count": 97,
   "metadata": {},
   "outputs": [
    {
     "name": "stdout",
     "output_type": "stream",
     "text": [
      "3.0\n"
     ]
    }
   ],
   "source": [
    "x = 15\n",
    "\n",
    "if x%5==0:\n",
    "    print(x/5)\n",
    "else :\n",
    "    print('pas divisible par 5')"
   ]
  },
  {
   "cell_type": "markdown",
   "metadata": {},
   "source": [
    "#### 3.2 Incrémenter et décrémenter"
   ]
  },
  {
   "cell_type": "markdown",
   "metadata": {},
   "source": [
    "Incrémentation est le fait d'ajouter 1 à un compteur, à une variable.\n",
    "Décrémenter est le fait de retirer 1 à un compteur.\n",
    "Ces opérations sont souvent utilisées dans la boucle while"
   ]
  },
  {
   "cell_type": "markdown",
   "metadata": {},
   "source": [
    "L'instruction i ++ (i=i+1) incrémente.\n",
    "L'instruction i -- (i=i-1) décrémente."
   ]
  },
  {
   "cell_type": "code",
   "execution_count": 98,
   "metadata": {},
   "outputs": [
    {
     "name": "stdout",
     "output_type": "stream",
     "text": [
      "1 x 10 = 5\n",
      "2 x 10 = 10\n",
      "3 x 10 = 15\n",
      "4 x 10 = 20\n",
      "5 x 10 = 25\n"
     ]
    }
   ],
   "source": [
    "c = 1\n",
    "while c <= 5:\n",
    "    print (c, \"x\", 10, \"=\", c*5)\n",
    "    c = c + 1"
   ]
  },
  {
   "cell_type": "markdown",
   "metadata": {},
   "source": [
    "L'opérateur modulo permet une incrémentation ou décrémentation cyclique."
   ]
  },
  {
   "cell_type": "code",
   "execution_count": 99,
   "metadata": {},
   "outputs": [
    {
     "name": "stdout",
     "output_type": "stream",
     "text": [
      "2, 3, 0, 1, "
     ]
    }
   ],
   "source": [
    "x = 1\n",
    "for i in range(4):\n",
    "    x = (x+1)%4\n",
    "    print(x, end=', ')"
   ]
  },
  {
   "cell_type": "code",
   "execution_count": 100,
   "metadata": {},
   "outputs": [
    {
     "name": "stdout",
     "output_type": "stream",
     "text": [
      "2, 1, 0, 3, 2, 1, 0, 3, 2, 1, "
     ]
    }
   ],
   "source": [
    "x = 3\n",
    "for i in range(10):\n",
    "    x = (x-1)%4\n",
    "    print(x, end=', ')"
   ]
  },
  {
   "cell_type": "markdown",
   "metadata": {},
   "source": [
    "### 4. Négation"
   ]
  },
  {
   "cell_type": "markdown",
   "metadata": {},
   "source": [
    "Si une proposition est vraie, sa négation est fausse. Si une proposition est fausse, sa négation est vraie.\n",
    "\n",
    "La **négation** d'une proposition $P$, notée $\\neg P$ est la proposition obtenu en affirmant son contraire. On utilise donc la proposition `not`. "
   ]
  },
  {
   "cell_type": "markdown",
   "metadata": {},
   "source": [
    "Exemple : La négation de \"15 est divisible par x\", est \"15 n'est pas divisible par x\"."
   ]
  },
  {
   "cell_type": "code",
   "execution_count": 101,
   "metadata": {},
   "outputs": [
    {
     "data": {
      "text/plain": [
       "False"
      ]
     },
     "execution_count": 101,
     "metadata": {},
     "output_type": "execute_result"
    }
   ],
   "source": [
    "a>b"
   ]
  },
  {
   "cell_type": "code",
   "execution_count": 102,
   "metadata": {},
   "outputs": [
    {
     "data": {
      "text/plain": [
       "True"
      ]
     },
     "execution_count": 102,
     "metadata": {},
     "output_type": "execute_result"
    }
   ],
   "source": [
    "not a > b"
   ]
  },
  {
   "cell_type": "markdown",
   "metadata": {},
   "source": [
    "#### La loi de Morgan"
   ]
  },
  {
   "cell_type": "markdown",
   "metadata": {},
   "source": [
    "* La négation(`not`) d'une conjonction (`and`) est la disjonction(`or`) mais avec la négations des propositions A et B "
   ]
  },
  {
   "cell_type": "code",
   "execution_count": 103,
   "metadata": {},
   "outputs": [
    {
     "data": {
      "text/plain": [
       "False"
      ]
     },
     "execution_count": 103,
     "metadata": {},
     "output_type": "execute_result"
    }
   ],
   "source": [
    "not((a<=y) and (y<=b))"
   ]
  },
  {
   "cell_type": "code",
   "execution_count": 104,
   "metadata": {},
   "outputs": [
    {
     "data": {
      "text/plain": [
       "False"
      ]
     },
     "execution_count": 104,
     "metadata": {},
     "output_type": "execute_result"
    }
   ],
   "source": [
    "not(a<=y) or not(y<=b)"
   ]
  },
  {
   "cell_type": "markdown",
   "metadata": {},
   "source": [
    "Nous constatons bien que cela renvoie la même valeure."
   ]
  },
  {
   "cell_type": "markdown",
   "metadata": {},
   "source": [
    "* La négation(`not`) d'une disjonction (`or`) est la conjonction (`and`) mais avec la négations des propositions A et B "
   ]
  },
  {
   "cell_type": "code",
   "execution_count": 105,
   "metadata": {},
   "outputs": [
    {
     "data": {
      "text/plain": [
       "False"
      ]
     },
     "execution_count": 105,
     "metadata": {},
     "output_type": "execute_result"
    }
   ],
   "source": [
    "not ((a>=y) or (y<=b))"
   ]
  },
  {
   "cell_type": "code",
   "execution_count": 106,
   "metadata": {},
   "outputs": [
    {
     "data": {
      "text/plain": [
       "False"
      ]
     },
     "execution_count": 106,
     "metadata": {},
     "output_type": "execute_result"
    }
   ],
   "source": [
    "not (a<=y) and not(y<=b)"
   ]
  },
  {
   "cell_type": "markdown",
   "metadata": {},
   "source": [
    "Nous constatons bien que cela renvoie la même valeure."
   ]
  }
 ],
 "metadata": {
  "kernelspec": {
   "display_name": "Python 3",
   "language": "python",
   "name": "python3"
  },
  "language_info": {
   "codemirror_mode": {
    "name": "ipython",
    "version": 3
   },
   "file_extension": ".py",
   "mimetype": "text/x-python",
   "name": "python",
   "nbconvert_exporter": "python",
   "pygments_lexer": "ipython3",
   "version": "3.7.0"
  }
 },
 "nbformat": 4,
 "nbformat_minor": 2
}
