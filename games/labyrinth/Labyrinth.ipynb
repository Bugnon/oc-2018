{
 "cells": [
  {
   "cell_type": "markdown",
   "metadata": {},
   "source": [
    "# SenseHat Project: Labyrinth"
   ]
  },
  {
   "cell_type": "markdown",
   "metadata": {},
   "source": [
    "Made by Werro Jeremy and Gaglio Pierre\n"
   ]
  },
  {
   "cell_type": "markdown",
   "metadata": {},
   "source": [
    "## Début du projet"
   ]
  },
  {
   "cell_type": "markdown",
   "metadata": {},
   "source": [
    "Ce projet a pour but de réaliser un jeu basé sur la mémorisation de pattern avec le module SenseHat. Pour se faire, nous avons choisi de créer 9 niveaux différents avec des chemins à difficulté variée. Le but du joueur sera de bien observer le chemin réalisé par la console afin de le reproduire par lui-même."
   ]
  },
  {
   "cell_type": "markdown",
   "metadata": {},
   "source": [
    "Dans un premier temps, nous importons le module sensehat ainsi que le module time afin d'avoir accès aux bibliothèques. En second temps, nous renommons la fonction senseHat. Finalement nous effectuons un clear de la console afin de commencer à programmer sur un espace vide programmer sur un espace vierge."
   ]
  },
  {
   "cell_type": "code",
   "execution_count": null,
   "metadata": {},
   "outputs": [],
   "source": [
    "from sense_hat import SenseHat\n",
    "from time import sleep, time\n",
    "\n",
    "sense = SenseHat()\n",
    "sense.clear()"
   ]
  },
  {
   "cell_type": "markdown",
   "metadata": {},
   "source": [
    "### Création des variables"
   ]
  },
  {
   "cell_type": "markdown",
   "metadata": {},
   "source": [
    "En second temps, nous importons les couleurs dont nous aurons besoin pour notre jeu."
   ]
  },
  {
   "cell_type": "code",
   "execution_count": null,
   "metadata": {},
   "outputs": [],
   "source": [
<<<<<<< HEAD
    "WHITE = (255, 255, 255)\n",
    "LEMON = (255, 255, 128)\n",
    "PINK = (255, 0, 128)\n",
    "RED = (255, 0, 0)\n",
    "MINT = (128, 255, 128)\n",
    "BLUE = (0, 0, 255)"
=======
    "white = (255, 255, 255)\n",
    "lemon = (255, 255, 128)\n",
    "pink = (255, 0, 128)\n",
    "red = (255, 0, 0)\n",
    "mint = (128, 255, 128)\n",
    "blue = (0, 0, 255)"
>>>>>>> d7109e730d9f15aa4366100c361c0832936ee66f
   ]
  },
  {
   "cell_type": "markdown",
   "metadata": {},
   "source": [
    "Ensuite, nous ajoutons les variables de niveaux avec leurs patterns."
   ]
  },
  {
   "cell_type": "code",
   "execution_count": null,
   "metadata": {},
   "outputs": [],
   "source": [
    "N1 = [[0,0],[0,1],[0,2],[0,3],\n",
    "      [0,4],[0,5],[0,6],[0,7],\n",
    "      [1,7],[2,7],[3,7],[4,7],\n",
    "      [5,7],[6,7],[7,7],\n",
    "      ]\n",
    "N2 = [[0,0],[0,1],[0,2],[0,3],\n",
    "      [0,4],[1,4],[2,4],[3,4],\n",
    "      [4,4],[5,4],[6,4],[7,4],\n",
    "      [7,5],[7,6],[7,7],\n",
    "      ]\n",
    "N3 = [[0,0],[1,0],[1,1],[1,2],\n",
    "      [2,2],[3,2],[3,3],[3,4],\n",
    "      [3,5],[4,5],[5,5],[6,5],\n",
    "      [6,6],[6,7],[7,7],\n",
    "      ]\n",
    "N4 = [[0,0],[1,0],[1,1],[2,1],\n",
    "      [3,1],[3,0],[4,0],[5,0],\n",
    "      [5,1],[5,2],[5,3],[4,3],\n",
    "      [3,3],[2,3],[1,3],[0,3],\n",
    "      [0,4],[0,5],[0,6],[1,6],\n",
    "      [2,6],[3,6],[4,6],[5,6],\n",
    "      [6,6],[7,6],[7,7],\n",
    "      ]\n",
    "N5 = [[0,0]]\n",
    "N6 = [[0,0]]\n",
    "N7 = [[0,0]]\n",
    "N8 = [[0,0]]\n",
    "N9 = [[0,0]]\n",
    "\n",
    "\n",
    "levels = [N1, N2, N3, N4, N5, N6, N7, N8, N9]"
   ]
  },
  {
   "cell_type": "markdown",
   "metadata": {},
   "source": [
    "Nous définissons ensuite les noms des niveaux de la liste \"levels\" en les associant à leur position dans la liste ( N1 correspondra au niveau 1, etc...).\n",
    "Cela permettra donc d'afficher le nom/numéro des niveaux dans le menu de sélection."
   ]
  },
  {
   "cell_type": "code",
   "execution_count": null,
   "metadata": {},
   "outputs": [],
   "source": [
    "lvl_name = []\n",
    "for i in range(len(levels)):\n",
    "    a = str(i+1)\n",
    "    lvl_name.append(a) \n",
    "    \n",
    "print(N1)"
   ]
  },
  {
   "cell_type": "markdown",
   "metadata": {},
   "source": [
    "### Définission des phases de jeu\n",
    "#### Phase de démonstration du pattern"
   ]
  },
  {
   "cell_type": "markdown",
   "metadata": {},
   "source": [
    "Une fois les variables de jeu définies, nous définissons la fonction \"patern_stage()\" qui consistera à prévenir le joueur par un message, puis qui va clear afin de montrer la pattern que le joueur devra executer après la démonstration.\n",
<<<<<<< HEAD
    "Pour cet exemple, nous testons la fonction avec la variable N1 correspondant au niveau 1 définie plus tôt."
=======
    "Pour cet exemple, nous testons la fonction avec la variable N1 définie plus tôt."
>>>>>>> d7109e730d9f15aa4366100c361c0832936ee66f
   ]
  },
  {
   "cell_type": "code",
   "execution_count": null,
   "metadata": {},
   "outputs": [],
   "source": [
    "def patern_stage(niv):\n",
    "    dist = len(niv)\n",
    "    sense.show_message(\"Ready ? 3 2 1\",\n",
    "                       text_colour=WHITE, scroll_speed=0.02)\n",
    "    sense.clear(MINT)\n",
    "    sleep(1)\n",
    "    for step in range(dist):\n",
    "        sense.set_pixel(niv[step][0],niv[step][1], PINK)\n",
    "        sleep(1)\n",
    "    sleep(3)\n",
    "    sense.clear(MINT)\n",
    "    \n",
    "patern_stage(N1)"
   ]
  },
  {
   "cell_type": "markdown",
   "metadata": {},
   "source": [
    "#### Phase d'action du joueur "
   ]
  },
  {
   "cell_type": "markdown",
   "metadata": {},
   "source": [
<<<<<<< HEAD
    "Après avoir défini la fonction servant à montrer la pattern, nous créons la fonction \"player_stage()\". Cette foncion associe les mouvements du joystick du sense hat au mouvement du pixel. Chaque mouvement effectué par le joueur est enregistré dans la liste nommée state et, une fois la pattern reproduite par le joueur, celui-ci n'a plus qu'à confirmer sa pattern en appuyant sur le joystick.\n",
=======
    "Après avoir défini la fonction servant à montrer la pattern, nous créons la fonction \"player_stage()\". Cette foncion associe les mouvements du joystick du sense hat au mouvement du pixel. Chaque mouvement effectué par le joueur est enregistré et, une fois la pattern reproduite par le joueur, celui-ci n'a plus qu'à confirmer sa pattern en appuyant sur le joystick.\n",
>>>>>>> d7109e730d9f15aa4366100c361c0832936ee66f
    "Si le joueur a reproduit la pattern de manière juste, un message \"WINNER\" s'affichera et dans le cas contraire, le message \"LOSER\" apparaîtra."
   ]
  },
  {
   "cell_type": "code",
   "execution_count": null,
   "metadata": {},
   "outputs": [],
   "source": [
    "def player_stage(niv):\n",
    "    running = True\n",
    "    (x, y) = (0, 0)\n",
    "    state = [[0, 0]]\n",
    "    while running:\n",
    "        for event in sense.stick.get_events():\n",
    "            if event.action == 'pressed':\n",
    "                if event.direction == 'left':\n",
    "                    x = min(x-1, 7)\n",
    "                    state.append([x, y])\n",
    "                elif event.direction == 'right':\n",
    "                    x = max(x+1, 0)\n",
    "                    state.append([x, y])\n",
    "                if event.direction == 'down':\n",
    "                    y = min(y+1, 7)\n",
    "                    state.append([x, y])\n",
    "                elif event.direction == 'up':\n",
    "                    y = max(y-1, 0)\n",
    "                    state.append([x, y])\n",
    "                elif event.direction == 'middle':\n",
    "                    running = False\n",
    "        sense.set_pixel(x, y, RED)\n",
    "    if state[:] == niv[:]:\n",
    "        sense.show_message(\"WINNER !\",\n",
    "                            text_colour=LEMON, scroll_speed=0.02)\n",
    "        sleep(2)\n",
<<<<<<< HEAD
    "    else:\n",
    "        sense.show_message(\"LOSER !\",\n",
    "                            text_colour=BLUE, scroll_speed=0.02)\n",
    "        sleep(2)",
=======
    "        start_game()\n",
    "    else:\n",
    "        sense.show_message(\"LOSER !\",\n",
    "                            text_colour=BLUE, scroll_speed=0.02)\n",
    "        sleep(2)\n",
    "        main()"
   ]
  },
  {
   "cell_type": "markdown",
   "metadata": {},
   "source": [
    "La fonction suivante peut être ajoutée si le joueur échoue. Elle propose le choix de recommencer le niveau ou de retourner au menu principal."
   ]
  },
  {
   "cell_type": "code",
   "execution_count": null,
   "metadata": {},
   "outputs": [],
   "source": [
    "def try_again(niv):\n",
    "wait = True\n",
    "answer = 0 #(0 = Yes , 1 = No)\n",
    "sense.show_message('Try again?',\n",
    "                   text_colour=WHITE,scroll_speed=0.05)\n",
    "sense.show_letter('Y',\n",
    "                  text_colour=WHITE)\n",
    "while wait == True:\n",
    "    for event in sense.stick.get_events():\n",
    "        if event.action == 'pressed':\n",
    "            if event.direction == 'left': #select to try again by clicking on the left\n",
    "                if answer >= 1:\n",
    "                    answer = answer - 1\n",
    "                    sense.show_letter('Y',\n",
    "                                      text_colour=WHITE)\n",
    "                else:\n",
    "                        pass\n",
    "            elif event.direction == 'right': #select to go back to main menuby clicking on the right\n",
    "                if answer <= 0:\n",
    "                    answer = answer + 1\n",
    "                    sense.show_letter('N',\n",
    "                                      text_colour=WHITE)\n",
    "                else:\n",
    "                    pass\n",
    "            elif event.direction == 'middle': #applies the selection by clicking on the middle.\n",
    "                wait = False\n",
    "                if answer == 0:\n",
    "                    start_level(niv)\n",
    "                elif answer == 1:\n",
    "                    main()\n",
    "            else: #If the player moves up or down, it goes back to main menu.\n",
    "                main()"
>>>>>>> d7109e730d9f15aa4366100c361c0832936ee66f
   ]
  },
  {
   "cell_type": "markdown",
   "metadata": {},
   "source": [
    "#### Regroupement des 2 fonctions"
   ]
  },
<<<<<<< HEAD
=======
  
>>>>>>> d7109e730d9f15aa4366100c361c0832936ee66f
  {
   "cell_type": "markdown",
   "metadata": {},
   "source": [
<<<<<<< HEAD
    "Afin de réduire les lignes de codes, nous englobons les 2 fonctions définies ci-dessus afin que lors de la séléction du niveau, celles-ci s'éxecutent dans l'ordre. Pour ce faire, nous définissons une 3ème fonction nommée \"start_level\"."
=======
    "Afin de réduire les lignes de codes, nous englobons les 2 fonctions définies ci-dessus afin que lors de la séléction du niveau, celles-ci s'éxecutent dans l'ordre. Pour ce fait, nous définissons une 3ème fonction nommée \"start_level\"."
>>>>>>> d7109e730d9f15aa4366100c361c0832936ee66f
   ]
  },
  {
   "cell_type": "code",
   "execution_count": null,
   "metadata": {},
   "outputs": [],
   "source": [
    "def start_level(niv):\n",
    "    patern_stage(niv)\n",
    "    player_stage(niv)"
   ]
  },
  {
   "cell_type": "markdown",
   "metadata": {},
   "source": [
    "### Définission du menu de sélection"
   ]
  },
  {
   "cell_type": "markdown",
   "metadata": {},
   "source": [
    "Du fait des différents niveaux que le jeu propose, nous définissons un menu de sélection \"main\" afin que le joueur puisse choisir celui de son choix.\n",
<<<<<<< HEAD
    "Cette fonction affiche en premier lieu un message invitant le joueur à sélectionner son niveau. Une fois le message terminé, le joueur peut naviguer à travers les niveaux (de 1 à 9) grâce aux mouvements du joystick (droite ou gauche). Une fois son niveau choisi, il n'aura qu'à appuyer sur le joystick pour confirmer son choix et lancer le niveau en appelant la fonction \"start_level\".\n",
    "Dans ce menu de sélection, il est possible de shutdown le jeu avec les mouvements haut et bas du joystick."
=======
    "Cette fonction affiche en premier lieu un message invitant le joueur à sélectionner son niveau. Une fois le message terminé, le joueur peut naviguer à travers les niveaux (de 1 à 9) grâce aux mouvements du joystick (droite ou gauche). Une fois son niveau choisi, il n'aura qu'à appuyer sur le joystick pour confirmer son choix et lancer le niveau en appelant la fonction \"start_level\"."
>>>>>>> d7109e730d9f15aa4366100c361c0832936ee66f
   ]
  },
  {
   "cell_type": "code",
   "execution_count": null,
   "metadata": {},
   "outputs": [],
   "source": [
    "def main():\n",
    "    running = True\n",
    "    sense.show_message(\"Please, select the level\",\n",
    "                       text_colour=WHITE, scroll_speed=0.02)\n",
    "    sleep(1)\n",
    "    lvl = 1\n",
    "    sense.show_letter(lvl_name[lvl],\n",
    "                      text_colour=WHITE)\n",
    "    while running:\n",
    "        for event in sense.stick.get_events():\n",
    "                if event.action == 'pressed':\n",
    "                    if event.direction == 'left':\n",
    "                        if lvl >= 1:\n",
    "                            lvl = lvl-1\n",
    "                            sense.show_letter(lvl_name[lvl],\n",
    "                                              text_colour=WHITE)\n",
    "                        else:\n",
    "                            pass\n",
    "                    elif event.direction == 'right':\n",
    "                        if lvl <= len(lvl_name)-2:\n",
    "                            lvl = lvl+1\n",
    "                            sense.show_letter(lvl_name[lvl],\n",
    "                                              text_colour=WHITE)\n",
    "                        else:\n",
    "                            pass\n",
    "                    if event.direction == 'down':\n",
<<<<<<< HEAD
    "                        running = False\n",
    "                        sense.clear()\n",
    "                    elif event.direction == 'up':\n",
    "                        running = False\n",
    "                        sense.clear()\n",
=======
    "                        pass\n",
    "                    elif event.direction == 'up':\n",
    "                        pass\n",
>>>>>>> d7109e730d9f15aa4366100c361c0832936ee66f
    "                    elif event.direction == 'middle':\n",
    "                        running = False\n",
    "                        start_level(levels[lvl])"
   ]
  }
 ],
 "metadata": {
  "kernelspec": {
   "display_name": "Python 3",
   "language": "python",
   "name": "python3"
  }
 },
 "nbformat": 4,
 "nbformat_minor": 2
}
