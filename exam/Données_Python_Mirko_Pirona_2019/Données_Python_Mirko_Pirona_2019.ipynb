{
 "cells": [
  {
   "cell_type": "markdown",
   "metadata": {},
   "source": [
    "# __Les Données sur Python__\n",
    "\n",
    "Auteur: Mirko Pirona, Gymnase du Bugnon, 3MOCINFO\n",
    "\n",
    "Date: Mai 2019\n",
    "\n",
    "![Python Logo](../img/Python_logo.png)\n",
    "\n"
   ]
  },
  {
   "cell_type": "markdown",
   "metadata": {},
   "source": [
    "## Listes \n",
    "\n",
    "Une liste en python est une séquence de valeurs. Les valeurs dans la liste sont appelé **éléments**. Les valeurs dans une liste peuvent être de n'importe quel type (chaîne de caractère, flottant, entier et même une autre liste). Il existe plusieurs façon de créer une nouvelle liste dont la plus commune qui consiste à entourer les éléments par des crochets ([ et ]):"
   ]
  },
  {
   "cell_type": "code",
   "execution_count": null,
   "metadata": {},
   "outputs": [],
   "source": [
    "[5, 10, 15, 20, 25]\n",
    "\n",
    "['Macdonald', 'Burger King', 'Holly Cow']\n",
    "\n",
    "[10, 'Gymnase du Bugnon', [10, 20, 30]]"
   ]
  },
  {
   "cell_type": "markdown",
   "metadata": {},
   "source": [
    "Comme on peut le constater dans la dernière ligne de l'exemple au-dessus une liste dans une liste est dite **imbriquée**. Il est possible de de créer une liste qui ne contient aucun éléement cette liste est dite vide. Il est également possible d'affecter des valeurs aux variables de la liste:"
   ]
  },
  {
   "cell_type": "code",
   "execution_count": null,
   "metadata": {},
   "outputs": [],
   "source": [
    "Devises = ['Dollar', 'Euro', 'Franc']\n",
    "\n",
    "Nombres = [5, 10, 15]\n",
    "\n",
    "Liste_Vide = []\n",
    "\n",
    "print(Devises, Nombres, Liste_Vide)"
   ]
  },
  {
   "cell_type": "markdown",
   "metadata": {},
   "source": [
    "Les listes sont modifiables mais avant de pouvoir les modifier il faut accéder aux éléments de la liste. Pour ce faire il suffit d'utiliser l'opérateur [] d'indexation. Il ne faut pas oublier que l'expression placée entre crochets spécifie l'indice (le premier indice est 0 et non pas 1). Lorsque l'opérateur d'indexation apparaît du côté gauche de l'affectation, il identifie l'élément de la liste auquel la valeur sera effectée."
   ]
  },
  {
   "cell_type": "code",
   "execution_count": null,
   "metadata": {},
   "outputs": [],
   "source": [
    "Devises = ['Dollar', 'Euro', 'Franc']\n",
    "\n",
    "Devises[1]"
   ]
  },
  {
   "cell_type": "code",
   "execution_count": null,
   "metadata": {},
   "outputs": [],
   "source": [
    "Nombres = [5, 10, 15]\n",
    "\n",
    "Nombres[1] = 100\n",
    "\n",
    "Nombres"
   ]
  },
  {
   "cell_type": "markdown",
   "metadata": {},
   "source": [
    "Le **deuxième élément** de ***Nombres***, qui avait la valeur 10, a maintenant la valeur 100."
   ]
  },
  {
   "cell_type": "markdown",
   "metadata": {},
   "source": [
    "Il est possible de parcourir une liste en utilisant une boucle for. Mais si nous souhaitons écrire ou mettre à jour une liste il faut utiliser des indices. Une façon répendue d'effectuer cela est de combiner les fonctions internes ***len*** et ***range***"
   ]
  },
  {
   "cell_type": "code",
   "execution_count": null,
   "metadata": {},
   "outputs": [],
   "source": [
    "Fruits = ['pommes', 'poire', 'banane', 'pêche', 'cerise']\n",
    "Chiffres = [1, 5, 10, 100, 1000]\n",
    "\n",
    "for Fruit in Fruits:\n",
    "    print(Fruit)\n",
    "    \n",
    "for i in range (len(Chiffres)):\n",
    "    Chiffres[i] = Chiffres[i] * 2\n",
    "    print(Chiffres)\n",
    "    \n"
   ]
  },
  {
   "cell_type": "markdown",
   "metadata": {},
   "source": [
    "La deuxième boucle de l'exemple au-dessus parcourt la liste et met à jour chaque élément. ***Len*** renvoie le nombre d'éléments dans la liste. ***range*** renvoie une liste d'indices allant de 0 à n-1, où n est la longueur de la liste. A chaque passage dans la boucle, i prend la valeur de l'indice de l'élément suivant. L'instruction d'affectation dans le corps utilise i pour lire l'ancienne valeur de l'élément et pour lui attribuer la nouvelle valeur. "
   ]
  },
  {
   "cell_type": "markdown",
   "metadata": {},
   "source": [
    "Il est possible d'effectuer des opérations sur les listes:\n",
    "1. L'opérateur + concatène des listes\n",
    "2. L'opérateur * répète une liste un nombre donné de fois"
   ]
  },
  {
   "cell_type": "code",
   "execution_count": null,
   "metadata": {},
   "outputs": [],
   "source": [
    "a = ['pomme', 'poire', 'cerise']\n",
    "b = ['gateau', 'cake']\n",
    "c = a + b\n",
    "\n",
    "print(c)\n",
    "\n",
    "d = ['Ha!']\n",
    "e = d * 5\n",
    "\n",
    "print(e)"
   ]
  },
  {
   "cell_type": "markdown",
   "metadata": {},
   "source": [
    "L'opérateur de tranche [M:N] peut être utilisé sur les listes. Si on ommets le premier indice en utilisant l'opérateur alors la liste débutera avec le premier élément de la liste. La même chose à lieu si on ommets de deuxième indice seulement cette fois la liste se terminera avec le dernier élément de la liste: "
   ]
  },
  {
   "cell_type": "code",
   "execution_count": null,
   "metadata": {},
   "outputs": [],
   "source": [
    "t = ['I', 'II', 'III', 'IV', 'V', 'VI']\n",
    "s = [1, 2, 3, 4, 5, 6, 7, 8]\n",
    "x = ['a', 'b', 'c', 'd', 'e', 'f']\n",
    "\n",
    "\n",
    "print(t[1:3])\n",
    "\n",
    "\n",
    "print(s[:4])\n",
    "\n",
    "\n",
    "print(x[5:])"
   ]
  },
  {
   "cell_type": "markdown",
   "metadata": {},
   "source": [
    "Il existe des méthodes qui agissent sur les listes:\n",
    "1. ***append*** qui ajoute un nouvel élément à la fin d'une liste\n",
    "2. ***extend*** qui prend comme argument une liste et ajoute tous les élément de celle-ci\n",
    "3. ***sort*** qui arrange les élément d'une liste en ordre croissant"
   ]
  },
  {
   "cell_type": "code",
   "execution_count": null,
   "metadata": {},
   "outputs": [],
   "source": [
    "w = ['a', 'b', 'c', 'd']\n",
    "w.append('e')\n",
    "print(w)\n",
    "\n",
    "w1 = [1, 2, 3, 4]\n",
    "w2 = [5, 6, 7]\n",
    "w1.extend(w2)\n",
    "print(w1)\n",
    "\n",
    "w3 = [4, 7, 1, 2, 9, 19]\n",
    "w3.sort()\n",
    "print(w3)"
   ]
  },
  {
   "cell_type": "markdown",
   "metadata": {},
   "source": [
    "Dans Pyhon il est possible de créer des fonction qui:\n",
    "1. mappe une liste (applique une fonction sur chacun des éléments d'une séquence)\n",
    "2. filtre une liste (selectione certains des éléments et filtre les autres)\n",
    "3. réduit une list (combine une séquence d'éléments en une seule valeur)\n"
   ]
  },
  {
   "cell_type": "code",
   "execution_count": null,
   "metadata": {},
   "outputs": [],
   "source": [
    "Q = [1, 2, 3, 4, 5]\n",
    "test = sum(Q)\n",
    "print(test)\n",
    "\n",
    "\n",
    "Q1 = ['a', 'b', 'c', 'd', 'e']\n",
    "def mettre_tout_en_majuscule(t):\n",
    "    res = []\n",
    "    for s in t:\n",
    "        res.append(s.capitalize ())\n",
    "    return res\n",
    "test1 = mettre_tout_en_majuscule(Q1)\n",
    "print(test1)\n",
    "\n",
    "Q2 = ['a', 'B', 'd', 'E', 'F']\n",
    "def seulement_majuscules(v):\n",
    "    vor = []\n",
    "    for s in v:\n",
    "        if s.isupper():\n",
    "            print('true')\n",
    "        else:\n",
    "            print ('false')\n",
    "test2 = seulement_majuscules(Q2)"
   ]
  },
  {
   "cell_type": "markdown",
   "metadata": {},
   "source": [
    "Le premier exemple au-dessus montre une fonction qui additionne tous les éléments d'une liste. Le deuxième exemple montre une fonction qui transforme toutes les lettres minuscules d'une liste en majuscules. Le troisième exemple montre une fonction qui renvoie **true** quand l'élément de la liste est en majuscule et **false** sinon.  "
   ]
  },
  {
   "cell_type": "markdown",
   "metadata": {},
   "source": [
    "Il existe plusieurs façon de **supprimer** des éléments d'une liste:\n",
    "1. La première méthode est ***pop*** (cette méthode modifie la liste et renvoie l'élément qui a été supprimé)\n",
    "2. La deuxième méthode est ***del*** (cette méthode modifie la liste sans renvoyer l'élément qui a été supprimé)\n",
    "3. La troisième méthode est ***remove*** (cette méthode permet de modifier une liste sans connaître l'indice de l'élément)"
   ]
  },
  {
   "cell_type": "code",
   "execution_count": null,
   "metadata": {},
   "outputs": [],
   "source": [
    "g = ['a', 'b', 'c', 'd', 'e']\n",
    "h = g.pop(1)\n",
    "print (g)\n",
    "print (h)\n",
    "\n",
    "g1 = ['x', 'y', 'z']\n",
    "del g1[1]\n",
    "print (g1)\n",
    "\n",
    "\n",
    "g2 = ['pomme', 'poire', 'cerise']\n",
    "g2.remove('pomme')\n",
    "print (g2)"
   ]
  },
  {
   "cell_type": "markdown",
   "metadata": {},
   "source": [
    "Une chaîne est une séquence de caractères et une liste est une séquence de valeurs, mais une liste de caractères n'est pas la même chose qu'une chaîne de caractères. Pour convertir une chaîne en une liste de caractères il existe deux fonctions:\n",
    "\n",
    "1. La première fonction est ***liste*** (cette fonction décompose une chaîne de caractère en lettres individuelles)\n",
    "2. La deuxième fonction est ***split*** (cette fonction décompose une chaîne en mots)\n",
    "\n",
    "***Pour la deuxième fonction il est possible d'utiliser un délimiteur qui spécifie quels caractères utiliser comme limites de mots***"
   ]
  },
  {
   "cell_type": "code",
   "execution_count": null,
   "metadata": {},
   "outputs": [],
   "source": [
    "ab = 'Bugnon'\n",
    "cd = list (ab)\n",
    "print (cd)\n",
    "\n",
    "ab1 = \"L'informatique c'est top !\"\n",
    "cd1 = ab1.split()\n",
    "print (cd1)\n",
    "\n",
    "ab2 = 'Bug-Bug-Bug'\n",
    "delimiteur = '-'\n",
    "cd2 = ab2.split(delimiteur)\n",
    "print (cd2)"
   ]
  },
  {
   "cell_type": "markdown",
   "metadata": {},
   "source": [
    "***Join*** est l'inverse de ***split***. Elle prend une liste de chaîne de caractère et concatène les éléments. Pour l'utiliser il faut également invoquer un délimiteur."
   ]
  },
  {
   "cell_type": "code",
   "execution_count": null,
   "metadata": {},
   "outputs": [],
   "source": [
    "ab3 = ['Le', 'Bugnon', 'est', 'beau', '!']\n",
    "delimiteur1 = ' '\n",
    "cd3 = delimiteur1.join(ab3)\n",
    "print (cd3)"
   ]
  },
  {
   "cell_type": "markdown",
   "metadata": {},
   "source": [
    "Il est important de différencier la notion **d'objet** et de **valeur**. Un objet dans python pourrait être imagé par une pomme. Tandis que la valeur pourrait être sont prix. Lors d'une attribution de variable nous séléctionons un objet et donc la pomme dans notre exemple. Si nous attribuons une autre variable à une pomme il pourrait s'agir de la même pomme (même prix) ou alors d'une autre. Donc dans python deux objets identique peuvent avoir la même valeur comme dans le cas d'une chaîne de caractère ou bien une valeur différente comme avec les listes. Pour savoir si deux objets ont la même valeur il faut utiliser l'opérateur ***is***."
   ]
  },
  {
   "cell_type": "code",
   "execution_count": null,
   "metadata": {},
   "outputs": [],
   "source": [
    "ef = 'chaise'\n",
    "fe = 'chaise'\n",
    "gh = ef is fe\n",
    "print (gh)\n",
    "\n",
    "ef1 = ['a', 'b', 'c']\n",
    "fe1 = ['a', 'b', 'c']\n",
    "gh1 = ef1 is fe1\n",
    "print (gh1)\n"
   ]
  },
  {
   "cell_type": "markdown",
   "metadata": {},
   "source": [
    "Dans le deuxième exemple au-dessus les deux liste dont dites **équivalentes**, parce qu'elles ont les mêmes éléments, mais pas **identiques**, car il ne s'agit pas d'un même objet."
   ]
  },
  {
   "cell_type": "markdown",
   "metadata": {},
   "source": [
    "**L'aliasing** est une circonstance où deux ou plusieurs variables font référence au même objet. Il est normalement conseillé de l'éviter car cela peut être source d'erreur."
   ]
  },
  {
   "cell_type": "code",
   "execution_count": null,
   "metadata": {},
   "outputs": [],
   "source": [
    "sd = ds = [1, 2, 3, 4, 5, 6]\n",
    "ds[1] = 37\n",
    "print (sd)"
   ]
  },
  {
   "cell_type": "markdown",
   "metadata": {},
   "source": [
    "## Dictionnaires\n",
    "\n",
    "Un dictionnaire ressemble à une liste, mais il est plus général. Dans une liste, les indices doivent être des nombres entiers; dans un dictionnaire, ils peuvent être de (presque) n'importe quel type.\n",
    "\n",
    "Un dictionnaire contient une collection d'indices, qui sont appelés **clés**, et une collection de valeurs, Chaque clé est associée à une valeur unique. L'association entre une clé et une valeur est appelée un **item**."
   ]
  },
  {
   "cell_type": "markdown",
   "metadata": {},
   "source": [
    "La fonction ***dict*** crée un nouveau dictionnaire sans aucun élément. "
   ]
  },
  {
   "cell_type": "code",
   "execution_count": null,
   "metadata": {},
   "outputs": [],
   "source": [
    "it_vers_fr = dict ()\n",
    "print (it_vers_fr)"
   ]
  },
  {
   "cell_type": "markdown",
   "metadata": {},
   "source": [
    "Pour aujouter des éléments au dictionnaire on doit utiliser des crochets:"
   ]
  },
  {
   "cell_type": "code",
   "execution_count": null,
   "metadata": {},
   "outputs": [],
   "source": [
    "it_vers_fr2 = dict ()\n",
    "it_vers_fr2 ['albero'] = 'arbre'\n",
    "print (it_vers_fr2)"
   ]
  },
  {
   "cell_type": "markdown",
   "metadata": {},
   "source": [
    "Cette exemple au dessus crée un élément qui fait correspondre la clé 'albero' à la valeur 'arbre'. Cela s'appelle un **item**."
   ]
  },
  {
   "cell_type": "markdown",
   "metadata": {},
   "source": [
    "Le nombre d'élément dans un dictionnaire est illimité. La fonction ***len*** peut être utilisée sur les dictionnaires ; elle renvoie le nombre de paires clé-valeur. L'opérateur ***in*** fonctionne également sur les dictionnaire ; il nous indique si quelque chose apparaît comme une clé dans le dictionnaire. Enfin pour savoir si quelque chose apparaît comme une valeur dans un dictionnaire, il faut utiliser la méthode ***values*** combinée avec l'opérateur ***in***:"
   ]
  },
  {
   "cell_type": "code",
   "execution_count": null,
   "metadata": {},
   "outputs": [],
   "source": [
    "it_vers_fr3 = {'albero' : 'arbre', 'salame' : 'salami', 'pasta' : 'pâte'}\n",
    "\n",
    "fg = len(it_vers_fr3)\n",
    "print(fg)\n",
    "\n",
    "fg1 = 'albero' in it_vers_fr3\n",
    "print(fg1)\n",
    "\n",
    "valeurs = it_vers_fr3.values()\n",
    "fg2 = 'arbre' in valeurs\n",
    "print(fg2)"
   ]
  },
  {
   "cell_type": "code",
   "execution_count": null,
   "metadata": {},
   "outputs": [],
   "source": []
  },
  {
   "cell_type": "code",
   "execution_count": null,
   "metadata": {},
   "outputs": [],
   "source": []
  },
  {
   "cell_type": "code",
   "execution_count": null,
   "metadata": {},
   "outputs": [],
   "source": []
  }
 ],
 "metadata": {
  "kernelspec": {
   "display_name": "Python 3",
   "language": "python",
   "name": "python3"
  },
  "language_info": {
   "codemirror_mode": {
    "name": "ipython",
    "version": 3
   },
   "file_extension": ".py",
   "mimetype": "text/x-python",
   "name": "python",
   "nbconvert_exporter": "python",
   "pygments_lexer": "ipython3",
   "version": "3.7.3"
  }
 },
 "nbformat": 4,
 "nbformat_minor": 2
}
