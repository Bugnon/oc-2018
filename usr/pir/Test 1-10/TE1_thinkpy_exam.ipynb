{
 "cells": [
  {
   "cell_type": "markdown",
   "metadata": {},
   "source": [
    "# Travail Ecrit - Python\n",
    "* Gymnase du Bugnon, site de l'Ours\n",
    "* OC informatique\n",
    "* Sujet : chapitres 1-10 du livre *Pensez en Python*\n",
    "* Mirko Pirona\n",
    "* Date : jeudi 13 novembre 2018"
   ]
  },
  {
   "cell_type": "markdown",
   "metadata": {},
   "source": [
    "## **Exercice : expression arithmétique**  \n",
    "Initialisez les variables `(a, b, c, x)` avec les valeurs `(2, 3, 4, 5)`.  \n",
    "Calculez l'expression \n",
    "\n",
    "$$y = a x^2 + b x +c$$\n",
    "\n",
    "et imprimez le résultat."
   ]
  },
  {
   "cell_type": "code",
   "execution_count": 32,
   "metadata": {},
   "outputs": [
    {
     "ename": "NameError",
     "evalue": "name 'ax' is not defined",
     "output_type": "error",
     "traceback": [
      "\u001b[0;31m---------------------------------------------------------------------------\u001b[0m",
      "\u001b[0;31mNameError\u001b[0m                                 Traceback (most recent call last)",
      "\u001b[0;32m<ipython-input-32-2a2e50f43a2f>\u001b[0m in \u001b[0;36m<module>\u001b[0;34m\u001b[0m\n\u001b[1;32m      3\u001b[0m \u001b[0mc\u001b[0m\u001b[0;34m=\u001b[0m\u001b[0;36m4\u001b[0m\u001b[0;34m\u001b[0m\u001b[0m\n\u001b[1;32m      4\u001b[0m \u001b[0mx\u001b[0m\u001b[0;34m=\u001b[0m\u001b[0;36m5\u001b[0m\u001b[0;34m\u001b[0m\u001b[0m\n\u001b[0;32m----> 5\u001b[0;31m \u001b[0my\u001b[0m\u001b[0;34m=\u001b[0m\u001b[0max\u001b[0m\u001b[0;34m^\u001b[0m\u001b[0;36m2\u001b[0m\u001b[0;34m+\u001b[0m\u001b[0mbx\u001b[0m\u001b[0;34m+\u001b[0m\u001b[0mc\u001b[0m\u001b[0;34m\u001b[0m\u001b[0m\n\u001b[0m\u001b[1;32m      6\u001b[0m \u001b[0mprint\u001b[0m\u001b[0;34m(\u001b[0m\u001b[0my\u001b[0m\u001b[0;34m)\u001b[0m\u001b[0;34m\u001b[0m\u001b[0m\n",
      "\u001b[0;31mNameError\u001b[0m: name 'ax' is not defined"
     ]
    }
   ],
   "source": [
    "a=2\n",
    "b=3\n",
    "c=4\n",
    "x=5\n",
    "y=a*x^2+b*x+c\n",
    "print(y)"
   ]
  },
  {
   "cell_type": "markdown",
   "metadata": {},
   "source": [
    "## **Exercice : fonction surface**  \n",
    "Importez le module `math`,  \n",
    "définissez une fonction `surface(r)` qui calcule $s = \\pi r^2$,  \n",
    "affichez avec un texte descriptif le résultat pour `r=5` "
   ]
  },
  {
   "cell_type": "code",
   "execution_count": null,
   "metadata": {},
   "outputs": [],
   "source": [
    "import math\n",
    "def surface(r):\n",
    "    s=math.pi*r^2\n",
    "    print(s, '=', 'la surface de rayon r')"
   ]
  },
  {
   "cell_type": "markdown",
   "metadata": {},
   "source": [
    "## **Exercice : formule quadratique**  \n",
    "La solution d'une formule quadratique de forme\n",
    "\n",
    "$$ a x^2 + b x +c = 0 $$\n",
    "\n",
    "dépend du terme $\\Delta = b^2 - 4 a c$\n",
    "* Si $\\Delta < 0$ il n'y a pas de solution\n",
    "* Si $\\Delta = 0$ il y a une solution : $x = \\frac{-b}{2 a}$\n",
    "* Si $\\Delta > 0$ il y a deux solutions : \n",
    "$x_1 = \\frac{-b +\\sqrt\\Delta}{2 a}$ and $x_2 = \\frac{-b -\\sqrt\\Delta}{2 a}$\n",
    "\n",
    "Définissez une fonction `quadratique(a, b, c)` qui retourne la solution à l'équation quadratique dans les 3 cas: `None`, `x`, `[x1, x2]`\n",
    ".\n",
    "\n",
    "Montrez la solution pour `quadratique(1, 2, 3)`, `quadratique(1, 2, 1)` et `quadratique(1, 2, -1)`"
   ]
  },
  {
   "cell_type": "code",
   "execution_count": null,
   "metadata": {},
   "outputs": [],
   "source": [
    "def quadratique(a, b, c):\n",
    "t=b^2-4a*c\n",
    "    if b^2-4a*c < 0:\n",
    "        print (None)\n",
    "    elif b^2-4a*c = 0:\n",
    "        x=(-b/(2a))\n",
    "        print(x)\n",
    "    else b^2-4*a*c > 0:\n",
    "        q=(-b+(math.sqrt(t)))/(2*a)\n",
    "        s=(-b-(math.sqrt(t)))/(2*a)\n",
    "        print(q, s)\n",
    "    \n",
    "    \n",
    "    \n",
    "print(quadratique(1, 2, 3))\n",
    "print(quadratique(1, 2, 1))\n",
    "print(quadratique(1, 2, -1))"
   ]
  },
  {
   "cell_type": "markdown",
   "metadata": {},
   "source": [
    "## **Exercice : capitalize**  \n",
    "Créez une fonction `capitalize(c)` qui transforme une lettre en majuscule si c'est une minuscule, ou la laisse inchangée autrement."
   ]
  },
  {
   "cell_type": "code",
   "execution_count": 21,
   "metadata": {},
   "outputs": [
    {
     "ename": "SyntaxError",
     "evalue": "invalid syntax (<ipython-input-21-5a02082e66d4>, line 6)",
     "output_type": "error",
     "traceback": [
      "\u001b[0;36m  File \u001b[0;32m\"<ipython-input-21-5a02082e66d4>\"\u001b[0;36m, line \u001b[0;32m6\u001b[0m\n\u001b[0;31m    else c is not c.upper():\u001b[0m\n\u001b[0m         ^\u001b[0m\n\u001b[0;31mSyntaxError\u001b[0m\u001b[0;31m:\u001b[0m invalid syntax\n"
     ]
    }
   ],
   "source": [
    "def capitalize(c):\n",
    "    if type (c) ==str:\n",
    "        \n",
    "        if c is str(c.upper()):\n",
    "            return\n",
    "        else c is not str(c.upper()):\n",
    "            a=c.upper()\n",
    "            print(a)\n",
    "    \n",
    "\n",
    "capitalize('a'), capitalize('B'), capitalize('3')"
   ]
  },
  {
   "cell_type": "markdown",
   "metadata": {},
   "source": [
    "## **Exercice : capitalize words**  \n",
    "Créez une fonction `capitalize_words(s)` qui transforme la première lettre de tous les mots en majuscule."
   ]
  },
  {
   "cell_type": "code",
   "execution_count": 30,
   "metadata": {},
   "outputs": [
    {
     "name": "stdout",
     "output_type": "stream",
     "text": [
      "HELLO WORLD, HOW ARE YOU?\n",
      "HELLO WORLD, HOW ARE YOU?\n",
      "HELLO WORLD, HOW ARE YOU?\n",
      "HELLO WORLD, HOW ARE YOU?\n",
      "HELLO WORLD, HOW ARE YOU?\n",
      "HELLO WORLD, HOW ARE YOU?\n",
      "HELLO WORLD, HOW ARE YOU?\n",
      "HELLO WORLD, HOW ARE YOU?\n",
      "HELLO WORLD, HOW ARE YOU?\n",
      "HELLO WORLD, HOW ARE YOU?\n",
      "HELLO WORLD, HOW ARE YOU?\n",
      "HELLO WORLD, HOW ARE YOU?\n",
      "HELLO WORLD, HOW ARE YOU?\n",
      "HELLO WORLD, HOW ARE YOU?\n",
      "HELLO WORLD, HOW ARE YOU?\n",
      "HELLO WORLD, HOW ARE YOU?\n",
      "HELLO WORLD, HOW ARE YOU?\n",
      "HELLO WORLD, HOW ARE YOU?\n",
      "HELLO WORLD, HOW ARE YOU?\n",
      "HELLO WORLD, HOW ARE YOU?\n",
      "HELLO WORLD, HOW ARE YOU?\n",
      "HELLO WORLD, HOW ARE YOU?\n",
      "HELLO WORLD, HOW ARE YOU?\n",
      "HELLO WORLD, HOW ARE YOU?\n",
      "HELLO WORLD, HOW ARE YOU?\n"
     ]
    }
   ],
   "source": [
    "def capitalize_words(s):\n",
    "    for i in s:\n",
    "        x=s.upper()\n",
    "        print(x)\n",
    "    \n",
    "\n",
    "capitalize_words('hello world, how are you?')"
   ]
  },
  {
   "cell_type": "markdown",
   "metadata": {},
   "source": [
    "## **Exercice : tranches**  \n",
    "Expliquez ce que font les 6 opérateurs de **tranches** ci-dessous."
   ]
  },
  {
   "cell_type": "code",
   "execution_count": 18,
   "metadata": {},
   "outputs": [
    {
     "data": {
      "text/plain": [
       "['e', 'd', 'c', 'b', 'a']"
      ]
     },
     "execution_count": 18,
     "metadata": {},
     "output_type": "execute_result"
    }
   ],
   "source": [
    "s=['a', 'b', 'c', 'd', 'e',]\n",
    "\n",
    "s[::2]\n",
    "s[:2]\n",
    "s[::-1]\n",
    "\n",
    "\n",
    "# s[2]   - Cela affiche le troisième élément d'une liste\n",
    "# s[:2]  - Cela affiche le 2 premier élément d'une liste\n",
    "# s[::2] - Cela prend un élément sur 2 d'une liste et l'affiche\n",
    "\n",
    "# s[-1]   -Cela prend le dernier élément d'une liste\n",
    "# s[:-1]  -Cela prend tout sauf le dernier élément\n",
    "# s[::-1] -Cela affiche la liste à l'envers"
   ]
  },
  {
   "cell_type": "markdown",
   "metadata": {},
   "source": [
    "## **Exercice : longueur spécifique**   \n",
    "Le fichier `words.text` contient 58110 mots en anglais.  \n",
    "Affichez les $n=5$ premiers mots qui ont une longueur de $m=10$ et affichez leur nombre total."
   ]
  },
  {
   "cell_type": "code",
   "execution_count": 9,
   "metadata": {},
   "outputs": [
    {
     "ename": "SyntaxError",
     "evalue": "invalid syntax (<ipython-input-9-a99e7e526f15>, line 5)",
     "output_type": "error",
     "traceback": [
      "\u001b[0;36m  File \u001b[0;32m\"<ipython-input-9-a99e7e526f15>\"\u001b[0;36m, line \u001b[0;32m5\u001b[0m\n\u001b[0;31m    else len(n) >10:\u001b[0m\n\u001b[0m           ^\u001b[0m\n\u001b[0;31mSyntaxError\u001b[0m\u001b[0;31m:\u001b[0m invalid syntax\n"
     ]
    }
   ],
   "source": [
    "fin = open('words.txt')\n",
    "for n in fin:\n",
    "    if len(n) < 10:\n",
    "        break\n",
    "    else len(n) >10:\n",
    "        print(n)\n",
    "n = 5\n",
    "m = 10\n"
   ]
  },
  {
   "cell_type": "markdown",
   "metadata": {},
   "source": [
    "## **Exercice : répétition**.  \n",
    "Affchez les $m=5$ premiers mots qui sont composé de deux parties répétées (par exemple **bonbon**)."
   ]
  },
  {
   "cell_type": "code",
   "execution_count": 14,
   "metadata": {},
   "outputs": [
    {
     "ename": "SyntaxError",
     "evalue": "invalid syntax (<ipython-input-14-79f909e44315>, line 4)",
     "output_type": "error",
     "traceback": [
      "\u001b[0;36m  File \u001b[0;32m\"<ipython-input-14-79f909e44315>\"\u001b[0;36m, line \u001b[0;32m4\u001b[0m\n\u001b[0;31m    if m[0:((len(m)/2)-1)] == m[((len(m)/2)-1):(len(m)-1)]\u001b[0m\n\u001b[0m                                                          ^\u001b[0m\n\u001b[0;31mSyntaxError\u001b[0m\u001b[0;31m:\u001b[0m invalid syntax\n"
     ]
    }
   ],
   "source": [
    "fin = open('words.txt')\n",
    "\n",
    "for m in fin:\n",
    "    if m[0:((len(m)/2)-1)] == m[((len(m)/2)-1):(len(m)-1)]\n",
    "    print(i)\n",
    "m = 5\n"
   ]
  },
  {
   "cell_type": "markdown",
   "metadata": {},
   "source": [
    "## **Exercice : minimum**  \n",
    "Créez une fonction `min(L)` qui retourne le minimum d'une liste et l'index de sa position sous forme de list `[val, pos]`\n",
    "."
   ]
  },
  {
   "cell_type": "code",
   "execution_count": 13,
   "metadata": {},
   "outputs": [
    {
     "name": "stdout",
     "output_type": "stream",
     "text": [
      "100 6\n"
     ]
    }
   ],
   "source": [
    "def min(L):\n",
    "    x=len(L)\n",
    "    print(L[-1], x)\n",
    "    \n",
    "                   \n",
    "L = [1, 3, 34, -4, -2, 100]\n",
    "min(L)"
   ]
  },
  {
   "cell_type": "markdown",
   "metadata": {},
   "source": [
    "## **Exercice : moyenne**  \n",
    "Ecrivez une fonction `mean(L)` qui retourne la moyenne d'une liste.\n",
    "."
   ]
  },
  {
   "cell_type": "code",
   "execution_count": 12,
   "metadata": {},
   "outputs": [
    {
     "name": "stdout",
     "output_type": "stream",
     "text": [
      "66.0\n"
     ]
    }
   ],
   "source": [
    "def mean(L):\n",
    "    x=sum(L)\n",
    "    print(x/2)\n",
    "                   \n",
    "L = [1, 3, 34, -4, -2, 100]\n",
    "mean(L)"
   ]
  },
  {
   "cell_type": "code",
   "execution_count": null,
   "metadata": {},
   "outputs": [],
   "source": []
  }
 ],
 "metadata": {
  "kernelspec": {
   "display_name": "Python 3",
   "language": "python",
   "name": "python3"
  },
  "language_info": {
   "codemirror_mode": {
    "name": "ipython",
    "version": 3
   },
   "file_extension": ".py",
   "mimetype": "text/x-python",
   "name": "python",
   "nbconvert_exporter": "python",
   "pygments_lexer": "ipython3",
   "version": "3.5.3"
  },
  "toc-autonumbering": true
 },
 "nbformat": 4,
 "nbformat_minor": 2
}
