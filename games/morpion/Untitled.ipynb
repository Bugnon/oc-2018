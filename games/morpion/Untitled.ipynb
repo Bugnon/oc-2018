{
 "cells": [
  {
   "cell_type": "markdown",
   "metadata": {},
   "source": [
    "# Projet Morpion\n",
    "par *Hélène et Victoria*\n",
    "![img](../../img/thymio.jpg)"
   ]
  },
  {
   "cell_type": "markdown",
   "metadata": {},
   "source": [
    "Pour utiliser SenseHAT, il faut importer le module SensHAT pour avoir accès à la bibliothèque des fonctions liées à cet outil. IL faut donc créer une instance SenseHat()."
   ]
  },
  {
   "cell_type": "code",
   "execution_count": 19,
   "metadata": {},
   "outputs": [
    {
     "name": "stderr",
     "output_type": "stream",
     "text": [
      "/usr/lib/python3/dist-packages/sense_emu/sense_hat.py:91: Warning: No emulator detected; spawning sense_emu_gui\n",
      "  warnings.warn(Warning('No emulator detected; spawning sense_emu_gui'))\n"
     ]
    }
   ],
   "source": [
    "from sense_emu import SenseHat\n",
    "from time import sleep, time\n",
    "\n",
    "sense = SenseHat()"
   ]
  },
  {
   "cell_type": "markdown",
   "metadata": {},
   "source": [
    "Ensuite nous définissons les couleurs qui représentent le player 1 par exemple."
   ]
  },
  {
   "cell_type": "code",
   "execution_count": 20,
   "metadata": {},
   "outputs": [
    {
     "data": {
      "text/plain": [
       "((0, 0, 0), (0, 0, 255), (255, 255, 0))"
      ]
     },
     "execution_count": 20,
     "metadata": {},
     "output_type": "execute_result"
    }
   ],
   "source": [
    "X = (255, 255, 255)\n",
    "O = (0, 0, 0)\n",
    "P1 = (0, 0, 255)\n",
    "P2 = (255, 255, 0)\n",
    "colors = (O, P1, P2)\n",
    "colors"
   ]
  },
  {
   "cell_type": "markdown",
   "metadata": {},
   "source": [
    "### Définition initiation "
   ]
  },
  {
   "cell_type": "markdown",
   "metadata": {},
   "source": [
    "Nous devons faire une défnition initation, où nous définissons l'état initial du jeu qui sera modifié par les joueurs."
   ]
  },
  {
   "cell_type": "markdown",
   "metadata": {},
   "source": [
    "Pour que nos arguments appelés *state*, *board*, *state_to_board* soit utilisables dans tous le code, il fat utiliser le mot-clé **global**."
   ]
  },
  {
   "cell_type": "code",
   "execution_count": 21,
   "metadata": {},
   "outputs": [],
   "source": [
    "def init():\n",
    "    global state   \n",
    "    global board  \n",
    "    global state_to_board"
   ]
  },
  {
   "cell_type": "markdown",
   "metadata": {},
   "source": [
    "Ensuite nous créeons la grille sur lequel a lieux ée jeu. "
   ]
  },
  {
   "cell_type": "code",
   "execution_count": 22,
   "metadata": {},
   "outputs": [
    {
     "data": {
      "text/plain": [
       "[(0, 0, 0), (0, 0, 0), (255, 255, 255)]"
      ]
     },
     "execution_count": 22,
     "metadata": {},
     "output_type": "execute_result"
    }
   ],
   "source": [
    "board = [\n",
    "        O, O, X, O, O, X, O, O,\n",
    "        O, O, X, O, O, X, O, O,\n",
    "        X, X, X, X, X, X, X, X,\n",
    "        O, O, X, O, O, X, O, O,\n",
    "        O, O, X, O, O, X, O, O,\n",
    "        X, X, X, X, X, X, X, X,\n",
    "        O, O, X, O, O, X, O, O,\n",
    "        O, O, X, O, O, X, O, O, \n",
    "        ]\n",
    "board[:3]"
   ]
  },
  {
   "cell_type": "markdown",
   "metadata": {},
   "source": [
    "Nous créeons une matrice dont 4 pixels représente un élément de la matrice state 3x3, sans oublié de bien faire les sauts qui correspondent au cadrillage."
   ]
  },
  {
   "cell_type": "code",
   "execution_count": 23,
   "metadata": {},
   "outputs": [
    {
     "data": {
      "text/plain": [
       "[[0, 0, 0], [0, 0, 0], [0, 0, 0]]"
      ]
     },
     "execution_count": 23,
     "metadata": {},
     "output_type": "execute_result"
    }
   ],
   "source": [
    "    state_to_board = [[(0, 1, 8, 9), (3, 4, 11, 12), (6, 7, 14, 15)],\n",
    "                      [(24, 25, 32, 33), (27, 28, 35, 36), (30, 31, 38, 39)],\n",
    "                      [(48, 49, 56, 57), (51, 52, 59, 60), (54, 55, 62, 63)]]\n",
    "\n",
    "    state =  [[0, 0, 0], [0, 0, 0], [0, 0, 0]]\n",
    "    state"
   ]
  },
  {
   "cell_type": "markdown",
   "metadata": {},
   "source": [
    "### Définition Show_board(board, state)"
   ]
  },
  {
   "cell_type": "markdown",
   "metadata": {},
   "source": [
    "Cette définitions nous permets d'afficher les différents états du jeu. Nous parcourons, les liste state et state_to_board pour aquérire à l'état de nos quatres pixels qui forment une case (soit les coordonées). Puis nous faisons correspondre son état, qui est 0,1,2 au position de la liste colors qui permettrons d'afficher l'état du jeu par exemple : jaune qui indique que c'est le player 2 qui a selectionnés la case."
   ]
  },
  {
   "cell_type": "code",
   "execution_count": 25,
   "metadata": {},
   "outputs": [],
   "source": [
    "def show_board(board, state):\n",
    "    for y in range(len(state)):\n",
    "        for x, s in enumerate(state[y]):  \n",
    "            c = colors[s]\n",
    "            for index in state_to_board[y][x]:\n",
    "                board[index] = c\n",
    "    sense.set_pixels(board)"
   ]
  },
  {
   "cell_type": "code",
   "execution_count": 26,
   "metadata": {},
   "outputs": [],
   "source": [
    "show_board(board, state)"
   ]
  },
  {
   "cell_type": "markdown",
   "metadata": {},
   "source": [
    "### Définition is_winning(p,state)"
   ]
  },
  {
   "cell_type": "markdown",
   "metadata": {},
   "source": [
    "Nous définissons tous les cas ou un joueur est gagant. Pour cela il faut que l'état de trois cases selon les règles du jeu de morpion est le même état."
   ]
  },
  {
   "cell_type": "code",
   "execution_count": 28,
   "metadata": {},
   "outputs": [],
   "source": [
    "def is_winning(p, state):\n",
    "    return  state[0][0] == state[0][1] == state[0][2] == p or \\\n",
    "            state[1][0] == state[1][1] == state[1][2] == p or \\\n",
    "            state[2][0] == state[2][1] == state[2][2] == p or \\\n",
    "            state[0][0] == state[1][0] == state[2][0] == p or \\\n",
    "            state[0][1] == state[1][1] == state[2][1] == p or \\\n",
    "            state[0][2] == state[1][2] == state[2][2] == p or \\\n",
    "            state[0][0] == state[1][1] == state[2][2] == p or \\\n",
    "            state[0][2] == state[1][1] == state[2][0] == p    "
   ]
  },
  {
   "cell_type": "code",
   "execution_count": 29,
   "metadata": {},
   "outputs": [
    {
     "data": {
      "text/plain": [
       "False"
      ]
     },
     "execution_count": 29,
     "metadata": {},
     "output_type": "execute_result"
    }
   ],
   "source": [
    "is_winning(1, state)"
   ]
  },
  {
   "cell_type": "code",
   "execution_count": 32,
   "metadata": {},
   "outputs": [
    {
     "data": {
      "text/plain": [
       "False"
      ]
     },
     "execution_count": 32,
     "metadata": {},
     "output_type": "execute_result"
    }
   ],
   "source": [
    "state =  [[1, 1, 1], [0, 0, 0], [0, 0, 0]]\n",
    "show_board(board, state)\n",
    "is_winning(2, state)"
   ]
  },
  {
   "cell_type": "markdown",
   "metadata": {},
   "source": [
    "### Définitions is_draw"
   ]
  },
  {
   "cell_type": "markdown",
   "metadata": {},
   "source": [
    "Si les cas de is_winnig(p,state) n'apparaissent pas dans le jeu, et que toutes les cases sont à l'état 1 ou 2 alors c'est un match nul. "
   ]
  },
  {
   "cell_type": "code",
   "execution_count": 3,
   "metadata": {},
   "outputs": [],
   "source": [
    "def is_draw(state): \n",
    "    for i in state:\n",
    "        for s in i:\n",
    "            if s == 0:\n",
    "                return False\n",
    "    return True"
   ]
  },
  {
   "cell_type": "code",
   "execution_count": 34,
   "metadata": {},
   "outputs": [
    {
     "data": {
      "text/plain": [
       "True"
      ]
     },
     "execution_count": 34,
     "metadata": {},
     "output_type": "execute_result"
    }
   ],
   "source": [
    "state = [[1,2,1],[1,2,2],[2,1,1]]\n",
    "is_draw(state)"
   ]
  },
  {
   "cell_type": "markdown",
   "metadata": {},
   "source": [
    "### Définition play(p, board, state)"
   ]
  },
  {
   "cell_type": "markdown",
   "metadata": {},
   "source": [
    "Grâce à cette fonction nous définissons les paramètres du joueur."
   ]
  },
  {
   "cell_type": "markdown",
   "metadata": {},
   "source": [
    "D'abord nous définissons les paramètres du curseurs à l'état initial ((x,y) = (1,1)). Mais à l'état initial aucun joueur n'a encore joué donc la couleur du curseur est divisé par deux.Nous faisons cela en parcourant la liste state_to_board qui va donc prendre chaque etat des quatres pixels pour ensuite reparcourir la liste colors pour afficher l'état correspondant mais en divisant la couleur par deux. "
   ]
  },
  {
   "cell_type": "code",
   "execution_count": null,
   "metadata": {},
   "outputs": [],
   "source": [
    "def play(p,board, state):\n",
    "    (x, y) = (1, 1) \n",
    "    dirs = {'up':(0, -1), 'down':(0, 1),\n",
    "            'right':(1, 0), 'left':(-1, 0)} \n",
    "    \n",
    "    c = tuple(int(x/2) for x in colors[p])\n",
    "    for index in state_to_board[y][x]:\n",
    "        board[index] = c\n",
    "    sense.set_pixels(board)"
   ]
  },
  {
   "cell_type": "markdown",
   "metadata": {},
   "source": [
    "Ensuite nous lançons une boucle qui attend un évènement de la bibliothèque directions pour modifier les coordonnées du curseur. Lorsqu'un évènment est préssé il ajoute la coordonées à celles initinales, mais les coordonées ne doivent pas etre plus \"grandes\" que notre matrice nous faisons donc un modulo.\n",
    "Les coordonées sont donc modifiées mais pas forcément selectionnées pour de bon donc la case apparait encore d'une intensité de couleur diminuée.\n",
    "```\n",
    "    while True :\n",
    "        event = sense.stick.wait_for_event()\n",
    "        if event.action == 'pressed':\n",
    "            if event.direction in dirs:  \n",
    "                (dx, dy) = dirs[event.direction]\n",
    "```"
   ]
  },
  {
   "cell_type": "code",
   "execution_count": 5,
   "metadata": {},
   "outputs": [
    {
     "ename": "NameError",
     "evalue": "name 'sense' is not defined",
     "output_type": "error",
     "traceback": [
      "\u001b[0;31m---------------------------------------------------------------------------\u001b[0m",
      "\u001b[0;31mNameError\u001b[0m                                 Traceback (most recent call last)",
      "\u001b[0;32mcell_name\u001b[0m in \u001b[0;36masync-def-wrapper\u001b[0;34m()\u001b[0m\n",
      "\u001b[0;31mNameError\u001b[0m: name 'sense' is not defined"
     ]
    }
   ],
   "source": [
    " \n",
    "    while True :\n",
    "        event = sense.stick.wait_for_event()\n",
    "        if event.action == 'pressed':\n",
    "            if event.direction in dirs:  \n",
    "                (dx, dy) = dirs[event.direction]\n",
    "                \n",
    "                x = (x + dx) % len(state)    \n",
    "                y = (y + dy) % len(state)\n",
    "                \n",
    "            \n",
    "                           \n",
    "                show_board(board, state)   # eviter de colorier le chemin\n",
    "                \n",
    "                c = tuple(int(x/2) for x in colors[p]) \n",
    "                for index in state_to_board[y][x]:\n",
    "                    board[index] = c\n",
    "                sense.set_pixels(board)   "
   ]
  },
  {
   "cell_type": "markdown",
   "metadata": {},
   "source": [
    "Il ne reste plus qu'a ajouter un paramètre : celui qui ne permet pas de modifier un état losque celui ci n'est pas égal à 0 ."
   ]
  },
  {
   "cell_type": "code",
   "execution_count": 7,
   "metadata": {},
   "outputs": [
    {
     "ename": "SyntaxError",
     "evalue": "invalid syntax (<ipython-input-7-a63b7cd04862>, line 1)",
     "output_type": "error",
     "traceback": [
      "\u001b[0;36m  File \u001b[0;32m\"<ipython-input-7-a63b7cd04862>\"\u001b[0;36m, line \u001b[0;32m1\u001b[0m\n\u001b[0;31m    else:\u001b[0m\n\u001b[0m       ^\u001b[0m\n\u001b[0;31mSyntaxError\u001b[0m\u001b[0;31m:\u001b[0m invalid syntax\n"
     ]
    }
   ],
   "source": [
    "           else:\n",
    "                if state[y][x] == 0: \n",
    "                    state[y][x] = p\n",
    "                    show_board(board, state)\n",
    "                    return"
   ]
  },
  {
   "cell_type": "markdown",
   "metadata": {},
   "source": [
    "### Définition end_game(p)"
   ]
  },
  {
   "cell_type": "markdown",
   "metadata": {},
   "source": [
    "Lorsque aucun joueur gagne, on affiche le message *draw* autrement c'est le numéro du joueur gagant qui est affiché. Pour relancer la partie le message *press to play* apparait, il faut donc appuyer sur le joystick pour recommencer la partie."
   ]
  },
  {
   "cell_type": "code",
   "execution_count": 37,
   "metadata": {},
   "outputs": [],
   "source": [
    "                \n",
    "def end_game(p):\n",
    "    if p == 0:\n",
    "        sense.show_message(\"draw\")\n",
    "    else:\n",
    "        sense.show_letter(str(p))\n",
    "        \n",
    "    sleep(3)\n",
    "    sense.show_message('press to play')\n",
    "    \n",
    "    while True:\n",
    "        event = sense.stick.wait_for_event()\n",
    "        if event.action == \"pressed\":   \n",
    "            init()\n",
    "            show_board(board, state)\n",
    "            return\n",
    "        "
   ]
  },
  {
   "cell_type": "code",
   "execution_count": 41,
   "metadata": {},
   "outputs": [],
   "source": [
    "p=1\n",
    "end_game(p)"
   ]
  },
  {
   "cell_type": "markdown",
   "metadata": {},
   "source": [
    "### Le déroulement du jeu "
   ]
  },
  {
   "cell_type": "markdown",
   "metadata": {},
   "source": [
    "Nous lançons une boucle qui regarde si les cas gagnants ou match nul sont présents sinon la partie continue. Pour intervertir les joueurs entre 1 et 2 nous utilisons l'astuce **player = 3 - player**."
   ]
  },
  {
   "cell_type": "code",
   "execution_count": null,
   "metadata": {},
   "outputs": [],
   "source": [
    "init()\n",
    "show_board(board, state)\n",
    "player = 1\n",
    "\n",
    "while True:\n",
    "    play(player, board, state)\n",
    "    if is_winning(player, state):\n",
    "        end_game(player)\n",
    "        \n",
    "    elif is_draw(state):\n",
    "        end_game(0)\n",
    "        \n",
    "    player = 3 - player    \n"
   ]
  },
  {
   "cell_type": "code",
   "execution_count": null,
   "metadata": {},
   "outputs": [],
   "source": []
  }
 ],
 "metadata": {
  "kernelspec": {
   "display_name": "Python 3",
   "language": "python",
   "name": "python3"
  },
  "language_info": {
   "codemirror_mode": {
    "name": "ipython",
    "version": 3
   },
   "file_extension": ".py",
   "mimetype": "text/x-python",
   "name": "python",
   "nbconvert_exporter": "python",
   "pygments_lexer": "ipython3",
   "version": "3.5.3"
  }
 },
 "nbformat": 4,
 "nbformat_minor": 2
}
