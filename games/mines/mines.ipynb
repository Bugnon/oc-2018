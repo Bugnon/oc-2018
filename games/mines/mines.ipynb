{
 "cells": [
  {
   "cell_type": "markdown",
   "metadata": {},
   "source": [
    "# Jeu du démineur\n",
    "\n",
    "## But :\n",
    "   Le but de ce mini-jeu est de découvrir toutes les cases sauf celles qui contiennent des bombes.\n",
    "\n",
    "## Principes :\n",
    "   Lorsque l'on active une case qui n'est pas une bombe, une fonction compte le nombre de bombes présentes sur les huit cases adjacentes. Ce nombre est indiqué sur la case, dans notre cas, chaque chiffre correspond à une couleur prédéfinie. Cela permet de détecter la place des bombes. Tandis que lorsqu’on active une case contenant une bombe cette dernière explose et met fin à la partie.\n",
    "   \n",
    "## Notre programme :\n",
    "\n",
    "Notre programme est écrit en python3 et se joue principalement sur un raspberry pi muni d'un sense hat mais peut aussi être jouer sur n'importe quel ordinateur grâce au module sense emu, qui permet de crée une réplique d'un sense hat.\n",
    "\n",
    "![Sense Img](sense.jpeg)\n",
    "\n",
    "### Nos modules :\n",
    "   Pour commencer la première chose à faire est d’importer les modules nécessaires à notre jeu.\n"
   ]
  },
  {
   "cell_type": "code",
   "execution_count": 1,
   "metadata": {},
   "outputs": [],
   "source": [
    "#############################################\n",
    "#      We import the different modules      #\n",
    "#############################################\n",
    "\n",
    "# We import the library \"Sensehat\"\n",
    "from sense_emu import SenseHat\n",
    "\n",
    "# We import the module \"random\"\n",
    "from random import randint, choice\n",
    "\n",
    "# We import the module \"time\"\n",
    "from time import sleep, time"
   ]
  },
  {
   "cell_type": "markdown",
   "metadata": {},
   "source": [
    "### Nos variables :\n",
    "   Après nous devons initialiser les variables du jeu comme par exemple les couleurs, la valeur de x et y qui permettent de se déplacer sur le plateau de jeu ainsi que la variable sense qui fait le lien avec le SenseHat."
   ]
  },
  {
   "cell_type": "code",
   "execution_count": 2,
   "metadata": {},
   "outputs": [
    {
     "name": "stderr",
     "output_type": "stream",
     "text": [
      "/usr/lib/python3/dist-packages/sense_emu/sense_hat.py:91: Warning: No emulator detected; spawning sense_emu_gui\n",
      "  warnings.warn(Warning('No emulator detected; spawning sense_emu_gui'))\n"
     ]
    }
   ],
   "source": [
    "#############################################\n",
    "#     Definition of the game variables      #\n",
    "#############################################\n",
    "\n",
    "# We define the colors of the game:\n",
    "green = (0,255,0)       # Flag\n",
    "grey = (90,94,107)      # Box undiscovered\n",
    "white = (255,255,255)   # Box without bomb\n",
    "yellow = (247,255,60)   # 1 bomb around\n",
    "orange = (255,127,0)    # 2 bombs around\n",
    "corail = (231,62,1)     # 3 bombs around\n",
    "red = (248,0,0)         # 4 bombs around\n",
    "bordeau = (91,60,19)    # 5 bombs around\n",
    "black = (0,0,0)         # Bomb\n",
    "\n",
    "# We initialize the module \"sense hat\" in the variable \"sense\":\n",
    "sense = SenseHat()\n",
    "sense.clear()\n",
    "\n",
    "#############################################\n",
    "#    Initialization of golbal variables     #\n",
    "#############################################\n",
    "\n",
    "# The variable containing the flags list:\n",
    "list_flag = []\n",
    "\n",
    "# The variable containing the bombs list:\n",
    "List_bomb = []\n",
    "\n",
    "# The variable containing the checked boxes:\n",
    "list_checked = []\n",
    "\n",
    "# The variable containing the number of bombs:\n",
    "nb_bombs = 7\n",
    "\n",
    "# Displacement variables:\n",
    "game = True\n",
    "running = True\n",
    "x = 0\n",
    "y = 0\n",
    "\n",
    "# Color of the board:\n",
    "old_color = grey"
   ]
  },
  {
   "cell_type": "markdown",
   "metadata": {},
   "source": [
    "### Nos fonctions :\n",
    "   Ensuite, un programme est très régulièrement divisé en fonctions. C’est une suite d’instructions qui s’effectue lorsque la fonction est appelée. Cela permet de répéter plusieurs les mêmes actions sans écrire le même code plusieurs fois. Pour notre jeu, nous avons écrit une dizaine de fonctions."
   ]
  },
  {
   "cell_type": "markdown",
   "metadata": {},
   "source": [
    "#### Fonction qui place les bombes :\n",
    "   Une des fonctions les plus importante pour notre jeu est celle qui place les bombes de manière aléatoire sur le plateau de jeu."
   ]
  },
  {
   "cell_type": "code",
   "execution_count": 4,
   "metadata": {},
   "outputs": [],
   "source": [
    "# Function that choose the places of the bombs:\n",
    "def choose_bomb(nb_bomb):\n",
    "  \n",
    "    list_bomb = []\n",
    "    \n",
    "    i = 0\n",
    "    while i < nb_bomb :\n",
    "        x_bomb = randint(0,7)\n",
    "        y_bomb = randint(0,7)\n",
    "        xy_bomb = 10 * x_bomb + y_bomb\n",
    "        if(xy_bomb in list_bomb):\n",
    "            i = i\n",
    "        else:\n",
    "            i += 1\n",
    "            list_bomb.append(xy_bomb)\n",
    "\n",
    "    return list_bomb;"
   ]
  },
  {
   "cell_type": "markdown",
   "metadata": {},
   "source": [
    "   Cette fonction prend comme paramètre le nombre de bombe qu’elle doit placer sur le plateau. Lorsque  deux bombes ont la même position, elle choisit une autre case pour l’une d’entre elles."
   ]
  },
  {
   "cell_type": "markdown",
   "metadata": {},
   "source": [
    "#### Fonctions qui compte les bombes :\n",
    "   Il y a une autre fonction indispensable pour notre jeu, il s’agit de celle qui compte le nombre de bombes qui se trouvent autour d’une certaine case. Cette case est transmise à la fonction grâce à deux paramètres x et y."
   ]
  },
  {
   "cell_type": "code",
   "execution_count": 3,
   "metadata": {},
   "outputs": [],
   "source": [
    "#############################################\n",
    "#     Definition of the game functions      #\n",
    "#############################################\n",
    "\n",
    "# Functions that count the number of bomb around:\n",
    "def count_bombs_around(x,y):\n",
    "    \n",
    "    global List_bomb\n",
    "    nb = 0\n",
    "    \n",
    "    x_check = x+1\n",
    "    y_check = y\n",
    "    xy_ckeck = 10*x_check + y_check\n",
    "    \n",
    "    if xy_ckeck in List_bomb:\n",
    "        nb += 1\n",
    "        \n",
    "    x_check = x\n",
    "    y_check = y+1\n",
    "    xy_ckeck = 10*x_check + y_check\n",
    "    \n",
    "    if xy_ckeck in List_bomb:\n",
    "        nb += 1\n",
    "        \n",
    "    x_check = x+1\n",
    "    y_check = y+1\n",
    "    xy_ckeck = 10*x_check + y_check\n",
    "    \n",
    "    if xy_ckeck in List_bomb:\n",
    "        nb += 1\n",
    "        \n",
    "    x_check = x-1\n",
    "    y_check = y\n",
    "    xy_ckeck = 10*x_check + y_check\n",
    "    \n",
    "    if xy_ckeck in List_bomb:\n",
    "        nb += 1\n",
    "    \n",
    "    x_check = x\n",
    "    y_check = y-1\n",
    "    xy_ckeck = 10*x_check + y_check\n",
    "    \n",
    "    if xy_ckeck in List_bomb:\n",
    "        nb += 1\n",
    "    \n",
    "    x_check = x-1\n",
    "    y_check = y-1\n",
    "    xy_ckeck = 10*x_check + y_check\n",
    "    \n",
    "    if xy_ckeck in List_bomb:\n",
    "        nb += 1\n",
    "    \n",
    "    x_check = x+1\n",
    "    y_check = y-1\n",
    "    xy_ckeck = 10*x_check + y_check\n",
    "    \n",
    "    if xy_ckeck in List_bomb:\n",
    "        nb += 1\n",
    "        \n",
    "    x_check = x-1\n",
    "    y_check = y+1\n",
    "    xy_ckeck = 10*x_check + y_check\n",
    "    \n",
    "    if xy_ckeck in List_bomb:\n",
    "        nb += 1\n",
    "    \n",
    "    return nb;"
   ]
  },
  {
   "cell_type": "markdown",
   "metadata": {},
   "source": [
    "   Cette fonction retourne le nombre de bombes qu'elle a repéré."
   ]
  },
  {
   "cell_type": "markdown",
   "metadata": {},
   "source": [
    "#### Fonction qui initialise la couleur du plateau :\n",
    "   Cette fonction doit, lorsque l'on commence ou recommence le jeu, remettre toutesles cases avec la couleur d'origine. Dans notre cas, nous avons choisi la couleur grise."
   ]
  },
  {
   "cell_type": "code",
   "execution_count": 5,
   "metadata": {},
   "outputs": [],
   "source": [
    "# Initialization of game board:\n",
    "def set_all_in_gray():\n",
    "    G = grey\n",
    "\n",
    "    set_color_grey = [\n",
    "    G,G,G,G,G,G,G,G,\n",
    "    G,G,G,G,G,G,G,G,\n",
    "    G,G,G,G,G,G,G,G,\n",
    "    G,G,G,G,G,G,G,G,\n",
    "    G,G,G,G,G,G,G,G,\n",
    "    G,G,G,G,G,G,G,G,\n",
    "    G,G,G,G,G,G,G,G,\n",
    "    G,G,G,G,G,G,G,G]\n",
    "\n",
    "    sense.set_pixels(set_color_grey)"
   ]
  },
  {
   "cell_type": "markdown",
   "metadata": {},
   "source": [
    "#### Fonctions de propagation :\n",
    "   Nous arrivons maintenant à une des partie les plus complexes que nous avons dû programmer. Il s'agit de la propagation des cases. Lorsque l'on utilise une case vierge, autrement dit sans bombes à proximité, une fonction va décacher toutes les cases vierges autour et va s'arreter à chaque fois qu'une case sera colorée. Pour cela, nous avons créé deux fonctions dont une qui est récursive, c'est à dire qu'elle s'appelle elle-même"
   ]
  },
  {
   "cell_type": "markdown",
   "metadata": {},
   "source": [
    "La première va créer la liste des cases concernées par la propagation :"
   ]
  },
  {
   "cell_type": "code",
   "execution_count": null,
   "metadata": {},
   "outputs": [],
   "source": [
    "def check_case(x,y):\n",
    "    global list_checked\n",
    "    \n",
    "    if ((x+1)*10 + y) not in list_checked:\n",
    "        if count_bombs_around(x+1,y) == 0 and -1<(x+1)<8 and -1<y<8:\n",
    "            list_checked.append((x+1)*10+y)\n",
    "            check_case(x+1,y)\n",
    "        else:\n",
    "            list_checked.append((x+1)*10+y)\n",
    " \n",
    "    \n",
    "    if ((x+1)*10 + y+1) not in list_checked:\n",
    "        if count_bombs_around(x+1,y+1) == 0 and -1<(x+1)<8 and -1<(y+1)<8:\n",
    "            list_checked.append((x+1)*10+(y+1))\n",
    "            check_case(x+1,y+1)\n",
    "        else:\n",
    "            list_checked.append((x+1)*10+(y+1))\n",
    "    \n",
    "    if ((x)*10 + y+1) not in list_checked:\n",
    "        if count_bombs_around(x,y+1) == 0 and -1<x<8 and -1<(y+1)<8:\n",
    "            list_checked.append(x*10+(y+1))\n",
    "            check_case(x,y+1)\n",
    "        else:\n",
    "            list_checked.append(x*10+(y+1))\n",
    "            \n",
    "    if ((x-1)*10 + y+1) not in list_checked:\n",
    "        if count_bombs_around(x-1,y+1) == 0 and -1<(x-1)<8 and -1<(y+1)<8:\n",
    "            list_checked.append((x-1)*10+(y+1))\n",
    "            check_case(x-1,y+1)\n",
    "        else:\n",
    "            list_checked.append((x-1)*10+(y+1))\n",
    "        \n",
    "    if ((x-1)*10 + y) not in list_checked:\n",
    "        if count_bombs_around(x-1,y) == 0 and -1<(x-1)<8 and -1<y<8:\n",
    "            list_checked.append((x-1)*10+y)\n",
    "            check_case(x-1,y)\n",
    "        else:\n",
    "            list_checked.append((x-1)*10+y)\n",
    "        \n",
    "    if ((x-1)*10 + y-1) not in list_checked:\n",
    "        if count_bombs_around(x-1,y-1) == 0 and -1<(x-1)<8 and -1<(y-1)<8:\n",
    "            list_checked.append((x-1)*10+(y-1))\n",
    "            check_case(x-1,y-1)\n",
    "        else:\n",
    "            list_checked.append((x-1)*10+(y-1))\n",
    "        \n",
    "    if ((x)*10 + y-1) not in list_checked:\n",
    "        if count_bombs_around(x,y-1) == 0 and -1<x<8 and -1<(y-1)<8:\n",
    "            list_checked.append(x*10+(y-1))\n",
    "            check_case(x,y-1)\n",
    "        else:\n",
    "            list_checked.append(x*10+(y-1))\n",
    "        \n",
    "    if ((x+1)*10 + y-1) not in list_checked:\n",
    "        if count_bombs_around(x+1,y-1) == 0 and -1<(x+1)<8 and -1<(y-1)<8:\n",
    "            list_checked.append((x+1)*10+(y-1))\n",
    "            check_case(x+1,y-1)\n",
    "        else:\n",
    "            list_checked.append((x+1)*10+(y-1))\n",
    "            \n",
    "    return list_checked;"
   ]
  },
  {
   "cell_type": "markdown",
   "metadata": {},
   "source": [
    "Et la seconde va simplement colorer de la bonne couleur (par rapport au nombre de bombes à proximité) les cases extraites de la liste crée par la première fonction :"
   ]
  },
  {
   "cell_type": "code",
   "execution_count": null,
   "metadata": {},
   "outputs": [],
   "source": [
    "# Function that color the box during the spread\n",
    "def color_case(list):\n",
    "    \n",
    "    i = 0\n",
    "    while i < len(list):\n",
    "        y = list[i] % 10\n",
    "        x = int((list[i] - y) / 10)\n",
    "        i += 1\n",
    "        print(x)\n",
    "        print(y)\n",
    "        \n",
    "        nb = count_bombs_around(x,y)\n",
    "        \n",
    "        if -1 < x < 8 and -1 < y < 8:\n",
    "            if nb == 0:\n",
    "                sense.set_pixel(x,y,white)\n",
    "            elif nb == 1:\n",
    "                sense.set_pixel(x,y,yellow)\n",
    "            elif nb == 2:\n",
    "                sense.set_pixel(x,y,orange)\n",
    "            elif nb == 3:\n",
    "                sense.set_pixel(x,y,corail)\n",
    "            elif nb == 4:\n",
    "                sense.set_pixel(x,y,red)\n",
    "            elif nb == 5:\n",
    "                sense.set_pixel(x,y,bordeau)\n",
    "            else:\n",
    "                sense.set_pixel(x,y,black)"
   ]
  },
  {
   "cell_type": "markdown",
   "metadata": {},
   "source": [
    "#### Fonction qui termine le jeu :\n",
    "   Cette fonction a pour but de vérifier que le jeu n'est pas fini. Elle compte toutes les cases encores cachées. Tant que ce nombre est plus grand que le nombre de bombes, le jeu n'est pas fini tandis que si ce nombre est égal au nombre de bombes, la partie est terminée et la fonction affiche le message \"You won\" puis elle relance une partie. Cette fonction est appelée après chaque action."
   ]
  },
  {
   "cell_type": "code",
   "execution_count": null,
   "metadata": {},
   "outputs": [],
   "source": [
    "# Function that check for every action if the game is over:\n",
    "def end_game():\n",
    "    \n",
    "    x = -1\n",
    "    y = -1\n",
    "    nb = 0\n",
    "    \n",
    "    for i in range(8):\n",
    "        x += 1\n",
    "        for j in range(8):\n",
    "            y += 1\n",
    "            if sense.get_pixel(x,y) == [88,92,104]:\n",
    "                nb += 1\n",
    "        y = -1\n",
    "        \n",
    "    if nb == nb_bombs:\n",
    "        sense.show_message(\"You won\")\n",
    "        # We restart the game:\n",
    "        new_game(nb_bombs)"
   ]
  },
  {
   "cell_type": "markdown",
   "metadata": {},
   "source": [
    "#### Fonction qui lance le jeu :\n",
    "   La fonction new_game a comme objectif de tout initialiser pour le début du jeu. Elle génère une nouvelle liste de bombes, remet les variables à zéro et réinitialise le plateau de jeu. Elle utilise des fonctions définie précédement."
   ]
  },
  {
   "cell_type": "code",
   "execution_count": null,
   "metadata": {},
   "outputs": [],
   "source": [
    "def new_game(nb):\n",
    "    \n",
    "    # We select the external variable that will contain the bombs list\n",
    "    global List_bomb\n",
    "    \n",
    "    # Random placement of bombs\n",
    "    List_bomb = choose_bomb(nb)\n",
    "    \n",
    "    print(List_bomb)\n",
    "    \n",
    "    # We initialize the game board\n",
    "    set_all_in_gray()\n",
    "    \n",
    "\n",
    "    # Initialization of deplacement variables\n",
    "    global x\n",
    "    global y\n",
    "    \n",
    "    x = 0\n",
    "    y = 0"
   ]
  },
  {
   "cell_type": "markdown",
   "metadata": {},
   "source": [
    "#### Fonction qui utlise une case :\n",
    "Pour finir, cette dernière fonction est utlisée lorsque l'on appuie sur le bouton du milieu du joystick. Elle sert à sélectionner une case à propos de laquelle le joueur ne pense pas qu'il y a une bombe. Elle va regarder si c'est une bombe, si c'est le cas elle termine le jeu et relance une nouvelle partie, sinon, elle propage les cases si besoin puis elle colore la ou les case(s) avec la couleur correspondant au nombre de bombes à proximité."
   ]
  },
  {
   "cell_type": "code",
   "execution_count": null,
   "metadata": {},
   "outputs": [],
   "source": [
    "# Function that performs the action on the selected cell:\n",
    "def use_case(x,y):\n",
    "\n",
    "    global List_bomb\n",
    "    \n",
    "    xy = x * 10 + y\n",
    "    \n",
    "    if sense.get_pixel(x,y) == [88,92,104]:\n",
    "        # We check if it is a bomb :\n",
    "        if xy in List_bomb and xy not in list_flag:\n",
    "            sense.clear(255,0,0)\n",
    "            sleep(5)\n",
    "            # We restart the game:\n",
    "            new_game(nb_bombs)\n",
    "        else:\n",
    "            # If there is no bomb around, we start the spread :\n",
    "            if count_bombs_around(x,y) == 0:\n",
    "                list_case_checked = check_case(x,y)\n",
    "            else:\n",
    "                xy = x * 10 + y\n",
    "                list_case_checked = [xy]\n",
    "            # After the end of the spread, we set a color to all the boxes\n",
    "            color_case(list_case_checked)\n",
    "            # At the end of use_case we reset the list for the next use :\n",
    "            list_checked = []           \n",
    "                \n",
    "            # At the end of use_case we check if the game is over\n",
    "            end_game()"
   ]
  },
  {
   "cell_type": "markdown",
   "metadata": {},
   "source": [
    "### Gestion du joystick :\n",
    "   Cette partie est très importante car il s'agit de celle qui va gérer le déplacement sur le plateau ainsi que le fait d'effectuer des actions. Les mouvements _\"haut\"_, _\"bas\"_, _\"droit\"_ et _\"gauche\"_ permettent de déplacer la case sélectionnée. Le bouton _milieu\"_ quant à lui permet d'utiliser la case."
   ]
  },
  {
   "cell_type": "code",
   "execution_count": null,
   "metadata": {},
   "outputs": [],
   "source": [
    "#############################################\n",
    "#            Start of the game              #\n",
    "#############################################\n",
    "\n",
    "# We use the function of game start:\n",
    "new_game(nb_bombs)\n",
    "\n",
    "# Part that manages the deplacement with joystick:\n",
    "while game:\n",
    "    while running:\n",
    "        for event in sense.stick.get_events():         \n",
    "            if event.action == 'held' and event.direction == 'middle':   \n",
    "                xy_flag = x * 10 + y\n",
    "                if xy_flag not in list_flag:\n",
    "                    list_flag.append(xy_flag)\n",
    "                    sense.set_pixel(x,y,green)\n",
    "                else:\n",
    "                     list_flag.remove(xy_flag)\n",
    "                    \n",
    "            if event.action == 'pressed':\n",
    "                sense.set_pixel(x,y,old_color)\n",
    "                if event.direction == 'down' and y < 7: \n",
    "                    y = y + 1\n",
    "                    old_color = sense.get_pixel(x,y)     \n",
    "                elif event.direction == 'up' and y > 0:\n",
    "                    y = y - 1\n",
    "                    old_color = sense.get_pixel(x,y)    \n",
    "                elif event.direction == 'right' and x < 7:\n",
    "                    x = x + 1\n",
    "                    old_color = sense.get_pixel(x,y)  \n",
    "                elif event.direction == 'left' and x > 0:\n",
    "                    x = x - 1\n",
    "                    old_color = sense.get_pixel(x,y) \n",
    "                elif event.direction == 'middle':\n",
    "                    use_case(x,y)\n",
    "                    running = False\n",
    "                    \n",
    "        if running == True:        \n",
    "            # On crée le clignotement :\n",
    "            t = int(3 * time())\n",
    "            if t % 2 == 0:\n",
    "                sense.set_pixel(x,y,old_color)\n",
    "            else:\n",
    "                sense.set_pixel(x,y,green)\n",
    "        \n",
    "    if running == False:\n",
    "        for event in sense.stick.get_events():\n",
    "            if event.action == 'pressed':\n",
    "                if event.direction == 'down' or event.direction == 'up' or event.direction == 'right' or event.direction == 'left':\n",
    "                    \n",
    "                    running = True\n",
    "                    if event.direction == 'down' and y < 7:\n",
    "                        y = y + 1\n",
    "                    elif event.direction == 'up' and y > 0:\n",
    "                        y = y - 1\n",
    "                    elif event.direction == 'right' and x < 7:\n",
    "                        x = x + 1\n",
    "                    elif event.direction == 'left' and x > 0:\n",
    "                        x = x - 1"
   ]
  },
  {
   "cell_type": "markdown",
   "metadata": {},
   "source": [
    "## Améliorations à apporter :\n",
    "\n",
    "Les points suivants pourraient être améliorer ou ajouter à notre jeu :\n",
    "\n",
    "- Possibilité de choisir le nombre de bombes en début de partie.\n",
    "- Système de niveau de difficulté avec progression.\n",
    "- Simplifier et compacter le code."
   ]
  }
 ],
 "metadata": {
  "kernelspec": {
   "display_name": "Python 3",
   "language": "python",
   "name": "python3"
  },
  "language_info": {
   "codemirror_mode": {
    "name": "ipython",
    "version": 3
   },
   "file_extension": ".py",
   "mimetype": "text/x-python",
   "name": "python",
   "nbconvert_exporter": "python",
   "pygments_lexer": "ipython3",
   "version": "3.5.3"
  }
 },
 "nbformat": 4,
 "nbformat_minor": 2
}
