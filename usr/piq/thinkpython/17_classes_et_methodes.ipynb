{
 "cells": [
  {
   "cell_type": "markdown",
   "metadata": {},
   "source": [
    "# 17 Classes et méthodes"
   ]
  },
  {
   "cell_type": "markdown",
   "metadata": {},
   "source": [
    "Python est un **langage de programmation orienté objet** (POO): \n",
    "\n",
    "* une classes est un modèle pour créer des objets (instances)\n",
    "* les objets representent des choses du monde réel\n",
    "* les méthodes permettent de interagir avec ces objets\n",
    "\n",
    "Une **méthode** est similaire à une fonction, mais elle est définit à l'intérieur d'une classe."
   ]
  },
  {
   "cell_type": "markdown",
   "metadata": {},
   "source": [
    "## La méthode ``__init__``\n",
    "\n",
    "La méthode ``init`` (raccourci de initialisation) est une méthode spéciale qui est appelé quand un objet est instantié. Elle permet d'initialier les attributs principales directement lors de la création d'objet."
   ]
  },
  {
   "cell_type": "code",
   "execution_count": 1,
   "metadata": {},
   "outputs": [],
   "source": [
    "class Point:\n",
    "    \"\"\"Represent a point in 2D space (x, y).\"\"\"\n",
    "    \n",
    "    def __init__(self, x=0, y=0):\n",
    "        self.x = x\n",
    "        self.y = y\n",
    "        \n",
    "    def __str__(self):\n",
    "        return '({}, {})'.format(self.x, self.y)"
   ]
  },
  {
   "cell_type": "markdown",
   "metadata": {},
   "source": [
    "* Le premier argument de ``__init__`` est toujours ``self``\n",
    "* Tous les paramètres d'initialisation ont une valeur par défaut (``x=0, y=0``)"
   ]
  },
  {
   "cell_type": "markdown",
   "metadata": {},
   "source": [
    "Le mot-clé ``self`` représente l'objet lui-même. L'expression ``self.x = x`` initialise l'attribut ``x`` du point."
   ]
  },
  {
   "cell_type": "code",
   "execution_count": 2,
   "metadata": {},
   "outputs": [],
   "source": [
    "pt = Point(4, 5)"
   ]
  },
  {
   "cell_type": "code",
   "execution_count": 3,
   "metadata": {},
   "outputs": [
    {
     "name": "stdout",
     "output_type": "stream",
     "text": [
      "(4, 5)\n",
      "4\n",
      "5\n"
     ]
    }
   ],
   "source": [
    "print(pt)\n",
    "print(pt.x)\n",
    "print(pt.y)"
   ]
  },
  {
   "cell_type": "code",
   "execution_count": 4,
   "metadata": {},
   "outputs": [
    {
     "data": {
      "text/plain": [
       "{'x': 4, 'y': 5}"
      ]
     },
     "execution_count": 4,
     "metadata": {},
     "output_type": "execute_result"
    }
   ],
   "source": [
    "vars(pt)"
   ]
  },
  {
   "cell_type": "markdown",
   "metadata": {},
   "source": [
    "Définissons une méthode ``init`` également pour ``Time``."
   ]
  },
  {
   "cell_type": "code",
   "execution_count": 5,
   "metadata": {},
   "outputs": [],
   "source": [
    "class Time:\n",
    "    \"\"\"Represent the time of the day.\n",
    "    Attributs: hour, min, sec.\"\"\"\n",
    "    \n",
    "    def __init__(self, hour=0, min=0, sec=0):\n",
    "        self.hour = hour\n",
    "        self.min = min\n",
    "        self.sec = sec\n",
    "        \n",
    "    def __str__(self):\n",
    "        return '{:02}:{:02}:{:02}'.format(self.hour, self.min, self.sec)"
   ]
  },
  {
   "cell_type": "markdown",
   "metadata": {},
   "source": [
    "Créons deux instances de la classe ``Time``."
   ]
  },
  {
   "cell_type": "code",
   "execution_count": 6,
   "metadata": {},
   "outputs": [],
   "source": [
    "t0 = Time()\n",
    "t1 = Time(14, 2, 15)"
   ]
  },
  {
   "cell_type": "markdown",
   "metadata": {},
   "source": [
    "Affichons les objets et leurs attributs."
   ]
  },
  {
   "cell_type": "code",
   "execution_count": 7,
   "metadata": {},
   "outputs": [
    {
     "name": "stdout",
     "output_type": "stream",
     "text": [
      "00:00:00\n",
      "14:02:15\n",
      "0 0 0\n",
      "14 2 15\n"
     ]
    }
   ],
   "source": [
    "print(t0)\n",
    "print(t1)\n",
    "print(t0.hour, t0.min, t0.sec)\n",
    "print(t1.hour, t1.min, t1.sec)"
   ]
  },
  {
   "cell_type": "markdown",
   "metadata": {},
   "source": [
    "## La méthode ``__str__``\n",
    "La méthode ``__str__`` est une méthode spéciale qui fournie une représentation de l'objet sous forme de chaine de caractères."
   ]
  },
  {
   "cell_type": "code",
   "execution_count": 8,
   "metadata": {},
   "outputs": [],
   "source": [
    "class Vec3:\n",
    "    \"\"\"Represent a vector in 3D space (x, y, z).\"\"\"\n",
    "    \n",
    "    def __init__(self, x=0, y=0, z=0):\n",
    "        self.x = x\n",
    "        self.y = y\n",
    "        self.z = z\n",
    "        \n",
    "    def __str__(self):\n",
    "        return '({}, {}, {})'.format(self.x, self.y, self.z)"
   ]
  },
  {
   "cell_type": "markdown",
   "metadata": {},
   "source": [
    "Testons cette nouvelle méthode avec deux points différents:"
   ]
  },
  {
   "cell_type": "code",
   "execution_count": 9,
   "metadata": {},
   "outputs": [
    {
     "name": "stdout",
     "output_type": "stream",
     "text": [
      "(3, 4, 5)\n",
      "(5, 7, 9)\n"
     ]
    }
   ],
   "source": [
    "p1 = Vec3(3, 4, 5)\n",
    "p2 = Vec3(5, 7, 9)\n",
    "print(p1)\n",
    "print(p2)"
   ]
  },
  {
   "cell_type": "markdown",
   "metadata": {},
   "source": [
    "Créons également une méthode ``__str__`` pour la classe ``Time``."
   ]
  },
  {
   "cell_type": "code",
   "execution_count": 10,
   "metadata": {},
   "outputs": [],
   "source": [
    "class Time:\n",
    "    \"\"\"Represent the time of the day.\n",
    "    Attributs: hour, min, sec.\"\"\"\n",
    "    \n",
    "    def __init__(self, hour=0, min=0, sec=0):\n",
    "        self.hour = hour\n",
    "        self.min = min\n",
    "        self.sec = sec\n",
    "        \n",
    "    def __str__(self):\n",
    "        return '{:02}:{:02}:{:02}'.format(self.hour, self.min, self.sec)"
   ]
  },
  {
   "cell_type": "markdown",
   "metadata": {},
   "source": [
    "Testons cette nouvelle méthode avec deux temps différents:"
   ]
  },
  {
   "cell_type": "code",
   "execution_count": 11,
   "metadata": {},
   "outputs": [
    {
     "name": "stdout",
     "output_type": "stream",
     "text": [
      "00:00:00\n",
      "12:09:05\n"
     ]
    }
   ],
   "source": [
    "t0 = Time()\n",
    "t1 = Time(12, 9, 5)\n",
    "print(t0)\n",
    "print(t1)"
   ]
  },
  {
   "cell_type": "code",
   "execution_count": 12,
   "metadata": {},
   "outputs": [],
   "source": [
    "class Rect:\n",
    "    \"\"\"Represent a rectangle.\"\"\"\n",
    "    \n",
    "    def __init__(self, x, y, w, l):\n",
    "        self.x = x\n",
    "        self.y = y\n",
    "        self.w = w\n",
    "        self.l = l\n",
    "    \n",
    "    def __str__(self):\n",
    "        return 'Rect at ({}, {}) of size ({}, {})'.format(self.x, self.y, self.w, self.l)"
   ]
  },
  {
   "cell_type": "code",
   "execution_count": 13,
   "metadata": {},
   "outputs": [
    {
     "name": "stdout",
     "output_type": "stream",
     "text": [
      "Rect at (2, 3) of size (4, 5)\n"
     ]
    }
   ],
   "source": [
    "r1 = Rect(2, 3, 4, 5)\n",
    "print(r1)"
   ]
  },
  {
   "cell_type": "markdown",
   "metadata": {},
   "source": [
    "## Surcharge d'opérateurs\n",
    "En définissant d'autres méthodes spéciales, vous pouvez utiliser des opérateurs tels que ``+``, ``-``, ``*``, etc. avec vos objets. Cette modification du comportement d'un opérateur s'appelle la **surcharge d'opérateur**."
   ]
  },
  {
   "cell_type": "code",
   "execution_count": 14,
   "metadata": {},
   "outputs": [],
   "source": [
    "import math\n",
    "class Vec2:\n",
    "    \"\"\"Represent a vector in 2D space (x, y).\"\"\"\n",
    "    \n",
    "    def __init__(self, x=0, y=0):\n",
    "        self.x = x\n",
    "        self.y = y\n",
    "        \n",
    "    def __str__(self):\n",
    "        return '({}, {})'.format(self.x, self.y)\n",
    "    \n",
    "    def __add__(self, other):\n",
    "        return Vec2(self.x + other.x, self.y + other.y)\n",
    "    \n",
    "    def __sub__(self, other):\n",
    "        return Vec2(self.x - other.x, self.y - other.y)\n",
    "    \n",
    "    def norm(self):\n",
    "        return math.sqrt(self.x**2 + self.y**2)"
   ]
  },
  {
   "cell_type": "code",
   "execution_count": 15,
   "metadata": {},
   "outputs": [
    {
     "name": "stdout",
     "output_type": "stream",
     "text": [
      "(3, 5)\n",
      "(6, 10)\n",
      "4.47213595499958\n"
     ]
    }
   ],
   "source": [
    "v1 = Vec2(2, 4)\n",
    "v2 = Vec2(1, 1)\n",
    "print(v1 + v2)\n",
    "print(v1 + v1 + v2+ v2)\n",
    "print(v1.norm())"
   ]
  },
  {
   "cell_type": "markdown",
   "metadata": {},
   "source": [
    "Les méthodes spéciales permettent de surcharger les 6 opérateurs de comparaisons:\n",
    "```\n",
    "<   object.__lt__(self, other)\n",
    "<=  object.__le__(self, other)\n",
    "==  object.__eq__(self, other)\n",
    "!=  object.__ne__(self, other)\n",
    ">   object.__gt__(self, other)\n",
    ">=  object.__ge__(self, other`\n",
    "```"
   ]
  },
  {
   "cell_type": "markdown",
   "metadata": {},
   "source": [
    "Les méthodes spéciales suivantss permettent de surcharger les opérateurs mathématiques:\n",
    "```\n",
    "+  object.__add__(self, other)\n",
    "-  object.__sub__(self, other)\n",
    "*  object.__mul__(self, other)\n",
    "/  object.__truediv__(self, other)\n",
    "// object.__floordiv__(self, other)\n",
    "%  object.__mod__(self, other)\n",
    "** object.__pow__(self, other[, modulo])\n",
    "<  object.__lshift__(self, other)\n",
    ">  object.__rshift__(self, other)\n",
    "&  object.__and__(self, other)\n",
    "^  object.__xor__(self, other)\n",
    "|  object.__or__(self, other)\n",
    "```"
   ]
  },
  {
   "cell_type": "markdown",
   "metadata": {},
   "source": [
    "**Exercice**  \n",
    "À titre d'exercice, écrivez une méthode **add** pour des objets **Point** qui fonctionne sur un objet de type Point ou un tuple :\n",
    "\n",
    "* si le second opérande est un Point, la méthode doit retourner un nouveau Point dont l'abscisse x est la somme des abscisses x des opérandes, et dont l'ordonnée y est la somme des ordonnées y ;\n",
    "* si le second opérande est un tuple, la méthode doit additionner le premier élément du tuple à l'abscisse x et le second élément à l'ordonnée y, et renvoyer un nouveau Point dont les coordonnées représentent le résultat."
   ]
  },
  {
   "cell_type": "markdown",
   "metadata": {},
   "source": [
    "## Polymorphisme\n",
    "Les fonctions qui acceptes plusieurs types de paramètres sont dites **polymorphe**. La fonction interne ``sum`` fonctionne avec toutes les types qui ont une méthode ``add``."
   ]
  },
  {
   "cell_type": "code",
   "execution_count": null,
   "metadata": {},
   "outputs": [],
   "source": [
    "sum([1, 2, 3])"
   ]
  },
  {
   "cell_type": "markdown",
   "metadata": {},
   "source": [
    "La fonction ``vars(obj)`` retourne un dictionnaire avec tous les attributs d'un object."
   ]
  },
  {
   "cell_type": "code",
   "execution_count": null,
   "metadata": {},
   "outputs": [],
   "source": [
    "vars(p1)"
   ]
  }
 ],
 "metadata": {
  "kernelspec": {
   "display_name": "Python 3",
   "language": "python",
   "name": "python3"
  },
  "language_info": {
   "codemirror_mode": {
    "name": "ipython",
    "version": 3
   },
   "file_extension": ".py",
   "mimetype": "text/x-python",
   "name": "python",
   "nbconvert_exporter": "python",
   "pygments_lexer": "ipython3",
   "version": "3.7.0"
  }
 },
 "nbformat": 4,
 "nbformat_minor": 2
}
