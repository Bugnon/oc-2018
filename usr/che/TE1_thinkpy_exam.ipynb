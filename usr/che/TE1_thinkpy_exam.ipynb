{
 "cells": [
  {
   "cell_type": "markdown",
   "metadata": {},
   "source": [
    "# Travail Ecrit - Python\n",
    "* Gymnase du Bugnon, site de l'Ours\n",
    "* OC informatique\n",
    "* Sujet : chapitres 1-10 du livre *Pensez en Python*\n",
    "* Raphael Holzer\n",
    "* Date : jeudi 13 novembre 2018"
   ]
  },
  {
   "cell_type": "markdown",
   "metadata": {},
   "source": [
    "## **Exercice : expression arithmétique**  \n",
    "Initialisez les variables `(a, b, c, x)` avec les valeurs `(2, 3, 4, 5)`.  \n",
    "Calculez l'expression \n",
    "\n",
    "$$y = a x^2 + b x +c$$\n",
    "\n",
    "et imprimez le résultat."
   ]
  },
  {
   "cell_type": "code",
   "execution_count": 1,
   "metadata": {},
   "outputs": [
    {
     "name": "stdout",
     "output_type": "stream",
     "text": [
      "69\n"
     ]
    }
   ],
   "source": [
    "(a, b, c, x) = (2, 3, 4, 5)\n",
    "y = a * x**2 + b * x + c\n",
    "print(y)\n"
   ]
  },
  {
   "cell_type": "markdown",
   "metadata": {},
   "source": [
    "## **Exercice : fonction surface**  \n",
    "Importez le module `math`,  \n",
    "définissez une fonction `surface(r)` qui calcule $s = \\pi r^2$,  \n",
    "affichez avec un texte descriptif le résultat pour `r=5` "
   ]
  },
  {
   "cell_type": "code",
   "execution_count": 2,
   "metadata": {},
   "outputs": [
    {
     "name": "stdout",
     "output_type": "stream",
     "text": [
      "78.53981633974483\n"
     ]
    }
   ],
   "source": [
    "import math\n",
    "def surface(r):\n",
    "    s = math.pi * r**2\n",
    "    return s\n",
    "print(surface(5))"
   ]
  },
  {
   "cell_type": "markdown",
   "metadata": {},
   "source": [
    "## **Exercice : formule quadratique**  \n",
    "La solution d'une formule quadratique de forme\n",
    "\n",
    "$$ a x^2 + b x +c = 0 $$\n",
    "\n",
    "dépend du terme $\\Delta = b^2 - 4 a c$\n",
    "* Si $\\Delta < 0$ il n'y a pas de solution\n",
    "* Si $\\Delta = 0$ il y a une solution : $x = \\frac{-b}{2 a}$\n",
    "* Si $\\Delta > 0$ il y a deux solutions : \n",
    "$x_1 = \\frac{-b +\\sqrt\\Delta}{2 a}$ and $x_2 = \\frac{-b -\\sqrt\\Delta}{2 a}$\n",
    "\n",
    "Définissez une fonction `quadratique(a, b, c)` qui retourne la solution à l'équation quadratique dans les 3 cas: `None`, `x`, `[x1, x2]`\n",
    ".\n",
    "\n",
    "Montrez la solution pour `quadratique(1, 2, 3)`, `quadratique(1, 2, 1)` et `quadratique(1, 2, -1)`"
   ]
  },
  {
   "cell_type": "code",
   "execution_count": 3,
   "metadata": {},
   "outputs": [
    {
     "name": "stdout",
     "output_type": "stream",
     "text": [
      "None\n",
      "-1.0\n",
      "[0.41421356237309515, -2.414213562373095]\n"
     ]
    }
   ],
   "source": [
    "import math\n",
    "def quadratique(a, b, c):\n",
    "    discriminant = b**2 - 4 * a * c\n",
    "    if discriminant == 0:\n",
    "        x = -b/(2*a)\n",
    "        return x\n",
    "    elif discriminant < 0:\n",
    "        return None\n",
    "    else:\n",
    "        x1 =((-b + math.sqrt(discriminant)) /(2*a))\n",
    "        x2 = ((-b - math.sqrt(discriminant)) / (2*a))\n",
    "        return [x1, x2]\n",
    "    \n",
    "print(quadratique(1, 2, 3))\n",
    "print(quadratique(1, 2, 1))\n",
    "print(quadratique(1, 2, -1))"
   ]
  },
  {
   "cell_type": "markdown",
   "metadata": {},
   "source": [
    "## **Exercice : capitalize**  \n",
    "Créez une fonction `capitalize(c)` qui transforme une lettre en majuscule si c'est une minuscule, ou la laisse inchangée autrement."
   ]
  },
  {
   "cell_type": "code",
   "execution_count": 10,
   "metadata": {},
   "outputs": [
    {
     "data": {
      "text/plain": [
       "('a', 'B', '3')"
      ]
     },
     "execution_count": 10,
     "metadata": {},
     "output_type": "execute_result"
    }
   ],
   "source": [
    "def capitalize(c):\n",
    "        if c == c.islower():\n",
    "            return c.upper()\n",
    "        else: \n",
    "            return c\n",
    "\n",
    "capitalize('a'), capitalize('B'), capitalize('3')"
   ]
  },
  {
   "cell_type": "markdown",
   "metadata": {},
   "source": [
    "## **Exercice : capitalize words**  \n",
    "Créez une fonction `capitalize_words(s)` qui transforme la première lettre de tous les mots en majuscule."
   ]
  },
  {
   "cell_type": "code",
   "execution_count": 53,
   "metadata": {},
   "outputs": [
    {
     "ename": "AttributeError",
     "evalue": "'tuple' object has no attribute 'islower'",
     "output_type": "error",
     "traceback": [
      "\u001b[0;31m---------------------------------------------------------------------------\u001b[0m",
      "\u001b[0;31mAttributeError\u001b[0m                            Traceback (most recent call last)",
      "\u001b[0;32m<ipython-input-53-5075ee675923>\u001b[0m in \u001b[0;36m<module>\u001b[0;34m\u001b[0m\n\u001b[1;32m      8\u001b[0m \u001b[0ma\u001b[0m \u001b[0;34m=\u001b[0m \u001b[0;34m'are'\u001b[0m\u001b[0;34m\u001b[0m\u001b[0m\n\u001b[1;32m      9\u001b[0m \u001b[0mb\u001b[0m \u001b[0;34m=\u001b[0m \u001b[0;34m'you'\u001b[0m\u001b[0;34m\u001b[0m\u001b[0m\n\u001b[0;32m---> 10\u001b[0;31m \u001b[0mcapitalize_words\u001b[0m\u001b[0;34m(\u001b[0m\u001b[0;34m'hello world, how are you?'\u001b[0m\u001b[0;34m)\u001b[0m\u001b[0;34m\u001b[0m\u001b[0m\n\u001b[0m",
      "\u001b[0;32m<ipython-input-53-5075ee675923>\u001b[0m in \u001b[0;36mcapitalize_words\u001b[0;34m(s)\u001b[0m\n\u001b[1;32m      1\u001b[0m \u001b[0;32mdef\u001b[0m \u001b[0mcapitalize_words\u001b[0m\u001b[0;34m(\u001b[0m\u001b[0ms\u001b[0m\u001b[0;34m)\u001b[0m\u001b[0;34m:\u001b[0m\u001b[0;34m\u001b[0m\u001b[0m\n\u001b[1;32m      2\u001b[0m     \u001b[0mc\u001b[0m \u001b[0;34m=\u001b[0m \u001b[0;34m(\u001b[0m\u001b[0mx\u001b[0m\u001b[0;34m[\u001b[0m\u001b[0;36m1\u001b[0m\u001b[0;34m]\u001b[0m\u001b[0;34m,\u001b[0m \u001b[0my\u001b[0m\u001b[0;34m[\u001b[0m\u001b[0;36m1\u001b[0m\u001b[0;34m]\u001b[0m\u001b[0;34m,\u001b[0m \u001b[0mz\u001b[0m\u001b[0;34m[\u001b[0m\u001b[0;36m1\u001b[0m\u001b[0;34m]\u001b[0m\u001b[0;34m,\u001b[0m \u001b[0ma\u001b[0m\u001b[0;34m[\u001b[0m\u001b[0;36m1\u001b[0m\u001b[0;34m]\u001b[0m\u001b[0;34m,\u001b[0m \u001b[0mb\u001b[0m\u001b[0;34m[\u001b[0m\u001b[0;36m1\u001b[0m\u001b[0;34m]\u001b[0m\u001b[0;34m)\u001b[0m\u001b[0;34m\u001b[0m\u001b[0m\n\u001b[0;32m----> 3\u001b[0;31m     \u001b[0;32mif\u001b[0m \u001b[0mc\u001b[0m \u001b[0;34m==\u001b[0m \u001b[0mc\u001b[0m\u001b[0;34m.\u001b[0m\u001b[0mislower\u001b[0m\u001b[0;34m:\u001b[0m\u001b[0;34m\u001b[0m\u001b[0m\n\u001b[0m\u001b[1;32m      4\u001b[0m         \u001b[0;32mreturn\u001b[0m \u001b[0mc\u001b[0m\u001b[0;34m.\u001b[0m\u001b[0misupper\u001b[0m\u001b[0;34m\u001b[0m\u001b[0m\n\u001b[1;32m      5\u001b[0m \u001b[0mx\u001b[0m \u001b[0;34m=\u001b[0m\u001b[0;34m'hello'\u001b[0m\u001b[0;34m\u001b[0m\u001b[0m\n",
      "\u001b[0;31mAttributeError\u001b[0m: 'tuple' object has no attribute 'islower'"
     ]
    }
   ],
   "source": [
    "def capitalize_words(s):\n",
    "    c = (x[1], y[1], z[1], a[1], b[1])\n",
    "    if c == c.islower:\n",
    "        return c.isupper\n",
    "x ='hello' \n",
    "y = 'world'\n",
    "z = 'how'\n",
    "a = 'are'\n",
    "b = 'you'\n",
    "capitalize_words('hello world, how are you?')"
   ]
  },
  {
   "cell_type": "markdown",
   "metadata": {},
   "source": [
    "## **Exercice : tranches**  \n",
    "Expliquez ce que font les 6 opérateurs de **tranches** ci-dessous."
   ]
  },
  {
   "cell_type": "code",
   "execution_count": null,
   "metadata": {},
   "outputs": [],
   "source": [
    "# s[2]   - il imprime la deuxième lettre d'un mot par exemple ou le deuxieme chiffre d'une liste\n",
    "# s[:2]  - il imprime les valeurs depuis le debut de s jusqu'a la valeur numéro 2 (si s est une liste de chiffres)\n",
    "# s[::2]  - il fait pareil que s[:2]\n",
    "# s[-1]   - il imprime la derniere valeur de s (donc la derniere lettre d'un mot par exemple)\n",
    "# s[:-1]  - il imprime toutes les valeurs de s jusqu'a l'avant derniere valeur\n",
    "# s[::-1] - il inverse l'ordre des valeurs de s (le debut est a la fin)"
   ]
  },
  {
   "cell_type": "code",
   "execution_count": 37,
   "metadata": {},
   "outputs": [
    {
     "name": "stdout",
     "output_type": "stream",
     "text": [
      "hello\n"
     ]
    }
   ],
   "source": [
    "'hello'\n",
    "print('hello')"
   ]
  },
  {
   "cell_type": "markdown",
   "metadata": {},
   "source": [
    "## **Exercice : longueur spécifique**   \n",
    "Le fichier `words.text` contient 58110 mots en anglais.  \n",
    "Affichez les $n=5$ premiers mots qui ont une longueur de $m=10$ et affichez leur nombre total."
   ]
  },
  {
   "cell_type": "code",
   "execution_count": 49,
   "metadata": {},
   "outputs": [
    {
     "name": "stdout",
     "output_type": "stream",
     "text": [
      "abbreviate\n",
      "5\n"
     ]
    }
   ],
   "source": [
    "fin = open('words.txt')\n",
    "n = 5\n",
    "m = 10\n",
    "for line in fin:\n",
    "    line = line.strip()\n",
    "    if len(line) == m :\n",
    "        print(line)\n",
    "        n += 1\n",
    "    else:\n",
    "        None\n",
    "        \n",
    "    if n>5:\n",
    "        break\n",
    "print(n-1)"
   ]
  },
  {
   "cell_type": "markdown",
   "metadata": {},
   "source": [
    "## **Exercice : répétition**.  \n",
    "Affchez les $m=5$ premiers mots qui sont composé de deux parties répétées (par exemple **bonbon**)."
   ]
  },
  {
   "cell_type": "code",
   "execution_count": 63,
   "metadata": {},
   "outputs": [
    {
     "ename": "SyntaxError",
     "evalue": "'return' outside function (<ipython-input-63-7e541d695b89>, line 6)",
     "output_type": "error",
     "traceback": [
      "\u001b[0;36m  File \u001b[0;32m\"<ipython-input-63-7e541d695b89>\"\u001b[0;36m, line \u001b[0;32m6\u001b[0m\n\u001b[0;31m    return None\u001b[0m\n\u001b[0m    ^\u001b[0m\n\u001b[0;31mSyntaxError\u001b[0m\u001b[0;31m:\u001b[0m 'return' outside function\n"
     ]
    }
   ],
   "source": [
    "fin = open('words.txt')\n",
    "m = 5\n",
    "for line in fin:\n",
    "    line = line.strip()\n",
    "    if line == 'mot' + 'autre':\n",
    "            return None\n",
    "    elif line == 'mot'*2:\n",
    "        print(line)\n",
    "    else:\n",
    "        return None\n",
    "\n",
    "    if m > 5:\n",
    "        break\n",
    "print(line)"
   ]
  },
  {
   "cell_type": "markdown",
   "metadata": {},
   "source": [
    "## **Exercice : minimum**  \n",
    "Créez une fonction `min(L)` qui retourne le minimum d'une liste et l'index de sa position sous forme de list `[val, pos]`\n",
    "."
   ]
  },
  {
   "cell_type": "code",
   "execution_count": null,
   "metadata": {},
   "outputs": [],
   "source": [
    "def min(L):\n",
    "    \n",
    "                   \n",
    "L = [1, 3, 34, -4, -2, 100]\n",
    "min(L)"
   ]
  },
  {
   "cell_type": "markdown",
   "metadata": {},
   "source": [
    "## **Exercice : moyenne**  \n",
    "Ecrivez une fonction `mean(L)` qui retourne la moyenne d'une liste.\n",
    "."
   ]
  },
  {
   "cell_type": "code",
   "execution_count": 57,
   "metadata": {},
   "outputs": [
    {
     "ename": "TypeError",
     "evalue": "'type' object is not iterable",
     "output_type": "error",
     "traceback": [
      "\u001b[0;31m---------------------------------------------------------------------------\u001b[0m",
      "\u001b[0;31mTypeError\u001b[0m                                 Traceback (most recent call last)",
      "\u001b[0;32m<ipython-input-57-30033ea9b374>\u001b[0m in \u001b[0;36m<module>\u001b[0;34m\u001b[0m\n\u001b[1;32m      8\u001b[0m         \u001b[0;32mreturn\u001b[0m \u001b[0mmoyenne\u001b[0m\u001b[0;34m\u001b[0m\u001b[0m\n\u001b[1;32m      9\u001b[0m \u001b[0;34m\u001b[0m\u001b[0m\n\u001b[0;32m---> 10\u001b[0;31m \u001b[0mprint\u001b[0m\u001b[0;34m(\u001b[0m\u001b[0mmean\u001b[0m\u001b[0;34m(\u001b[0m\u001b[0mL\u001b[0m\u001b[0;34m)\u001b[0m\u001b[0;34m)\u001b[0m\u001b[0;34m\u001b[0m\u001b[0m\n\u001b[0m",
      "\u001b[0;32m<ipython-input-57-30033ea9b374>\u001b[0m in \u001b[0;36mmean\u001b[0;34m(L)\u001b[0m\n\u001b[1;32m      1\u001b[0m \u001b[0;32mdef\u001b[0m \u001b[0mmean\u001b[0m\u001b[0;34m(\u001b[0m\u001b[0mL\u001b[0m\u001b[0;34m)\u001b[0m\u001b[0;34m:\u001b[0m\u001b[0;34m\u001b[0m\u001b[0m\n\u001b[0;32m----> 2\u001b[0;31m     \u001b[0;32mfor\u001b[0m \u001b[0mL\u001b[0m \u001b[0;32min\u001b[0m \u001b[0mlist\u001b[0m\u001b[0;34m:\u001b[0m\u001b[0;34m\u001b[0m\u001b[0m\n\u001b[0m\u001b[1;32m      3\u001b[0m         \u001b[0mn\u001b[0m \u001b[0;34m=\u001b[0m \u001b[0;36m6\u001b[0m\u001b[0;34m\u001b[0m\u001b[0m\n\u001b[1;32m      4\u001b[0m         \u001b[0mL\u001b[0m \u001b[0;34m=\u001b[0m \u001b[0;34m[\u001b[0m\u001b[0;36m1\u001b[0m\u001b[0;34m,\u001b[0m \u001b[0;36m3\u001b[0m\u001b[0;34m,\u001b[0m \u001b[0;36m34\u001b[0m\u001b[0;34m,\u001b[0m \u001b[0;34m-\u001b[0m\u001b[0;36m4\u001b[0m\u001b[0;34m,\u001b[0m \u001b[0;34m-\u001b[0m\u001b[0;36m2\u001b[0m\u001b[0;34m,\u001b[0m \u001b[0;36m100\u001b[0m\u001b[0;34m]\u001b[0m\u001b[0;34m\u001b[0m\u001b[0m\n\u001b[1;32m      5\u001b[0m         \u001b[0maddition\u001b[0m \u001b[0;34m=\u001b[0m \u001b[0mL\u001b[0m\u001b[0;34m[\u001b[0m\u001b[0;36m1\u001b[0m\u001b[0;34m]\u001b[0m \u001b[0;34m+\u001b[0m \u001b[0mL\u001b[0m\u001b[0;34m[\u001b[0m\u001b[0;36m2\u001b[0m\u001b[0;34m]\u001b[0m \u001b[0;34m+\u001b[0m \u001b[0mL\u001b[0m\u001b[0;34m[\u001b[0m\u001b[0;36m3\u001b[0m\u001b[0;34m]\u001b[0m \u001b[0;34m+\u001b[0m \u001b[0mL\u001b[0m\u001b[0;34m[\u001b[0m\u001b[0;36m4\u001b[0m\u001b[0;34m]\u001b[0m \u001b[0;34m+\u001b[0m \u001b[0mL\u001b[0m\u001b[0;34m[\u001b[0m\u001b[0;36m5\u001b[0m\u001b[0;34m]\u001b[0m \u001b[0;34m+\u001b[0m \u001b[0mL\u001b[0m\u001b[0;34m[\u001b[0m\u001b[0;36m6\u001b[0m\u001b[0;34m]\u001b[0m\u001b[0;34m\u001b[0m\u001b[0m\n",
      "\u001b[0;31mTypeError\u001b[0m: 'type' object is not iterable"
     ]
    }
   ],
   "source": [
    "def mean(L):\n",
    "    for L in list:\n",
    "        n = 6                   \n",
    "        L = [1, 3, 34, -4, -2, 100]\n",
    "        addition = L[1] + L[2] + L[3] + L[4] + L[5] + L[6]\n",
    "    for i in L:\n",
    "        moyenne = addition/n\n",
    "        return moyenne\n",
    "                        \n",
    "print(mean(L))"
   ]
  }
 ],
 "metadata": {
  "kernelspec": {
   "display_name": "Python 3",
   "language": "python",
   "name": "python3"
  },
  "language_info": {
   "codemirror_mode": {
    "name": "ipython",
    "version": 3
   },
   "file_extension": ".py",
   "mimetype": "text/x-python",
   "name": "python",
   "nbconvert_exporter": "python",
   "pygments_lexer": "ipython3",
   "version": "3.7.1"
  },
  "toc-autonumbering": true
 },
 "nbformat": 4,
 "nbformat_minor": 2
}
