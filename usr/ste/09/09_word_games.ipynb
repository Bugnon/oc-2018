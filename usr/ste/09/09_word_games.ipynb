{
 "cells": [
  {
   "cell_type": "markdown",
   "metadata": {},
   "source": [
    "# Jouer avec les mots"
   ]
  },
  {
   "cell_type": "markdown",
   "metadata": {},
   "source": [
    "Les mots utilisés dans ce chapitre sont des mots français pour le Scrabble de Jean-Philippe Durand, disponible sous http://jph.durand.free.fr/scrabble.txt"
   ]
  },
  {
   "cell_type": "markdown",
   "metadata": {},
   "source": [
    "## Lire des listes de mots"
   ]
  },
  {
   "cell_type": "code",
   "execution_count": 1,
   "metadata": {},
   "outputs": [],
   "source": [
    "fin = open('mots.txt')"
   ]
  },
  {
   "cell_type": "markdown",
   "metadata": {},
   "source": [
    "Le premier mot est *AA* qui est une sorte de lave. Les mots se terminent par le caractère de saut de ligne `\\n` (newline)."
   ]
  },
  {
   "cell_type": "code",
   "execution_count": 2,
   "metadata": {},
   "outputs": [
    {
     "data": {
      "text/plain": [
       "'AA\\n'"
      ]
     },
     "execution_count": 2,
     "metadata": {},
     "output_type": "execute_result"
    }
   ],
   "source": [
    "fin.readline()"
   ]
  },
  {
   "cell_type": "markdown",
   "metadata": {},
   "source": [
    "L'objet `fin` garde en mémoire la ligne lu, et continue avec la prochaine ligne."
   ]
  },
  {
   "cell_type": "code",
   "execution_count": 3,
   "metadata": {},
   "outputs": [
    {
     "data": {
      "text/plain": [
       "'AH\\n'"
      ]
     },
     "execution_count": 3,
     "metadata": {},
     "output_type": "execute_result"
    }
   ],
   "source": [
    "fin.readline()"
   ]
  },
  {
   "cell_type": "markdown",
   "metadata": {},
   "source": [
    "Nous pouvons nous débarasser du newline avec la fonction `strip`"
   ]
  },
  {
   "cell_type": "code",
   "execution_count": 4,
   "metadata": {},
   "outputs": [
    {
     "data": {
      "text/plain": [
       "'AI'"
      ]
     },
     "execution_count": 4,
     "metadata": {},
     "output_type": "execute_result"
    }
   ],
   "source": [
    "fin.readline().strip()"
   ]
  },
  {
   "cell_type": "code",
   "execution_count": 9,
   "metadata": {},
   "outputs": [
    {
     "name": "stdout",
     "output_type": "stream",
     "text": [
      "KA\n",
      "LA\n",
      "LE\n",
      "LI\n",
      "LU\n",
      "MA\n",
      "ME\n",
      "MI\n",
      "MU\n",
      "NA\n"
     ]
    }
   ],
   "source": [
    "for i in range(10):\n",
    "    print(fin.readline().strip())"
   ]
  },
  {
   "cell_type": "markdown",
   "metadata": {},
   "source": [
    "## ex 1 - Mots avec 14 caractères"
   ]
  },
  {
   "cell_type": "code",
   "execution_count": 10,
   "metadata": {},
   "outputs": [
    {
     "name": "stdout",
     "output_type": "stream",
     "text": [
      "ABANDONNERAIENT\n",
      "ABASOURDIRAIENT\n",
      "ABASOURDISSANTE\n",
      "ABASOURDISSANTS\n",
      "ABOLITIONNISTES\n",
      "ABRACADABRANTES\n",
      "ABSTENTIONNISME\n",
      "ABSTENTIONNISTE\n",
      "ACCLIMATERAIENT\n",
      "ACCOMMODERAIENT\n",
      "ACCOMPAGNATEURS\n",
      "ACCOMPAGNATRICE\n",
      "ACCOMPAGNEMENTS\n",
      "ACCOMPAGNERIONS\n",
      "ACCOMPLISSAIENT\n",
      "ACCOMPLISSEMENT\n",
      "ACCOUTUMERAIENT\n",
      "ACCREDITERAIENT\n",
      "ACCUEILLERAIENT\n",
      "ACQUIESCERAIENT\n",
      "ACTUALISERAIENT\n"
     ]
    }
   ],
   "source": [
    "fin = open('mots.txt')\n",
    "n = 0\n",
    "for line in fin:\n",
    "    line = line.strip()\n",
    "    if len(line)>14:\n",
    "        print(line)\n",
    "        n += 1\n",
    "    if n>20:\n",
    "        break"
   ]
  },
  {
   "cell_type": "markdown",
   "metadata": {},
   "source": [
    "## ex 2 - mots sans E"
   ]
  },
  {
   "cell_type": "code",
   "execution_count": 11,
   "metadata": {},
   "outputs": [
    {
     "data": {
      "text/plain": [
       "(False, True)"
      ]
     },
     "execution_count": 11,
     "metadata": {},
     "output_type": "execute_result"
    }
   ],
   "source": [
    "def sans_e(mot):\n",
    "    return not 'E' in mot\n",
    "\n",
    "sans_e('HELLO'), sans_e('CIAO')"
   ]
  },
  {
   "cell_type": "code",
   "execution_count": 13,
   "metadata": {},
   "outputs": [
    {
     "name": "stdout",
     "output_type": "stream",
     "text": [
      "ABASOURDISSANTS\n",
      "ADMINISTRATIONS\n",
      "AFFRANCHISSIONS\n",
      "APPROFONDIRIONS\n",
      "APPROFONDISSAIS\n",
      "APPROFONDISSAIT\n",
      "APPROFONDISSANT\n",
      "APPROFONDISSONS\n",
      "APPROVISIONNAIS\n",
      "APPROVISIONNAIT\n",
      "APPROVISIONNANT\n"
     ]
    }
   ],
   "source": [
    "fin = open('mots.txt')\n",
    "n = 0\n",
    "for line in fin:\n",
    "    line = line.strip()\n",
    "    if len(line)>14 and sans_e(line):\n",
    "        print(line)\n",
    "        n += 1\n",
    "    if n>10:\n",
    "        break"
   ]
  },
  {
   "cell_type": "code",
   "execution_count": 14,
   "metadata": {},
   "outputs": [
    {
     "name": "stdout",
     "output_type": "stream",
     "text": [
      "18020 0.1380240048407975\n"
     ]
    }
   ],
   "source": [
    "fin = open('mots.txt')\n",
    "n = 0\n",
    "i = 0\n",
    "for line in fin:\n",
    "    line = line.strip()\n",
    "    n += 1\n",
    "    if sans_e(line):\n",
    "        i += 1\n",
    "print(i, i/n)"
   ]
  },
  {
   "cell_type": "markdown",
   "metadata": {},
   "source": [
    "## ex 3 - eviter"
   ]
  },
  {
   "cell_type": "code",
   "execution_count": 17,
   "metadata": {},
   "outputs": [
    {
     "data": {
      "text/plain": [
       "(False, True)"
      ]
     },
     "execution_count": 17,
     "metadata": {},
     "output_type": "execute_result"
    }
   ],
   "source": [
    "def evite(mot, interdit):\n",
    "    for c in mot:\n",
    "        if c in interdit: \n",
    "            return False\n",
    "    return True\n",
    "\n",
    "evite('hello', 'epfl'), evite('ciao', 'epfl')"
   ]
  },
  {
   "cell_type": "code",
   "execution_count": 22,
   "metadata": {},
   "outputs": [
    {
     "name": "stdout",
     "output_type": "stream",
     "text": [
      "forbidden letters = AIUEO\n",
      "VS\n",
      "CPT\n",
      "DRY\n",
      "GYM\n",
      "LYS\n",
      "PFF\n",
      "PST\n",
      "PSY\n",
      "GYMS\n",
      "LYNX\n",
      "13\n"
     ]
    }
   ],
   "source": [
    "interdit = input('forbidden letters = ')\n",
    "fin = open('mots.txt')\n",
    "interdit = interdit.upper()\n",
    "n = 0\n",
    "k = 0\n",
    "for line in fin:\n",
    "    line = line.strip()\n",
    "    if evite(line, interdit):\n",
    "        n += 1\n",
    "        if k < 10:\n",
    "            print(line)\n",
    "            k += 1\n",
    "print(n)"
   ]
  },
  {
   "cell_type": "markdown",
   "metadata": {},
   "source": [
    "## ex 4 - utiliser seulement"
   ]
  },
  {
   "cell_type": "code",
   "execution_count": 24,
   "metadata": {},
   "outputs": [
    {
     "data": {
      "text/plain": [
       "(True, False)"
      ]
     },
     "execution_count": 24,
     "metadata": {},
     "output_type": "execute_result"
    }
   ],
   "source": [
    "def utilise(mot, permis):\n",
    "    for c in mot:\n",
    "        if c not in permis:\n",
    "            return False\n",
    "    return True\n",
    "\n",
    "utilise('hello', 'helpo'), utilise('hello', 'hefko'), "
   ]
  },
  {
   "cell_type": "code",
   "execution_count": 28,
   "metadata": {},
   "outputs": [
    {
     "name": "stdout",
     "output_type": "stream",
     "text": [
      "allowed letters = acefhlo\n",
      "AA\n",
      "AH\n",
      "CA\n",
      "CE\n",
      "EH\n",
      "FA\n",
      "HA\n",
      "HE\n",
      "HO\n",
      "LA\n",
      "122\n"
     ]
    }
   ],
   "source": [
    "permis = input('allowed letters = ')\n",
    "fin = open('mots.txt')\n",
    "permis = permis.upper()\n",
    "n = 0\n",
    "k = 0\n",
    "for line in fin:\n",
    "    line = line.strip()\n",
    "    if utilise(line, permis):\n",
    "        n += 1\n",
    "        if k < 10:\n",
    "            print(line)\n",
    "            k += 1\n",
    "print(n)"
   ]
  },
  {
   "cell_type": "markdown",
   "metadata": {},
   "source": [
    "## ex 5 - utiliser tous"
   ]
  },
  {
   "cell_type": "code",
   "execution_count": 30,
   "metadata": {},
   "outputs": [
    {
     "data": {
      "text/plain": [
       "(True, False)"
      ]
     },
     "execution_count": 30,
     "metadata": {},
     "output_type": "execute_result"
    }
   ],
   "source": [
    "def utilise_tout(mot, lettres):\n",
    "    for c in lettres:\n",
    "        if c not in mot:\n",
    "            return False\n",
    "    return True\n",
    "\n",
    "utilise_tout('hello', 'hel'), utilise_tout('hello', 'helk')"
   ]
  },
  {
   "cell_type": "code",
   "execution_count": 32,
   "metadata": {},
   "outputs": [
    {
     "name": "stdout",
     "output_type": "stream",
     "text": [
      "NOYAUTIEZ\n",
      "NOYAUTERAI\n",
      "ROUGEOYAIT\n",
      "RUDOYAIENT\n",
      "TUTOYAIENT\n",
      "YAOURTIERE\n",
      "COUDOYAIENT\n",
      "LOUVOYAIENT\n",
      "NOYAUTAIENT\n",
      "NOYAUTERAIS\n",
      "60\n"
     ]
    }
   ],
   "source": [
    "lettres = 'aeiouy'.upper()\n",
    "fin = open('mots.txt')\n",
    "n = 0\n",
    "k = 0\n",
    "for line in fin:\n",
    "    line = line.strip()\n",
    "    if utilise_tout(line, lettres):\n",
    "        n += 1\n",
    "        if k < 10:\n",
    "            print(line)\n",
    "            k += 1\n",
    "print(n)"
   ]
  },
  {
   "cell_type": "markdown",
   "metadata": {},
   "source": [
    "## ex 6 - ordre alphabétique"
   ]
  },
  {
   "cell_type": "code",
   "execution_count": 34,
   "metadata": {},
   "outputs": [
    {
     "data": {
      "text/plain": [
       "(False, True)"
      ]
     },
     "execution_count": 34,
     "metadata": {},
     "output_type": "execute_result"
    }
   ],
   "source": [
    "def est_en_ordre_alphabetique(mot):\n",
    "    n = len(mot)\n",
    "    for i in range(n-1):\n",
    "        if mot[i]>mot[i+1]:\n",
    "            return False\n",
    "    return True\n",
    "\n",
    "est_en_ordre_alphabetique('hello'), est_en_ordre_alphabetique('bello'),"
   ]
  },
  {
   "cell_type": "code",
   "execution_count": 41,
   "metadata": {
    "scrolled": false
   },
   "outputs": [
    {
     "name": "stdout",
     "output_type": "stream",
     "text": [
      "ABBES\n",
      "ABCES\n",
      "ACCES\n",
      "ACCRU\n",
      "AGIOS\n",
      "ALORS\n",
      "BIJOU\n",
      "BOSSU\n",
      "CEINT\n",
      "CHIOT\n",
      "205\n"
     ]
    }
   ],
   "source": [
    "fin = open('mots.txt')\n",
    "n = 0\n",
    "k = 0\n",
    "for line in fin:\n",
    "    line = line.strip()\n",
    "    if est_en_ordre_alphabetique(line):\n",
    "        n += 1\n",
    "        if 180 < n and k<10:\n",
    "            print(line)\n",
    "            k += 1\n",
    "print(n)"
   ]
  },
  {
   "cell_type": "markdown",
   "metadata": {},
   "source": [
    "## Exercices"
   ]
  },
  {
   "cell_type": "markdown",
   "metadata": {},
   "source": [
    "### ex - 3 fois une lettre double"
   ]
  },
  {
   "cell_type": "markdown",
   "metadata": {},
   "source": [
    "Trouver un mot avec 3 fois une lettre double, conséqutifs."
   ]
  },
  {
   "cell_type": "code",
   "execution_count": 16,
   "metadata": {},
   "outputs": [
    {
     "data": {
      "text/plain": [
       "(False, False, True)"
      ]
     },
     "execution_count": 16,
     "metadata": {},
     "output_type": "execute_result"
    }
   ],
   "source": [
    "def double_letters(s):\n",
    "    n = len(s)\n",
    "    for i in range(n-5):\n",
    "        if s[i] == s[i+1] and s[i+2] == s[i+3] and s[i+4] == s[i+5]:\n",
    "            return True\n",
    "    return False\n",
    "\n",
    "double_letters('hello'), double_letters('helloo'), double_letters('heelloo'), "
   ]
  },
  {
   "cell_type": "code",
   "execution_count": 14,
   "metadata": {},
   "outputs": [
    {
     "name": "stdout",
     "output_type": "stream",
     "text": [
      "IRREELLE\n",
      "IRREELLES\n"
     ]
    }
   ],
   "source": [
    "fin = open('mots.txt')\n",
    "for line in fin:\n",
    "    word = line.strip()\n",
    "    if double_letters(word):\n",
    "        print(word)"
   ]
  },
  {
   "cell_type": "markdown",
   "metadata": {},
   "source": [
    "### ex - palindromes"
   ]
  },
  {
   "cell_type": "code",
   "execution_count": 22,
   "metadata": {
    "collapsed": true
   },
   "outputs": [
    {
     "name": "stdout",
     "output_type": "stream",
     "text": [
      "1001\n",
      "1111\n",
      "1221\n",
      "1331\n",
      "1441\n",
      "1551\n",
      "1661\n",
      "1771\n",
      "1881\n",
      "1991\n",
      "2002\n",
      "2112\n",
      "2222\n",
      "2332\n",
      "2442\n",
      "2552\n",
      "2662\n",
      "2772\n",
      "2882\n",
      "2992\n",
      "3003\n",
      "3113\n",
      "3223\n",
      "3333\n",
      "3443\n",
      "3553\n",
      "3663\n",
      "3773\n",
      "3883\n",
      "3993\n",
      "4004\n",
      "4114\n",
      "4224\n",
      "4334\n",
      "4444\n",
      "4554\n",
      "4664\n",
      "4774\n",
      "4884\n",
      "4994\n",
      "5005\n",
      "5115\n",
      "5225\n",
      "5335\n",
      "5445\n",
      "5555\n",
      "5665\n",
      "5775\n",
      "5885\n",
      "5995\n",
      "6006\n",
      "6116\n",
      "6226\n",
      "6336\n",
      "6446\n",
      "6556\n",
      "6666\n",
      "6776\n",
      "6886\n",
      "6996\n",
      "7007\n",
      "7117\n",
      "7227\n",
      "7337\n",
      "7447\n",
      "7557\n",
      "7667\n",
      "7777\n",
      "7887\n",
      "7997\n",
      "8008\n",
      "8118\n",
      "8228\n",
      "8338\n",
      "8448\n",
      "8558\n",
      "8668\n",
      "8778\n",
      "8888\n",
      "8998\n",
      "9009\n",
      "9119\n",
      "9229\n",
      "9339\n",
      "9449\n",
      "9559\n",
      "9669\n",
      "9779\n",
      "9889\n"
     ]
    }
   ],
   "source": [
    "for i in range(1000, 9999):\n",
    "    s = str(i)\n",
    "    if (s[0]==s[3] and s[1]==s[2]):\n",
    "        print(i)"
   ]
  },
  {
   "cell_type": "code",
   "execution_count": 26,
   "metadata": {},
   "outputs": [
    {
     "name": "stdout",
     "output_type": "stream",
     "text": [
      "198888\n",
      "199999\n"
     ]
    }
   ],
   "source": [
    "for i in range(100000, 999999):\n",
    "    s = str(i)\n",
    "    if (s[2]==s[5] and s[3]==s[4]):\n",
    "        i += 1\n",
    "        s = str(i)\n",
    "        if (s[1]==s[5] and s[2]==s[4]):\n",
    "            i += 1\n",
    "            s = str(i)\n",
    "            if (s[1]==s[4] and s[2]==s[3]):\n",
    "                i += 1\n",
    "                s = str(i)\n",
    "                if (s[0]==s[5] and s[1]==s[4]) and s[2]==s[3]:\n",
    "                    print(i-3)"
   ]
  },
  {
   "cell_type": "markdown",
   "metadata": {},
   "source": [
    "### ex age"
   ]
  },
  {
   "cell_type": "code",
   "execution_count": 42,
   "metadata": {},
   "outputs": [
    {
     "name": "stdout",
     "output_type": "stream",
     "text": [
      "18\n"
     ]
    }
   ],
   "source": [
    "for dif in range(15, 100):\n",
    "    n = 0\n",
    "    for mom in range(dif, 100):\n",
    "        s = str(mom-dif).zfill(2)\n",
    "        m = str(mom)\n",
    "        if s[0]==m[1] and s[1]==m[0]:\n",
    "            n += 1\n",
    "    if n == 8:\n",
    "        print(dif)"
   ]
  },
  {
   "cell_type": "code",
   "execution_count": 43,
   "metadata": {},
   "outputs": [
    {
     "name": "stdout",
     "output_type": "stream",
     "text": [
      "02 20\n",
      "13 31\n",
      "24 42\n",
      "35 53\n",
      "46 64\n",
      "57 75\n",
      "68 86\n",
      "79 97\n"
     ]
    }
   ],
   "source": [
    "dif = 18\n",
    "for mom in range(dif, 100):\n",
    "    s = str(mom-dif).zfill(2)\n",
    "    m = str(mom)\n",
    "    if s[0]==m[1] and s[1]==m[0]:\n",
    "        print(s, m)"
   ]
  },
  {
   "cell_type": "markdown",
   "metadata": {},
   "source": [
    "La différence d'age est 18, et l'age actuel est 57."
   ]
  },
  {
   "cell_type": "code",
   "execution_count": null,
   "metadata": {},
   "outputs": [],
   "source": []
  }
 ],
 "metadata": {
  "kernelspec": {
   "display_name": "Python 3",
   "language": "python",
   "name": "python3"
  },
  "language_info": {
   "codemirror_mode": {
    "name": "ipython",
    "version": 3
   },
   "file_extension": ".py",
   "mimetype": "text/x-python",
   "name": "python",
   "nbconvert_exporter": "python",
   "pygments_lexer": "ipython3",
   "version": "3.6.5"
  },
  "toc": {
   "base_numbering": "9",
   "nav_menu": {},
   "number_sections": true,
   "sideBar": true,
   "skip_h1_title": false,
   "title_cell": "Table of Contents",
   "title_sidebar": "Contents",
   "toc_cell": false,
   "toc_position": {},
   "toc_section_display": true,
   "toc_window_display": true
  }
 },
 "nbformat": 4,
 "nbformat_minor": 2
}
