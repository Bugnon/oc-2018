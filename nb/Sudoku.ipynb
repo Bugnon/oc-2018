{
 "cells": [
  {
   "cell_type": "markdown",
   "metadata": {},
   "source": [
    "# Sudoku"
   ]
  },
  {
   "cell_type": "markdown",
   "metadata": {},
   "source": [
    "Le jeu **Sudoku** est composé d'une grille de 9x9 cellules. 3x3 cellules sont groupé en box.\n",
    "\n",
    "https://en.wikipedia.org/wiki/Sudoku_solving_algorithms"
   ]
  },
  {
   "cell_type": "code",
   "execution_count": 38,
   "metadata": {},
   "outputs": [],
   "source": [
    "import numpy as np"
   ]
  },
  {
   "cell_type": "code",
   "execution_count": 31,
   "metadata": {},
   "outputs": [],
   "source": [
    "s = \"\"\"53  7    \n",
    "6  195   \n",
    " 98    6 \n",
    "8   6   3\n",
    "4  8 3  1\n",
    "7   2   6\n",
    " 6    28 \n",
    "   419  5\n",
    "    8  79\n",
    "\"\"\""
   ]
  },
  {
   "cell_type": "code",
   "execution_count": 32,
   "metadata": {},
   "outputs": [
    {
     "data": {
      "text/plain": [
       "90"
      ]
     },
     "execution_count": 32,
     "metadata": {},
     "output_type": "execute_result"
    }
   ],
   "source": [
    "len(s)"
   ]
  },
  {
   "cell_type": "code",
   "execution_count": 35,
   "metadata": {},
   "outputs": [
    {
     "data": {
      "text/plain": [
       "['53  7    ',\n",
       " '6  195   ',\n",
       " ' 98    6 ',\n",
       " '8   6   3',\n",
       " '4  8 3  1',\n",
       " '7   2   6',\n",
       " ' 6    28 ',\n",
       " '   419  5',\n",
       " '    8  79']"
      ]
     },
     "execution_count": 35,
     "metadata": {},
     "output_type": "execute_result"
    }
   ],
   "source": [
    "s1 = s.splitlines()\n",
    "s1"
   ]
  },
  {
   "cell_type": "code",
   "execution_count": 156,
   "metadata": {},
   "outputs": [],
   "source": [
    "a = [[1, 2, 3, 4, 5, 6, 7, 8, 9],\n",
    "     [4, 5, 6, 7, 8, 9, 1, 2, 3],\n",
    "     [7, 8, 9, 1, 2, 3, 4, 5, 6],\n",
    "     [2, 3, 4, 5, 6, 7, 8, 9, 1],\n",
    "     [5, 6, 7, 8, 9, 1, 2, 3, 4],\n",
    "     [8, 9, 1, 2, 3, 4, 5, 6, 7],\n",
    "     [3, 4, 5, 6, 7, 8, 9, 1, 2],\n",
    "     [6, 7, 8, 9, 1, 2, 3, 4, 5],\n",
    "     [9, 1, 2, 3, 4, 5, 6, 7, 8]]"
   ]
  },
  {
   "cell_type": "code",
   "execution_count": 22,
   "metadata": {},
   "outputs": [
    {
     "data": {
      "text/plain": [
       "{'1', '2', '3', '4', '5', '6', '7', '8', '9'}"
      ]
     },
     "execution_count": 22,
     "metadata": {},
     "output_type": "execute_result"
    }
   ],
   "source": [
    "set('123456789')"
   ]
  },
  {
   "cell_type": "code",
   "execution_count": 37,
   "metadata": {},
   "outputs": [
    {
     "name": "stdout",
     "output_type": "stream",
     "text": [
      "{'5', '7', '3'}\n",
      "{'5', '9', '1', '6'}\n",
      "{'9', '8', '6'}\n",
      "{'8', '3', '6'}\n",
      "{'4', '1', '3', '8'}\n",
      "{'7', '2', '6'}\n",
      "{'6', '2', '8'}\n",
      "{'5', '9', '4', '1'}\n",
      "{'7', '9', '8'}\n"
     ]
    }
   ],
   "source": [
    "for line in s1:\n",
    "    print(set(line)-{' '})"
   ]
  },
  {
   "cell_type": "code",
   "execution_count": 30,
   "metadata": {},
   "outputs": [
    {
     "data": {
      "text/plain": [
       "'53  7    \\n6  195   \\n 98    6 \\n8   6   3\\n4  8 3  1\\n7   2   6\\n 6    28 \\n   419  5\\n    8  79\\n'"
      ]
     },
     "execution_count": 30,
     "metadata": {},
     "output_type": "execute_result"
    }
   ],
   "source": [
    "s"
   ]
  },
  {
   "cell_type": "markdown",
   "metadata": {},
   "source": [
    "We define the sudoko board as a numpy array."
   ]
  },
  {
   "cell_type": "code",
   "execution_count": 161,
   "metadata": {},
   "outputs": [],
   "source": [
    "a = np.array([  [5, 3, 0, 0, 7, 0, 0, 0, 0],\n",
    "                [6, 0, 0, 1, 9, 5, 0, 0, 0],\n",
    "                [0, 9, 8, 0, 0, 0, 0, 6, 0],\n",
    "                [8, 0, 0, 0, 6, 0, 0, 0, 3],\n",
    "                [4, 0, 0, 8, 0, 3, 0, 0, 1],\n",
    "                [7, 0, 0, 0, 2, 0, 0, 0, 6],\n",
    "                [0, 6, 0, 0, 0, 0, 2, 8, 0],\n",
    "                [0, 0, 0, 4, 1, 9, 0, 0, 5],\n",
    "                [0, 0, 0, 0, 8, 0, 0, 7, 9]])"
   ]
  },
  {
   "cell_type": "markdown",
   "metadata": {},
   "source": [
    "We can print it to the console and the numbers are nicely aligned."
   ]
  },
  {
   "cell_type": "code",
   "execution_count": 162,
   "metadata": {},
   "outputs": [
    {
     "name": "stdout",
     "output_type": "stream",
     "text": [
      "[[5 3 0 0 7 0 0 0 0]\n",
      " [6 0 0 1 9 5 0 0 0]\n",
      " [0 9 8 0 0 0 0 6 0]\n",
      " [8 0 0 0 6 0 0 0 3]\n",
      " [4 0 0 8 0 3 0 0 1]\n",
      " [7 0 0 0 2 0 0 0 6]\n",
      " [0 6 0 0 0 0 2 8 0]\n",
      " [0 0 0 4 1 9 0 0 5]\n",
      " [0 0 0 0 8 0 0 7 9]]\n"
     ]
    }
   ],
   "source": [
    "print(a)"
   ]
  },
  {
   "cell_type": "markdown",
   "metadata": {},
   "source": [
    "We can check the number of cells"
   ]
  },
  {
   "cell_type": "code",
   "execution_count": 163,
   "metadata": {},
   "outputs": [
    {
     "data": {
      "text/plain": [
       "81"
      ]
     },
     "execution_count": 163,
     "metadata": {},
     "output_type": "execute_result"
    }
   ],
   "source": [
    "a.size"
   ]
  },
  {
   "cell_type": "markdown",
   "metadata": {},
   "source": [
    "And also the shape. It's a 9x9 matrix."
   ]
  },
  {
   "cell_type": "code",
   "execution_count": 164,
   "metadata": {},
   "outputs": [
    {
     "data": {
      "text/plain": [
       "(2, (9, 9))"
      ]
     },
     "execution_count": 164,
     "metadata": {},
     "output_type": "execute_result"
    }
   ],
   "source": [
    "a.ndim, a.shape"
   ]
  },
  {
   "cell_type": "markdown",
   "metadata": {},
   "source": [
    "How many clues do we have ? Let's first flatten the matrix, and then remove the zeros."
   ]
  },
  {
   "cell_type": "markdown",
   "metadata": {},
   "source": [
    "## Access rows and columns"
   ]
  },
  {
   "cell_type": "markdown",
   "metadata": {},
   "source": [
    "Accessing the first row"
   ]
  },
  {
   "cell_type": "code",
   "execution_count": 92,
   "metadata": {},
   "outputs": [
    {
     "data": {
      "text/plain": [
       "array([5, 3, 0, 0, 7, 0, 0, 0, 0])"
      ]
     },
     "execution_count": 92,
     "metadata": {},
     "output_type": "execute_result"
    }
   ],
   "source": [
    "a[0,:]"
   ]
  },
  {
   "cell_type": "markdown",
   "metadata": {},
   "source": [
    "Accessing the first column"
   ]
  },
  {
   "cell_type": "code",
   "execution_count": 95,
   "metadata": {},
   "outputs": [
    {
     "data": {
      "text/plain": [
       "array([5, 6, 0, 8, 4, 7, 0, 0, 0])"
      ]
     },
     "execution_count": 95,
     "metadata": {},
     "output_type": "execute_result"
    }
   ],
   "source": [
    "a[:,0]"
   ]
  },
  {
   "cell_type": "markdown",
   "metadata": {},
   "source": [
    "Elements of first column"
   ]
  },
  {
   "cell_type": "code",
   "execution_count": 98,
   "metadata": {},
   "outputs": [
    {
     "data": {
      "text/plain": [
       "{1, 2, 3}"
      ]
     },
     "execution_count": 98,
     "metadata": {},
     "output_type": "execute_result"
    }
   ],
   "source": [
    "d - set(a[:, 0]) - set(a[2, :])"
   ]
  },
  {
   "cell_type": "markdown",
   "metadata": {},
   "source": [
    "Print the first 3 rows, and the set of numbers present."
   ]
  },
  {
   "cell_type": "code",
   "execution_count": 106,
   "metadata": {},
   "outputs": [
    {
     "name": "stdout",
     "output_type": "stream",
     "text": [
      "[5 3 0 0 7 0 0 0 0] {3, 5, 7}\n",
      "[6 0 0 1 9 5 0 0 0] {1, 5, 6, 9}\n",
      "[0 9 8 0 0 0 0 6 0] {8, 9, 6}\n"
     ]
    }
   ],
   "source": [
    "for i in range(3):\n",
    "    print(a[i,:], set(a[i,:])-{0})"
   ]
  },
  {
   "cell_type": "markdown",
   "metadata": {},
   "source": [
    "Print the first 3 columns, and the set of numbers present."
   ]
  },
  {
   "cell_type": "code",
   "execution_count": 107,
   "metadata": {},
   "outputs": [
    {
     "name": "stdout",
     "output_type": "stream",
     "text": [
      "[5 6 0 8 4 7 0 0 0] {4, 5, 6, 7, 8}\n",
      "[3 0 9 0 0 0 6 0 0] {9, 3, 6}\n",
      "[0 0 8 0 0 0 0 0 0] {8}\n"
     ]
    }
   ],
   "source": [
    "for i in range(3):\n",
    "    print(a[:, i], set(a[:, i])-{0})"
   ]
  },
  {
   "cell_type": "code",
   "execution_count": 115,
   "metadata": {},
   "outputs": [
    {
     "data": {
      "text/plain": [
       "array([[5, 3, 0],\n",
       "       [6, 0, 0],\n",
       "       [0, 9, 8]])"
      ]
     },
     "execution_count": 115,
     "metadata": {},
     "output_type": "execute_result"
    }
   ],
   "source": [
    "sq = a[0:3, 0:3]\n",
    "sq"
   ]
  },
  {
   "cell_type": "code",
   "execution_count": 117,
   "metadata": {},
   "outputs": [
    {
     "data": {
      "text/plain": [
       "{0, 3, 5, 6, 8, 9}"
      ]
     },
     "execution_count": 117,
     "metadata": {},
     "output_type": "execute_result"
    }
   ],
   "source": [
    "set(sq.flatten())"
   ]
  },
  {
   "cell_type": "code",
   "execution_count": 119,
   "metadata": {},
   "outputs": [
    {
     "name": "stdout",
     "output_type": "stream",
     "text": [
      "[[5 3 0]\n",
      " [6 0 0]\n",
      " [0 9 8]]\n",
      "{3, 5, 6, 8, 9}\n",
      "\n",
      "[[8 0 0]\n",
      " [4 0 0]\n",
      " [7 0 0]]\n",
      "{8, 4, 7}\n",
      "\n",
      "[[0 6 0]\n",
      " [0 0 0]\n",
      " [0 0 0]]\n",
      "{6}\n",
      "\n"
     ]
    }
   ],
   "source": [
    "for i in range(3):\n",
    "    sq = a[i*3:(i+1)*3, 0:3]\n",
    "    print(sq)\n",
    "    print(set(sq.flatten())-{0})\n",
    "    print()"
   ]
  },
  {
   "cell_type": "markdown",
   "metadata": {},
   "source": [
    "## Find the number of clues"
   ]
  },
  {
   "cell_type": "code",
   "execution_count": 66,
   "metadata": {},
   "outputs": [
    {
     "data": {
      "text/plain": [
       "array([5, 3, 0, 0, 7, 0, 0, 0, 0, 6, 0, 0, 1, 9, 5, 0, 0, 0, 0, 9, 8, 0,\n",
       "       0, 0, 0, 6, 0, 8, 0, 0, 0, 6, 0, 0, 0, 3, 4, 0, 0, 8, 0, 3, 0, 0,\n",
       "       1, 7, 0, 0, 0, 2, 0, 0, 0, 6, 0, 6, 0, 0, 0, 0, 2, 8, 0, 0, 0, 0,\n",
       "       4, 1, 9, 0, 0, 5, 0, 0, 0, 0, 8, 0, 0, 7, 9])"
      ]
     },
     "execution_count": 66,
     "metadata": {},
     "output_type": "execute_result"
    }
   ],
   "source": [
    "a.flatten()"
   ]
  },
  {
   "cell_type": "code",
   "execution_count": 73,
   "metadata": {},
   "outputs": [
    {
     "name": "stdout",
     "output_type": "stream",
     "text": [
      "[5, 3, 7, 6, 1, 9, 5, 9, 8, 6, 8, 6, 3, 4, 8, 3, 1, 7, 2, 6, 6, 2, 8, 4, 1, 9, 5, 8, 7, 9]\n"
     ]
    }
   ],
   "source": [
    "b = [i for i in a.flatten() if i>0]\n",
    "print(b)"
   ]
  },
  {
   "cell_type": "code",
   "execution_count": 74,
   "metadata": {},
   "outputs": [
    {
     "data": {
      "text/plain": [
       "30"
      ]
     },
     "execution_count": 74,
     "metadata": {},
     "output_type": "execute_result"
    }
   ],
   "source": [
    "len(b)"
   ]
  },
  {
   "cell_type": "code",
   "execution_count": 152,
   "metadata": {},
   "outputs": [],
   "source": [
    "def clues(a):\n",
    "    return len([i for i in a.flatten() if i>0])"
   ]
  },
  {
   "cell_type": "code",
   "execution_count": 165,
   "metadata": {},
   "outputs": [
    {
     "data": {
      "text/plain": [
       "30"
      ]
     },
     "execution_count": 165,
     "metadata": {},
     "output_type": "execute_result"
    }
   ],
   "source": [
    "clues(a)"
   ]
  },
  {
   "cell_type": "markdown",
   "metadata": {},
   "source": [
    "Print for each row only the numbers used."
   ]
  },
  {
   "cell_type": "code",
   "execution_count": 75,
   "metadata": {},
   "outputs": [
    {
     "name": "stdout",
     "output_type": "stream",
     "text": [
      "{3, 5, 7}\n",
      "{1, 5, 6, 9}\n",
      "{8, 9, 6}\n",
      "{8, 3, 6}\n",
      "{8, 1, 3, 4}\n",
      "{2, 6, 7}\n",
      "{8, 2, 6}\n",
      "{1, 4, 5, 9}\n",
      "{8, 9, 7}\n"
     ]
    }
   ],
   "source": [
    "for row in a:\n",
    "    print(set(row)-{0})"
   ]
  },
  {
   "cell_type": "code",
   "execution_count": 82,
   "metadata": {},
   "outputs": [
    {
     "data": {
      "text/plain": [
       "{1, 2, 3, 4, 5, 6, 7, 8, 9}"
      ]
     },
     "execution_count": 82,
     "metadata": {},
     "output_type": "execute_result"
    }
   ],
   "source": [
    "d = set(range(1, 10))\n",
    "d"
   ]
  },
  {
   "cell_type": "code",
   "execution_count": 83,
   "metadata": {},
   "outputs": [
    {
     "name": "stdout",
     "output_type": "stream",
     "text": [
      "{1, 2, 4, 6, 8, 9}\n",
      "{2, 3, 4, 7, 8}\n",
      "{1, 2, 3, 4, 5, 7}\n",
      "{1, 2, 4, 5, 7, 9}\n",
      "{2, 5, 6, 7, 9}\n",
      "{1, 3, 4, 5, 8, 9}\n",
      "{1, 3, 4, 5, 7, 9}\n",
      "{2, 3, 6, 7, 8}\n",
      "{1, 2, 3, 4, 5, 6}\n"
     ]
    }
   ],
   "source": [
    "for row in a:\n",
    "    print(d - set(row))"
   ]
  },
  {
   "cell_type": "code",
   "execution_count": 86,
   "metadata": {},
   "outputs": [
    {
     "data": {
      "text/plain": [
       "array([[5, 6, 0, 8, 4, 7, 0, 0, 0],\n",
       "       [3, 0, 9, 0, 0, 0, 6, 0, 0],\n",
       "       [0, 0, 8, 0, 0, 0, 0, 0, 0],\n",
       "       [0, 1, 0, 0, 8, 0, 0, 4, 0],\n",
       "       [7, 9, 0, 6, 0, 2, 0, 1, 8],\n",
       "       [0, 5, 0, 0, 3, 0, 0, 9, 0],\n",
       "       [0, 0, 0, 0, 0, 0, 2, 0, 0],\n",
       "       [0, 0, 6, 0, 0, 0, 8, 0, 7],\n",
       "       [0, 0, 0, 3, 1, 6, 0, 5, 9]])"
      ]
     },
     "execution_count": 86,
     "metadata": {},
     "output_type": "execute_result"
    }
   ],
   "source": [
    "b = a.transpose()\n",
    "b"
   ]
  },
  {
   "cell_type": "code",
   "execution_count": 89,
   "metadata": {},
   "outputs": [
    {
     "name": "stdout",
     "output_type": "stream",
     "text": [
      "{1, 2, 3, 9}\n",
      "{1, 2, 4, 5, 7, 8}\n",
      "{1, 2, 3, 4, 5, 6, 7, 9}\n",
      "{2, 3, 5, 6, 7, 9}\n",
      "{3, 4, 5}\n",
      "{1, 2, 4, 6, 7, 8}\n",
      "{1, 3, 4, 5, 6, 7, 8, 9}\n",
      "{1, 2, 3, 4, 5, 9}\n",
      "{8, 2, 4, 7}\n"
     ]
    }
   ],
   "source": [
    "for col in b:\n",
    "    print(d - set(col))"
   ]
  },
  {
   "cell_type": "markdown",
   "metadata": {},
   "source": [
    "Print only the sets of possible solutions."
   ]
  },
  {
   "cell_type": "code",
   "execution_count": 179,
   "metadata": {},
   "outputs": [
    {
     "ename": "SyntaxError",
     "evalue": "invalid syntax (<ipython-input-179-bf5cc2eb4482>, line 9)",
     "output_type": "error",
     "traceback": [
      "\u001b[0;36m  File \u001b[0;32m\"<ipython-input-179-bf5cc2eb4482>\"\u001b[0;36m, line \u001b[0;32m9\u001b[0m\n\u001b[0;31m    print(i, ',' j, '=', s)\u001b[0m\n\u001b[0m                 ^\u001b[0m\n\u001b[0;31mSyntaxError\u001b[0m\u001b[0;31m:\u001b[0m invalid syntax\n"
     ]
    }
   ],
   "source": [
    "def solve(a):\n",
    "    for i in range(9):\n",
    "        i0 = (i//3) * 3\n",
    "        for j in range(9):\n",
    "            j0 = (j//3) *3\n",
    "            if a[i][j] == 0:\n",
    "                sq = a[i0:i0+3, j0:j0+3]\n",
    "                s = d - set(a[i, :]) - set(a[:, j]) - set(sq.flatten())\n",
    "                print(i, ',' j, '=', s)\n",
    "                if len(s)==1:\n",
    "                    a[i, j] = list(s)[0]"
   ]
  },
  {
   "cell_type": "code",
   "execution_count": 166,
   "metadata": {},
   "outputs": [
    {
     "name": "stdout",
     "output_type": "stream",
     "text": [
      "{1, 2, 4}\n",
      "{2, 6}\n",
      "{8, 2, 4, 6}\n",
      "{8, 1, 4, 9}\n",
      "{1, 2, 4, 9}\n",
      "{8, 2, 4}\n",
      "{2, 4, 7}\n",
      "{2, 4, 7}\n",
      "{8, 3, 4, 7}\n",
      "{2, 3, 4}\n",
      "{8, 2, 4, 7}\n",
      "{1, 2}\n",
      "{2, 3}\n",
      "{3, 4}\n",
      "{2, 4}\n",
      "{1, 3, 4, 5, 7}\n",
      "{2, 4, 7}\n",
      "{1, 2, 5}\n",
      "{1, 2, 5, 9}\n",
      "{9, 5, 7}\n",
      "{1, 4, 7}\n",
      "{9, 4, 5, 7}\n",
      "{9, 2, 4, 5}\n",
      "{2, 5}\n",
      "{9, 2, 5, 6}\n",
      "{5}\n",
      "{9, 7}\n",
      "{9, 2}\n",
      "{1, 5}\n",
      "{1, 3, 5, 9}\n",
      "{9}\n",
      "{1, 4}\n",
      "{8, 4, 5}\n",
      "{4, 5}\n",
      "{1, 3, 9}\n",
      "{1, 3, 4, 5, 7, 9}\n",
      "{3, 5, 7}\n",
      "{3}\n",
      "{7}\n",
      "{4}\n",
      "{2, 3}\n",
      "{8, 2, 7}\n",
      "{2, 3, 7}\n",
      "{3, 6}\n",
      "{3}\n",
      "{1, 2, 3}\n",
      "{1, 2, 4, 5}\n",
      "{1, 2, 3, 4, 5}\n",
      "{2, 5, 6}\n",
      "{2, 6}\n",
      "{1, 6}\n"
     ]
    }
   ],
   "source": [
    "solve(a)"
   ]
  },
  {
   "cell_type": "code",
   "execution_count": 167,
   "metadata": {},
   "outputs": [
    {
     "name": "stdout",
     "output_type": "stream",
     "text": [
      "{1, 2, 4}\n",
      "{2, 6}\n",
      "{8, 2, 4, 6}\n",
      "{8, 1, 4, 9}\n",
      "{1, 2, 4, 9}\n",
      "{8, 2}\n",
      "{2, 4, 7}\n",
      "{2, 4, 7}\n",
      "{8, 3, 4, 7}\n",
      "{2, 4}\n",
      "{8, 2, 7}\n",
      "{1, 2}\n",
      "{2, 3}\n",
      "{4}\n",
      "{2}\n",
      "{1, 3, 5, 7}\n",
      "{7}\n",
      "{1, 2, 5}\n",
      "{1, 2, 5, 9}\n",
      "{7}\n",
      "{1, 4}\n",
      "{9, 4, 5}\n",
      "{9, 2, 4, 5}\n",
      "{2}\n",
      "{9, 6}\n",
      "{9, 7}\n",
      "{9}\n",
      "{1, 5}\n",
      "{1, 3, 5}\n",
      "{1, 4}\n",
      "{8, 4, 5}\n",
      "{4, 5}\n",
      "{1, 9}\n",
      "{1, 5, 9}\n",
      "{5}\n",
      "{2}\n",
      "{8, 7}\n",
      "{7}\n",
      "{6}\n",
      "{1, 3}\n",
      "{1, 4, 5}\n",
      "{1, 3, 4, 5}\n",
      "{2, 6}\n",
      "{6}\n",
      "{1}\n"
     ]
    }
   ],
   "source": [
    "solve(a)"
   ]
  },
  {
   "cell_type": "code",
   "execution_count": 168,
   "metadata": {},
   "outputs": [
    {
     "name": "stdout",
     "output_type": "stream",
     "text": [
      "{1, 2, 4}\n",
      "{6}\n",
      "{8}\n",
      "{9, 4}\n",
      "{1, 2, 4}\n",
      "{2}\n",
      "{4, 7}\n",
      "{2, 4}\n",
      "{8, 3, 4}\n",
      "{4}\n",
      "{8}\n",
      "{1}\n",
      "{3}\n",
      "{5}\n",
      "{1, 5}\n",
      "{1, 5, 9}\n",
      "{1, 4}\n",
      "{4}\n",
      "{2, 5}\n",
      "{6}\n",
      "{7}\n",
      "{1, 5}\n",
      "{1, 3, 5}\n",
      "{1, 4}\n",
      "{8}\n",
      "{5}\n",
      "{9}\n",
      "{1}\n",
      "{8}\n",
      "{3}\n",
      "{4, 5}\n",
      "{4, 5}\n",
      "{2}\n"
     ]
    }
   ],
   "source": [
    "solve(a)"
   ]
  },
  {
   "cell_type": "code",
   "execution_count": 169,
   "metadata": {},
   "outputs": [
    {
     "name": "stdout",
     "output_type": "stream",
     "text": [
      "{4}\n",
      "{9}\n",
      "{1}\n",
      "{7}\n",
      "{2}\n",
      "{3}\n",
      "{1, 5}\n",
      "{9, 5}\n",
      "{1}\n",
      "{2}\n",
      "{1}\n",
      "{3}\n",
      "{4}\n",
      "{4, 5}\n",
      "{5}\n"
     ]
    }
   ],
   "source": [
    "solve(a)"
   ]
  },
  {
   "cell_type": "code",
   "execution_count": 170,
   "metadata": {},
   "outputs": [
    {
     "name": "stdout",
     "output_type": "stream",
     "text": [
      "{5}\n",
      "{9}\n",
      "{4}\n"
     ]
    }
   ],
   "source": [
    "solve(a)"
   ]
  },
  {
   "cell_type": "code",
   "execution_count": 171,
   "metadata": {},
   "outputs": [
    {
     "data": {
      "text/plain": [
       "array([[5, 3, 4, 6, 7, 8, 9, 1, 2],\n",
       "       [6, 7, 2, 1, 9, 5, 3, 4, 8],\n",
       "       [1, 9, 8, 3, 4, 2, 5, 6, 7],\n",
       "       [8, 5, 9, 7, 6, 1, 4, 2, 3],\n",
       "       [4, 2, 6, 8, 5, 3, 7, 9, 1],\n",
       "       [7, 1, 3, 9, 2, 4, 8, 5, 6],\n",
       "       [9, 6, 1, 5, 3, 7, 2, 8, 4],\n",
       "       [2, 8, 7, 4, 1, 9, 6, 3, 5],\n",
       "       [3, 4, 5, 2, 8, 6, 1, 7, 9]])"
      ]
     },
     "execution_count": 171,
     "metadata": {},
     "output_type": "execute_result"
    }
   ],
   "source": [
    "a"
   ]
  },
  {
   "cell_type": "code",
   "execution_count": 149,
   "metadata": {},
   "outputs": [],
   "source": [
    "s2 = np.array([[0, 0, 0, 0, 0, 0, 0, 0, 0],\n",
    "               [0, 0, 0, 0, 0, 3, 0, 8, 5],\n",
    "               [0, 0, 1, 0, 2, 0, 0, 0, 0],\n",
    "               [0, 0, 0, 5, 0, 7, 0, 0, 0],\n",
    "               [0, 0, 4, 0, 0, 0, 1, 0, 0],\n",
    "               [0, 9, 0, 0, 0, 0, 0, 0, 0],\n",
    "               [5, 0, 0, 0, 0, 0, 0, 7, 3],\n",
    "               [0, 0, 2, 0, 1, 0, 0, 0, 0],\n",
    "               [0, 0, 0, 0, 4, 0, 0, 0, 9]])     "
   ]
  },
  {
   "cell_type": "code",
   "execution_count": 155,
   "metadata": {},
   "outputs": [
    {
     "data": {
      "text/plain": [
       "17"
      ]
     },
     "execution_count": 155,
     "metadata": {},
     "output_type": "execute_result"
    }
   ],
   "source": [
    "clues(s2)"
   ]
  },
  {
   "cell_type": "code",
   "execution_count": 180,
   "metadata": {},
   "outputs": [
    {
     "name": "stdout",
     "output_type": "stream",
     "text": [
      "0 0 {2, 3, 4, 6, 7, 8, 9}\n",
      "0 1 {2, 3, 4, 5, 6, 7, 8}\n",
      "0 2 {3, 5, 6, 7, 8, 9}\n",
      "0 3 {1, 4, 6, 7, 8, 9}\n",
      "0 4 {5, 6, 7, 8, 9}\n",
      "0 5 {1, 4, 5, 6, 8, 9}\n",
      "0 6 {2, 3, 4, 6, 7, 9}\n",
      "0 7 {1, 2, 3, 4, 6, 9}\n",
      "0 8 {1, 2, 4, 6, 7}\n",
      "1 0 {2, 4, 6, 7, 9}\n",
      "1 1 {2, 4, 6, 7}\n",
      "1 2 {9, 6, 7}\n",
      "1 3 {1, 4, 6, 7, 9}\n",
      "1 4 {9, 6, 7}\n",
      "1 6 {2, 4, 6, 7, 9}\n",
      "2 0 {3, 4, 6, 7, 8, 9}\n",
      "2 1 {3, 4, 5, 6, 7, 8}\n",
      "2 3 {4, 6, 7, 8, 9}\n",
      "2 5 {4, 5, 6, 8, 9}\n",
      "2 6 {3, 4, 6, 7, 9}\n",
      "2 7 {9, 3, 4, 6}\n",
      "2 8 {4, 6, 7}\n",
      "3 0 {1, 2, 3, 6, 8}\n",
      "3 1 {1, 2, 3, 6, 8}\n",
      "3 2 {8, 3, 6}\n",
      "3 4 {8, 9, 3, 6}\n",
      "3 6 {2, 3, 4, 6, 8, 9}\n",
      "3 7 {2, 3, 4, 6, 9}\n",
      "3 8 {8, 2, 4, 6}\n",
      "4 0 {2, 3, 6, 7, 8}\n",
      "4 1 {2, 3, 5, 6, 7, 8}\n",
      "4 3 {2, 3, 6, 8, 9}\n",
      "4 4 {8, 9, 3, 6}\n",
      "4 5 {8, 9, 2, 6}\n",
      "4 7 {2, 3, 5, 6, 9}\n",
      "4 8 {8, 2, 6, 7}\n",
      "5 0 {1, 2, 3, 6, 7, 8}\n",
      "5 2 {3, 5, 6, 7, 8}\n",
      "5 3 {1, 2, 3, 4, 6, 8}\n",
      "5 4 {8, 3, 6}\n",
      "5 5 {1, 2, 4, 6, 8}\n",
      "5 6 {2, 3, 4, 5, 6, 7, 8}\n",
      "5 7 {2, 3, 4, 5, 6}\n",
      "5 8 {2, 4, 6, 7, 8}\n",
      "6 1 {8, 1, 4, 6}\n",
      "6 2 {8, 9, 6}\n",
      "6 3 {8, 9, 2, 6}\n",
      "6 4 {8, 9, 6}\n",
      "6 5 {8, 9, 2, 6}\n",
      "6 6 {8, 2, 4, 6}\n",
      "7 0 {3, 4, 6, 7, 8, 9}\n",
      "7 1 {3, 4, 6, 7, 8}\n",
      "7 3 {3, 6, 7, 8, 9}\n",
      "7 5 {8, 9, 5, 6}\n",
      "7 6 {8, 4, 5, 6}\n",
      "7 7 {4, 5, 6}\n",
      "7 8 {8, 4, 6}\n",
      "8 0 {1, 3, 6, 7, 8}\n",
      "8 1 {1, 3, 6, 7, 8}\n",
      "8 2 {8, 3, 6, 7}\n",
      "8 3 {2, 3, 6, 7, 8}\n",
      "8 5 {8, 2, 5, 6}\n",
      "8 6 {8, 2, 5, 6}\n",
      "8 7 {1, 2, 5, 6}\n"
     ]
    }
   ],
   "source": [
    "solve(s2)"
   ]
  },
  {
   "cell_type": "code",
   "execution_count": 181,
   "metadata": {},
   "outputs": [
    {
     "name": "stdout",
     "output_type": "stream",
     "text": [
      "0 0 {2, 3, 4, 6, 7, 8}\n",
      "0 1 {2, 3, 4, 5, 6, 7, 8}\n",
      "0 2 {3, 5, 6, 7, 8}\n",
      "0 3 {1, 4, 6, 7, 8, 9}\n",
      "0 4 {5, 6, 7, 8, 9}\n",
      "0 5 {1, 4, 5, 6, 8, 9}\n",
      "0 6 {2, 3, 4, 6, 7, 9}\n",
      "0 7 {1, 2, 3, 4, 6, 9}\n",
      "0 8 {1, 2, 4, 6, 7}\n",
      "1 0 {2, 4, 6, 7}\n",
      "1 1 {2, 4, 6, 7}\n",
      "1 3 {1, 4, 6, 7}\n",
      "1 4 {6, 7}\n",
      "1 6 {2, 4, 6, 7}\n",
      "2 0 {3, 4, 6, 7, 8}\n",
      "2 1 {3, 4, 5, 6, 7, 8}\n",
      "2 3 {4, 6, 7, 8, 9}\n",
      "2 5 {4, 5, 6, 8, 9}\n",
      "2 6 {3, 4, 6, 7, 9}\n",
      "2 7 {9, 3, 4, 6}\n",
      "2 8 {4, 6, 7}\n",
      "3 0 {1, 2, 3, 6, 8}\n",
      "3 1 {1, 2, 3, 6, 8}\n",
      "3 2 {8, 3, 6}\n",
      "3 4 {8, 9, 3, 6}\n",
      "3 6 {2, 3, 4, 6, 8, 9}\n",
      "3 7 {2, 3, 4, 6, 9}\n",
      "3 8 {8, 2, 4, 6}\n",
      "4 0 {2, 3, 6, 7, 8}\n",
      "4 1 {2, 3, 5, 6, 7, 8}\n",
      "4 3 {2, 3, 6, 8, 9}\n",
      "4 4 {8, 9, 3, 6}\n",
      "4 5 {8, 9, 2, 6}\n",
      "4 7 {2, 3, 5, 6, 9}\n",
      "4 8 {8, 2, 6, 7}\n",
      "5 0 {1, 2, 3, 6, 7, 8}\n",
      "5 2 {3, 5, 6, 7, 8}\n",
      "5 3 {1, 2, 3, 4, 6, 8}\n",
      "5 4 {8, 3, 6}\n",
      "5 5 {1, 2, 4, 6, 8}\n",
      "5 6 {2, 3, 4, 5, 6, 7, 8}\n",
      "5 7 {2, 3, 4, 5, 6}\n",
      "5 8 {2, 4, 6, 7, 8}\n",
      "6 1 {8, 1, 4, 6}\n",
      "6 2 {8, 6}\n",
      "6 3 {8, 9, 2, 6}\n",
      "6 4 {8, 9, 6}\n",
      "6 5 {8, 9, 2, 6}\n",
      "6 6 {8, 2, 4, 6}\n",
      "7 0 {3, 4, 6, 7, 8, 9}\n",
      "7 1 {3, 4, 6, 7, 8}\n",
      "7 3 {3, 6, 7, 8, 9}\n",
      "7 5 {8, 9, 5, 6}\n",
      "7 6 {8, 4, 5, 6}\n",
      "7 7 {4, 5, 6}\n",
      "7 8 {8, 4, 6}\n",
      "8 0 {1, 3, 6, 7, 8}\n",
      "8 1 {1, 3, 6, 7, 8}\n",
      "8 2 {8, 3, 6, 7}\n",
      "8 3 {2, 3, 6, 7, 8}\n",
      "8 5 {8, 2, 5, 6}\n",
      "8 6 {8, 2, 5, 6}\n",
      "8 7 {1, 2, 5, 6}\n"
     ]
    }
   ],
   "source": [
    "s2[1, 2] = 9\n",
    "solve(s2)"
   ]
  },
  {
   "cell_type": "code",
   "execution_count": 182,
   "metadata": {},
   "outputs": [
    {
     "name": "stdout",
     "output_type": "stream",
     "text": [
      "0 0 {2, 3, 4, 6, 7, 8}\n",
      "0 1 {2, 3, 4, 5, 6, 7, 8}\n",
      "0 2 {3, 5, 6, 7}\n",
      "0 3 {1, 4, 6, 7, 8, 9}\n",
      "0 4 {5, 6, 7, 8, 9}\n",
      "0 5 {1, 4, 5, 6, 8, 9}\n",
      "0 6 {2, 3, 4, 6, 7, 9}\n",
      "0 7 {1, 2, 3, 4, 6, 9}\n",
      "0 8 {1, 2, 4, 6, 7}\n",
      "1 0 {2, 4, 6, 7}\n",
      "1 1 {2, 4, 6, 7}\n",
      "1 3 {1, 4, 6, 7}\n",
      "1 4 {6, 7}\n",
      "1 6 {2, 4, 6, 7}\n",
      "2 0 {3, 4, 6, 7, 8}\n",
      "2 1 {3, 4, 5, 6, 7, 8}\n",
      "2 3 {4, 6, 7, 8, 9}\n",
      "2 5 {4, 5, 6, 8, 9}\n",
      "2 6 {3, 4, 6, 7, 9}\n",
      "2 7 {9, 3, 4, 6}\n",
      "2 8 {4, 6, 7}\n",
      "3 0 {1, 2, 3, 6, 8}\n",
      "3 1 {1, 2, 3, 6, 8}\n",
      "3 2 {3, 6}\n",
      "3 4 {8, 9, 3, 6}\n",
      "3 6 {2, 3, 4, 6, 8, 9}\n",
      "3 7 {2, 3, 4, 6, 9}\n",
      "3 8 {8, 2, 4, 6}\n",
      "4 0 {2, 3, 6, 7, 8}\n",
      "4 1 {2, 3, 5, 6, 7, 8}\n",
      "4 3 {2, 3, 6, 8, 9}\n",
      "4 4 {8, 9, 3, 6}\n",
      "4 5 {8, 9, 2, 6}\n",
      "4 7 {2, 3, 5, 6, 9}\n",
      "4 8 {8, 2, 6, 7}\n",
      "5 0 {1, 2, 3, 6, 7, 8}\n",
      "5 2 {3, 5, 6, 7}\n",
      "5 3 {1, 2, 3, 4, 6, 8}\n",
      "5 4 {8, 3, 6}\n",
      "5 5 {1, 2, 4, 6, 8}\n",
      "5 6 {2, 3, 4, 5, 6, 7, 8}\n",
      "5 7 {2, 3, 4, 5, 6}\n",
      "5 8 {2, 4, 6, 7, 8}\n",
      "6 1 {1, 4, 6}\n",
      "6 3 {9, 2, 6}\n",
      "6 4 {9, 6}\n",
      "6 5 {9, 2, 6}\n",
      "6 6 {2, 4, 6}\n",
      "7 0 {3, 4, 6, 7, 9}\n",
      "7 1 {3, 4, 6, 7}\n",
      "7 3 {3, 6, 7, 8, 9}\n",
      "7 5 {8, 9, 5, 6}\n",
      "7 6 {8, 4, 5, 6}\n",
      "7 7 {4, 5, 6}\n",
      "7 8 {8, 4, 6}\n",
      "8 0 {1, 3, 6, 7}\n",
      "8 1 {1, 3, 6, 7}\n",
      "8 2 {3, 6, 7}\n",
      "8 3 {2, 3, 6, 7, 8}\n",
      "8 5 {8, 2, 5, 6}\n",
      "8 6 {8, 2, 5, 6}\n",
      "8 7 {1, 2, 5, 6}\n"
     ]
    }
   ],
   "source": [
    "s2[6, 2] = 8\n",
    "solve(s2)"
   ]
  },
  {
   "cell_type": "code",
   "execution_count": 183,
   "metadata": {},
   "outputs": [
    {
     "name": "stdout",
     "output_type": "stream",
     "text": [
      "0 0 {2, 3, 4, 6, 7, 8}\n",
      "0 1 {2, 3, 4, 5, 6, 7, 8}\n",
      "0 2 {3, 5, 6, 7}\n",
      "0 3 {1, 4, 7, 8, 9}\n",
      "0 4 {8, 9, 5, 7}\n",
      "0 5 {1, 4, 5, 8, 9}\n",
      "0 6 {2, 3, 4, 6, 7, 9}\n",
      "0 7 {1, 2, 3, 4, 6, 9}\n",
      "0 8 {1, 2, 4, 6, 7}\n",
      "1 0 {2, 4, 7}\n",
      "1 1 {2, 4, 7}\n",
      "1 3 {1, 4, 7}\n",
      "1 6 {2, 4, 7}\n",
      "2 0 {3, 4, 6, 7, 8}\n",
      "2 1 {3, 4, 5, 6, 7, 8}\n",
      "2 3 {8, 9, 4, 7}\n",
      "2 5 {8, 9, 4, 5}\n",
      "2 6 {3, 4, 6, 7, 9}\n",
      "2 7 {9, 3, 4, 6}\n",
      "2 8 {4, 6, 7}\n",
      "3 0 {1, 2, 3, 6, 8}\n",
      "3 1 {1, 2, 3, 6, 8}\n",
      "3 2 {3, 6}\n",
      "3 4 {8, 9, 3}\n",
      "3 6 {2, 3, 4, 6, 8, 9}\n",
      "3 7 {2, 3, 4, 6, 9}\n",
      "3 8 {8, 2, 4, 6}\n",
      "4 0 {2, 3, 6, 7, 8}\n",
      "4 1 {2, 3, 5, 6, 7, 8}\n",
      "4 3 {2, 3, 6, 8, 9}\n",
      "4 4 {8, 9, 3}\n",
      "4 5 {8, 9, 2, 6}\n",
      "4 7 {2, 3, 5, 6, 9}\n",
      "4 8 {8, 2, 6, 7}\n",
      "5 0 {1, 2, 3, 6, 7, 8}\n",
      "5 2 {3, 5, 6, 7}\n",
      "5 3 {1, 2, 3, 4, 6, 8}\n",
      "5 4 {8, 3}\n",
      "5 5 {1, 2, 4, 6, 8}\n",
      "5 6 {2, 3, 4, 5, 6, 7, 8}\n",
      "5 7 {2, 3, 4, 5, 6}\n",
      "5 8 {2, 4, 6, 7, 8}\n",
      "6 1 {1, 4, 6}\n",
      "6 3 {9, 2, 6}\n",
      "6 4 {9}\n",
      "6 5 {2, 6}\n",
      "6 6 {2, 4, 6}\n",
      "7 0 {3, 4, 6, 7, 9}\n",
      "7 1 {3, 4, 6, 7}\n",
      "7 3 {8, 3, 6, 7}\n",
      "7 5 {8, 5, 6}\n",
      "7 6 {8, 4, 5, 6}\n",
      "7 7 {4, 5, 6}\n",
      "7 8 {8, 4, 6}\n",
      "8 0 {1, 3, 6, 7}\n",
      "8 1 {1, 3, 6, 7}\n",
      "8 2 {3, 6, 7}\n",
      "8 3 {2, 3, 6, 7, 8}\n",
      "8 5 {8, 2, 5, 6}\n",
      "8 6 {8, 2, 5, 6}\n",
      "8 7 {1, 2, 5, 6}\n"
     ]
    }
   ],
   "source": [
    "s2[1, 4] = 6\n",
    "solve(s2)"
   ]
  },
  {
   "cell_type": "code",
   "execution_count": 185,
   "metadata": {},
   "outputs": [
    {
     "name": "stdout",
     "output_type": "stream",
     "text": [
      "0 0 {2, 3, 4, 6, 7, 8}\n",
      "0 1 {2, 3, 4, 5, 6, 7, 8}\n",
      "0 2 {3, 5, 6, 7}\n",
      "0 3 {1, 4, 7, 8, 9}\n",
      "0 4 {8, 5, 7}\n",
      "0 5 {1, 4, 5, 8, 9}\n",
      "0 6 {2, 3, 4, 6, 7, 9}\n",
      "0 7 {1, 2, 3, 4, 6, 9}\n",
      "0 8 {1, 2, 4, 6, 7}\n",
      "1 0 {2, 4, 7}\n",
      "1 1 {2, 4, 7}\n",
      "1 3 {1, 4, 7}\n",
      "1 6 {2, 4, 7}\n",
      "2 0 {3, 4, 6, 7, 8}\n",
      "2 1 {3, 4, 5, 6, 7, 8}\n",
      "2 3 {8, 9, 4, 7}\n",
      "2 5 {8, 9, 4, 5}\n",
      "2 6 {3, 4, 6, 7, 9}\n",
      "2 7 {9, 3, 4, 6}\n",
      "2 8 {4, 6, 7}\n",
      "3 0 {1, 2, 3, 6, 8}\n",
      "3 1 {1, 2, 3, 6, 8}\n",
      "3 2 {3, 6}\n",
      "3 4 {8, 3}\n",
      "3 6 {2, 3, 4, 6, 8, 9}\n",
      "3 7 {2, 3, 4, 6, 9}\n",
      "3 8 {8, 2, 4, 6}\n",
      "4 0 {2, 3, 6, 7, 8}\n",
      "4 1 {2, 3, 5, 6, 7, 8}\n",
      "4 3 {2, 3, 6, 8, 9}\n",
      "4 4 {8, 3}\n",
      "4 5 {8, 9, 2, 6}\n",
      "4 7 {2, 3, 5, 6, 9}\n",
      "4 8 {8, 2, 6, 7}\n",
      "5 0 {1, 2, 3, 6, 7, 8}\n",
      "5 2 {3, 5, 6, 7}\n",
      "5 3 {1, 2, 3, 4, 6, 8}\n",
      "5 4 {8, 3}\n",
      "5 5 {1, 2, 4, 6, 8}\n",
      "5 6 {2, 3, 4, 5, 6, 7, 8}\n",
      "5 7 {2, 3, 4, 5, 6}\n",
      "5 8 {2, 4, 6, 7, 8}\n",
      "6 1 {1, 4, 6}\n",
      "6 3 {2, 6}\n",
      "6 5 {2, 6}\n",
      "6 6 {2, 4, 6}\n",
      "7 0 {3, 4, 6, 7, 9}\n",
      "7 1 {3, 4, 6, 7}\n",
      "7 3 {8, 3, 6, 7}\n",
      "7 5 {8, 5, 6}\n",
      "7 6 {8, 4, 5, 6}\n",
      "7 7 {4, 5, 6}\n",
      "7 8 {8, 4, 6}\n",
      "8 0 {1, 3, 6, 7}\n",
      "8 1 {1, 3, 6, 7}\n",
      "8 2 {3, 6, 7}\n",
      "8 3 {2, 3, 6, 7, 8}\n",
      "8 5 {8, 2, 5, 6}\n",
      "8 6 {8, 2, 5, 6}\n",
      "8 7 {1, 2, 5, 6}\n"
     ]
    }
   ],
   "source": [
    "solve(s2)"
   ]
  },
  {
   "cell_type": "code",
   "execution_count": 186,
   "metadata": {},
   "outputs": [
    {
     "name": "stdout",
     "output_type": "stream",
     "text": [
      "0 0 {2, 3, 4, 6, 7, 8}\n",
      "0 1 {2, 3, 4, 5, 6, 7, 8}\n",
      "0 2 {5, 6, 7}\n",
      "0 3 {1, 4, 7, 8, 9}\n",
      "0 4 {8, 5, 7}\n",
      "0 5 {1, 4, 5, 8, 9}\n",
      "0 6 {2, 3, 4, 6, 7, 9}\n",
      "0 7 {1, 2, 3, 4, 6, 9}\n",
      "0 8 {1, 2, 4, 6, 7}\n",
      "1 0 {2, 4, 7}\n",
      "1 1 {2, 4, 7}\n",
      "1 3 {1, 4, 7}\n",
      "1 6 {2, 4, 7}\n",
      "2 0 {3, 4, 6, 7, 8}\n",
      "2 1 {3, 4, 5, 6, 7, 8}\n",
      "2 3 {8, 9, 4, 7}\n",
      "2 5 {8, 9, 4, 5}\n",
      "2 6 {3, 4, 6, 7, 9}\n",
      "2 7 {9, 3, 4, 6}\n",
      "2 8 {4, 6, 7}\n",
      "3 0 {8, 1, 2, 6}\n",
      "3 1 {8, 1, 2, 6}\n",
      "3 4 {8}\n",
      "3 6 {9, 2, 4, 6}\n",
      "3 7 {9, 2, 4, 6}\n",
      "3 8 {2, 4, 6}\n",
      "4 0 {8, 2, 6, 7}\n",
      "4 1 {2, 5, 6, 7, 8}\n",
      "4 3 {9, 2, 3, 6}\n",
      "4 4 {3}\n",
      "4 5 {9, 2, 6}\n",
      "4 7 {9, 2, 5, 6}\n",
      "4 8 {8, 2, 6, 7}\n",
      "5 0 {1, 2, 6, 7, 8}\n",
      "5 2 {5, 6, 7}\n",
      "5 3 {1, 2, 4, 6}\n",
      "5 4 set()\n",
      "5 5 {1, 2, 4, 6}\n",
      "5 6 {2, 3, 4, 5, 6, 7, 8}\n",
      "5 7 {2, 3, 4, 5, 6}\n",
      "5 8 {2, 4, 6, 7, 8}\n",
      "6 1 {1, 4, 6}\n",
      "6 3 {2, 6}\n",
      "6 5 {2, 6}\n",
      "6 6 {2, 4, 6}\n",
      "7 0 {3, 4, 6, 7, 9}\n",
      "7 1 {3, 4, 6, 7}\n",
      "7 3 {8, 3, 6, 7}\n",
      "7 5 {8, 5, 6}\n",
      "7 6 {8, 4, 5, 6}\n",
      "7 7 {4, 5, 6}\n",
      "7 8 {8, 4, 6}\n",
      "8 0 {1, 3, 6, 7}\n",
      "8 1 {1, 3, 6, 7}\n",
      "8 2 {6, 7}\n",
      "8 3 {2, 3, 6, 7, 8}\n",
      "8 5 {8, 2, 5, 6}\n",
      "8 6 {8, 2, 5, 6}\n",
      "8 7 {1, 2, 5, 6}\n"
     ]
    }
   ],
   "source": [
    "s2[3, 2] = 3\n",
    "solve(s2)"
   ]
  },
  {
   "cell_type": "code",
   "execution_count": 187,
   "metadata": {},
   "outputs": [
    {
     "name": "stdout",
     "output_type": "stream",
     "text": [
      "0 0 {2, 3, 4, 6, 7, 8}\n",
      "0 1 {2, 3, 4, 5, 6, 7, 8}\n",
      "0 2 {5, 6, 7}\n",
      "0 3 {1, 4, 7, 8, 9}\n",
      "0 4 {5, 7}\n",
      "0 5 {1, 4, 5, 8, 9}\n",
      "0 6 {2, 3, 4, 6, 7, 9}\n",
      "0 7 {1, 2, 3, 4, 6, 9}\n",
      "0 8 {1, 2, 4, 6, 7}\n",
      "1 0 {2, 4, 7}\n",
      "1 1 {2, 4, 7}\n",
      "1 3 {1, 4, 7}\n",
      "1 6 {2, 4, 7}\n",
      "2 0 {3, 4, 6, 7, 8}\n",
      "2 1 {3, 4, 5, 6, 7, 8}\n",
      "2 3 {8, 9, 4, 7}\n",
      "2 5 {8, 9, 4, 5}\n",
      "2 6 {3, 4, 6, 7, 9}\n",
      "2 7 {9, 3, 4, 6}\n",
      "2 8 {4, 6, 7}\n",
      "3 0 {1, 2, 6}\n",
      "3 1 {1, 2, 6}\n",
      "3 6 {9, 2, 4, 6}\n",
      "3 7 {9, 2, 4, 6}\n",
      "3 8 {2, 4, 6}\n",
      "4 0 {8, 2, 6, 7}\n",
      "4 1 {2, 5, 6, 7, 8}\n",
      "4 3 {9, 2, 6}\n",
      "4 5 {9, 2, 6}\n",
      "4 7 {9, 2, 5, 6}\n",
      "4 8 {8, 2, 6, 7}\n",
      "5 0 {1, 2, 6, 7, 8}\n",
      "5 2 {5, 6, 7}\n",
      "5 3 {1, 2, 4, 6}\n",
      "5 4 set()\n",
      "5 5 {1, 2, 4, 6}\n",
      "5 6 {2, 3, 4, 5, 6, 7, 8}\n",
      "5 7 {2, 3, 4, 5, 6}\n",
      "5 8 {2, 4, 6, 7, 8}\n",
      "6 1 {1, 4, 6}\n",
      "6 3 {2, 6}\n",
      "6 5 {2, 6}\n",
      "6 6 {2, 4, 6}\n",
      "7 0 {3, 4, 6, 7, 9}\n",
      "7 1 {3, 4, 6, 7}\n",
      "7 3 {8, 3, 6, 7}\n",
      "7 5 {8, 5, 6}\n",
      "7 6 {8, 4, 5, 6}\n",
      "7 7 {4, 5, 6}\n",
      "7 8 {8, 4, 6}\n",
      "8 0 {1, 3, 6, 7}\n",
      "8 1 {1, 3, 6, 7}\n",
      "8 2 {6, 7}\n",
      "8 3 {2, 3, 6, 7, 8}\n",
      "8 5 {8, 2, 5, 6}\n",
      "8 6 {8, 2, 5, 6}\n",
      "8 7 {1, 2, 5, 6}\n"
     ]
    }
   ],
   "source": [
    "solve(s2)"
   ]
  },
  {
   "cell_type": "code",
   "execution_count": null,
   "metadata": {},
   "outputs": [],
   "source": []
  }
 ],
 "metadata": {
  "kernelspec": {
   "display_name": "Python 3",
   "language": "python",
   "name": "python3"
  },
  "language_info": {
   "codemirror_mode": {
    "name": "ipython",
    "version": 3
   },
   "file_extension": ".py",
   "mimetype": "text/x-python",
   "name": "python",
   "nbconvert_exporter": "python",
   "pygments_lexer": "ipython3",
   "version": "3.6.4"
  }
 },
 "nbformat": 4,
 "nbformat_minor": 2
}
