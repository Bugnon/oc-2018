{
 "cells": [
  {
   "cell_type": "markdown",
   "metadata": {},
   "source": [
    "# 16 Classes et fonctions"
   ]
  },
  {
   "cell_type": "markdown",
   "metadata": {},
   "source": [
    "Dans cette section nous allons aborder les fonctions (méthodes) agissant sur des objets."
   ]
  },
  {
   "cell_type": "markdown",
   "metadata": {},
   "source": [
    "## Temps\n",
    "Nous allons définir une classe appelée ``Time``"
   ]
  },
  {
   "cell_type": "markdown",
   "metadata": {},
   "source": [
    "class Time:\n",
    "    \"\"\"Reprensents the time of the day.\n",
    "    Attributs: hour, min, sec.\"\"\""
   ]
  },
  {
   "cell_type": "markdown",
   "metadata": {},
   "source": [
    "Nous pouvons déjà afficher le **docstring** avec la fonction ``help``."
   ]
  },
  {
   "cell_type": "code",
   "execution_count": null,
   "metadata": {},
   "outputs": [],
   "source": [
    "help(Time)"
   ]
  },
  {
   "cell_type": "markdown",
   "metadata": {},
   "source": [
    "Créons un nouveau objet ``Time``."
   ]
  },
  {
   "cell_type": "code",
   "execution_count": null,
   "metadata": {},
   "outputs": [],
   "source": [
    "moment = Time()\n",
    "moment.hour = 11\n",
    "moment.min = 59\n",
    "moment.sec = 30"
   ]
  },
  {
   "cell_type": "markdown",
   "metadata": {},
   "source": [
    "**Exercice**  \n",
    "À titre d'exercice, écrivez une fonction appelée qui prend un objet **Time** et l'affiche dans la forme hh:mm:ss. Indice : la séquence de formatage   affiche un entier en utilisant au moins deux chiffres, en ajoutant un zéro en début si nécessaire.  \n",
    "Le string de formatage ``{:03}`` ajoute des 0 pour remplir et affiche un nombre avec 3 positions."
   ]
  },
  {
   "cell_type": "code",
   "execution_count": null,
   "metadata": {},
   "outputs": [],
   "source": [
    "'{:03}:{:03}:{:03}'.format(1, 2, 3)"
   ]
  }
 ],
 "metadata": {
  "kernelspec": {
   "display_name": "Python 3",
   "language": "python",
   "name": "python3"
  },
  "language_info": {
   "codemirror_mode": {
    "name": "ipython",
    "version": 3
   },
   "file_extension": ".py",
   "mimetype": "text/x-python",
   "name": "python",
   "nbconvert_exporter": "python",
   "pygments_lexer": "ipython3",
   "version": "3.7.1"
  }
 },
 "nbformat": 4,
 "nbformat_minor": 2
}
