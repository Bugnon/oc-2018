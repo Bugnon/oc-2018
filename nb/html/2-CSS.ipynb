{
 "cells": [
  {
   "cell_type": "markdown",
   "metadata": {},
   "source": [
    "# CSS (Cascading Style Sheets)"
   ]
  },
  {
   "cell_type": "markdown",
   "metadata": {},
   "source": [
    "<[Widgets](02 Widgets.ipynb)| Contents | [Scalable Vector Graphics (SVG](10.2-SVG.ipynb) > "
   ]
  },
  {
   "cell_type": "markdown",
   "metadata": {},
   "source": [
    "A CSS can be added to a HTML page in 3 ways:\n",
    "* inline, by using a *style* attribute inside an HTML element\n",
    "* internal, by using a *<style\\>* element\n",
    "* external, by including a .css file"
   ]
  },
  {
   "cell_type": "markdown",
   "metadata": {},
   "source": [
    "## Inline CSS style"
   ]
  },
  {
   "cell_type": "code",
   "execution_count": 1,
   "metadata": {},
   "outputs": [
    {
     "data": {
      "text/html": [
       "<h3 style='color:red'>This is a header 3</h3>\n",
       "<p style='color:blue'>This is a paragraph</p>"
      ],
      "text/plain": [
       "<IPython.core.display.HTML object>"
      ]
     },
     "metadata": {},
     "output_type": "display_data"
    }
   ],
   "source": [
    "%%html\n",
    "<h3 style='color:red'>This is a header 3</h3>\n",
    "<p style='color:blue'>This is a paragraph</p>"
   ]
  },
  {
   "cell_type": "markdown",
   "metadata": {},
   "source": [
    "## Internal CSS style"
   ]
  },
  {
   "cell_type": "markdown",
   "metadata": {},
   "source": [
    "The last cell with a `<style\\>` element will be applied will be used for all the open Jupyter notebooks. Try switching the order of the two cells below."
   ]
  },
  {
   "cell_type": "code",
   "execution_count": 38,
   "metadata": {},
   "outputs": [
    {
     "data": {
      "text/html": [
       "<style>\n",
       "body {background-color: powderblue;}\n",
       "h1,h2   {color:blue;}\n",
       "p    {color:red;}\n",
       "</style>"
      ],
      "text/plain": [
       "<IPython.core.display.HTML object>"
      ]
     },
     "metadata": {},
     "output_type": "display_data"
    }
   ],
   "source": [
    "%%html\n",
    "<style>\n",
    "body {background-color: powderblue;}\n",
    "h1,h2   {color:blue;}\n",
    "p    {color:red;}\n",
    "</style>"
   ]
  },
  {
   "cell_type": "code",
   "execution_count": 37,
   "metadata": {},
   "outputs": [
    {
     "data": {
      "text/html": [
       "<style>\n",
       "body {background-color: white;}\n",
       "h1,h2   {color: black;}\n",
       "p    {color: black;}\n",
       "</style>"
      ],
      "text/plain": [
       "<IPython.core.display.HTML object>"
      ]
     },
     "metadata": {},
     "output_type": "display_data"
    }
   ],
   "source": [
    "%%html\n",
    "<style>\n",
    "body {background-color: white;}\n",
    "h1,h2   {color: black;}\n",
    "p    {color: black;}\n",
    "</style>"
   ]
  },
  {
   "cell_type": "code",
   "execution_count": null,
   "metadata": {},
   "outputs": [],
   "source": []
  }
 ],
 "metadata": {
  "kernelspec": {
   "display_name": "Python 3",
   "language": "python",
   "name": "python3"
  },
  "language_info": {
   "codemirror_mode": {
    "name": "ipython",
    "version": 3
   },
   "file_extension": ".py",
   "mimetype": "text/x-python",
   "name": "python",
   "nbconvert_exporter": "python",
   "pygments_lexer": "ipython3",
   "version": "3.6.4"
  }
 },
 "nbformat": 4,
 "nbformat_minor": 2
}
