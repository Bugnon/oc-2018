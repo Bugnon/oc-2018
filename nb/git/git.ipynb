{
 "cells": [
  {
   "cell_type": "markdown",
   "metadata": {},
   "source": [
    "# Git versioning system"
   ]
  },
  {
   "cell_type": "markdown",
   "metadata": {},
   "source": [
    "**git** is a version control system (VCS) which keeps track of different version of a project and allows people to collaborate. It is most widely used for code development or website development.\n",
    "\n",
    "Git was created by Linus Thorvalds in 2005 for the development of the Linux kernel. It's current maintainer is Junio Hamano, a Google employee.\n",
    "The advantages of git are:\n",
    "* you can come back to a previous version\n",
    "* you have a backup of the current and all previous checkpoints\n",
    "* you can collaborate with others to work on large software projects"
   ]
  },
  {
   "cell_type": "markdown",
   "metadata": {},
   "source": [
    "Sources : \n",
    "* https://en.wikipedia.org/wiki/Git\n",
    "* https://git-scm.com"
   ]
  },
  {
   "cell_type": "markdown",
   "metadata": {},
   "source": [
    "## Documentation"
   ]
  },
  {
   "cell_type": "markdown",
   "metadata": {},
   "source": [
    "Excellent documentation is available for free on the web. Scott Chacon and Ben Straub wrote **Pro Git**, a 500-page book which is available for free, and had been translated to multiple languages (fully translated in 8 different languages, in 2018.\n",
    "\n",
    "* English: https://git-scm.com/book/en/v2\n",
    "* French: https://git-scm.com/book/fr/v2\n",
    "\n",
    "The book is available as \n",
    "* printed book version by Apress, available on Amazon\n",
    "* HTML verion\n",
    "* PDF version\n",
    "* eBook version (the most popular e-publishing platform)\n",
    "\n",
    "The source code for the book is hosted on GitHub\n",
    "https://github.com/progit/progit2\n"
   ]
  },
  {
   "cell_type": "markdown",
   "metadata": {},
   "source": [
    "### About running git examples within a Jupyter notebook"
   ]
  },
  {
   "cell_type": "markdown",
   "metadata": {},
   "source": [
    "* the command **git** must be preceded by `!` to run it in the Linux command shell\n",
    "* Use `alt+enter` to run a code cell and create a new one"
   ]
  },
  {
   "cell_type": "markdown",
   "metadata": {},
   "source": [
    "## Getting help"
   ]
  },
  {
   "cell_type": "markdown",
   "metadata": {},
   "source": [
    "Just running `git` without any arguments at the command line gives a short summary of all it's command."
   ]
  },
  {
   "cell_type": "code",
   "execution_count": 44,
   "metadata": {},
   "outputs": [
    {
     "name": "stdout",
     "output_type": "stream",
     "text": [
      "usage: git [--version] [--help] [-C <path>] [-c name=value]\r\n",
      "           [--exec-path[=<path>]] [--html-path] [--man-path] [--info-path]\r\n",
      "           [-p | --paginate | --no-pager] [--no-replace-objects] [--bare]\r\n",
      "           [--git-dir=<path>] [--work-tree=<path>] [--namespace=<name>]\r\n",
      "           <command> [<args>]\r\n",
      "\r\n",
      "These are common Git commands used in various situations:\r\n",
      "\r\n",
      "start a working area (see also: git help tutorial)\r\n",
      "   clone      Clone a repository into a new directory\r\n",
      "   init       Create an empty Git repository or reinitialize an existing one\r\n",
      "\r\n",
      "work on the current change (see also: git help everyday)\r\n",
      "   add        Add file contents to the index\r\n",
      "   mv         Move or rename a file, a directory, or a symlink\r\n",
      "   reset      Reset current HEAD to the specified state\r\n",
      "   rm         Remove files from the working tree and from the index\r\n",
      "\r\n",
      "examine the history and state (see also: git help revisions)\r\n",
      "   bisect     Use binary search to find the commit that introduced a bug\r\n",
      "   grep       Print lines matching a pattern\r\n",
      "   log        Show commit logs\r\n",
      "   show       Show various types of objects\r\n",
      "   status     Show the working tree status\r\n",
      "\r\n",
      "grow, mark and tweak your common history\r\n",
      "   branch     List, create, or delete branches\r\n",
      "   checkout   Switch branches or restore working tree files\r\n",
      "   commit     Record changes to the repository\r\n",
      "   diff       Show changes between commits, commit and working tree, etc\r\n",
      "   merge      Join two or more development histories together\r\n",
      "   rebase     Reapply commits on top of another base tip\r\n",
      "   tag        Create, list, delete or verify a tag object signed with GPG\r\n",
      "\r\n",
      "collaborate (see also: git help workflows)\r\n",
      "   fetch      Download objects and refs from another repository\r\n",
      "   pull       Fetch from and integrate with another repository or a local branch\r\n",
      "   push       Update remote refs along with associated objects\r\n",
      "\r\n",
      "'git help -a' and 'git help -g' list available subcommands and some\r\n",
      "concept guides. See 'git help <command>' or 'git help <concept>'\r\n",
      "to read about a specific subcommand or concept.\r\n"
     ]
    }
   ],
   "source": [
    "!git"
   ]
  },
  {
   "cell_type": "markdown",
   "metadata": {},
   "source": [
    "For example the first command mentioned allows to find out what version is running"
   ]
  },
  {
   "cell_type": "code",
   "execution_count": 46,
   "metadata": {},
   "outputs": [
    {
     "name": "stdout",
     "output_type": "stream",
     "text": [
      "git version 2.10.1 (Apple Git-78)\r\n"
     ]
    }
   ],
   "source": [
    "!git --version"
   ]
  },
  {
   "cell_type": "markdown",
   "metadata": {},
   "source": [
    "This is an old version, so let's update git to the latest one."
   ]
  },
  {
   "cell_type": "code",
   "execution_count": 102,
   "metadata": {},
   "outputs": [
    {
     "name": "stdout",
     "output_type": "stream",
     "text": [
      "git version 2.18.0\r\n"
     ]
    }
   ],
   "source": [
    "!git --version"
   ]
  },
  {
   "cell_type": "code",
   "execution_count": 104,
   "metadata": {},
   "outputs": [
    {
     "name": "stdout",
     "output_type": "stream",
     "text": [
      "usage: git [--version] [--help] [-C <path>] [-c <name>=<value>]\r\n",
      "           [--exec-path[=<path>]] [--html-path] [--man-path] [--info-path]\r\n",
      "           [-p | --paginate | -P | --no-pager] [--no-replace-objects] [--bare]\r\n",
      "           [--git-dir=<path>] [--work-tree=<path>] [--namespace=<name>]\r\n",
      "           <command> [<args>]\r\n",
      "\r\n",
      "These are common Git commands used in various situations:\r\n",
      "\r\n",
      "start a working area (see also: git help tutorial)\r\n",
      "   clone      Clone a repository into a new directory\r\n",
      "   init       Create an empty Git repository or reinitialize an existing one\r\n",
      "\r\n",
      "work on the current change (see also: git help everyday)\r\n",
      "   add        Add file contents to the index\r\n",
      "   mv         Move or rename a file, a directory, or a symlink\r\n",
      "   reset      Reset current HEAD to the specified state\r\n",
      "   rm         Remove files from the working tree and from the index\r\n",
      "\r\n",
      "examine the history and state (see also: git help revisions)\r\n",
      "   bisect     Use binary search to find the commit that introduced a bug\r\n",
      "   grep       Print lines matching a pattern\r\n",
      "   log        Show commit logs\r\n",
      "   show       Show various types of objects\r\n",
      "   status     Show the working tree status\r\n",
      "\r\n",
      "grow, mark and tweak your common history\r\n",
      "   branch     List, create, or delete branches\r\n",
      "   checkout   Switch branches or restore working tree files\r\n",
      "   commit     Record changes to the repository\r\n",
      "   diff       Show changes between commits, commit and working tree, etc\r\n",
      "   merge      Join two or more development histories together\r\n",
      "   rebase     Reapply commits on top of another base tip\r\n",
      "   tag        Create, list, delete or verify a tag object signed with GPG\r\n",
      "\r\n",
      "collaborate (see also: git help workflows)\r\n",
      "   fetch      Download objects and refs from another repository\r\n",
      "   pull       Fetch from and integrate with another repository or a local branch\r\n",
      "   push       Update remote refs along with associated objects\r\n",
      "\r\n",
      "'git help -a' and 'git help -g' list available subcommands and some\r\n",
      "concept guides. See 'git help <command>' or 'git help <concept>'\r\n",
      "to read about a specific subcommand or concept.\r\n"
     ]
    }
   ],
   "source": [
    "!git help"
   ]
  },
  {
   "cell_type": "markdown",
   "metadata": {},
   "source": [
    "# Basics"
   ]
  },
  {
   "cell_type": "markdown",
   "metadata": {},
   "source": [
    "There are two ways of starting a repository:\n",
    "1. cloning an existing repository from GitHub\n",
    "* turning an empty directory into a git repository"
   ]
  },
  {
   "cell_type": "markdown",
   "metadata": {},
   "source": [
    "## Create a local repository"
   ]
  },
  {
   "cell_type": "markdown",
   "metadata": {},
   "source": [
    "For this exercice we create a local git repository `git-demo` inside a temporary directory `tmp` inside the user's home directory `~`."
   ]
  },
  {
   "cell_type": "code",
   "execution_count": 80,
   "metadata": {},
   "outputs": [
    {
     "name": "stdout",
     "output_type": "stream",
     "text": [
      "mkdir: /Users/raphael/tmp/git-demo: File exists\r\n"
     ]
    }
   ],
   "source": [
    "!mkdir ~/tmp/git-demo\n",
    "!cd ~/tmp/git-demo"
   ]
  },
  {
   "cell_type": "markdown",
   "metadata": {},
   "source": [
    "In order to test git, we must make sure that we are not already in a git-versioned sub-directory. For example the directory in which this Jupyter notebook resides is under git version control. However the newly create directory is not. And it is also completely empty."
   ]
  },
  {
   "cell_type": "code",
   "execution_count": 81,
   "metadata": {},
   "outputs": [
    {
     "name": "stdout",
     "output_type": "stream",
     "text": [
      "On branch master\r\n",
      "nothing to commit, working tree clean\r\n"
     ]
    }
   ],
   "source": [
    "!git status"
   ]
  },
  {
   "cell_type": "code",
   "execution_count": 15,
   "metadata": {},
   "outputs": [],
   "source": [
    "ls -lA"
   ]
  },
  {
   "cell_type": "code",
   "execution_count": null,
   "metadata": {},
   "outputs": [],
   "source": []
  },
  {
   "cell_type": "markdown",
   "metadata": {},
   "source": [
    "So let's create a new repository here."
   ]
  },
  {
   "cell_type": "code",
   "execution_count": 16,
   "metadata": {},
   "outputs": [
    {
     "name": "stdout",
     "output_type": "stream",
     "text": [
      "Initialized empty Git repository in /Users/raphael/tmp/git-demo/.git/\r\n"
     ]
    }
   ],
   "source": [
    "!git init"
   ]
  },
  {
   "cell_type": "markdown",
   "metadata": {},
   "source": [
    "Now the base directory contains a hidden `.git` directory which is the git repository which contains all the versioning information. The information is in the subfolders."
   ]
  },
  {
   "cell_type": "code",
   "execution_count": 19,
   "metadata": {},
   "outputs": [
    {
     "name": "stdout",
     "output_type": "stream",
     "text": [
      "\u001b[34m.git\u001b[m\u001b[m/\r\n"
     ]
    }
   ],
   "source": [
    "ls -A"
   ]
  },
  {
   "cell_type": "code",
   "execution_count": 24,
   "metadata": {},
   "outputs": [
    {
     "name": "stdout",
     "output_type": "stream",
     "text": [
      "HEAD         description  \u001b[34minfo\u001b[m\u001b[m/        \u001b[34mrefs\u001b[m\u001b[m/\r\n",
      "config       \u001b[34mhooks\u001b[m\u001b[m/       \u001b[34mobjects\u001b[m\u001b[m/\r\n"
     ]
    }
   ],
   "source": [
    "ls -A .git/"
   ]
  },
  {
   "cell_type": "code",
   "execution_count": 27,
   "metadata": {},
   "outputs": [
    {
     "name": "stdout",
     "output_type": "stream",
     "text": [
      "[core]\r\n",
      "\trepositoryformatversion = 0\r\n",
      "\tfilemode = true\r\n",
      "\tbare = false\r\n",
      "\tlogallrefupdates = true\r\n",
      "\tignorecase = true\r\n",
      "\tprecomposeunicode = true\r\n"
     ]
    }
   ],
   "source": [
    "cat .git/config"
   ]
  },
  {
   "cell_type": "markdown",
   "metadata": {},
   "source": [
    "## Configure git"
   ]
  },
  {
   "cell_type": "markdown",
   "metadata": {},
   "source": [
    "The commande `git config` allows to configure git. There are three levels of configuration:\n",
    "* **system** - for all users in the system\n",
    "* **global** - for one specific user\n",
    "* **local** - for one specific repository"
   ]
  },
  {
   "cell_type": "code",
   "execution_count": 56,
   "metadata": {
    "scrolled": true
   },
   "outputs": [
    {
     "name": "stdout",
     "output_type": "stream",
     "text": [
      "usage: git config [<options>]\r\n",
      "\r\n",
      "Config file location\r\n",
      "    --global              use global config file\r\n",
      "    --system              use system config file\r\n",
      "    --local               use repository config file\r\n",
      "    -f, --file <file>     use given config file\r\n",
      "    --blob <blob-id>      read config from given blob object\r\n",
      "\r\n",
      "Action\r\n",
      "    --get                 get value: name [value-regex]\r\n",
      "    --get-all             get all values: key [value-regex]\r\n",
      "    --get-regexp          get values for regexp: name-regex [value-regex]\r\n",
      "    --get-urlmatch        get value specific for the URL: section[.var] URL\r\n",
      "    --replace-all         replace all matching variables: name value [value_regex]\r\n",
      "    --add                 add a new variable: name value\r\n",
      "    --unset               remove a variable: name [value-regex]\r\n",
      "    --unset-all           remove all matches: name [value-regex]\r\n",
      "    --rename-section      rename section: old-name new-name\r\n",
      "    --remove-section      remove a section: name\r\n",
      "    -l, --list            list all\r\n",
      "    -e, --edit            open an editor\r\n",
      "    --get-color           find the color configured: slot [default]\r\n",
      "    --get-colorbool       find the color setting: slot [stdout-is-tty]\r\n",
      "\r\n",
      "Type\r\n",
      "    -t, --type <>         value is given this type\r\n",
      "    --bool                value is \"true\" or \"false\"\r\n",
      "    --int                 value is decimal number\r\n",
      "    --bool-or-int         value is --bool or --int\r\n",
      "    --path                value is a path (file or directory name)\r\n",
      "    --expiry-date         value is an expiry date\r\n",
      "\r\n",
      "Other\r\n",
      "    -z, --null            terminate values with NUL byte\r\n",
      "    --name-only           show variable names only\r\n",
      "    --includes            respect include directives on lookup\r\n",
      "    --show-origin         show origin of config (file, standard input, blob, command line)\r\n",
      "    --default <value>     with --get, use default value when missing entry\r\n",
      "\r\n"
     ]
    }
   ],
   "source": [
    "!git config"
   ]
  },
  {
   "cell_type": "markdown",
   "metadata": {},
   "source": [
    "To show all configuration key=value pairs use the command `git config --list`"
   ]
  },
  {
   "cell_type": "code",
   "execution_count": 64,
   "metadata": {
    "scrolled": false
   },
   "outputs": [
    {
     "name": "stdout",
     "output_type": "stream",
     "text": [
      "core.excludesfile=~/.gitignore\r\n",
      "core.legacyheaders=false\r\n",
      "core.quotepath=false\r\n",
      "mergetool.keepbackup=true\r\n",
      "push.default=simple\r\n",
      "color.ui=auto\r\n",
      "color.interactive=auto\r\n",
      "repack.usedeltabaseoffset=true\r\n",
      "alias.s=status\r\n",
      "alias.a=!git add . && git status\r\n",
      "alias.au=!git add -u . && git status\r\n",
      "alias.aa=!git add . && git add -u . && git status\r\n",
      "alias.c=commit\r\n",
      "alias.cm=commit -m\r\n",
      "alias.ca=commit --amend\r\n",
      "alias.ac=!git add . && git commit\r\n",
      "alias.acm=!git add . && git commit -m\r\n",
      "alias.l=log --graph --all --pretty=format:'%C(yellow)%h%C(cyan)%d%Creset %s %C(white)- %an, %ar%Creset'\r\n",
      "alias.ll=log --stat --abbrev-commit\r\n",
      "alias.lg=log --color --graph --pretty=format:'%C(bold white)%h%Creset -%C(bold green)%d%Creset %s %C(bold green)(%cr)%Creset %C(bold blue)<%an>%Creset' --abbrev-commit --date=relative\r\n",
      "alias.llg=log --color --graph --pretty=format:'%C(bold white)%H %d%Creset%n%s%n%+b%C(bold blue)%an <%ae>%Creset %C(bold green)%cr (%ci)' --abbrev-commit\r\n",
      "alias.d=diff\r\n",
      "alias.master=checkout master\r\n",
      "alias.spull=svn rebase\r\n",
      "alias.spush=svn dcommit\r\n",
      "alias.alias=!git config --list | grep 'alias\\.' | sed 's/alias\\.\\([^=]*\\)=\\(.*\\)/\\1\\\t => \\2/' | sort\r\n",
      "include.path=~/.gitcinclude\r\n",
      "include.path=.githubconfig\r\n",
      "include.path=.gitcredential\r\n",
      "diff.exif.textconv=exif\r\n",
      "credential.helper=osxkeychain\r\n",
      "filter.lfs.clean=git-lfs clean -- %f\r\n",
      "filter.lfs.smudge=git-lfs smudge -- %f\r\n",
      "filter.lfs.process=git-lfs filter-process\r\n",
      "filter.lfs.required=true\r\n",
      "user.name=Raphael Holzer\r\n",
      "user.email=raphael.holzer@citycable.ch\r\n",
      "color.ui=auto\r\n",
      "core.repositoryformatversion=0\r\n",
      "core.filemode=true\r\n",
      "core.bare=false\r\n",
      "core.logallrefupdates=true\r\n",
      "core.ignorecase=true\r\n",
      "core.precomposeunicode=true\r\n"
     ]
    }
   ],
   "source": [
    "!git config --list"
   ]
  },
  {
   "cell_type": "markdown",
   "metadata": {},
   "source": [
    "The minimum configuration for git is a user name and a user email. Let's check this."
   ]
  },
  {
   "cell_type": "code",
   "execution_count": 67,
   "metadata": {},
   "outputs": [
    {
     "name": "stdout",
     "output_type": "stream",
     "text": [
      "Raphael Holzer\n",
      "raphael.holzer@citycable.ch\n"
     ]
    }
   ],
   "source": [
    "!git config user.name\n",
    "!git config user.email"
   ]
  },
  {
   "cell_type": "markdown",
   "metadata": {},
   "source": [
    "## Create a directory for the new project"
   ]
  },
  {
   "cell_type": "markdown",
   "metadata": {},
   "source": [
    "Let's add a new file to the newly created repository."
   ]
  },
  {
   "cell_type": "code",
   "execution_count": 31,
   "metadata": {},
   "outputs": [
    {
     "name": "stdout",
     "output_type": "stream",
     "text": [
      "Writing README.md\n"
     ]
    }
   ],
   "source": [
    "%%writefile README.md\n",
    "# git demo-project\n",
    "This is the first line"
   ]
  },
  {
   "cell_type": "markdown",
   "metadata": {},
   "source": [
    "It is there."
   ]
  },
  {
   "cell_type": "code",
   "execution_count": 32,
   "metadata": {},
   "outputs": [
    {
     "name": "stdout",
     "output_type": "stream",
     "text": [
      "README.md\r\n"
     ]
    }
   ],
   "source": [
    "ls"
   ]
  },
  {
   "cell_type": "markdown",
   "metadata": {},
   "source": [
    "Check the git status. The newly created file is not yet under version control and will show up in red."
   ]
  },
  {
   "cell_type": "code",
   "execution_count": 33,
   "metadata": {},
   "outputs": [
    {
     "name": "stdout",
     "output_type": "stream",
     "text": [
      "On branch master\r\n",
      "\r\n",
      "Initial commit\r\n",
      "\r\n",
      "Untracked files:\r\n",
      "  (use \"git add <file>...\" to include in what will be committed)\r\n",
      "\r\n",
      "\t\u001b[31mREADME.md\u001b[m\r\n",
      "\r\n",
      "nothing added to commit but untracked files present (use \"git add\" to track)\r\n"
     ]
    }
   ],
   "source": [
    "!git status"
   ]
  },
  {
   "cell_type": "markdown",
   "metadata": {},
   "source": [
    "We have to add it to the index (staging area) using `git add`"
   ]
  },
  {
   "cell_type": "code",
   "execution_count": 34,
   "metadata": {},
   "outputs": [],
   "source": [
    "!git add README.md"
   ]
  },
  {
   "cell_type": "markdown",
   "metadata": {},
   "source": [
    "To make the changes permanent in the repository database, we need to use the command `commit`, which has the option `-m` of adding a commit message."
   ]
  },
  {
   "cell_type": "code",
   "execution_count": 35,
   "metadata": {},
   "outputs": [
    {
     "name": "stdout",
     "output_type": "stream",
     "text": [
      "[master (root-commit) d2fdf00] initial commit\r\n",
      " 1 file changed, 2 insertions(+)\r\n",
      " create mode 100644 README.md\r\n"
     ]
    }
   ],
   "source": [
    "!git commit README.md -m 'initial commit'"
   ]
  },
  {
   "cell_type": "markdown",
   "metadata": {},
   "source": [
    "With `git log` we can show all the versioning history. Each commit is identified not by a file name or a time-stamp, but by the SHA1 key of the file commited."
   ]
  },
  {
   "cell_type": "code",
   "execution_count": 36,
   "metadata": {},
   "outputs": [
    {
     "name": "stdout",
     "output_type": "stream",
     "text": [
      "\u001b[33mcommit d2fdf005c715c028e2a9ea16e4da18e8291408c8\u001b[m\r\n",
      "Author: Raphael Holzer <raphael.holzer@citycable.ch>\r\n",
      "Date:   Sun Aug 5 22:34:17 2018 +0200\r\n",
      "\r\n",
      "    initial commit\r\n"
     ]
    }
   ],
   "source": [
    "!git log"
   ]
  },
  {
   "cell_type": "markdown",
   "metadata": {},
   "source": [
    "This is how we can calculate the SHA1 sum on the Mac:"
   ]
  },
  {
   "cell_type": "code",
   "execution_count": 72,
   "metadata": {},
   "outputs": [
    {
     "name": "stdout",
     "output_type": "stream",
     "text": [
      "3637d6937b34852cdb5f5119311868720f8a6393  README.md\r\n"
     ]
    }
   ],
   "source": [
    "!shasum README.md"
   ]
  },
  {
   "cell_type": "markdown",
   "metadata": {},
   "source": [
    "Let's modify the README.md file"
   ]
  },
  {
   "cell_type": "code",
   "execution_count": 37,
   "metadata": {},
   "outputs": [],
   "source": [
    "!echo 'add another line' >> README.md"
   ]
  },
  {
   "cell_type": "code",
   "execution_count": 38,
   "metadata": {},
   "outputs": [
    {
     "name": "stdout",
     "output_type": "stream",
     "text": [
      "On branch master\r\n",
      "Changes not staged for commit:\r\n",
      "  (use \"git add <file>...\" to update what will be committed)\r\n",
      "  (use \"git checkout -- <file>...\" to discard changes in working directory)\r\n",
      "\r\n",
      "\t\u001b[31mmodified:   README.md\u001b[m\r\n",
      "\r\n",
      "no changes added to commit (use \"git add\" and/or \"git commit -a\")\r\n"
     ]
    }
   ],
   "source": [
    "!git status"
   ]
  },
  {
   "cell_type": "code",
   "execution_count": 74,
   "metadata": {},
   "outputs": [
    {
     "name": "stdout",
     "output_type": "stream",
     "text": [
      "Usage: shasum [OPTION]... [FILE]...\r\n",
      "Print or check SHA checksums.\r\n",
      "With no FILE, or when FILE is -, read standard input.\r\n",
      "\r\n",
      "  -a, --algorithm   1 (default), 224, 256, 384, 512, 512224, 512256\r\n",
      "  -b, --binary      read in binary mode\r\n",
      "  -c, --check       read SHA sums from the FILEs and check them\r\n",
      "  -t, --text        read in text mode (default)\r\n",
      "  -p, --portable    read in portable mode\r\n",
      "                        produces same digest on Windows/Unix/Mac\r\n",
      "  -0, --01          read in BITS mode\r\n",
      "                        ASCII '0' interpreted as 0-bit,\r\n",
      "                        ASCII '1' interpreted as 1-bit,\r\n",
      "                        all other characters ignored\r\n",
      "\r\n",
      "The following two options are useful only when verifying checksums:\r\n",
      "  -s, --status      don't output anything, status code shows success\r\n",
      "  -w, --warn        warn about improperly formatted checksum lines\r\n",
      "\r\n",
      "  -h, --help        display this help and exit\r\n",
      "  -v, --version     output version information and exit\r\n",
      "\r\n",
      "When verifying SHA-512/224 or SHA-512/256 checksums, indicate the\r\n",
      "algorithm explicitly using the -a option, e.g.\r\n",
      "\r\n",
      "  shasum -a 512224 -c checksumfile\r\n",
      "\r\n",
      "The sums are computed as described in FIPS-180-4.  When checking, the\r\n",
      "input should be a former output of this program.  The default mode is to\r\n",
      "print a line with checksum, a character indicating type (`*' for binary,\r\n",
      "` ' for text, `?' for portable, `^' for BITS), and name for each FILE.\r\n",
      "\r\n",
      "Report shasum bugs to mshelor@cpan.org\r\n"
     ]
    }
   ],
   "source": [
    "!shasum -h"
   ]
  },
  {
   "cell_type": "code",
   "execution_count": 39,
   "metadata": {},
   "outputs": [
    {
     "name": "stdout",
     "output_type": "stream",
     "text": [
      "\u001b[1mdiff --git a/README.md b/README.md\u001b[m\r\n",
      "\u001b[1mindex a7edf6c..2a859c7 100644\u001b[m\r\n",
      "\u001b[1m--- a/README.md\u001b[m\r\n",
      "\u001b[1m+++ b/README.md\u001b[m\r\n",
      "\u001b[36m@@ -1,2 +1,2 @@\u001b[m\r\n",
      " # git demo-project\u001b[m\r\n",
      "\u001b[31m-This is the first line\u001b[m\r\n",
      "\\ No newline at end of file\u001b[m\r\n",
      "\u001b[32m+\u001b[m\u001b[32mThis is the first lineadd another line\u001b[m\r\n"
     ]
    }
   ],
   "source": [
    "!git diff"
   ]
  },
  {
   "cell_type": "code",
   "execution_count": 43,
   "metadata": {},
   "outputs": [
    {
     "name": "stdout",
     "output_type": "stream",
     "text": [
      "[master f656941] modified README file\r\n",
      " 1 file changed, 1 insertion(+), 1 deletion(-)\r\n"
     ]
    }
   ],
   "source": [
    "!git commit -a -m 'modified README file'"
   ]
  },
  {
   "cell_type": "code",
   "execution_count": 75,
   "metadata": {},
   "outputs": [
    {
     "name": "stdout",
     "output_type": "stream",
     "text": [
      "\u001b[33mcommit f6569413a83366a8a2b8d1a449096f818319dfb4\u001b[m\u001b[33m (\u001b[m\u001b[1;36mHEAD -> \u001b[m\u001b[1;32mmaster\u001b[m\u001b[33m)\u001b[m\r\n",
      "Author: Raphael Holzer <raphael.holzer@citycable.ch>\r\n",
      "Date:   Sun Aug 5 22:39:04 2018 +0200\r\n",
      "\r\n",
      "    modified README file\r\n",
      "\r\n",
      "\u001b[33mcommit d2fdf005c715c028e2a9ea16e4da18e8291408c8\u001b[m\r\n",
      "Author: Raphael Holzer <raphael.holzer@citycable.ch>\r\n",
      "Date:   Sun Aug 5 22:34:17 2018 +0200\r\n",
      "\r\n",
      "    initial commit\r\n"
     ]
    }
   ],
   "source": [
    "!git log"
   ]
  },
  {
   "cell_type": "code",
   "execution_count": 76,
   "metadata": {},
   "outputs": [
    {
     "name": "stdout",
     "output_type": "stream",
     "text": [
      "3637d6937b34852cdb5f5119311868720f8a6393  README.md\r\n"
     ]
    }
   ],
   "source": [
    "!shasum README.md"
   ]
  },
  {
   "cell_type": "markdown",
   "metadata": {},
   "source": [
    "# Cloning an existing directory"
   ]
  },
  {
   "cell_type": "markdown",
   "metadata": {},
   "source": [
    "Go to the temporary directory in the user directory"
   ]
  },
  {
   "cell_type": "code",
   "execution_count": 83,
   "metadata": {},
   "outputs": [
    {
     "name": "stdout",
     "output_type": "stream",
     "text": [
      "/Users/raphael/tmp\n"
     ]
    }
   ],
   "source": [
    "cd ~/tmp"
   ]
  },
  {
   "cell_type": "code",
   "execution_count": 85,
   "metadata": {},
   "outputs": [
    {
     "name": "stdout",
     "output_type": "stream",
     "text": [
      "\u001b[34mgit-demo\u001b[m\u001b[m/  \u001b[34mminecraft\u001b[m\u001b[m/\r\n"
     ]
    }
   ],
   "source": [
    "ls"
   ]
  },
  {
   "cell_type": "code",
   "execution_count": 86,
   "metadata": {},
   "outputs": [
    {
     "name": "stdout",
     "output_type": "stream",
     "text": [
      "Cloning into 'progit2-fr'...\n",
      "remote: Counting objects: 7287, done.\u001b[K\n",
      "remote: Compressing objects: 100% (11/11), done.\u001b[K\n",
      "remote: Total 7287 (delta 5), reused 13 (delta 4), pack-reused 7270\u001b[K\n",
      "Receiving objects: 100% (7287/7287), 121.99 MiB | 1.94 MiB/s, done.\n",
      "Resolving deltas: 100% (4567/4567), done.\n"
     ]
    }
   ],
   "source": [
    "!git clone https://github.com/progit/progit2-fr.git"
   ]
  },
  {
   "cell_type": "code",
   "execution_count": 89,
   "metadata": {},
   "outputs": [
    {
     "name": "stdout",
     "output_type": "stream",
     "text": [
      "\u001b[34mgit-demo\u001b[m\u001b[m/   \u001b[34mminecraft\u001b[m\u001b[m/  \u001b[34mprogit2-fr\u001b[m\u001b[m/\r\n"
     ]
    }
   ],
   "source": [
    "ls"
   ]
  },
  {
   "cell_type": "code",
   "execution_count": 93,
   "metadata": {},
   "outputs": [
    {
     "name": "stdout",
     "output_type": "stream",
     "text": [
      "/Users/raphael/tmp/progit2-fr\n"
     ]
    }
   ],
   "source": [
    "cd progit2-fr/"
   ]
  },
  {
   "cell_type": "code",
   "execution_count": null,
   "metadata": {},
   "outputs": [],
   "source": [
    "# %load README.asc\n",
    "image:https://travis-ci.org/progit/progit2-fr.svg?branch=master[\"Build Status\", link=\"https://travis-ci.org/progit/progit2-fr\"]\n",
    "\n",
    "= Pro Git 2ème Édition, Effort de traduction française\n",
    "\n",
    "Ce dépôt concerne l'effort de traduction en français de la deuxième édition du livre Pro Git.\n",
    "\n",
    "La dernière version du livre est compilée et proposée en téléchargement sur https://git-scm.com/book/fr aux formats web, epub et PDF.\n",
    "\n",
    "\n",
    "== Liste de diffusion\n",
    "\n",
    "Notre liste de diffusion est ici : http://groups.google.com/group/progit-fr\n",
    "\n",
    "Si vous travaillez ou souhaitez travailler sur la traduction française de Progit 2ème édition, faites-nous le savoir, de sorte à ne pas dupliquer le travail.\n",
    "\n",
    "== Méthode de contribution\n",
    "\n",
    "Pour simplifier la gestion et utiliser pleinement les capacités de Git et GitHub, la manière la plus directe de collaborer consiste à faire un fork sur GitHub du dépôt progit/progit2-fr sur votre propre compte pour y générer vos modifications, si possible sur une branche thématique.\n",
    "\n",
    "Ensuite, il suffit de lancer une requête de tirage pour nous avertir que les modifications peuvent être revues et intégrées.\n",
    "\n",
    "== Comment générer le livre\n",
    "\n",
    "Vous pouvez générer les différentes versions du livre manuellement avec Asciidoctor.\n",
    "Pour cela, vous devez installer les paquets `ruby`, `rubygems`, `rubygem-asciidoctor` et `ruby-devel` s'ils ne sont pas déjà installés.\n",
    "\n",
    "Vous pouvez générer le livre aux formats PDF, e-pub, mobi et HTML avec les commandes suivantes :\n",
    "[source,console]\n",
    "----\n",
    "$ bundle install\n",
    "$ bundle exec rake book:build\n",
    "Converting to HTML...\n",
    " -- HTML output at progit.html\n",
    "Converting to EPub...\n",
    " -- Epub output at progit.epub\n",
    "Converting to Mobi (kf8)...\n",
    " -- Mobi output at progit.mobi\n",
    "Converting to PDF...\n",
    " -- PDF output at progit.pdf\n",
    "----\n",
    "\n",
    "Une alternative à l'appel de la commande `bundle` est d'appeler directement la commande `asciidoctor`.\n",
    "Utilisez les commandes suivantes :\n",
    "[source,console]\n",
    "----\n",
    "$ asciidoctor progit.asc\n",
    "$ asciidoctor-pdf progit.asc\n",
    "$ asciidoctor-epub3 progit.asc\n",
    "$ asciidoctor-epub3 -a ebook-format=kf8 progit.asc\n",
    "----\n",
    "\n",
    "Cela utilise les projets `asciidoctor`, `asciidoctor-pdf` et `asciidoctor-epub`.\n",
    "\n",
    "Pour plus d'informations, veuillez vous référer à link:generer_livre.asc[la page dédiée].\n",
    "\n",
    "= Références pour la traduction\n",
    "\n",
    "== Fichier glossaire\n",
    "\n",
    "Le fichier fr/glossaire-git.adoc tente de rassembler les traductions choisies pour les termes spécifiques à Git. Si d'autres termes nécessitent une uniformisation, il ne faut pas hésiter à les y ajouter. De même, il est toujours possible de changer les termes déjà renseignés si une meilleure traduction est proposée.\n",
    "\n",
    "L'uniformisation de la traduction par le respect de ce glossaire est une tâche permanente d'amélioration de la qualité finale du texte.\n",
    "\n",
    "== Glossaires généraux sur internet\n",
    "\n",
    "Les glossaires de traduction informatiques disponibles sur Internet, sans être des références dogmatiques donnent des indications sur les termes les plus utilisés dans les documents français sur l'informatique.\n",
    "\n",
    "* http://glossaire.traduc.org/\n",
    "* http://www.dglf.culture.gouv.fr/cogeter/16-03-99-internet-listes.html\n",
    "* http://deschamp.free.fr/exinria/RETIF/\n",
    "\n",
    "== Typographie française\n",
    "\n",
    "La version française du livre se veut un document valant un document écrit nativement en français. À ce titre, la traduction doit suivre autant que possible les règles de typographie française en vigueur.\n",
    "\n",
    "Voici ci-dessous quelques liens :\n",
    "\n",
    "* http://devernay.free.fr/typo.html\n",
    "* http://jacques-andre.fr/faqtypo/lessons.pdf\n"
   ]
  },
  {
   "cell_type": "markdown",
   "metadata": {},
   "source": [
    "Now let's install the code for the open-source book **Pro Git, 2nd Edition**, using `git clone url`:"
   ]
  },
  {
   "cell_type": "code",
   "execution_count": 101,
   "metadata": {},
   "outputs": [
    {
     "name": "stdout",
     "output_type": "stream",
     "text": [
      "/Users/raphael/tmp\n",
      "Cloning into 'progit2'...\n",
      "remote: Counting objects: 10800, done.\u001b[K\n",
      "remote: Compressing objects: 100% (25/25), done.\u001b[K\n",
      "remote: Total 10800 (delta 12), reused 26 (delta 10), pack-reused 10762\u001b[K\n",
      "Receiving objects: 100% (10800/10800), 169.73 MiB | 1.39 MiB/s, done.\n",
      "Resolving deltas: 100% (6407/6407), done.\n"
     ]
    }
   ],
   "source": [
    "!pwd\n",
    "!git clone https://github.com/progit/progit2.git"
   ]
  },
  {
   "cell_type": "code",
   "execution_count": null,
   "metadata": {},
   "outputs": [],
   "source": []
  },
  {
   "cell_type": "markdown",
   "metadata": {},
   "source": [
    "Update Homebrew"
   ]
  },
  {
   "cell_type": "code",
   "execution_count": 107,
   "metadata": {},
   "outputs": [
    {
     "name": "stdout",
     "output_type": "stream",
     "text": [
      "Already up-to-date.\r\n"
     ]
    }
   ],
   "source": [
    "!brew update"
   ]
  },
  {
   "cell_type": "markdown",
   "metadata": {},
   "source": [
    "Install Ruby"
   ]
  },
  {
   "cell_type": "code",
   "execution_count": 109,
   "metadata": {},
   "outputs": [
    {
     "name": "stdout",
     "output_type": "stream",
     "text": [
      "\u001b[33mWarning:\u001b[0m rbenv 1.1.1 is already installed and up-to-date\r\n",
      "To reinstall 1.1.1, run `brew reinstall rbenv`\r\n",
      "\u001b[33mWarning:\u001b[0m ruby-build 20180618 is already installed and up-to-date\r\n",
      "To reinstall 20180618, run `brew reinstall ruby-build`\r\n"
     ]
    }
   ],
   "source": [
    "!brew install rbenv ruby-build"
   ]
  },
  {
   "cell_type": "code",
   "execution_count": 111,
   "metadata": {},
   "outputs": [
    {
     "name": "stdout",
     "output_type": "stream",
     "text": [
      "ruby 2.0.0p648 (2015-12-16 revision 53162) [universal.x86_64-darwin15]\r\n"
     ]
    }
   ],
   "source": [
    "!ruby --version"
   ]
  },
  {
   "cell_type": "code",
   "execution_count": null,
   "metadata": {},
   "outputs": [],
   "source": []
  },
  {
   "cell_type": "markdown",
   "metadata": {},
   "source": [
    "# Git Branching"
   ]
  },
  {
   "cell_type": "markdown",
   "metadata": {},
   "source": [
    "Branching is seperating the working flow into two different strands to develop a separte aspect or a new feature. Git has an extremely light-weight branching mechanism. It's lightning fast and it is encouraged to branch and merge frequently."
   ]
  },
  {
   "cell_type": "markdown",
   "metadata": {},
   "source": [
    "## Branches in a Nutshell"
   ]
  },
  {
   "cell_type": "markdown",
   "metadata": {},
   "source": [
    "To understand the Git branching mechanism, we have to examine how Git stores commits. Git stores changes as a series of snapshots (or commits).\n",
    "A commit consists of three elements:\n",
    "* commit element : pointer to tree (snapshot), pointer to parent, name, email, message\n",
    "* tree element : the snapshot\n",
    "* data blobs : files referred to by their SHA1 key"
   ]
  },
  {
   "cell_type": "markdown",
   "metadata": {},
   "source": [
    "At this moment there is only one single file in our repository."
   ]
  },
  {
   "cell_type": "code",
   "execution_count": 350,
   "metadata": {},
   "outputs": [
    {
     "name": "stdout",
     "output_type": "stream",
     "text": [
      "\u001b[34mgit-demo\u001b[m\u001b[m/  \u001b[34mminecraft\u001b[m\u001b[m/ \u001b[34mprogit2\u001b[m\u001b[m/   \u001b[34mtest\u001b[m\u001b[m/\r\n"
     ]
    }
   ],
   "source": [
    "ls"
   ]
  },
  {
   "cell_type": "code",
   "execution_count": 117,
   "metadata": {},
   "outputs": [
    {
     "name": "stdout",
     "output_type": "stream",
     "text": [
      "README.md\r\n"
     ]
    }
   ],
   "source": [
    "ls"
   ]
  },
  {
   "cell_type": "markdown",
   "metadata": {},
   "source": [
    "There is an untracked file called `.DS_Store` which is a Mac specific hidden file."
   ]
  },
  {
   "cell_type": "code",
   "execution_count": 118,
   "metadata": {},
   "outputs": [
    {
     "name": "stdout",
     "output_type": "stream",
     "text": [
      "On branch master\r\n",
      "Untracked files:\r\n",
      "  (use \"git add <file>...\" to include in what will be committed)\r\n",
      "\r\n",
      "\t\u001b[31m.DS_Store\u001b[m\r\n",
      "\r\n",
      "nothing added to commit but untracked files present (use \"git add\" to track)\r\n"
     ]
    }
   ],
   "source": [
    "!git status"
   ]
  },
  {
   "cell_type": "markdown",
   "metadata": {},
   "source": [
    "We add a new file to our repository."
   ]
  },
  {
   "cell_type": "code",
   "execution_count": 128,
   "metadata": {},
   "outputs": [],
   "source": [
    "!echo 'licence file' > LICENSE.txt"
   ]
  },
  {
   "cell_type": "markdown",
   "metadata": {},
   "source": [
    "The two files are present in the listing."
   ]
  },
  {
   "cell_type": "code",
   "execution_count": 132,
   "metadata": {},
   "outputs": [
    {
     "name": "stdout",
     "output_type": "stream",
     "text": [
      "LICENSE.txt  README.md\r\n"
     ]
    }
   ],
   "source": [
    "ls"
   ]
  },
  {
   "cell_type": "markdown",
   "metadata": {},
   "source": [
    "`git status` now shows anothre untracked file."
   ]
  },
  {
   "cell_type": "code",
   "execution_count": 126,
   "metadata": {},
   "outputs": [
    {
     "name": "stdout",
     "output_type": "stream",
     "text": [
      "On branch master\r\n",
      "Untracked files:\r\n",
      "  (use \"git add <file>...\" to include in what will be committed)\r\n",
      "\r\n",
      "\t\u001b[31m.DS_Store\u001b[m\r\n",
      "\t\u001b[31mLICENCSE.txt\u001b[m\r\n",
      "\r\n",
      "nothing added to commit but untracked files present (use \"git add\" to track)\r\n"
     ]
    }
   ],
   "source": [
    "!git status"
   ]
  },
  {
   "cell_type": "markdown",
   "metadata": {},
   "source": [
    "We add the file to the staging area."
   ]
  },
  {
   "cell_type": "code",
   "execution_count": 133,
   "metadata": {},
   "outputs": [],
   "source": [
    "!git add LICENSE.txt"
   ]
  },
  {
   "cell_type": "markdown",
   "metadata": {},
   "source": [
    "and commit the "
   ]
  },
  {
   "cell_type": "code",
   "execution_count": 134,
   "metadata": {},
   "outputs": [
    {
     "name": "stdout",
     "output_type": "stream",
     "text": [
      "[master 22e4bff] added license\r\n",
      " 2 files changed, 2 insertions(+)\r\n",
      " create mode 100644 LICENCSE.txt\r\n",
      " create mode 100644 LICENSE.txt\r\n"
     ]
    }
   ],
   "source": [
    "!git commit -m 'added license'"
   ]
  },
  {
   "cell_type": "code",
   "execution_count": 135,
   "metadata": {},
   "outputs": [
    {
     "name": "stdout",
     "output_type": "stream",
     "text": [
      "LICENSE.txt  README.md\r\n"
     ]
    }
   ],
   "source": [
    "ls"
   ]
  },
  {
   "cell_type": "code",
   "execution_count": 136,
   "metadata": {},
   "outputs": [
    {
     "name": "stdout",
     "output_type": "stream",
     "text": [
      "On branch master\r\n",
      "Changes not staged for commit:\r\n",
      "  (use \"git add/rm <file>...\" to update what will be committed)\r\n",
      "  (use \"git checkout -- <file>...\" to discard changes in working directory)\r\n",
      "\r\n",
      "\t\u001b[31mdeleted:    LICENCSE.txt\u001b[m\r\n",
      "\r\n",
      "Untracked files:\r\n",
      "  (use \"git add <file>...\" to include in what will be committed)\r\n",
      "\r\n",
      "\t\u001b[31m.DS_Store\u001b[m\r\n",
      "\r\n",
      "no changes added to commit (use \"git add\" and/or \"git commit -a\")\r\n"
     ]
    }
   ],
   "source": [
    "!git status"
   ]
  },
  {
   "cell_type": "code",
   "execution_count": 137,
   "metadata": {},
   "outputs": [
    {
     "name": "stdout",
     "output_type": "stream",
     "text": [
      "rm 'LICENCSE.txt'\r\n"
     ]
    }
   ],
   "source": [
    "!git rm LICENCSE.txt"
   ]
  },
  {
   "cell_type": "code",
   "execution_count": 140,
   "metadata": {},
   "outputs": [
    {
     "name": "stdout",
     "output_type": "stream",
     "text": [
      "On branch master\r\n",
      "Changes to be committed:\r\n",
      "  (use \"git reset HEAD <file>...\" to unstage)\r\n",
      "\r\n",
      "\t\u001b[32mdeleted:    LICENCSE.txt\u001b[m\r\n",
      "\r\n",
      "Untracked files:\r\n",
      "  (use \"git add <file>...\" to include in what will be committed)\r\n",
      "\r\n",
      "\t\u001b[31m.DS_Store\u001b[m\r\n",
      "\r\n"
     ]
    }
   ],
   "source": [
    "!git status"
   ]
  },
  {
   "cell_type": "code",
   "execution_count": 141,
   "metadata": {},
   "outputs": [
    {
     "name": "stdout",
     "output_type": "stream",
     "text": [
      "[master d817221] removed file with typo in name\r\n",
      " 1 file changed, 1 deletion(-)\r\n",
      " delete mode 100644 LICENCSE.txt\r\n"
     ]
    }
   ],
   "source": [
    "!git commit -m 'removed file with typo in name'"
   ]
  },
  {
   "cell_type": "code",
   "execution_count": 142,
   "metadata": {},
   "outputs": [
    {
     "name": "stdout",
     "output_type": "stream",
     "text": [
      "\u001b[33mcommit d81722128bc8d01ba1bcc52ea400b8ca70e3a13d\u001b[m\u001b[33m (\u001b[m\u001b[1;36mHEAD -> \u001b[m\u001b[1;32mmaster\u001b[m\u001b[33m)\u001b[m\r\n",
      "Author: Raphael Holzer <raphael.holzer@citycable.ch>\r\n",
      "Date:   Mon Aug 6 21:08:12 2018 +0200\r\n",
      "\r\n",
      "    removed file with typo in name\r\n",
      "\r\n",
      "\u001b[33mcommit 22e4bff160b494454797f5c1829f110b5793a1f5\u001b[m\r\n",
      "Author: Raphael Holzer <raphael.holzer@citycable.ch>\r\n",
      "Date:   Mon Aug 6 21:06:10 2018 +0200\r\n",
      "\r\n",
      "    added license\r\n",
      "\r\n",
      "\u001b[33mcommit f6569413a83366a8a2b8d1a449096f818319dfb4\u001b[m\r\n",
      "Author: Raphael Holzer <raphael.holzer@citycable.ch>\r\n",
      "Date:   Sun Aug 5 22:39:04 2018 +0200\r\n",
      "\r\n",
      "    modified README file\r\n",
      "\r\n",
      "\u001b[33mcommit d2fdf005c715c028e2a9ea16e4da18e8291408c8\u001b[m\r\n",
      "Author: Raphael Holzer <raphael.holzer@citycable.ch>\r\n",
      "Date:   Sun Aug 5 22:34:17 2018 +0200\r\n",
      "\r\n",
      "    initial commit\r\n"
     ]
    }
   ],
   "source": [
    "!git log"
   ]
  },
  {
   "cell_type": "markdown",
   "metadata": {},
   "source": [
    "A commit is just a pointer to a tree. It's an extremely light-weight data structure: \n",
    "* pointer to the previous  commit\n",
    "* info (name, email, message)\n",
    "* tree\n",
    "* blobs corresponding to the tree entries"
   ]
  },
  {
   "cell_type": "code",
   "execution_count": 147,
   "metadata": {},
   "outputs": [
    {
     "name": "stdout",
     "output_type": "stream",
     "text": [
      "/Users/raphael/tmp/git-demo/.git\n"
     ]
    }
   ],
   "source": [
    "cd .git"
   ]
  },
  {
   "cell_type": "code",
   "execution_count": 148,
   "metadata": {},
   "outputs": [
    {
     "name": "stdout",
     "output_type": "stream",
     "text": [
      ".\r\n",
      "├── COMMIT_EDITMSG\r\n",
      "├── HEAD\r\n",
      "├── config\r\n",
      "├── description\r\n",
      "├── hooks\r\n",
      "│   ├── applypatch-msg.sample\r\n",
      "│   ├── commit-msg.sample\r\n",
      "│   ├── post-update.sample\r\n",
      "│   ├── pre-applypatch.sample\r\n",
      "│   ├── pre-commit.sample\r\n",
      "│   ├── pre-push.sample\r\n",
      "│   ├── pre-rebase.sample\r\n",
      "│   ├── pre-receive.sample\r\n",
      "│   ├── prepare-commit-msg.sample\r\n",
      "│   └── update.sample\r\n",
      "├── index\r\n",
      "├── info\r\n",
      "│   └── exclude\r\n",
      "├── logs\r\n",
      "│   ├── HEAD\r\n",
      "│   └── refs\r\n",
      "│       └── heads\r\n",
      "│           └── master\r\n",
      "├── objects\r\n",
      "│   ├── 12\r\n",
      "│   │   └── 54d0c5234e9c5458bcec150e17c817b21177eb\r\n",
      "│   ├── 19\r\n",
      "│   │   └── 564902f3e7eb2834ed890d185ad5359e7b9e30\r\n",
      "│   ├── 22\r\n",
      "│   │   └── e4bff160b494454797f5c1829f110b5793a1f5\r\n",
      "│   ├── 2a\r\n",
      "│   │   └── 859c7a2c2c265537ece7bb5905fffa59b66e6b\r\n",
      "│   ├── 37\r\n",
      "│   │   └── ffac6d397dd125562ed64e3f92d8d4be123d34\r\n",
      "│   ├── 4c\r\n",
      "│   │   └── 5df24478b5fa797ec8e923d4ecb7fb392d78b7\r\n",
      "│   ├── a7\r\n",
      "│   │   └── edf6c3011d481f414130cee7d44c2384284734\r\n",
      "│   ├── d2\r\n",
      "│   │   └── fdf005c715c028e2a9ea16e4da18e8291408c8\r\n",
      "│   ├── d8\r\n",
      "│   │   └── 1722128bc8d01ba1bcc52ea400b8ca70e3a13d\r\n",
      "│   ├── ea\r\n",
      "│   │   └── 163a9e926fa13b6cef72a646d1724c0aa468dc\r\n",
      "│   ├── f6\r\n",
      "│   │   └── 569413a83366a8a2b8d1a449096f818319dfb4\r\n",
      "│   ├── info\r\n",
      "│   └── pack\r\n",
      "└── refs\r\n",
      "    ├── heads\r\n",
      "    │   └── master\r\n",
      "    └── tags\r\n",
      "\r\n",
      "22 directories, 30 files\r\n"
     ]
    }
   ],
   "source": [
    "!tree"
   ]
  },
  {
   "cell_type": "code",
   "execution_count": 149,
   "metadata": {},
   "outputs": [
    {
     "name": "stdout",
     "output_type": "stream",
     "text": [
      "/Users/raphael/tmp/git-demo\n"
     ]
    }
   ],
   "source": [
    "cd .."
   ]
  },
  {
   "cell_type": "code",
   "execution_count": 151,
   "metadata": {},
   "outputs": [
    {
     "name": "stdout",
     "output_type": "stream",
     "text": [
      "d4a4d6941a858a29d48ec83ab4d207550809f0d4  LICENSE.txt\n",
      "3637d6937b34852cdb5f5119311868720f8a6393  README.md\n"
     ]
    }
   ],
   "source": [
    "!shasum LICENSE.txt\n",
    "!shasum README.md"
   ]
  },
  {
   "cell_type": "code",
   "execution_count": 157,
   "metadata": {},
   "outputs": [
    {
     "name": "stdout",
     "output_type": "stream",
     "text": [
      "x\u0001+)JMU06g040031Q\brut�u��MaX���aFY\u000fyGG�sϯ�(�h��\u0000\u00006�\u000e�"
     ]
    }
   ],
   "source": [
    "!cat .git/objects/12/54d0c5234e9c5458bcec150e17c817b21177eb"
   ]
  },
  {
   "cell_type": "code",
   "execution_count": 158,
   "metadata": {},
   "outputs": [
    {
     "name": "stdout",
     "output_type": "stream",
     "text": [
      "x\u0001+)JMU044c040031Q��tv�s\u000ev�+�(ax%f5oR�B��E��.\u0016�p-ɸ����� WG\u0017_W��\u0014\u0006��9U::j��o��d��+r[^6\u0000�+-�"
     ]
    }
   ],
   "source": [
    "!cat .git/objects/19/564902f3e7eb2834ed890d185ad5359e7b9e30"
   ]
  },
  {
   "cell_type": "code",
   "execution_count": 159,
   "metadata": {},
   "outputs": [],
   "source": [
    "!git branch testing"
   ]
  },
  {
   "cell_type": "code",
   "execution_count": 165,
   "metadata": {},
   "outputs": [
    {
     "name": "stdout",
     "output_type": "stream",
     "text": [
      "\u001b[34m12\u001b[m\u001b[m/   \u001b[34m19\u001b[m\u001b[m/   \u001b[34m22\u001b[m\u001b[m/   \u001b[34m2a\u001b[m\u001b[m/   \u001b[34m37\u001b[m\u001b[m/   \u001b[34m4c\u001b[m\u001b[m/   \u001b[34ma7\u001b[m\u001b[m/   \u001b[34md2\u001b[m\u001b[m/   \u001b[34md8\u001b[m\u001b[m/   \u001b[34mea\u001b[m\u001b[m/   \u001b[34mf6\u001b[m\u001b[m/   \u001b[34minfo\u001b[m\u001b[m/ \u001b[34mpack\u001b[m\u001b[m/\r\n"
     ]
    }
   ],
   "source": [
    "ls .git/objects/"
   ]
  },
  {
   "cell_type": "code",
   "execution_count": 167,
   "metadata": {},
   "outputs": [
    {
     "name": "stdout",
     "output_type": "stream",
     "text": [
      "master   testing\r\n"
     ]
    }
   ],
   "source": [
    "ls .git/logs/refs/heads/"
   ]
  },
  {
   "cell_type": "code",
   "execution_count": 169,
   "metadata": {},
   "outputs": [
    {
     "name": "stdout",
     "output_type": "stream",
     "text": [
      "0000000000000000000000000000000000000000 d2fdf005c715c028e2a9ea16e4da18e8291408c8 Raphael Holzer <raphael.holzer@citycable.ch> 1533501257 +0200\tcommit (initial): initial commit\r\n",
      "d2fdf005c715c028e2a9ea16e4da18e8291408c8 f6569413a83366a8a2b8d1a449096f818319dfb4 Raphael Holzer <raphael.holzer@citycable.ch> 1533501544 +0200\tcommit: modified README file\r\n",
      "f6569413a83366a8a2b8d1a449096f818319dfb4 22e4bff160b494454797f5c1829f110b5793a1f5 Raphael Holzer <raphael.holzer@citycable.ch> 1533582370 +0200\tcommit: added license\r\n",
      "22e4bff160b494454797f5c1829f110b5793a1f5 d81722128bc8d01ba1bcc52ea400b8ca70e3a13d Raphael Holzer <raphael.holzer@citycable.ch> 1533582492 +0200\tcommit: removed file with typo in name\r\n"
     ]
    }
   ],
   "source": [
    "cat .git/logs/refs/heads/master"
   ]
  },
  {
   "cell_type": "code",
   "execution_count": 170,
   "metadata": {},
   "outputs": [
    {
     "name": "stdout",
     "output_type": "stream",
     "text": [
      "0000000000000000000000000000000000000000 d81722128bc8d01ba1bcc52ea400b8ca70e3a13d Raphael Holzer <raphael.holzer@citycable.ch> 1533583310 +0200\tbranch: Created from master\r\n"
     ]
    }
   ],
   "source": [
    "cat .git/logs/refs/heads/testing"
   ]
  },
  {
   "cell_type": "code",
   "execution_count": 171,
   "metadata": {},
   "outputs": [
    {
     "name": "stdout",
     "output_type": "stream",
     "text": [
      "\u001b[33mcommit d81722128bc8d01ba1bcc52ea400b8ca70e3a13d\u001b[m\u001b[33m (\u001b[m\u001b[1;36mHEAD -> \u001b[m\u001b[1;32mmaster\u001b[m\u001b[33m, \u001b[m\u001b[1;32mtesting\u001b[m\u001b[33m)\u001b[m\r\n",
      "Author: Raphael Holzer <raphael.holzer@citycable.ch>\r\n",
      "Date:   Mon Aug 6 21:08:12 2018 +0200\r\n",
      "\r\n",
      "    removed file with typo in name\r\n",
      "\r\n",
      "\u001b[33mcommit 22e4bff160b494454797f5c1829f110b5793a1f5\u001b[m\r\n",
      "Author: Raphael Holzer <raphael.holzer@citycable.ch>\r\n",
      "Date:   Mon Aug 6 21:06:10 2018 +0200\r\n",
      "\r\n",
      "    added license\r\n",
      "\r\n",
      "\u001b[33mcommit f6569413a83366a8a2b8d1a449096f818319dfb4\u001b[m\r\n",
      "Author: Raphael Holzer <raphael.holzer@citycable.ch>\r\n",
      "Date:   Sun Aug 5 22:39:04 2018 +0200\r\n",
      "\r\n",
      "    modified README file\r\n",
      "\r\n",
      "\u001b[33mcommit d2fdf005c715c028e2a9ea16e4da18e8291408c8\u001b[m\r\n",
      "Author: Raphael Holzer <raphael.holzer@citycable.ch>\r\n",
      "Date:   Sun Aug 5 22:34:17 2018 +0200\r\n",
      "\r\n",
      "    initial commit\r\n"
     ]
    }
   ],
   "source": [
    "!git log"
   ]
  },
  {
   "cell_type": "code",
   "execution_count": 172,
   "metadata": {},
   "outputs": [
    {
     "name": "stdout",
     "output_type": "stream",
     "text": [
      "\u001b[33md817221\u001b[m\u001b[33m (\u001b[m\u001b[1;36mHEAD -> \u001b[m\u001b[1;32mmaster\u001b[m\u001b[33m, \u001b[m\u001b[1;32mtesting\u001b[m\u001b[33m)\u001b[m removed file with typo in name\r\n",
      "\u001b[33m22e4bff\u001b[m added license\r\n",
      "\u001b[33mf656941\u001b[m modified README file\r\n",
      "\u001b[33md2fdf00\u001b[m initial commit\r\n"
     ]
    }
   ],
   "source": [
    "!git log --decorate --oneline"
   ]
  },
  {
   "cell_type": "markdown",
   "metadata": {},
   "source": [
    "To switch to the `testing` branch use the `checkout` command"
   ]
  },
  {
   "cell_type": "code",
   "execution_count": 177,
   "metadata": {},
   "outputs": [
    {
     "name": "stdout",
     "output_type": "stream",
     "text": [
      "Switched to branch 'testing'\r\n"
     ]
    }
   ],
   "source": [
    "!git checkout testing"
   ]
  },
  {
   "cell_type": "code",
   "execution_count": 178,
   "metadata": {},
   "outputs": [],
   "source": [
    "!echo 'change' >> LICENSE.txt"
   ]
  },
  {
   "cell_type": "code",
   "execution_count": 179,
   "metadata": {},
   "outputs": [
    {
     "name": "stdout",
     "output_type": "stream",
     "text": [
      "[testing 1f24513] changed license\r\n",
      " 1 file changed, 1 insertion(+)\r\n"
     ]
    }
   ],
   "source": [
    "!git commit -a -m 'changed license'"
   ]
  },
  {
   "cell_type": "code",
   "execution_count": 180,
   "metadata": {},
   "outputs": [
    {
     "name": "stdout",
     "output_type": "stream",
     "text": [
      "Switched to branch 'master'\r\n"
     ]
    }
   ],
   "source": [
    "!git checkout master"
   ]
  },
  {
   "cell_type": "code",
   "execution_count": 181,
   "metadata": {},
   "outputs": [],
   "source": [
    "!echo 'made another change' > LICENSE.txt"
   ]
  },
  {
   "cell_type": "code",
   "execution_count": 183,
   "metadata": {},
   "outputs": [
    {
     "name": "stdout",
     "output_type": "stream",
     "text": [
      "[master 47460a4] changed licenses again (in master)\r\n",
      " 1 file changed, 1 insertion(+), 1 deletion(-)\r\n"
     ]
    }
   ],
   "source": [
    "!git commit -a -m 'changed licenses again (in master)'"
   ]
  },
  {
   "cell_type": "code",
   "execution_count": 184,
   "metadata": {},
   "outputs": [
    {
     "name": "stdout",
     "output_type": "stream",
     "text": [
      "* \u001b[33m47460a4\u001b[m\u001b[33m (\u001b[m\u001b[1;36mHEAD -> \u001b[m\u001b[1;32mmaster\u001b[m\u001b[33m)\u001b[m changed licenses again (in master)\r\n",
      "\u001b[31m|\u001b[m * \u001b[33m1f24513\u001b[m\u001b[33m (\u001b[m\u001b[1;32mtesting\u001b[m\u001b[33m)\u001b[m changed license\r\n",
      "\u001b[31m|\u001b[m\u001b[31m/\u001b[m  \r\n",
      "* \u001b[33md817221\u001b[m removed file with typo in name\r\n",
      "* \u001b[33m22e4bff\u001b[m added license\r\n",
      "* \u001b[33mf656941\u001b[m modified README file\r\n",
      "* \u001b[33md2fdf00\u001b[m initial commit\r\n"
     ]
    }
   ],
   "source": [
    "!git log --oneline --decorate --graph --all"
   ]
  },
  {
   "cell_type": "code",
   "execution_count": 185,
   "metadata": {},
   "outputs": [
    {
     "name": "stdout",
     "output_type": "stream",
     "text": [
      "/Users/raphael/tmp/git-demo/.git\n"
     ]
    }
   ],
   "source": [
    "cd .git/"
   ]
  },
  {
   "cell_type": "code",
   "execution_count": 186,
   "metadata": {},
   "outputs": [
    {
     "name": "stdout",
     "output_type": "stream",
     "text": [
      ".\r\n",
      "├── COMMIT_EDITMSG\r\n",
      "├── HEAD\r\n",
      "├── config\r\n",
      "├── description\r\n",
      "├── hooks\r\n",
      "│   ├── applypatch-msg.sample\r\n",
      "│   ├── commit-msg.sample\r\n",
      "│   ├── post-update.sample\r\n",
      "│   ├── pre-applypatch.sample\r\n",
      "│   ├── pre-commit.sample\r\n",
      "│   ├── pre-push.sample\r\n",
      "│   ├── pre-rebase.sample\r\n",
      "│   ├── pre-receive.sample\r\n",
      "│   ├── prepare-commit-msg.sample\r\n",
      "│   └── update.sample\r\n",
      "├── index\r\n",
      "├── info\r\n",
      "│   └── exclude\r\n",
      "├── logs\r\n",
      "│   ├── HEAD\r\n",
      "│   └── refs\r\n",
      "│       └── heads\r\n",
      "│           ├── master\r\n",
      "│           └── testing\r\n",
      "├── objects\r\n",
      "│   ├── 12\r\n",
      "│   │   └── 54d0c5234e9c5458bcec150e17c817b21177eb\r\n",
      "│   ├── 19\r\n",
      "│   │   └── 564902f3e7eb2834ed890d185ad5359e7b9e30\r\n",
      "│   ├── 1f\r\n",
      "│   │   └── 245138a3f49f778c67acd4ed7bc979e76c222e\r\n",
      "│   ├── 22\r\n",
      "│   │   └── e4bff160b494454797f5c1829f110b5793a1f5\r\n",
      "│   ├── 2a\r\n",
      "│   │   └── 859c7a2c2c265537ece7bb5905fffa59b66e6b\r\n",
      "│   ├── 2d\r\n",
      "│   │   └── 67d277e19c12445bc607c0c4e1fc6d8d46830d\r\n",
      "│   ├── 37\r\n",
      "│   │   └── ffac6d397dd125562ed64e3f92d8d4be123d34\r\n",
      "│   ├── 47\r\n",
      "│   │   └── 460a401be5a61b7309b45087ccf7288b86e503\r\n",
      "│   ├── 4c\r\n",
      "│   │   └── 5df24478b5fa797ec8e923d4ecb7fb392d78b7\r\n",
      "│   ├── 6c\r\n",
      "│   │   └── 7d4589f79c0f0c24fd7dfef2b8bc7b89bdfbc5\r\n",
      "│   ├── a7\r\n",
      "│   │   └── edf6c3011d481f414130cee7d44c2384284734\r\n",
      "│   ├── b1\r\n",
      "│   │   └── 3ea07db3a21932ac653e16de4633856b2ac33a\r\n",
      "│   ├── c7\r\n",
      "│   │   └── 89ebc53df4c61b16d420b82867cacb767ff986\r\n",
      "│   ├── d2\r\n",
      "│   │   └── fdf005c715c028e2a9ea16e4da18e8291408c8\r\n",
      "│   ├── d8\r\n",
      "│   │   └── 1722128bc8d01ba1bcc52ea400b8ca70e3a13d\r\n",
      "│   ├── ea\r\n",
      "│   │   └── 163a9e926fa13b6cef72a646d1724c0aa468dc\r\n",
      "│   ├── f6\r\n",
      "│   │   └── 569413a83366a8a2b8d1a449096f818319dfb4\r\n",
      "│   ├── info\r\n",
      "│   └── pack\r\n",
      "└── refs\r\n",
      "    ├── heads\r\n",
      "    │   ├── master\r\n",
      "    │   └── testing\r\n",
      "    └── tags\r\n",
      "\r\n",
      "28 directories, 38 files\r\n"
     ]
    }
   ],
   "source": [
    "!tree"
   ]
  },
  {
   "cell_type": "code",
   "execution_count": 190,
   "metadata": {},
   "outputs": [
    {
     "name": "stdout",
     "output_type": "stream",
     "text": [
      "47460a401be5a61b7309b45087ccf7288b86e503\n",
      "1f245138a3f49f778c67acd4ed7bc979e76c222e\n"
     ]
    }
   ],
   "source": [
    "!cat refs/heads/master\n",
    "!cat refs/heads/testing"
   ]
  },
  {
   "cell_type": "code",
   "execution_count": 191,
   "metadata": {},
   "outputs": [
    {
     "name": "stdout",
     "output_type": "stream",
     "text": [
      "total 16\r\n",
      "-rw-r--r--  1 raphael  staff  41  6 aoû 21:34 master\r\n",
      "-rw-r--r--  1 raphael  staff  41  6 aoû 21:32 testing\r\n"
     ]
    }
   ],
   "source": [
    "ls -l refs/heads/"
   ]
  },
  {
   "cell_type": "markdown",
   "metadata": {},
   "source": [
    "## Basic Branching and Merging"
   ]
  },
  {
   "cell_type": "code",
   "execution_count": 195,
   "metadata": {},
   "outputs": [
    {
     "name": "stdout",
     "output_type": "stream",
     "text": [
      "Switched to a new branch 'hotfix'\r\n"
     ]
    }
   ],
   "source": [
    "!git checkout -b 'hotfix'"
   ]
  },
  {
   "cell_type": "code",
   "execution_count": 197,
   "metadata": {},
   "outputs": [],
   "source": [
    "!echo '<html></html>' > index.html"
   ]
  },
  {
   "cell_type": "code",
   "execution_count": 199,
   "metadata": {},
   "outputs": [
    {
     "name": "stdout",
     "output_type": "stream",
     "text": [
      "On branch hotfix\r\n",
      "Untracked files:\r\n",
      "\t\u001b[31m.DS_Store\u001b[m\r\n",
      "\t\u001b[31mindex.html\u001b[m\r\n",
      "\r\n",
      "nothing added to commit but untracked files present\r\n"
     ]
    }
   ],
   "source": [
    "!git commit -a -m 'added HTML index file'"
   ]
  },
  {
   "cell_type": "code",
   "execution_count": 201,
   "metadata": {},
   "outputs": [],
   "source": [
    "!git add index.html"
   ]
  },
  {
   "cell_type": "code",
   "execution_count": 202,
   "metadata": {},
   "outputs": [
    {
     "name": "stdout",
     "output_type": "stream",
     "text": [
      "[hotfix 99fe997] added HTML file\n",
      " 1 file changed, 1 insertion(+)\n",
      " create mode 100644 index.html\n"
     ]
    }
   ],
   "source": [
    "!git commit -m 'added HTML file'"
   ]
  },
  {
   "cell_type": "code",
   "execution_count": 203,
   "metadata": {},
   "outputs": [
    {
     "name": "stdout",
     "output_type": "stream",
     "text": [
      "* \u001b[33m99fe997\u001b[m\u001b[33m (\u001b[m\u001b[1;36mHEAD -> \u001b[m\u001b[1;32mhotfix\u001b[m\u001b[33m)\u001b[m added HTML file\r\n",
      "* \u001b[33m47460a4\u001b[m\u001b[33m (\u001b[m\u001b[1;32mmaster\u001b[m\u001b[33m)\u001b[m changed licenses again (in master)\r\n",
      "\u001b[31m|\u001b[m * \u001b[33m1f24513\u001b[m\u001b[33m (\u001b[m\u001b[1;32mtesting\u001b[m\u001b[33m)\u001b[m changed license\r\n",
      "\u001b[31m|\u001b[m\u001b[31m/\u001b[m  \r\n",
      "* \u001b[33md817221\u001b[m removed file with typo in name\r\n",
      "* \u001b[33m22e4bff\u001b[m added license\r\n",
      "* \u001b[33mf656941\u001b[m modified README file\r\n",
      "* \u001b[33md2fdf00\u001b[m initial commit\r\n"
     ]
    }
   ],
   "source": [
    "!git log --oneline --decorate --graph --all"
   ]
  },
  {
   "cell_type": "code",
   "execution_count": 204,
   "metadata": {},
   "outputs": [
    {
     "name": "stdout",
     "output_type": "stream",
     "text": [
      "Switched to branch 'master'\r\n"
     ]
    }
   ],
   "source": [
    "!git checkout master"
   ]
  },
  {
   "cell_type": "code",
   "execution_count": 205,
   "metadata": {},
   "outputs": [
    {
     "name": "stdout",
     "output_type": "stream",
     "text": [
      "Updating 47460a4..99fe997\n",
      "Fast-forward\n",
      " index.html | 1 \u001b[32m+\u001b[m\n",
      " 1 file changed, 1 insertion(+)\n",
      " create mode 100644 index.html\n"
     ]
    }
   ],
   "source": [
    "!git merge hotfix"
   ]
  },
  {
   "cell_type": "code",
   "execution_count": 206,
   "metadata": {},
   "outputs": [
    {
     "name": "stdout",
     "output_type": "stream",
     "text": [
      "Deleted branch hotfix (was 99fe997).\r\n"
     ]
    }
   ],
   "source": [
    "!git branch -d hotfix"
   ]
  },
  {
   "cell_type": "code",
   "execution_count": null,
   "metadata": {},
   "outputs": [],
   "source": []
  },
  {
   "cell_type": "code",
   "execution_count": null,
   "metadata": {},
   "outputs": [],
   "source": []
  },
  {
   "cell_type": "markdown",
   "metadata": {},
   "source": [
    "## Branch Management"
   ]
  },
  {
   "cell_type": "markdown",
   "metadata": {},
   "source": [
    "## Branching Workflows"
   ]
  },
  {
   "cell_type": "markdown",
   "metadata": {},
   "source": [
    "## Remote Branches"
   ]
  },
  {
   "cell_type": "code",
   "execution_count": 355,
   "metadata": {},
   "outputs": [
    {
     "name": "stdout",
     "output_type": "stream",
     "text": [
      "/Users/raphael/tmp/git-demo\n"
     ]
    }
   ],
   "source": [
    "cd git-demo/"
   ]
  },
  {
   "cell_type": "code",
   "execution_count": 360,
   "metadata": {},
   "outputs": [
    {
     "name": "stdout",
     "output_type": "stream",
     "text": [
      "* \u001b[32mmaster \u001b[m 99fe997 added HTML file\r\n",
      "  testing\u001b[m 1f24513 changed license\r\n"
     ]
    }
   ],
   "source": [
    "!git branch -vv"
   ]
  },
  {
   "cell_type": "code",
   "execution_count": 362,
   "metadata": {},
   "outputs": [
    {
     "name": "stdout",
     "output_type": "stream",
     "text": [
      "* \u001b[32mmaster \u001b[m 99fe997 added HTML file\r\n",
      "  testing\u001b[m 1f24513 changed license\r\n"
     ]
    }
   ],
   "source": [
    "!git fetch --all\n",
    "!git branch -v"
   ]
  },
  {
   "cell_type": "markdown",
   "metadata": {},
   "source": [
    "## Rebasing"
   ]
  },
  {
   "cell_type": "markdown",
   "metadata": {},
   "source": [
    "## Summary"
   ]
  },
  {
   "cell_type": "code",
   "execution_count": 77,
   "metadata": {},
   "outputs": [
    {
     "name": "stdout",
     "output_type": "stream",
     "text": [
      "README.md\r\n"
     ]
    }
   ],
   "source": [
    "!ls"
   ]
  },
  {
   "cell_type": "code",
   "execution_count": 78,
   "metadata": {},
   "outputs": [
    {
     "name": "stdout",
     "output_type": "stream",
     "text": [
      "3637d6937b34852cdb5f5119311868720f8a6393  README.md\r\n"
     ]
    }
   ],
   "source": [
    "!shasum README.md"
   ]
  },
  {
   "cell_type": "code",
   "execution_count": 79,
   "metadata": {},
   "outputs": [
    {
     "name": "stdout",
     "output_type": "stream",
     "text": [
      "# git demo-project\r\n",
      "This is the first lineadd another line\r\n"
     ]
    }
   ],
   "source": [
    "!cat README.md"
   ]
  },
  {
   "cell_type": "markdown",
   "metadata": {},
   "source": [
    "# Git internals"
   ]
  },
  {
   "cell_type": "markdown",
   "metadata": {},
   "source": [
    "## Plumbing and Porcelain"
   ]
  },
  {
   "cell_type": "code",
   "execution_count": 237,
   "metadata": {},
   "outputs": [
    {
     "name": "stdout",
     "output_type": "stream",
     "text": [
      "/Users/raphael/tmp\n"
     ]
    }
   ],
   "source": [
    "cd ~/tmp"
   ]
  },
  {
   "cell_type": "code",
   "execution_count": 238,
   "metadata": {},
   "outputs": [
    {
     "name": "stdout",
     "output_type": "stream",
     "text": [
      "Initialized empty Git repository in /Users/raphael/tmp/test/.git/\r\n"
     ]
    }
   ],
   "source": [
    "!git init test"
   ]
  },
  {
   "cell_type": "code",
   "execution_count": 239,
   "metadata": {},
   "outputs": [
    {
     "name": "stdout",
     "output_type": "stream",
     "text": [
      "/Users/raphael/tmp/test\n"
     ]
    }
   ],
   "source": [
    "cd test/"
   ]
  },
  {
   "cell_type": "code",
   "execution_count": 240,
   "metadata": {},
   "outputs": [
    {
     "name": "stdout",
     "output_type": "stream",
     "text": [
      "HEAD\r\n",
      "\u001b[34mbranches\u001b[m\u001b[m/\r\n",
      "config\r\n",
      "description\r\n",
      "\u001b[34mhooks\u001b[m\u001b[m/\r\n",
      "\u001b[34minfo\u001b[m\u001b[m/\r\n",
      "\u001b[34mobjects\u001b[m\u001b[m/\r\n",
      "\u001b[34mrefs\u001b[m\u001b[m/\r\n"
     ]
    }
   ],
   "source": [
    "ls -F1 .git"
   ]
  },
  {
   "cell_type": "code",
   "execution_count": 241,
   "metadata": {},
   "outputs": [
    {
     "name": "stdout",
     "output_type": "stream",
     "text": [
      "/Users/raphael/tmp/test/.git\n"
     ]
    }
   ],
   "source": [
    "cd .git"
   ]
  },
  {
   "cell_type": "code",
   "execution_count": 242,
   "metadata": {},
   "outputs": [
    {
     "name": "stdout",
     "output_type": "stream",
     "text": [
      ".\r\n",
      "├── HEAD\r\n",
      "├── branches\r\n",
      "├── config\r\n",
      "├── description\r\n",
      "├── hooks\r\n",
      "│   ├── applypatch-msg.sample\r\n",
      "│   ├── commit-msg.sample\r\n",
      "│   ├── fsmonitor-watchman.sample\r\n",
      "│   ├── post-update.sample\r\n",
      "│   ├── pre-applypatch.sample\r\n",
      "│   ├── pre-commit.sample\r\n",
      "│   ├── pre-push.sample\r\n",
      "│   ├── pre-rebase.sample\r\n",
      "│   ├── pre-receive.sample\r\n",
      "│   ├── prepare-commit-msg.sample\r\n",
      "│   └── update.sample\r\n",
      "├── info\r\n",
      "│   └── exclude\r\n",
      "├── objects\r\n",
      "│   ├── info\r\n",
      "│   └── pack\r\n",
      "└── refs\r\n",
      "    ├── heads\r\n",
      "    └── tags\r\n",
      "\r\n",
      "9 directories, 15 files\r\n"
     ]
    }
   ],
   "source": [
    "!tree"
   ]
  },
  {
   "cell_type": "markdown",
   "metadata": {},
   "source": [
    "## Git Objects"
   ]
  },
  {
   "cell_type": "code",
   "execution_count": 245,
   "metadata": {},
   "outputs": [
    {
     "data": {
      "text/plain": [
       "'/Users/raphael/tmp/test'"
      ]
     },
     "execution_count": 245,
     "metadata": {},
     "output_type": "execute_result"
    }
   ],
   "source": [
    "pwd"
   ]
  },
  {
   "cell_type": "code",
   "execution_count": 246,
   "metadata": {},
   "outputs": [
    {
     "name": "stdout",
     "output_type": "stream",
     "text": [
      ".git/objects\r\n",
      ".git/objects/info\r\n",
      ".git/objects/pack\r\n"
     ]
    }
   ],
   "source": [
    "!find .git/objects"
   ]
  },
  {
   "cell_type": "code",
   "execution_count": 248,
   "metadata": {},
   "outputs": [
    {
     "name": "stdout",
     "output_type": "stream",
     "text": [
      "d670460b4b4aece5915caf5c68d12f560a9fe3e4\r\n"
     ]
    }
   ],
   "source": [
    "!echo 'test content' | git hash-object -w --stdin"
   ]
  },
  {
   "cell_type": "code",
   "execution_count": 249,
   "metadata": {},
   "outputs": [
    {
     "name": "stdout",
     "output_type": "stream",
     "text": [
      ".git/objects/d6/70460b4b4aece5915caf5c68d12f560a9fe3e4\r\n"
     ]
    }
   ],
   "source": [
    "!find .git/objects -type f"
   ]
  },
  {
   "cell_type": "code",
   "execution_count": 250,
   "metadata": {},
   "outputs": [
    {
     "name": "stdout",
     "output_type": "stream",
     "text": [
      "test content\r\n"
     ]
    }
   ],
   "source": [
    "!git cat-file -p d670460b4b4aece5915caf5c68d12f560a9fe3e4"
   ]
  },
  {
   "cell_type": "code",
   "execution_count": 251,
   "metadata": {},
   "outputs": [
    {
     "name": "stdout",
     "output_type": "stream",
     "text": [
      "83baae61804e65cc73a7201a7252750c76066a30\r\n"
     ]
    }
   ],
   "source": [
    "!echo 'version 1' > test.txt\n",
    "!git hash-object -w test.txt"
   ]
  },
  {
   "cell_type": "code",
   "execution_count": 252,
   "metadata": {},
   "outputs": [
    {
     "name": "stdout",
     "output_type": "stream",
     "text": [
      "1f7a7a472abf3dd9643fd615f6da379c4acb3e3a\r\n"
     ]
    }
   ],
   "source": [
    "!echo 'version 2' > test.txt\n",
    "!git hash-object -w test.txt"
   ]
  },
  {
   "cell_type": "code",
   "execution_count": 253,
   "metadata": {},
   "outputs": [
    {
     "name": "stdout",
     "output_type": "stream",
     "text": [
      ".git/objects/1f/7a7a472abf3dd9643fd615f6da379c4acb3e3a\r\n",
      ".git/objects/83/baae61804e65cc73a7201a7252750c76066a30\r\n",
      ".git/objects/d6/70460b4b4aece5915caf5c68d12f560a9fe3e4\r\n"
     ]
    }
   ],
   "source": [
    "!find .git/objects -type f"
   ]
  },
  {
   "cell_type": "code",
   "execution_count": 254,
   "metadata": {},
   "outputs": [
    {
     "name": "stdout",
     "output_type": "stream",
     "text": [
      "version 1\r\n"
     ]
    }
   ],
   "source": [
    "!git cat-file -p 83baae61804e65cc73a7201a7252750c76066a30 > test.txt\n",
    "!cat test.txt"
   ]
  },
  {
   "cell_type": "code",
   "execution_count": 255,
   "metadata": {},
   "outputs": [
    {
     "name": "stdout",
     "output_type": "stream",
     "text": [
      "version 2\r\n"
     ]
    }
   ],
   "source": [
    "!git cat-file -p 1f7a7a472abf3dd9643fd615f6da379c4acb3e3a > test.txt\n",
    "!cat test.txt"
   ]
  },
  {
   "cell_type": "code",
   "execution_count": 256,
   "metadata": {},
   "outputs": [
    {
     "name": "stdout",
     "output_type": "stream",
     "text": [
      "blob\r\n"
     ]
    }
   ],
   "source": [
    "!git cat-file -t 1f7a7a472abf3dd9643fd615f6da379c4acb3e3a"
   ]
  },
  {
   "cell_type": "code",
   "execution_count": 259,
   "metadata": {},
   "outputs": [],
   "source": [
    "!echo 'read me' > README.md"
   ]
  },
  {
   "cell_type": "code",
   "execution_count": 260,
   "metadata": {},
   "outputs": [
    {
     "name": "stdout",
     "output_type": "stream",
     "text": [
      "On branch master\r\n",
      "\r\n",
      "No commits yet\r\n",
      "\r\n",
      "Untracked files:\r\n",
      "  (use \"git add <file>...\" to include in what will be committed)\r\n",
      "\r\n",
      "\t\u001b[31mREADME.md\u001b[m\r\n",
      "\t\u001b[31mtest.txt\u001b[m\r\n",
      "\r\n",
      "nothing added to commit but untracked files present (use \"git add\" to track)\r\n"
     ]
    }
   ],
   "source": [
    "!git status"
   ]
  },
  {
   "cell_type": "code",
   "execution_count": 264,
   "metadata": {},
   "outputs": [],
   "source": [
    "!git add README.md test.txt"
   ]
  },
  {
   "cell_type": "code",
   "execution_count": 266,
   "metadata": {},
   "outputs": [
    {
     "name": "stdout",
     "output_type": "stream",
     "text": [
      "[master (root-commit) 85e9c50] initial commit\r\n",
      " 2 files changed, 2 insertions(+)\r\n",
      " create mode 100644 README.md\r\n",
      " create mode 100644 test.txt\r\n"
     ]
    }
   ],
   "source": [
    "!git commit -m 'initial commit'"
   ]
  },
  {
   "cell_type": "code",
   "execution_count": 267,
   "metadata": {},
   "outputs": [
    {
     "name": "stdout",
     "output_type": "stream",
     "text": [
      "100644 blob d9b401251bb36c51ca5c56c2ffc8a24a78ff20ae\tREADME.md\r\n",
      "100644 blob 1f7a7a472abf3dd9643fd615f6da379c4acb3e3a\ttest.txt\r\n"
     ]
    }
   ],
   "source": [
    "!git cat-file -p master^{tree}"
   ]
  },
  {
   "cell_type": "code",
   "execution_count": 268,
   "metadata": {},
   "outputs": [],
   "source": [
    "!git update-index --add --cacheinfo 100644 \\\n",
    "83baae61804e65cc73a7201a7252750c76066a30 test.txt"
   ]
  },
  {
   "cell_type": "code",
   "execution_count": 269,
   "metadata": {},
   "outputs": [
    {
     "name": "stdout",
     "output_type": "stream",
     "text": [
      "a14c904cf2467053919c908ecbbfd159bea6bc77\r\n"
     ]
    }
   ],
   "source": [
    "!git write-tree"
   ]
  },
  {
   "cell_type": "code",
   "execution_count": 270,
   "metadata": {},
   "outputs": [
    {
     "name": "stdout",
     "output_type": "stream",
     "text": [
      "100644 blob d9b401251bb36c51ca5c56c2ffc8a24a78ff20ae\tREADME.md\r\n",
      "100644 blob 83baae61804e65cc73a7201a7252750c76066a30\ttest.txt\r\n"
     ]
    }
   ],
   "source": [
    "!git cat-file -p a14c904cf2467053919c908ecbbfd159bea6bc77"
   ]
  },
  {
   "cell_type": "code",
   "execution_count": 271,
   "metadata": {},
   "outputs": [
    {
     "name": "stdout",
     "output_type": "stream",
     "text": [
      "tree\r\n"
     ]
    }
   ],
   "source": [
    "!git cat-file -t a14c904cf2467053919c908ecbbfd159bea6bc77"
   ]
  },
  {
   "cell_type": "code",
   "execution_count": 275,
   "metadata": {},
   "outputs": [],
   "source": [
    "!echo 'new file' > new.txt\n",
    "!git update-index --add --cacheinfo 100644 \\\n",
    "  1f7a7a472abf3dd9643fd615f6da379c4acb3e3a test.txt\n",
    "!git update-index --add new.txt"
   ]
  },
  {
   "cell_type": "code",
   "execution_count": 276,
   "metadata": {},
   "outputs": [
    {
     "name": "stdout",
     "output_type": "stream",
     "text": [
      "726169a6aca1f3820e89fac001f9ffced90c3d31\r\n"
     ]
    }
   ],
   "source": [
    "!git write-tree"
   ]
  },
  {
   "cell_type": "code",
   "execution_count": 277,
   "metadata": {},
   "outputs": [
    {
     "name": "stdout",
     "output_type": "stream",
     "text": [
      "100644 blob d9b401251bb36c51ca5c56c2ffc8a24a78ff20ae\tREADME.md\r\n",
      "100644 blob fa49b077972391ad58037050f2a75f74e3671e92\tnew.txt\r\n",
      "100644 blob 1f7a7a472abf3dd9643fd615f6da379c4acb3e3a\ttest.txt\r\n"
     ]
    }
   ],
   "source": [
    "!git cat-file -p 726169a6aca1f3820e89fac001f9ffced90c3d31"
   ]
  },
  {
   "cell_type": "code",
   "execution_count": 278,
   "metadata": {},
   "outputs": [],
   "source": [
    "!git read-tree --prefix=bak 726169a6aca1f3820e89fac001f9ffced90c3d31"
   ]
  },
  {
   "cell_type": "code",
   "execution_count": 279,
   "metadata": {},
   "outputs": [
    {
     "name": "stdout",
     "output_type": "stream",
     "text": [
      "754d31f5d80d1fa8fd00da2d8e16a7d4a8055055\r\n"
     ]
    }
   ],
   "source": [
    "!git write-tree"
   ]
  },
  {
   "cell_type": "code",
   "execution_count": 280,
   "metadata": {},
   "outputs": [
    {
     "name": "stdout",
     "output_type": "stream",
     "text": [
      "100644 blob d9b401251bb36c51ca5c56c2ffc8a24a78ff20ae\tREADME.md\r\n",
      "040000 tree 726169a6aca1f3820e89fac001f9ffced90c3d31\tbak\r\n",
      "100644 blob fa49b077972391ad58037050f2a75f74e3671e92\tnew.txt\r\n",
      "100644 blob 1f7a7a472abf3dd9643fd615f6da379c4acb3e3a\ttest.txt\r\n"
     ]
    }
   ],
   "source": [
    "!git cat-file -p 754d31f5d80d1fa8fd00da2d8e16a7d4a8055055"
   ]
  },
  {
   "cell_type": "code",
   "execution_count": 281,
   "metadata": {},
   "outputs": [
    {
     "name": "stdout",
     "output_type": "stream",
     "text": [
      "100644 blob d9b401251bb36c51ca5c56c2ffc8a24a78ff20ae\tREADME.md\r\n",
      "100644 blob fa49b077972391ad58037050f2a75f74e3671e92\tnew.txt\r\n",
      "100644 blob 1f7a7a472abf3dd9643fd615f6da379c4acb3e3a\ttest.txt\r\n"
     ]
    }
   ],
   "source": [
    "!git cat-file -p 726169a6aca1f3820e89fac001f9ffced90c3d31"
   ]
  },
  {
   "cell_type": "code",
   "execution_count": 287,
   "metadata": {},
   "outputs": [
    {
     "name": "stdout",
     "output_type": "stream",
     "text": [
      "e9697aabb8dfa1eebfd85f0168446bae8c5b45c5\r\n"
     ]
    }
   ],
   "source": [
    "!echo 'second commit' | git commit-tree 754d31 -p 85e9c5"
   ]
  },
  {
   "cell_type": "code",
   "execution_count": 288,
   "metadata": {},
   "outputs": [
    {
     "name": "stdout",
     "output_type": "stream",
     "text": [
      "tree 754d31f5d80d1fa8fd00da2d8e16a7d4a8055055\r\n",
      "parent 85e9c50676d2639601b32eee52173ab05f814917\r\n",
      "author Raphael Holzer <raphael.holzer@citycable.ch> 1533600612 +0200\r\n",
      "committer Raphael Holzer <raphael.holzer@citycable.ch> 1533600612 +0200\r\n",
      "\r\n",
      "second commit\r\n"
     ]
    }
   ],
   "source": [
    "!git cat-file -p e9697aabb8dfa1eebfd85f0168446bae8c5b45c5"
   ]
  },
  {
   "cell_type": "code",
   "execution_count": 285,
   "metadata": {},
   "outputs": [
    {
     "name": "stdout",
     "output_type": "stream",
     "text": [
      "ab7b6b1c75aa3d6c925dd1288781ee5c3029cf26\r\n"
     ]
    }
   ],
   "source": [
    "!echo 'second commit' | git commit-tree 726169a6aca1f3820e89fac001f9ffced90c3d31 -p 85e9c50676d2639601b32eee52173ab05f814917"
   ]
  },
  {
   "cell_type": "code",
   "execution_count": 292,
   "metadata": {},
   "outputs": [
    {
     "name": "stdout",
     "output_type": "stream",
     "text": [
      "\u001b[33mcommit 85e9c50676d2639601b32eee52173ab05f814917\u001b[m\u001b[33m (\u001b[m\u001b[1;36mHEAD -> \u001b[m\u001b[1;32mmaster\u001b[m\u001b[33m)\u001b[m\r\n",
      "Author: Raphael Holzer <raphael.holzer@citycable.ch>\r\n",
      "Date:   Tue Aug 7 01:48:00 2018 +0200\r\n",
      "\r\n",
      "    initial commit\r\n",
      "\r\n",
      " README.md | 1 \u001b[32m+\u001b[m\r\n",
      " test.txt  | 1 \u001b[32m+\u001b[m\r\n",
      " 2 files changed, 2 insertions(+)\r\n"
     ]
    }
   ],
   "source": [
    "!git log --stat 85e9c5"
   ]
  },
  {
   "cell_type": "code",
   "execution_count": 289,
   "metadata": {},
   "outputs": [
    {
     "name": "stdout",
     "output_type": "stream",
     "text": [
      "\u001b[33mcommit 85e9c50676d2639601b32eee52173ab05f814917\u001b[m\u001b[33m (\u001b[m\u001b[1;36mHEAD -> \u001b[m\u001b[1;32mmaster\u001b[m\u001b[33m)\u001b[m\r\n",
      "Author: Raphael Holzer <raphael.holzer@citycable.ch>\r\n",
      "Date:   Tue Aug 7 01:48:00 2018 +0200\r\n",
      "\r\n",
      "    initial commit\r\n"
     ]
    }
   ],
   "source": [
    "!git log"
   ]
  },
  {
   "cell_type": "code",
   "execution_count": 296,
   "metadata": {},
   "outputs": [
    {
     "name": "stdout",
     "output_type": "stream",
     "text": [
      ".git/objects/1f/7a7a472abf3dd9643fd615f6da379c4acb3e3a\r\n",
      ".git/objects/4b/825dc642cb6eb9a060e54bf8d69288fbee4904\r\n",
      ".git/objects/72/6169a6aca1f3820e89fac001f9ffced90c3d31\r\n",
      ".git/objects/75/4d31f5d80d1fa8fd00da2d8e16a7d4a8055055\r\n",
      ".git/objects/83/baae61804e65cc73a7201a7252750c76066a30\r\n",
      ".git/objects/85/e9c50676d2639601b32eee52173ab05f814917\r\n",
      ".git/objects/a1/4c904cf2467053919c908ecbbfd159bea6bc77\r\n",
      ".git/objects/ab/7b6b1c75aa3d6c925dd1288781ee5c3029cf26\r\n",
      ".git/objects/ad/0e43df8ba9731c66b3b21a48ade6cd2eb8228b\r\n",
      ".git/objects/d6/70460b4b4aece5915caf5c68d12f560a9fe3e4\r\n",
      ".git/objects/d9/b401251bb36c51ca5c56c2ffc8a24a78ff20ae\r\n",
      ".git/objects/e3/ce5e9fc4b1969a9f7bbe468a8d725f500cdeb7\r\n",
      ".git/objects/e9/697aabb8dfa1eebfd85f0168446bae8c5b45c5\r\n",
      ".git/objects/fa/49b077972391ad58037050f2a75f74e3671e92\r\n"
     ]
    }
   ],
   "source": [
    "!find .git/objects -type f"
   ]
  },
  {
   "cell_type": "code",
   "execution_count": 302,
   "metadata": {},
   "outputs": [
    {
     "data": {
      "text/plain": [
       "'what is up, doc?'"
      ]
     },
     "execution_count": 302,
     "metadata": {},
     "output_type": "execute_result"
    }
   ],
   "source": [
    "content = 'what is up, doc?'\n",
    "content"
   ]
  },
  {
   "cell_type": "code",
   "execution_count": 327,
   "metadata": {},
   "outputs": [
    {
     "data": {
      "text/plain": [
       "'blob 16\\x00'"
      ]
     },
     "execution_count": 327,
     "metadata": {},
     "output_type": "execute_result"
    }
   ],
   "source": [
    "header = 'blob '+str(len(content))+'\\x00'\n",
    "header"
   ]
  },
  {
   "cell_type": "code",
   "execution_count": 329,
   "metadata": {},
   "outputs": [
    {
     "data": {
      "text/plain": [
       "'blob 16\\x00what is up, doc?'"
      ]
     },
     "execution_count": 329,
     "metadata": {},
     "output_type": "execute_result"
    }
   ],
   "source": [
    "store = header+content\n",
    "store"
   ]
  },
  {
   "cell_type": "code",
   "execution_count": 333,
   "metadata": {},
   "outputs": [
    {
     "data": {
      "text/plain": [
       "b'blob 16\\x00what is up, doc?'"
      ]
     },
     "execution_count": 333,
     "metadata": {},
     "output_type": "execute_result"
    }
   ],
   "source": [
    "bytes(store, 'utf-8')"
   ]
  },
  {
   "cell_type": "code",
   "execution_count": 305,
   "metadata": {},
   "outputs": [],
   "source": [
    "import hashlib"
   ]
  },
  {
   "cell_type": "code",
   "execution_count": 326,
   "metadata": {},
   "outputs": [
    {
     "data": {
      "text/plain": [
       "'bd9dbf5aae1a3862dd1526723246b20206e5fc37'"
      ]
     },
     "execution_count": 326,
     "metadata": {},
     "output_type": "execute_result"
    }
   ],
   "source": [
    "hashlib.sha1(b'blob 16\\x00what is up, doc?').hexdigest()"
   ]
  },
  {
   "cell_type": "code",
   "execution_count": 335,
   "metadata": {},
   "outputs": [
    {
     "data": {
      "text/plain": [
       "'bd9dbf5aae1a3862dd1526723246b20206e5fc37'"
      ]
     },
     "execution_count": 335,
     "metadata": {},
     "output_type": "execute_result"
    }
   ],
   "source": [
    "hashlib.sha1(bytes(store, 'utf-8')).hexdigest()"
   ]
  },
  {
   "cell_type": "code",
   "execution_count": 340,
   "metadata": {},
   "outputs": [
    {
     "name": "stdout",
     "output_type": "stream",
     "text": [
      "4b3ad05525d80246c2a18078adf7ef0a7c3074de\r\n"
     ]
    }
   ],
   "source": [
    "!echo -n \"what is up, doc?\" | git hash-object --stdin"
   ]
  },
  {
   "cell_type": "code",
   "execution_count": null,
   "metadata": {},
   "outputs": [],
   "source": []
  },
  {
   "cell_type": "code",
   "execution_count": null,
   "metadata": {},
   "outputs": [],
   "source": []
  },
  {
   "cell_type": "code",
   "execution_count": null,
   "metadata": {},
   "outputs": [],
   "source": []
  },
  {
   "cell_type": "code",
   "execution_count": null,
   "metadata": {},
   "outputs": [],
   "source": []
  },
  {
   "cell_type": "markdown",
   "metadata": {},
   "source": [
    "## Git References"
   ]
  },
  {
   "cell_type": "code",
   "execution_count": 343,
   "metadata": {},
   "outputs": [
    {
     "name": "stdout",
     "output_type": "stream",
     "text": [
      ".git/refs\r\n",
      ".git/refs/heads\r\n",
      ".git/refs/heads/master\r\n",
      ".git/refs/tags\r\n"
     ]
    }
   ],
   "source": [
    "!find .git/refs"
   ]
  },
  {
   "cell_type": "code",
   "execution_count": 346,
   "metadata": {},
   "outputs": [
    {
     "name": "stdout",
     "output_type": "stream",
     "text": [
      ".git/refs/heads/master\r\n"
     ]
    }
   ],
   "source": [
    "!find .git/refs -type f"
   ]
  },
  {
   "cell_type": "code",
   "execution_count": 347,
   "metadata": {},
   "outputs": [
    {
     "name": "stdout",
     "output_type": "stream",
     "text": [
      "85e9c50676d2639601b32eee52173ab05f814917\r\n"
     ]
    }
   ],
   "source": [
    "!cat .git/refs/heads/master"
   ]
  },
  {
   "cell_type": "markdown",
   "metadata": {},
   "source": [
    "## Packfiles"
   ]
  },
  {
   "cell_type": "markdown",
   "metadata": {},
   "source": [
    "## The Refspec"
   ]
  },
  {
   "cell_type": "markdown",
   "metadata": {},
   "source": [
    "## Transfer Protocols"
   ]
  },
  {
   "cell_type": "markdown",
   "metadata": {},
   "source": [
    "## Maintenance and Data Recovery"
   ]
  },
  {
   "cell_type": "markdown",
   "metadata": {},
   "source": [
    "## Environment Variables"
   ]
  },
  {
   "cell_type": "markdown",
   "metadata": {},
   "source": [
    "## Summary"
   ]
  },
  {
   "cell_type": "code",
   "execution_count": 208,
   "metadata": {},
   "outputs": [
    {
     "name": "stdout",
     "output_type": "stream",
     "text": [
      "lrwxr-xr-x@ 1 root  wheel  11 23 aoû  2016 \u001b[35m/tmp\u001b[m\u001b[m@ -> private/tmp\r\n"
     ]
    }
   ],
   "source": [
    "ls -l /tmp"
   ]
  },
  {
   "cell_type": "code",
   "execution_count": 209,
   "metadata": {},
   "outputs": [
    {
     "name": "stdout",
     "output_type": "stream",
     "text": [
      "\u001b[34mcom.apple.launchd.UYEqg8uZNv\u001b[m\u001b[m/ \u001b[32mmysql.sock\u001b[m\u001b[m=\r\n",
      "\u001b[34mcom.apple.launchd.jkgV5v2dQk\u001b[m\u001b[m/ wifi-eNUsgY.log\r\n",
      "\u001b[34mcom.apple.launchd.l2VCNFHz5h\u001b[m\u001b[m/\r\n"
     ]
    }
   ],
   "source": [
    "ls /private/tmp/"
   ]
  },
  {
   "cell_type": "markdown",
   "metadata": {},
   "source": [
    "# Distributed Git"
   ]
  },
  {
   "cell_type": "code",
   "execution_count": 381,
   "metadata": {},
   "outputs": [
    {
     "name": "stdout",
     "output_type": "stream",
     "text": [
      "/Users/raphael/.gnupg/pubring.gpg\r\n",
      "---------------------------------\r\n",
      "pub   dsa2048 2010-08-19 [SC] [expire : 2018-08-19]\r\n",
      "      85E38F69046B44C1EC9FB07B76D78F0500D026C4\r\n",
      "uid          [ inconnue] GPGTools Team <team@gpgtools.org>\r\n",
      "uid          [ inconnue] GPGMail Project Team (Official OpenPGP Key) <gpgmail-devel@lists.gpgmail.org>\r\n",
      "uid          [ inconnue] GPGTools Project Team (Official OpenPGP Key) <gpgtools-org@lists.gpgtools.org>\r\n",
      "uid          [ inconnue] [jpeg image of size 5871]\r\n",
      "sub   elg2048 2010-08-19 [E] [expire : 2018-08-19]\r\n",
      "sub   rsa4096 2014-04-08 [S] [expire : 2024-01-02]\r\n",
      "\r\n",
      "pub   rsa4096 2012-03-05 [SC] [expirée : 2018-02-02]\r\n",
      "      44C6513A8E4FB3D30875F758ED444FF07D8D0BF6\r\n",
      "uid          [ expirée ] Kali Linux Repository <devel@kali.org>\r\n",
      "\r\n",
      "pub   rsa2048 2013-08-04 [SCEA] [expirée : 2017-08-04]\r\n",
      "      57C6832DDEC84E104EFCE7B8A82115F6BCD87176\r\n",
      "uid          [ expirée ] Frederic Genevey <barzi@mac.com>\r\n",
      "\r\n",
      "pub   rsa2048 2013-08-04 [SCEA] [expirée : 2017-08-04]\r\n",
      "      EF2A0B5F60745194B37C609E3884FBD8A0A62719\r\n",
      "uid          [ expirée ] Frederic Genevey <frederic.genevey@vd.educanet2.ch>\r\n",
      "\r\n",
      "pub   rsa2048 2014-02-28 [SC] [expirée : 2018-02-28]\r\n",
      "      B24CF753D4E07AD564054685D8D39A3C89593B10\r\n",
      "uid          [ expirée ] Philipp Hummel <hummel@die-fachwerkstatt.de>\r\n",
      "\r\n"
     ]
    }
   ],
   "source": [
    "!gpg --list-keys"
   ]
  },
  {
   "cell_type": "code",
   "execution_count": 385,
   "metadata": {},
   "outputs": [],
   "source": [
    "!git tag v0.1 -m 'my signed 0.1 tag'"
   ]
  },
  {
   "cell_type": "code",
   "execution_count": 386,
   "metadata": {},
   "outputs": [
    {
     "name": "stdout",
     "output_type": "stream",
     "text": [
      "v0.1\r\n"
     ]
    }
   ],
   "source": [
    "!git describe master"
   ]
  },
  {
   "cell_type": "code",
   "execution_count": 387,
   "metadata": {},
   "outputs": [],
   "source": [
    "!git archive master --prefix='project/' | gzip > `git describe master`.tar.gz"
   ]
  },
  {
   "cell_type": "code",
   "execution_count": 389,
   "metadata": {},
   "outputs": [
    {
     "name": "stdout",
     "output_type": "stream",
     "text": [
      "LICENSE.txt  README.md    index.html   v0.1.tar.gz\r\n"
     ]
    }
   ],
   "source": [
    "ls"
   ]
  },
  {
   "cell_type": "code",
   "execution_count": 391,
   "metadata": {},
   "outputs": [],
   "source": [
    "!git archive master --prefix='project/' --format=zip > `git describe master`.zip"
   ]
  },
  {
   "cell_type": "code",
   "execution_count": 392,
   "metadata": {},
   "outputs": [
    {
     "name": "stdout",
     "output_type": "stream",
     "text": [
      "LICENSE.txt  README.md    index.html   v0.1.tar.gz  v0.1.zip\r\n"
     ]
    }
   ],
   "source": [
    "ls"
   ]
  },
  {
   "cell_type": "code",
   "execution_count": 397,
   "metadata": {},
   "outputs": [
    {
     "name": "stdout",
     "output_type": "stream",
     "text": [
      "Raphael Holzer (6):\r\n",
      "      initial commit\r\n",
      "      modified README file\r\n",
      "      added license\r\n",
      "      removed file with typo in name\r\n",
      "      changed licenses again (in master)\r\n",
      "      added HTML file\r\n",
      "\r\n"
     ]
    }
   ],
   "source": [
    "!git shortlog --no-merges master"
   ]
  },
  {
   "cell_type": "code",
   "execution_count": null,
   "metadata": {},
   "outputs": [],
   "source": []
  }
 ],
 "metadata": {
  "kernelspec": {
   "display_name": "Python 3",
   "language": "python",
   "name": "python3"
  },
  "language_info": {
   "codemirror_mode": {
    "name": "ipython",
    "version": 3
   },
   "file_extension": ".py",
   "mimetype": "text/x-python",
   "name": "python",
   "nbconvert_exporter": "python",
   "pygments_lexer": "ipython3",
   "version": "3.6.5"
  },
  "toc": {
   "base_numbering": 1,
   "nav_menu": {},
   "number_sections": true,
   "sideBar": true,
   "skip_h1_title": false,
   "title_cell": "Table of Contents",
   "title_sidebar": "Contents",
   "toc_cell": false,
   "toc_position": {},
   "toc_section_display": true,
   "toc_window_display": true
  }
 },
 "nbformat": 4,
 "nbformat_minor": 2
}
