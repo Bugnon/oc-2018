{
 "cells": [
  {
   "cell_type": "markdown",
   "metadata": {},
   "source": [
    "# pygame.sprite\n",
    "pygame module with basic game object classes"
   ]
  },
  {
   "cell_type": "code",
   "execution_count": 1,
   "metadata": {},
   "outputs": [
    {
     "name": "stdout",
     "output_type": "stream",
     "text": [
      "pygame 1.9.4\n",
      "Hello from the pygame community. https://www.pygame.org/contribute.html\n"
     ]
    },
    {
     "data": {
      "text/plain": [
       "(6, 0)"
      ]
     },
     "execution_count": 1,
     "metadata": {},
     "output_type": "execute_result"
    }
   ],
   "source": [
    "import pygame\n",
    "from pygame.locals import *\n",
    "import numpy as np\n",
    "import matplotlib.pyplot as plt\n",
    "pygame.init()"
   ]
  },
  {
   "cell_type": "code",
   "execution_count": 2,
   "metadata": {},
   "outputs": [],
   "source": [
    "def show(surf, **kwargs):\n",
    "    img = pygame.surfarray.pixels3d(surf)\n",
    "    plt.imshow(np.transpose(img, (1, 0, 2)), **kwargs)\n",
    "    plt.tick_params(axis='both', bottom=False, top=True, \n",
    "                    labelbottom=False, labeltop=True)"
   ]
  },
  {
   "cell_type": "code",
   "execution_count": 3,
   "metadata": {},
   "outputs": [],
   "source": [
    "BLACK = (0, 0, 0)\n",
    "WHITE = (255, 255, 255)\n",
    "RED = (255, 0, 0)\n",
    "GREEN = (0, 255, 0)\n",
    "BLUE = (0, 0, 255)\n",
    "YELLOW = (255, 255, 0)\n",
    "CYAN = (0, 255, 255)\n",
    "MAGENTA = (255, 0, 255)\n",
    "GRAY = (127, 127, 127)"
   ]
  },
  {
   "cell_type": "markdown",
   "metadata": {},
   "source": [
    "## Defining the screen"
   ]
  },
  {
   "cell_type": "code",
   "execution_count": 4,
   "metadata": {},
   "outputs": [
    {
     "name": "stdout",
     "output_type": "stream",
     "text": [
      "<rect(0, 0, 300, 120)>\n"
     ]
    },
    {
     "data": {
      "image/png": "[encoded data removed]",
      "text/plain": [
       "<Figure size 432x288 with 1 Axes>"
      ]
     },
     "metadata": {},
     "output_type": "display_data"
    }
   ],
   "source": [
    "SCREEN = pygame.Rect(0, 0, 300, 120)\n",
    "s = pygame.Surface(SCREEN.size)\n",
    "s.fill(WHITE)\n",
    "print(s.get_rect())\n",
    "show(s)"
   ]
  },
  {
   "cell_type": "code",
   "execution_count": 5,
   "metadata": {},
   "outputs": [
    {
     "name": "stdout",
     "output_type": "stream",
     "text": [
      "<Surface(20x20x32 SW)> <rect(0, 0, 20, 20)>\n",
      "<Surface(32x32x32 SW)> <rect(0, 0, 32, 32)>\n",
      "<Surface(35x30x32 SW)> <rect(0, 0, 35, 30)>\n",
      "<Surface(20x20x32 SW)> <rect(0, 0, 20, 20)>\n"
     ]
    },
    {
     "data": {
      "image/png": "[encoded data removed]",
      "text/plain": [
       "<Figure size 432x288 with 1 Axes>"
      ]
     },
     "metadata": {},
     "output_type": "display_data"
    }
   ],
   "source": [
    "s.fill(WHITE)\n",
    "\n",
    "s1 = pygame.Surface((20, 20))\n",
    "print(s1, s1.get_rect())\n",
    "s.blit(s1, (50, 50))\n",
    "\n",
    "s2 = pygame.image.load('panda.png')\n",
    "print(s2, s2.get_rect())\n",
    "s.blit(s2, (100, 50))\n",
    "\n",
    "font = pygame.font.SysFont('Calibri', 24, True)\n",
    "s3 = font.render(\"abc\", True, RED)\n",
    "print(s3, s3.get_rect())\n",
    "s.blit(s3, (150, 50))\n",
    "\n",
    "s4 = pygame.Surface((20, 20))\n",
    "s4.set_colorkey(BLACK)\n",
    "pygame.draw.circle(s4, BLUE, (10, 10), 10)\n",
    "print(s4, s4.get_rect())\n",
    "s.blit(s4, (200, 50))\n",
    "\n",
    "show(s)"
   ]
  },
  {
   "cell_type": "markdown",
   "metadata": {},
   "source": [
    "## pygame.sprite.Sprite\n",
    "Simple base class for visible game objects."
   ]
  },
  {
   "cell_type": "code",
   "execution_count": 6,
   "metadata": {},
   "outputs": [],
   "source": [
    "pygame.font.init()\n",
    "class Block(pygame.sprite.Sprite):\n",
    "    def __init__(self, rect, color, label=\"\", img=None):\n",
    "        super().__init__()\n",
    "        if img == None:\n",
    "            self.image = pygame.Surface(rect.size)\n",
    "            self.image.fill(color)\n",
    "        else:\n",
    "            self.image = pygame.image.load(img)\n",
    "        self.rect = rect\n",
    "        font = pygame.font.SysFont('Calibri', 12, True)\n",
    "        text = font.render(label, True, WHITE)\n",
    "        text_rect = text.get_rect()\n",
    "        text_rect.center = self.image.get_rect().center\n",
    "        self.image.blit(text, text_rect)\n",
    "        self.r = (0, 0)\n",
    "        sefl.v = (1, 0)\n",
    "\n",
    "    def draw(self):\n",
    "        s.blit(self.image, self.rect)\n",
    "        \n",
    "    def update(self):\n",
    "        "
   ]
  },
  {
   "cell_type": "code",
   "execution_count": 8,
   "metadata": {},
   "outputs": [
    {
     "data": {
      "image/png": "[encoded data removed]",
      "text/plain": [
       "<matplotlib.figure.Figure at 0x10b1c25c0>"
      ]
     },
     "metadata": {},
     "output_type": "display_data"
    }
   ],
   "source": [
    "s.fill(WHITE)\n",
    "r = pygame.Rect(50, 50, 20, 20)\n",
    "b1 = Block(r, BLUE, \"A\")\n",
    "b2 = Block(r.move(50, -30), RED, \"B\")\n",
    "b3 = Block(pygame.Rect(100, 50, 50, 30), GREEN, 'GREEN')\n",
    "b4 = Block(r.move(150, 0), MAGENTA, \"D\")\n",
    "b5 = Block(r.move(200, 0), MAGENTA, img=\"panda.png\")\n",
    "s.fill(WHITE)\n",
    "g = pygame.sprite.Group(b1, b2, b3, b4, b5, b1)\n",
    "g.draw(s)\n",
    "show(s)"
   ]
  },
  {
   "cell_type": "code",
   "execution_count": 10,
   "metadata": {},
   "outputs": [
    {
     "data": {
      "image/png": "[encoded data removed]",
      "text/plain": [
       "<matplotlib.figure.Figure at 0x10b07b860>"
      ]
     },
     "metadata": {},
     "output_type": "display_data"
    }
   ],
   "source": [
    "s.fill(WHITE)\n",
    "b1.draw()\n",
    "b5.draw()\n",
    "show(s)"
   ]
  },
  {
   "cell_type": "markdown",
   "metadata": {},
   "source": [
    "group.draw(s) requires that each sprite has .image and .rect attribute"
   ]
  },
  {
   "cell_type": "code",
   "execution_count": 11,
   "metadata": {},
   "outputs": [
    {
     "data": {
      "image/png": "[encoded data removed]",
      "text/plain": [
       "<matplotlib.figure.Figure at 0x10b195320>"
      ]
     },
     "metadata": {},
     "output_type": "display_data"
    }
   ],
   "source": [
    "s.fill(WHITE)\n",
    "s1 = pygame.Surface((180, 80))\n",
    "s1.fill(YELLOW)\n",
    "r = pygame.Rect(50, 20, 40, 20)\n",
    "b1 = Block(r, RED)\n",
    "b2 = Block(r.move(50, 0), BLUE)\n",
    "group = pygame.sprite.Group()\n",
    "group.add(b1)\n",
    "group.add(b2)\n",
    "group.draw(s)\n",
    "group.draw(s1)\n",
    "s.blit(s1, (100, 50))\n",
    "show(s)"
   ]
  },
  {
   "cell_type": "code",
   "execution_count": 34,
   "metadata": {},
   "outputs": [
    {
     "data": {
      "text/plain": [
       "<Group(2 sprites)>"
      ]
     },
     "execution_count": 34,
     "metadata": {},
     "output_type": "execute_result"
    }
   ],
   "source": [
    "block_list"
   ]
  },
  {
   "cell_type": "markdown",
   "metadata": {},
   "source": [
    "add an image"
   ]
  },
  {
   "cell_type": "code",
   "execution_count": 15,
   "metadata": {},
   "outputs": [
    {
     "ename": "NameError",
     "evalue": "name 'b' is not defined",
     "output_type": "error",
     "traceback": [
      "\u001b[0;31m---------------------------------------------------------------------------\u001b[0m",
      "\u001b[0;31mNameError\u001b[0m                                 Traceback (most recent call last)",
      "\u001b[0;32m<ipython-input-15-8d91f1182bd4>\u001b[0m in \u001b[0;36m<module>\u001b[0;34m()\u001b[0m\n\u001b[1;32m      4\u001b[0m \u001b[0mb2\u001b[0m\u001b[0;34m.\u001b[0m\u001b[0mimage\u001b[0m \u001b[0;34m=\u001b[0m \u001b[0mpygame\u001b[0m\u001b[0;34m.\u001b[0m\u001b[0mimage\u001b[0m\u001b[0;34m.\u001b[0m\u001b[0mload\u001b[0m\u001b[0;34m(\u001b[0m\u001b[0;34m'flower.png'\u001b[0m\u001b[0;34m)\u001b[0m\u001b[0;34m\u001b[0m\u001b[0m\n\u001b[1;32m      5\u001b[0m \u001b[0mb3\u001b[0m \u001b[0;34m=\u001b[0m \u001b[0mBlock\u001b[0m\u001b[0;34m(\u001b[0m\u001b[0mr\u001b[0m\u001b[0;34m.\u001b[0m\u001b[0mmove\u001b[0m\u001b[0;34m(\u001b[0m\u001b[0;36m100\u001b[0m\u001b[0;34m,\u001b[0m \u001b[0;36m0\u001b[0m\u001b[0;34m)\u001b[0m\u001b[0;34m,\u001b[0m \u001b[0mBLUE\u001b[0m\u001b[0;34m)\u001b[0m\u001b[0;34m\u001b[0m\u001b[0m\n\u001b[0;32m----> 6\u001b[0;31m \u001b[0mb3\u001b[0m\u001b[0;34m.\u001b[0m\u001b[0madd\u001b[0m\u001b[0;34m(\u001b[0m\u001b[0mb\u001b[0m\u001b[0;34m)\u001b[0m\u001b[0;34m\u001b[0m\u001b[0m\n\u001b[0m\u001b[1;32m      7\u001b[0m \u001b[0mg\u001b[0m\u001b[0;34m.\u001b[0m\u001b[0mdraw\u001b[0m\u001b[0;34m(\u001b[0m\u001b[0ms\u001b[0m\u001b[0;34m)\u001b[0m\u001b[0;34m\u001b[0m\u001b[0m\n\u001b[1;32m      8\u001b[0m \u001b[0mshow\u001b[0m\u001b[0;34m(\u001b[0m\u001b[0ms\u001b[0m\u001b[0;34m)\u001b[0m\u001b[0;34m\u001b[0m\u001b[0m\n",
      "\u001b[0;31mNameError\u001b[0m: name 'b' is not defined"
     ]
    }
   ],
   "source": [
    "s.fill(CYAN)\n",
    "g = pygame.sprite.Group()\n",
    "b1.image = pygame.image.load('panda.png')\n",
    "b2.image = pygame.image.load('flower.png')\n",
    "b3 = Block(r.move(100, 0), BLUE)\n",
    "b3.add(b)\n",
    "g.draw(s)\n",
    "show(s)"
   ]
  },
  {
   "cell_type": "code",
   "execution_count": 69,
   "metadata": {},
   "outputs": [
    {
     "data": {
      "text/plain": [
       "<Block sprite(in 1 groups)>"
      ]
     },
     "execution_count": 69,
     "metadata": {},
     "output_type": "execute_result"
    }
   ],
   "source": [
    "[i for i in block_list]"
   ]
  },
  {
   "cell_type": "code",
   "execution_count": 41,
   "metadata": {},
   "outputs": [
    {
     "data": {
      "text/plain": [
       "['add',\n",
       " 'add_internal',\n",
       " 'clear',\n",
       " 'copy',\n",
       " 'draw',\n",
       " 'empty',\n",
       " 'has',\n",
       " 'has_internal',\n",
       " 'remove',\n",
       " 'remove_internal',\n",
       " 'sprites',\n",
       " 'update']"
      ]
     },
     "execution_count": 41,
     "metadata": {},
     "output_type": "execute_result"
    }
   ],
   "source": [
    "[i for i in dir(pygame.sprite.Group) if not i[0] == '_']"
   ]
  },
  {
   "cell_type": "code",
   "execution_count": 42,
   "metadata": {},
   "outputs": [
    {
     "data": {
      "text/plain": [
       "['add',\n",
       " 'add_internal',\n",
       " 'alive',\n",
       " 'groups',\n",
       " 'kill',\n",
       " 'remove',\n",
       " 'remove_internal',\n",
       " 'update']"
      ]
     },
     "execution_count": 42,
     "metadata": {},
     "output_type": "execute_result"
    }
   ],
   "source": [
    "[i for i in dir(pygame.sprite.Sprite) if not i[0] == '_']"
   ]
  },
  {
   "cell_type": "code",
   "execution_count": 78,
   "metadata": {},
   "outputs": [
    {
     "data": {
      "image/png": "[encoded data removed]",
      "text/plain": [
       "<matplotlib.figure.Figure at 0x107a966d8>"
      ]
     },
     "metadata": {},
     "output_type": "display_data"
    }
   ],
   "source": [
    "block_list = pygame.sprite.Group()\n",
    "for i in range(10):\n",
    "    x = np.random.randint(250)\n",
    "    y = np.random.randint(100)\n",
    "    r = pygame.Rect(x, y, 20, 20)\n",
    "    b = Block(r, RED)\n",
    "    b.add(block_list)\n",
    "s.fill(WHITE)\n",
    "block_list.draw(s)\n",
    "show(s)"
   ]
  },
  {
   "cell_type": "code",
   "execution_count": 74,
   "metadata": {},
   "outputs": [
    {
     "data": {
      "text/plain": [
       "<Group(10 sprites)>"
      ]
     },
     "execution_count": 74,
     "metadata": {},
     "output_type": "execute_result"
    }
   ],
   "source": [
    "block_list"
   ]
  },
  {
   "cell_type": "markdown",
   "metadata": {},
   "source": [
    "## Grid-based games : Board class"
   ]
  },
  {
   "cell_type": "markdown",
   "metadata": {},
   "source": [
    "The Board class creates a $n\\times m$ grid. Each tile can be colored, have a label or be an image."
   ]
  },
  {
   "cell_type": "code",
   "execution_count": 180,
   "metadata": {},
   "outputs": [
    {
     "data": {
      "image/png": "[encoded data removed]",
      "text/plain": [
       "<matplotlib.figure.Figure at 0x10b395860>"
      ]
     },
     "metadata": {},
     "output_type": "display_data"
    }
   ],
   "source": [
    "class Board():\n",
    "    def __init__(self, nx=4, ny=4, dx=20, dy=20, x0=10, y0=10, gap=2, bg=WHITE):\n",
    "        \"\"\" Create a (nx, ny) grid of tile-size (dx, dy) placed at (x0, y0) on the screen. \"\"\"\n",
    "        self.nx = nx\n",
    "        self.ny = ny\n",
    "        self.dx = dx\n",
    "        self.dy = dy\n",
    "        self.gap = gap\n",
    "        self.rect = pygame.Rect(x0, y0, nx*dx+gap, ny*dy+gap)\n",
    "        self.image = pygame.Surface(self.rect.size)\n",
    "        self.image.fill(bg)\n",
    "        self.grid_col = GRAY\n",
    "        self.bg = bg\n",
    "        self.color_list = (WHITE, BLACK, RED, GREEN, BLUE, YELLOW, CYAN, MAGENTA, GRAY)\n",
    "        self.colors = np.random.randint(8, size=(nx, ny))\n",
    "        self.grid = np.zeros((nx, ny))\n",
    "        self.font = pygame.font.SysFont('Calibri', dy//2, True)\n",
    "        self.labels = np.arange(nx*ny).reshape((nx, ny))     \n",
    "        self.image_list = []\n",
    "        self.images = np.zeros((nx, ny), dtype='int')\n",
    "        #self.set_tile(1, 1, RED)\n",
    "        \n",
    "    def get_tile_rect(self, x, y):\n",
    "        \" Return a rectangle Rect for tile (x, y).\"\n",
    "        x0 = self.gap+x*self.dx\n",
    "        y0 = self.gap+y*self.dy\n",
    "        w = self.dx-self.gap\n",
    "        h = self.dy-self.gap\n",
    "        return pygame.Rect(x0, y0, w, h)\n",
    "        \n",
    "    def draw(self):\n",
    "        \" Draw the whole boardgame on screen s\"\n",
    "        s.blit(self.image, self.rect)\n",
    "\n",
    "    def set_rows(self):\n",
    "        col = self.grid_col\n",
    "        for i in range(self.nx+1):\n",
    "            x = i*self.dx+self.gap//2\n",
    "            pygame.draw.line(self.image, col, (x, 0), (x, self.rect.h), self.gap)\n",
    "    \n",
    "    def set_cols(self):\n",
    "        col = self.grid_col\n",
    "        for i in range(self.ny+1):\n",
    "            y = i*self.dy+self.gap//2\n",
    "            pygame.draw.line(self.image, col, (0, y), (self.rect.w, y), self.gap)\n",
    "\n",
    "    def set_grid(self):\n",
    "        self.set_rows()\n",
    "        self.set_cols()\n",
    "        \n",
    "    def set_tile(self, x, y, col):\n",
    "        rect = self.get_tile_rect(x, y)\n",
    "        pygame.draw.rect(self.image, col, rect, 0)\n",
    "    \n",
    "    def set_tiles(self):\n",
    "        for x in range(self.nx): \n",
    "            for y in range(self.ny):\n",
    "                col = self.color_list[self.colors[x, y]]\n",
    "                self.set_tile(x, y, col)\n",
    "                \n",
    "    def set_label(self, x, y, label):\n",
    "        text = self.font.render(label, False, BLACK)\n",
    "        text_rect = text.get_rect()\n",
    "        text_rect.center = self.get_tile_rect(x, y).center\n",
    "        self.image.blit(text, text_rect)\n",
    "        \n",
    "    def set_labels(self):\n",
    "        for x in range(self.nx): \n",
    "            for y in range(self.ny):\n",
    "                self.set_label(x, y, str(self.labels[x, y]))\n",
    "                \n",
    "    def add_image(self, path):\n",
    "        img = pygame.image.load(path)\n",
    "        self.image_list.append(img)\n",
    "        \n",
    "    def set_image(self, x, y, i):\n",
    "        img = self.image_list[i]\n",
    "        img_rect = img.get_rect()\n",
    "        img_rect.center = self.get_tile_rect(x, y).center\n",
    "        self.image.blit(img, img_rect)\n",
    " \n",
    "    def set_images(self):\n",
    "        for x in range(self.nx): \n",
    "            for y in range(self.ny):\n",
    "                self.set_image(x, y, self.images[x, y])\n",
    "\n",
    "board = Board(6, 4, dx=20, dy=20, gap=4)\n",
    "\n",
    "s.fill(WHITE)\n",
    "board.set_grid()\n",
    "board.set_tile(3, 3, RED)\n",
    "board.set_tile(4, 3, BLUE)\n",
    "board.set_labels()\n",
    "\n",
    "board.draw()\n",
    "show(board.image)"
   ]
  },
  {
   "cell_type": "markdown",
   "metadata": {},
   "source": [
    "The Board class produces a board-sized image. It can be drawn within a screen surface together with other elements (score, message)."
   ]
  },
  {
   "cell_type": "code",
   "execution_count": 61,
   "metadata": {},
   "outputs": [
    {
     "data": {
      "image/png": "[encoded data removed]",
      "text/plain": [
       "<matplotlib.figure.Figure at 0x104b30438>"
      ]
     },
     "metadata": {},
     "output_type": "display_data"
    }
   ],
   "source": [
    "s.fill(WHITE)\n",
    "board.draw()\n",
    "show(s)"
   ]
  },
  {
   "cell_type": "code",
   "execution_count": 141,
   "metadata": {},
   "outputs": [
    {
     "data": {
      "image/png": "[encoded data removed]",
      "text/plain": [
       "<matplotlib.figure.Figure at 0x10b6d0be0>"
      ]
     },
     "metadata": {},
     "output_type": "display_data"
    }
   ],
   "source": [
    "board = Board(8, 4, gap=4)\n",
    "board.set_rows()\n",
    "show(board.image)"
   ]
  },
  {
   "cell_type": "code",
   "execution_count": 142,
   "metadata": {},
   "outputs": [
    {
     "data": {
      "image/png": "[encoded data removed]",
      "text/plain": [
       "<matplotlib.figure.Figure at 0x10b756a58>"
      ]
     },
     "metadata": {},
     "output_type": "display_data"
    }
   ],
   "source": [
    "board = Board(8, 4, gap=4)\n",
    "board.set_cols()\n",
    "show(board.image)"
   ]
  },
  {
   "cell_type": "code",
   "execution_count": 145,
   "metadata": {},
   "outputs": [
    {
     "data": {
      "image/png": "[encoded data removed]",
      "text/plain": [
       "<matplotlib.figure.Figure at 0x10b41c5c0>"
      ]
     },
     "metadata": {},
     "output_type": "display_data"
    }
   ],
   "source": [
    "board = Board(8, 4, gap=4)\n",
    "board.set_grid()\n",
    "show(board.image)"
   ]
  },
  {
   "cell_type": "code",
   "execution_count": 70,
   "metadata": {},
   "outputs": [
    {
     "data": {
      "image/png": "[encoded data removed]",
      "text/plain": [
       "<matplotlib.figure.Figure at 0x10b1cfe80>"
      ]
     },
     "metadata": {},
     "output_type": "display_data"
    }
   ],
   "source": [
    "board = Board(8, 8)\n",
    "\n",
    "s.fill(WHITE)\n",
    "board.set_tiles()\n",
    "board.draw()\n",
    "show(board.image)"
   ]
  },
  {
   "cell_type": "code",
   "execution_count": 79,
   "metadata": {},
   "outputs": [
    {
     "data": {
      "image/png": "[encoded data removed]",
      "text/plain": [
       "<matplotlib.figure.Figure at 0x10b674588>"
      ]
     },
     "metadata": {},
     "output_type": "display_data"
    }
   ],
   "source": [
    "b2 = Board(6, 4)\n",
    "b2.set_tiles()\n",
    "show(b2.image)"
   ]
  },
  {
   "cell_type": "code",
   "execution_count": 113,
   "metadata": {},
   "outputs": [
    {
     "data": {
      "image/png": "[encoded data removed]",
      "text/plain": [
       "<matplotlib.figure.Figure at 0x10b500550>"
      ]
     },
     "metadata": {},
     "output_type": "display_data"
    }
   ],
   "source": [
    "b2 = Board(6, 4, dx=34, dy=34)\n",
    "b2.add_image('panda.png')\n",
    "b2.add_image('flower.png')\n",
    "b2.set_tiles()\n",
    "b2.set_image(1,2,0)\n",
    "b2.set_image(1,3,1)\n",
    "b2.set_image(2,3,1)\n",
    "show(b2.image)"
   ]
  },
  {
   "cell_type": "code",
   "execution_count": 147,
   "metadata": {},
   "outputs": [
    {
     "data": {
      "image/png": "[encoded data removed]",
      "text/plain": [
       "<matplotlib.figure.Figure at 0x10bb914a8>"
      ]
     },
     "metadata": {},
     "output_type": "display_data"
    }
   ],
   "source": [
    "b2 = Board(6, 4, dx=34, dy=34, bg=GREEN)\n",
    "b2.add_image('panda.png')\n",
    "b2.add_image('flower.png')\n",
    "b2.images = np.random.randint(2, size=(6, 4))\n",
    "b2.set_images()\n",
    "show(b2.image)"
   ]
  },
  {
   "cell_type": "code",
   "execution_count": 149,
   "metadata": {},
   "outputs": [
    {
     "data": {
      "text/plain": [
       "array([[1, 0, 1, 1, 1, 0],\n",
       "       [1, 1, 0, 1, 1, 0],\n",
       "       [0, 1, 1, 1, 0, 1],\n",
       "       [1, 1, 0, 0, 0, 0]])"
      ]
     },
     "execution_count": 149,
     "metadata": {},
     "output_type": "execute_result"
    }
   ],
   "source": [
    "b2.images.transpose()"
   ]
  },
  {
   "cell_type": "markdown",
   "metadata": {},
   "source": [
    "## Snake"
   ]
  },
  {
   "cell_type": "code",
   "execution_count": 234,
   "metadata": {},
   "outputs": [
    {
     "data": {
      "image/png": "[encoded data removed]",
      "text/plain": [
       "<matplotlib.figure.Figure at 0x10c345dd8>"
      ]
     },
     "metadata": {},
     "output_type": "display_data"
    }
   ],
   "source": [
    "class Snake(Board):\n",
    "    def __init__(self, *args):\n",
    "        super().__init__(*args)\n",
    "        self.snake = [[2, 2], [2,3], [3,3], [3, 4]]\n",
    "        self.apple = self.get_rand_pos()\n",
    "        self.vect = np.array([[1, 0], [0, 1], [-1, 0], [0, -1]])\n",
    "        self.dir = 0\n",
    "        \n",
    "    def get_rand_pos(self):\n",
    "        x = np.random.randint(self.nx)\n",
    "        y = np.random.randint(self.ny)\n",
    "        return (x, y)\n",
    "\n",
    "    def set(self):\n",
    "        self.set_tile(self.apple[0], self.apple[1], RED)\n",
    "        \n",
    "    def set_snake(self):\n",
    "        for i in self.snake:\n",
    "            self.set_tile(i[0], i[1], GREEN)\n",
    "        \n",
    "    def move_snake(self):\n",
    "        s0 = self.snake[0] + self.vect[self.dir]\n",
    "        self.snake.insert(0, s0)\n",
    "        self.snake.pop()\n",
    "        \n",
    "b3 = Snake(20, 12)\n",
    "b3.set_grid()\n",
    "b3.set_snake()\n",
    "b3.set()\n",
    "show(b3.image)"
   ]
  },
  {
   "cell_type": "code",
   "execution_count": 162,
   "metadata": {},
   "outputs": [
    {
     "data": {
      "text/plain": [
       "False"
      ]
     },
     "execution_count": 162,
     "metadata": {},
     "output_type": "execute_result"
    }
   ],
   "source": [
    "[2, 0] in snake"
   ]
  },
  {
   "cell_type": "code",
   "execution_count": 236,
   "metadata": {},
   "outputs": [
    {
     "data": {
      "image/png": "[encoded data removed]",
      "text/plain": [
       "<matplotlib.figure.Figure at 0x10c8934e0>"
      ]
     },
     "metadata": {},
     "output_type": "display_data"
    }
   ],
   "source": [
    "b3.move_snake()\n",
    "b3.set_snake()\n",
    "show(b3.image)"
   ]
  },
  {
   "cell_type": "code",
   "execution_count": null,
   "metadata": {},
   "outputs": [],
   "source": []
  },
  {
   "cell_type": "markdown",
   "metadata": {},
   "source": [
    "## Tetris"
   ]
  },
  {
   "cell_type": "code",
   "execution_count": null,
   "metadata": {},
   "outputs": [],
   "source": []
  },
  {
   "cell_type": "markdown",
   "metadata": {},
   "source": [
    "## Minesweeper"
   ]
  },
  {
   "cell_type": "code",
   "execution_count": 269,
   "metadata": {},
   "outputs": [
    {
     "data": {
      "image/png": "[encoded data removed]",
      "text/plain": [
       "<matplotlib.figure.Figure at 0x10b2a7c50>"
      ]
     },
     "metadata": {},
     "output_type": "display_data"
    }
   ],
   "source": [
    "class Mines(Board):\n",
    "    def __init__(self, mines=3, *args):\n",
    "        super().__init__(*args)\n",
    "        self.set_grid()\n",
    "        self.add_image(\"mines.png\")\n",
    "        self.set_image(2, 2, 0)\n",
    "        self.mines = mines\n",
    "\n",
    "    def set_mines():\n",
    "        a = np.array([1]*self.mines + [0]*(self.nx*self.ny-self.mines))\n",
    "        np.random.shuffle(a)\n",
    "        a.resize(nx, ny)\n",
    "                           \n",
    "m = Mines(3, 15, 10, 32, 32)\n",
    "show(m.image)"
   ]
  },
  {
   "cell_type": "markdown",
   "metadata": {},
   "source": [
    "Creating n random mines"
   ]
  },
  {
   "cell_type": "code",
   "execution_count": 271,
   "metadata": {},
   "outputs": [
    {
     "data": {
      "text/plain": [
       "array([[0, 0, 1, 0],\n",
       "       [0, 0, 1, 1],\n",
       "       [0, 0, 1, 0],\n",
       "       [0, 0, 1, 1],\n",
       "       [0, 1, 0, 0],\n",
       "       [1, 0, 1, 1]])"
      ]
     },
     "execution_count": 271,
     "metadata": {},
     "output_type": "execute_result"
    }
   ],
   "source": [
    "nx = 6\n",
    "ny = 4\n",
    "mines = 10\n",
    "a = np.array([1]*mines + [0]*(nx*ny-mines))\n",
    "np.random.shuffle(a)\n",
    "a.resize(nx, ny)\n",
    "a"
   ]
  },
  {
   "cell_type": "code",
   "execution_count": 275,
   "metadata": {},
   "outputs": [
    {
     "data": {
      "text/plain": [
       "array([[0, 0, 1],\n",
       "       [0, 0, 1],\n",
       "       [0, 0, 1]])"
      ]
     },
     "execution_count": 275,
     "metadata": {},
     "output_type": "execute_result"
    }
   ],
   "source": [
    "a[0:3, 0:3]"
   ]
  },
  {
   "cell_type": "code",
   "execution_count": null,
   "metadata": {},
   "outputs": [],
   "source": []
  }
 ],
 "metadata": {
  "kernelspec": {
   "display_name": "Python 3",
   "language": "python",
   "name": "python3"
  },
  "language_info": {
   "codemirror_mode": {
    "name": "ipython",
    "version": 3
   },
   "file_extension": ".py",
   "mimetype": "text/x-python",
   "name": "python",
   "nbconvert_exporter": "python",
   "pygments_lexer": "ipython3",
   "version": "3.6.5"
  },
  "toc": {
   "base_numbering": 1,
   "nav_menu": {},
   "number_sections": true,
   "sideBar": true,
   "skip_h1_title": false,
   "title_cell": "Table of Contents",
   "title_sidebar": "Contents",
   "toc_cell": false,
   "toc_position": {},
   "toc_section_display": true,
   "toc_window_display": true
  }
 },
 "nbformat": 4,
 "nbformat_minor": 2
}
