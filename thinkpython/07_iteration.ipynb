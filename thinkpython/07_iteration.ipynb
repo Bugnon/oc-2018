{
 "cells": [
  {
   "cell_type": "markdown",
   "metadata": {},
   "source": [
    "# Itération et algorithmes"
   ]
  },
  {
   "cell_type": "markdown",
   "metadata": {},
   "source": [
    "Ce chapitre revisite les itérations et introduit des algorithmes."
   ]
  },
  {
   "cell_type": "markdown",
   "metadata": {},
   "source": [
    "## Réaffectation"
   ]
  },
  {
   "cell_type": "markdown",
   "metadata": {},
   "source": [
    "Une première affectation de variable crée cette variable et y associe cette valeur."
   ]
  },
  {
   "cell_type": "code",
   "execution_count": 85,
   "metadata": {},
   "outputs": [
    {
     "name": "stdout",
     "output_type": "stream",
     "text": [
      "5\n",
      "7\n"
     ]
    }
   ],
   "source": [
    "x = 5\n",
    "print(x)"
   ]
  },
  {
   "cell_type": "markdown",
   "metadata": {},
   "source": [
    "Une réaffectation y associe une nouvelle valeur."
   ]
  },
  {
   "cell_type": "code",
   "execution_count": 4,
   "metadata": {},
   "outputs": [
    {
     "name": "stdout",
     "output_type": "stream",
     "text": [
      "7\n"
     ]
    }
   ],
   "source": [
    "x = 7\n",
    "print(x)"
   ]
  },
  {
   "cell_type": "markdown",
   "metadata": {},
   "source": [
    "La variable $y$ est affecté avec la valeur de $x$. Quand $x$ change, $y$ garde sa vaelur."
   ]
  },
  {
   "cell_type": "code",
   "execution_count": 8,
   "metadata": {},
   "outputs": [],
   "source": [
    "y = x"
   ]
  },
  {
   "cell_type": "code",
   "execution_count": 7,
   "metadata": {},
   "outputs": [
    {
     "name": "stdout",
     "output_type": "stream",
     "text": [
      "7 3\n"
     ]
    }
   ],
   "source": [
    "x = 3\n",
    "print(y)"
   ]
  },
  {
   "cell_type": "markdown",
   "metadata": {},
   "source": [
    "## Mettre à jour les variables"
   ]
  },
  {
   "cell_type": "markdown",
   "metadata": {},
   "source": [
    "Une opération fréquente est l'incrémentation d'une variable."
   ]
  },
  {
   "cell_type": "code",
   "execution_count": 11,
   "metadata": {},
   "outputs": [
    {
     "name": "stdout",
     "output_type": "stream",
     "text": [
      "5\n",
      "6\n"
     ]
    }
   ],
   "source": [
    "print(x)\n",
    "x = x + 1\n",
    "print(x)"
   ]
  },
  {
   "cell_type": "markdown",
   "metadata": {},
   "source": [
    "La décrémentation d'une variable, c'est quand une valeur est soustrait du valeur de la variable."
   ]
  },
  {
   "cell_type": "code",
   "execution_count": 12,
   "metadata": {},
   "outputs": [
    {
     "name": "stdout",
     "output_type": "stream",
     "text": [
      "6\n",
      "5\n"
     ]
    }
   ],
   "source": [
    "print(x)\n",
    "x = x - 1\n",
    "print(x)"
   ]
  },
  {
   "cell_type": "markdown",
   "metadata": {},
   "source": [
    "Il existe un raccourci pour écrire cette fonction"
   ]
  },
  {
   "cell_type": "code",
   "execution_count": 13,
   "metadata": {},
   "outputs": [
    {
     "name": "stdout",
     "output_type": "stream",
     "text": [
      "5\n",
      "7\n"
     ]
    }
   ],
   "source": [
    "print(x)\n",
    "x += 2\n",
    "print(x)"
   ]
  },
  {
   "cell_type": "markdown",
   "metadata": {},
   "source": [
    "En fait, toutes les opérateurs (`+-*/%`) possèdent ce raccourcis"
   ]
  },
  {
   "cell_type": "code",
   "execution_count": 21,
   "metadata": {},
   "outputs": [
    {
     "name": "stdout",
     "output_type": "stream",
     "text": [
      "10\n",
      "11\n",
      "5\n",
      "125\n",
      "1\n"
     ]
    }
   ],
   "source": [
    "x = 10\n",
    "print(x)\n",
    "x += 1\n",
    "print(x)\n",
    "x //= 2\n",
    "print(x)\n",
    "x **= 3\n",
    "print(x)\n",
    "x %=4\n",
    "print(x)"
   ]
  },
  {
   "cell_type": "markdown",
   "metadata": {},
   "source": [
    "## L'instruction while"
   ]
  },
  {
   "cell_type": "markdown",
   "metadata": {},
   "source": [
    "Dans un programme doit souvent répéter une séquence d'instructions. On appelle cette répétition une itération. La connotation avec itération est qu'il y a une petite modification à chaque répétition. \n",
    "\n",
    "Le mot-clé `while` introduit une boucle. Tandis que la condition est vraie, le corps du `while` est répété."
   ]
  },
  {
   "cell_type": "code",
   "execution_count": 24,
   "metadata": {},
   "outputs": [
    {
     "name": "stdout",
     "output_type": "stream",
     "text": [
      "3\n",
      "2\n",
      "1\n",
      "Finish\n"
     ]
    }
   ],
   "source": [
    "def count_down(n):\n",
    "    while n > 0:\n",
    "        print(n)\n",
    "        n -= 1\n",
    "    print('Finish')\n",
    "    \n",
    "count_down(3)"
   ]
  },
  {
   "cell_type": "markdown",
   "metadata": {},
   "source": [
    "Pour cerains calcul c'est difficile à dire si une boucle se termine."
   ]
  },
  {
   "cell_type": "code",
   "execution_count": 40,
   "metadata": {},
   "outputs": [],
   "source": [
    "def sequence(n):\n",
    "    while n != 1: \n",
    "        print(n, end=', ')\n",
    "        if n % 2 == 0:\n",
    "            n = n // 2\n",
    "        else:\n",
    "            n = n * 3 + 1\n",
    "    return n"
   ]
  },
  {
   "cell_type": "markdown",
   "metadata": {},
   "source": [
    "La condition de la boucle est `n != 1`, donc la boucle continue jusqu'à ce que `n` soit 1."
   ]
  },
  {
   "cell_type": "code",
   "execution_count": 41,
   "metadata": {},
   "outputs": [
    {
     "name": "stdout",
     "output_type": "stream",
     "text": [
      "2, 1\n",
      "3, 10, 5, 16, 8, 4, 2, 1\n",
      "4, 2, 1\n",
      "5, 16, 8, 4, 2, 1\n",
      "6, 3, 10, 5, 16, 8, 4, 2, 1\n",
      "7, 22, 11, 34, 17, 52, 26, 13, 40, 20, 10, 5, 16, 8, 4, 2, 1\n",
      "8, 4, 2, 1\n",
      "9, 28, 14, 7, 22, 11, 34, 17, 52, 26, 13, 40, 20, 10, 5, 16, 8, 4, 2, 1\n",
      "10, 5, 16, 8, 4, 2, 1\n",
      "11, 34, 17, 52, 26, 13, 40, 20, 10, 5, 16, 8, 4, 2, 1\n",
      "12, 6, 3, 10, 5, 16, 8, 4, 2, 1\n",
      "13, 40, 20, 10, 5, 16, 8, 4, 2, 1\n",
      "14, 7, 22, 11, 34, 17, 52, 26, 13, 40, 20, 10, 5, 16, 8, 4, 2, 1\n",
      "15, 46, 23, 70, 35, 106, 53, 160, 80, 40, 20, 10, 5, 16, 8, 4, 2, 1\n",
      "16, 8, 4, 2, 1\n",
      "17, 52, 26, 13, 40, 20, 10, 5, 16, 8, 4, 2, 1\n",
      "18, 9, 28, 14, 7, 22, 11, 34, 17, 52, 26, 13, 40, 20, 10, 5, 16, 8, 4, 2, 1\n",
      "19, 58, 29, 88, 44, 22, 11, 34, 17, 52, 26, 13, 40, 20, 10, 5, 16, 8, 4, 2, 1\n"
     ]
    }
   ],
   "source": [
    "for n in range(2, 20):\n",
    "    print(sequence(n))"
   ]
  },
  {
   "cell_type": "markdown",
   "metadata": {},
   "source": [
    "## break - interrompre une boucle"
   ]
  },
  {
   "cell_type": "markdown",
   "metadata": {},
   "source": [
    "Parfois on doit pouvoir interrompre une boucle depuis l'interieur."
   ]
  },
  {
   "cell_type": "code",
   "execution_count": 1,
   "metadata": {},
   "outputs": [
    {
     "name": "stdout",
     "output_type": "stream",
     "text": [
      ">this\n",
      "this\n",
      ">is\n",
      "is\n",
      ">end\n",
      "END\n"
     ]
    }
   ],
   "source": [
    "while True:\n",
    "    line = input('>')\n",
    "    if line == 'end':\n",
    "        break\n",
    "    else:\n",
    "        print(line)\n",
    "\n",
    "print('END')"
   ]
  },
  {
   "cell_type": "markdown",
   "metadata": {},
   "source": [
    "## Racines carrées"
   ]
  },
  {
   "cell_type": "markdown",
   "metadata": {},
   "source": [
    "Une façon de calculer les racines carrées est d'utiliser un algorithme itérative, par exemple la méthode de Newton. Supposons que nous voulions calculer la racine carrée de $a$. A partir d'un estimation $x$, nous obtenons une meilleure estimation en utilisant la formule\n",
    "\n",
    "$$ y = \\frac{x +a/x}{2} $$"
   ]
  },
  {
   "cell_type": "code",
   "execution_count": 5,
   "metadata": {},
   "outputs": [],
   "source": [
    "a = 4\n",
    "x = 3\n",
    "y = (x + a/x) / 2"
   ]
  },
  {
   "cell_type": "markdown",
   "metadata": {},
   "source": [
    "Nous pouvons définir une fonction qu'il suffit d'appliquer quelques fois"
   ]
  },
  {
   "cell_type": "code",
   "execution_count": 13,
   "metadata": {},
   "outputs": [],
   "source": [
    "def newton(x, a):\n",
    "    return (x + a/x) / 2"
   ]
  },
  {
   "cell_type": "code",
   "execution_count": 8,
   "metadata": {},
   "outputs": [
    {
     "data": {
      "text/plain": [
       "2.1666666666666665"
      ]
     },
     "execution_count": 8,
     "metadata": {},
     "output_type": "execute_result"
    }
   ],
   "source": [
    "x = newton(x, a); x"
   ]
  },
  {
   "cell_type": "code",
   "execution_count": 9,
   "metadata": {},
   "outputs": [
    {
     "data": {
      "text/plain": [
       "2.0064102564102564"
      ]
     },
     "execution_count": 9,
     "metadata": {},
     "output_type": "execute_result"
    }
   ],
   "source": [
    "x = newton(x, a); x"
   ]
  },
  {
   "cell_type": "code",
   "execution_count": 10,
   "metadata": {},
   "outputs": [
    {
     "data": {
      "text/plain": [
       "2.0000102400262145"
      ]
     },
     "execution_count": 10,
     "metadata": {},
     "output_type": "execute_result"
    }
   ],
   "source": [
    "x = newton(x, a); x"
   ]
  },
  {
   "cell_type": "markdown",
   "metadata": {},
   "source": [
    "Lorsque `x==y`nous pouvons arrêter. Voici une boucle qui commence avec la première estimation et améliore jus'qu'à ce quelle ne change plus."
   ]
  },
  {
   "cell_type": "code",
   "execution_count": 15,
   "metadata": {},
   "outputs": [
    {
     "name": "stdout",
     "output_type": "stream",
     "text": [
      "3\n",
      "2.1666666666666665\n",
      "2.0064102564102564\n",
      "2.0000102400262145\n",
      "2.0000000000262146\n",
      "2.0\n"
     ]
    }
   ],
   "source": [
    "a = 4\n",
    "x = 3\n",
    "while True:\n",
    "    print(x)\n",
    "    y = newton(x, a)\n",
    "    if y==x:\n",
    "        break\n",
    "    x = y"
   ]
  },
  {
   "cell_type": "code",
   "execution_count": 19,
   "metadata": {},
   "outputs": [],
   "source": [
    "def root(a):\n",
    "    x = a\n",
    "    while True:\n",
    "        print(x)\n",
    "        y = newton(x, a)\n",
    "        if y==x:\n",
    "            return x\n",
    "        x = y"
   ]
  },
  {
   "cell_type": "code",
   "execution_count": 25,
   "metadata": {},
   "outputs": [
    {
     "name": "stdout",
     "output_type": "stream",
     "text": [
      "3\n",
      "2.0\n",
      "1.75\n",
      "1.7321428571428572\n",
      "1.7320508100147274\n",
      "1.7320508075688772\n"
     ]
    },
    {
     "data": {
      "text/plain": [
       "1.7320508075688772"
      ]
     },
     "execution_count": 25,
     "metadata": {},
     "output_type": "execute_result"
    }
   ],
   "source": [
    "root(3)"
   ]
  },
  {
   "cell_type": "markdown",
   "metadata": {},
   "source": [
    "## Exercices"
   ]
  },
  {
   "cell_type": "markdown",
   "metadata": {},
   "source": [
    "### ex 1 - esilon"
   ]
  },
  {
   "cell_type": "markdown",
   "metadata": {},
   "source": [
    "Encapsulez l'algorithme de Newton pour la racine carrée dans une fonction `mysqrt` qui prend x comme paramètre et renvoie une estimation de la racine carré.\n",
    "\n",
    "Ecrivez une fonction `test_racine` qui compare cette valeur avec `math.sqrt(x)`"
   ]
  },
  {
   "cell_type": "code",
   "execution_count": 29,
   "metadata": {},
   "outputs": [
    {
     "data": {
      "text/plain": [
       "1.414213562373095"
      ]
     },
     "execution_count": 29,
     "metadata": {},
     "output_type": "execute_result"
    }
   ],
   "source": [
    "def mysqrt(x):\n",
    "    a = x\n",
    "    while True:\n",
    "        y = (x + a/x)/2\n",
    "        if y == x:\n",
    "            return x\n",
    "        x = y\n",
    "\n",
    "mysqrt(2)"
   ]
  },
  {
   "cell_type": "code",
   "execution_count": 54,
   "metadata": {},
   "outputs": [
    {
     "name": "stdout",
     "output_type": "stream",
     "text": [
      "x  mysqrt(x)               math.sqrt(x)            diff                    \n",
      "1  1                       1.0                     0.0                     \n",
      "2  1.414213562373095       1.4142135623730951      2.220446049250313e-16   \n",
      "3  1.7320508075688772      1.7320508075688772      0.0                     \n",
      "4  2.0                     2.0                     0.0                     \n",
      "5  2.23606797749979        2.23606797749979        0.0                     \n",
      "6  2.449489742783178       2.449489742783178       0.0                     \n",
      "7  2.6457513110645907      2.6457513110645907      0.0                     \n",
      "8  2.82842712474619        2.8284271247461903      4.440892098500626e-16   \n",
      "9  3.0                     3.0                     0.0                     \n"
     ]
    }
   ],
   "source": [
    "import math\n",
    "\n",
    "cols = '{:<3}{:<24}{:<24}{:<24}' \n",
    "print(cols.format('x', 'mysqrt(x)', 'math.sqrt(x)', 'diff'))\n",
    "for x in range(1, 10):\n",
    "    a = mysqrt(x)\n",
    "    b = math.sqrt(x)\n",
    "    print(cols.format(x, a, b, b-a))"
   ]
  },
  {
   "cell_type": "code",
   "execution_count": 57,
   "metadata": {},
   "outputs": [
    {
     "data": {
      "text/plain": [
       "2.220446049250313e-16"
      ]
     },
     "execution_count": 57,
     "metadata": {},
     "output_type": "execute_result"
    }
   ],
   "source": [
    "2**-52"
   ]
  },
  {
   "cell_type": "markdown",
   "metadata": {},
   "source": [
    "La valeur est la plus petit incrément d'une valeur flottante à 64 bits avec 1 signe, 53 bits de mantisse et 10bits d'exposant"
   ]
  },
  {
   "cell_type": "markdown",
   "metadata": {},
   "source": [
    "### ex 2 - eval"
   ]
  },
  {
   "cell_type": "markdown",
   "metadata": {},
   "source": [
    "La fonction interne **eval** prend une chaîne de caractères et l'évalue comme du code Python. Ecrivez une fonction qui invite l'utilisateur à faire une saisie, évalue cette expression et affiche le résultat jusqu'à ce que l'utilisateur entre le mot _fini_."
   ]
  },
  {
   "cell_type": "code",
   "execution_count": 58,
   "metadata": {},
   "outputs": [
    {
     "name": "stdout",
     "output_type": "stream",
     "text": [
      ">1+23\n",
      "24\n",
      ">math.sqrt(23)\n",
      "4.795831523312719\n",
      ">fini\n"
     ]
    }
   ],
   "source": [
    "while True:\n",
    "    exp = input('>')\n",
    "    if exp == 'fini':\n",
    "        break\n",
    "    print(eval(exp))"
   ]
  },
  {
   "cell_type": "markdown",
   "metadata": {},
   "source": [
    "### ex 3 - série infinie pour approximer pi"
   ]
  },
  {
   "cell_type": "markdown",
   "metadata": {},
   "source": [
    "Le mathématicien Srinivasa Ranujan a trouvé une série infinie qui peut être utilisée pour générer une approximation numérique de $1/\\pi$.\n",
    "\n",
    "$$ \\frac{1}{\\pi} = \\frac{2 \\sqrt 2}{9801} \\sum_{k=0}^\\infty \\frac{(4k)! (1193 + 26390 k)}{(k!)^4 396^{4 k}}$$"
   ]
  },
  {
   "cell_type": "code",
   "execution_count": 70,
   "metadata": {},
   "outputs": [
    {
     "data": {
      "text/plain": [
       "0.31830987844047015"
      ]
     },
     "execution_count": 70,
     "metadata": {},
     "output_type": "execute_result"
    }
   ],
   "source": [
    "def estimate_pi(k):\n",
    "    res =  * math.factorial(4*k) * \n",
    "    return res\n",
    "\n",
    "estimate_pi(0)"
   ]
  },
  {
   "cell_type": "code",
   "execution_count": 84,
   "metadata": {},
   "outputs": [
    {
     "name": "stdout",
     "output_type": "stream",
     "text": [
      "3.141592653589793 3.141592653589793\n"
     ]
    }
   ],
   "source": [
    "from math import sqrt, factorial, pi\n",
    "\n",
    "sum = 0.0\n",
    "k = 0\n",
    "a = 2 * sqrt(2) / 9801\n",
    "\n",
    "while True:\n",
    "    b = factorial(4*k) * (1103 + 26390 * k) / (factorial(k)**4 * 396**(4*k))\n",
    "    sum += b\n",
    "    if b < 1e-15:\n",
    "        break\n",
    "    k += 1\n",
    "\n",
    "res = 1 / (a * sum)\n",
    "print(res, pi)"
   ]
  }
 ],
 "metadata": {
  "kernelspec": {
   "display_name": "Python 3",
   "language": "python",
   "name": "python3"
  },
  "language_info": {
   "codemirror_mode": {
    "name": "ipython",
    "version": 3
   },
   "file_extension": ".py",
   "mimetype": "text/x-python",
   "name": "python",
   "nbconvert_exporter": "python",
   "pygments_lexer": "ipython3",
   "version": "3.7.0"
  }
 },
 "nbformat": 4,
 "nbformat_minor": 2
}
