{
 "cells": [
  {
   "cell_type": "markdown",
   "metadata": {},
   "source": [
    "# Programmer le jeu Tetris avec un SenseHat"
   ]
  },
  {
   "cell_type": "markdown",
   "metadata": {},
   "source": [
    "## Introduction\n",
    "Le jeu Tetris est l'un des tout premiers jeux créés. Il s'agit de briques de différentes formes et longueurs qui descendent toute seule. Le but du jeu est de les empilés de manière méthodique pour former une ligne complète, qui disparaitra. Et ainsi de suite jusqu'à ce qu'une forme soit monté trop haut et ait bloqué l'apparition de la prochaine forme."
   ]
  },
  {
   "cell_type": "markdown",
   "metadata": {},
   "source": [
    "### Définition des variables classiques\n",
    "Nous avons tout d'abord créer une variable pour chaque couleur (mais nous n'utiliserons que le rouge, le jaune, le cyan et le noir). Puis la variable sense a été assignée à SenseHat()."
   ]
  },
  {
   "cell_type": "code",
   "execution_count": 6,
   "metadata": {},
   "outputs": [
    {
     "ename": "ModuleNotFoundError",
     "evalue": "No module named 'sense_hat'",
     "output_type": "error",
     "traceback": [
      "\u001b[1;31m---------------------------------------------------------------------------\u001b[0m",
      "\u001b[1;31mModuleNotFoundError\u001b[0m                       Traceback (most recent call last)",
      "\u001b[1;32m<ipython-input-6-f515b18be0f9>\u001b[0m in \u001b[0;36m<module>\u001b[1;34m()\u001b[0m\n\u001b[1;32m----> 1\u001b[1;33m \u001b[1;32mfrom\u001b[0m \u001b[0msense_hat\u001b[0m \u001b[1;32mimport\u001b[0m \u001b[0mSenseHat\u001b[0m\u001b[1;33m\u001b[0m\u001b[0m\n\u001b[0m\u001b[0;32m      2\u001b[0m \u001b[1;32mfrom\u001b[0m \u001b[0mtime\u001b[0m \u001b[1;32mimport\u001b[0m \u001b[0msleep\u001b[0m\u001b[1;33m,\u001b[0m \u001b[0mtime\u001b[0m\u001b[1;33m\u001b[0m\u001b[0m\n\u001b[0;32m      3\u001b[0m \u001b[1;32mfrom\u001b[0m \u001b[0mrandom\u001b[0m \u001b[1;32mimport\u001b[0m \u001b[0mrandint\u001b[0m\u001b[1;33m,\u001b[0m \u001b[0mchoice\u001b[0m\u001b[1;33m\u001b[0m\u001b[0m\n\u001b[0;32m      4\u001b[0m \u001b[1;33m\u001b[0m\u001b[0m\n\u001b[0;32m      5\u001b[0m \u001b[1;31m## Définition des couleurs\u001b[0m\u001b[1;33m\u001b[0m\u001b[1;33m\u001b[0m\u001b[0m\n",
      "\u001b[1;31mModuleNotFoundError\u001b[0m: No module named 'sense_hat'"
     ]
    }
   ],
   "source": [
    "from sense_hat import SenseHat\n",
    "from time import sleep, time\n",
    "from random import randint, choice\n",
    "\n",
    "## Définition des couleurs\n",
    "\n",
    "red = (255, 0, 0)\n",
    "green = (0, 255, 0)\n",
    "blue = (0, 0, 255)\n",
    "magenta = (255, 0, 255)\n",
    "cyan = (0, 255, 255)\n",
    "yellow = (255, 255, 0)\n",
    "orange = (255, 128, 0)\n",
    "white = (255, 255, 255)"
   ]
  },
  {
   "cell_type": "markdown",
   "metadata": {},
   "source": [
    "### Définition des variables propres à notre jeu\n",
    "Voici les variables propres à un jeu comme Tetris ainsi que leur description."
   ]
  },
  {
   "cell_type": "code",
   "execution_count": 5,
   "metadata": {},
   "outputs": [
    {
     "ename": "NameError",
     "evalue": "name 'time' is not defined",
     "output_type": "error",
     "traceback": [
      "\u001b[1;31m---------------------------------------------------------------------------\u001b[0m",
      "\u001b[1;31mNameError\u001b[0m                                 Traceback (most recent call last)",
      "\u001b[1;32m<ipython-input-5-1c7985836193>\u001b[0m in \u001b[0;36m<module>\u001b[1;34m()\u001b[0m\n\u001b[0;32m      3\u001b[0m \u001b[0mstate\u001b[0m \u001b[1;33m=\u001b[0m \u001b[1;36m1\u001b[0m \u001b[1;31m# State = 0 quand le jeu est en statique (entre les apparitions de formes) et state = 1 quand il est en dynamique (la forme descend)\u001b[0m\u001b[1;33m\u001b[0m\u001b[0m\n\u001b[0;32m      4\u001b[0m \u001b[0mgame\u001b[0m \u001b[1;33m=\u001b[0m \u001b[1;36m1\u001b[0m \u001b[1;31m# Game = 1 quand le jeu continue sinon c'est game over\u001b[0m\u001b[1;33m\u001b[0m\u001b[0m\n\u001b[1;32m----> 5\u001b[1;33m \u001b[0mt0\u001b[0m \u001b[1;33m=\u001b[0m \u001b[0mtime\u001b[0m\u001b[1;33m(\u001b[0m\u001b[1;33m)\u001b[0m \u001b[1;31m# Variable de temps utile pour la descente des formes\u001b[0m\u001b[1;33m\u001b[0m\u001b[0m\n\u001b[0m\u001b[0;32m      6\u001b[0m \u001b[0mdx\u001b[0m \u001b[1;33m=\u001b[0m \u001b[1;36m0\u001b[0m \u001b[1;31m# Déplacement sur l'axe X (vers le bas)\u001b[0m\u001b[1;33m\u001b[0m\u001b[0m\n\u001b[0;32m      7\u001b[0m \u001b[0mdy\u001b[0m \u001b[1;33m=\u001b[0m \u001b[1;36m0\u001b[0m \u001b[1;31m# Déplacement sur l'axe Y (vers le bas)\u001b[0m\u001b[1;33m\u001b[0m\u001b[0m\n",
      "\u001b[1;31mNameError\u001b[0m: name 'time' is not defined"
     ]
    }
   ],
   "source": [
    "color = (0, 0, 0) # Définition de la variable color, qui s'adaptera en fonction de la forme.\n",
    "score = 0 # Le score total du joueur (le nombre de ligne complétées)\n",
    "state = 1 # State = 0 quand le jeu est en statique (entre les apparitions de formes) et state = 1 quand il est en dynamique (la forme descend)\n",
    "game = 1 # Game = 1 quand le jeu continue sinon c'est game over\n",
    "t0 = time() # Variable de temps utile pour la descente des formes\n",
    "dx = 0 # Déplacement sur l'axe X (vers le bas)\n",
    "dy = 0 # Déplacement sur l'axe Y (vers le bas)\n",
    "dt = 1 # Temps entre chaque descente de forme en seconde"
   ]
  },
  {
   "cell_type": "markdown",
   "metadata": {},
   "source": [
    "### Définition des formes dans des matrices\n",
    "L'écran de LED 8x8 étant assez restreint, nous avons décidés de réduire légérement les formes classiques de tetris en 3 formes principales. Ces matrices pourront être retournées pour faire une rotation de la forme par la suite. Dans les matrices, les 1 représentent les formes, donc les pixels allumés."
   ]
  },
  {
   "cell_type": "code",
   "execution_count": 100,
   "metadata": {},
   "outputs": [],
   "source": [
    "# La barre verticale de 3 en cyan\n",
    "I=[[0, 1, 0],\n",
    "   [0, 1, 0],\n",
    "   [0, 1, 0]]\n",
    "\n",
    "# Le L en rouge\n",
    "L=[[1, 0],\n",
    "   [1, 1]]\n",
    "\n",
    "# Le carré 2x2 en jaune\n",
    "O=[[1, 1],\n",
    "   [1, 1]]\n",
    "\n",
    "shapes = (I, L, O) # Liste contenant les 3 formes\n",
    "\n",
    "P = choice(shapes) # Choisit une forme au hasard parmi les trois et la stock dans la variable P\n",
    "\n",
    "if P == L: # Assigne la couleur de la forme choisie à la variable color\n",
    "    color = red\n",
    "elif P == I:\n",
    "    color = cyan\n",
    "else:\n",
    "    color = yellow"
   ]
  },
  {
   "cell_type": "markdown",
   "metadata": {},
   "source": [
    "### Définition des fonctions\n",
    "#### Faire apparaître la forme\n",
    "Nous arrivons dans la partie la plus compliquée, tout d'abord nous avons créé une fonction qui fait apparaître une forme au hasard en haut au milieu du SenseHat."
   ]
  },
  {
   "cell_type": "code",
   "execution_count": 1,
   "metadata": {},
   "outputs": [],
   "source": [
    "def matrix_print(M): # Affiche une forme en haut au milieu\n",
    "    n = len(M)\n",
    "    for y in range(n):\n",
    "        for x in range(n):\n",
    "            if M[y][x]==1: # Si la valeur dans la matrice est égale à 1: on allume le pixel avec la couleur correspondant à la forme.\n",
    "                sense.set_pixel(3+x, y, color)"
   ]
  },
  {
   "cell_type": "markdown",
   "metadata": {},
   "source": [
    "#### Faire descendre la forme"
   ]
  },
  {
   "cell_type": "markdown",
   "metadata": {},
   "source": [
    "Il nous faut ensuite définir une fonction qui permet à la forme de descendre d'un pixel vers le bas. Cette fonction s'activerai donc toute les secondes automatiquement pour faire descendre la forme. On peut aussi l'activer manuellement pour descendre plus rapidement."
   ]
  },
  {
   "cell_type": "code",
   "execution_count": 102,
   "metadata": {},
   "outputs": [],
   "source": [
    "def matrix_print_down(M): # Déplace la forme vers le bas\n",
    "    global dy\n",
    "    global dx\n",
    "    dy += 1 # Incrémente la position y de 1\n",
    "    n=len(M)\n",
    "    for y in range(n): # Supprime la forme actuelle\n",
    "        for x in range(n):\n",
    "            if 0 <= y+dy <= 7: # Vérifie si la forme peut descendre.\n",
    "                if M[y][x]==1:\n",
    "                    sense.set_pixel(3+x+dx, y+dy-1, black)\n",
    "            elif M == [[0, 0, 0], [1, 1, 1], [0, 0, 0]] and y+dy == 8: # Permet à la barre tournée horizontalement de descendre jusqu'en bas\n",
    "                if M[y][x]==1:\n",
    "                    sense.set_pixel(3+x+dx, y+dy-1, black)\n",
    "            else:\n",
    "                dy -= 1 # Si la forme ne peut pas descendre, on diminue dy de 1 car on l'incrémente au debut comme sa la forme ne bouge pas.\n",
    "    for y in range(n): # Affiche la nouvelle forme descendue de 1 si elle n'est pas en bas.\n",
    "        for x in range(n):\n",
    "            if 0 <= y+dy <= 7:   \n",
    "                if M[y][x]==1:\n",
    "                    sense.set_pixel(3+x+dx, y+dy, color)\n",
    "            elif M == [[0, 0, 0], [1, 1, 1], [0, 0, 0]] and y+dy == 8:\n",
    "                if M[y][x]==1:\n",
    "                    sense.set_pixel(3+x+dx, y+dy, color)\n",
    "            else:\n",
    "                state=0 # Si la forme est en bas, on passe en statique\n"
   ]
  },
  {
   "cell_type": "markdown",
   "metadata": {},
   "source": [
    "On remarque une chose importante. La forme 'I' est un cas particulier à traiter en parallèle des deux autres formes. En effet si le I est tourné en horizontal, la dernière ligne de la matrice est vide donc on peut descendre d'une case de plus. Nous retrouverons ce cas assez souvent dans les futurs fonctions."
   ]
  },
  {
   "cell_type": "markdown",
   "metadata": {},
   "source": [
    "#### Déplacer la forme à gauche ou à droite"
   ]
  },
  {
   "cell_type": "markdown",
   "metadata": {},
   "source": [
    "Mettons maintenant en place des fonctions qui permettent à la matrice de se déplacer à gauche ou à droite. Ces fonctions seront par la suite activées par le joystick."
   ]
  },
  {
   "cell_type": "code",
   "execution_count": null,
   "metadata": {},
   "outputs": [],
   "source": [
    "def matrix_print_left(M): # Déplace la forme vers la gauche\n",
    "    global dy\n",
    "    global dx\n",
    "    dx -= 1\n",
    "    n = len(M)\n",
    "    for y in range(n): # Regarde si on est collé à une forme. Si c'est le cas, empeche d'aller plus à gauche \n",
    "        if M == [[0, 1, 0], [0, 1, 0], [0, 1, 0]] and -1 <= 3+dx <= 7:\n",
    "            if M[y][1]==1 and sense.get_pixel(3+dx+1, y+dy)!=[0, 0, 0]:\n",
    "                dx+=1\n",
    "                return ;\n",
    "        elif 0 <= 3+dx <= 7:\n",
    "            if M[y][0]==1 and sense.get_pixel(3+dx, y+dy)!=[0, 0, 0]:\n",
    "                dx+=1\n",
    "                return ;\n",
    "    for y in range(n): # Supprime la forme actuelle\n",
    "        for x in range(n):\n",
    "            if 0 <= 3+x+dx <= 7: # Check que la forme ne soit pas collée au bord de l'affichage\n",
    "                if M[y][x]==1:\n",
    "                    sense.set_pixel(3+x+dx+1, y+dy, black)\n",
    "            elif M == [[0, 1, 0], [0, 1, 0], [0, 1, 0]] and 3+x+dx == -1: # Permet à la barre verticale d'aller sur les côtés\n",
    "                if M[y][x]==1:\n",
    "                    sense.set_pixel(3+x+dx+1, y+dy, black)\n",
    "            else:\n",
    "                dx += 1 # Si la forme est au bord, on incrémente dx car on l'a décrémenté au debut afin que la forme ne bouge pas.          \n",
    "    \n",
    "    for y in range(n): # Affiche la nouvelle forme décalée à gauche\n",
    "        for x in range(n):\n",
    "            if 0 <= 3+x+dx <= 7:\n",
    "                if M[y][x]==1:\n",
    "                    sense.set_pixel(3+x+dx, y+dy, color)\n",
    "            elif M == [[0, 1, 0], [0, 1, 0], [0, 1, 0]] and 3+x+dx == -1:\n",
    "                if M[y][x]==1:\n",
    "                    sense.set_pixel(3+x+dx, y+dy, color)"
   ]
  },
  {
   "cell_type": "markdown",
   "metadata": {},
   "source": [
    "Nous retrouvons ici à peu près la même architecture que la fonction précédente, on supprime la forme originelle et on affiche la nouvelle forme décalée. En prenant en compte le cas particulier encore une fois de la barre, qui si elle est droite peut se déplacer d'une case supplémentaire sur les côtés.\n",
    "Nous avons ici un problème supplémentaire ; si la forme en rencontre une autre, elle ne peut plus avancer. Il a donc fallu déterminer si des pixels allumés gênaient le passage pour savoir si on pouvait décaler la forme."
   ]
  },
  {
   "cell_type": "markdown",
   "metadata": {},
   "source": [
    "Voici ensuite la fonction qui déplace la forme vers la droite cette fois-ci. Elle est quasiment identique à matrix_print_left à quelques détails près."
   ]
  },
  {
   "cell_type": "code",
   "execution_count": 2,
   "metadata": {},
   "outputs": [],
   "source": [
    "def matrix_print_right(M): # Déplace la forme vers la droite\n",
    "    global dy\n",
    "    global dx\n",
    "    dx += 1\n",
    "    n = len(M)\n",
    "    for y in range(n): # Empêche de continuer quand elle est en colision avec une forme \n",
    "            if M == [[0, 1, 0], [0, 1, 0], [0, 1, 0]] and -1 <= 3+dx <= 6:\n",
    "                if M[y][1]==1 and sense.get_pixel(3+dx+1, y+dy)!=[0, 0, 0]:\n",
    "                    dx-=1\n",
    "                    return ;\n",
    "            if M == [[0, 0, 0], [1, 1, 1], [0, 0, 0]] and -1 <= 3+dx <= 5:\n",
    "                if M[y][2]==1 and sense.get_pixel(3+dx+2, y+dy)!=[0, 0, 0]:\n",
    "                    dx-=1\n",
    "                    return ;\n",
    "            elif 0 <= 3+dx <= 6:\n",
    "                if M[y][1]==1 and sense.get_pixel(3+dx+1, y+dy)!=[0, 0, 0]:\n",
    "                    dx-=1\n",
    "                    return ;\n",
    "    for y in range(n): # Supprime la forme actuelle\n",
    "        for x in range(n):\n",
    "            if 0 <= 3+x+dx <= 7:\n",
    "                if M[y][x]==1:\n",
    "                    sense.set_pixel(3+x+dx-1, y+dy, black)\n",
    "            elif M == [[0, 1, 0], [0, 1, 0], [0, 1, 0]] and 3+x+dx == 8:\n",
    "                if M[y][x]==1:\n",
    "                    sense.set_pixel(3+x+dx-1, y+dy, black)\n",
    "            else:\n",
    "                dx -= 1 # Décrémente dx si on est collé contre un bord car on l'incrémente au début, comme sa la forme ne bouge pas.\n",
    "\n",
    "    for y in range(n): # Affiche la forme décalée de un vers la droite\n",
    "        for x in range(n):\n",
    "            if 0 <= 3+x+dx <= 7:\n",
    "                if M[y][x]==1:\n",
    "                    sense.set_pixel(3+x+dx, y+dy, color)\n",
    "            elif M == [[0, 1, 0], [0, 1, 0], [0, 1, 0]] and 3+x+dx == 8:\n",
    "                if M[y][x]==1:\n",
    "                    sense.set_pixel(3+x+dx, y+dy, color)"
   ]
  },
  {
   "cell_type": "markdown",
   "metadata": {},
   "source": [
    "#### Faire tourner la forme sur elle-même"
   ]
  },
  {
   "cell_type": "markdown",
   "metadata": {},
   "source": [
    "Finalement, terminons avec la fonction qui permet de faire tourner les formes. Nous l'avons appelée rotate_90 car elle exerce une rotation de 90° de la matrice vers la droite.\n",
    "Nous tenons à dire que nous avons essayé de réaliser cette fonction par nous-même pendant longtemps sans succès. Nous avons donc cherché une fonction capable de faire cela sur internet. Une partie de cette fonction (la deuxième boucle for)est donc empruntée et n'est pas de nous."
   ]
  },
  {
   "cell_type": "code",
   "execution_count": 3,
   "metadata": {},
   "outputs": [],
   "source": [
    "def rotate_90(matrix): # Tourne la matrice carrée, et donc la forme, de 90 degrés vers la droite (fonction en partie empruntée sur internet)\n",
    "    n = len(matrix)\n",
    "    for y in range(n): # Supprime la forme actuelle\n",
    "        for x in range(n):\n",
    "            if matrix[y][x]==1:\n",
    "                sense.set_pixel(3+x+dx, y+dy, black)\n",
    "    for layer in range((n + 1) // 2): # Définit les nouvelles coordonnées dans la matrice.\n",
    "        for index in range(layer, n - 1 - layer, 1):\n",
    "            matrix[layer][index], matrix[n - 1 - index][layer], \\\n",
    "                matrix[index][n - 1 - layer], matrix[n - 1 - layer][n - 1 - index] = \\\n",
    "                matrix[n - 1 - index][layer], matrix[n - 1 - layer][n - 1 - index], \\\n",
    "                matrix[layer][index], matrix[index][n - 1 - layer]\n",
    "    for y in range(n): # Affiche la forme tournée de 90 degrés vers la droite.\n",
    "        for x in range(n):\n",
    "            if matrix[y][x]==1:\n",
    "                sense.set_pixel(3+x+dx, y+dy, color)\n",
    "    return matrix"
   ]
  },
  {
   "cell_type": "markdown",
   "metadata": {},
   "source": [
    "### Les boucles du jeu (dans une boucle `while game == 1:`)\n",
    "Nous entrons dans le coeur du jeu. Avant de développer ce dernier, il faut savoir que pour éviter de mettre 70 lignes de code d'un coup nous l'avons divisé en plusieurs parties. Il faut néanmoins savoir que toute les prochaines parties expliquées sont imbriquées dans une grande boucle 'while game == 1:' qui permet de répéter en boucle l'apparition des formes jusqu'au moment ou le joueur perd et la variable game passe à 0."
   ]
  },
  {
   "cell_type": "markdown",
   "metadata": {},
   "source": [
    "#### État dynamique (dans une boucle `while state == 1:`)\n",
    "Juste avant d'engager cette énorme boucle game, nous avons :\n",
    "`sense.clear()` et `matrix_print(P)`\n",
    "Ce qui a permis de faire apparaître une forme au hasard qui marque le début du jeu.\n",
    "Le jeu est donc mis par défaut en state=1 qui veut dire 'dynamique', la forme peuvent donc descendre."
   ]
  },
  {
   "cell_type": "markdown",
   "metadata": {},
   "source": [
    "##### Le joystick"
   ]
  },
  {
   "cell_type": "code",
   "execution_count": 4,
   "metadata": {},
   "outputs": [
    {
     "ename": "NameError",
     "evalue": "name 'sense' is not defined",
     "output_type": "error",
     "traceback": [
      "\u001b[1;31m---------------------------------------------------------------------------\u001b[0m",
      "\u001b[1;31mNameError\u001b[0m                                 Traceback (most recent call last)",
      "\u001b[1;32m<ipython-input-4-059bba878ab9>\u001b[0m in \u001b[0;36m<module>\u001b[1;34m()\u001b[0m\n\u001b[1;32m----> 1\u001b[1;33m \u001b[1;32mfor\u001b[0m \u001b[0mevent\u001b[0m \u001b[1;32min\u001b[0m \u001b[0msense\u001b[0m\u001b[1;33m.\u001b[0m\u001b[0mstick\u001b[0m\u001b[1;33m.\u001b[0m\u001b[0mget_events\u001b[0m\u001b[1;33m(\u001b[0m\u001b[1;33m)\u001b[0m\u001b[1;33m:\u001b[0m\u001b[1;33m\u001b[0m\u001b[0m\n\u001b[0m\u001b[0;32m      2\u001b[0m              \u001b[1;32mif\u001b[0m \u001b[0mevent\u001b[0m\u001b[1;33m.\u001b[0m\u001b[0maction\u001b[0m \u001b[1;33m==\u001b[0m \u001b[1;34m'pressed'\u001b[0m \u001b[1;32mand\u001b[0m \u001b[0mevent\u001b[0m\u001b[1;33m.\u001b[0m\u001b[0mdirection\u001b[0m \u001b[1;33m==\u001b[0m \u001b[1;34m'middle'\u001b[0m\u001b[1;33m:\u001b[0m\u001b[1;33m\u001b[0m\u001b[0m\n\u001b[0;32m      3\u001b[0m                 \u001b[1;32mif\u001b[0m \u001b[0mP\u001b[0m \u001b[1;33m==\u001b[0m \u001b[1;33m[\u001b[0m\u001b[1;33m[\u001b[0m\u001b[1;36m0\u001b[0m\u001b[1;33m,\u001b[0m \u001b[1;36m1\u001b[0m\u001b[1;33m,\u001b[0m \u001b[1;36m0\u001b[0m\u001b[1;33m]\u001b[0m\u001b[1;33m,\u001b[0m \u001b[1;33m[\u001b[0m\u001b[1;36m0\u001b[0m\u001b[1;33m,\u001b[0m \u001b[1;36m1\u001b[0m\u001b[1;33m,\u001b[0m \u001b[1;36m0\u001b[0m\u001b[1;33m]\u001b[0m\u001b[1;33m,\u001b[0m \u001b[1;33m[\u001b[0m\u001b[1;36m0\u001b[0m\u001b[1;33m,\u001b[0m \u001b[1;36m1\u001b[0m\u001b[1;33m,\u001b[0m \u001b[1;36m0\u001b[0m\u001b[1;33m]\u001b[0m\u001b[1;33m]\u001b[0m\u001b[1;33m:\u001b[0m\u001b[1;33m\u001b[0m\u001b[0m\n\u001b[0;32m      4\u001b[0m                     \u001b[1;32mif\u001b[0m \u001b[0mdx\u001b[0m \u001b[1;33m==\u001b[0m \u001b[1;33m-\u001b[0m\u001b[1;36m4\u001b[0m \u001b[1;32mor\u001b[0m \u001b[0mdx\u001b[0m \u001b[1;33m==\u001b[0m \u001b[1;36m3\u001b[0m\u001b[1;33m:\u001b[0m \u001b[1;31m# Empêche de tourner la barre verticale si elle est collée contre un bord.\u001b[0m\u001b[1;33m\u001b[0m\u001b[0m\n\u001b[0;32m      5\u001b[0m                         \u001b[1;32mpass\u001b[0m\u001b[1;33m\u001b[0m\u001b[0m\n",
      "\u001b[1;31mNameError\u001b[0m: name 'sense' is not defined"
     ]
    }
   ],
   "source": [
    "for event in sense.stick.get_events():\n",
    "             if event.action == 'pressed' and event.direction == 'middle':\n",
    "                if P == [[0, 1, 0], [0, 1, 0], [0, 1, 0]]:\n",
    "                    if dx == -4 or dx == 3: # Empêche de tourner la barre verticale si elle est collée contre un bord.\n",
    "                        pass \n",
    "                    elif sense.get_pixel(3+dx, dy+1)!=[0, 0, 0] or sense.get_pixel(3+dx+2, dy+1)!=[0, 0, 0]: # Empèche la barre verticale de tourner lorsu'elle est collée contre un pixel allumé.\n",
    "                        pass\n",
    "                    else:\n",
    "                        rotate_90(P)\n",
    "                elif P == [[0, 0, 0], [1, 1, 1], [0, 0, 0]]:\n",
    "                    if dy == 6: # Empêche de tourner la barre quand elle est horizontale et tout en bas\n",
    "                        pass\n",
    "                    else:\n",
    "                        rotate_90(P)\n",
    "                else:\n",
    "                    rotate_90(P)\n",
    "             elif event.direction == 'down' and event.action == 'pressed':\n",
    "                matrix_print_down(P)\n",
    "             elif event.direction == 'left' and event.action == 'pressed':\n",
    "                matrix_print_left(P)\n",
    "             elif event.direction == 'right' and event.action == 'pressed':\n",
    "                matrix_print_right(P)"
   ]
  },
  {
   "cell_type": "markdown",
   "metadata": {},
   "source": [
    "Il s'agit ici de vérifier si le joueur appuie sur le joystick.\n",
    "* Si le bouton est appuyé, il tourne la forme à l'aide de la fonction `rotate_90`, tout en traitant le cas particulier du 'I'. Si ce dernier est vertical est dans le bord, il ne peut pas devenir un I en horizontal. De même que si le I est couché et tout en bas, il ne peut pas de retourner non plus. Ces cas sont donc écarté à l'aide de `pass` qui ne fait rien.\n",
    "* Le bouton du bas permet à la forme de descendre plus vite si le joueur le souhaite.\n",
    "* Le bouton de gauche et de droite sont affectés à leur fonction de déplacement respective."
   ]
  },
  {
   "cell_type": "markdown",
   "metadata": {},
   "source": [
    "##### Critère pour arrêter la forme et passer en mode statique ou perdre"
   ]
  },
  {
   "cell_type": "markdown",
   "metadata": {},
   "source": [
    "Il effectue ensuite un test qui permet de déterminer si la forme est tout en bas (`dy = 6 ou 5` en fonction de la forme). Si c'est le cas, on passe en mode statique (`state = 0`)."
   ]
  },
  {
   "cell_type": "code",
   "execution_count": 103,
   "metadata": {},
   "outputs": [],
   "source": [
    "if P == [[0, 0, 0], [1, 1, 1], [0, 0, 0]] and dy == 6:\n",
    "    state=0\n",
    "elif P == [[0, 1, 0], [0, 1, 0], [0, 1, 0]] and dy == 5:\n",
    "    state=0\n",
    "elif P == O and dy == 6:\n",
    "    state=0\n",
    "elif P == L and dy == 6:\n",
    "    state=0"
   ]
  },
  {
   "cell_type": "markdown",
   "metadata": {},
   "source": [
    "Mais le passage en mode statique n'est pas seulement définit par le fait que la forme touche le sol. La forme doit aussi s'arrêter si elle touche une forme en dessous d'elle."
   ]
  },
  {
   "cell_type": "code",
   "execution_count": null,
   "metadata": {},
   "outputs": [],
   "source": [
    "n=len(P)\n",
    "for x in range(n):\n",
    "    if P == [[0, 1, 0], [0, 1, 0], [0, 1, 0]] and dy < 5: # Forme I et n'est pas en bas\n",
    "        if sense.get_pixel(dx+4, dy+3) != [0, 0, 0]: # Si le pixel dessous est différent de noir\n",
    "            if dy==0:\n",
    "                game=0 # Si la forme est bloquée juste après être apparue (game over)\n",
    "            state=0 # On passe en state=0 afin de faire apparaitre une nouvelle forme\n",
    "    elif dy < 6 and P != [[0, 1, 0], [0, 1, 0], [0, 1, 0]]:\n",
    "        if P[1][x]==1 and sense.get_pixel(x+dx+3, dy+2) != [0, 0, 0]: # Vérification sous chaque pixel de la derniere ligne de la matrice si le pixel dessous n'est pas noir.\n",
    "            if dy==0: \n",
    "                game=0 # Si la forme est bloquée juste après être apparue (game over)\n",
    "            state=0 # On passe en state=0 afin de faire apparaitre une nouvelle forme"
   ]
  },
  {
   "cell_type": "markdown",
   "metadata": {},
   "source": [
    "#####  Le cas particulier du L"
   ]
  },
  {
   "cell_type": "markdown",
   "metadata": {},
   "source": [
    "Hélàs se présente à nous un autre problème. Non pas concernant le I mais le L cette fois-ci. Le L est la seule forme concave de notre liste, il peut donc s'imbriquer dans d'autre forme."
   ]
  },
  {
   "cell_type": "code",
   "execution_count": null,
   "metadata": {},
   "outputs": [],
   "source": [
    "Lcomplet=0\n",
    "for x in range (n): # Si les 4 pixels de l'endroit ou la matrice se situe ne sont pas noir, on passe en state=0.\n",
    "    for y in range(n):\n",
    "        if P == [[1, 1],[0, 1]] or P == [[1, 1],[1, 0]]:\n",
    "            if sense.get_pixel(x+dx+3, y+dy)!=[0, 0, 0]:\n",
    "                Lcomplet+=1\n",
    "            if Lcomplet==4:\n",
    "                state=0"
   ]
  },
  {
   "cell_type": "markdown",
   "metadata": {},
   "source": [
    "Nous avons donc procédé de cette manière ; le L s'arrête si un pixel du dessous est autre que noir (bloc de code précédent) OU il s'arrête si les quatre cases de la matrice du L sont remplies."
   ]
  },
  {
   "cell_type": "markdown",
   "metadata": {},
   "source": [
    "##### La descente automatique des formes"
   ]
  },
  {
   "cell_type": "markdown",
   "metadata": {},
   "source": [
    "Le dernier point à traiter est trivial mais l'un des plus important, c'est la descente à chaque `dt` seconde. Nous avons mis en place un test de variable plutôt qu'un `sleep(1)`. Car ce dernier aurait paralysé pendant 1 seconde toute la boucle du state 1 au lieu de continuer en boucle. Cela aurait par exemple eu comme conséquence le fait de ne pouvoir appuyer que sur un bouton par seconde sur le joystick."
   ]
  },
  {
   "cell_type": "code",
   "execution_count": null,
   "metadata": {},
   "outputs": [],
   "source": [
    "t = time()\n",
    "if t > t0 + dt:\n",
    "    matrix_print_down(P)\n",
    "    t0 = t"
   ]
  },
  {
   "cell_type": "markdown",
   "metadata": {},
   "source": [
    "####  État statique (dans une boucle `while state == 0:`)"
   ]
  },
  {
   "cell_type": "markdown",
   "metadata": {},
   "source": [
    "##### Supprimer les lignes remplies\n",
    "La première chose à vérifier lorsqu'une forme a été placée est si une ligne est remplie. Si oui, il la supprime et descend d'un pixel tout ce qu'il y a au dessus."
   ]
  },
  {
   "cell_type": "code",
   "execution_count": null,
   "metadata": {},
   "outputs": [],
   "source": [
    "sleep(1)\n",
    "for g in range(8): # Choix de la ligne, en commencant par le bas.\n",
    "    for i in range(8): # Choix de la colonne\n",
    "        a = 0 # A chaque nouvelle ligne, on repasse 'a' sur 0.\n",
    "        for j in range(8):\n",
    "            if sense.get_pixel(7-j, 7-i) != [0, 0, 0]: # Pour chaque pixel pas noir sur la même ligne, on incrémente 'a' de 1.\n",
    "                a += 1\n",
    "                if a == 8: # Si a==8, cela signifie que les 8 pixels de la ligne ne sont pas noir, donc la ligne est pleine et on la supprime.\n",
    "                    score += 1\n",
    "                    for k in range(8): # Supression de la ligne pleine\n",
    "                        sense.set_pixel(k, 7-i, black)\n",
    "                    for c in reversed(range(7-i)): # Descend les lignes se situant au dessus une par une, en commencant par la plus proche.\n",
    "                        for d in range(8):\n",
    "                            sense.set_pixel(d, c+1, (sense.get_pixel(d, c))) # On affiche la même ligne une case plus bas \n",
    "                            sense.set_pixel(d, c, black) # On supprime la ligne"
   ]
  },
  {
   "cell_type": "markdown",
   "metadata": {},
   "source": [
    "##### Faire réapparaître la prochaine forme"
   ]
  },
  {
   "cell_type": "markdown",
   "metadata": {},
   "source": [
    "Il faut maintenant faire réapparaître la prochaine forme pour que le joueur puisse jouer en boucle jusqu'à ce qu'il perde."
   ]
  },
  {
   "cell_type": "code",
   "execution_count": null,
   "metadata": {},
   "outputs": [],
   "source": [
    "P = choice(shapes) # Choisit une nouvelle forme\n",
    "         \n",
    "dx = 0 # Remet les variables de déplacement à 0\n",
    "dy = 0\n",
    "        \n",
    "if P == L: # Assigne la nouvelle couleur à color\n",
    "    color = red\n",
    "elif P == I:\n",
    "    color = cyan\n",
    "else:\n",
    "    color = yellow\n",
    "            \n",
    "t0=time() # Remet le chrono à '0'\n",
    "        \n",
    "matrix_print(P) # Affiche la nouvelle matrice en haut au milieu"
   ]
  },
  {
   "cell_type": "markdown",
   "metadata": {},
   "source": [
    "##### Game over ?"
   ]
  },
  {
   "cell_type": "markdown",
   "metadata": {},
   "source": [
    "Avant de relancer le jeu en dynamique, il faut vérifier que game ne soit pas égal à 0, ce qui voudrait dire un game over. La seule manière que game ait été assigné à la valeur 0 se situe dans le critère pour arrêter la forme. Si la forme doit s'arrêter juste après être apparue, c'est game over."
   ]
  },
  {
   "cell_type": "code",
   "execution_count": null,
   "metadata": {},
   "outputs": [],
   "source": [
    "if game == 0:\n",
    "    sense.show_message('Game over ! Score :', scroll_speed=0.05)\n",
    "    sense.show_message(str(score), scroll_speed=0.2)\n",
    "else:\n",
    "    state = 1"
   ]
  },
  {
   "cell_type": "markdown",
   "metadata": {},
   "source": [
    "Nous voici à la fin de la boucle `while game == 1:` si c'est game over, le programme est fini, sinon il recommence car state est passé en 1 etc ... jusqu'à un game over."
   ]
  },
  {
   "cell_type": "markdown",
   "metadata": {},
   "source": [
    "### Points à améliorer\n",
    "Notre jeu est plutôt complet et marche étonnemment bien, néanmoins il resterais, si nous avions plus de temps, quelques points à améliorer.\n",
    "* Le plus important est le fait que nous pouvons déplacer la forme de côté avec le joystick avant qu'elle soit apparue.\n",
    "* Le second point découle du premier. Nous pouvons déplacer la forme également vers le bas avant son apparition intiale et donc faire disparaître des pixels d'autres formes qui gênaient le passage dû au processus de matrix_print_down qui supprime ce qu'il y a une case au dessus. De cette manière on peut enlever des pixels de formes qui gêne en haut au milieu du SenseHat.\n",
    "* Dû au manque de temps, nous aurions pu mieux optimiser notre code et enlever pas mal de ligne à l'ensemble."
   ]
  }
 ],
 "metadata": {
  "kernelspec": {
   "display_name": "Python 3",
   "language": "python",
   "name": "python3"
  },
  "language_info": {
   "codemirror_mode": {
    "name": "ipython",
    "version": 3
   },
   "file_extension": ".py",
   "mimetype": "text/x-python",
   "name": "python",
   "nbconvert_exporter": "python",
   "pygments_lexer": "ipython3",
   "version": "3.7.0"
  }
 },
 "nbformat": 4,
 "nbformat_minor": 2
}
