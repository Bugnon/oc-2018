{
 "cells": [
  {
   "cell_type": "markdown",
   "metadata": {},
   "source": [
    "# Travail Ecrit - Python\n",
    "* Gymnase du Bugnon, site de l'Ours\n",
    "* OC informatique\n",
    "* Sujet : chapitres 1-10 du livre *Pensez en Python*\n",
    "* Raphael Holzer\n",
    "* Date : jeudi 13 novembre 2018"
   ]
  },
  {
   "cell_type": "markdown",
   "metadata": {},
   "source": [
    "## **Exercice : expression arithmétique**  \n",
    "Initialisez les variables `(a, b, c, x)` avec les valeurs `(2, 3, 4, 5)`.  \n",
    "Calculez l'expression \n",
    "\n",
    "$$y = a x^2 + b x +c$$\n",
    "\n",
    "et imprimez le résultat."
   ]
  },
  {
   "cell_type": "code",
   "execution_count": null,
   "metadata": {
    "collapsed": true
   },
   "outputs": [],
   "source": []
  },
  {
   "cell_type": "markdown",
   "metadata": {},
   "source": [
    "## **Exercice : fonction surface**  \n",
    "Importez le module `math`,  \n",
    "définissez une fonction `surface(r)` qui calcule $s = \\pi r^2$,  \n",
    "affichez avec un texte descriptif le résultat pour `r=5` "
   ]
  },
  {
   "cell_type": "code",
   "execution_count": null,
   "metadata": {},
   "outputs": [],
   "source": []
  },
  {
   "cell_type": "markdown",
   "metadata": {},
   "source": [
    "## **Exercice : formule quadratique**  \n",
    "La solution d'une formule quadratique de forme\n",
    "\n",
    "$$ a x^2 + b x +c = 0 $$\n",
    "\n",
    "dépend du terme $\\Delta = b^2 - 4 a c$\n",
    "* Si $\\Delta < 0$ il n'y a pas de solution\n",
    "* Si $\\Delta = 0$ il y a une solution : $x = \\frac{-b}{2 a}$\n",
    "* Si $\\Delta > 0$ il y a deux solutions : \n",
    "$x_1 = \\frac{-b +\\sqrt\\Delta}{2 a}$ and $x_2 = \\frac{-b -\\sqrt\\Delta}{2 a}$\n",
    "\n",
    "Définissez une fonction `quadratique(a, b, c)` qui retourne la solution à l'équation quadratique dans les 3 cas: `None`, `x`, `[x1, x2]`\n",
    ".\n",
    "\n",
    "Montrez la solution pour `quadratique(1, 2, 3)`, `quadratique(1, 2, 1)` et `quadratique(1, 2, -1)`"
   ]
  },
  {
   "cell_type": "code",
   "execution_count": null,
   "metadata": {},
   "outputs": [],
   "source": [
    "def quadratique(a, b, c):\n",
    "    pass\n",
    "    \n",
    "print(quadratique(1, 2, 3))\n",
    "print(quadratique(1, 2, 1))\n",
    "print(quadratique(1, 2, -1))"
   ]
  },
  {
   "cell_type": "markdown",
   "metadata": {},
   "source": [
    "## **Exercice : capitalize**  \n",
    "Créez une fonction `capitalize(c)` qui transforme une lettre en majuscule si c'est une minuscule, ou la laisse inchangée autrement."
   ]
  },
  {
   "cell_type": "code",
   "execution_count": null,
   "metadata": {},
   "outputs": [],
   "source": [
    "def capitalize(c):\n",
    "    pass\n",
    "\n",
    "capitalize('a'), capitalize('B'), capitalize('3')"
   ]
  },
  {
   "cell_type": "markdown",
   "metadata": {},
   "source": [
    "## **Exercice : capitalize words**  \n",
    "Créez une fonction `capitalize_words(s)` qui transforme la première lettre de tous les mots en majuscule."
   ]
  },
  {
   "cell_type": "code",
   "execution_count": null,
   "metadata": {},
   "outputs": [],
   "source": [
    "def capitalize_words(s):\n",
    "    pass\n",
    "\n",
    "capitalize_words('hello world, how are you?')"
   ]
  },
  {
   "cell_type": "markdown",
   "metadata": {},
   "source": [
    "## **Exercice : tranches**  \n",
    "Expliquez ce que font les 6 opérateurs de **tranches** ci-dessous."
   ]
  },
  {
   "cell_type": "code",
   "execution_count": null,
   "metadata": {},
   "outputs": [],
   "source": [
    "# s[2]   - \n",
    "# s[:2]  - \n",
    "# s[::2] - \n",
    "\n",
    "# s[-1]   - \n",
    "# s[:-1]  - \n",
    "# s[::-1] - "
   ]
  },
  {
   "cell_type": "markdown",
   "metadata": {},
   "source": [
    "## **Exercice : longueur spécifique**   \n",
    "Le fichier `words.text` contient 58110 mots en anglais.  \n",
    "Affichez les $n=5$ premiers mots qui ont une longueur de $m=10$ et affichez leur nombre total."
   ]
  },
  {
   "cell_type": "code",
   "execution_count": 11,
   "metadata": {},
   "outputs": [],
   "source": [
    "fin = open('words.txt')\n",
    "n = 5\n",
    "m = 10\n"
   ]
  },
  {
   "cell_type": "markdown",
   "metadata": {},
   "source": [
    "## **Exercice : répétition**.  \n",
    "Affchez les $m=5$ premiers mots qui sont composé de deux parties répétées (par exemple **bonbon**)."
   ]
  },
  {
   "cell_type": "code",
   "execution_count": null,
   "metadata": {},
   "outputs": [],
   "source": [
    "fin = open('words.txt')\n",
    "m = 5\n"
   ]
  },
  {
   "cell_type": "markdown",
   "metadata": {},
   "source": [
    "## **Exercice : minimum**  \n",
    "Créez une fonction `min(L)` qui retourne le minimum d'une liste et l'index de sa position sous forme de list `[val, pos]`\n",
    "."
   ]
  },
  {
   "cell_type": "code",
   "execution_count": null,
   "metadata": {},
   "outputs": [],
   "source": [
    "def min(L):\n",
    "    pass \n",
    "                   \n",
    "L = [1, 3, 34, -4, -2, 100]\n",
    "min(L)"
   ]
  },
  {
   "cell_type": "markdown",
   "metadata": {},
   "source": [
    "## **Exercice : moyenne**  \n",
    "Ecrivez une fonction `mean(L)` qui retourne la moyenne d'une liste.\n",
    "."
   ]
  },
  {
   "cell_type": "code",
   "execution_count": null,
   "metadata": {},
   "outputs": [],
   "source": [
    "def mean(L):\n",
    "    pass                 \n",
    "                   \n",
    "L = [1, 3, 34, -4, -2, 100]\n",
    "mean(L)"
   ]
  }
 ],
 "metadata": {
  "kernelspec": {
   "display_name": "Python 3",
   "language": "python",
   "name": "python3"
  },
  "language_info": {
   "codemirror_mode": {
    "name": "ipython",
    "version": 3
   },
   "file_extension": ".py",
   "mimetype": "text/x-python",
   "name": "python",
   "nbconvert_exporter": "python",
   "pygments_lexer": "ipython3",
   "version": "3.7.0"
  },
  "toc-autonumbering": true
 },
 "nbformat": 4,
 "nbformat_minor": 2
}
