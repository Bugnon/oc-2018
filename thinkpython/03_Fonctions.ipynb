{
 "cells": [
  {
   "cell_type": "markdown",
   "metadata": {},
   "source": [
    "# Fonctions"
   ]
  },
  {
   "cell_type": "markdown",
   "metadata": {},
   "source": [
    "Une **fonction** est une séquence d'instructions nommée, qui est définie avant son utilisation, et qui peut être appelée multiple fois. Une fonction peut avoir des valeurs, et elle peut retourner des valeurs."
   ]
  },
  {
   "cell_type": "markdown",
   "metadata": {},
   "source": [
    "## Fonctions de conversion de type"
   ]
  },
  {
   "cell_type": "markdown",
   "metadata": {},
   "source": [
    "Nous avons vu la fonction `type` qui retourne le type d'une valeur donnée, tel que:\n",
    "* `int` (entier)\n",
    "* `float` (virgule flottante)\n",
    "* `str` (chaîne de caractères)"
   ]
  },
  {
   "cell_type": "code",
   "execution_count": 10,
   "metadata": {},
   "outputs": [
    {
     "data": {
      "text/plain": [
       "(int, float, str)"
      ]
     },
     "execution_count": 10,
     "metadata": {},
     "output_type": "execute_result"
    }
   ],
   "source": [
    "type(1), type(1.1), type('12')"
   ]
  },
  {
   "cell_type": "markdown",
   "metadata": {},
   "source": [
    "Des **fonctions de conversion de type** permettent de changer un type de donnée vers un autre, si la forme le permet. "
   ]
  },
  {
   "cell_type": "code",
   "execution_count": 11,
   "metadata": {},
   "outputs": [
    {
     "data": {
      "text/plain": [
       "(1, 123)"
      ]
     },
     "execution_count": 11,
     "metadata": {},
     "output_type": "execute_result"
    }
   ],
   "source": [
    "int(1.23), int('123')"
   ]
  },
  {
   "cell_type": "code",
   "execution_count": 17,
   "metadata": {},
   "outputs": [
    {
     "data": {
      "text/plain": [
       "(1.0, 1.23)"
      ]
     },
     "execution_count": 17,
     "metadata": {},
     "output_type": "execute_result"
    }
   ],
   "source": [
    "float(1), float('1.23')"
   ]
  },
  {
   "cell_type": "code",
   "execution_count": 18,
   "metadata": {},
   "outputs": [
    {
     "data": {
      "text/plain": [
       "('123', '1.23')"
      ]
     },
     "execution_count": 18,
     "metadata": {},
     "output_type": "execute_result"
    }
   ],
   "source": [
    "str(123), str(1.23)"
   ]
  },
  {
   "cell_type": "markdown",
   "metadata": {},
   "source": [
    "## Fonctions mathématiques"
   ]
  },
  {
   "cell_type": "markdown",
   "metadata": {},
   "source": [
    "Python seulement propose les 4 opérations arithmétique de base\n",
    "* addition (+)\n",
    "* soustraction (-)\n",
    "* multiplication (*)\n",
    "* division (/)\n",
    "\n",
    "Ainsi que \n",
    "* division entières (//)\n",
    "* modulo (%)\n",
    "\n",
    "Le module **math** fournit les operations trigonométriques."
   ]
  },
  {
   "cell_type": "code",
   "execution_count": 21,
   "metadata": {},
   "outputs": [],
   "source": [
    "import math"
   ]
  },
  {
   "cell_type": "code",
   "execution_count": 41,
   "metadata": {},
   "outputs": [
    {
     "name": "stdout",
     "output_type": "stream",
     "text": [
      "__doc__, __file__, __loader__, __name__, __package__, __spec__, acos, acosh, asin, asinh, atan, atan2, atanh, ceil, copysign, cos, cosh, degrees, e, erf, erfc, exp, expm1, fabs, factorial, floor, fmod, frexp, fsum, gamma, gcd, hypot, inf, isclose, isfinite, isinf, isnan, ldexp, lgamma, log, log10, log1p, log2, modf, nan, pi, pow, radians, sin, sinh, sqrt, tan, tanh, tau, trunc, "
     ]
    }
   ],
   "source": [
    "m = dir(math)\n",
    "for m in dir(math): print(m, end=', ')"
   ]
  },
  {
   "cell_type": "markdown",
   "metadata": {},
   "source": [
    "Nous y trouvons quelques constantes:"
   ]
  },
  {
   "cell_type": "code",
   "execution_count": 30,
   "metadata": {},
   "outputs": [
    {
     "data": {
      "text/plain": [
       "(3.141592653589793, 2.718281828459045)"
      ]
     },
     "execution_count": 30,
     "metadata": {},
     "output_type": "execute_result"
    }
   ],
   "source": [
    "math.pi, math.e"
   ]
  },
  {
   "cell_type": "markdown",
   "metadata": {},
   "source": [
    "Egalement les fonctions trigonométriques."
   ]
  },
  {
   "cell_type": "code",
   "execution_count": 28,
   "metadata": {},
   "outputs": [
    {
     "data": {
      "text/plain": [
       "(0.8414709848078965, 0.5403023058681398)"
      ]
     },
     "execution_count": 28,
     "metadata": {},
     "output_type": "execute_result"
    }
   ],
   "source": [
    "math.sin(1), math.cos(1)"
   ]
  },
  {
   "cell_type": "code",
   "execution_count": 31,
   "metadata": {},
   "outputs": [
    {
     "data": {
      "text/plain": [
       "1.4142135623730951"
      ]
     },
     "execution_count": 31,
     "metadata": {},
     "output_type": "execute_result"
    }
   ],
   "source": [
    "math.sqrt(2)"
   ]
  },
  {
   "cell_type": "code",
   "execution_count": 34,
   "metadata": {},
   "outputs": [
    {
     "data": {
      "text/plain": [
       "265252859812191058636308480000000"
      ]
     },
     "execution_count": 34,
     "metadata": {},
     "output_type": "execute_result"
    }
   ],
   "source": [
    "math.factorial(30)"
   ]
  },
  {
   "cell_type": "markdown",
   "metadata": {},
   "source": [
    "## Composition"
   ]
  },
  {
   "cell_type": "markdown",
   "metadata": {},
   "source": [
    "Les fonctions et expressions peuvent être composé. Par exemple l'hypotenuse d'un triangle peut être calculée à partir de ses deux côtés."
   ]
  },
  {
   "cell_type": "code",
   "execution_count": 43,
   "metadata": {},
   "outputs": [
    {
     "data": {
      "text/plain": [
       "5.0"
      ]
     },
     "execution_count": 43,
     "metadata": {},
     "output_type": "execute_result"
    }
   ],
   "source": [
    "a = 3\n",
    "b = 4\n",
    "math.sqrt(a**2 + b**2)"
   ]
  },
  {
   "cell_type": "markdown",
   "metadata": {},
   "source": [
    "## Créer une nouvelle fonction"
   ]
  },
  {
   "cell_type": "markdown",
   "metadata": {},
   "source": [
    "Dans Python il est possible de définir ses propore fonctions qui consistent d'un **en-tête** d'une ligne composé de: \n",
    "* le mot-clé `def`\n",
    "* un nom de fonction\n",
    "* une paire de parenthèses `()`\n",
    "* des arguments optionel\n",
    "* un double-point `:`\n",
    "\n",
    "L'en-tête de fonction est suivi du **corps** \n",
    "* une ou multiple instructions\n",
    "* indenté (de 4 espaces)\n",
    "* terminé par le mot-clé `return` suivi d'une valeur de retour\n",
    "\n",
    "Les règles pour former une nom de fonction: des lettres, des chiffres, un soulignement. Le première caractère ne peu pas être un chiffre.\n",
    "\n",
    "Voici trois définitions de fonctions qui calcuent le diamètre, la circonférence et la surface d'un cercle à partir de son rayon **r**. "
   ]
  },
  {
   "cell_type": "code",
   "execution_count": 52,
   "metadata": {},
   "outputs": [],
   "source": [
    "def diameter(r): \n",
    "    d = 2 * r\n",
    "    return d"
   ]
  },
  {
   "cell_type": "code",
   "execution_count": 50,
   "metadata": {},
   "outputs": [],
   "source": [
    "def circonference(r):\n",
    "    c = 2 * r * math.pi\n",
    "    return c"
   ]
  },
  {
   "cell_type": "code",
   "execution_count": 64,
   "metadata": {},
   "outputs": [],
   "source": [
    "def surface(r):\n",
    "    s = r**2 * math.pi\n",
    "    return s"
   ]
  },
  {
   "cell_type": "markdown",
   "metadata": {},
   "source": [
    "Ces nouveaux fonctions peuvent être appelé avec un argument."
   ]
  },
  {
   "cell_type": "code",
   "execution_count": 60,
   "metadata": {},
   "outputs": [
    {
     "data": {
      "text/plain": [
       "12.566370614359172"
      ]
     },
     "execution_count": 60,
     "metadata": {},
     "output_type": "execute_result"
    }
   ],
   "source": [
    "surface(2)"
   ]
  },
  {
   "cell_type": "markdown",
   "metadata": {},
   "source": [
    "Les fonctions peuvent également être appelé à l'intérieur d'une fonction `print`."
   ]
  },
  {
   "cell_type": "code",
   "execution_count": 59,
   "metadata": {},
   "outputs": [
    {
     "name": "stdout",
     "output_type": "stream",
     "text": [
      "radius = 2\n",
      "diameter = 4\n",
      "circonference = 12.566370614359172\n",
      "surface = 12.566370614359172\n"
     ]
    }
   ],
   "source": [
    "r = 2\n",
    "print('radius =', r)\n",
    "print('diameter =', diameter(r))\n",
    "print('circonference =', circonference(r))\n",
    "print('surface =', surface(r))"
   ]
  },
  {
   "cell_type": "code",
   "execution_count": 66,
   "metadata": {},
   "outputs": [],
   "source": [
    "surface = 12"
   ]
  },
  {
   "cell_type": "code",
   "execution_count": 62,
   "metadata": {},
   "outputs": [
    {
     "data": {
      "text/plain": [
       "12"
      ]
     },
     "execution_count": 62,
     "metadata": {},
     "output_type": "execute_result"
    }
   ],
   "source": [
    "surface"
   ]
  },
  {
   "cell_type": "code",
   "execution_count": 67,
   "metadata": {},
   "outputs": [
    {
     "data": {
      "text/plain": [
       "12"
      ]
     },
     "execution_count": 67,
     "metadata": {},
     "output_type": "execute_result"
    }
   ],
   "source": [
    "surface"
   ]
  },
  {
   "cell_type": "markdown",
   "metadata": {},
   "source": [
    "Un retour d'indention termine la fonction. Par contre des lignes vides à l'interieur du corps peuvent servir pour séparer des sections."
   ]
  },
  {
   "cell_type": "code",
   "execution_count": 77,
   "metadata": {},
   "outputs": [
    {
     "name": "stdout",
     "output_type": "stream",
     "text": [
      "hello\n"
     ]
    }
   ],
   "source": [
    "def f():\n",
    "    print('hello')\n",
    "    \n",
    "    print('world')\n",
    "print('hello')"
   ]
  },
  {
   "cell_type": "code",
   "execution_count": 80,
   "metadata": {},
   "outputs": [
    {
     "name": "stdout",
     "output_type": "stream",
     "text": [
      "hello\n",
      "world\n"
     ]
    }
   ],
   "source": [
    "f()"
   ]
  },
  {
   "cell_type": "markdown",
   "metadata": {},
   "source": [
    "## Définition et utilisation"
   ]
  },
  {
   "cell_type": "markdown",
   "metadata": {},
   "source": [
    "L'effet d'une définition de fonction est de créer un objet fonction. La définition de fonction ne génère pas de sortie."
   ]
  },
  {
   "cell_type": "code",
   "execution_count": 81,
   "metadata": {},
   "outputs": [],
   "source": [
    "def surface(r):\n",
    "    s = r**2 * math.pi\n",
    "    return s"
   ]
  },
  {
   "cell_type": "code",
   "execution_count": 82,
   "metadata": {},
   "outputs": [
    {
     "data": {
      "text/plain": [
       "<function __main__.surface(r)>"
      ]
     },
     "execution_count": 82,
     "metadata": {},
     "output_type": "execute_result"
    }
   ],
   "source": [
    "surface"
   ]
  },
  {
   "cell_type": "markdown",
   "metadata": {},
   "source": [
    "Une fonction doit être défini plus haut dans le programme avant de pouvoir l'utiliser. On parle de **paramètre** dans la définition de la fonction, et d'**argument** dans l'appel de fonction."
   ]
  },
  {
   "cell_type": "code",
   "execution_count": 83,
   "metadata": {},
   "outputs": [
    {
     "data": {
      "text/plain": [
       "12.566370614359172"
      ]
     },
     "execution_count": 83,
     "metadata": {},
     "output_type": "execute_result"
    }
   ],
   "source": [
    "surface(2)"
   ]
  },
  {
   "cell_type": "markdown",
   "metadata": {},
   "source": [
    "## Paramètres et arguments "
   ]
  },
  {
   "cell_type": "markdown",
   "metadata": {},
   "source": [
    "Certaines fonctions prennent un argument."
   ]
  },
  {
   "cell_type": "code",
   "execution_count": 84,
   "metadata": {},
   "outputs": [
    {
     "data": {
      "text/plain": [
       "0.8414709848078965"
      ]
     },
     "execution_count": 84,
     "metadata": {},
     "output_type": "execute_result"
    }
   ],
   "source": [
    "math.sin(1)"
   ]
  },
  {
   "cell_type": "markdown",
   "metadata": {},
   "source": [
    "Certaines fonctions prennent deux arguments."
   ]
  },
  {
   "cell_type": "code",
   "execution_count": 85,
   "metadata": {},
   "outputs": [
    {
     "data": {
      "text/plain": [
       "256.0"
      ]
     },
     "execution_count": 85,
     "metadata": {},
     "output_type": "execute_result"
    }
   ],
   "source": [
    "math.pow(2, 8)"
   ]
  },
  {
   "cell_type": "markdown",
   "metadata": {},
   "source": [
    "Vous pouvez utiliser des variables comme argument"
   ]
  },
  {
   "cell_type": "code",
   "execution_count": 87,
   "metadata": {},
   "outputs": [
    {
     "data": {
      "text/plain": [
       "256.0"
      ]
     },
     "execution_count": 87,
     "metadata": {},
     "output_type": "execute_result"
    }
   ],
   "source": [
    "base = 2\n",
    "exposant = 8\n",
    "math.pow(base, exposant)"
   ]
  },
  {
   "cell_type": "markdown",
   "metadata": {},
   "source": [
    "## Fonction productives et fonctions vides"
   ]
  },
  {
   "cell_type": "markdown",
   "metadata": {},
   "source": [
    "Les fonctions qui retournent une valeur avec le mot-clé `return` sont appelé productives"
   ]
  },
  {
   "cell_type": "code",
   "execution_count": 104,
   "metadata": {},
   "outputs": [],
   "source": [
    "def f_prod(a):\n",
    "    return a*5"
   ]
  },
  {
   "cell_type": "code",
   "execution_count": 102,
   "metadata": {},
   "outputs": [
    {
     "data": {
      "text/plain": [
       "50"
      ]
     },
     "execution_count": 102,
     "metadata": {},
     "output_type": "execute_result"
    }
   ],
   "source": [
    "f_prod(10)"
   ]
  },
  {
   "cell_type": "code",
   "execution_count": 103,
   "metadata": {},
   "outputs": [
    {
     "data": {
      "text/plain": [
       "'hahahahaha'"
      ]
     },
     "execution_count": 103,
     "metadata": {},
     "output_type": "execute_result"
    }
   ],
   "source": [
    "f_prod('ha')"
   ]
  },
  {
   "cell_type": "markdown",
   "metadata": {},
   "source": [
    "D'autre fonctions commme la fonction print ne retournent rien, mais ont un effet secondaire: imprimer quelque chose dans la console"
   ]
  },
  {
   "cell_type": "code",
   "execution_count": 116,
   "metadata": {},
   "outputs": [],
   "source": [
    "def f_vide(a):\n",
    "    print('side effect =', a*5)"
   ]
  },
  {
   "cell_type": "markdown",
   "metadata": {},
   "source": [
    "La fonction `f_vide` imprime comme effet secondaire vers la console, mais sa valeur de retour est `None`\n"
   ]
  },
  {
   "cell_type": "code",
   "execution_count": 117,
   "metadata": {},
   "outputs": [
    {
     "name": "stdout",
     "output_type": "stream",
     "text": [
      "side effect = 50\n",
      "50 None\n"
     ]
    }
   ],
   "source": [
    "print(f_prod(10), f_vide(10))"
   ]
  },
  {
   "cell_type": "markdown",
   "metadata": {},
   "source": [
    "La valeur `None` n'est pas la même chose que la chaîne 'None'. La première est du type **NoneType**, la deuxième du type **str**"
   ]
  },
  {
   "cell_type": "code",
   "execution_count": 120,
   "metadata": {},
   "outputs": [
    {
     "name": "stdout",
     "output_type": "stream",
     "text": [
      "<class 'NoneType'> <class 'str'>\n"
     ]
    }
   ],
   "source": [
    "print(type(None), type('None'))"
   ]
  },
  {
   "cell_type": "markdown",
   "metadata": {},
   "source": [
    "## Exercices"
   ]
  },
  {
   "cell_type": "markdown",
   "metadata": {},
   "source": [
    "### Ex 1: aligner à droite"
   ]
  },
  {
   "cell_type": "markdown",
   "metadata": {},
   "source": [
    "Ecriver une fonction `aligner_a_droite` qui prend comme paramètre une chaine nommée `s` et affiche avec suffisamment de caractères espaces pour que la dernière lettre de la chaine se trouve dans la colonne 70 de l'écran."
   ]
  },
  {
   "cell_type": "code",
   "execution_count": 143,
   "metadata": {},
   "outputs": [],
   "source": [
    "def aligner_a_droite(s):\n",
    "    n = 70\n",
    "    spaces = ' '*(n - len(s))\n",
    "    print(spaces+s)"
   ]
  },
  {
   "cell_type": "code",
   "execution_count": 144,
   "metadata": {},
   "outputs": [
    {
     "name": "stdout",
     "output_type": "stream",
     "text": [
      "                                                           hello world\n",
      "                                                                  spam\n",
      "                                      Python is a programming language\n"
     ]
    }
   ],
   "source": [
    "aligner_a_droite('hello world')\n",
    "aligner_a_droite('spam')\n",
    "aligner_a_droite('Python is a programming language')"
   ]
  },
  {
   "cell_type": "markdown",
   "metadata": {},
   "source": [
    "### Ex 2: afficher une carré"
   ]
  },
  {
   "cell_type": "markdown",
   "metadata": {},
   "source": [
    "Imprimer une grille qui cons qui utilise seulement \n",
    "* `print`\n",
    "* la répétition de caractères `*`\n",
    "* la concaténation de caractères `+`\n",
    "* le caractère de retour à la ligne `\\n`\n",
    "\n",
    "Voici le code pour imprimer le première ligne"
   ]
  },
  {
   "cell_type": "code",
   "execution_count": 145,
   "metadata": {},
   "outputs": [
    {
     "name": "stdout",
     "output_type": "stream",
     "text": [
      "+ - - - +\n"
     ]
    }
   ],
   "source": [
    "n = 3\n",
    "print('+ ' + '- '*n + '+')"
   ]
  },
  {
   "cell_type": "markdown",
   "metadata": {},
   "source": [
    "Voici le code pour imprimer la deuxième ligne:"
   ]
  },
  {
   "cell_type": "code",
   "execution_count": 147,
   "metadata": {},
   "outputs": [
    {
     "name": "stdout",
     "output_type": "stream",
     "text": [
      "|       |\n"
     ]
    }
   ],
   "source": [
    "print('| ' + '  '*n + '|')"
   ]
  },
  {
   "cell_type": "markdown",
   "metadata": {},
   "source": [
    "Normalement `print` imprime une espace entre les arguments et termine avec un retour à la ligne."
   ]
  },
  {
   "cell_type": "code",
   "execution_count": 173,
   "metadata": {},
   "outputs": [
    {
     "name": "stdout",
     "output_type": "stream",
     "text": [
      "1 2 3\n",
      "1 2 3\n"
     ]
    }
   ],
   "source": [
    "print(1, 2, 3)\n",
    "print(1, 2, 3)"
   ]
  },
  {
   "cell_type": "markdown",
   "metadata": {},
   "source": [
    "En utilisant les paramètres nommés `sep` et `end` ces deux caractères peuvent être changé. Par exemple:\n",
    "* `sep='++'` imprime deux + au lieu d'un espace\n",
    "* `end='--'` imprime deux - au lieu d'un retour à la ligne"
   ]
  },
  {
   "cell_type": "code",
   "execution_count": 176,
   "metadata": {},
   "outputs": [
    {
     "name": "stdout",
     "output_type": "stream",
     "text": [
      "1++2++3--1++2++3--"
     ]
    }
   ],
   "source": [
    "print(1, 2, 3, sep='++', end='--')\n",
    "print(1, 2, 3, sep='++', end='--')"
   ]
  },
  {
   "cell_type": "markdown",
   "metadata": {},
   "source": [
    "Voici la definition de la fonction pour imprimer un carré. Nous ajoutons le caractère de retour à la ligne, pour pouvoir imprimer toutes les lignes d'un seul coup."
   ]
  },
  {
   "cell_type": "code",
   "execution_count": 159,
   "metadata": {},
   "outputs": [],
   "source": [
    "def square(n):\n",
    "    line1 = '+ ' + '- '*n + '+\\n'\n",
    "    line2 = '| ' + '  '*n + '|\\n'\n",
    "    print(line1 + line2 * n + line1, end=\"\")"
   ]
  },
  {
   "cell_type": "code",
   "execution_count": 163,
   "metadata": {},
   "outputs": [
    {
     "name": "stdout",
     "output_type": "stream",
     "text": [
      "+ - - +\n",
      "|     |\n",
      "|     |\n",
      "+ - - +\n"
     ]
    }
   ],
   "source": [
    "square(2)"
   ]
  },
  {
   "cell_type": "code",
   "execution_count": 162,
   "metadata": {},
   "outputs": [
    {
     "name": "stdout",
     "output_type": "stream",
     "text": [
      "+ - - - - - +\n",
      "|           |\n",
      "|           |\n",
      "|           |\n",
      "|           |\n",
      "|           |\n",
      "+ - - - - - +\n"
     ]
    }
   ],
   "source": [
    "square(5)"
   ]
  },
  {
   "cell_type": "markdown",
   "metadata": {},
   "source": [
    "### Ex 3: afficher une grille"
   ]
  },
  {
   "cell_type": "code",
   "execution_count": 154,
   "metadata": {},
   "outputs": [],
   "source": [
    "def grid(n, m):\n",
    "    line1 = ('+ ' + '- '*n)*m + '+\\n'\n",
    "    line2 = ('| ' + '  '*n)*m + '|\\n'\n",
    "    print((line1 + line2 * n) * m + line1, end=\"\")"
   ]
  },
  {
   "cell_type": "code",
   "execution_count": 155,
   "metadata": {},
   "outputs": [
    {
     "name": "stdout",
     "output_type": "stream",
     "text": [
      "+ - - - + - - - +\n",
      "|       |       |\n",
      "|       |       |\n",
      "|       |       |\n",
      "+ - - - + - - - +\n",
      "|       |       |\n",
      "|       |       |\n",
      "|       |       |\n",
      "+ - - - + - - - +\n"
     ]
    }
   ],
   "source": [
    "grid(3, 2)"
   ]
  },
  {
   "cell_type": "code",
   "execution_count": 164,
   "metadata": {},
   "outputs": [
    {
     "name": "stdout",
     "output_type": "stream",
     "text": [
      "+ - - + - - + - - + - - +\n",
      "|     |     |     |     |\n",
      "|     |     |     |     |\n",
      "+ - - + - - + - - + - - +\n",
      "|     |     |     |     |\n",
      "|     |     |     |     |\n",
      "+ - - + - - + - - + - - +\n",
      "|     |     |     |     |\n",
      "|     |     |     |     |\n",
      "+ - - + - - + - - + - - +\n",
      "|     |     |     |     |\n",
      "|     |     |     |     |\n",
      "+ - - + - - + - - + - - +\n"
     ]
    }
   ],
   "source": [
    "grid(2, 4)"
   ]
  }
 ],
 "metadata": {
  "kernelspec": {
   "display_name": "Python 3",
   "language": "python",
   "name": "python3"
  },
  "language_info": {
   "codemirror_mode": {
    "name": "ipython",
    "version": 3
   },
   "file_extension": ".py",
   "mimetype": "text/x-python",
   "name": "python",
   "nbconvert_exporter": "python",
   "pygments_lexer": "ipython3",
   "version": "3.7.0"
  },
  "toc": {
   "base_numbering": 1,
   "nav_menu": {},
   "number_sections": true,
   "sideBar": true,
   "skip_h1_title": false,
   "title_cell": "Table of Contents",
   "title_sidebar": "Contents",
   "toc_cell": false,
   "toc_position": {},
   "toc_section_display": true,
   "toc_window_display": true
  }
 },
 "nbformat": 4,
 "nbformat_minor": 2
}
