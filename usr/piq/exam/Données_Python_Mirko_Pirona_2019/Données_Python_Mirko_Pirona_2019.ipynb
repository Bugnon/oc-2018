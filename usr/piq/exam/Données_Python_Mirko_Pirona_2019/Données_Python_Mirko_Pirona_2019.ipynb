{
 "cells": [
  {
   "cell_type": "markdown",
   "metadata": {},
   "source": [
    "# __Les Données sur Python__\n",
    "\n",
    "Auteur: Mirko Pirona, Gymnase du Bugnon, 3MOCINFO\n",
    "\n",
    "Date: Mai 2019\n",
    "\n",
    "![Python Logo](../img/Python_logo.png)\n",
    "\n"
   ]
  },
  {
   "cell_type": "markdown",
   "metadata": {},
   "source": [
    "## Listes \n",
    "\n",
    "Une liste en python est une séquence de valeurs. Les valeurs dans la liste sont appelées **éléments**. Les valeurs dans une liste peuvent être de n'importe quel type (chaîne de caractère, flottant, entier et même une autre liste). Il existe plusieurs façons de créer une nouvelle liste dont la plus commune consiste à entourer les éléments par des crochets ([  ]):"
   ]
  },
  {
   "cell_type": "code",
   "execution_count": 1,
   "metadata": {},
   "outputs": [
    {
     "name": "stdout",
     "output_type": "stream",
     "text": [
      "[5, 10, 15, 20, 25] ['Macdonald', 'Burger King', 'Holly Cow'] [10, 'Gymnase du Bugnon', [10, 20, 30]]\n"
     ]
    }
   ],
   "source": [
    "vb = [5, 10, 15, 20, 25]\n",
    "\n",
    "vb1 = ['Macdonald', 'Burger King', 'Holly Cow']\n",
    "\n",
    "vb2 = [10, 'Gymnase du Bugnon', [10, 20, 30]]\n",
    "\n",
    "print(vb,vb1,vb2)"
   ]
  },
  {
   "cell_type": "markdown",
   "metadata": {},
   "source": [
    "Comme on peut le constater dans la dernière ligne de l'exemple au-dessus, une liste dans une liste est dite **imbriquée**. Il est possible de créer une liste qui ne contient aucun élément, cette liste est dite vide. Il est également possible d'affecter des valeurs aux variables de la liste :"
   ]
  },
  {
   "cell_type": "code",
   "execution_count": 2,
   "metadata": {},
   "outputs": [
    {
     "name": "stdout",
     "output_type": "stream",
     "text": [
      "['Dollar', 'Euro', 'Franc'] [5, 10, 15] []\n"
     ]
    }
   ],
   "source": [
    "Devises = ['Dollar', 'Euro', 'Franc']\n",
    "\n",
    "Nombres = [5, 10, 15]\n",
    "\n",
    "Liste_Vide = []\n",
    "\n",
    "print(Devises, Nombres, Liste_Vide)"
   ]
  },
  {
   "cell_type": "markdown",
   "metadata": {},
   "source": [
    "Les listes sont modifiables mais avant de pouvoir les modifier il faut accéder aux éléments de la liste. Pour ce faire il suffit d'utiliser l'opérateur [ ] d'indexation. Il ne faut pas oublier que l'expression placée entre crochets spécifie l'indice (le premier indice est 0 et non pas 1). Lorsque l'opérateur d'indexation apparaît du côté gauche de l'affectation, il identifie l'élément de la liste auquel la valeur sera effectée."
   ]
  },
  {
   "cell_type": "code",
   "execution_count": 3,
   "metadata": {},
   "outputs": [
    {
     "data": {
      "text/plain": [
       "'Euro'"
      ]
     },
     "execution_count": 3,
     "metadata": {},
     "output_type": "execute_result"
    }
   ],
   "source": [
    "Devises = ['Dollar', 'Euro', 'Franc']\n",
    "\n",
    "Devises[1]"
   ]
  },
  {
   "cell_type": "code",
   "execution_count": 4,
   "metadata": {},
   "outputs": [
    {
     "name": "stdout",
     "output_type": "stream",
     "text": [
      "[5, 100, 15]\n"
     ]
    }
   ],
   "source": [
    "Nombres = [5, 10, 15]\n",
    "\n",
    "Nombres[1] = 100\n",
    "\n",
    "print(Nombres)\n"
   ]
  },
  {
   "cell_type": "markdown",
   "metadata": {},
   "source": [
    "Le **deuxième élément** de ***Nombres***, qui avait la valeur 10, a maintenant la valeur 100."
   ]
  },
  {
   "cell_type": "markdown",
   "metadata": {},
   "source": [
    "Il est possible de parcourir une liste en utilisant une boucle ***for***. Mais si nous souhaitons écrire ou mettre à jour une liste il faut utiliser des indices. Une façon usuelle d'effectuer cela est de combiner les fonctions internes ***len*** et ***range***"
   ]
  },
  {
   "cell_type": "code",
   "execution_count": 5,
   "metadata": {},
   "outputs": [
    {
     "name": "stdout",
     "output_type": "stream",
     "text": [
      "pommes\n",
      "poire\n",
      "banane\n",
      "pêche\n",
      "cerise\n",
      "[2, 5, 10, 100, 1000]\n",
      "[2, 10, 10, 100, 1000]\n",
      "[2, 10, 20, 100, 1000]\n",
      "[2, 10, 20, 200, 1000]\n",
      "[2, 10, 20, 200, 2000]\n"
     ]
    }
   ],
   "source": [
    "Fruits = ['pommes', 'poire', 'banane', 'pêche', 'cerise']\n",
    "Chiffres = [1, 5, 10, 100, 1000]\n",
    "\n",
    "for Fruit in Fruits:\n",
    "    print(Fruit)\n",
    "    \n",
    "for i in range (len(Chiffres)):\n",
    "    Chiffres[i] = Chiffres[i] * 2\n",
    "    print(Chiffres)\n",
    "    \n"
   ]
  },
  {
   "cell_type": "markdown",
   "metadata": {},
   "source": [
    "La deuxième boucle de l'exemple au-dessus parcourt la liste et met à jour chaque élément. ***Len*** renvoie le nombre d'éléments dans la liste. ***Range*** renvoie une liste d'indices allant de 0 à n-1, où n est la longueur de la liste. A chaque passage dans la boucle, i prend la valeur de l'indice de l'élément suivant. L'instruction d'affectation dans le corps utilise i pour lire l'ancienne valeur de l'élément et pour lui attribuer la nouvelle valeur. "
   ]
  },
  {
   "cell_type": "markdown",
   "metadata": {},
   "source": [
    "Il est possible d'effectuer des opérations sur les listes:\n",
    "1. L'opérateur + concatène des listes\n",
    "2. L'opérateur * répète une liste un nombre donné de fois"
   ]
  },
  {
   "cell_type": "code",
   "execution_count": 6,
   "metadata": {},
   "outputs": [
    {
     "name": "stdout",
     "output_type": "stream",
     "text": [
      "['pomme', 'poire', 'cerise', 'gateau', 'cake']\n",
      "['Ha!', 'Ha!', 'Ha!', 'Ha!', 'Ha!']\n"
     ]
    }
   ],
   "source": [
    "a = ['pomme', 'poire', 'cerise']\n",
    "b = ['gateau', 'cake']\n",
    "c = a + b\n",
    "\n",
    "print(c)\n",
    "\n",
    "d = ['Ha!']\n",
    "e = d * 5\n",
    "\n",
    "print(e)"
   ]
  },
  {
   "cell_type": "markdown",
   "metadata": {},
   "source": [
    "L'opérateur de tranche [M:N] peut être utilisé sur les listes. Si on omet le premier indice en utilisant l'opérateur alors la liste débutera avec le premier élément de la liste. La même chose se produit si on omet de deuxième indice mais cette fois la liste se terminera avec le dernier élément: "
   ]
  },
  {
   "cell_type": "code",
   "execution_count": 7,
   "metadata": {},
   "outputs": [
    {
     "name": "stdout",
     "output_type": "stream",
     "text": [
      "['II', 'III']\n",
      "[1, 2, 3, 4]\n",
      "['f']\n"
     ]
    }
   ],
   "source": [
    "t = ['I', 'II', 'III', 'IV', 'V', 'VI']\n",
    "s = [1, 2, 3, 4, 5, 6, 7, 8]\n",
    "x = ['a', 'b', 'c', 'd', 'e', 'f']\n",
    "\n",
    "\n",
    "print(t[1:3])\n",
    "\n",
    "\n",
    "print(s[:4])\n",
    "\n",
    "\n",
    "print(x[5:])"
   ]
  },
  {
   "cell_type": "markdown",
   "metadata": {},
   "source": [
    "Il existe des méthodes qui agissent sur les listes:\n",
    "1. ***append*** qui ajoute un nouvel élément à la fin d'une liste\n",
    "2. ***extend*** qui prend comme argument une liste et ajoute tous les élément de celle-ci\n",
    "3. ***sort*** qui arrange les élément d'une liste en ordre croissant"
   ]
  },
  {
   "cell_type": "code",
   "execution_count": 8,
   "metadata": {},
   "outputs": [
    {
     "name": "stdout",
     "output_type": "stream",
     "text": [
      "['a', 'b', 'c', 'd', 'e']\n",
      "[1, 2, 3, 4, 5, 6, 7]\n",
      "[1, 2, 4, 7, 9, 19]\n"
     ]
    }
   ],
   "source": [
    "w = ['a', 'b', 'c', 'd']\n",
    "w.append('e')\n",
    "print(w)\n",
    "\n",
    "w1 = [1, 2, 3, 4]\n",
    "w2 = [5, 6, 7]\n",
    "w1.extend(w2)\n",
    "print(w1)\n",
    "\n",
    "w3 = [4, 7, 1, 2, 9, 19]\n",
    "w3.sort()\n",
    "print(w3)"
   ]
  },
  {
   "cell_type": "markdown",
   "metadata": {},
   "source": [
    "Dans Pyhon il est possible de créer des fonctions qui :\n",
    "1. mappent une liste (appliquent une fonction sur chacun des éléments d'une séquence)\n",
    "2. filtrent une liste (selectionent certains éléments et filtrent les autres)\n",
    "3. réduisent une liste (combinent une séquence d'éléments en une seule valeur)\n"
   ]
  },
  {
   "cell_type": "code",
   "execution_count": 9,
   "metadata": {},
   "outputs": [
    {
     "name": "stdout",
     "output_type": "stream",
     "text": [
      "15\n",
      "['A', 'B', 'C', 'D', 'E']\n",
      "false\n",
      "true\n",
      "false\n",
      "true\n",
      "true\n"
     ]
    }
   ],
   "source": [
    "Q = [1, 2, 3, 4, 5]\n",
    "test = sum(Q)\n",
    "print(test)\n",
    "\n",
    "\n",
    "Q1 = ['a', 'b', 'c', 'd', 'e']\n",
    "def mettre_tout_en_majuscule(t):\n",
    "    res = []\n",
    "    for s in t:\n",
    "        res.append(s.capitalize ())\n",
    "    return res\n",
    "test1 = mettre_tout_en_majuscule(Q1)\n",
    "print(test1)\n",
    "\n",
    "Q2 = ['a', 'B', 'd', 'E', 'F']\n",
    "def seulement_majuscules(v):\n",
    "    vor = []\n",
    "    for s in v:\n",
    "        if s.isupper():\n",
    "            print('true')\n",
    "        else:\n",
    "            print ('false')\n",
    "test2 = seulement_majuscules(Q2)"
   ]
  },
  {
   "cell_type": "markdown",
   "metadata": {},
   "source": [
    "Le premier exemple au-dessus montre une fonction qui additionne tous les éléments d'une liste. Le deuxième exemple montre une fonction qui transforme toutes les lettres minuscules d'une liste en majuscules. Le troisième exemple montre une fonction qui renvoie **true** quand l'élément de la liste est en majuscule, dans tou autre cas **false** sera renvoyé.  "
   ]
  },
  {
   "cell_type": "markdown",
   "metadata": {},
   "source": [
    "Il existe plusieurs façon de **supprimer** des éléments d'une liste:\n",
    "1. La première méthode est ***pop*** (cette méthode modifie la liste et renvoie l'élément qui a été supprimé)\n",
    "2. La deuxième méthode est ***del*** (cette méthode modifie la liste sans renvoyer l'élément qui a été supprimé)\n",
    "3. La troisième méthode est ***remove*** (cette méthode permet de modifier une liste sans connaître l'indice de l'élément)"
   ]
  },
  {
   "cell_type": "code",
   "execution_count": 10,
   "metadata": {},
   "outputs": [
    {
     "name": "stdout",
     "output_type": "stream",
     "text": [
      "['a', 'c', 'd', 'e']\n",
      "b\n",
      "['x', 'z']\n",
      "['poire', 'cerise']\n"
     ]
    }
   ],
   "source": [
    "g = ['a', 'b', 'c', 'd', 'e']\n",
    "h = g.pop(1)\n",
    "print (g)\n",
    "print (h)\n",
    "\n",
    "g1 = ['x', 'y', 'z']\n",
    "del g1[1]\n",
    "print (g1)\n",
    "\n",
    "\n",
    "g2 = ['pomme', 'poire', 'cerise']\n",
    "g2.remove('pomme')\n",
    "print (g2)"
   ]
  },
  {
   "cell_type": "markdown",
   "metadata": {},
   "source": [
    "Une chaîne est une séquence de caractères et une liste est une séquence de valeurs, mais une liste de caractères n'est pas la même chose qu'une chaîne de caractères. Pour convertir une chaîne en une liste de caractères il existe deux fonctions:\n",
    "\n",
    "1. La première fonction est ***list*** (cette fonction décompose une chaîne de caractère en lettres individuelles)\n",
    "2. La deuxième fonction est ***split*** (cette fonction décompose une chaîne en mots)\n",
    "\n",
    "***Pour la deuxième fonction il est possible d'utiliser un délimiteur qui spécifie quels caractères utiliser comme limites de mots***"
   ]
  },
  {
   "cell_type": "code",
   "execution_count": 11,
   "metadata": {},
   "outputs": [
    {
     "name": "stdout",
     "output_type": "stream",
     "text": [
      "['B', 'u', 'g', 'n', 'o', 'n']\n",
      "[\"L'informatique\", \"c'est\", 'top', '!']\n",
      "['Bug', 'Bug', 'Bug']\n"
     ]
    }
   ],
   "source": [
    "ab = 'Bugnon'\n",
    "cd = list (ab)\n",
    "print (cd)\n",
    "\n",
    "ab1 = \"L'informatique c'est top !\"\n",
    "cd1 = ab1.split()\n",
    "print (cd1)\n",
    "\n",
    "ab2 = 'Bug-Bug-Bug'\n",
    "delimiteur = '-'\n",
    "cd2 = ab2.split(delimiteur)\n",
    "print (cd2)"
   ]
  },
  {
   "cell_type": "markdown",
   "metadata": {},
   "source": [
    "***Join*** est l'inverse de ***split***. Cette fonction prend une liste de chaîne de caractère et concatène les éléments. Pour l'utiliser il faut également invoquer un délimiteur."
   ]
  },
  {
   "cell_type": "code",
   "execution_count": 12,
   "metadata": {},
   "outputs": [
    {
     "name": "stdout",
     "output_type": "stream",
     "text": [
      "Le Bugnon est beau !\n"
     ]
    }
   ],
   "source": [
    "ab3 = ['Le', 'Bugnon', 'est', 'beau', '!']\n",
    "delimiteur1 = ' '\n",
    "cd3 = delimiteur1.join(ab3)\n",
    "print (cd3)"
   ]
  },
  {
   "cell_type": "markdown",
   "metadata": {},
   "source": [
    "Il est important de différencier la notion **d'objet** et de **valeur**. Un objet dans python pourrait être imagé par une pomme. Tandis que la valeur pourrait être son prix. Lors d'une attribution de variable nous séléctionons un objet et donc la pomme dans notre exemple. Si nous attribuons une autre variable à une pomme il pourrait s'agir de la même pomme (même prix) ou alors d'une autre. Dans python deux objets identiques peuvent avoir la même valeur comme dans le cas d'une chaîne de caractère ou bien une valeur différente comme avec les listes. Pour savoir si deux objets ont la même valeur il faut utiliser l'opérateur ***is***."
   ]
  },
  {
   "cell_type": "code",
   "execution_count": 13,
   "metadata": {},
   "outputs": [
    {
     "name": "stdout",
     "output_type": "stream",
     "text": [
      "True\n",
      "False\n"
     ]
    }
   ],
   "source": [
    "ef = 'chaise'\n",
    "fe = 'chaise'\n",
    "gh = ef is fe\n",
    "print (gh)\n",
    "\n",
    "ef1 = ['a', 'b', 'c']\n",
    "fe1 = ['a', 'b', 'c']\n",
    "gh1 = ef1 is fe1\n",
    "print (gh1)\n"
   ]
  },
  {
   "cell_type": "markdown",
   "metadata": {},
   "source": [
    "Dans le deuxième exemple au-dessus les deux listes sont dites **équivalentes**, parce qu'elles ont les mêmes éléments, mais pas **identiques**, car il ne s'agit pas d'un même objet."
   ]
  },
  {
   "cell_type": "markdown",
   "metadata": {},
   "source": [
    "**L'aliasing** est une circonstance où deux ou plusieurs variables font références au même objet. Il est normalement conseillé de l'éviter car cela peut être source d'erreur."
   ]
  },
  {
   "cell_type": "code",
   "execution_count": 14,
   "metadata": {},
   "outputs": [
    {
     "name": "stdout",
     "output_type": "stream",
     "text": [
      "[1, 37, 3, 4, 5, 6]\n"
     ]
    }
   ],
   "source": [
    "sd = ds = [1, 2, 3, 4, 5, 6]\n",
    "ds[1] = 37\n",
    "print (sd)"
   ]
  },
  {
   "cell_type": "markdown",
   "metadata": {},
   "source": [
    "## Dictionnaires\n",
    "\n",
    "Un dictionnaire ressemble à une liste, mais il est plus général. Dans une liste, les indices doivent être des nombres entiers; dans un dictionnaire, ils peuvent être de (presque) n'importe quel type.\n",
    "\n",
    "Un dictionnaire contient une collection d'indices, qui sont appelés **clés**, et une collection de valeurs. Chaque clé est associée à une valeur unique. L'association entre une clé et une valeur est appelée un **item**."
   ]
  },
  {
   "cell_type": "markdown",
   "metadata": {},
   "source": [
    "La fonction ***dict*** crée un nouveau dictionnaire sans aucun élément. "
   ]
  },
  {
   "cell_type": "code",
   "execution_count": 15,
   "metadata": {},
   "outputs": [
    {
     "name": "stdout",
     "output_type": "stream",
     "text": [
      "{}\n"
     ]
    }
   ],
   "source": [
    "it_vers_fr = dict ()\n",
    "print (it_vers_fr)"
   ]
  },
  {
   "cell_type": "markdown",
   "metadata": {},
   "source": [
    "Pour aujouter des éléments au dictionnaire on doit utiliser des crochets :"
   ]
  },
  {
   "cell_type": "code",
   "execution_count": 16,
   "metadata": {},
   "outputs": [
    {
     "name": "stdout",
     "output_type": "stream",
     "text": [
      "{'albero': 'arbre'}\n"
     ]
    }
   ],
   "source": [
    "it_vers_fr2 = dict ()\n",
    "it_vers_fr2 ['albero'] = 'arbre'\n",
    "print (it_vers_fr2)"
   ]
  },
  {
   "cell_type": "markdown",
   "metadata": {},
   "source": [
    "Cette exemple au dessus crée un élément qui fait correspondre la clé 'albero' à la valeur 'arbre'. Cela s'appelle un **item**."
   ]
  },
  {
   "cell_type": "markdown",
   "metadata": {},
   "source": [
    "Le nombre d'éléments dans un dictionnaire est illimité. La fonction ***len*** peut être utilisée sur les dictionnaires ; elle renvoie le nombre de paires clé-valeur. L'opérateur ***in*** fonctionne également sur les dictionnaire ; il nous indique si quelque chose apparaît comme une clé dans le dictionnaire. Enfin, pour savoir si quelque chose apparaît comme une valeur dans un dictionnaire, il faut utiliser la méthode ***values*** combinée avec l'opérateur ***in*** :"
   ]
  },
  {
   "cell_type": "code",
   "execution_count": 17,
   "metadata": {},
   "outputs": [
    {
     "name": "stdout",
     "output_type": "stream",
     "text": [
      "3\n",
      "True\n",
      "True\n"
     ]
    }
   ],
   "source": [
    "it_vers_fr3 = {'albero' : 'arbre', 'salame' : 'salami', 'pasta' : 'pâte'}\n",
    "\n",
    "fg = len(it_vers_fr3)\n",
    "print(fg)\n",
    "\n",
    "fg1 = 'albero' in it_vers_fr3\n",
    "print(fg1)\n",
    "\n",
    "valeurs = it_vers_fr3.values()\n",
    "fg2 = 'arbre' in valeurs\n",
    "print(fg2)"
   ]
  },
  {
   "cell_type": "markdown",
   "metadata": {},
   "source": [
    "Il est possible d'utiliser les dictionnaires pour créer **un compteur** de la fréquence d'apparition des lettres dans un mot : "
   ]
  },
  {
   "cell_type": "code",
   "execution_count": 18,
   "metadata": {},
   "outputs": [
    {
     "name": "stdout",
     "output_type": "stream",
     "text": [
      "{'e': 3, 'n': 1, 'v': 1, 'l': 1, 'o': 1, 'p': 2}\n"
     ]
    }
   ],
   "source": [
    "def histogramme (er):\n",
    "    re = dict()\n",
    "    for c in er:\n",
    "        if c not in re:\n",
    "            re[c] = 1\n",
    "        else:\n",
    "            re[c] += 1\n",
    "    return re\n",
    "\n",
    "test20 = histogramme ('enveloppe')\n",
    "print (test20)\n",
    "        "
   ]
  },
  {
   "cell_type": "markdown",
   "metadata": {},
   "source": [
    "## Tuples \n",
    "\n",
    "Un tuple est une séquence de valeurs. Les valeurs peuvent être de tout type et elles sont indexées par des entiers ; à cet égard, les tuples ressemblent donc beaucoup aux listes. La différence est que les tuples sont **immuables**. Syntaxiquement, un tuple est une liste de valeurs séparées pas des virgules. "
   ]
  },
  {
   "cell_type": "code",
   "execution_count": 19,
   "metadata": {},
   "outputs": [
    {
     "data": {
      "text/plain": [
       "tuple"
      ]
     },
     "execution_count": 19,
     "metadata": {},
     "output_type": "execute_result"
    }
   ],
   "source": [
    "hu = 'a', 'b', 'c', 'd', 'e', 'f'\n",
    "type (hu)"
   ]
  },
  {
   "cell_type": "markdown",
   "metadata": {},
   "source": [
    "Un autre façon de créer un tuple est d'utiliser la fonction interne ***tuple*** : "
   ]
  },
  {
   "cell_type": "code",
   "execution_count": 20,
   "metadata": {},
   "outputs": [
    {
     "name": "stdout",
     "output_type": "stream",
     "text": [
      "<class 'tuple'>\n",
      "<class 'tuple'>\n"
     ]
    }
   ],
   "source": [
    "uh = tuple ()\n",
    "we = type (uh)\n",
    "print (we)\n",
    "\n",
    "uh1 = tuple ('mirko')\n",
    "ew = type (uh1)\n",
    "print (ew)\n"
   ]
  },
  {
   "cell_type": "markdown",
   "metadata": {},
   "source": [
    "La majorité des opérateurs de liste tel que l'opérateur ***[ ]*** d'indexation ou encore de celui de tranche fonctionne sur les tuples. Cependant, il n'est pas possible de modifier un des éléments du tuple car les tuples sont **immuable**."
   ]
  },
  {
   "cell_type": "code",
   "execution_count": 21,
   "metadata": {},
   "outputs": [
    {
     "name": "stdout",
     "output_type": "stream",
     "text": [
      "a\n",
      "('b', 'c')\n"
     ]
    },
    {
     "ename": "TypeError",
     "evalue": "'tuple' object does not support item assignment",
     "output_type": "error",
     "traceback": [
      "\u001b[1;31m---------------------------------------------------------------------------\u001b[0m",
      "\u001b[1;31mTypeError\u001b[0m                                 Traceback (most recent call last)",
      "\u001b[1;32m<ipython-input-21-e4a6b2e95784>\u001b[0m in \u001b[0;36m<module>\u001b[1;34m\u001b[0m\n\u001b[0;32m      6\u001b[0m \u001b[0mprint\u001b[0m \u001b[1;33m(\u001b[0m\u001b[0mkj1\u001b[0m\u001b[1;33m)\u001b[0m\u001b[1;33m\u001b[0m\u001b[1;33m\u001b[0m\u001b[0m\n\u001b[0;32m      7\u001b[0m \u001b[1;33m\u001b[0m\u001b[0m\n\u001b[1;32m----> 8\u001b[1;33m \u001b[0mkj2\u001b[0m \u001b[1;33m=\u001b[0m \u001b[0mjk\u001b[0m\u001b[1;33m[\u001b[0m\u001b[1;36m0\u001b[0m\u001b[1;33m]\u001b[0m \u001b[1;33m=\u001b[0m \u001b[1;34m'qq'\u001b[0m\u001b[1;33m\u001b[0m\u001b[1;33m\u001b[0m\u001b[0m\n\u001b[0m\u001b[0;32m      9\u001b[0m \u001b[0mprint\u001b[0m\u001b[1;33m(\u001b[0m\u001b[0mkj2\u001b[0m\u001b[1;33m)\u001b[0m\u001b[1;33m\u001b[0m\u001b[1;33m\u001b[0m\u001b[0m\n",
      "\u001b[1;31mTypeError\u001b[0m: 'tuple' object does not support item assignment"
     ]
    }
   ],
   "source": [
    "jk = ('a', 'b', 'c', 'd', 'e')\n",
    "kj = jk[0]\n",
    "print (kj)\n",
    "\n",
    "kj1 = jk[1:3]\n",
    "print (kj1)\n",
    "\n",
    "kj2 = jk[0] = 'qq'\n",
    "print(kj2)"
   ]
  },
  {
   "cell_type": "markdown",
   "metadata": {},
   "source": [
    "Il est souvent utile d'échanger les valeurs de deux variables. Avec des affectations classiques, il faut utiliser des variables temporaires ce qui est lourd et pas pratique. C'est pourquoi il est plus élégant et plus simple d'utiliser **l'affectation des tuples**."
   ]
  },
  {
   "cell_type": "code",
   "execution_count": 22,
   "metadata": {},
   "outputs": [],
   "source": [
    "la, lw, lq = 1, 5, 10"
   ]
  },
  {
   "cell_type": "markdown",
   "metadata": {},
   "source": [
    "Le côté gauche de l'affectation est un tuple de variables; le côté droit est un tuple d'expression. Chaque valeur est affectée à sa variable respective. Il est donc important d'avoir le **même** nombre d'éléments dans le tuple de variables que d'éléments dans le tuple d'expression sinon un message d'erreur s'affiche. "
   ]
  },
  {
   "cell_type": "markdown",
   "metadata": {},
   "source": [
    "Une fonction ne peut renvoyer qu'une seule valeur, mais si la valeur est un tuple, l'effet est le même que de renvoyer des valeurs multiples. Par exemple, la fonction interne ***divmod*** prend deux arguments et retourne un tuple de deux valeurs, le quotient et le reste d'une division. Afin de stocker les éléments séparément on utilise l'affectation de tuple. "
   ]
  },
  {
   "cell_type": "code",
   "execution_count": 23,
   "metadata": {},
   "outputs": [
    {
     "name": "stdout",
     "output_type": "stream",
     "text": [
      "5\n",
      "2\n"
     ]
    }
   ],
   "source": [
    "quot, rest = divmod (37, 7)\n",
    "print (quot)\n",
    "print (rest)"
   ]
  },
  {
   "cell_type": "markdown",
   "metadata": {},
   "source": [
    "## Source\n",
    "\n",
    "* ***Penser en Python*** par Allen Downey\n",
    "* https://fr.wikipedia.org/wiki/Python_(langage)\n",
    "* Raphael Holzer \n"
   ]
  }
 ],
 "metadata": {
  "kernelspec": {
   "display_name": "Python 3",
   "language": "python",
   "name": "python3"
  },
  "language_info": {
   "codemirror_mode": {
    "name": "ipython",
    "version": 3
   },
   "file_extension": ".py",
   "mimetype": "text/x-python",
   "name": "python",
   "nbconvert_exporter": "python",
   "pygments_lexer": "ipython3",
   "version": "3.7.0"
  }
 },
 "nbformat": 4,
 "nbformat_minor": 2
}
