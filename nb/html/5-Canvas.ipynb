{
 "cells": [
  {
   "cell_type": "markdown",
   "metadata": {},
   "source": [
    "# Canvas\n",
    "https://www.w3schools.com/graphics/canvas_intro.asp\n",
    "\n",
    "The HTML `<canvas>` element is used to draw graphics on a web page. JavaScript is used to enter the graphics elements.\n",
    "The following command creates a canvas element."
   ]
  },
  {
   "cell_type": "code",
   "execution_count": 1,
   "metadata": {},
   "outputs": [
    {
     "data": {
      "text/html": [
       "<canvas id=\"example\" width=\"200\" height=\"200\">\n",
       "This text is displayed if your browser does not support HTML5 Canvas.\n",
       "</canvas>"
      ],
      "text/plain": [
       "<IPython.core.display.HTML object>"
      ]
     },
     "metadata": {},
     "output_type": "display_data"
    }
   ],
   "source": [
    "%%html\n",
    "<canvas id=\"example\" width=\"200\" height=\"200\">\n",
    "This text is displayed if your browser does not support HTML5 Canvas.\n",
    "</canvas>"
   ]
  },
  {
   "cell_type": "markdown",
   "metadata": {},
   "source": [
    "The JavaScript code draws into the above canvas element."
   ]
  },
  {
   "cell_type": "code",
   "execution_count": 1,
   "metadata": {},
   "outputs": [
    {
     "data": {
      "application/javascript": [
       "var example = document.getElementById('example');\n",
       "var context = example.getContext('2d');\n",
       "context.fillStyle = 'red';\n",
       "context.fillRect(30, 30, 50, 150);"
      ],
      "text/plain": [
       "<IPython.core.display.Javascript object>"
      ]
     },
     "metadata": {},
     "output_type": "display_data"
    }
   ],
   "source": [
    "%%js\n",
    "var example = document.getElementById('example');\n",
    "var context = example.getContext('2d');\n",
    "context.fillStyle = 'red';\n",
    "context.fillRect(30, 30, 50, 150);"
   ]
  },
  {
   "cell_type": "code",
   "execution_count": 2,
   "metadata": {},
   "outputs": [
    {
     "data": {
      "text/html": [
       "<canvas id=\"myCanvas\" width=\"200\" height=\"100\"\n",
       "style=\"border:1px solid #000000;\">\n",
       "</canvas>"
      ],
      "text/plain": [
       "<IPython.core.display.HTML object>"
      ]
     },
     "metadata": {},
     "output_type": "display_data"
    }
   ],
   "source": [
    "%%html\n",
    "<canvas id=\"myCanvas\" width=\"200\" height=\"100\"\n",
    "style=\"border:1px solid #000000;\">\n",
    "</canvas>"
   ]
  },
  {
   "cell_type": "code",
   "execution_count": 3,
   "metadata": {},
   "outputs": [
    {
     "data": {
      "application/javascript": [
       "var canvas = document.getElementById(\"myCanvas\");\n",
       "var ctx = canvas.getContext(\"2d\");\n",
       "ctx.fillStyle = \"#F0F000\";\n",
       "ctx.fillRect(5,5,150,75);"
      ],
      "text/plain": [
       "<IPython.core.display.Javascript object>"
      ]
     },
     "metadata": {},
     "output_type": "display_data"
    }
   ],
   "source": [
    "%%js\n",
    "var canvas = document.getElementById(\"myCanvas\");\n",
    "var ctx = canvas.getContext(\"2d\");\n",
    "ctx.fillStyle = \"#F0F000\";\n",
    "ctx.fillRect(5,5,150,75);"
   ]
  },
  {
   "cell_type": "code",
   "execution_count": null,
   "metadata": {},
   "outputs": [],
   "source": []
  }
 ],
 "metadata": {
  "kernelspec": {
   "display_name": "Python 3",
   "language": "python",
   "name": "python3"
  },
  "language_info": {
   "codemirror_mode": {
    "name": "ipython",
    "version": 3
   },
   "file_extension": ".py",
   "mimetype": "text/x-python",
   "name": "python",
   "nbconvert_exporter": "python",
   "pygments_lexer": "ipython3",
   "version": "3.6.5"
  },
  "toc": {
   "base_numbering": 1,
   "nav_menu": {},
   "number_sections": true,
   "sideBar": true,
   "skip_h1_title": false,
   "title_cell": "Table of Contents",
   "title_sidebar": "Contents",
   "toc_cell": false,
   "toc_position": {},
   "toc_section_display": true,
   "toc_window_display": false
  }
 },
 "nbformat": 4,
 "nbformat_minor": 2
}
