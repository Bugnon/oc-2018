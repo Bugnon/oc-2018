{
 "cells": [
  {
   "cell_type": "markdown",
   "metadata": {},
   "source": [
    "# Logique\n",
    "Les objectifs de cette sections \n",
    "* introduction à la logique mathématiques\n",
    "* présentation du formalisme LaTeX pour \n",
    "* fonctions logiques dans Python (and, or, not)\n",
    "\n",
    "De tout temps les penseurs ont cherché à s'assurer que leurs raisonnements, quel qu'en soit le sujet, ne comportaient pas de \"faille\" qui les fassent aboutir à un résultat inexact. Le besoin s'est rapidement fait sentir d'outils fiables sur lesquels la pensée puisse s'appuyer pour manipuler des concepts, et enchaîner des déductions."
   ]
  },
  {
   "cell_type": "markdown",
   "metadata": {},
   "source": [
    "## Calcul propositionnel"
   ]
  },
  {
   "cell_type": "markdown",
   "metadata": {},
   "source": [
    "### La proposition\n",
    "\n",
    "Une **proposition** est une affirmation qui prend toujours la même valeur de vérité (vrai ou faux).  \n",
    "Exemples:\n",
    "* l'affirmation *il pleut* n'est pas une proposition\n",
    "* l'affirmation *6 est un multiple de 3* est une proposition vraie\n",
    "* l'affirmation *3 est plus grand que 5* est une proposition fausse\n",
    "\n",
    "D'habitude nous utilisons les lettres majuscules $P, Q, R, ...$ pour désigner des propositions. Les valeurs de verité en Python sont `True` et `False`. Voici l'affection de la variable $P$ avec la valeur `True`:"
   ]
  },
  {
   "cell_type": "code",
   "execution_count": 1,
   "metadata": {},
   "outputs": [],
   "source": [
    "P = True"
   ]
  },
  {
   "cell_type": "markdown",
   "metadata": {},
   "source": [
    "Quelle est la valeur de la variable propositionelle $P$ ?"
   ]
  },
  {
   "cell_type": "code",
   "execution_count": 2,
   "metadata": {},
   "outputs": [
    {
     "data": {
      "text/plain": [
       "True"
      ]
     },
     "execution_count": 2,
     "metadata": {},
     "output_type": "execute_result"
    }
   ],
   "source": [
    "P"
   ]
  },
  {
   "cell_type": "markdown",
   "metadata": {},
   "source": [
    "Le type de cette variable $P$ est booléen."
   ]
  },
  {
   "cell_type": "code",
   "execution_count": 3,
   "metadata": {},
   "outputs": [
    {
     "data": {
      "text/plain": [
       "bool"
      ]
     },
     "execution_count": 3,
     "metadata": {},
     "output_type": "execute_result"
    }
   ],
   "source": [
    "type(P)"
   ]
  },
  {
   "cell_type": "markdown",
   "metadata": {},
   "source": [
    "Les deux valeurs de vérité peuvent être placé dans un tuple."
   ]
  },
  {
   "cell_type": "code",
   "execution_count": 4,
   "metadata": {},
   "outputs": [
    {
     "data": {
      "text/plain": [
       "(False, True)"
      ]
     },
     "execution_count": 4,
     "metadata": {},
     "output_type": "execute_result"
    }
   ],
   "source": [
    "(False, True)"
   ]
  },
  {
   "cell_type": "code",
   "execution_count": 5,
   "metadata": {},
   "outputs": [
    {
     "data": {
      "text/plain": [
       "tuple"
      ]
     },
     "execution_count": 5,
     "metadata": {},
     "output_type": "execute_result"
    }
   ],
   "source": [
    "type(_)"
   ]
  },
  {
   "cell_type": "markdown",
   "metadata": {},
   "source": [
    "Nous pouvons imprimer les deux valeurs du tuple avec une boucle `for`."
   ]
  },
  {
   "cell_type": "code",
   "execution_count": 6,
   "metadata": {},
   "outputs": [
    {
     "name": "stdout",
     "output_type": "stream",
     "text": [
      "False\n",
      "True\n"
     ]
    }
   ],
   "source": [
    "for P in (False, True):\n",
    "    print(P)"
   ]
  },
  {
   "cell_type": "markdown",
   "metadata": {},
   "source": [
    "### La négation\n",
    "La **négation** d'une proposition $P$, notée $\\neg P$ est la proposition obtenu en affirmant son contraire.\n",
    "\n",
    "Exemples:\n",
    "* La négation de $x \\ge 0$ est $x \\lt 0$\n",
    "* La négation de *$k$ est un entier pair* est *$k$ est un entier impair*"
   ]
  },
  {
   "cell_type": "markdown",
   "metadata": {},
   "source": [
    "L'opérateur de négation logique en Python est `not`."
   ]
  },
  {
   "cell_type": "code",
   "execution_count": 7,
   "metadata": {},
   "outputs": [
    {
     "data": {
      "text/plain": [
       "False"
      ]
     },
     "execution_count": 7,
     "metadata": {},
     "output_type": "execute_result"
    }
   ],
   "source": [
    "not P"
   ]
  },
  {
   "cell_type": "markdown",
   "metadata": {},
   "source": [
    "Affichons la négation de P pour les deux possibilités."
   ]
  },
  {
   "cell_type": "code",
   "execution_count": 8,
   "metadata": {},
   "outputs": [
    {
     "name": "stdout",
     "output_type": "stream",
     "text": [
      "False True\n",
      "True False\n"
     ]
    }
   ],
   "source": [
    "for P in (False, True):\n",
    "    print(P, not P)"
   ]
  },
  {
   "cell_type": "markdown",
   "metadata": {},
   "source": [
    "Les deux colonnes ne sont pas alignées. Par défaut, la fonction `print` sépare ses arguments avec une espace. Mais ce séparateur peut être changé pour un tabulateur `\\t`, qui aligne les arguments toutes les 8 caractères."
   ]
  },
  {
   "cell_type": "code",
   "execution_count": 9,
   "metadata": {},
   "outputs": [
    {
     "name": "stdout",
     "output_type": "stream",
     "text": [
      "False\tTrue\n",
      "True\tFalse\n"
     ]
    }
   ],
   "source": [
    "for P in (False, True):\n",
    "    print(P, not P, sep='\\t')"
   ]
  },
  {
   "cell_type": "markdown",
   "metadata": {},
   "source": [
    "Nous pouvons également ajouter un en-tête pour cette table."
   ]
  },
  {
   "cell_type": "code",
   "execution_count": 10,
   "metadata": {},
   "outputs": [
    {
     "name": "stdout",
     "output_type": "stream",
     "text": [
      "P\t¬P\n",
      "False\tTrue\n",
      "True\tFalse\n"
     ]
    }
   ],
   "source": [
    "print('P\\t¬P')\n",
    "for P in (False, True):\n",
    "    print(P, not(P), sep='\\t')"
   ]
  },
  {
   "cell_type": "markdown",
   "metadata": {},
   "source": [
    "### La disjonction\n",
    "La **disjonction** $P \\lor Q$ de deux propositions $P$ et $Q$ est la proposition qui est vraie dès qu'au moins une des deux propositions $P$ ou $Q$ est vraie. On dit que c'est la proposition $P$ **ou** $Q$.  \n",
    "Exemples:\n",
    "* La carte tirée est une figure ou un coeur\n",
    "* Un nombre entier est pair ou impair\n",
    "\n",
    "Définissons une deuxième proposition $Q$"
   ]
  },
  {
   "cell_type": "code",
   "execution_count": 11,
   "metadata": {},
   "outputs": [],
   "source": [
    "Q = False"
   ]
  },
  {
   "cell_type": "markdown",
   "metadata": {},
   "source": [
    "L'opérateur en Python pour la disjonction est `or`."
   ]
  },
  {
   "cell_type": "code",
   "execution_count": 12,
   "metadata": {},
   "outputs": [
    {
     "data": {
      "text/plain": [
       "True"
      ]
     },
     "execution_count": 12,
     "metadata": {},
     "output_type": "execute_result"
    }
   ],
   "source": [
    "P or Q"
   ]
  },
  {
   "cell_type": "markdown",
   "metadata": {},
   "source": [
    "Nous pouvons afficher les 4 possiblité pour $P$ et $Q$ dans une table de vérité, en utilisant deux boucles `for` imbriquées."
   ]
  },
  {
   "cell_type": "code",
   "execution_count": 13,
   "metadata": {},
   "outputs": [
    {
     "name": "stdout",
     "output_type": "stream",
     "text": [
      "False\tFalse\tFalse\n",
      "False\tTrue\tTrue\n",
      "True\tFalse\tTrue\n",
      "True\tTrue\tTrue\n"
     ]
    }
   ],
   "source": [
    "for P in (False, True):\n",
    "    for Q in (False, True):\n",
    "        print(P, Q, P or Q, sep='\\t')"
   ]
  },
  {
   "cell_type": "markdown",
   "metadata": {},
   "source": [
    "Nous pouvons créer une fonction `truth_table(f)` qui calcule la table the verité pour une fonction booléennne `f`."
   ]
  },
  {
   "cell_type": "code",
   "execution_count": 16,
   "metadata": {},
   "outputs": [],
   "source": [
    "def truth_table(f):\n",
    "    print('P', 'Q', 'f(P, Q)', sep='\\t')\n",
    "    for P in (False, True):\n",
    "        for Q in (False, True):\n",
    "            print(P, Q, f(P, Q), sep='\\t')"
   ]
  },
  {
   "cell_type": "markdown",
   "metadata": {},
   "source": [
    "Pour l'utiliser nous devons d'abord définir une fonction logique `f` à afficher."
   ]
  },
  {
   "cell_type": "code",
   "execution_count": 17,
   "metadata": {},
   "outputs": [
    {
     "name": "stdout",
     "output_type": "stream",
     "text": [
      "P\tQ\tf(P, Q)\n",
      "False\tFalse\tFalse\n",
      "False\tTrue\tTrue\n",
      "True\tFalse\tTrue\n",
      "True\tTrue\tTrue\n"
     ]
    }
   ],
   "source": [
    "def f(P, Q):\n",
    "    return P or Q\n",
    "\n",
    "truth_table(f)"
   ]
  },
  {
   "cell_type": "markdown",
   "metadata": {},
   "source": [
    "Au lieu de définir explicitement une fonction `f`, nous pouvons aussi utiliser une fonction `lambda`."
   ]
  },
  {
   "cell_type": "code",
   "execution_count": 18,
   "metadata": {},
   "outputs": [
    {
     "data": {
      "text/plain": [
       "<function __main__.<lambda>(P, Q)>"
      ]
     },
     "execution_count": 18,
     "metadata": {},
     "output_type": "execute_result"
    }
   ],
   "source": [
    "lambda P, Q: P or Q"
   ]
  },
  {
   "cell_type": "code",
   "execution_count": 19,
   "metadata": {},
   "outputs": [
    {
     "data": {
      "text/plain": [
       "True"
      ]
     },
     "execution_count": 19,
     "metadata": {},
     "output_type": "execute_result"
    }
   ],
   "source": [
    "(lambda P, Q: P or Q) (False, True)"
   ]
  },
  {
   "cell_type": "markdown",
   "metadata": {},
   "source": [
    "L'appel de la fonction `truth_table` avec la fonction lambda devient"
   ]
  },
  {
   "cell_type": "code",
   "execution_count": 20,
   "metadata": {},
   "outputs": [
    {
     "name": "stdout",
     "output_type": "stream",
     "text": [
      "P\tQ\tf(P, Q)\n",
      "False\tFalse\tFalse\n",
      "False\tTrue\tTrue\n",
      "True\tFalse\tTrue\n",
      "True\tTrue\tTrue\n"
     ]
    }
   ],
   "source": [
    "truth_table(lambda P, Q: P or Q)"
   ]
  },
  {
   "cell_type": "markdown",
   "metadata": {},
   "source": [
    "Il serait préférable de remplacer le `f(P, Q)` dans l'entête par un texte explicite. Nous ajoutons un deuxième paramètre dans notre fonction."
   ]
  },
  {
   "cell_type": "code",
   "execution_count": 23,
   "metadata": {},
   "outputs": [],
   "source": [
    "def truth_table(f, label):\n",
    "    print('P', 'Q', label, sep='\\t')\n",
    "    for P in (False, True):\n",
    "        for Q in (False, True):\n",
    "            print(P, Q, f(P, Q), sep='\\t')"
   ]
  },
  {
   "cell_type": "code",
   "execution_count": 33,
   "metadata": {},
   "outputs": [],
   "source": [
    "def truth_table4(f, label, g, label2):\n",
    "    print('P', 'Q', label, label2, sep='\\t')\n",
    "    for P in (False, True):\n",
    "        for Q in (False, True):\n",
    "            print(P, Q, f(P, Q), g(P, Q), sep='\\t')"
   ]
  },
  {
   "cell_type": "markdown",
   "metadata": {},
   "source": [
    "Ceci permet d'imprimer la table de vérité avec une entête correcte."
   ]
  },
  {
   "cell_type": "code",
   "execution_count": 24,
   "metadata": {},
   "outputs": [
    {
     "name": "stdout",
     "output_type": "stream",
     "text": [
      "P\tQ\tP ∨ Q\n",
      "False\tFalse\tFalse\n",
      "False\tTrue\tTrue\n",
      "True\tFalse\tTrue\n",
      "True\tTrue\tTrue\n"
     ]
    }
   ],
   "source": [
    "truth_table(lambda P, Q: P or Q, 'P ∨ Q')"
   ]
  },
  {
   "cell_type": "markdown",
   "metadata": {},
   "source": [
    "### La conjonction\n",
    "La **conjonction** $P \\wedge Q$ de deux propositions $P$ et $Q$ est la proposition qui est vraie uniqement quand les deux propositions $P$ ou $Q$ sont vraies simultanément. On dit que c'est la proposition $P$ **et** $Q$.  \n",
    "Exemples:\n",
    "* 10 est un multiple de 2 est de 5\n",
    "\n",
    "En Python, l'opérateur de conjonction est `and`."
   ]
  },
  {
   "cell_type": "code",
   "execution_count": 26,
   "metadata": {},
   "outputs": [
    {
     "data": {
      "text/plain": [
       "(True, True)"
      ]
     },
     "execution_count": 26,
     "metadata": {},
     "output_type": "execute_result"
    }
   ],
   "source": [
    "P, Q"
   ]
  },
  {
   "cell_type": "code",
   "execution_count": 25,
   "metadata": {},
   "outputs": [
    {
     "data": {
      "text/plain": [
       "True"
      ]
     },
     "execution_count": 25,
     "metadata": {},
     "output_type": "execute_result"
    }
   ],
   "source": [
    "P and Q"
   ]
  },
  {
   "cell_type": "markdown",
   "metadata": {},
   "source": [
    "Voici la table de vérité pour la conjonction."
   ]
  },
  {
   "cell_type": "code",
   "execution_count": 27,
   "metadata": {},
   "outputs": [
    {
     "name": "stdout",
     "output_type": "stream",
     "text": [
      "P\tQ\tP ∧ Q\n",
      "False\tFalse\tFalse\n",
      "False\tTrue\tFalse\n",
      "True\tFalse\tFalse\n",
      "True\tTrue\tTrue\n"
     ]
    }
   ],
   "source": [
    "truth_table(lambda P, Q: P and Q, 'P ∧ Q')"
   ]
  },
  {
   "cell_type": "markdown",
   "metadata": {},
   "source": [
    "### La loi de Morgan\n",
    "\n",
    "La négation d'une conjonction est équivalente à la disjonction des négations des deux propositions $P$ et $Q$.\n",
    "$$ \\neg (P \\land Q) = (\\neg P) \\lor (\\neg Q) $$"
   ]
  },
  {
   "cell_type": "code",
   "execution_count": 28,
   "metadata": {},
   "outputs": [
    {
     "name": "stdout",
     "output_type": "stream",
     "text": [
      "P\tQ\t(¬P)∨(¬Q)\n",
      "False\tFalse\tTrue\n",
      "False\tTrue\tTrue\n",
      "True\tFalse\tTrue\n",
      "True\tTrue\tFalse\n"
     ]
    }
   ],
   "source": [
    "truth_table(lambda P, Q: not P or not Q, '(¬P)∨(¬Q)')"
   ]
  },
  {
   "cell_type": "markdown",
   "metadata": {},
   "source": [
    "La négation d'une disjonction est équivalente à la conjonction des négations des deux propositions $P$ et $Q$.\n",
    "$$ \\neg (P \\lor Q) = (\\neg P) \\land (\\neg Q) $$"
   ]
  },
  {
   "cell_type": "code",
   "execution_count": 29,
   "metadata": {},
   "outputs": [
    {
     "name": "stdout",
     "output_type": "stream",
     "text": [
      "P\tQ\t(¬P)∧(¬Q)\n",
      "False\tFalse\tTrue\n",
      "False\tTrue\tFalse\n",
      "True\tFalse\tFalse\n",
      "True\tTrue\tFalse\n"
     ]
    }
   ],
   "source": [
    "truth_table(lambda P, Q: not P and not Q, '(¬P)∧(¬Q)')"
   ]
  },
  {
   "cell_type": "markdown",
   "metadata": {},
   "source": [
    "Ceci a comme conséquence que la conjonction peut être exprimé par la disjonction et vice-versa.\n",
    "La conjonction peut être exprimée par la négation de la disjonction des négations des deux propositions $P$ et $Q$.\n",
    "$$ P \\wedge Q = \\neg(\\neg P \\lor \\neg Q) $$"
   ]
  },
  {
   "cell_type": "code",
   "execution_count": 35,
   "metadata": {
    "scrolled": true
   },
   "outputs": [
    {
     "name": "stdout",
     "output_type": "stream",
     "text": [
      "P\tQ\t¬(¬P∨¬Q)\t¬(P∧Q)\n",
      "False\tFalse\tFalse\tFalse\n",
      "False\tTrue\tFalse\tTrue\n",
      "True\tFalse\tFalse\tFalse\n",
      "True\tTrue\tTrue\tFalse\n"
     ]
    }
   ],
   "source": [
    "truth_table4(lambda P, Q: not(not P or not Q), '¬(¬P∨¬Q)', lambda P, Q: not P and Q, '¬(P∧Q)')"
   ]
  },
  {
   "cell_type": "markdown",
   "metadata": {},
   "source": [
    "La disjonction peut être exprimée par la négation de la conjonction des deux négations des propopsitions $P$ et $Q$.\n",
    "$$ P \\lor Q = \\neg(\\neg P \\wedge \\neg Q) $$"
   ]
  },
  {
   "cell_type": "code",
   "execution_count": 36,
   "metadata": {},
   "outputs": [
    {
     "name": "stdout",
     "output_type": "stream",
     "text": [
      "P\tQ\t¬P∧¬Q\t¬(P∨Q)\n",
      "False\tFalse\tFalse\tTrue\n",
      "False\tTrue\tTrue\tFalse\n",
      "True\tFalse\tTrue\tFalse\n",
      "True\tTrue\tTrue\tFalse\n"
     ]
    }
   ],
   "source": [
    "truth_table4(lambda P, Q: not(not P and not Q), '¬P∧¬Q', lambda P, Q: not(P or Q), '¬(P∨Q)')"
   ]
  },
  {
   "cell_type": "markdown",
   "metadata": {},
   "source": [
    "### L'implication\n",
    "L'implication $P \\implies Q$ est la proposition qui est vraie si $Q$ est vraie dès que $P$ est vraie. On dit que $P$ implique $Q$.\n",
    "\n",
    "Exemple:\n",
    "* $x$ est un nombre pair implique $x$ est divisible par 2 est une proposition vraie.\n",
    "* \n",
    "\n",
    "Cette fonction logique n'existe pas en Python, mais nous pouvons en définir une."
   ]
  },
  {
   "cell_type": "code",
   "execution_count": 37,
   "metadata": {},
   "outputs": [
    {
     "data": {
      "text/plain": [
       "True"
      ]
     },
     "execution_count": 37,
     "metadata": {},
     "output_type": "execute_result"
    }
   ],
   "source": [
    "def imp(P, Q):\n",
    "    return not P or Q\n",
    "\n",
    "imp(P, Q)"
   ]
  },
  {
   "cell_type": "markdown",
   "metadata": {},
   "source": [
    "Maintenant nous pouvons imprimer la table de vérité."
   ]
  },
  {
   "cell_type": "code",
   "execution_count": 38,
   "metadata": {},
   "outputs": [
    {
     "name": "stdout",
     "output_type": "stream",
     "text": [
      "P\tQ\tP⟹Q\n",
      "False\tFalse\tTrue\n",
      "False\tTrue\tTrue\n",
      "True\tFalse\tFalse\n",
      "True\tTrue\tTrue\n"
     ]
    }
   ],
   "source": [
    "truth_table(lambda P, Q: imp(P, Q), 'P⟹Q')"
   ]
  },
  {
   "cell_type": "markdown",
   "metadata": {},
   "source": [
    "Soient $P$ et $Q$ deux propositions.  \n",
    "Dans l'implication $P \\implies Q$ on dit que:\n",
    "* $Q$ est une **condition nécessaire** pour que $P$ soit vraie\n",
    "* $P$ est une **condition suffisante** pour que $Q$ soit vraie"
   ]
  },
  {
   "cell_type": "markdown",
   "metadata": {},
   "source": [
    "### L'équivalence\n",
    "La **réciproque** de $P \\implies Q$ est $Q \\implies P$.  \n",
    "Si les deux implications sont vraies on dit que $P$ est **équivalente** à $Q$. On note $P \\iff Q$ "
   ]
  },
  {
   "cell_type": "code",
   "execution_count": 39,
   "metadata": {},
   "outputs": [
    {
     "name": "stdout",
     "output_type": "stream",
     "text": [
      "P\tQ\tQ⟺P\n",
      "False\tFalse\tTrue\n",
      "False\tTrue\tFalse\n",
      "True\tFalse\tFalse\n",
      "True\tTrue\tTrue\n"
     ]
    }
   ],
   "source": [
    "truth_table(lambda P, Q: imp(P, Q) and imp(Q, P), 'Q⟺P')"
   ]
  },
  {
   "cell_type": "markdown",
   "metadata": {},
   "source": [
    "### La contraposée\n",
    "La **contraposée** de $P \\implies Q$ est $\\neg Q \\implies \\neg P$. Ces deux propositions ont la même table de vérité."
   ]
  },
  {
   "cell_type": "code",
   "execution_count": 40,
   "metadata": {},
   "outputs": [
    {
     "name": "stdout",
     "output_type": "stream",
     "text": [
      "P\tQ\t¬Q⟹¬P\n",
      "False\tFalse\tTrue\n",
      "False\tTrue\tTrue\n",
      "True\tFalse\tFalse\n",
      "True\tTrue\tTrue\n"
     ]
    }
   ],
   "source": [
    "truth_table(lambda P, Q: imp(not Q, not P), '¬Q⟹¬P')"
   ]
  },
  {
   "cell_type": "markdown",
   "metadata": {},
   "source": [
    "## Prédicats\n",
    "Un **prédicat** $P$ associe à chaque élément $x$ d'un ensemble $U$ appelé **univers**, une proposition $P(x)$\n",
    "\n",
    "Si $U$ est un ensemble de $n$-uplets $(x_1, x_2, ..., x_n)$ le prédicat dépend de $n$ variables $x_i$ \n",
    "on dit qu'il est de **poids** $n$.\n",
    "\n",
    "Un prédicat de poids $n=0$ est une proposition.\n",
    "\n",
    "Les connecteurs logiques s'appliquent aux prédicats tout comme aux propositions.\n",
    "\n",
    "Exemples:\n",
    "* $P(x)$ défini par *x est entier naturel pair* est un prédicat de poids 1 dont l'univers est $\\mathbb{N}$\n",
    "* $Q(T)$ défini par *T est un triangle rectangle* est un prédicat de poids 1 dont l'univers est l'ensemble de tous les traingles du plan.\n",
    "* $R(m, n)$ défini par *l'entier naturel $m$ est un multiple de l'entier naturel $n$* est un prédicat de poids 2, dont l'univers est l'ensemble des couples d'entiers, c'est-à-dire $\\mathbb{N} \\times \\mathbb{N}$\n",
    "\n",
    "Pour énoncer un prédicat on utilise une ou plusieurs variables ($x, y, ...$) et le nom donné à ces variables n'a pas d'importance: on peut parler du triangle isocèle nommé $x$ ou $T$ ou $(ABC)$ sans que cela change le prédicat. On dit que ces variables sont **muettes**."
   ]
  },
  {
   "cell_type": "markdown",
   "metadata": {},
   "source": [
    "## Quantificateurs"
   ]
  },
  {
   "cell_type": "markdown",
   "metadata": {},
   "source": [
    "## Exercices"
   ]
  },
  {
   "cell_type": "markdown",
   "metadata": {
    "toc-hr-collapsed": true
   },
   "source": [
    "### Exercice 1 - tautologie ou antologie ?"
   ]
  },
  {
   "cell_type": "markdown",
   "metadata": {},
   "source": [
    "Sachant que $P$, $Q$ et $R$ sont des propositions, écrire les tables de vérité des propositions suivantes, indiquer si ce sont des tautologies ou des antilogies.\n",
    "\n",
    "Il faut d'abord écrire une fonction pour afficher une table de vérité pour 3 arguments."
   ]
  },
  {
   "cell_type": "code",
   "execution_count": 45,
   "metadata": {},
   "outputs": [],
   "source": [
    "def truth_table3(f, label):\n",
    "    print('P', 'Q', 'R', label, sep='\\t')\n",
    "    for P in (False, True):\n",
    "        for Q in (False, True):\n",
    "            for R in (False, True):\n",
    "                print(P, Q, R, f(P, Q, R), sep='\\t')"
   ]
  },
  {
   "cell_type": "markdown",
   "metadata": {
    "toc-hr-collapsed": false
   },
   "source": [
    "#### Exercice 1.1 $ \\neg P \\lor (Q \\land R) $"
   ]
  },
  {
   "cell_type": "code",
   "execution_count": 46,
   "metadata": {},
   "outputs": [
    {
     "name": "stdout",
     "output_type": "stream",
     "text": [
      "P\tQ\tR\t¬P∨(Q∧R)\n",
      "False\tFalse\tFalse\tTrue\n",
      "False\tFalse\tTrue\tTrue\n",
      "False\tTrue\tFalse\tTrue\n",
      "False\tTrue\tTrue\tTrue\n",
      "True\tFalse\tFalse\tFalse\n",
      "True\tFalse\tTrue\tFalse\n",
      "True\tTrue\tFalse\tFalse\n",
      "True\tTrue\tTrue\tTrue\n"
     ]
    }
   ],
   "source": [
    "truth_table3(lambda P, Q, R: not P or (Q and R), '¬P∨(Q∧R)')"
   ]
  },
  {
   "cell_type": "markdown",
   "metadata": {},
   "source": [
    "Ce n'est ni une tautologie, ni une antilogie."
   ]
  },
  {
   "cell_type": "markdown",
   "metadata": {},
   "source": [
    "#### Exercice 1.2 $((P \\lor R) \\land Q) \\implies (R \\lor \\neg Q)$"
   ]
  },
  {
   "cell_type": "code",
   "execution_count": 47,
   "metadata": {},
   "outputs": [
    {
     "name": "stdout",
     "output_type": "stream",
     "text": [
      "P\tQ\tR\t((P∨R)∧Q)⟹(R∨¬Q)\n",
      "False\tFalse\tFalse\tTrue\n",
      "False\tFalse\tTrue\tTrue\n",
      "False\tTrue\tFalse\tTrue\n",
      "False\tTrue\tTrue\tTrue\n",
      "True\tFalse\tFalse\tTrue\n",
      "True\tFalse\tTrue\tTrue\n",
      "True\tTrue\tFalse\tFalse\n",
      "True\tTrue\tTrue\tTrue\n"
     ]
    }
   ],
   "source": [
    "truth_table3(lambda P, Q, R: imp((P or R) and Q, R or not Q), '((P∨R)∧Q)⟹(R∨¬Q)')"
   ]
  },
  {
   "cell_type": "markdown",
   "metadata": {},
   "source": [
    "Ce n'est ni une tautologie, ni une antilogie."
   ]
  },
  {
   "cell_type": "markdown",
   "metadata": {},
   "source": [
    "#### Exercie 1.3 $(P \\implies Q) \\land (P \\land \\neg Q)$"
   ]
  },
  {
   "cell_type": "code",
   "execution_count": 48,
   "metadata": {},
   "outputs": [
    {
     "name": "stdout",
     "output_type": "stream",
     "text": [
      "P\tQ\t(P⟹Q)∧(P∧¬Q)\n",
      "False\tFalse\tFalse\n",
      "False\tTrue\tFalse\n",
      "True\tFalse\tFalse\n",
      "True\tTrue\tFalse\n"
     ]
    }
   ],
   "source": [
    "truth_table(lambda P, Q: (imp(P, Q) and (P and not Q)), '(P⟹Q)∧(P∧¬Q)')"
   ]
  },
  {
   "cell_type": "markdown",
   "metadata": {},
   "source": [
    "C'est une antilogie."
   ]
  },
  {
   "cell_type": "markdown",
   "metadata": {
    "toc-hr-collapsed": true
   },
   "source": [
    "### Exercice 2 - synonyme ou non ?"
   ]
  },
  {
   "cell_type": "markdown",
   "metadata": {},
   "source": [
    "Sachant que $P$, $Q$ et $R$ sont des propositions, déterminer si les propositions écrites sur une même ligne sont synonymes ou non."
   ]
  },
  {
   "cell_type": "markdown",
   "metadata": {},
   "source": [
    "#### Exercice 2.1 - L'implication est-elle associative ?\n",
    "Déterminer si $P \\implies (Q \\implies R)$ et $(P \\implies Q) \\implies R$ sont synonymes."
   ]
  },
  {
   "cell_type": "code",
   "execution_count": 49,
   "metadata": {},
   "outputs": [
    {
     "name": "stdout",
     "output_type": "stream",
     "text": [
      "P\tQ\tR\tP⟹(Q⟹R)\n",
      "False\tFalse\tFalse\tTrue\n",
      "False\tFalse\tTrue\tTrue\n",
      "False\tTrue\tFalse\tTrue\n",
      "False\tTrue\tTrue\tTrue\n",
      "True\tFalse\tFalse\tTrue\n",
      "True\tFalse\tTrue\tTrue\n",
      "True\tTrue\tFalse\tFalse\n",
      "True\tTrue\tTrue\tTrue\n"
     ]
    }
   ],
   "source": [
    "truth_table3(lambda P, Q, R: imp(P, imp(Q, R)), 'P⟹(Q⟹R)')"
   ]
  },
  {
   "cell_type": "code",
   "execution_count": 50,
   "metadata": {},
   "outputs": [
    {
     "name": "stdout",
     "output_type": "stream",
     "text": [
      "P\tQ\tR\t(P⟹Q)⟹R)\n",
      "False\tFalse\tFalse\tFalse\n",
      "False\tFalse\tTrue\tTrue\n",
      "False\tTrue\tFalse\tFalse\n",
      "False\tTrue\tTrue\tTrue\n",
      "True\tFalse\tFalse\tTrue\n",
      "True\tFalse\tTrue\tTrue\n",
      "True\tTrue\tFalse\tFalse\n",
      "True\tTrue\tTrue\tTrue\n"
     ]
    }
   ],
   "source": [
    "truth_table3(lambda P, Q, R: imp(imp(P, Q), R), '(P⟹Q)⟹R)')"
   ]
  },
  {
   "cell_type": "markdown",
   "metadata": {},
   "source": [
    "Les deux propositions ne sont pas des synonymes. L'implication n'est pas une opération associative."
   ]
  },
  {
   "cell_type": "markdown",
   "metadata": {},
   "source": [
    "#### Exercice 2.2 - L'implication est-elle distributive sur la conjonction ?\n",
    "Déterminer si $P \\implies (Q \\land R)$ et $(P \\implies Q) \\land (P \\implies R)$ sont des synonymes."
   ]
  },
  {
   "cell_type": "code",
   "execution_count": 51,
   "metadata": {},
   "outputs": [
    {
     "name": "stdout",
     "output_type": "stream",
     "text": [
      "P\tQ\tR\tP⟹(Q∧R)\n",
      "False\tFalse\tFalse\tTrue\n",
      "False\tFalse\tTrue\tTrue\n",
      "False\tTrue\tFalse\tTrue\n",
      "False\tTrue\tTrue\tTrue\n",
      "True\tFalse\tFalse\tFalse\n",
      "True\tFalse\tTrue\tFalse\n",
      "True\tTrue\tFalse\tFalse\n",
      "True\tTrue\tTrue\tTrue\n"
     ]
    }
   ],
   "source": [
    "truth_table3(lambda P, Q, R: imp(P, Q and R), 'P⟹(Q∧R)')"
   ]
  },
  {
   "cell_type": "code",
   "execution_count": 52,
   "metadata": {},
   "outputs": [
    {
     "name": "stdout",
     "output_type": "stream",
     "text": [
      "P\tQ\tR\t(P⟹Q)∧(P⟹R)\n",
      "False\tFalse\tFalse\tTrue\n",
      "False\tFalse\tTrue\tTrue\n",
      "False\tTrue\tFalse\tTrue\n",
      "False\tTrue\tTrue\tTrue\n",
      "True\tFalse\tFalse\tFalse\n",
      "True\tFalse\tTrue\tFalse\n",
      "True\tTrue\tFalse\tFalse\n",
      "True\tTrue\tTrue\tTrue\n"
     ]
    }
   ],
   "source": [
    "truth_table3(lambda P, Q, R: imp(P, Q) and imp(P, R), '(P⟹Q)∧(P⟹R)')"
   ]
  },
  {
   "cell_type": "markdown",
   "metadata": {},
   "source": [
    "Les deux propositions sont des synonymes. L'implication est distributive sur la conjonction."
   ]
  },
  {
   "cell_type": "markdown",
   "metadata": {},
   "source": [
    "#### Exercice 2.3 - L'implication est-elle distributive sur la disjonction ?\n",
    "Déterminer si $P \\implies (Q \\lor R)$ et $(P \\implies Q) \\lor (P \\implies R)$ sont des synonymes."
   ]
  },
  {
   "cell_type": "code",
   "execution_count": 53,
   "metadata": {},
   "outputs": [
    {
     "name": "stdout",
     "output_type": "stream",
     "text": [
      "P\tQ\tR\tP⟹(Q∨R)\n",
      "False\tFalse\tFalse\tTrue\n",
      "False\tFalse\tTrue\tTrue\n",
      "False\tTrue\tFalse\tTrue\n",
      "False\tTrue\tTrue\tTrue\n",
      "True\tFalse\tFalse\tFalse\n",
      "True\tFalse\tTrue\tTrue\n",
      "True\tTrue\tFalse\tTrue\n",
      "True\tTrue\tTrue\tTrue\n"
     ]
    }
   ],
   "source": [
    "truth_table3(lambda P, Q, R: imp(P, Q or R), 'P⟹(Q∨R)')"
   ]
  },
  {
   "cell_type": "code",
   "execution_count": 54,
   "metadata": {},
   "outputs": [
    {
     "name": "stdout",
     "output_type": "stream",
     "text": [
      "P\tQ\tR\t(P⟹Q)∨(P⟹R)\n",
      "False\tFalse\tFalse\tTrue\n",
      "False\tFalse\tTrue\tTrue\n",
      "False\tTrue\tFalse\tTrue\n",
      "False\tTrue\tTrue\tTrue\n",
      "True\tFalse\tFalse\tFalse\n",
      "True\tFalse\tTrue\tTrue\n",
      "True\tTrue\tFalse\tTrue\n",
      "True\tTrue\tTrue\tTrue\n"
     ]
    }
   ],
   "source": [
    "truth_table3(lambda P, Q, R: imp(P, Q) or imp(P, R), '(P⟹Q)∨(P⟹R)')"
   ]
  },
  {
   "cell_type": "markdown",
   "metadata": {},
   "source": [
    "Les deux propositions sont des synonymes. L'implication est distributive sur la disjonction."
   ]
  },
  {
   "cell_type": "code",
   "execution_count": null,
   "metadata": {},
   "outputs": [],
   "source": []
  }
 ],
 "metadata": {
  "kernelspec": {
   "display_name": "Python 3",
   "language": "python",
   "name": "python3"
  },
  "language_info": {
   "codemirror_mode": {
    "name": "ipython",
    "version": 3
   },
   "file_extension": ".py",
   "mimetype": "text/x-python",
   "name": "python",
   "nbconvert_exporter": "python",
   "pygments_lexer": "ipython3",
   "version": "3.6.5"
  }
 },
 "nbformat": 4,
 "nbformat_minor": 2
}
