{
 "cells": [
  {
   "cell_type": "markdown",
   "metadata": {},
   "source": [
    "# Raspberry Pi"
   ]
  },
  {
   "cell_type": "markdown",
   "metadata": {},
   "source": [
    "* Le Raspberry Pi est un nano-ordinateur monocarte à processeur ARM de la taille d'une carte de crédit permettant l'exécution de plusieurs variantes du système d'exploitation libre Linux, dont Debian. (Nous avons utilisé Raspbian, la version de Debian optimisée pour Raspberry Pi.) Mais il fonctionne également avec Microsoft Windows et sur Android. \n",
    "\n",
    "![Image of Logo](https://github.com/Bugnon/oc-2018/blob/master/exam/img/logo.png?raw=true)\n",
    "\n",
    "\n",
    "\n",
    "\n"
   ]
  },
  {
   "cell_type": "markdown",
   "metadata": {},
   "source": [
    "\n",
    "* Le Raspberry Pi, lorsqu'on l'achète, ne comprend que la carte mère, sans boîtier, sans écran et sans cable d'alimentation. \n",
    "![Image of Raspberry](https://github.com/Bugnon/oc-2018/blob/master/exam/img/carteraspberry-2.jpg?raw=true)"
   ]
  },
  {
   "cell_type": "markdown",
   "metadata": {},
   "source": [
    "* L'utilisateur peut, s'il le souhaîte, se procurer des \"kits\" comprennant tout ce qu'il lui faut: un boîtier, un câble d'alimentation, une carte SD, etc."
   ]
  },
  {
   "cell_type": "markdown",
   "metadata": {},
   "source": [
    "# Raspbian\n",
    "\n",
    "* Comme dit plus haut, le système d'exploitation libre que nous avons utilisé est Raspbian (contraction de Raspberry et Debian). Raspbian est foruni avec plusieurs environnements de programmation, mais celui que nous avons privilégié est Python 3."
   ]
  },
  {
   "cell_type": "markdown",
   "metadata": {},
   "source": [
    "* Raspbian dispose d'un environnement de bureau par défaut, PIXEL (Pi Improved Xwindows Environment, Lightweight) et d'un navigateur par défaut, Chromium. Les ressources du nano-ordinateur étant limitées, ce genre de logiciels \"légers\" est préférable.\n",
    "\n",
    "![Image of Pixel](https://github.com/Bugnon/oc-2018/blob/master/exam/img/chromium.png?raw=true)"
   ]
  },
  {
   "cell_type": "markdown",
   "metadata": {},
   "source": [
    "# GPIO (General Purpose Input/Output)\n",
    "\n",
    "* Le Raspberry Pi dispose de ports entrées-sorties, appelés GPIO. Ceux-ci offrent au nano-ordinateur la possibilité de communiquer avec des circuits externes et des composants électroniques, des capteurs par exemple. 26 broches, parmi les 40, peuvent jouer le rôle d'entrée et recevoir un signal, ou le rôle de sortie et émettre un signal. Elles ne fonctionnent qu'en tout ou rien, 0 ou 1. Des limitations quant à la consommation de courant de ces entrées sorties existent. Voici un schéma comprennant les intitulés des broches:\n",
    "\n",
    "![Image of GPIO](https://github.com/Bugnon/oc-2018/blob/master/exam/img/Raspberry-GPIO.jpg?raw=true)"
   ]
  },
  {
   "cell_type": "markdown",
   "metadata": {},
   "source": [
    "# Sense Hat et LEDs\n",
    "\n",
    "* Le Sense HAT est une carte additionnelle du Raspberry PI permettant de capter des informations telles que la température, l'humidité, l'orientation et la pression, pour ensuite exprimer ces données grâce aux LEDs qui s'y trouvent. Un joystick se trouve également sur la carte, ce qui nous a été utile lors de la création de jeux en classe.\n",
    "\n",
    "![Image of SenseHat](https://github.com/Bugnon/oc-2018/blob/master/exam/img/Sense-HAT-plugged-in-1-500x390.jpg?raw=true)\n"
   ]
  },
  {
   "cell_type": "markdown",
   "metadata": {},
   "source": [
    "# Capteurs\n",
    "\n",
    "* Il existe 3 types de capteurs compatibles avec les nano-ordinateurs comme le Raspberry PI : les capteurs d'environnement (pression, UV, température, etc.), les capteurs de mouvement (ultrason, détecteur d'obstacle, accéléromètre, etc) et les capteurs d'interaction humaine (caméra thermique, capteur de plusations, lecteur d'empreinte digitale, etc)\n",
    "\n",
    "![Image of sensors](https://raw.githubusercontent.com/Bugnon/oc-2018/master/exam/img/sensors.jp2)"
   ]
  },
  {
   "cell_type": "markdown",
   "metadata": {},
   "source": [
    "## Sources \n",
    "\n",
    "* https://www.raspberrypi.org/documentation/raspbian/\n",
    "* https://fr.wikipedia.org/wiki/Raspbian\n",
    "* https://projects.raspberrypi.org/en/projects/getting-started-with-the-sense-hat/12\n",
    "* https://fr.wikipedia.org/wiki/General_Purpose_Input/Output\n",
    "* https://www.raspberrypi.org/documentation/usage/gpio/\n",
    "* http://www.lafabriquediy.com/tutoriel/liste-des-capteurs-229/\n",
    "* https://fr.wikipedia.org/wiki/Raspberry_Pi#Système_d'exploitation\n"
   ]
  }
 ],
 "metadata": {
  "kernelspec": {
   "display_name": "Python 3",
   "language": "python",
   "name": "python3"
  },
  "language_info": {
   "codemirror_mode": {
    "name": "ipython",
    "version": 3
   },
   "file_extension": ".py",
   "mimetype": "text/x-python",
   "name": "python",
   "nbconvert_exporter": "python",
   "pygments_lexer": "ipython3",
   "version": "3.7.3"
  }
 },
 "nbformat": 4,
 "nbformat_minor": 2
}
