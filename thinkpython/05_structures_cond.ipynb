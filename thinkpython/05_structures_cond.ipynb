{
 "cells": [
  {
   "cell_type": "markdown",
   "metadata": {},
   "source": [
    "# Structures conditionnelles"
   ]
  },
  {
   "cell_type": "markdown",
   "metadata": {},
   "source": [
    "Le sujet de ce chapitre est l'exécution conditionnelle. Elle représente un choix ou une bifurcation dans la séquence des instructions. Toutes les langues de programmation connaissent une structure `if - else` pour exécuter une instruction ou une autre."
   ]
  },
  {
   "cell_type": "markdown",
   "metadata": {},
   "source": [
    "## Division entière et modulo"
   ]
  },
  {
   "cell_type": "markdown",
   "metadata": {},
   "source": [
    "L'opérateur de **division** `/` retourne un résultat en virgule flottante. "
   ]
  },
  {
   "cell_type": "code",
   "execution_count": 1,
   "metadata": {},
   "outputs": [
    {
     "data": {
      "text/plain": [
       "1.75"
      ]
     },
     "execution_count": 1,
     "metadata": {},
     "output_type": "execute_result"
    }
   ],
   "source": [
    "minutes = 105\n",
    "minutes / 60"
   ]
  },
  {
   "cell_type": "markdown",
   "metadata": {},
   "source": [
    "L'opérateur de **division entière** `//` retourne uniquement la partie entière de la division. L'opérateur **modulo** `%` en fournit le reste (entier) de la division. "
   ]
  },
  {
   "cell_type": "code",
   "execution_count": 3,
   "metadata": {},
   "outputs": [
    {
     "data": {
      "text/plain": [
       "(1, 45)"
      ]
     },
     "execution_count": 3,
     "metadata": {},
     "output_type": "execute_result"
    }
   ],
   "source": [
    "(minutes // 60, minutes % 60)"
   ]
  },
  {
   "cell_type": "markdown",
   "metadata": {},
   "source": [
    "L'opérateur modulo permet une **incrémentation ou décrémentation cyclique**."
   ]
  },
  {
   "cell_type": "code",
   "execution_count": 1,
   "metadata": {},
   "outputs": [
    {
     "name": "stdout",
     "output_type": "stream",
     "text": [
      "2, 3, 0, 1, "
     ]
    }
   ],
   "source": [
    "x = 1\n",
    "for i in range(4):\n",
    "    x = (x+1)%4\n",
    "    print(x, end=', ')"
   ]
  },
  {
   "cell_type": "code",
   "execution_count": 3,
   "metadata": {},
   "outputs": [
    {
     "name": "stdout",
     "output_type": "stream",
     "text": [
      "2, 1, 0, 3, 2, 1, 0, 3, 2, 1, "
     ]
    }
   ],
   "source": [
    "x = 3\n",
    "for i in range(10):\n",
    "    x = (x-1)%4\n",
    "    print(x, end=', ')"
   ]
  },
  {
   "cell_type": "markdown",
   "metadata": {},
   "source": [
    "L'opérateur modulo permet également de tester si un nombre x est divisible par y. Si c'est le cas l'expression `x % y` donne zéro."
   ]
  },
  {
   "cell_type": "code",
   "execution_count": 14,
   "metadata": {},
   "outputs": [
    {
     "data": {
      "text/plain": [
       "2"
      ]
     },
     "execution_count": 14,
     "metadata": {},
     "output_type": "execute_result"
    }
   ],
   "source": [
    "x = 5\n",
    "x % 3"
   ]
  },
  {
   "cell_type": "markdown",
   "metadata": {},
   "source": [
    "L'opérateur **modulo** permet d'extraire des chiffres dans la représentation décimale."
   ]
  },
  {
   "cell_type": "code",
   "execution_count": 16,
   "metadata": {},
   "outputs": [
    {
     "data": {
      "text/plain": [
       "(4, 34)"
      ]
     },
     "execution_count": 16,
     "metadata": {},
     "output_type": "execute_result"
    }
   ],
   "source": [
    "x = 1234\n",
    "(x % 10, x % 100)"
   ]
  },
  {
   "cell_type": "markdown",
   "metadata": {},
   "source": [
    "## Expressions booléennes"
   ]
  },
  {
   "cell_type": "markdown",
   "metadata": {},
   "source": [
    "Une expression booléenne est une expression qui est soit vraie, soit fausse. Il existent 6 opérateurs de comparaison:\n",
    "* `==` égale\n",
    "* `!=` inégale\n",
    "* `<`  plus petit\n",
    "* `<=` plus petit ou égale\n",
    "* `>=` plus grand ou égale\n",
    "* `>`  plus grand"
   ]
  },
  {
   "cell_type": "code",
   "execution_count": 18,
   "metadata": {},
   "outputs": [
    {
     "data": {
      "text/plain": [
       "(True, True, False, True, False, False)"
      ]
     },
     "execution_count": 18,
     "metadata": {},
     "output_type": "execute_result"
    }
   ],
   "source": [
    "a = 2\n",
    "b = 3\n",
    "(a < b, a <= b, a == b, a != b, a >= b, a > b)"
   ]
  },
  {
   "cell_type": "markdown",
   "metadata": {},
   "source": [
    "Voici les même opérations de comparaison avec deux valeurs `a` et `b` différentes."
   ]
  },
  {
   "cell_type": "code",
   "execution_count": 19,
   "metadata": {},
   "outputs": [
    {
     "data": {
      "text/plain": [
       "(False, True, True, False, True, False)"
      ]
     },
     "execution_count": 19,
     "metadata": {},
     "output_type": "execute_result"
    }
   ],
   "source": [
    "a = 3\n",
    "b = 3\n",
    "(a < b, a <= b, a == b, a != b, a >= b, a > b)"
   ]
  },
  {
   "cell_type": "markdown",
   "metadata": {},
   "source": [
    "`True` et `False` sont des valeurs particuliers qui appartiennent au type `bool`"
   ]
  },
  {
   "cell_type": "code",
   "execution_count": 23,
   "metadata": {},
   "outputs": [
    {
     "data": {
      "text/plain": [
       "(bool, bool, bool)"
      ]
     },
     "execution_count": 23,
     "metadata": {},
     "output_type": "execute_result"
    }
   ],
   "source": [
    "(type(True), type(False), type(a == b))"
   ]
  },
  {
   "cell_type": "code",
   "execution_count": 21,
   "metadata": {},
   "outputs": [
    {
     "data": {
      "text/plain": [
       "bool"
      ]
     },
     "execution_count": 21,
     "metadata": {},
     "output_type": "execute_result"
    }
   ],
   "source": [
    "type(False)"
   ]
  },
  {
   "cell_type": "markdown",
   "metadata": {},
   "source": [
    "Il faut faire attention de ne pas confondre l'opérateur d'affectation `=` avec l'opérateur de comparaison `==`.\n",
    "\n",
    "Directement après un `if` il faut toujours utilise la comparaison `==`."
   ]
  },
  {
   "cell_type": "code",
   "execution_count": 10,
   "metadata": {},
   "outputs": [],
   "source": [
    "a = 2\n",
    "if a==0:\n",
    "    a = 10"
   ]
  },
  {
   "cell_type": "markdown",
   "metadata": {},
   "source": [
    "## Opérateurs logiques"
   ]
  },
  {
   "cell_type": "markdown",
   "metadata": {},
   "source": [
    "Il existent trois opérateurs logiques: `and`, `or` et `not`.\n",
    "\n",
    "\n",
    "Définission une intervalle **[a, b]** à l'aide d'un tuple **(a, b)**. Cette façon permet d'affecter deux valeurs à deux variables simultanément sur une seule ligne."
   ]
  },
  {
   "cell_type": "code",
   "execution_count": 11,
   "metadata": {},
   "outputs": [],
   "source": [
    "(a, b) = (5, 10)"
   ]
  },
  {
   "cell_type": "markdown",
   "metadata": {},
   "source": [
    "Pour verifier $x \\in [a, b]$ on doit faire deux comparaisons. Voici un exemple pour x dans la plage."
   ]
  },
  {
   "cell_type": "code",
   "execution_count": 12,
   "metadata": {},
   "outputs": [
    {
     "data": {
      "text/plain": [
       "True"
      ]
     },
     "execution_count": 12,
     "metadata": {},
     "output_type": "execute_result"
    }
   ],
   "source": [
    "x = 7\n",
    "(a<=x) and (x<=b)"
   ]
  },
  {
   "cell_type": "markdown",
   "metadata": {},
   "source": [
    "Et un deuxième exemple avec $x$ en dehors de la plage."
   ]
  },
  {
   "cell_type": "code",
   "execution_count": 13,
   "metadata": {},
   "outputs": [
    {
     "data": {
      "text/plain": [
       "False"
      ]
     },
     "execution_count": 13,
     "metadata": {},
     "output_type": "execute_result"
    }
   ],
   "source": [
    "x = 12\n",
    "(a<=x) and (x<=b)"
   ]
  },
  {
   "cell_type": "markdown",
   "metadata": {},
   "source": [
    "Tester si un nombre est divisible par 3 ou 5."
   ]
  },
  {
   "cell_type": "code",
   "execution_count": 24,
   "metadata": {},
   "outputs": [
    {
     "data": {
      "text/plain": [
       "False"
      ]
     },
     "execution_count": 24,
     "metadata": {},
     "output_type": "execute_result"
    }
   ],
   "source": [
    "x = 14\n",
    "(x%3)==0 or (x%5)==0"
   ]
  },
  {
   "cell_type": "code",
   "execution_count": 25,
   "metadata": {},
   "outputs": [
    {
     "data": {
      "text/plain": [
       "True"
      ]
     },
     "execution_count": 25,
     "metadata": {},
     "output_type": "execute_result"
    }
   ],
   "source": [
    "x = 15\n",
    "(x%3)==0 or (x%5)==0"
   ]
  },
  {
   "cell_type": "markdown",
   "metadata": {},
   "source": [
    "## Exécution conditionnelle"
   ]
  },
  {
   "cell_type": "markdown",
   "metadata": {},
   "source": [
    "L'instruction conditionnel permet d'executer une instruction si une certaine condition est vraie."
   ]
  },
  {
   "cell_type": "markdown",
   "metadata": {},
   "source": [
    "**Exercice 1**: Imprimer les entiers plus petits que 20 qui se trouvent dans l'intervalle $[a, b]$."
   ]
  },
  {
   "cell_type": "code",
   "execution_count": 20,
   "metadata": {},
   "outputs": [
    {
     "name": "stdout",
     "output_type": "stream",
     "text": [
      "5, 6, 7, 8, 9, 10, "
     ]
    }
   ],
   "source": [
    "(a, b) = (5, 10)\n",
    "for x in range (20):\n",
    "    if (a<=x) and (x<=b):\n",
    "        print(x, end=', ')"
   ]
  },
  {
   "cell_type": "markdown",
   "metadata": {},
   "source": [
    "**Exercice 2**: Imprimer les entiers plus petits que 20 qui se trouvent en dehors l'intervalle $[a, b]$."
   ]
  },
  {
   "cell_type": "code",
   "execution_count": 21,
   "metadata": {},
   "outputs": [
    {
     "name": "stdout",
     "output_type": "stream",
     "text": [
      "0, 1, 2, 3, 4, 11, 12, 13, 14, 15, 16, 17, 18, 19, "
     ]
    }
   ],
   "source": [
    "(a, b) = (5, 10)\n",
    "for x in range (20):\n",
    "    if (x<a) or (x>b):\n",
    "        print(x, end=', ')"
   ]
  },
  {
   "cell_type": "markdown",
   "metadata": {},
   "source": [
    "**Exercice 3**: Imprimer les entiers plus petits que 20 qui sont divisible par 3 ou 7."
   ]
  },
  {
   "cell_type": "code",
   "execution_count": 23,
   "metadata": {},
   "outputs": [
    {
     "name": "stdout",
     "output_type": "stream",
     "text": [
      "0, 3, 6, 7, 9, 12, 14, 15, 18, "
     ]
    }
   ],
   "source": [
    "(a, b) = (3, 7)\n",
    "for i in range (20):\n",
    "    if (i%a)==0 or (i%b)==0:\n",
    "        print(i, end=', ')"
   ]
  },
  {
   "cell_type": "markdown",
   "metadata": {},
   "source": [
    "Les instructions `if` et `for` ont la même structure que la définition de fonction:\n",
    "* mot-clé (if, def)\n",
    "* condition, itération ou nom de fonction\n",
    "* terminé par un deux-points `:`\n",
    "* un corps indenté de 1 ou plusieurs lignes\n",
    "\n",
    "```\n",
    "if cond:\n",
    "    exp1\n",
    "    exp2\n",
    "    \n",
    "for i in range():\n",
    "    exp1\n",
    "    exp2\n",
    "    \n",
    "def fonc(args):\n",
    "    exp1\n",
    "    exp2\n",
    "```"
   ]
  },
  {
   "cell_type": "markdown",
   "metadata": {},
   "source": [
    "Il n'y pas de limites sur le nombre d'instruction dans le corps, mais il doit en avoir au moins une. Parfois l'instruction `pass` est utilisé pour reserver de la place (et l'implémenter plus tard)."
   ]
  },
  {
   "cell_type": "code",
   "execution_count": 46,
   "metadata": {},
   "outputs": [],
   "source": [
    "if (x>0):\n",
    "    pass # implement later\n",
    "\n",
    "def f(x):\n",
    "    pass # implement later\n",
    "\n",
    "for x in range(3):\n",
    "    pass # implement later"
   ]
  },
  {
   "cell_type": "markdown",
   "metadata": {},
   "source": [
    "Il est également possible de définir une fonction à l'intérieur d'une fonction. Elle sera donc pas visible de l'exterieur."
   ]
  },
  {
   "cell_type": "code",
   "execution_count": 7,
   "metadata": {},
   "outputs": [],
   "source": [
    "def f(x):\n",
    "    def g(x):\n",
    "        print('g', x)\n",
    "        return x*2\n",
    "    return g(x)\n"
   ]
  },
  {
   "cell_type": "code",
   "execution_count": 8,
   "metadata": {},
   "outputs": [
    {
     "name": "stdout",
     "output_type": "stream",
     "text": [
      "g 2\n"
     ]
    },
    {
     "data": {
      "text/plain": [
       "4"
      ]
     },
     "execution_count": 8,
     "metadata": {},
     "output_type": "execute_result"
    }
   ],
   "source": [
    "f(2)"
   ]
  },
  {
   "cell_type": "markdown",
   "metadata": {},
   "source": [
    "## Exécution alternative"
   ]
  },
  {
   "cell_type": "markdown",
   "metadata": {},
   "source": [
    "L'instruction `if` peut être suivi de l'instruction `else` pour executer un bloc alternatif. Cette forme est aussi appelée **branchement**, puisque soit _exp1_ soit _exp2_ est executé.\n",
    "```\n",
    "if cond:\n",
    "    exp1\n",
    "else:\n",
    "    exp2\n",
    "```"
   ]
  },
  {
   "cell_type": "code",
   "execution_count": 48,
   "metadata": {},
   "outputs": [
    {
     "name": "stdout",
     "output_type": "stream",
     "text": [
      "0 est pair\n",
      "1 est impair\n",
      "2 est pair\n",
      "3 est impair\n",
      "4 est pair\n",
      "5 est impair\n",
      "6 est pair\n",
      "7 est impair\n"
     ]
    }
   ],
   "source": [
    "for i in range(8):\n",
    "    if (i%2)==0:\n",
    "        print(i, 'est pair')\n",
    "    else:\n",
    "        print(i, 'est impair')"
   ]
  },
  {
   "cell_type": "markdown",
   "metadata": {},
   "source": [
    "## Conditions enchainées"
   ]
  },
  {
   "cell_type": "markdown",
   "metadata": {},
   "source": [
    "Parfois, il a plus que deux possibilités. Alors on utilise la structure `if-elif-else`. `elif` est la contraction de **else if**. Il n'y a pas de limite sur le nombre de branches **elif**. La branche **else** vient à la fin et elle est optionnelle.\n",
    "\n",
    "```\n",
    "if cond1:\n",
    "    exp1\n",
    "elif cond2:\n",
    "    exp2\n",
    "else:\n",
    "    exp3\n",
    "```"
   ]
  },
  {
   "cell_type": "code",
   "execution_count": 55,
   "metadata": {},
   "outputs": [
    {
     "name": "stdout",
     "output_type": "stream",
     "text": [
      "0 is smaller than x\n",
      "1 is smaller than x\n",
      "2 is the same as x\n",
      "3 is bigger than x\n",
      "4 is bigger than x\n"
     ]
    }
   ],
   "source": [
    "x = 2\n",
    "for i in range(5):\n",
    "    if (i<x):\n",
    "        print(i, 'is smaller than x')\n",
    "    elif (i>x):\n",
    "        print(i, 'is bigger than x')\n",
    "    else:\n",
    "        print(i, 'is the same as x')"
   ]
  },
  {
   "cell_type": "markdown",
   "metadata": {},
   "source": [
    "## Conditions imbriquées"
   ]
  },
  {
   "cell_type": "markdown",
   "metadata": {},
   "source": [
    "Les structure conditionnelles peuvent être imbriquées. Le programme précédent peut être écrit comme ci-dessous, avec \n",
    "* un bloc **for** indenté 1 fois\n",
    "* un bloc **if** indenté 2 fois\n",
    "* un bloc **else** indenté 2 fois,\n",
    "* un deuxième bloc **if** indenté 3 fois\n",
    "* un deuxième bloc **else** indenté 3 fois."
   ]
  },
  {
   "cell_type": "code",
   "execution_count": 54,
   "metadata": {},
   "outputs": [
    {
     "name": "stdout",
     "output_type": "stream",
     "text": [
      "0 is smaller than x\n",
      "1 is smaller than x\n",
      "2 is the same as x\n",
      "3 is bigger than x\n",
      "4 is bigger than x\n"
     ]
    }
   ],
   "source": [
    "x = 2\n",
    "for i in range(5):\n",
    "    if (i<x):\n",
    "        print(i, 'is smaller than x')\n",
    "    else:\n",
    "        if (i>x):\n",
    "            print(i, 'is bigger than x')\n",
    "        else:\n",
    "            print(i, 'is the same as x')"
   ]
  },
  {
   "cell_type": "code",
   "execution_count": null,
   "metadata": {},
   "outputs": [],
   "source": []
  }
 ],
 "metadata": {
  "kernelspec": {
   "display_name": "Python 3",
   "language": "python",
   "name": "python3"
  },
  "language_info": {
   "codemirror_mode": {
    "name": "ipython",
    "version": 3
   },
   "file_extension": ".py",
   "mimetype": "text/x-python",
   "name": "python",
   "nbconvert_exporter": "python",
   "pygments_lexer": "ipython3",
   "version": "3.7.0"
  },
  "toc": {
   "base_numbering": 1,
   "nav_menu": {},
   "number_sections": true,
   "sideBar": true,
   "skip_h1_title": false,
   "title_cell": "Table of Contents",
   "title_sidebar": "Contents",
   "toc_cell": false,
   "toc_position": {},
   "toc_section_display": true,
   "toc_window_display": true
  }
 },
 "nbformat": 4,
 "nbformat_minor": 2
}
