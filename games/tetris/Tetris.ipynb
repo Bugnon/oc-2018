{
 "cells": [
  {
   "cell_type": "markdown",
   "metadata": {},
   "source": [
    "# Programmer le jeu Tetris avec un SenseHat"
   ]
  },
  {
   "cell_type": "markdown",
   "metadata": {},
   "source": [
    "## Introduction\n",
    "Le jeu Tetris est l'un des tout premiers jeux créés. Il s'agit de briques de différentes formes et longueurs qui descendent toute seule. Le but du jeu est de les empilés de manière méthodique pour former une ligne complète, qui disparaitra. Et ainsi de suite jusqu'à ce qu'une forme soit monté trop haut et ait bloqué l'apparition de la prochaine forme."
   ]
  },
  {
   "cell_type": "markdown",
   "metadata": {},
   "source": [
    "### Importation des modules\n",
    "Nous avons tout d'abord importer les modules utiles à notre jeu. Le module `gamelib` contient toutes les couleurs de base."
   ]
  },
  {
   "cell_type": "code",
   "execution_count": 1,
   "metadata": {},
   "outputs": [
    {
     "name": "stdout",
     "output_type": "stream",
     "text": [
      "module name = gamelib\n"
     ]
    }
   ],
   "source": [
    "from sense_emu import SenseHat\n",
    "from time import sleep, time\n",
    "from random import randint, choice\n",
    "from gamelib import *"
   ]
  },
  {
   "cell_type": "markdown",
   "metadata": {},
   "source": [
    "### Définition des variables propres à notre jeu\n",
    "Voici les variables propres à un jeu comme Tetris ainsi que leur description."
   ]
  },
  {
   "cell_type": "code",
   "execution_count": 26,
   "metadata": {},
   "outputs": [],
   "source": [
    "sense = SenseHat()\n",
    "color = (0, 0, 0) # Définition de la variable color, qui s'adaptera en fonction de la forme.\n",
    "score = 0 # Le score total du joueur (le nombre de ligne complétées)\n",
    "state = 1 # State = 0 quand le jeu est en statique (entre les apparitions de formes) et state = 1 quand il est en dynamique (la forme descend)\n",
    "game = 1 # Game = 1 quand le jeu continue sinon c'est game over\n",
    "dx = 0 # Déplacement sur l'axe X (vers la gauche ou la droite)\n",
    "dy = 0 # Déplacement sur l'axe Y (vers le bas)\n",
    "dt = 1 # Temps entre chaque descente de forme en seconde"
   ]
  },
  {
   "cell_type": "markdown",
   "metadata": {},
   "source": [
    "### Définition des formes dans des matrices\n",
    "L'écran de LED 8x8 étant assez restreint, nous avons décidés de réduire légérement les formes classiques de tetris en 3 formes principales. Ces matrices pourront être retournées pour faire une rotation de la forme par la suite. Dans les matrices, les 1 représentent les formes, donc les pixels allumés."
   ]
  },
  {
   "cell_type": "code",
   "execution_count": 8,
   "metadata": {},
   "outputs": [],
   "source": [
    "# La barre verticale de 3 en cyan\n",
    "I = [[0, 1, 0],\n",
    "     [0, 1, 0],\n",
    "     [0, 1, 0]]\n",
    "\n",
    "# Le L en rouge\n",
    "L = [[1, 0],\n",
    "     [1, 1]]\n",
    "\n",
    "# Le carré 2x2 en jaune\n",
    "o = [[1, 1],\n",
    "     [1, 1]]\n",
    "\n",
    "shapes = (I, L, o) # Liste contenant les 3 formes\n",
    "\n",
    "P = choice(shapes) # Choisit une forme au hasard parmi les trois et la stock dans la variable P\n",
    "\n",
    "if P == L: # Assigne la couleur de la forme choisie à la variable color\n",
    "    color = RED\n",
    "elif P == I:\n",
    "    color = CYAN\n",
    "else:\n",
    "    color = YELLOW"
   ]
  },
  {
   "cell_type": "markdown",
   "metadata": {},
   "source": [
    "### Définition des fonctions\n",
    "#### Faire apparaître la forme\n",
    "Nous arrivons dans la partie la plus compliquée, tout d'abord nous avons créé une fonction qui fait apparaître une forme au hasard en haut au milieu du SenseHat."
   ]
  },
  {
   "cell_type": "code",
   "execution_count": 9,
   "metadata": {},
   "outputs": [],
   "source": [
    "def print_matrix(M):\n",
    "    \"\"\" Print the tetris shape at the top in the middle. \"\"\"\n",
    "    n = len(M)\n",
    "    for y in range(n):\n",
    "        for x in range(n):\n",
    "            if M[y][x] == 1:\n",
    "                sense.set_pixel(3+x, y, color)"
   ]
  },
  {
   "cell_type": "markdown",
   "metadata": {},
   "source": [
    "#### Faire descendre la forme"
   ]
  },
  {
   "cell_type": "markdown",
   "metadata": {},
   "source": [
    "Il nous faut ensuite définir une fonction qui permet à la forme de descendre d'un pixel vers le bas. Cette fonction s'activerai donc toute les secondes automatiquement pour faire descendre la forme. On peut aussi l'activer manuellement pour descendre plus rapidement.\n",
    "Mais avant de faire réapparaître la matrice un cran en dessous, il faut d'abord la faire disparaître où elle est à l'instant."
   ]
  },
  {
   "cell_type": "code",
   "execution_count": 10,
   "metadata": {},
   "outputs": [],
   "source": [
    "def delete_matrix_when_down(M, dx, dy):\n",
    "    \"\"\" Delete the actual shape when it's moving down. \"\"\"\n",
    "    n = len(M)\n",
    "    for y in range(n):  # Set every pixel of the matrix black\n",
    "            for x in range(n):\n",
    "                if 0 <= y+dy <= 7:\n",
    "                    if M[y][x] == 1:\n",
    "                        sense.set_pixel(3+x+dx, y+dy, BLACK) \n",
    "                elif M == [[0, 0, 0], [1, 1, 1], [0, 0, 0]] and y+dy == 8:  # Delete horizontal bar when it's at bottom.\n",
    "                    if M[y][x] == 1:\n",
    "                        sense.set_pixel(3+x+dx, y+dy, BLACK)\n",
    "                else:\n",
    "                    dy -= 1  # If it can't delete the shape, we put dy at same value as before"
   ]
  },
  {
   "cell_type": "markdown",
   "metadata": {},
   "source": [
    "Après avoir défini la fonction qui supprime la matrice quand elle va vers le vas, créons la fonction générale qui fait descendre la forme d'un cran vers le bas."
   ]
  },
  {
   "cell_type": "code",
   "execution_count": 11,
   "metadata": {},
   "outputs": [],
   "source": [
    "def print_matrix_down(M):\n",
    "    \"\"\" Move shape down for 1 tile. \"\"\"\n",
    "    global dx, dy\n",
    "    dy += 1  # Move the matrix one tile downward\n",
    "    n = len(M)\n",
    "    delete_matrix_when_down(M, dx, dy-1)\n",
    "    for y in range(n):  # Print new matrix one tile downward\n",
    "        for x in range(n):\n",
    "            if 0 <= y+dy <= 7:   \n",
    "                if M[y][x] == 1:\n",
    "                    sense.set_pixel(3+x+dx, y+dy, color)\n",
    "            elif M == [[0, 0, 0], [1, 1, 1], [0, 0, 0]] and y+dy == 8:\n",
    "                if M[y][x] == 1:\n",
    "                    sense.set_pixel(3+x+dx, y+dy, color)\n",
    "            else:\n",
    "                state = 0"
   ]
  },
  {
   "cell_type": "markdown",
   "metadata": {},
   "source": [
    "On remarque une chose importante. La forme 'I' est un cas particulier à traiter en parallèle des deux autres formes. En effet si le 'I' est tourné en horizontal, la dernière ligne de la matrice est vide donc on peut descendre d'une case de plus. Nous retrouverons ce cas assez souvent dans les futurs fonctions."
   ]
  },
  {
   "cell_type": "markdown",
   "metadata": {},
   "source": [
<<<<<<< HEAD
    "![matrix](http://localhost:8888/notebooks/games/tetris/img/print_matrix.png)"
   ]
  },
  {
   "cell_type": "markdown",
   "metadata": {},
   "source": [
=======
>>>>>>> c42b832ccc41bd3245de7b97238c1ac735fdd745
    "#### Déplacer la forme à gauche ou à droite"
   ]
  },
  {
   "cell_type": "markdown",
   "metadata": {},
   "source": [
    "Mettons maintenant en place des fonctions qui permettent à la matrice de se déplacer à gauche ou à droite. Ces fonctions seront par la suite activées par le joystick. Malheureusement, les fonctions qui suivent sont compliquées à optimiser à l'aide de sous-fonctions. Ce qui explique la longueur de cette dernière."
   ]
  },
  {
   "cell_type": "code",
   "execution_count": 12,
   "metadata": {},
   "outputs": [],
   "source": [
    "def print_matrix_left(M):\n",
    "    \"\"\" Move shape left for 1 tile. \"\"\"\n",
    "    global dx, dy\n",
    "    dx -= 1\n",
    "    n = len(M)\n",
    "    for y in range(n):  # Stop the shape when it's against another one\n",
    "        if M == [[0, 1, 0], [0, 1, 0], [0, 1, 0]] and -1 <= 3+dx <= 7:\n",
    "            if M[y][1] == 1 and sense.get_pixel(3+dx+1, y+dy)!=[0, 0, 0]:\n",
    "                dx += 1\n",
    "                return ;\n",
    "        elif 0 <= 3+dx <= 7:\n",
    "            if M[y][0] == 1 and sense.get_pixel(3+dx, y+dy) != [0, 0, 0]:\n",
    "                dx += 1\n",
    "                return ;\n",
    "            \n",
    "    for y in range(n):  # Set the pixel of the actual matrix to black (delete it)\n",
    "        for x in range(n):\n",
    "            if 0 <= 3+x+dx <= 7:\n",
    "                if M[y][x] == 1:\n",
    "                    sense.set_pixel(3+x+dx+1, y+dy, BLACK)\n",
    "            elif M == [[0, 1, 0], [0, 1, 0], [0, 1, 0]] and 3+x+dx == -1: # If the 'I' is vertical, it can move one more tile.\n",
    "                if M[y][x] == 1:\n",
    "                    sense.set_pixel(3+x+dx+1, y+dy, BLACK)\n",
    "            else:\n",
    "                dx +=  1\n",
    "    print_new_matix_when_left(M, dx, dy, n)"
   ]
  },
  {
   "cell_type": "code",
   "execution_count": 13,
   "metadata": {},
   "outputs": [],
   "source": [
    "def print_new_matix_when_left(M, dx, dy, n):\n",
    "    \"\"\" Print a new matrix moved to the left. \"\"\"\n",
    "    for y in range(n):  # Print the new matrix one tile leftward\n",
    "        for x in range(n):\n",
    "            if 0 <= 3+x+dx <= 7:\n",
    "                if M[y][x] == 1:\n",
    "                    sense.set_pixel(3+x+dx, y+dy, color)\n",
    "            elif M == [[0, 1, 0], [0, 1, 0], [0, 1, 0]] and 3+x+dx == -1:\n",
    "                if M[y][x] == 1:\n",
    "                    sense.set_pixel(3+x+dx, y+dy, color)"
   ]
  },
  {
   "cell_type": "markdown",
   "metadata": {},
   "source": [
    "Nous retrouvons ici à peu près la même architecture que la fonction précédente, on supprime la forme originelle et on affiche la nouvelle forme décalée. En prenant en compte le cas particulier encore une fois de la barre, qui si elle est droite peut se déplacer d'une case supplémentaire sur les côtés."
   ]
  },
  {
   "cell_type": "markdown",
   "metadata": {},
   "source": [
    "Nous avons ici un problème supplémentaire ; si la forme en rencontre une autre, elle ne peut plus avancer. Il a donc fallu déterminer si des pixels allumés gênaient le passage pour savoir si on pouvait décaler la forme."
   ]
  },
  {
   "cell_type": "markdown",
   "metadata": {},
   "source": [
    "_Note : Nous remarquons qu'une fonction_ `delete_matrix` _générale pour toute les fonctions auraient été pratiques. Hélàs ce n'est pas si simple, cela nous aurait donné une fonction fort pratique mais très longue, ç'aurait été plus problématique que bénéfique. C'est d'ailleurs pour la même raison que nous n'avons pas pu créer de fonction_ `print_matrix` _générale._"
   ]
  },
  {
   "cell_type": "markdown",
   "metadata": {},
   "source": [
    "Voici ensuite la fonction qui déplace la forme vers la droite cette fois-ci. Elle est quasiment identique à `print_matrix_left` à quelques détails près."
   ]
  },
  {
   "cell_type": "code",
   "execution_count": 14,
   "metadata": {},
   "outputs": [],
   "source": [
    "def print_matrix_right(M):\n",
    "    \"\"\" Move shape right for 1 tile. \"\"\"\n",
    "    global dx, dy\n",
    "    dx += 1\n",
    "    n = len(M)\n",
    "    for y in range(n):  # Stop the shape when it's against another one\n",
    "            if M == [[0, 1, 0], [0, 1, 0], [0, 1, 0]] and -1 <= 3+dx <= 6:\n",
    "                if M[y][1] == 1 and sense.get_pixel(3+dx+1, y+dy) != [0, 0, 0]:\n",
    "                    dx -= 1\n",
    "                    return ;\n",
    "            if M == [[0, 0, 0], [1, 1, 1], [0, 0, 0]] and -1 <= 3+dx <= 5:\n",
    "                if M[y][2] == 1 and sense.get_pixel(3+dx+2, y+dy) != [0, 0, 0]:\n",
    "                    dx -= 1\n",
    "                    return ;\n",
    "            elif 0 <= 3+dx <= 6:\n",
    "                if M[y][1] == 1 and sense.get_pixel(3+dx+1, y+dy) != [0, 0, 0]:\n",
    "                    dx -= 1\n",
    "                    return ;\n",
    "                \n",
    "    for y in range(n):  # Set the pixel of the actual matrix to black (delete it)\n",
    "        for x in range(n):\n",
    "            if 0 <= 3+x+dx <= 7:\n",
    "                if M[y][x] == 1:\n",
    "                    sense.set_pixel(3+x+dx-1, y+dy, BLACK)\n",
    "            elif M == [[0, 1, 0], [0, 1, 0], [0, 1, 0]] and 3+x+dx == 8: # If the 'I' is vertical, it can move one more tile.\n",
    "                if M[y][x] == 1:\n",
    "                    sense.set_pixel(3+x+dx-1, y+dy, BLACK)\n",
    "            else:\n",
    "                dx -= 1            \n",
    "    print_new_matix_when_right(M, dx, dy, n)"
   ]
  },
  {
   "cell_type": "code",
   "execution_count": 15,
   "metadata": {},
   "outputs": [],
   "source": [
    "def print_new_matix_when_right(M, dx, dy, n):\n",
    "    \"\"\" Print a new matrix moved to the right. \"\"\"\n",
    "    for y in range(n):  # Print the new matrix one tile rightward\n",
    "        for x in range(n):\n",
    "            if 0 <= 3+x+dx <= 7:\n",
    "                if M[y][x] == 1:\n",
    "                    sense.set_pixel(3+x+dx, y+dy, color)\n",
    "            elif M == [[0, 1, 0], [0, 1, 0], [0, 1, 0]] and 3+x+dx == 8:\n",
    "                if M[y][x] == 1:\n",
    "                    sense.set_pixel(3+x+dx, y+dy, color)"
   ]
  },
  {
   "cell_type": "markdown",
   "metadata": {},
   "source": [
    "![matrix](./img/print_matrix.png)"
   ]
  },
  {
   "cell_type": "markdown",
   "metadata": {},
   "source": [
    "#### Faire tourner la forme sur elle-même"
   ]
  },
  {
   "cell_type": "markdown",
   "metadata": {},
   "source": [
    "Finalement, terminons avec la fonction qui permet de faire tourner les formes. Nous l'avons appelée `rotate_90` car elle exerce une rotation de 90° de la matrice vers la droite.\n",
    "Nous tenons à dire que nous avons essayé de réaliser cette fonction par nous-même pendant longtemps sans succès. Nous avons donc cherché une fonction capable de faire cela sur internet. Une partie de cette fonction (la boucle for) est donc empruntée et n'est pas de nous."
   ]
  },
  {
   "cell_type": "code",
   "execution_count": 20,
   "metadata": {},
   "outputs": [],
   "source": [
    "def print_rotated_matrix(n, matrix):\n",
    "    \"\"\" Print the matrix after the rotation. \"\"\"\n",
    "    for y in range(n): \n",
    "        for x in range(n):\n",
    "            if matrix[y][x] == 1:\n",
    "                sense.set_pixel(3+x+dx, y+dy, color)"
   ]
  },
  {
   "cell_type": "code",
   "execution_count": 21,
   "metadata": {},
   "outputs": [],
   "source": [
    "def rotate_90(matrix):\n",
    "    \"\"\" Turn the shape 90 degrees right. \"\"\"\n",
    "    delete_matrix_when_down(matrix, dx, dy)\n",
    "    n = len(matrix)\n",
    "    for layer in range((n + 1) // 2):  # Rotate the matrix (borrowed on internet)\n",
    "        for index in range(layer, n-1-layer, 1):\n",
    "            matrix[layer][index], matrix[n-1-index][layer], \\\n",
    "                matrix[index][n-1-layer], matrix[n-1-layer][n-1-index] = \\\n",
    "                matrix[n-1-index][layer], matrix[n-1-layer][n-1-index], \\\n",
    "                matrix[layer][index], matrix[index][n-1-layer]\n",
    "    print_rotated_matrix(n, matrix)\n",
    "    return matrix"
   ]
  },
  {
   "cell_type": "markdown",
   "metadata": {},
   "source": [
    "Ici, contrairement aux fonctions `print_matrix_left` et `print_matrix_right`, nous pouvons utiliser la fonction de suppression de la matrice quand on descend. Car cette dernière ne prend en compte aucun cas particulier (une forme est présente sur la gauche/droite, la forme est au bord etc ...). La fonction `print_rotated_matrix` fonctionne exactement de la même manière que les autres."
   ]
  },
  {
   "cell_type": "markdown",
   "metadata": {},
   "source": [
    "#### Supprimer les lignes remplies et incrémenter le score"
   ]
  },
  {
   "cell_type": "markdown",
   "metadata": {},
   "source": [
    "Lorsqu'une forme est déposée, le jeu doit vérifier tout les lignes de pixels, si une ligne est remplie de pixels, alors il la supprime et fait descendre de 1 toute les lignes du dessus. Il faut donc vérifier grâce aux boucles `for` toute la grille."
   ]
  },
  {
   "cell_type": "code",
   "execution_count": 22,
   "metadata": {},
   "outputs": [],
   "source": [
    "def check_if_lines_are_completed():\n",
    "    \"\"\" Check if lines are completed to delete them and increase the score. \"\"\"\n",
    "    global score\n",
    "    for g in range(8):\n",
    "                for i in range(8):\n",
    "                    a = 0\n",
    "                    for j in range(8):\n",
    "                        if sense.get_pixel(7-j, 7-i) != [0, 0, 0]:\n",
    "                            a += 1\n",
    "                            if a == 8:\n",
    "                                score += 1 # Inscrease the score if the line is completed\n",
    "                                delete_lines(i)"
   ]
  },
  {
   "cell_type": "markdown",
   "metadata": {},
   "source": [
    "Après avoir vérifier chaque ligne, s'il y a effectivement une ligne de remplie, nous appelons la fonction `delete_lines` et insérons comme argument le numéro de la ligne à supprimer."
   ]
  },
  {
   "cell_type": "code",
   "execution_count": 23,
   "metadata": {},
   "outputs": [],
   "source": [
    "def delete_lines(i):\n",
    "    \"\"\" Delete completed lines and move every line above one tile downward. \"\"\"\n",
    "    for k in range(8):\n",
    "        sense.set_pixel(k, 7-i, BLACK)\n",
    "    for c in reversed(range(7-i)):\n",
    "        for d in range(8):\n",
    "            sense.set_pixel(d, c+1, (sense.get_pixel(d, c)))\n",
    "            sense.set_pixel(d, c, BLACK)"
   ]
  },
  {
   "cell_type": "markdown",
   "metadata": {},
   "source": [
    "![Lines completed](./img/Lines.png)"
   ]
  },
  {
   "cell_type": "markdown",
   "metadata": {},
   "source": [
    "### Les corps du jeu dans une fonction `main()`\n",
    "Nous entrons dans le coeur du jeu. Avant de développer ce dernier, il faut savoir que pour éviter de mettre 70 lignes de code d'un coup nous l'avons divisé en plusieurs parties. Il faut néanmoins savoir que toute les prochaines parties expliquées sont imbriquées dans une grande fonction `main()` qui permet de recommencer le jeu si on le souhaite."
   ]
  },
  {
   "cell_type": "markdown",
   "metadata": {},
   "source": [
    "Tout d'abord, remettons toute les variables du jeu à zéro et faisons apparaître la première forme."
   ]
  },
  {
   "cell_type": "code",
   "execution_count": 24,
   "metadata": {},
   "outputs": [],
   "source": [
    "def main():\n",
    "    \"\"\" The core of the game. \"\"\"\n",
    "    global x, y, dx, dy, color\n",
    "    \n",
    "    P = choice(shapes)\n",
    "    \n",
    "    if P == L:\n",
    "        color = RED\n",
    "    elif P == I:\n",
    "        color = CYAN\n",
    "    else:\n",
    "        color = YELLOW\n",
    "    \n",
    "    t0 = time()\n",
    "    \n",
    "    game = 1\n",
    "    \n",
    "    state = 1\n",
    "    \n",
    "    print_matrix(P)"
   ]
  },
  {
   "cell_type": "markdown",
   "metadata": {},
   "source": [
    "#### État dynamique (`state = 1`)\n",
    "Juste avant cette étape, nous avons déjà fait apparaître une forme de départ, la variable state commence donc en état dynamique.\n",
    "Le jeu est donc mis par défaut en `state = 1` qui veut dire 'dynamique', la forme peuvent donc descendre."
   ]
  },
  {
   "cell_type": "markdown",
   "metadata": {},
   "source": [
    "##### Le joystick"
   ]
  },
  {
   "cell_type": "markdown",
   "metadata": {},
   "source": [
    "La variable `game` permet au jeu de faire spawn des formes à l'infini jusqu'à ce que le joueur perde et passe la variable en zéro."
   ]
  },
  {
   "cell_type": "code",
   "execution_count": null,
   "metadata": {},
   "outputs": [],
   "source": [
    "    while game == 1:\n",
    "        while state == 1:\n",
    "            for event in sense.stick.get_events():\n",
    "                 if event.action == 'pressed' and event.direction == 'middle':\n",
    "                    if P == [[0, 1, 0], [0, 1, 0], [0, 1, 0]]:\n",
    "                        if dx == -4 or dx == 3:\n",
    "                            pass  # The vertical 'I' can not rotate when it's in the ribbs\n",
    "                        elif sense.get_pixel(3+dx, dy+1) != [0, 0, 0] or sense.get_pixel(3+dx+2, dy+1) != [0, 0, 0]:\n",
    "                            pass\n",
    "                        else:\n",
    "                            rotate_90(P)\n",
    "                    elif P == [[0, 0, 0], [1, 1, 1], [0, 0, 0]]:\n",
    "                        if dy == 6:\n",
    "                            pass  # The horizontal 'I' can not rotate when it's at the bottom\n",
    "                        else:\n",
    "                            rotate_90(P)\n",
    "                    else:\n",
    "                        rotate_90(P)\n",
    "                 elif event.direction == 'down' and event.action == 'pressed':\n",
    "                    print_matrix_down(P)\n",
    "                 elif event.direction == 'left' and event.action == 'pressed':\n",
    "                    print_matrix_left(P)\n",
    "                 elif event.direction == 'right' and event.action == 'pressed':\n",
    "                    print_matrix_right(P)\n",
    "                 elif event.direction == 'up' and event.action == 'held': #If the player wants to leave the game\n",
    "                     game = 0\n",
    "                     state = 0"
   ]
  },
  {
   "cell_type": "markdown",
   "metadata": {},
   "source": [
    "Il s'agit ici de vérifier si le joueur appuie sur le joystick.\n",
    "* Si le bouton est appuyé, il tourne la forme à l'aide de la fonction `rotate_90`, tout en traitant le cas particulier du 'I'. Si ce dernier est vertical est dans le bord, il ne peut pas devenir un 'I' en horizontal. De même que si le 'I' est couché et tout en bas, il ne peut pas de retourner non plus. Ces cas sont donc écarté à l'aide de `pass` qui ne fait rien.\n",
    "* Le bouton du bas permet à la forme de descendre plus vite si le joueur le souhaite.\n",
    "* Le bouton de gauche et de droite sont affectés à leur fonction de déplacement respective.\n",
    "* Si le joueur désire quitter le jeu avant d'avoir fini, il suffit de rester appuyer avec le joystick vers le haut, le jeu quittera alors automatiquement."
   ]
  },
  {
   "cell_type": "markdown",
   "metadata": {},
   "source": [
    "![The I can't rotate](./img/bleu_côté.png)"
   ]
  },
  {
   "cell_type": "markdown",
   "metadata": {},
   "source": [
    "##### Critère pour arrêter la forme et passer en mode statique (ou perdre)"
   ]
  },
  {
   "cell_type": "markdown",
   "metadata": {},
   "source": [
    "Il effectue ensuite un test qui permet de déterminer si la forme est tout en bas (`dy = 6 ou 5` en fonction de la forme). Si c'est le cas, on passe en mode statique (`state = 0`)."
   ]
  },
  {
   "cell_type": "code",
   "execution_count": null,
   "metadata": {},
   "outputs": [],
   "source": [
    "            if P == [[0, 0, 0], [1, 1, 1], [0, 0, 0]] and dy == 6:\n",
    "                state=0\n",
    "            elif P == [[0, 1, 0], [0, 1, 0], [0, 1, 0]] and dy == 5:\n",
    "                state=0\n",
    "            elif P == O and dy == 6:\n",
    "                state=0\n",
    "            elif P == L and dy == 6:\n",
    "                state=0"
   ]
  },
  {
   "cell_type": "markdown",
   "metadata": {},
   "source": [
    "Mais le passage en mode statique n'est pas seulement définit par le fait que la forme touche le sol. La forme doit aussi s'arrêter si elle touche une forme en dessous d'elle."
   ]
  },
  {
   "cell_type": "code",
   "execution_count": null,
   "metadata": {},
   "outputs": [],
   "source": [
    "            n=len(P)\n",
    "            for x in range(n):  # Check if the shape can drop\n",
    "                if P == [[0, 1, 0], [0, 1, 0], [0, 1, 0]] and dy < 5:\n",
    "                    if sense.get_pixel(dx+4, dy+3) != [0, 0, 0]:\n",
    "                        if dy == 0:\n",
    "                            game = 0\n",
    "                        state = 0\n",
    "                elif dy < 6 and P != [[0, 1, 0], [0, 1, 0], [0, 1, 0]]:\n",
    "                    if P[1][x] == 1 and sense.get_pixel(x+dx+3, dy+2) != [0, 0, 0]:\n",
    "                        if dy == 0:  # If the shape is blocked just after spawning, game over\n",
    "                            game = 0\n",
    "                        state = 0"
   ]
  },
  {
   "cell_type": "markdown",
   "metadata": {},
   "source": [
    "#####  Le cas particulier du L"
   ]
  },
  {
   "cell_type": "markdown",
   "metadata": {},
   "source": [
    "Hélàs se présente à nous un autre problème. Non pas concernant le 'I' mais le 'L' cette fois-ci. Le 'L' est la seule forme concave de notre liste, il peut donc s'imbriquer dans d'autre forme."
   ]
  },
  {
   "cell_type": "code",
   "execution_count": null,
   "metadata": {},
   "outputs": [],
   "source": [
    "            Lcomplet = 0  # Check if the shape 'L' is completed by another external pixel, if yes the game is set on static\n",
    "            for x in range (n):\n",
    "                for y in range(n):\n",
    "                    if P == [[1, 1],[0, 1]] or P == [[1, 1],[1, 0]]:\n",
    "                        if sense.get_pixel(x+dx+3, y+dy) != [0, 0, 0]:\n",
    "                            Lcomplet += 1\n",
    "                        if Lcomplet == 4:\n",
    "                            state = 0"
   ]
  },
  {
   "cell_type": "markdown",
   "metadata": {},
   "source": [
    "Nous avons donc procédé de cette manière ; le 'L' s'arrête si un pixel du dessous est autre que noir (bloc de code précédent) OU il s'arrête si les quatre cases de la matrice du L sont remplies."
   ]
  },
  {
   "cell_type": "markdown",
   "metadata": {},
   "source": [
    "![L complet](./img/L_complete.png)"
   ]
  },
  {
   "cell_type": "markdown",
   "metadata": {},
   "source": [
    "##### La descente automatique des formes"
   ]
  },
  {
   "cell_type": "markdown",
   "metadata": {},
   "source": [
    "Le dernier point à traiter est trivial mais l'un des plus important, c'est la descente à chaque `dt` seconde. Nous avons mis en place un test de variable plutôt qu'un `sleep(1)`. Car ce dernier aurait paralysé pendant 1 seconde toute la boucle du state 1 au lieu de continuer en boucle. Cela aurait par exemple eu comme conséquence le fait de ne pouvoir appuyer que sur un bouton par seconde sur le joystick."
   ]
  },
  {
   "cell_type": "code",
   "execution_count": null,
   "metadata": {},
   "outputs": [],
   "source": [
    "            t = time()\n",
    "            if t > t0 + dt:\n",
    "                matrix_print_down(P)\n",
    "                t0 = t"
   ]
  },
  {
   "cell_type": "markdown",
   "metadata": {},
   "source": [
    "####  État statique (`state = 0`)"
   ]
  },
  {
   "cell_type": "markdown",
   "metadata": {},
   "source": [
    "##### Supprimer les lignes remplies\n",
    "La première chose à vérifier lorsqu'une forme a été placée est si une ligne est remplie. Si oui, il la supprime et descend d'un pixel tout ce qu'il y a au dessus. Il se charge également de remettre les variables de déplacement, de temps à zéro. Il fait ensuite apparaître la prochaine forme pour le prochain round."
   ]
  },
  {
   "cell_type": "code",
   "execution_count": null,
   "metadata": {},
   "outputs": [],
   "source": [
    "        while state == 0:\n",
    "\n",
    "            check_if_lines_are_completed()\n",
    "                                        \n",
    "            P = choice(shapes)  # Pick randomly a shape for one round\n",
    "            \n",
    "            if P == L:\n",
    "                color = RED\n",
    "            elif P == I:\n",
    "                color = CYAN\n",
    "            else:\n",
    "                color = YELLOW\n",
    "                \n",
    "            t0 = time()\n",
    "            \n",
    "            dx = 0  # Set back the position where we print the matrix to original settings\n",
    "            dy = 0\n",
    "\n",
    "            print_matrix(P)"
   ]
  },
  {
   "cell_type": "markdown",
   "metadata": {},
   "source": [
    "##### Game over ? Et affichage du score final"
   ]
  },
  {
   "cell_type": "markdown",
   "metadata": {},
   "source": [
    "Avant de relancer le jeu en dynamique, il faut vérifier que game ne soit pas égal à 0, ce qui voudrait dire un game over. La seule manière que game ait été assigné à la valeur 0 se situe dans le critère pour arrêter la forme. Si la forme doit s'arrêter juste après être apparue, c'est game over. (Voir _Critère pour arrêter la forme et passer en mode statique_)"
   ]
  },
  {
   "cell_type": "markdown",
   "metadata": {},
   "source": [
    "Lorsque le joueur a perdu, un message 'Game Over' s'affiche et lui montre son score."
   ]
  },
  {
   "cell_type": "code",
   "execution_count": null,
   "metadata": {},
   "outputs": [],
   "source": [
    "            if game == 0:  # When game is over, displays the score\n",
    "                            sense.show_message('Game over ! Score :', scroll_speed=0.05)\n",
    "                            sense.show_message(str(score), scroll_speed=0.2)\n",
    "                            t0 = time()\n",
    "                            active = True\n",
    "                            while active: # Play again\n",
    "                                sense.show_letter('?')\n",
    "                                for event in sense.stick.get_events():\n",
    "                                    if event.direction == 'middle' and event.action == 'pressed':\n",
    "                                        game = 1\n",
    "                                        active = False\n",
    "                                        sense.clear()\n",
    "                                        main()\n",
    "                                t = time()\n",
    "                                if t > t0 + 3: # After 3 seconds if the player did nothing or press another button, leave the program\n",
    "                                    sense.clear()\n",
    "                                    return ;\n",
    "                        else:\n",
    "                            state = 1"
   ]
  },
  {
   "cell_type": "markdown",
   "metadata": {},
   "source": [
    "Si le joueur à perdu, il a possiblité lorsqu'un '?' est affiché d'appuyer sur le bouton du milieu pour relancer une partie. S'il ne fait rien pendant 3 sec, le jeu s'arrête."
   ]
  },
  {
   "cell_type": "markdown",
   "metadata": {},
   "source": [
    "##### Le module"
   ]
  },
  {
   "cell_type": "markdown",
   "metadata": {},
   "source": [
    "L'un des buts de ce petit jeu est de le transformer en module. Pour le compiler avec d'autres jeux et faire un mini-centre de jeu-vidéo pour le SenseHat ! Voici donc le petit bout de code qu'il faut rajouter à la fin pour pouvoir lancer votre jeu à la séléction de son module."
   ]
  },
  {
   "cell_type": "code",
   "execution_count": null,
   "metadata": {},
   "outputs": [],
   "source": [
    "# Execute the main() function when the file is executed,\n",
    "# but do not execute when the module is imported as a module.\n",
    "print('module name =', __name__)\n",
    "\n",
    "if __name__ == '__main__':\n",
    "    main()"
   ]
  },
  {
   "cell_type": "markdown",
   "metadata": {},
   "source": [
    "### Points à améliorer\n",
    "Notre jeu est plutôt complet et marche étonnemment bien, néanmoins il resterais, si nous avions plus de temps, quelques points à améliorer. Il est important de prendre du recul sur notre travail\n",
    "* Le plus important est le fait que nous voulions un temps d'une seconde de latence avant la réapparition de la forme. Mais lorsque nous mettions un sleep(1) en premier dans la boucle while state == 0, nous rencontrions un problème. Nous pouvions bouger la forme (y compris vers le bas) avant son apparition et par conséquent un peu tricher sur chaque apparition d'une nouvelle forme. Nous avons donc choisi d'abandonner ce petit côté nostalgique du temps de latence et faire directement apparaître la nouvelle forme. Ce qui rajoute une difficulté au jeu !\n",
    "* Dû au manque de temps, nous aurions pu mieux optimiser notre code et enlever, je pense, beaucoup de lignes de code à l'ensemble. Mais lorsque le code fonctionne, il est difficile de prendre du recul et de le voir sous un autre point de vue."
   ]
  }
 ],
 "metadata": {
  "kernelspec": {
   "display_name": "Python 3",
   "language": "python",
   "name": "python3"
  },
  "language_info": {
   "codemirror_mode": {
    "name": "ipython",
    "version": 3
   },
   "file_extension": ".py",
   "mimetype": "text/x-python",
   "name": "python",
   "nbconvert_exporter": "python",
   "pygments_lexer": "ipython3",
   "version": "3.5.3"
  }
 },
 "nbformat": 4,
 "nbformat_minor": 2
}
