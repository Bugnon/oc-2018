{
 "cells": [
  {
   "cell_type": "markdown",
   "metadata": {},
   "source": [
    "# Etude de cas : module turtle"
   ]
  },
  {
   "cell_type": "markdown",
   "metadata": {},
   "source": [
    "Le module `turtle` permet de créer des images à l'aide d'une tortue qui se balade sur un canvas et qui dessine des lignes.\n",
    "Cette tortue se trouve initialement à la position (0, 0) au centre du canevas et peut se déplacer dans le plan x-y.\n",
    "\n",
    "Référence: https://docs.python.org/3.7/library/turtle.html"
   ]
  },
  {
   "cell_type": "markdown",
   "metadata": {},
   "source": [
    "## Le module turtle"
   ]
  },
  {
   "cell_type": "markdown",
   "metadata": {},
   "source": [
    "Tout d'abord il faut importer le module `turtle` pour pouvoir utiliser ses fonctions de dessin."
   ]
  },
  {
   "cell_type": "code",
   "execution_count": 2,
   "metadata": {},
   "outputs": [],
   "source": [
    "import turtle"
   ]
  },
  {
   "cell_type": "markdown",
   "metadata": {},
   "source": [
    "Pour l'insertion d'images dans ce notebook, nous diminuons la taille du canvas."
   ]
  },
  {
   "cell_type": "code",
   "execution_count": 138,
   "metadata": {},
   "outputs": [],
   "source": [
    "turtle.setup(width=600, height=300)"
   ]
  },
  {
   "cell_type": "markdown",
   "metadata": {},
   "source": [
    "Les fonctions suivants permettent de déplacer la tortue:\n",
    "* `forward`, `fd`\n",
    "* `backward`, `bk`\n",
    "* `right`, `rt`\n",
    "* `left`, `lt`\n",
    "* `goto`, `setpos`, `setposition`\n",
    "* `setheading`"
   ]
  },
  {
   "cell_type": "code",
   "execution_count": 3,
   "metadata": {},
   "outputs": [],
   "source": [
    "turtle.reset()\n",
    "turtle.forward(100)\n",
    "turtle.left(90)\n",
    "turtle.backward(100)\n",
    "turtle.right(45)\n",
    "turtle.fd(100)"
   ]
  },
  {
   "cell_type": "markdown",
   "metadata": {},
   "source": [
    "Voici le resultat:\n",
    "![image](img5.eps)"
   ]
  },
  {
   "cell_type": "markdown",
   "metadata": {},
   "source": [
    "Pour obtenir de l'aide utilisez la fonction `help`."
   ]
  },
  {
   "cell_type": "code",
   "execution_count": 64,
   "metadata": {},
   "outputs": [
    {
     "name": "stdout",
     "output_type": "stream",
     "text": [
      "Help on function forward in module turtle:\n",
      "\n",
      "forward(distance)\n",
      "    Move the turtle forward by the specified distance.\n",
      "    \n",
      "    Aliases: forward | fd\n",
      "    \n",
      "    Argument:\n",
      "    distance -- a number (integer or float)\n",
      "    \n",
      "    Move the turtle forward by the specified distance, in the direction\n",
      "    the turtle is headed.\n",
      "    \n",
      "    Example:\n",
      "    >>> position()\n",
      "    (0.00, 0.00)\n",
      "    >>> forward(25)\n",
      "    >>> position()\n",
      "    (25.00,0.00)\n",
      "    >>> forward(-75)\n",
      "    >>> position()\n",
      "    (-50.00,0.00)\n",
      "\n"
     ]
    }
   ],
   "source": [
    "help(turtle.forward)"
   ]
  },
  {
   "cell_type": "markdown",
   "metadata": {},
   "source": [
    "## Répétition simple"
   ]
  },
  {
   "cell_type": "markdown",
   "metadata": {},
   "source": [
    "Pour dessiner un carré, on peut avancer de 100 pixels, tourner à gauche de 90 degrés, et répéter ces deux instructions 4 fois."
   ]
  },
  {
   "cell_type": "code",
   "execution_count": 71,
   "metadata": {},
   "outputs": [],
   "source": [
    "turtle.reset()\n",
    "\n",
    "turtle.fd(100)\n",
    "turtle.lt(90)\n",
    "\n",
    "turtle.fd(100)\n",
    "turtle.lt(90)\n",
    "\n",
    "turtle.fd(100)\n",
    "turtle.lt(90)\n",
    "\n",
    "turtle.fd(100)\n",
    "turtle.lt(90)"
   ]
  },
  {
   "cell_type": "markdown",
   "metadata": {},
   "source": [
    "Un façon plus courte et plus efficace est d'utiliser une boucle."
   ]
  },
  {
   "cell_type": "code",
   "execution_count": 73,
   "metadata": {},
   "outputs": [],
   "source": [
    "for i in range(4):\n",
    "    turtle.fd(120)\n",
    "    turtle.lt(90)"
   ]
  },
  {
   "cell_type": "markdown",
   "metadata": {},
   "source": [
    "Voici le resultat:\n",
    "![image](img6.eps)"
   ]
  },
  {
   "cell_type": "markdown",
   "metadata": {},
   "source": [
    "La vitesse de la tortue peux être lu et changée:\n",
    "* 1 étant le plus lent\n",
    "* 3 étant normal\n",
    "* 10 le plus rapide\n",
    "* 0 étant instantané (sans animation)"
   ]
  },
  {
   "cell_type": "code",
   "execution_count": 72,
   "metadata": {},
   "outputs": [
    {
     "data": {
      "text/plain": [
       "3"
      ]
     },
     "execution_count": 72,
     "metadata": {},
     "output_type": "execute_result"
    }
   ],
   "source": [
    "turtle.speed()"
   ]
  },
  {
   "cell_type": "markdown",
   "metadata": {},
   "source": [
    "## Dessiner un polygone\n"
   ]
  },
  {
   "cell_type": "markdown",
   "metadata": {},
   "source": [
    "Définissons donc une fonction qui dessine un polygone avec `n` sommets et des côtés de longuer `a`,"
   ]
  },
  {
   "cell_type": "code",
   "execution_count": 75,
   "metadata": {},
   "outputs": [],
   "source": [
    "def polygon(n, a):\n",
    "    for i in range(n):\n",
    "        turtle.fd(a)\n",
    "        turtle.lt(360/n)"
   ]
  },
  {
   "cell_type": "code",
   "execution_count": 79,
   "metadata": {},
   "outputs": [],
   "source": [
    "turtle.reset()\n",
    "turtle.setpos(0, -100)\n",
    "polygon(3, 100)\n",
    "polygon(4, 100)\n",
    "polygon(5, 100)\n",
    "polygon(6, 100)"
   ]
  },
  {
   "cell_type": "markdown",
   "metadata": {},
   "source": [
    "Voici le resultat:\n",
    "![image](img7.eps)"
   ]
  },
  {
   "cell_type": "markdown",
   "metadata": {},
   "source": [
    "## Sauvegarder une capteure d'écran"
   ]
  },
  {
   "cell_type": "markdown",
   "metadata": {},
   "source": [
    "La fonction `getcanvas()` retourne l'objet `ScrolledCanvas`"
   ]
  },
  {
   "cell_type": "code",
   "execution_count": 87,
   "metadata": {},
   "outputs": [
    {
     "data": {
      "text/plain": [
       "<turtle.ScrolledCanvas object .!scrolledcanvas>"
      ]
     },
     "execution_count": 87,
     "metadata": {},
     "output_type": "execute_result"
    }
   ],
   "source": [
    "cv = turtle.getcanvas()\n",
    "cv"
   ]
  },
  {
   "cell_type": "markdown",
   "metadata": {},
   "source": [
    "L'objet canvas possède une méthode `postscript` qui permet de sauvegarder image."
   ]
  },
  {
   "cell_type": "code",
   "execution_count": 135,
   "metadata": {},
   "outputs": [
    {
     "name": "stdout",
     "output_type": "stream",
     "text": [
      "Help on method postscript:\n",
      "\n",
      "postscript(*args, **kw) method of turtle.ScrolledCanvas instance\n",
      "\n"
     ]
    }
   ],
   "source": [
    "help(cv.postscript)"
   ]
  },
  {
   "cell_type": "code",
   "execution_count": 88,
   "metadata": {},
   "outputs": [],
   "source": [
    "turtle.getcanvas().postscript(file=\"img.eps\");"
   ]
  },
  {
   "cell_type": "markdown",
   "metadata": {},
   "source": [
    "![image](img.eps)"
   ]
  },
  {
   "cell_type": "markdown",
   "metadata": {},
   "source": [
    "Définissons une fonctions pour enregistrer des captures d'écran en format eps."
   ]
  },
  {
   "cell_type": "code",
   "execution_count": 89,
   "metadata": {},
   "outputs": [],
   "source": [
    "img_index = 0\n",
    "def img():\n",
    "    global img_index\n",
    "    cv = turtle.getcanvas()\n",
    "    img_name = 'img' + str(img_index) + '.eps'\n",
    "    cv.postscript(file=img_name, colormode='color');\n",
    "    img_index +=1"
   ]
  },
  {
   "cell_type": "markdown",
   "metadata": {},
   "source": [
    "La fonction ci-dessous sauvegarde l'actuel image dans le dossier courant, en incrémentant automatiquement l'index de l'image."
   ]
  },
  {
   "cell_type": "code",
   "execution_count": 92,
   "metadata": {},
   "outputs": [],
   "source": [
    "img()"
   ]
  },
  {
   "cell_type": "markdown",
   "metadata": {},
   "source": [
    "Déssinons les polygones triangle, carré et pentagone en différentes couleurs."
   ]
  },
  {
   "cell_type": "code",
   "execution_count": 98,
   "metadata": {},
   "outputs": [],
   "source": [
    "turtle.reset()\n",
    "turtle.setpos(0, -100)\n",
    "turtle.pensize(4)\n",
    "turtle.pencolor('red');    polygon(3, 100)\n",
    "turtle.pencolor('orange'); polygon(4, 100)\n",
    "turtle.pencolor('blue');   polygon(5, 100)"
   ]
  },
  {
   "cell_type": "code",
   "execution_count": 96,
   "metadata": {},
   "outputs": [],
   "source": [
    "img()"
   ]
  },
  {
   "cell_type": "markdown",
   "metadata": {},
   "source": [
    "Voici le résultat:\n",
    "![image](img9.eps)"
   ]
  },
  {
   "cell_type": "markdown",
   "metadata": {},
   "source": [
    "## Contrôle du stylo"
   ]
  },
  {
   "cell_type": "markdown",
   "metadata": {},
   "source": [
    "Le stylo peut être controlé avec les fonctions:\n",
    "* `pendown`, `pd`, `down`\n",
    "* `pendup`, `pu`, `up`\n",
    "* `pensize`, `width`"
   ]
  },
  {
   "cell_type": "markdown",
   "metadata": {},
   "source": [
    "L'état du stylo est obtenu avec la fonction `pen`"
   ]
  },
  {
   "cell_type": "code",
   "execution_count": 99,
   "metadata": {},
   "outputs": [
    {
     "data": {
      "text/plain": [
       "{'shown': True,\n",
       " 'pendown': True,\n",
       " 'pencolor': 'red',\n",
       " 'fillcolor': 'red',\n",
       " 'pensize': 1,\n",
       " 'speed': 3,\n",
       " 'resizemode': 'noresize',\n",
       " 'stretchfactor': (1.0, 1.0),\n",
       " 'shearfactor': 0.0,\n",
       " 'outline': 1,\n",
       " 'tilt': 0.0}"
      ]
     },
     "execution_count": 99,
     "metadata": {},
     "output_type": "execute_result"
    }
   ],
   "source": [
    "turtle.pen()"
   ]
  },
  {
   "cell_type": "markdown",
   "metadata": {},
   "source": [
    "## Les couleurs"
   ]
  },
  {
   "cell_type": "markdown",
   "metadata": {},
   "source": [
    "Les couleurs pour le stylo et le remplissage peuvent être lu et écrits pare les fonctions:\n",
    "* `pencolor`\n",
    "* `fillcolor`\n",
    "\n",
    "Les couleurs peuvent être indiqué par\n",
    "* un string avec un nom: 'red', 'violet', 'pink')\n",
    "* un tuple RGB : (255, 0, 0), (255, 0, 255)\n",
    "* un string avec une valeur RGB hexadécimale: `'#ff00ff'`"
   ]
  },
  {
   "cell_type": "code",
   "execution_count": 108,
   "metadata": {},
   "outputs": [],
   "source": [
    "turtle.pencolor('#ff00ff')\n",
    "turtle.fd(50)"
   ]
  },
  {
   "cell_type": "code",
   "execution_count": 102,
   "metadata": {},
   "outputs": [],
   "source": [
    "turtle.pencolor('blue')\n",
    "turtle.fd(50)"
   ]
  },
  {
   "cell_type": "code",
   "execution_count": 103,
   "metadata": {},
   "outputs": [],
   "source": [
    "turtle.pensize(5)"
   ]
  },
  {
   "cell_type": "code",
   "execution_count": 105,
   "metadata": {},
   "outputs": [],
   "source": [
    "turtle.pencolor('pink')\n",
    "turtle.fd(50)"
   ]
  },
  {
   "cell_type": "code",
   "execution_count": 109,
   "metadata": {},
   "outputs": [
    {
     "data": {
      "text/plain": [
       "(1.0, 0.0, 1.0)"
      ]
     },
     "execution_count": 109,
     "metadata": {},
     "output_type": "execute_result"
    }
   ],
   "source": [
    "turtle.pencolor()"
   ]
  },
  {
   "cell_type": "code",
   "execution_count": 4,
   "metadata": {},
   "outputs": [
    {
     "ename": "Terminator",
     "evalue": "",
     "output_type": "error",
     "traceback": [
      "\u001b[0;31m---------------------------------------------------------------------------\u001b[0m",
      "\u001b[0;31mTclError\u001b[0m                                  Traceback (most recent call last)",
      "\u001b[0;32m/usr/lib/python3.5/turtle.py\u001b[0m in \u001b[0;36mreset\u001b[0;34m()\u001b[0m\n",
      "\u001b[0;32m/usr/lib/python3.5/turtle.py\u001b[0m in \u001b[0;36mreset\u001b[0;34m(self)\u001b[0m\n\u001b[1;32m   2580\u001b[0m         \u001b[0mself\u001b[0m\u001b[0;34m.\u001b[0m\u001b[0m_clear\u001b[0m\u001b[0;34m(\u001b[0m\u001b[0;34m)\u001b[0m\u001b[0;34m\u001b[0m\u001b[0m\n\u001b[0;32m-> 2581\u001b[0;31m         \u001b[0mself\u001b[0m\u001b[0;34m.\u001b[0m\u001b[0m_drawturtle\u001b[0m\u001b[0;34m(\u001b[0m\u001b[0;34m)\u001b[0m\u001b[0;34m\u001b[0m\u001b[0m\n\u001b[0m\u001b[1;32m   2582\u001b[0m         \u001b[0mself\u001b[0m\u001b[0;34m.\u001b[0m\u001b[0m_update\u001b[0m\u001b[0;34m(\u001b[0m\u001b[0;34m)\u001b[0m\u001b[0;34m\u001b[0m\u001b[0m\n",
      "\u001b[0;32m/usr/lib/python3.5/turtle.py\u001b[0m in \u001b[0;36m_drawturtle\u001b[0;34m(self)\u001b[0m\n\u001b[1;32m   3010\u001b[0m                 screen._drawpoly(titem, shape, fill=fc, outline=oc,\n\u001b[0;32m-> 3011\u001b[0;31m                                                       width=w, top=True)\n\u001b[0m\u001b[1;32m   3012\u001b[0m             \u001b[0;32melif\u001b[0m \u001b[0mttype\u001b[0m \u001b[0;34m==\u001b[0m \u001b[0;34m\"image\"\u001b[0m\u001b[0;34m:\u001b[0m\u001b[0;34m\u001b[0m\u001b[0m\n",
      "\u001b[0;32m/usr/lib/python3.5/turtle.py\u001b[0m in \u001b[0;36m_drawpoly\u001b[0;34m(self, polyitem, coordlist, fill, outline, width, top)\u001b[0m\n\u001b[1;32m    513\u001b[0m             \u001b[0mcl\u001b[0m\u001b[0;34m.\u001b[0m\u001b[0mappend\u001b[0m\u001b[0;34m(\u001b[0m\u001b[0;34m-\u001b[0m\u001b[0my\u001b[0m \u001b[0;34m*\u001b[0m \u001b[0mself\u001b[0m\u001b[0;34m.\u001b[0m\u001b[0myscale\u001b[0m\u001b[0;34m)\u001b[0m\u001b[0;34m\u001b[0m\u001b[0m\n\u001b[0;32m--> 514\u001b[0;31m         \u001b[0mself\u001b[0m\u001b[0;34m.\u001b[0m\u001b[0mcv\u001b[0m\u001b[0;34m.\u001b[0m\u001b[0mcoords\u001b[0m\u001b[0;34m(\u001b[0m\u001b[0mpolyitem\u001b[0m\u001b[0;34m,\u001b[0m \u001b[0;34m*\u001b[0m\u001b[0mcl\u001b[0m\u001b[0;34m)\u001b[0m\u001b[0;34m\u001b[0m\u001b[0m\n\u001b[0m\u001b[1;32m    515\u001b[0m         \u001b[0;32mif\u001b[0m \u001b[0mfill\u001b[0m \u001b[0;32mis\u001b[0m \u001b[0;32mnot\u001b[0m \u001b[0;32mNone\u001b[0m\u001b[0;34m:\u001b[0m\u001b[0;34m\u001b[0m\u001b[0m\n",
      "\u001b[0;32m<string>\u001b[0m in \u001b[0;36mcoords\u001b[0;34m(self, *args, **kw)\u001b[0m\n",
      "\u001b[0;32m/usr/lib/python3.5/tkinter/__init__.py\u001b[0m in \u001b[0;36mcoords\u001b[0;34m(self, *args)\u001b[0m\n\u001b[1;32m   2320\u001b[0m                            self.tk.splitlist(\n\u001b[0;32m-> 2321\u001b[0;31m                    self.tk.call((self._w, 'coords') + args))]\n\u001b[0m\u001b[1;32m   2322\u001b[0m     \u001b[0;32mdef\u001b[0m \u001b[0m_create\u001b[0m\u001b[0;34m(\u001b[0m\u001b[0mself\u001b[0m\u001b[0;34m,\u001b[0m \u001b[0mitemType\u001b[0m\u001b[0;34m,\u001b[0m \u001b[0margs\u001b[0m\u001b[0;34m,\u001b[0m \u001b[0mkw\u001b[0m\u001b[0;34m)\u001b[0m\u001b[0;34m:\u001b[0m \u001b[0;31m# Args: (val, val, ..., cnf={})\u001b[0m\u001b[0;34m\u001b[0m\u001b[0m\n",
      "\u001b[0;31mTclError\u001b[0m: invalid command name \".1949398416\"",
      "\nDuring handling of the above exception, another exception occurred:\n",
      "\u001b[0;31mTerminator\u001b[0m                                Traceback (most recent call last)",
      "\u001b[0;32m<ipython-input-4-6fb0dd4f66df>\u001b[0m in \u001b[0;36m<module>\u001b[0;34m\u001b[0m\n\u001b[0;32m----> 1\u001b[0;31m \u001b[0mturtle\u001b[0m\u001b[0;34m.\u001b[0m\u001b[0mreset\u001b[0m\u001b[0;34m(\u001b[0m\u001b[0;34m)\u001b[0m\u001b[0;34m\u001b[0m\u001b[0m\n\u001b[0m\u001b[1;32m      2\u001b[0m \u001b[0mturtle\u001b[0m\u001b[0;34m.\u001b[0m\u001b[0msetpos\u001b[0m\u001b[0;34m(\u001b[0m\u001b[0;36m0\u001b[0m\u001b[0;34m,\u001b[0m \u001b[0;34m-\u001b[0m\u001b[0;36m100\u001b[0m\u001b[0;34m)\u001b[0m\u001b[0;34m\u001b[0m\u001b[0m\n\u001b[1;32m      3\u001b[0m \u001b[0mturtle\u001b[0m\u001b[0;34m.\u001b[0m\u001b[0mcolor\u001b[0m\u001b[0;34m(\u001b[0m\u001b[0;34m'red'\u001b[0m\u001b[0;34m,\u001b[0m \u001b[0;34m'yellow'\u001b[0m\u001b[0;34m)\u001b[0m\u001b[0;34m\u001b[0m\u001b[0m\n\u001b[1;32m      4\u001b[0m \u001b[0mturtle\u001b[0m\u001b[0;34m.\u001b[0m\u001b[0mpensize\u001b[0m\u001b[0;34m(\u001b[0m\u001b[0;36m5\u001b[0m\u001b[0;34m)\u001b[0m\u001b[0;34m\u001b[0m\u001b[0m\n\u001b[1;32m      5\u001b[0m \u001b[0mturtle\u001b[0m\u001b[0;34m.\u001b[0m\u001b[0mbegin_fill\u001b[0m\u001b[0;34m(\u001b[0m\u001b[0;34m)\u001b[0m\u001b[0;34m\u001b[0m\u001b[0m\n",
      "\u001b[0;32m/usr/lib/python3.5/turtle.py\u001b[0m in \u001b[0;36mreset\u001b[0;34m()\u001b[0m\n",
      "\u001b[0;31mTerminator\u001b[0m: "
     ]
    }
   ],
   "source": [
    "turtle.reset()\n",
    "turtle.setpos(0, -100)\n",
    "turtle.color('red', 'yellow')\n",
    "turtle.pensize(5)\n",
    "turtle.begin_fill()\n",
    "polygon(6, 100)\n",
    "turtle.end_fill()"
   ]
  },
  {
   "cell_type": "markdown",
   "metadata": {},
   "source": [
    "Voici le résultat:\n",
    "![image](img11.eps)"
   ]
  },
  {
   "cell_type": "markdown",
   "metadata": {},
   "source": [
    "## Remise à l'état initial"
   ]
  },
  {
   "cell_type": "markdown",
   "metadata": {},
   "source": [
    "Les fonctions suivantes permettent de revenir:\n",
    "* `home` place la tortue à l'origine\n",
    "* `clear` efface l'écran, sans bouger la tortue\n",
    "* `reset` place la tortue à l'orine et efface l'écran"
   ]
  },
  {
   "cell_type": "markdown",
   "metadata": {},
   "source": [
    "## Ecrire un texte"
   ]
  },
  {
   "cell_type": "markdown",
   "metadata": {},
   "source": [
    "La fonction `write` permet de placer du texte sur le canvas. Dans l'exemple ci-dessous nous dessinons un hexagone et nous plaçons les coordonnées à chaque sommet."
   ]
  },
  {
   "cell_type": "code",
   "execution_count": 115,
   "metadata": {},
   "outputs": [],
   "source": [
    "turtle.reset()\n",
    "n = 6\n",
    "turtle.write('n='+str(n), font=('Arial', 16, 'bold'))\n",
    "turtle.setpos(0, -100)\n",
    "\n",
    "for i in range(n):\n",
    "    turtle.fd(100)\n",
    "    turtle.lt(360/n)\n",
    "    pos = [int(i) for i in turtle.pos()]\n",
    "    turtle.write(pos, font=('Arial', 16, 'bold'))"
   ]
  },
  {
   "cell_type": "markdown",
   "metadata": {},
   "source": [
    "Voici le résultat:\n",
    "![image](img10.eps)"
   ]
  },
  {
   "cell_type": "markdown",
   "metadata": {},
   "source": [
    "## Dessiner des étoiles"
   ]
  },
  {
   "cell_type": "markdown",
   "metadata": {},
   "source": [
    "Dessinons quelques étoiles, en forme d'asterisque."
   ]
  },
  {
   "cell_type": "code",
   "execution_count": 6,
   "metadata": {},
   "outputs": [],
   "source": [
    "def star(n, a):\n",
    "    for i in range(n):\n",
    "        turtle.fd(a)\n",
    "        turtle.bk(a)\n",
    "        turtle.lt(360/n)"
   ]
  },
  {
   "cell_type": "code",
   "execution_count": 24,
   "metadata": {},
   "outputs": [],
   "source": [
    "star(7, 50)"
   ]
  },
  {
   "cell_type": "markdown",
   "metadata": {},
   "source": [
    "Le module `random` permet de choisir des valeurs aléatoires. `randint(a, b)` retourne une valeur entière aléatoire dans l'intervalle [a, b]. "
   ]
  },
  {
   "cell_type": "code",
   "execution_count": 150,
   "metadata": {},
   "outputs": [],
   "source": [
    "import random\n",
    "\n",
    "turtle.reset()\n",
    "for i in range(10):\n",
    "    x = random.randint(-300, 300)\n",
    "    y = random.randint(-100, 100)\n",
    "    turtle.goto(x, y)\n",
    "    star(7, 20)"
   ]
  },
  {
   "cell_type": "markdown",
   "metadata": {},
   "source": [
    "Voici le résultat:\n",
    "![image](img12.eps)"
   ]
  },
  {
   "cell_type": "markdown",
   "metadata": {},
   "source": [
    "Nous allons rendre le script plus intéressant en choisissant:\n",
    "* des couleurs aléatoires\n",
    "* des tailles d'étoile aléatoires\n",
    "* un nombre de branches aléatoire"
   ]
  },
  {
   "cell_type": "code",
   "execution_count": 13,
   "metadata": {},
   "outputs": [],
   "source": [
    "import random\n",
    "\n",
    "turtle.bgcolor('black')\n",
    "colors = ['red', 'blue', 'pink', 'orange', 'yellow', 'green', 'violet']\n",
    "turtle.reset()\n",
    "for i in range(20):\n",
    "    x = random.randint(-300, 300)\n",
    "    y = random.randint(-100, 100)\n",
    "    n = random.randint(5, 7)\n",
    "    a = random.randint(10, 40)\n",
    "    s = random.randint(1, 4)\n",
    "    c = random.randint(0, 6)\n",
    "    \n",
    "    turtle.pencolor(colors[c])\n",
    "    turtle.pensize(s)\n",
    "    turtle.pu()\n",
    "    turtle.setposition(x, y)\n",
    "    turtle.pd()\n",
    "    star(n, a)\n",
    "    turtle.pu()"
   ]
  },
  {
   "cell_type": "markdown",
   "metadata": {},
   "source": [
    "Voici le résultat:\n",
    "![image](img13.eps)"
   ]
  },
  {
   "cell_type": "markdown",
   "metadata": {},
   "source": [
    "Le module turtle permet aussi d'afficher une fenêtre de dialogue pour demander une valeur textuelle ou numérique."
   ]
  },
  {
   "cell_type": "code",
   "execution_count": 39,
   "metadata": {},
   "outputs": [],
   "source": [
    "p1 = turtle.textinput('Player 1', 'Name of first player')\n",
    "p2 = turtle.textinput('Player 2', 'Name of second player')"
   ]
  },
  {
   "cell_type": "code",
   "execution_count": 40,
   "metadata": {},
   "outputs": [
    {
     "data": {
      "text/plain": [
       "('Raphael', 'Eleonore')"
      ]
     },
     "execution_count": 40,
     "metadata": {},
     "output_type": "execute_result"
    }
   ],
   "source": [
    "p1, p2"
   ]
  },
  {
   "cell_type": "markdown",
   "metadata": {},
   "source": [
    "## Le package turtledemo"
   ]
  },
  {
   "cell_type": "markdown",
   "metadata": {},
   "source": [
    "En suivant le lien ci-dessous vous trouvez une série d'exemples faits avec le module `turtle`\n",
    "\n",
    "https://docs.python.org/3.7/library/turtle.html#module-turtledemo\n",
    "\n",
    "Il suffit d'ouvrir un terminal et y entrer\n",
    "\n",
    "```\n",
    "python -m turtledemo.bytedesign\n",
    "```"
   ]
  }
 ],
 "metadata": {
  "kernelspec": {
   "display_name": "Python 3",
   "language": "python",
   "name": "python3"
  },
  "language_info": {
   "codemirror_mode": {
    "name": "ipython",
    "version": 3
   },
   "file_extension": ".py",
   "mimetype": "text/x-python",
   "name": "python",
   "nbconvert_exporter": "python",
   "pygments_lexer": "ipython3",
   "version": "3.5.3"
  },
  "toc": {
   "base_numbering": 1,
   "nav_menu": {},
   "number_sections": true,
   "sideBar": true,
   "skip_h1_title": false,
   "title_cell": "Table of Contents",
   "title_sidebar": "Contents",
   "toc_cell": false,
   "toc_position": {
    "height": "calc(100% - 180px)",
    "left": "10px",
    "top": "150px",
    "width": "165px"
   },
   "toc_section_display": true,
   "toc_window_display": false
  }
 },
 "nbformat": 4,
 "nbformat_minor": 2
}
