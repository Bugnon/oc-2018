{
 "cells": [
  {
   "cell_type": "markdown",
   "metadata": {},
   "source": [
    "# THYMIO\n",
    "## Environnement Thymio VPL"
   ]
  },
  {
   "cell_type": "markdown",
   "metadata": {},
   "source": [
    "Thymio est un robot programmable avec le programme \"VPL\". \n",
    "\n",
    "Pour commencer il faut brancher Thymio à l’ordinateur avec le câble ou le dongle USB et allumez-le en appuyant 3 secondes sur le bouton central.\n",
    "Ensuite il faut lancer « Thymio Suite ».\n",
    "Et encore cliquer sur l’icône Thymio VPL.\n",
    "\n",
    "**Voici, comment se présente le programme sur VPL.**\n",
    "\n",
    "<p><img src=\"../img/vpl.png\" alt=\"Le jeu\" style=\"float:left;width:400px;height400px;\">\n",
    "</p>\n",
    "\n",
    "<p><img src=\"../img/Capture%20d’écran%202018-09-04%20à%2009.10.35.png\" alt=\"\" style=\"float:left;width:400px;height:400px;\">\n",
    "</p>"
   ]
  },
  {
   "cell_type": "markdown",
   "metadata": {},
   "source": [
    "### Boutons de la barre d'outils"
   ]
  },
  {
   "cell_type": "markdown",
   "metadata": {},
   "source": [
    "Nouveau Fichier\n",
    "<p><img src=\"../img/medium.jpg\" alt=\"Nouveau fichier\" style=\"float:left;width:150px;height:150px;\">\n",
    "</p>"
   ]
  },
  {
   "cell_type": "markdown",
   "metadata": {},
   "source": [
    "Ouvrir un fichier existant\n",
    "<p><img src=\"../img/medium-24.jpg\" alt=\"ouvrir un fichier existant\" style=\"float:left;width:150px;height:150px;\">\n",
    "</p>"
   ]
  },
  {
   "cell_type": "markdown",
   "metadata": {},
   "source": [
    "Enregistrer, enregistrer-sous\n",
    "<p><img src=\"../img/medium-2.jpg\" alt=\"enregistrer\" style=\"float:left;width:150px;height:150px;\">\n",
    "</p>"
   ]
  },
  {
   "cell_type": "markdown",
   "metadata": {},
   "source": [
    "Exécuter\n",
    "<p><img src=\"../img/medium-3.jpg\" alt=\"Exécuter\" style=\"float:left;width:150px;height:150px;\">\n",
    "</p>"
   ]
  },
  {
   "cell_type": "markdown",
   "metadata": {},
   "source": [
    "Arrêter\n",
    "<p><img src=\"../img/medium-4.jpg\" alt=\"Arrêter\" style=\"float:left;width:150px;height:150px;\">\n",
    "</p>"
   ]
  },
  {
   "cell_type": "markdown",
   "metadata": {},
   "source": [
    "Mode Avancé\n",
    "<p><img src=\"../img/medium-5.jpg\" alt=\"Mode Avancé\" style=\"float:left;width:150px;height:150px;\">\n",
    "</p>"
   ]
  },
  {
   "cell_type": "markdown",
   "metadata": {},
   "source": [
    "Information\n",
    "<p><img src=\"../img/medium-6.jpg\" alt=\"Information\" style=\"float:left;width:150px;height:150px;\">\n",
    "</p>"
   ]
  },
  {
   "cell_type": "markdown",
   "metadata": {},
   "source": [
    "Prendre un screenshot\n",
    "<p><img src=\"../img/medium-7.jpg\" alt=\"Prendre un screenshot\" style=\"float:left;width:150px;height:150px;\">\n",
    "</p>"
   ]
  },
  {
   "cell_type": "markdown",
   "metadata": {},
   "source": [
    "### Blocs d'évènemets\n",
    "\n",
    "Les boutons\n",
    "\n",
    "Cet événement s'active lorsque un ou plusieurs boutons sont touchés. Pour chaque bouton, gris signifie ignorer le bouton, rouge indique que le bouton doit être touché.\n",
    "<p><img src=\"../img/medium-8.jpg\" alt=\"Les boutons\" style=\"float:left;width:150px;height:150px;\">\n",
    "</p>"
   ]
  },
  {
   "cell_type": "markdown",
   "metadata": {},
   "source": [
    "Vous pouvez définir la distance _à l’obstacle_ auquel vous souhaitez que Thymio réagisse.\n",
    "\n",
    "Cet événement se déclenche lorsque le robot détecte un objet proche ou loin du robot (maximum 8-12 cm). Pour ces capteurs, le gris signifie que le capteur n'est pas pris en compte; blanc signifie que l'objet est proche; noir signifie que l'objet est détecté mais pas proche du robot.\n",
    "<p><img src=\"../img/medium-9.jpg\" alt=\"Capteurs de distance horizontale\" style=\"float:left;width:150px;height:150px;\">\n",
    "</p>"
   ]
  },
  {
   "cell_type": "markdown",
   "metadata": {},
   "source": [
    "Cet événement se déclenche lorsque le robot voit un sol sombre ou clair. Il mesure la quantité de lumière réfléchie par le sol. S'il n'y a pas de sol, il n'y a pas de réflexion. Pour ces capteurs, gris signifie que le capteur n'est pas pris en compte; blanc signifie que le sol est clair; noir signifie que le sol est sombre. \n",
    "\n",
    "<p><img src=\"../img/medium-10.jpg\" alt=\"Capteur de distance au sol\" style=\"float:left;width:150px;height:150px;\">\n",
    "</p>"
   ]
  },
  {
   "cell_type": "markdown",
   "metadata": {},
   "source": [
    "Détection de choc\n",
    "\n",
    "Cet événement s'active lorsque le robot détecte un choc (par ex. si on tape dessus).\n",
    "<p><img src=\"../img/medium-11.jpg\" alt=\"Détenction de choc\" style=\"float:left;width:150px;height:150px;\">\n",
    "</p>"
   ]
  },
  {
   "cell_type": "markdown",
   "metadata": {},
   "source": [
    "Détection de claquement\n",
    "\n",
    "Cet événement s'active lorsque le robot détecte un fort bruit comme un claquement de main à proximité.\n",
    "<p><img src=\"../img/medium-12.jpg\" alt=\"Détenction de claquement\" style=\"float:left;width:150px;height:150px;\">\n",
    "</p>"
   ]
  },
  {
   "cell_type": "markdown",
   "metadata": {},
   "source": [
    "Moteurs\n",
    "\n",
    "Cette action définit la vitesse des moteurs gauche et droite.\n",
    "<p><img src=\"../img/medium-13.jpg\" alt=\"Moteurs\" style=\"float:left;width:150px;height:150px;\">\n",
    "</p>"
   ]
  },
  {
   "cell_type": "markdown",
   "metadata": {},
   "source": [
    "Couleurs du haut \n",
    "\n",
    "Cette action définit la couleur du haut du robot en un mélange de rouge, vert et bleu (RGB).\n",
    "<p><img src=\"../img/medium-14.jpg\" alt=\"Couleurs du haut\" style=\"float:left;width:150px;height:150px;\">\n",
    "</p>"
   ]
  },
  {
   "cell_type": "markdown",
   "metadata": {},
   "source": [
    "Couleurs du bas\n",
    "\n",
    "Cette action définit la couleur du bas du robot en un mélange de rouge, vert et bleu (RGB).\n",
    "<p><img src=\"../img/medium-15.jpg\" alt=\"Couleurs du bas\" style=\"float:left;width:150px;height:150px;\">\n",
    "</p>"
   ]
  },
  {
   "cell_type": "markdown",
   "metadata": {},
   "source": [
    "Musique \n",
    "\n",
    "Cette action joue une mélodie. Pour chaque note, sa hauteur dépend de sa position verticale. Un point blanc produit une note qui dure deux fois plus longtemps qu'un point noir. Pour définir une note, cliquez sur la barre où vous voulez qu'elle apparaisse.\n",
    "<p><img src=\"../img/medium-16.jpg\" alt=\"musique\" style=\"float:left;width:150px;height:150px;\">\n",
    "</p>"
   ]
  },
  {
   "cell_type": "markdown",
   "metadata": {},
   "source": [
    "### MODE AVANCÉ"
   ]
  },
  {
   "cell_type": "markdown",
   "metadata": {},
   "source": [
    "États \n",
    "\n",
    "Vous pouvez tester l’état de Thymio avec le bloc vert en regard d’un événement. Si l’état de Thymio correspond à l’état affiché sur le bloc vert, Thymio réagira à l’événement. Vous pouvez modifier l’état de Thymio avec le bloc d’état bleu en tant qu’action. Pour qu'un segment soit activé, il faut qu'il soit orange et non pas blanc.\n",
    "<p><img src=\"../img/vpl-advanced-mode_state.png\" alt=\"état\" style=\"float:left;width:500px;height:150;\">\n",
    "</p>"
   ]
  },
  {
   "cell_type": "markdown",
   "metadata": {},
   "source": [
    "Minuterie\n",
    "\n",
    "Vous pouvez démarrer une minuterie (bleu pour action) et dire à Thymio que faire lorsque la minuterie est terminée (orange pour événement).\n",
    "<p><img src=\"../img/medium-20.jpg\" alt=\"timer\" style=\"float:left;width:150px;height:150px;\">\n",
    "</p>"
   ]
  },
  {
   "cell_type": "markdown",
   "metadata": {},
   "source": [
    "Capteurs de distance horizontaux\n",
    "\n",
    "La barre du haut permet de régler le seuil des objets proches, alors que la barre du bas permet de régler le seuil des objets lointains. La zone entre ces deux seuil est la zone de détection supplémentaire.\n",
    "<p><img src=\"../img/medium-21.jpg\" alt=\"capteurs de distance horizontaux\" style=\"float:left;width:150px;height:150px;\">\n",
    "</p>"
   ]
  },
  {
   "cell_type": "markdown",
   "metadata": {},
   "source": [
    "Inclinaison gauche/droite\n",
    "\n",
    "Cet événement se déclenche en fonction de l'inclinaison gauche ou droite de Thymio. Par défaut, les actions correspondantes seront lancées si le robot est à plat. Vous pouvez régler l'orientation en déplaçant le triangle blanc au-dessus de Thymio.\n",
    "<p><img src=\"../img/medium-22.jpg\" alt=\"Inclinaison gauche-droite\" style=\"float:left;width:150px;height:150px;\">\n",
    "</p>"
   ]
  },
  {
   "cell_type": "markdown",
   "metadata": {},
   "source": [
    "Inclinaison avant/arrière\n",
    "\n",
    "Cet événement fonctionne de façon similaire à l'inclinaison gauche/droite mais cette fois-ci pour l'inclinaison avant ou arrière du robot.\n",
    "<p><img src=\"../img/medium-23.jpg\" alt=\"Inclinaison avant-arrière\" style=\"float:left;width:150px;height:150px;\">\n",
    "</p>"
   ]
  },
  {
   "cell_type": "markdown",
   "metadata": {},
   "source": [
    "* Voici quelques exemples de comment programmer le thymio.\n",
    "\n",
    "Changer la couleur du thymio lorsqu'on appuie sur un bouton. \n",
    "<p><img src=\"../img/bt-red-green.png\" alt=\"Changer de couleur\" style=\"float:left;width:500px;height:500px;\">\n",
    "</p>"
   ]
  },
  {
   "cell_type": "markdown",
   "metadata": {},
   "source": [
    "Faire aller le thymio a sa vitesse maximum.\n",
    "<p><img src=\"../img/3.1%20Vitesse%20Max%201.png\" alt=\"Vitesse Maximum\" style=\"float:left;width:450px;height:450px;\">\n",
    "</p>"
   ]
  },
  {
   "cell_type": "markdown",
   "metadata": {},
   "source": [
    "Faire changer la direction du thymio lorsqu'on s'approche d'un côté ou d'un autre.\n",
    "<p><img src=\"../img/4.2%20Changement%20d'ordre%201.PNG\" alt=\"Changement de direction\" style=\"float:left;width:450px;height:450px;\">\n",
    "</p>"
   ]
  },
  {
   "cell_type": "markdown",
   "metadata": {},
   "source": [
    "Faire changer la direction du thymio lorsqu'on s'approche d'un côté ou d'un autre, d'une autre manière. \n",
    "<p><img src=\"../img/ex-4.3-1.PNG\" alt=\"\" style=\"float:left;width:400px;height:450px;\">\n",
    "</p>"
   ]
  },
  {
   "cell_type": "markdown",
   "metadata": {},
   "source": [
    "Pour activer le senseur de l'obscurité, il suffit de placer un scotch noir sous le thymio. Ce dernier suivra donc cette ligne. \n",
    "<p><img src=\"../img/Figure-5-1.png\" alt=\"\" style=\"float:left;width:650px;height:450px;\">\n",
    "</p>"
   ]
  },
  {
   "cell_type": "markdown",
   "metadata": {},
   "source": [
    "Faire changer la direction du thymio lorsqu'on change la luminosité sous les capteurs du thymio. \n",
    "<p><img src=\"../img/desecurise-1.PNG\" alt=\"\" style=\"float:left;width:470px;height:400px;\">\n",
    "</p>"
   ]
  },
  {
   "cell_type": "markdown",
   "metadata": {},
   "source": [
    "Faire changer la direction du thymio lorsqu'on s'approche de lui et lorsqu'on place le thymio sur un sol noir. \n",
    "<p><img src=\"../img/Exercice%205.2.png\" alt=\"\" style=\"float:left;width:240px;height:350px;\">\n",
    "</p>"
   ]
  },
  {
   "cell_type": "markdown",
   "metadata": {},
   "source": [
    "Faire avancer le thymio pendant trois secondes. \n",
    "<p><img src=\"../img/7.1%20Avancer%203s.png\" alt=\"\" style=\"float:left;width:500px;height:450px;\">\n",
    "</p>"
   ]
  },
  {
   "cell_type": "markdown",
   "metadata": {},
   "source": [
    "Faire varier l'angle du thymio. \n",
    "<p><img src=\"../img/10.1%20Angles%20differents.png\" alt=\"\" style=\"float:left;width:450px;height:500px;\">\n",
    "</p>"
   ]
  },
  {
   "cell_type": "markdown",
   "metadata": {},
   "source": [
    "### Ici, se trouvent de nombreux exemples des différents états que le Thymio peut avoir. "
   ]
  },
  {
   "cell_type": "markdown",
   "metadata": {},
   "source": [
    "Braitenberg\n",
    "<p><img src=\"../img/braitenberg.PNG\" alt=\"\" style=\"float:left;width:450px;height:450px;\">\n",
    "</p>"
   ]
  },
  {
   "cell_type": "markdown",
   "metadata": {},
   "source": [
    "Compter jusqu'à 5\n",
    "<p><img src=\"../img/Ex%209.3_1.png\" alt=\"\" style=\"float:left;width:450px;height:450px;\">\n",
    "</p>"
   ]
  },
  {
   "cell_type": "markdown",
   "metadata": {},
   "source": [
    "Thymio est indécis \n",
    "<p><img src=\"../img/Indécis.png\" alt=\"\" style=\"float:left;width:500px;height:450px;\">\n",
    "</p>"
   ]
  },
  {
   "cell_type": "markdown",
   "metadata": {},
   "source": [
    "Thymio panqiue quand on l'approche\n",
    "<p><img src=\"../img/Panique%201.png\" alt=\"\" style=\"float:left;width:500px;height:500px;\">\n",
    "</p>"
   ]
  },
  {
   "cell_type": "markdown",
   "metadata": {},
   "source": [
    "Thymio est parano \n",
    "<p><img src=\"../img/RobotParano1.PNG\" alt=\"\" style=\"float:left;width:450px;height:450px;\">\n",
    "</p>"
   ]
  },
  {
   "cell_type": "markdown",
   "metadata": {},
   "source": [
    "Thymio parcour un virage. Ici, le virage est doux. Si on veut qu'il soit plus serré, il suffit de monter le carré sur le moteur. \n",
    "<p><img src=\"../img/parcours-virages-doux.PNG\" alt=\"\" style=\"float:left;width:450px;height:450px;\">\n",
    "</p>"
   ]
  },
  {
   "cell_type": "markdown",
   "metadata": {},
   "source": [
    "Thymio résgit comme un animal de compagnie. Il vous suit quand vous l'approchez.\n",
    "<p><img src=\"../img/Prog-Robot-de-compagnie.png\" alt=\"\" style=\"float:left;width:450px;height:450px;\">\n",
    "</p>"
   ]
  },
  {
   "cell_type": "markdown",
   "metadata": {},
   "source": [
    "Thymio danse. \n",
    "<p><img src=\"../img/RobotQuiDanse.PNG\" alt=\"\" style=\"float:left;width:500px;height:400px;\">\n",
    "</p>"
   ]
  }
 ],
 "metadata": {
  "kernelspec": {
   "display_name": "Python 3",
   "language": "python",
   "name": "python3"
  },
  "language_info": {
   "codemirror_mode": {
    "name": "ipython",
    "version": 3
   },
   "file_extension": ".py",
   "mimetype": "text/x-python",
   "name": "python",
   "nbconvert_exporter": "python",
   "pygments_lexer": "ipython3",
   "version": "3.7.0"
  }
 },
 "nbformat": 4,
 "nbformat_minor": 2
}
