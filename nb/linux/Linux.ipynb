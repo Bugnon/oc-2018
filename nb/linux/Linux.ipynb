{
 "cells": [
  {
   "cell_type": "markdown",
   "metadata": {},
   "source": [
    "# Linux commands"
   ]
  },
  {
   "cell_type": "markdown",
   "metadata": {},
   "source": [
    "Linux is an operating system based on UNIX and created by the Finnish student **Linus Thorwalds**. It is open source software and now widely used. \n",
    "Almost all supercomputers are running a version if UNIX. MacOS is based on UNIX, the Android OS is based on Linux.\n",
    "\n",
    "In this Jupyter notebook we learn how to use the Linux command line to\n",
    "* navigate the Linux file system\n",
    "* list folders\n",
    "* display content\n",
    "* create new files\n",
    "* append to existing files\n",
    "* create and remove directories\n",
    "* move and rename documents and directories\n",
    "* display the tree structure"
   ]
  },
  {
   "cell_type": "markdown",
   "metadata": {},
   "source": [
    "## The Linux file system"
   ]
  },
  {
   "cell_type": "markdown",
   "metadata": {},
   "source": [
    "In Linux, as in most operating systems, files are kept in a hierarchical file system. This file system starts at the root directory which is called `/` (slash). The command `ls` prints a list of the contents of a directory. The following command prints the contents of the root directory."
   ]
  },
  {
   "cell_type": "code",
   "execution_count": 12,
   "metadata": {},
   "outputs": [
    {
     "name": "stdout",
     "output_type": "stream",
     "text": [
      "\u001b[34mApplications\u001b[m\u001b[m/              \u001b[34mhome\u001b[m\u001b[m/\r\n",
      "\u001b[34mLibrary\u001b[m\u001b[m/                   installer.failurerequests\r\n",
      "\u001b[34mNetwork\u001b[m\u001b[m/                   \u001b[30m\u001b[42mlost+found\u001b[m\u001b[m/\r\n",
      "\u001b[34mSystem\u001b[m\u001b[m/                    \u001b[34mnet\u001b[m\u001b[m/\r\n",
      "\u001b[34mUsers\u001b[m\u001b[m/                     \u001b[34mopt\u001b[m\u001b[m/\r\n",
      "\u001b[30m\u001b[42mVolumes\u001b[m\u001b[m/                   \u001b[34mprivate\u001b[m\u001b[m/\r\n",
      "\u001b[34mbin\u001b[m\u001b[m/                       \u001b[34msbin\u001b[m\u001b[m/\r\n",
      "\u001b[34mcores\u001b[m\u001b[m/                     \u001b[35mtmp\u001b[m\u001b[m@\r\n",
      "\u001b[34mdev\u001b[m\u001b[m/                       \u001b[34musr\u001b[m\u001b[m/\r\n",
      "\u001b[35metc\u001b[m\u001b[m@                       \u001b[35mvar\u001b[m\u001b[m@\r\n"
     ]
    }
   ],
   "source": [
    "ls /"
   ]
  },
  {
   "cell_type": "markdown",
   "metadata": {},
   "source": [
    "The names in blue directories (folders) and the names in purple are symbolic links which point to some other directory.\n",
    "Let's look at the contents of the `/bin` directry which contains the binaries of basic linux commands, such as the `ls` command we are using now"
   ]
  },
  {
   "cell_type": "code",
   "execution_count": 168,
   "metadata": {},
   "outputs": [
    {
     "name": "stdout",
     "output_type": "stream",
     "text": [
      "\u001b[31m[\u001b[m\u001b[m*          \u001b[31mdd\u001b[m\u001b[m*         \u001b[31mkill\u001b[m\u001b[m*       \u001b[31mmv\u001b[m\u001b[m*         \u001b[31msh\u001b[m\u001b[m*         \u001b[31mwait4path\u001b[m\u001b[m*\r\n",
      "\u001b[31mbash\u001b[m\u001b[m*       \u001b[31mdf\u001b[m\u001b[m*         \u001b[31mksh\u001b[m\u001b[m*        \u001b[31mpax\u001b[m\u001b[m*        \u001b[31msleep\u001b[m\u001b[m*      \u001b[31mzsh\u001b[m\u001b[m*\r\n",
      "\u001b[31mcat\u001b[m\u001b[m*        \u001b[31mdomainname\u001b[m\u001b[m* \u001b[31mlaunchctl\u001b[m\u001b[m*  \u001b[30m\u001b[41mps\u001b[m\u001b[m*         \u001b[31mstty\u001b[m\u001b[m*\r\n",
      "\u001b[31mchmod\u001b[m\u001b[m*      \u001b[31mecho\u001b[m\u001b[m*       \u001b[31mlink\u001b[m\u001b[m*       \u001b[31mpwd\u001b[m\u001b[m*        \u001b[31msync\u001b[m\u001b[m*\r\n",
      "\u001b[31mcp\u001b[m\u001b[m*         \u001b[31med\u001b[m\u001b[m*         \u001b[31mln\u001b[m\u001b[m*         \u001b[31mrcp\u001b[m\u001b[m*        \u001b[31mtcsh\u001b[m\u001b[m*\r\n",
      "\u001b[31mcsh\u001b[m\u001b[m*        \u001b[31mexpr\u001b[m\u001b[m*       \u001b[31mls\u001b[m\u001b[m*         \u001b[31mrm\u001b[m\u001b[m*         \u001b[31mtest\u001b[m\u001b[m*\r\n",
      "\u001b[31mdate\u001b[m\u001b[m*       \u001b[31mhostname\u001b[m\u001b[m*   \u001b[31mmkdir\u001b[m\u001b[m*      \u001b[31mrmdir\u001b[m\u001b[m*      \u001b[31munlink\u001b[m\u001b[m*\r\n"
     ]
    }
   ],
   "source": [
    "ls /bin"
   ]
  },
  {
   "cell_type": "markdown",
   "metadata": {},
   "source": [
    "The directory `/Volumes` contains the mounted hard disks."
   ]
  },
  {
   "cell_type": "code",
   "execution_count": 183,
   "metadata": {},
   "outputs": [
    {
     "name": "stdout",
     "output_type": "stream",
     "text": [
      "\u001b[35mMacintosh HD\u001b[m\u001b[m@  \u001b[30m\u001b[43mMobileBackups\u001b[m\u001b[m/\r\n"
     ]
    }
   ],
   "source": [
    "ls /Volumes"
   ]
  },
  {
   "cell_type": "markdown",
   "metadata": {},
   "source": [
    "The `/usr/local/bin` directory contains the software packages installed locally by the user. Here we see different Python packages."
   ]
  },
  {
   "cell_type": "code",
   "execution_count": 190,
   "metadata": {},
   "outputs": [
    {
     "name": "stdout",
     "output_type": "stream",
     "text": [
      "\u001b[35m/usr/local/bin/pydoc\u001b[m\u001b[m@             \u001b[35m/usr/local/bin/python3-32\u001b[m\u001b[m@\r\n",
      "\u001b[35m/usr/local/bin/pydoc2\u001b[m\u001b[m@            \u001b[35m/usr/local/bin/python3-config\u001b[m\u001b[m@\r\n",
      "\u001b[35m/usr/local/bin/pydoc2.7\u001b[m\u001b[m@          \u001b[35m/usr/local/bin/python3.6\u001b[m\u001b[m@\r\n",
      "\u001b[35m/usr/local/bin/pydoc3\u001b[m\u001b[m@            \u001b[35m/usr/local/bin/python3.6-32\u001b[m\u001b[m@\r\n",
      "\u001b[35m/usr/local/bin/pydoc3.6\u001b[m\u001b[m@          \u001b[35m/usr/local/bin/python3.6-config\u001b[m\u001b[m@\r\n",
      "\u001b[31m/usr/local/bin/pygmentize\u001b[m\u001b[m*        \u001b[35m/usr/local/bin/python3.6m\u001b[m\u001b[m@\r\n",
      "\u001b[35m/usr/local/bin/python\u001b[m\u001b[m@            \u001b[35m/usr/local/bin/python3.6m-config\u001b[m\u001b[m@\r\n",
      "\u001b[35m/usr/local/bin/python-config\u001b[m\u001b[m@     \u001b[35m/usr/local/bin/pythonw\u001b[m\u001b[m@\r\n",
      "\u001b[35m/usr/local/bin/python2\u001b[m\u001b[m@           \u001b[35m/usr/local/bin/pythonw2\u001b[m\u001b[m@\r\n",
      "\u001b[35m/usr/local/bin/python2-config\u001b[m\u001b[m@    \u001b[35m/usr/local/bin/pythonw2.7\u001b[m\u001b[m@\r\n",
      "\u001b[35m/usr/local/bin/python2.7\u001b[m\u001b[m@         \u001b[35m/usr/local/bin/pyvenv\u001b[m\u001b[m@\r\n",
      "\u001b[35m/usr/local/bin/python2.7-config\u001b[m\u001b[m@  \u001b[35m/usr/local/bin/pyvenv-3.6\u001b[m\u001b[m@\r\n",
      "\u001b[35m/usr/local/bin/python3\u001b[m\u001b[m@\r\n"
     ]
    }
   ],
   "source": [
    "ls /usr/local/bin/py*"
   ]
  },
  {
   "cell_type": "markdown",
   "metadata": {},
   "source": [
    "These purple colored files are all symbolic links pointing to somewhere else inside the file system. It allows to make software accessible from different places, without the need to copy it."
   ]
  },
  {
   "cell_type": "code",
   "execution_count": 195,
   "metadata": {},
   "outputs": [
    {
     "name": "stdout",
     "output_type": "stream",
     "text": [
      "lrwxr-xr-x  1 root  wheel  71  5 avr 15:45 \u001b[35m/usr/local/bin/python3.6\u001b[m\u001b[m@ -> ../../../Library/Frameworks/Python.framework/Versions/3.6/bin/python3.6\r\n"
     ]
    }
   ],
   "source": [
    "ls -l /usr/local/bin/python3.6"
   ]
  },
  {
   "cell_type": "code",
   "execution_count": 198,
   "metadata": {},
   "outputs": [
    {
     "name": "stdout",
     "output_type": "stream",
     "text": [
      "total 0\r\n",
      "drwxrwxrwt   8 root     wheel   272 21 aoû  2017 \u001b[30m\u001b[42mShared\u001b[m\u001b[m/\r\n",
      "drwxr-xr-x+ 77 raphael  staff  2618  3 aoû 14:39 \u001b[34mraphael\u001b[m\u001b[m/\r\n"
     ]
    }
   ],
   "source": [
    "ls -l /Users/"
   ]
  },
  {
   "cell_type": "markdown",
   "metadata": {},
   "source": [
    "## Wildcard caracters"
   ]
  },
  {
   "cell_type": "markdown",
   "metadata": {},
   "source": [
    "The wildcard character `*` stands for zero or more caracters. It allows to make a selection according to a certain criteria. Let's make the `/bin` directory the current working directory"
   ]
  },
  {
   "cell_type": "code",
   "execution_count": 156,
   "metadata": {},
   "outputs": [
    {
     "name": "stdout",
     "output_type": "stream",
     "text": [
      "/bin\n"
     ]
    }
   ],
   "source": [
    "cd /bin"
   ]
  },
  {
   "cell_type": "markdown",
   "metadata": {},
   "source": [
    "These are the files found inside this directory."
   ]
  },
  {
   "cell_type": "code",
   "execution_count": 157,
   "metadata": {},
   "outputs": [
    {
     "name": "stdout",
     "output_type": "stream",
     "text": [
      "\u001b[31m[\u001b[m\u001b[m*          \u001b[31mdd\u001b[m\u001b[m*         \u001b[31mkill\u001b[m\u001b[m*       \u001b[31mmv\u001b[m\u001b[m*         \u001b[31msh\u001b[m\u001b[m*         \u001b[31mwait4path\u001b[m\u001b[m*\r\n",
      "\u001b[31mbash\u001b[m\u001b[m*       \u001b[31mdf\u001b[m\u001b[m*         \u001b[31mksh\u001b[m\u001b[m*        \u001b[31mpax\u001b[m\u001b[m*        \u001b[31msleep\u001b[m\u001b[m*      \u001b[31mzsh\u001b[m\u001b[m*\r\n",
      "\u001b[31mcat\u001b[m\u001b[m*        \u001b[31mdomainname\u001b[m\u001b[m* \u001b[31mlaunchctl\u001b[m\u001b[m*  \u001b[30m\u001b[41mps\u001b[m\u001b[m*         \u001b[31mstty\u001b[m\u001b[m*\r\n",
      "\u001b[31mchmod\u001b[m\u001b[m*      \u001b[31mecho\u001b[m\u001b[m*       \u001b[31mlink\u001b[m\u001b[m*       \u001b[31mpwd\u001b[m\u001b[m*        \u001b[31msync\u001b[m\u001b[m*\r\n",
      "\u001b[31mcp\u001b[m\u001b[m*         \u001b[31med\u001b[m\u001b[m*         \u001b[31mln\u001b[m\u001b[m*         \u001b[31mrcp\u001b[m\u001b[m*        \u001b[31mtcsh\u001b[m\u001b[m*\r\n",
      "\u001b[31mcsh\u001b[m\u001b[m*        \u001b[31mexpr\u001b[m\u001b[m*       \u001b[31mls\u001b[m\u001b[m*         \u001b[31mrm\u001b[m\u001b[m*         \u001b[31mtest\u001b[m\u001b[m*\r\n",
      "\u001b[31mdate\u001b[m\u001b[m*       \u001b[31mhostname\u001b[m\u001b[m*   \u001b[31mmkdir\u001b[m\u001b[m*      \u001b[31mrmdir\u001b[m\u001b[m*      \u001b[31munlink\u001b[m\u001b[m*\r\n"
     ]
    }
   ],
   "source": [
    "ls"
   ]
  },
  {
   "cell_type": "markdown",
   "metadata": {},
   "source": [
    "With the `*` wildcard character it's possible to display only the files starting with the letter c."
   ]
  },
  {
   "cell_type": "code",
   "execution_count": 158,
   "metadata": {},
   "outputs": [
    {
     "name": "stdout",
     "output_type": "stream",
     "text": [
      "\u001b[31mcat\u001b[m\u001b[m*   \u001b[31mchmod\u001b[m\u001b[m* \u001b[31mcp\u001b[m\u001b[m*    \u001b[31mcsh\u001b[m\u001b[m*\r\n"
     ]
    }
   ],
   "source": [
    "ls c*"
   ]
  },
  {
   "cell_type": "markdown",
   "metadata": {},
   "source": [
    "Or we can display only the files ending with the letter h."
   ]
  },
  {
   "cell_type": "code",
   "execution_count": 163,
   "metadata": {},
   "outputs": [
    {
     "name": "stdout",
     "output_type": "stream",
     "text": [
      "\u001b[31mbash\u001b[m\u001b[m*      \u001b[31mcsh\u001b[m\u001b[m*       \u001b[31mksh\u001b[m\u001b[m*       \u001b[31msh\u001b[m\u001b[m*        \u001b[31mtcsh\u001b[m\u001b[m*      \u001b[31mwait4path\u001b[m\u001b[m* \u001b[31mzsh\u001b[m\u001b[m*\r\n"
     ]
    }
   ],
   "source": [
    "ls *h"
   ]
  },
  {
   "cell_type": "markdown",
   "metadata": {},
   "source": [
    "The `?` wildcard character stands for exactly one character. With the following expression we can list all the files which have exactly 2 caracters."
   ]
  },
  {
   "cell_type": "code",
   "execution_count": 165,
   "metadata": {},
   "outputs": [
    {
     "name": "stdout",
     "output_type": "stream",
     "text": [
      "\u001b[31mcp\u001b[m\u001b[m* \u001b[31mdd\u001b[m\u001b[m* \u001b[31mdf\u001b[m\u001b[m* \u001b[31med\u001b[m\u001b[m* \u001b[31mln\u001b[m\u001b[m* \u001b[31mls\u001b[m\u001b[m* \u001b[31mmv\u001b[m\u001b[m* \u001b[30m\u001b[41mps\u001b[m\u001b[m* \u001b[31mrm\u001b[m\u001b[m* \u001b[31msh\u001b[m\u001b[m*\r\n"
     ]
    }
   ],
   "source": [
    "ls ??"
   ]
  },
  {
   "cell_type": "code",
   "execution_count": 167,
   "metadata": {},
   "outputs": [
    {
     "name": "stdout",
     "output_type": "stream",
     "text": [
      "-rwxr-xr-x  1 root  wheel    23520  9 jul  2016 \u001b[31mcat\u001b[m\u001b[m*\r\n",
      "-rwxr-xr-x  1 root  wheel   378624  9 jul  2016 \u001b[31mcsh\u001b[m\u001b[m*\r\n",
      "-r-xr-xr-x  1 root  wheel  1394432  9 jul  2016 \u001b[31mksh\u001b[m\u001b[m*\r\n",
      "-rwxr-xr-x  1 root  wheel   110800  9 jul  2016 \u001b[31mpax\u001b[m\u001b[m*\r\n",
      "-rwxr-xr-x  1 root  wheel    18176  9 jul  2016 \u001b[31mpwd\u001b[m\u001b[m*\r\n",
      "-r-xr-xr-x  1 root  wheel    29520  9 jul  2016 \u001b[31mrcp\u001b[m\u001b[m*\r\n",
      "-rwxr-xr-x  1 root  wheel   573600  9 jul  2016 \u001b[31mzsh\u001b[m\u001b[m*\r\n"
     ]
    }
   ],
   "source": [
    "ls -l ???"
   ]
  },
  {
   "cell_type": "code",
   "execution_count": null,
   "metadata": {},
   "outputs": [],
   "source": [
    "ls /bin/c"
   ]
  },
  {
   "cell_type": "markdown",
   "metadata": {},
   "source": [
    "## Moving inside the directory tree structure"
   ]
  },
  {
   "cell_type": "markdown",
   "metadata": {},
   "source": [
    "The command `pwd` (print working directory) prints the current directory. Initially this is the directry where this Jupyter notebook resides."
   ]
  },
  {
   "cell_type": "code",
   "execution_count": 105,
   "metadata": {},
   "outputs": [
    {
     "data": {
      "text/plain": [
       "'/Users/raphael/GitHub/oc-2018/nb/linux'"
      ]
     },
     "execution_count": 105,
     "metadata": {},
     "output_type": "execute_result"
    }
   ],
   "source": [
    "pwd"
   ]
  },
  {
   "cell_type": "markdown",
   "metadata": {},
   "source": [
    "The command `cd` (change directory) allows to change the current working directory to another directory. Notice that the TAB key allows for command completition."
   ]
  },
  {
   "cell_type": "code",
   "execution_count": 119,
   "metadata": {},
   "outputs": [
    {
     "name": "stdout",
     "output_type": "stream",
     "text": [
      "/Users/raphael/GitHub/oc-2018\n"
     ]
    }
   ],
   "source": [
    "cd /Users/raphael/GitHub/oc-2018/"
   ]
  },
  {
   "cell_type": "markdown",
   "metadata": {},
   "source": [
    "Let's use `pwd` again to display the new working directory."
   ]
  },
  {
   "cell_type": "code",
   "execution_count": 126,
   "metadata": {},
   "outputs": [
    {
     "data": {
      "text/plain": [
       "'/Users/raphael/GitHub'"
      ]
     },
     "execution_count": 126,
     "metadata": {},
     "output_type": "execute_result"
    }
   ],
   "source": [
    "pwd"
   ]
  },
  {
   "cell_type": "markdown",
   "metadata": {},
   "source": [
    "Without specifying a directory, the command `ls` lists the content of the current working directory."
   ]
  },
  {
   "cell_type": "code",
   "execution_count": 127,
   "metadata": {},
   "outputs": [
    {
     "name": "stdout",
     "output_type": "stream",
     "text": [
      "\u001b[34mBugnon\u001b[m\u001b[m/           \u001b[34mkivy\u001b[m\u001b[m/             \u001b[34mocinfo\u001b[m\u001b[m/\r\n",
      "\u001b[34marcade\u001b[m\u001b[m/           \u001b[34mminecraft@Bugnon\u001b[m\u001b[m/ \u001b[34mpygame\u001b[m\u001b[m/\r\n",
      "\u001b[34mdemo\u001b[m\u001b[m/             \u001b[34moc-2018\u001b[m\u001b[m/          \u001b[34mrasql\u001b[m\u001b[m/\r\n"
     ]
    }
   ],
   "source": [
    "ls"
   ]
  },
  {
   "cell_type": "markdown",
   "metadata": {},
   "source": [
    "The two dots `..` is a link to the parent directory."
   ]
  },
  {
   "cell_type": "code",
   "execution_count": 128,
   "metadata": {},
   "outputs": [
    {
     "name": "stdout",
     "output_type": "stream",
     "text": [
      "/Users/raphael\n"
     ]
    }
   ],
   "source": [
    "cd .."
   ]
  },
  {
   "cell_type": "code",
   "execution_count": 129,
   "metadata": {},
   "outputs": [
    {
     "name": "stdout",
     "output_type": "stream",
     "text": [
      "/Users\n"
     ]
    }
   ],
   "source": [
    "cd .."
   ]
  },
  {
   "cell_type": "markdown",
   "metadata": {},
   "source": [
    "The single dot `.` represents the current directory."
   ]
  },
  {
   "cell_type": "code",
   "execution_count": 131,
   "metadata": {},
   "outputs": [
    {
     "name": "stdout",
     "output_type": "stream",
     "text": [
      "\u001b[30m\u001b[42mShared\u001b[m\u001b[m/  \u001b[34mraphael\u001b[m\u001b[m/\r\n"
     ]
    }
   ],
   "source": [
    "ls ."
   ]
  },
  {
   "cell_type": "markdown",
   "metadata": {},
   "source": [
    "The tilda character `~` (alt+n) represents the home directory."
   ]
  },
  {
   "cell_type": "code",
   "execution_count": 135,
   "metadata": {},
   "outputs": [
    {
     "name": "stdout",
     "output_type": "stream",
     "text": [
      "/Users/raphael\n"
     ]
    }
   ],
   "source": [
    "cd ~"
   ]
  },
  {
   "cell_type": "markdown",
   "metadata": {},
   "source": [
    "For example we can move to the root directory `/` and list the home directory `~` without changing the current directory."
   ]
  },
  {
   "cell_type": "code",
   "execution_count": 145,
   "metadata": {},
   "outputs": [
    {
     "name": "stdout",
     "output_type": "stream",
     "text": [
      "/\n",
      "\u001b[34mDesktop\u001b[m\u001b[m/                     \u001b[34mPublic\u001b[m\u001b[m/\r\n",
      "\u001b[34mDocuments\u001b[m\u001b[m/                   \u001b[34mPycharmProjects\u001b[m\u001b[m/\r\n",
      "\u001b[34mDownloads\u001b[m\u001b[m/                   \u001b[34mSabine\u001b[m\u001b[m/\r\n",
      "\u001b[34mDropbox\u001b[m\u001b[m/                     \u001b[34mSites\u001b[m\u001b[m/\r\n",
      "\u001b[34mGitHub\u001b[m\u001b[m/                      \u001b[34m__pycache__\u001b[m\u001b[m/\r\n",
      "\u001b[34mGoogle Drive\u001b[m\u001b[m/                \u001b[34manaconda3\u001b[m\u001b[m/\r\n",
      "\u001b[34mLE2009641_pneumatics\u001b[m\u001b[m/        \u001b[34mdjango\u001b[m\u001b[m/\r\n",
      "\u001b[34mLibrary\u001b[m\u001b[m/                     \u001b[34mdwhelper\u001b[m\u001b[m/\r\n",
      "\u001b[34mMovies\u001b[m\u001b[m/                      \u001b[34mmysql-connector-java-5.1.37\u001b[m\u001b[m/\r\n",
      "\u001b[34mMusic\u001b[m\u001b[m/                       \u001b[34mtmp\u001b[m\u001b[m/\r\n",
      "\u001b[34mOneDrive\u001b[m\u001b[m/                    \u001b[34mworkspace-lejos\u001b[m\u001b[m/\r\n",
      "\u001b[34mPictures\u001b[m\u001b[m/                    \u001b[34mworkspace-scala\u001b[m\u001b[m/\r\n",
      "\u001b[34mPrezi\u001b[m\u001b[m/\r\n"
     ]
    }
   ],
   "source": [
    "%cd /\n",
    "%ls ~"
   ]
  },
  {
   "cell_type": "code",
   "execution_count": null,
   "metadata": {},
   "outputs": [],
   "source": []
  },
  {
   "cell_type": "markdown",
   "metadata": {},
   "source": [
    "## Date and time\n",
    "In a Linux terminal the command `date` prints the current date and time\n",
    "\n",
    " \n",
    "    $ date\n",
    "    Ven  3 aoû 2018 14:19:22 CEST\n",
    "    \n",
    "The command `cal` prints the current calendar month.\n",
    "\n",
    "    $ cal\n",
    "         Août 2018\n",
    "    Di Lu Ma Me Je Ve Sa\n",
    "              1  2  3  4\n",
    "     5  6  7  8  9 10 11\n",
    "    12 13 14 15 16 17 18\n",
    "    19 20 21 22 23 24 25\n",
    "    26 27 28 29 30 31\n",
    "\n",
    "Inside the Jupyter notebook these commands need to be prefixed with a `!`"
   ]
  },
  {
   "cell_type": "markdown",
   "metadata": {},
   "source": [
    "Display the current date and time."
   ]
  },
  {
   "cell_type": "code",
   "execution_count": 44,
   "metadata": {},
   "outputs": [
    {
     "name": "stdout",
     "output_type": "stream",
     "text": [
      "Ven  3 aoû 2018 14:03:21 CEST\r\n"
     ]
    }
   ],
   "source": [
    "!date"
   ]
  },
  {
   "cell_type": "markdown",
   "metadata": {},
   "source": [
    "Display the current calendar month."
   ]
  },
  {
   "cell_type": "code",
   "execution_count": 46,
   "metadata": {},
   "outputs": [
    {
     "name": "stdout",
     "output_type": "stream",
     "text": [
      "     Août 2018\r\n",
      "Di Lu Ma Me Je Ve Sa\r\n",
      "          1  2  3  4\r\n",
      " 5  6  7  8  9 10 11\r\n",
      "12 13 14 15 16 17 18\r\n",
      "19 20 21 22 23 24 25\r\n",
      "26 27 28 29 30 31\r\n",
      "\r\n"
     ]
    }
   ],
   "source": [
    "!cal"
   ]
  },
  {
   "cell_type": "markdown",
   "metadata": {},
   "source": [
    "Display the current calendar month in an alternative format with rows and columns inversed."
   ]
  },
  {
   "cell_type": "code",
   "execution_count": 73,
   "metadata": {},
   "outputs": [
    {
     "name": "stdout",
     "output_type": "stream",
     "text": [
      "    Août 2018\r\n",
      "Lu     6 13 20 27\r\n",
      "Ma     7 14 21 28\r\n",
      "Me  1  8 15 22 29\r\n",
      "Je  2  9 16 23 30\r\n",
      "Ve  3 10 17 24 31\r\n",
      "Sa  4 11 18 25\r\n",
      "Di  5 12 19 26\r\n"
     ]
    }
   ],
   "source": [
    "!ncal"
   ]
  },
  {
   "cell_type": "markdown",
   "metadata": {},
   "source": [
    "Display a calendar month for a specific month and year."
   ]
  },
  {
   "cell_type": "code",
   "execution_count": 74,
   "metadata": {},
   "outputs": [
    {
     "name": "stdout",
     "output_type": "stream",
     "text": [
      "    Janvier 2018\r\n",
      "Di Lu Ma Me Je Ve Sa\r\n",
      "    1  2  3  4  5  6\r\n",
      " 7  8  9 10 11 12 13\r\n",
      "14 15 16 17 18 19 20\r\n",
      "21 22 23 24 25 26 27\r\n",
      "28 29 30 31\r\n",
      "\r\n"
     ]
    }
   ],
   "source": [
    "!cal 1 2018"
   ]
  },
  {
   "cell_type": "markdown",
   "metadata": {},
   "source": [
    "Display the calendar for specific year."
   ]
  },
  {
   "cell_type": "code",
   "execution_count": 76,
   "metadata": {},
   "outputs": [
    {
     "name": "stdout",
     "output_type": "stream",
     "text": [
      "                             2018\r\n",
      "\r\n",
      "      Janvier               Février                 Mars\r\n",
      "Di Lu Ma Me Je Ve Sa  Di Lu Ma Me Je Ve Sa  Di Lu Ma Me Je Ve Sa\r\n",
      "    1  2  3  4  5  6               1  2  3               1  2  3\r\n",
      " 7  8  9 10 11 12 13   4  5  6  7  8  9 10   4  5  6  7  8  9 10\r\n",
      "14 15 16 17 18 19 20  11 12 13 14 15 16 17  11 12 13 14 15 16 17\r\n",
      "21 22 23 24 25 26 27  18 19 20 21 22 23 24  18 19 20 21 22 23 24\r\n",
      "28 29 30 31           25 26 27 28           25 26 27 28 29 30 31\r\n",
      "                                            \r\n",
      "       Avril                  Mai                   Juin\r\n",
      "Di Lu Ma Me Je Ve Sa  Di Lu Ma Me Je Ve Sa  Di Lu Ma Me Je Ve Sa\r\n",
      " 1  2  3  4  5  6  7         1  2  3  4  5                  1  2\r\n",
      " 8  9 10 11 12 13 14   6  7  8  9 10 11 12   3  4  5  6  7  8  9\r\n",
      "15 16 17 18 19 20 21  13 14 15 16 17 18 19  10 11 12 13 14 15 16\r\n",
      "22 23 24 25 26 27 28  20 21 22 23 24 25 26  17 18 19 20 21 22 23\r\n",
      "29 30                 27 28 29 30 31        24 25 26 27 28 29 30\r\n",
      "                                            \r\n",
      "      Juillet                 Août               Septembre\r\n",
      "Di Lu Ma Me Je Ve Sa  Di Lu Ma Me Je Ve Sa  Di Lu Ma Me Je Ve Sa\r\n",
      " 1  2  3  4  5  6  7            1  2  3  4                     1\r\n",
      " 8  9 10 11 12 13 14   5  6  7  8  9 10 11   2  3  4  5  6  7  8\r\n",
      "15 16 17 18 19 20 21  12 13 14 15 16 17 18   9 10 11 12 13 14 15\r\n",
      "22 23 24 25 26 27 28  19 20 21 22 23 24 25  16 17 18 19 20 21 22\r\n",
      "29 30 31              26 27 28 29 30 31     23 24 25 26 27 28 29\r\n",
      "                                            30\r\n",
      "      Octobre               Novembre              Décembre\r\n",
      "Di Lu Ma Me Je Ve Sa  Di Lu Ma Me Je Ve Sa  Di Lu Ma Me Je Ve Sa\r\n",
      "    1  2  3  4  5  6               1  2  3                     1\r\n",
      " 7  8  9 10 11 12 13   4  5  6  7  8  9 10   2  3  4  5  6  7  8\r\n",
      "14 15 16 17 18 19 20  11 12 13 14 15 16 17   9 10 11 12 13 14 15\r\n",
      "21 22 23 24 25 26 27  18 19 20 21 22 23 24  16 17 18 19 20 21 22\r\n",
      "28 29 30 31           25 26 27 28 29 30     23 24 25 26 27 28 29\r\n",
      "                                            30 31\r\n"
     ]
    }
   ],
   "source": [
    "!cal 2018"
   ]
  },
  {
   "cell_type": "markdown",
   "metadata": {},
   "source": [
    "Display the date of Eastern."
   ]
  },
  {
   "cell_type": "code",
   "execution_count": 77,
   "metadata": {},
   "outputs": [
    {
     "name": "stdout",
     "output_type": "stream",
     "text": [
      " 1 avril 2018\r\n"
     ]
    }
   ],
   "source": [
    "!ncal -e"
   ]
  },
  {
   "cell_type": "markdown",
   "metadata": {},
   "source": [
    "Print the calendar with the Julian days, days numbered from January 1."
   ]
  },
  {
   "cell_type": "code",
   "execution_count": 82,
   "metadata": {},
   "outputs": [
    {
     "name": "stdout",
     "output_type": "stream",
     "text": [
      "         Août 2018\r\n",
      " Di  Lu  Ma  Me  Je  Ve  Sa\r\n",
      "            213 214 215 216\r\n",
      "217 218 219 220 221 222 223\r\n",
      "224 225 226 227 228 229 230\r\n",
      "231 232 233 234 235 236 237\r\n",
      "238 239 240 241 242 243\r\n",
      "\r\n"
     ]
    }
   ],
   "source": [
    "!cal -j"
   ]
  },
  {
   "cell_type": "markdown",
   "metadata": {},
   "source": [
    "Print the calendar with the week number attached."
   ]
  },
  {
   "cell_type": "code",
   "execution_count": 296,
   "metadata": {},
   "outputs": [
    {
     "name": "stdout",
     "output_type": "stream",
     "text": [
      "    Août 2018\r\n",
      "Lu     6 13 20 27\r\n",
      "Ma     7 14 21 28\r\n",
      "Me  1  8 15 22 29\r\n",
      "Je  2  9 16 23 30\r\n",
      "Ve  3 10 17 24 31\r\n",
      "Sa  4 11 18 25\r\n",
      "Di  5 12 19 26\r\n",
      "   31 32 33 34 35\r\n"
     ]
    }
   ],
   "source": [
    "!ncal -w"
   ]
  },
  {
   "cell_type": "markdown",
   "metadata": {},
   "source": [
    "## Writing to files"
   ]
  },
  {
   "cell_type": "markdown",
   "metadata": {},
   "source": [
    "There are many different ways to write to a file. The Jupyter magic command `%writefile` writes the text on the following lines to the file."
   ]
  },
  {
   "cell_type": "code",
   "execution_count": 219,
   "metadata": {},
   "outputs": [
    {
     "name": "stdout",
     "output_type": "stream",
     "text": [
      "/Users/raphael/GitHub/oc-2018/nb/linux\n"
     ]
    }
   ],
   "source": [
    "cd GitHub/oc-2018/nb/linux/"
   ]
  },
  {
   "cell_type": "code",
   "execution_count": 221,
   "metadata": {},
   "outputs": [
    {
     "name": "stdout",
     "output_type": "stream",
     "text": [
      "Writing hello.txt\n"
     ]
    }
   ],
   "source": [
    "%%writefile hello.txt\n",
    "hello world"
   ]
  },
  {
   "cell_type": "markdown",
   "metadata": {},
   "source": [
    "Executing this command a second time, overwrites the previous content."
   ]
  },
  {
   "cell_type": "code",
   "execution_count": 222,
   "metadata": {},
   "outputs": [
    {
     "name": "stdout",
     "output_type": "stream",
     "text": [
      "Overwriting hello.txt\n"
     ]
    }
   ],
   "source": [
    "%%writefile hello.txt\n",
    "hello world!\n",
    "this is wonderful."
   ]
  },
  {
   "cell_type": "markdown",
   "metadata": {},
   "source": [
    "Different commands allow to see the contents. The `cat` command displays the content in the output cell."
   ]
  },
  {
   "cell_type": "code",
   "execution_count": 223,
   "metadata": {},
   "outputs": [
    {
     "name": "stdout",
     "output_type": "stream",
     "text": [
      "hello world!\r\n",
      "this is wonderful."
     ]
    }
   ],
   "source": [
    "cat hello.txt"
   ]
  },
  {
   "cell_type": "markdown",
   "metadata": {},
   "source": [
    "The `more` command opens a paged window. "
   ]
  },
  {
   "cell_type": "code",
   "execution_count": 227,
   "metadata": {},
   "outputs": [],
   "source": [
    "more hello.txt"
   ]
  },
  {
   "cell_type": "markdown",
   "metadata": {},
   "source": [
    "## The nano text editor"
   ]
  },
  {
   "cell_type": "markdown",
   "metadata": {},
   "source": [
    "In the terminal, the nano editor is quite convenient for creating simple files or do some quick editing. Launch the editor with the command\n",
    "    \n",
    "    $nano demo.txt\n",
    "    \n",
    "* add some text\n",
    "* quit with **ctrl+x**\n",
    "* confirm changes with **Y** end exit\n",
    "\n",
    "![nano](nano.png)\n",
    "\n",
    "Of course it's possible to open this file in a Jupyter cell with `%load`."
   ]
  },
  {
   "cell_type": "code",
   "execution_count": null,
   "metadata": {},
   "outputs": [],
   "source": [
    "%load demo.txt"
   ]
  },
  {
   "cell_type": "markdown",
   "metadata": {},
   "source": [
    ".. and then write it back using `%%writefile`"
   ]
  },
  {
   "cell_type": "code",
   "execution_count": 231,
   "metadata": {},
   "outputs": [
    {
     "name": "stdout",
     "output_type": "stream",
     "text": [
      "Overwriting demo.txt\n"
     ]
    }
   ],
   "source": [
    "%%writefile demo.txt\n",
    "This is the nano text editor.\n",
    "Add some more text"
   ]
  },
  {
   "cell_type": "markdown",
   "metadata": {},
   "source": [
    "Display the changed content."
   ]
  },
  {
   "cell_type": "code",
   "execution_count": 232,
   "metadata": {},
   "outputs": [
    {
     "name": "stdout",
     "output_type": "stream",
     "text": [
      "This is the nano text editor.\r\n",
      "Add some more text"
     ]
    }
   ],
   "source": [
    "cat demo.txt"
   ]
  },
  {
   "cell_type": "markdown",
   "metadata": {},
   "source": [
    "## Appending and redirecting text"
   ]
  },
  {
   "cell_type": "markdown",
   "metadata": {},
   "source": [
    "The `echo` command writes the console."
   ]
  },
  {
   "cell_type": "code",
   "execution_count": 233,
   "metadata": {},
   "outputs": [
    {
     "name": "stdout",
     "output_type": "stream",
     "text": [
      "hello world\r\n"
     ]
    }
   ],
   "source": [
    "!echo 'hello world'"
   ]
  },
  {
   "cell_type": "markdown",
   "metadata": {},
   "source": [
    "The `echo` command can also be used to print the values of shell variables (environment variables). They start with the `$` sign and are usually all uppercase."
   ]
  },
  {
   "cell_type": "code",
   "execution_count": 238,
   "metadata": {},
   "outputs": [
    {
     "name": "stdout",
     "output_type": "stream",
     "text": [
      "raphael\n",
      "/bin/bash\n"
     ]
    }
   ],
   "source": [
    "!echo $USER\n",
    "!echo $SHELL"
   ]
  },
  {
   "cell_type": "code",
   "execution_count": 239,
   "metadata": {},
   "outputs": [],
   "source": [
    "!echo 'hello world' > fileA.txt"
   ]
  },
  {
   "cell_type": "markdown",
   "metadata": {},
   "source": [
    "Let's read back the content of the file."
   ]
  },
  {
   "cell_type": "code",
   "execution_count": 241,
   "metadata": {},
   "outputs": [
    {
     "name": "stdout",
     "output_type": "stream",
     "text": [
      "hello world\r\n"
     ]
    }
   ],
   "source": [
    "cat fileA.txt"
   ]
  },
  {
   "cell_type": "markdown",
   "metadata": {},
   "source": [
    "With the `>` redirection symbol we can redirect text produced by any Unix command which would normaly appear at the console, to be redirected to a file."
   ]
  },
  {
   "cell_type": "code",
   "execution_count": 250,
   "metadata": {},
   "outputs": [],
   "source": [
    "!date > fileB.txt\n",
    "!cal > fileC.txt\n",
    "!ls -l > fileD.txt"
   ]
  },
  {
   "cell_type": "code",
   "execution_count": 246,
   "metadata": {},
   "outputs": [
    {
     "name": "stdout",
     "output_type": "stream",
     "text": [
      "Ven  3 aoû 2018 15:35:04 CEST\r\n"
     ]
    }
   ],
   "source": [
    "cat fileB.txt"
   ]
  },
  {
   "cell_type": "code",
   "execution_count": 247,
   "metadata": {},
   "outputs": [
    {
     "name": "stdout",
     "output_type": "stream",
     "text": [
      "     Août 2018\r\n",
      "Di Lu Ma Me Je Ve Sa\r\n",
      "          1  2  3  4\r\n",
      " 5  6  7  8  9 10 11\r\n",
      "12 13 14 15 16 17 18\r\n",
      "19 20 21 22 23 24 25\r\n",
      "26 27 28 29 30 31\r\n",
      "\r\n"
     ]
    }
   ],
   "source": [
    "cat fileC.txt"
   ]
  },
  {
   "cell_type": "code",
   "execution_count": 251,
   "metadata": {},
   "outputs": [
    {
     "name": "stdout",
     "output_type": "stream",
     "text": [
      "total 152\r\n",
      "-rw-r--r--  1 raphael  staff  33848  3 aoû 15:36 Linux.ipynb\r\n",
      "-rw-r--r--  1 raphael  staff     48  3 aoû 15:20 demo.txt\r\n",
      "drwxr-xr-x  2 raphael  staff     68  3 aoû 13:45 dirA\r\n",
      "drwxr-xr-x  2 raphael  staff     68  3 aoû 13:45 dirB\r\n",
      "-rw-r--r--  1 raphael  staff     12  3 aoû 15:33 fileA.txt\r\n",
      "-rw-r--r--  1 raphael  staff     31  3 aoû 15:37 fileB.txt\r\n",
      "-rw-r--r--  1 raphael  staff    140  3 aoû 15:37 fileC.txt\r\n",
      "-rw-r--r--  1 raphael  staff      0  3 aoû 15:37 fileD.txt\r\n",
      "-rw-r--r--  1 raphael  staff     31  3 aoû 15:10 hello.txt\r\n",
      "-rw-r--r--@ 1 raphael  staff  18708  3 aoû 15:15 nano.png\r\n"
     ]
    }
   ],
   "source": [
    "cat fileD.txt"
   ]
  },
  {
   "cell_type": "markdown",
   "metadata": {},
   "source": [
    "While the `>` operator replaces the content of an already existing file, the `>>` operator appends new content at the end of the existing file."
   ]
  },
  {
   "cell_type": "code",
   "execution_count": 253,
   "metadata": {},
   "outputs": [],
   "source": [
    "!date >> fileA.txt"
   ]
  },
  {
   "cell_type": "code",
   "execution_count": 254,
   "metadata": {},
   "outputs": [
    {
     "name": "stdout",
     "output_type": "stream",
     "text": [
      "hello world\r\n",
      "Ven  3 aoû 2018 15:39:07 CEST\r\n"
     ]
    }
   ],
   "source": [
    "cat fileA.txt"
   ]
  },
  {
   "cell_type": "code",
   "execution_count": 256,
   "metadata": {},
   "outputs": [
    {
     "name": "stdout",
     "output_type": "stream",
     "text": [
      "hello world\r\n",
      "Ven  3 aoû 2018 15:39:07 CEST\r\n",
      "add some more text\r\n"
     ]
    }
   ],
   "source": [
    "!echo 'add some more text' >> fileA.txt\n",
    "!cat fileA.txt"
   ]
  },
  {
   "cell_type": "markdown",
   "metadata": {},
   "source": [
    "The command `cat` (concatenate) prints one or multiple files to the console, which can also be redirected into a file."
   ]
  },
  {
   "cell_type": "code",
   "execution_count": 264,
   "metadata": {},
   "outputs": [],
   "source": [
    "!cat fileA.txt >> fileB.txt"
   ]
  },
  {
   "cell_type": "code",
   "execution_count": 265,
   "metadata": {},
   "outputs": [
    {
     "name": "stdout",
     "output_type": "stream",
     "text": [
      "Ven  3 aoû 2018 15:37:39 CEST\r\n",
      "hello world\r\n",
      "Ven  3 aoû 2018 15:39:07 CEST\r\n",
      "add some more text\r\n"
     ]
    }
   ],
   "source": [
    "cat fileB.txt"
   ]
  },
  {
   "cell_type": "markdown",
   "metadata": {},
   "source": [
    "## Creating and deleting directories"
   ]
  },
  {
   "cell_type": "markdown",
   "metadata": {},
   "source": [
    "The command `mkdir` (make directory) creates a directory."
   ]
  },
  {
   "cell_type": "markdown",
   "metadata": {},
   "source": [
    "mkdir dirA"
   ]
  },
  {
   "cell_type": "markdown",
   "metadata": {},
   "source": [
    "An error message is produced when the directory exists already."
   ]
  },
  {
   "cell_type": "code",
   "execution_count": 270,
   "metadata": {},
   "outputs": [
    {
     "name": "stdout",
     "output_type": "stream",
     "text": [
      "mkdir: dirA: File exists\r\n"
     ]
    }
   ],
   "source": [
    "mkdir dirA"
   ]
  },
  {
   "cell_type": "markdown",
   "metadata": {},
   "source": [
    "The command `rmdir` (remove directory) removes a directory if it is empty."
   ]
  },
  {
   "cell_type": "markdown",
   "metadata": {},
   "source": [
    "rmdir dirA"
   ]
  },
  {
   "cell_type": "code",
   "execution_count": 273,
   "metadata": {},
   "outputs": [
    {
     "name": "stdout",
     "output_type": "stream",
     "text": [
      "Linux.ipynb  fileA.txt    fileC.txt    hello.txt\r\n",
      "demo.txt     fileB.txt    fileD.txt    nano.png\r\n"
     ]
    }
   ],
   "source": [
    "ls"
   ]
  },
  {
   "cell_type": "markdown",
   "metadata": {},
   "source": [
    "Multiple directories can be created at once."
   ]
  },
  {
   "cell_type": "code",
   "execution_count": 275,
   "metadata": {},
   "outputs": [],
   "source": [
    "mkdir dirA dirB dirC"
   ]
  },
  {
   "cell_type": "code",
   "execution_count": 276,
   "metadata": {},
   "outputs": [
    {
     "name": "stdout",
     "output_type": "stream",
     "text": [
      "Linux.ipynb  \u001b[34mdirA\u001b[m\u001b[m/        \u001b[34mdirC\u001b[m\u001b[m/        fileB.txt    fileD.txt    nano.png\r\n",
      "demo.txt     \u001b[34mdirB\u001b[m\u001b[m/        fileA.txt    fileC.txt    hello.txt\r\n"
     ]
    }
   ],
   "source": [
    "ls"
   ]
  },
  {
   "cell_type": "markdown",
   "metadata": {},
   "source": [
    "## Moving files and directories"
   ]
  },
  {
   "cell_type": "markdown",
   "metadata": {},
   "source": [
    "The `tree` command shows the hierarchical tree structure of files. On some systems this command needs to be installed separately. For example on MacOS it can be installed with the package manager **Homebrew** using the following command\n",
    "\n",
    "    $brew install tree\n",
    "\n",
    "Right now all files are on the same first level."
   ]
  },
  {
   "cell_type": "code",
   "execution_count": 280,
   "metadata": {},
   "outputs": [
    {
     "name": "stdout",
     "output_type": "stream",
     "text": [
      ".\r\n",
      "├── Linux.ipynb\r\n",
      "├── demo.txt\r\n",
      "├── dirA\r\n",
      "├── dirB\r\n",
      "├── dirC\r\n",
      "├── fileA.txt\r\n",
      "├── fileB.txt\r\n",
      "├── fileC.txt\r\n",
      "├── fileD.txt\r\n",
      "├── hello.txt\r\n",
      "└── nano.png\r\n",
      "\r\n",
      "3 directories, 8 files\r\n"
     ]
    }
   ],
   "source": [
    "!tree"
   ]
  },
  {
   "cell_type": "markdown",
   "metadata": {},
   "source": [
    "The `mv` command allows to move files and directories. Multiple files can be moved to a directory. The last argument must be the distination directory."
   ]
  },
  {
   "cell_type": "code",
   "execution_count": 282,
   "metadata": {},
   "outputs": [],
   "source": [
    "mv fileA.txt fileB.txt dirA"
   ]
  },
  {
   "cell_type": "code",
   "execution_count": 284,
   "metadata": {},
   "outputs": [
    {
     "name": "stdout",
     "output_type": "stream",
     "text": [
      ".\r\n",
      "├── Linux.ipynb\r\n",
      "├── demo.txt\r\n",
      "├── dirA\r\n",
      "│   ├── fileA.txt\r\n",
      "│   └── fileB.txt\r\n",
      "├── dirB\r\n",
      "├── dirC\r\n",
      "├── fileC.txt\r\n",
      "├── fileD.txt\r\n",
      "├── hello.txt\r\n",
      "└── nano.png\r\n",
      "\r\n",
      "3 directories, 8 files\r\n"
     ]
    }
   ],
   "source": [
    "!tree"
   ]
  },
  {
   "cell_type": "markdown",
   "metadata": {},
   "source": [
    "Lets move some more files and directories and look at the result."
   ]
  },
  {
   "cell_type": "code",
   "execution_count": 285,
   "metadata": {},
   "outputs": [],
   "source": [
    "!mv hello.txt dirB\n",
    "!mv fileC.txt fileD.txt dirC/\n",
    "!mv dirC dirB"
   ]
  },
  {
   "cell_type": "code",
   "execution_count": 287,
   "metadata": {},
   "outputs": [
    {
     "name": "stdout",
     "output_type": "stream",
     "text": [
      ".\r\n",
      "├── Linux.ipynb\r\n",
      "├── demo.txt\r\n",
      "├── dirA\r\n",
      "│   ├── fileA.txt\r\n",
      "│   └── fileB.txt\r\n",
      "├── dirB\r\n",
      "│   ├── dirC\r\n",
      "│   │   ├── fileC.txt\r\n",
      "│   │   └── fileD.txt\r\n",
      "│   └── hello.txt\r\n",
      "└── nano.png\r\n",
      "\r\n",
      "3 directories, 8 files\r\n"
     ]
    }
   ],
   "source": [
    "!tree"
   ]
  },
  {
   "cell_type": "markdown",
   "metadata": {},
   "source": [
    "The `mv` command can also be used to rename files and directories."
   ]
  },
  {
   "cell_type": "code",
   "execution_count": 288,
   "metadata": {},
   "outputs": [],
   "source": [
    "mv dirA/ NEW-DirA"
   ]
  },
  {
   "cell_type": "code",
   "execution_count": 289,
   "metadata": {},
   "outputs": [],
   "source": [
    "mv dirB/hello.txt dirB/NEW-hello.txt"
   ]
  },
  {
   "cell_type": "code",
   "execution_count": 291,
   "metadata": {},
   "outputs": [
    {
     "name": "stdout",
     "output_type": "stream",
     "text": [
      ".\r\n",
      "├── Linux.ipynb\r\n",
      "├── NEW-DirA\r\n",
      "│   ├── fileA.txt\r\n",
      "│   └── fileB.txt\r\n",
      "├── demo.txt\r\n",
      "├── dirB\r\n",
      "│   ├── NEW-hello.txt\r\n",
      "│   └── dirC\r\n",
      "│       ├── fileC.txt\r\n",
      "│       └── fileD.txt\r\n",
      "└── nano.png\r\n",
      "\r\n",
      "3 directories, 8 files\r\n"
     ]
    }
   ],
   "source": [
    "!tree"
   ]
  }
 ],
 "metadata": {
  "kernelspec": {
   "display_name": "Python 3",
   "language": "python",
   "name": "python3"
  },
  "language_info": {
   "codemirror_mode": {
    "name": "ipython",
    "version": 3
   },
   "file_extension": ".py",
   "mimetype": "text/x-python",
   "name": "python",
   "nbconvert_exporter": "python",
   "pygments_lexer": "ipython3",
   "version": "3.6.5"
  },
  "toc": {
   "base_numbering": 1,
   "nav_menu": {},
   "number_sections": true,
   "sideBar": true,
   "skip_h1_title": false,
   "title_cell": "Table of Contents",
   "title_sidebar": "Contents",
   "toc_cell": false,
   "toc_position": {},
   "toc_section_display": true,
   "toc_window_display": true
  }
 },
 "nbformat": 4,
 "nbformat_minor": 2
}
